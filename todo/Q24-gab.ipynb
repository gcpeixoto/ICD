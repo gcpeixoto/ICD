{
 "cells": [
  {
   "cell_type": "markdown",
   "id": "70a2bd16",
   "metadata": {},
   "source": [
    "## Questionário Q24"
   ]
  },
  {
   "cell_type": "markdown",
   "id": "bafa7794",
   "metadata": {},
   "source": [
    "Orientações: \n",
    "\n",
    "- Registre suas respostas no questionário de mesmo nome no SIGAA.\n",
    "- O tempo de registro das respostas no questionário será de 10 minutos. Portanto, resolva primeiro as questões e depois registre-as.\n",
    "- Haverá apenas 1 (uma) tentativa de resposta.\n",
    "- Submeta seu arquivo-fonte (utilizado para resolver as questões) em formato _.ipynb_ pelo SIGAA anexando-a à Tarefa denominada \"Envio de arquivo\" correspondente ao questionário.\n",
    "\n",
    "*Nota:* o arquivo-fonte será utilizado apenas como prova de execução da tarefa. Nenhuma avaliação será feita quanto ao estilo de programação.\n",
    "<hr>"
   ]
  },
  {
   "cell_type": "markdown",
   "id": "02864fa8",
   "metadata": {},
   "source": [
    "**Questão 1.** A ESPN forneceu o censo completo dos jogadores da copa de 2018. O arquivo <a href=\"data/copa2018.npy\" download=\"data/copa2018.npy\">copa2018.npy</a> contém uma tabela de peso, altura e idade de cada um desses atletas.  Com base nesses dados, crie os _arrays_ `altura`, `idade` e `peso`. Por fim, defina um _dict_ que associe esses dados aos respectivos jogadores.\n",
    "\n",
    "O _Índice de Massa Corpórea_ (IMC) é usado para saber se um indivíduo está no peso ideal. Ele é definido pela fórmula:\n",
    "\n",
    "$$IMC = \\frac{M}{A^2},$$\n",
    "\n",
    "onde $M$ é a massa (considere quilogramas) do indivíduo e $A$ é a sua altura (considere metros).\n",
    "\n",
    "Determine quantos jogadores possuem $IMC$ menor do que 21.7 e quantos possuem $IMC$ maior do que 21.9. Em seguida, assinale a alternativa que, nesta ordem, é a correta.\n",
    "\n",
    "A. 7 e 16\n",
    "\n",
    "B. 7 e 12\n",
    "\n",
    "C. 6 e 17\n",
    "\n",
    "D. 5 e 14\n",
    "\n",
    "**Dica:** Use a função do *numpy* `load('...')`, com a opção `allow_pickle=True` e manipule o _array_ bidimensional."
   ]
  },
  {
   "cell_type": "markdown",
   "id": "f7ebe73d",
   "metadata": {},
   "source": [
    "<hr>\n",
    "\n",
    "## Gabarito\n",
    "Alternativa **B**\n",
    "\n",
    "**_Obs_**: Os alunos provalmente vão fazer tudo na mão, o senhor tem a opção de disponibilizar o dataset ou fazer com que eles corram atrás, fiz usando ferramentas mais avançadas para facilitar pra mim, tenho ciência que eles não vão fazer dessa forma."
   ]
  },
  {
   "cell_type": "code",
   "execution_count": 1,
   "id": "68c17c6a",
   "metadata": {},
   "outputs": [],
   "source": [
    "import numpy as np\n",
    "import pandas as pd"
   ]
  },
  {
   "cell_type": "code",
   "execution_count": 2,
   "id": "f17498d5",
   "metadata": {},
   "outputs": [],
   "source": [
    "ws = pd.read_html(\"https://www.espn.com.br/artigo/_/id/4310177/selecao-brasileira-veja-o-censo-completo-dos-jogadores-que-vao-a-copa\")"
   ]
  },
  {
   "cell_type": "code",
   "execution_count": 3,
   "id": "d9aec80e",
   "metadata": {},
   "outputs": [],
   "source": [
    "#As tabelas no site estão em ordem crescente de acordo com os atributos, vamos alterar e deixar de acordo com os nomes\n",
    "ws0 = ws[0].sort_values(by=['Jogador'], ignore_index=True)\n",
    "ws1 = ws[1].sort_values(by=['Jogador'], ignore_index=True)\n",
    "ws2 = ws[2].sort_values(by=['Jogador'], ignore_index=True)"
   ]
  },
  {
   "cell_type": "code",
   "execution_count": 4,
   "id": "24ec8de4",
   "metadata": {},
   "outputs": [
    {
     "data": {
      "text/html": [
       "<div>\n",
       "<style scoped>\n",
       "    .dataframe tbody tr th:only-of-type {\n",
       "        vertical-align: middle;\n",
       "    }\n",
       "\n",
       "    .dataframe tbody tr th {\n",
       "        vertical-align: top;\n",
       "    }\n",
       "\n",
       "    .dataframe thead th {\n",
       "        text-align: right;\n",
       "    }\n",
       "</style>\n",
       "<table border=\"1\" class=\"dataframe\">\n",
       "  <thead>\n",
       "    <tr style=\"text-align: right;\">\n",
       "      <th></th>\n",
       "      <th>Jogador</th>\n",
       "      <th>Altura</th>\n",
       "      <th>Peso</th>\n",
       "      <th>Idade</th>\n",
       "    </tr>\n",
       "  </thead>\n",
       "  <tbody>\n",
       "    <tr>\n",
       "      <th>0</th>\n",
       "      <td>Alisson</td>\n",
       "      <td>1.91</td>\n",
       "      <td>85</td>\n",
       "      <td>25</td>\n",
       "    </tr>\n",
       "    <tr>\n",
       "      <th>1</th>\n",
       "      <td>Casemiro</td>\n",
       "      <td>1.84</td>\n",
       "      <td>81</td>\n",
       "      <td>26</td>\n",
       "    </tr>\n",
       "    <tr>\n",
       "      <th>2</th>\n",
       "      <td>Cássio</td>\n",
       "      <td>1.95</td>\n",
       "      <td>89</td>\n",
       "      <td>31</td>\n",
       "    </tr>\n",
       "    <tr>\n",
       "      <th>3</th>\n",
       "      <td>Danilo</td>\n",
       "      <td>1.84</td>\n",
       "      <td>74</td>\n",
       "      <td>26</td>\n",
       "    </tr>\n",
       "    <tr>\n",
       "      <th>4</th>\n",
       "      <td>Douglas Costa</td>\n",
       "      <td>1.72</td>\n",
       "      <td>66</td>\n",
       "      <td>27</td>\n",
       "    </tr>\n",
       "    <tr>\n",
       "      <th>5</th>\n",
       "      <td>Ederson</td>\n",
       "      <td>1.86</td>\n",
       "      <td>84</td>\n",
       "      <td>24</td>\n",
       "    </tr>\n",
       "    <tr>\n",
       "      <th>6</th>\n",
       "      <td>Fagner</td>\n",
       "      <td>1.68</td>\n",
       "      <td>58</td>\n",
       "      <td>29</td>\n",
       "    </tr>\n",
       "    <tr>\n",
       "      <th>7</th>\n",
       "      <td>Fernandinho</td>\n",
       "      <td>1.77</td>\n",
       "      <td>67</td>\n",
       "      <td>33</td>\n",
       "    </tr>\n",
       "    <tr>\n",
       "      <th>8</th>\n",
       "      <td>Filipe Luis</td>\n",
       "      <td>1.82</td>\n",
       "      <td>74</td>\n",
       "      <td>32</td>\n",
       "    </tr>\n",
       "    <tr>\n",
       "      <th>9</th>\n",
       "      <td>Firmino</td>\n",
       "      <td>1.81</td>\n",
       "      <td>74</td>\n",
       "      <td>26</td>\n",
       "    </tr>\n",
       "    <tr>\n",
       "      <th>10</th>\n",
       "      <td>Fred</td>\n",
       "      <td>1.69</td>\n",
       "      <td>57</td>\n",
       "      <td>25</td>\n",
       "    </tr>\n",
       "    <tr>\n",
       "      <th>11</th>\n",
       "      <td>Gabriel Jesus</td>\n",
       "      <td>1.75</td>\n",
       "      <td>67</td>\n",
       "      <td>21</td>\n",
       "    </tr>\n",
       "    <tr>\n",
       "      <th>12</th>\n",
       "      <td>Geromel</td>\n",
       "      <td>1.90</td>\n",
       "      <td>78</td>\n",
       "      <td>32</td>\n",
       "    </tr>\n",
       "    <tr>\n",
       "      <th>13</th>\n",
       "      <td>Marcelo</td>\n",
       "      <td>1.74</td>\n",
       "      <td>67</td>\n",
       "      <td>30</td>\n",
       "    </tr>\n",
       "    <tr>\n",
       "      <th>14</th>\n",
       "      <td>Marquinhos</td>\n",
       "      <td>1.83</td>\n",
       "      <td>73</td>\n",
       "      <td>24</td>\n",
       "    </tr>\n",
       "    <tr>\n",
       "      <th>15</th>\n",
       "      <td>Miranda</td>\n",
       "      <td>1.86</td>\n",
       "      <td>78</td>\n",
       "      <td>33</td>\n",
       "    </tr>\n",
       "    <tr>\n",
       "      <th>16</th>\n",
       "      <td>Neymar</td>\n",
       "      <td>1.74</td>\n",
       "      <td>59</td>\n",
       "      <td>26</td>\n",
       "    </tr>\n",
       "    <tr>\n",
       "      <th>17</th>\n",
       "      <td>Paulinho</td>\n",
       "      <td>1.82</td>\n",
       "      <td>75</td>\n",
       "      <td>29</td>\n",
       "    </tr>\n",
       "    <tr>\n",
       "      <th>18</th>\n",
       "      <td>Philippe Coutinho</td>\n",
       "      <td>1.71</td>\n",
       "      <td>61</td>\n",
       "      <td>26</td>\n",
       "    </tr>\n",
       "    <tr>\n",
       "      <th>19</th>\n",
       "      <td>Renato Augusto</td>\n",
       "      <td>1.86</td>\n",
       "      <td>80</td>\n",
       "      <td>30</td>\n",
       "    </tr>\n",
       "    <tr>\n",
       "      <th>20</th>\n",
       "      <td>Taison</td>\n",
       "      <td>1.72</td>\n",
       "      <td>64</td>\n",
       "      <td>30</td>\n",
       "    </tr>\n",
       "    <tr>\n",
       "      <th>21</th>\n",
       "      <td>Thiago Silva</td>\n",
       "      <td>1.83</td>\n",
       "      <td>77</td>\n",
       "      <td>33</td>\n",
       "    </tr>\n",
       "    <tr>\n",
       "      <th>22</th>\n",
       "      <td>Willian</td>\n",
       "      <td>1.74</td>\n",
       "      <td>66</td>\n",
       "      <td>29</td>\n",
       "    </tr>\n",
       "  </tbody>\n",
       "</table>\n",
       "</div>"
      ],
      "text/plain": [
       "              Jogador  Altura  Peso  Idade\n",
       "0             Alisson    1.91    85     25\n",
       "1            Casemiro    1.84    81     26\n",
       "2              Cássio    1.95    89     31\n",
       "3              Danilo    1.84    74     26\n",
       "4       Douglas Costa    1.72    66     27\n",
       "5             Ederson    1.86    84     24\n",
       "6              Fagner    1.68    58     29\n",
       "7         Fernandinho    1.77    67     33\n",
       "8         Filipe Luis    1.82    74     32\n",
       "9             Firmino    1.81    74     26\n",
       "10               Fred    1.69    57     25\n",
       "11      Gabriel Jesus    1.75    67     21\n",
       "12            Geromel    1.90    78     32\n",
       "13            Marcelo    1.74    67     30\n",
       "14         Marquinhos    1.83    73     24\n",
       "15            Miranda    1.86    78     33\n",
       "16             Neymar    1.74    59     26\n",
       "17           Paulinho    1.82    75     29\n",
       "18  Philippe Coutinho    1.71    61     26\n",
       "19     Renato Augusto    1.86    80     30\n",
       "20             Taison    1.72    64     30\n",
       "21       Thiago Silva    1.83    77     33\n",
       "22            Willian    1.74    66     29"
      ]
     },
     "execution_count": 4,
     "metadata": {},
     "output_type": "execute_result"
    }
   ],
   "source": [
    "#criando dataframe único com atributos\n",
    "db = ws0\n",
    "db[\"Peso\"] = ws1[\"Peso\"]\n",
    "db['Idade'] = ws2[\"Idade\"]\n",
    "db"
   ]
  },
  {
   "cell_type": "code",
   "execution_count": 5,
   "id": "bc193a58",
   "metadata": {
    "scrolled": true
   },
   "outputs": [
    {
     "data": {
      "text/plain": [
       "'7 // 12'"
      ]
     },
     "execution_count": 5,
     "metadata": {},
     "output_type": "execute_result"
    }
   ],
   "source": [
    "altura = np.array(db[\"Altura\"])\n",
    "peso = np.array(db[\"Peso\"])\n",
    "idade = np.array(db[\"Idade\"])\n",
    "\n",
    "IMC = np.array(list(map(lambda x,y: x/y**2, peso,altura)))\n",
    "\n",
    "grupo1 = [IMC < 21.7]\n",
    "grupo2 = [IMC > 21.9]\n",
    "\n",
    "count_true = len([_ for _ in grupo1[0] if _ == True in grupo1[0]])\n",
    "count_false = len([_ for _ in grupo2[0] if _ == True in grupo1[0]])\n",
    "f'{count_true} // {count_false}'"
   ]
  },
  {
   "cell_type": "markdown",
   "id": "3f015a33",
   "metadata": {},
   "source": [
    "**Questão 2.** A _Taxa Metabólica Basal_ (TMB) é a quantidade mínima de energia que o ser humano, em repouso, precisa para sobreviver. A _Equação de Mifflin - St. Jeor_ para calcular a TMB em kcal/dia (quilocalorias por dia) de pessoas do sexo masculino é dada por:\n",
    "\n",
    "$$TMB = 10M + 6.25A-5I+5,$$\n",
    "\n",
    "onde $M$ é a massa do indivíduo, $A$ sua altura e $I$ sua idade.\n",
    "\n",
    "[[Fonte: Wiikipedia]](https://en.wikipedia.org/wiki/Basal_metabolic_rate)\n",
    "\n",
    "Calcule a energia necessária total para a manutenção vital de todos os jogadores da seleção de 2018 durante um ano inteiro, isto é, a TMB anual. Considere 1 ano = 365 dias.\n",
    "\n",
    "Calcule a TMB anual necessária para a manutenção vital de todos os jogadores da seleção de 2018 durante o quinquênio 2020 - 2024. Assuma que: \n",
    "\n",
    "- 1 ano = 365 dias;\n",
    "- o período inicia-se em 1 de janeiro de 2020 e \n",
    "- a escalação do time permaneça inalterada no período.\n",
    "\n",
    "Marque a alternativa que, corretamente, reporta a TMB total da equipe para os anos de 2022 e 2024. \n",
    "\n",
    "A. 2022: 4922219.625, 2024: 4838039.625\n",
    "\n",
    "B. 2022: 4992720.9375, 2024: 4992720.9375\n",
    "\n",
    "C. 2022: 4824820.9375, 2024: 4782845.9375\n",
    "\n",
    "D. 2022: 4824820.9375, 2024: 4740870.9375"
   ]
  },
  {
   "cell_type": "markdown",
   "id": "5406bc08",
   "metadata": {},
   "source": [
    "<hr>\n",
    "\n",
    "## Gabarito\n",
    "Alternativa **D**\n"
   ]
  },
  {
   "cell_type": "code",
   "execution_count": 6,
   "id": "a0f48a22",
   "metadata": {},
   "outputs": [
    {
     "data": {
      "text/plain": [
       "4992720.9375"
      ]
     },
     "execution_count": 6,
     "metadata": {},
     "output_type": "execute_result"
    }
   ],
   "source": [
    "#E um ano\n",
    "year = 365\n",
    "TMB_eq = np.sum(list(map(lambda m,a,i: (10*m) + (6.25*a) - (5*i)+5, peso,altura,idade)))*365\n",
    "TMB_eq"
   ]
  },
  {
   "cell_type": "code",
   "execution_count": 7,
   "id": "790c808a",
   "metadata": {},
   "outputs": [
    {
     "data": {
      "text/plain": [
       "{2020: 4992720.9375,\n",
       " 2021: 4950745.9375,\n",
       " 2022: 4908770.9375,\n",
       " 2023: 4866795.9375,\n",
       " 2024: 4824820.9375}"
      ]
     },
     "execution_count": 7,
     "metadata": {},
     "output_type": "execute_result"
    }
   ],
   "source": [
    "#Durante 5 anos\n",
    "TMB = {}\n",
    "for i in range(5):\n",
    "    TMB[2020+i] = np.sum(365*np.sum(list(map(lambda m,a,i: (10*m) + (6.25*a) - (5*i)+5, peso,altura,idade+i)))) # kcal necessárias por ano para o time\n",
    "TMB"
   ]
  },
  {
   "cell_type": "markdown",
   "id": "4826c937",
   "metadata": {},
   "source": [
    "**Questão 3:** O movimento executado por uma bola de futebol ao ser chutada a partir do campo por um jogador é similar ao movimento parabólico de um projétil. A velocidade da bola $V_b$ pode ser calculada pela expressão:\n",
    "\n",
    "$$V_b = V_p\\left( \\dfrac{M_p}{M_p + M_b} \\right)(1 + e),$$\n",
    "\n",
    "onde $V_p$ é a velocidade da perna do chutador, $M_p$ é a massa da perna do chutador, $M_b$ é a massa da bola e $e$ é o *coeficiente de restituição* da bola. \n",
    "\n",
    "O alcance $a$ é a medida horizontal máxima que a bola atinge a partir do ponto de lançamento de acordo com um certo ângulo em que é lançada. Como conhecemos da Física Básica, a fórmula para o alcance é dada por: \n",
    "\n",
    "$$a = \\dfrac{V_b^2\\textrm{sen}(2\\alpha)}{g}$$\n",
    "\n",
    "Diante disso, considere os seguintes dados: \n",
    "\n",
    "- A massa da bola de futebol profissional é de 400 gramas e seu coeficiente de restituição é 0.7.\n",
    "- A massa da perna de um jogador equivale a 20% de sua massa.\n",
    "- A velocidade da perna de um jogador é de 20 m/s.\n",
    "- A constante gravitacional equivale a 9.8 m/s<sup>2</sup>.\n",
    "\n",
    "Assuma que um campo de futebol profissional \"padrão FIFA\" possui área de 100 x 68 m<sup>2</sup>. Além disso, defina um *Whole-Field Kicker* (WFK) o jogador que, chutando uma bola a um ângulo de 45 graus, consegue transportá-la de gol a gol, ou seja de uma linha de fundo a outra, e como *Not Whole-Field Kicker* (not WFK) aquele que não consegue realizar esta proeza.\n",
    "\n",
    "Usando os dados disponíveis na tabela dos jogadores da seleção de 2018, assinale a alternativa que contém o nome: do  melhor WFK do time (quem chuta mais longe) e do pior Not WFK.\n",
    "\n",
    "[[Fonte: Physics of Kicking a Soccer Ball]](http://www.mathematicshed.com/uploads/1/2/5/7/12572836/physicsofkickingsoccerball.pdf)\n",
    "\n",
    "\n",
    "A. Alisson / William\n",
    "\n",
    "B. Ederson / Neymar\n",
    "\n",
    "C. Cássio / Fred\n",
    "\n",
    "D. Ederson / Fagner"
   ]
  },
  {
   "cell_type": "markdown",
   "id": "df44c2c6",
   "metadata": {},
   "source": [
    "<hr>\n",
    "\n",
    "## Gabarito\n",
    "\n",
    "Alternativa **C**"
   ]
  },
  {
   "cell_type": "code",
   "execution_count": 15,
   "id": "5bc7e5ff",
   "metadata": {},
   "outputs": [],
   "source": [
    "# vp: velocidade da perna do jogador (fixa: 20 m/s)\n",
    "# mp: massa da perna do jogador (10% da massa do jogador)\n",
    "# e: coeficiente de restituição da bola (média da bola oficial: 0.7)\n",
    "# mb: massa da bola de futebol oficial (mb = 0.4 kg)\n",
    "# alpha: angulo de lançamento da bola (chute)\n",
    "# g: constante gravitacional (9.8 m/s2)\n",
    "\n",
    "# velocidade da bola em m/s\n",
    "vb = lambda vp,mp,mb,e: vp*(mp/(mp + mb))*(1 + e)\n",
    "\n",
    "# formula do alcance: movimento projetil\n",
    "alcance = lambda vb, alpha, g: vb**2*np.sin(2*alpha)/g\n",
    "\n",
    "# Considere o campo FIFA: 100 m x 68 m\n",
    "\n",
    "e = 0.7\n",
    "vp = 20.0\n",
    "mb = 0.4\n",
    "g = 9.8\n",
    "alpha = 45\n",
    "\n",
    "MP = 0.2*db[\"Peso\"] # massas perna\n",
    "VB = vb(vp,MP,mb,e) # vels bola\n",
    "ALC = alcance(VB,alpha,g)\n",
    "\n",
    "# quais jogadores conseguem um 'chute de campo inteiro'\n",
    "kicker = ALC >= 100\n",
    "\n",
    "db[\"Alcance\"] = ALC"
   ]
  },
  {
   "cell_type": "code",
   "execution_count": 16,
   "id": "40a69e8f",
   "metadata": {},
   "outputs": [
    {
     "data": {
      "text/html": [
       "<div>\n",
       "<style scoped>\n",
       "    .dataframe tbody tr th:only-of-type {\n",
       "        vertical-align: middle;\n",
       "    }\n",
       "\n",
       "    .dataframe tbody tr th {\n",
       "        vertical-align: top;\n",
       "    }\n",
       "\n",
       "    .dataframe thead th {\n",
       "        text-align: right;\n",
       "    }\n",
       "</style>\n",
       "<table border=\"1\" class=\"dataframe\">\n",
       "  <thead>\n",
       "    <tr style=\"text-align: right;\">\n",
       "      <th></th>\n",
       "      <th>Jogador</th>\n",
       "      <th>Altura</th>\n",
       "      <th>Peso</th>\n",
       "      <th>Idade</th>\n",
       "      <th>Alcance</th>\n",
       "    </tr>\n",
       "  </thead>\n",
       "  <tbody>\n",
       "    <tr>\n",
       "      <th>2</th>\n",
       "      <td>Cássio</td>\n",
       "      <td>1.95</td>\n",
       "      <td>89</td>\n",
       "      <td>31</td>\n",
       "      <td>100.870665</td>\n",
       "    </tr>\n",
       "  </tbody>\n",
       "</table>\n",
       "</div>"
      ],
      "text/plain": [
       "  Jogador  Altura  Peso  Idade     Alcance\n",
       "2  Cássio    1.95    89     31  100.870665"
      ]
     },
     "execution_count": 16,
     "metadata": {},
     "output_type": "execute_result"
    }
   ],
   "source": [
    "WFK = db[db[\"Alcance\"] >= 100].sort_values(by=\"Alcance\", ascending=False)\n",
    "not_WFK = db[db[\"Alcance\"] < 100].sort_values(by=\"Alcance\", ascending=True)\n",
    "WFK[:1]"
   ]
  },
  {
   "cell_type": "code",
   "execution_count": 10,
   "id": "452c3d30",
   "metadata": {},
   "outputs": [
    {
     "data": {
      "text/html": [
       "<div>\n",
       "<style scoped>\n",
       "    .dataframe tbody tr th:only-of-type {\n",
       "        vertical-align: middle;\n",
       "    }\n",
       "\n",
       "    .dataframe tbody tr th {\n",
       "        vertical-align: top;\n",
       "    }\n",
       "\n",
       "    .dataframe thead th {\n",
       "        text-align: right;\n",
       "    }\n",
       "</style>\n",
       "<table border=\"1\" class=\"dataframe\">\n",
       "  <thead>\n",
       "    <tr style=\"text-align: right;\">\n",
       "      <th></th>\n",
       "      <th>Jogador</th>\n",
       "      <th>Altura</th>\n",
       "      <th>Peso</th>\n",
       "      <th>Idade</th>\n",
       "      <th>Alcance</th>\n",
       "    </tr>\n",
       "  </thead>\n",
       "  <tbody>\n",
       "    <tr>\n",
       "      <th>10</th>\n",
       "      <td>Fred</td>\n",
       "      <td>1.69</td>\n",
       "      <td>57</td>\n",
       "      <td>25</td>\n",
       "      <td>92.078386</td>\n",
       "    </tr>\n",
       "  </tbody>\n",
       "</table>\n",
       "</div>"
      ],
      "text/plain": [
       "   Jogador  Altura  Peso  Idade    Alcance\n",
       "10    Fred    1.69    57     25  92.078386"
      ]
     },
     "execution_count": 10,
     "metadata": {},
     "output_type": "execute_result"
    }
   ],
   "source": [
    "not_WFK[:1]"
   ]
  }
 ],
 "metadata": {
  "kernelspec": {
   "display_name": "Python 3",
   "language": "python",
   "name": "python3"
  },
  "language_info": {
   "codemirror_mode": {
    "name": "ipython",
    "version": 3
   },
   "file_extension": ".py",
   "mimetype": "text/x-python",
   "name": "python",
   "nbconvert_exporter": "python",
   "pygments_lexer": "ipython3",
   "version": "3.8.8"
  }
 },
 "nbformat": 4,
 "nbformat_minor": 5
}
