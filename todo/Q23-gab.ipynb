{
 "cells": [
  {
   "cell_type": "markdown",
   "id": "edfc2eb1",
   "metadata": {},
   "source": [
    "## Questionário Q23"
   ]
  },
  {
   "cell_type": "markdown",
   "id": "850415d9",
   "metadata": {},
   "source": [
    "Orientações: \n",
    "\n",
    "- Registre suas respostas no questionário de mesmo nome no SIGAA.\n",
    "- O tempo de registro das respostas no questionário será de 10 minutos. Portanto, resolva primeiro as questões e depois registre-as.\n",
    "- Haverá apenas 1 (uma) tentativa de resposta.\n",
    "- Submeta seu arquivo-fonte (utilizado para resolver as questões) em formato _.ipynb_ pelo SIGAA anexando-a à Tarefa denominada \"Envio de arquivo\" correspondente ao questionário.\n",
    "\n",
    "*Nota:* o arquivo-fonte será utilizado apenas como prova de execução da tarefa. Nenhuma avaliação será feita quanto ao estilo de programação.\n",
    "\n",
    "<hr>"
   ]
  },
  {
   "cell_type": "markdown",
   "id": "76adb3ad",
   "metadata": {},
   "source": [
    "**Questão 1.** Está transcrito abaixo o poema _Se_, datado de 1895 e de autoria do escritor anglo-indiano Rudyard Kipling (Prêmio Nobel de Literatura – 1907). O poema foi publicado pela primeira vez apenas em 1910 em uma coletânea de contos e poemas intitulada _Rewards and Fairies_.\n",
    "\n",
    "> _Se és capaz de manter a tua calma quando\n",
    "Todo o mundo ao teu redor já a perdeu e te culpa;\n",
    "De crer em ti quando estão todos duvidando?\n",
    "E para esses no entanto achar uma desculpa;\n",
    "Se és capaz de esperar sem te desesperares?\n",
    "Ou? enganado? não mentir ao mentiroso?\n",
    "Ou? sendo odiado? sempre ao ódio te esquivares?\n",
    "E não parecer bom demais? nem pretensioso;\n",
    "Se és capaz de pensar –sem que a isso só te atires?\n",
    "De sonhar –sem fazer dos sonhos teus senhores.\n",
    "Se encontrando a desgraça e o triunfo conseguires\n",
    "Tratar da mesma forma a esses dois impostores;\n",
    "Se és capaz de sofrer a dor de ver mudadas\n",
    "Em armadilhas as verdades que disseste?\n",
    "E as coisas? por que deste a vida? estraçalhadas?\n",
    "E refazê-las com o bem pouco que te reste;\n",
    "Se és capaz de arriscar numa única parada\n",
    "Tudo quanto ganhaste em toda a tua vida?\n",
    "E perder e? ao perder? sem nunca dizer nada?\n",
    "Resignado? tornar ao ponto de partida;\n",
    "De forçar coração? nervos? músculos? tudo\n",
    "A dar seja o que for que neles ainda existe,\n",
    "E a persistir assim quando? exaustos? contudo\n",
    "Resta a vontade em ti que ainda ordena: “Persiste!”;\n",
    "Se és capaz de? entre a plebe? não te corromperes\n",
    "E? entre reis? não perder a naturalidade?\n",
    "E de amigos? quer bons? quer maus? te defenderes?\n",
    "Se a todos podes ser de alguma utilidade?\n",
    "E se és capaz de dar? segundo por segundo?\n",
    "Ao minuto fatal todo o valor e brilho?\n",
    "Tua é a terra com tudo o que existe no mundo\n",
    "E o que mais – tu serás um homem? ó meu filho!_\n",
    "\n",
    "Fonte: [Revista Prosa Verso e Arte](https://www.revistaprosaversoearte.com/conheca-se-um-dos-mais-belos-poemas-de-todos-os-tempos-de-rudyard-kipling/).\n",
    "\n",
    "Entretanto, diferentemente da versão original, esta transcrição contém pontos de interrogação onde deveria haver vírgulas. Use seus conhecimentos de operações com arquivos para criar um arquivo chamado `\"Se_RK.txt\"`no qual a versão corrigida deve ser salva. Em seguide, quebre duas linhas e apense o nome do autor, _Rudyard Kipling_ ao arquivo. \n",
    "\n",
    "Assinale a alternativa cuja tupla corresponda, respectivamente, ao número de vírgulas substituídas e ao número total de caracteres no arquivo após a inclusão do nome do autor.\n",
    "\n",
    "A. (38, 1452)  \n",
    "\n",
    "B. (39, 1437)\n",
    "\n",
    "C. (38, 1454)\n",
    "\n",
    "D. n.d.a."
   ]
  },
  {
   "cell_type": "markdown",
   "id": "749617a0",
   "metadata": {},
   "source": [
    "<hr>\n",
    "\n",
    "## GABARITO\n",
    "\n",
    "Alternativa **A**"
   ]
  },
  {
   "cell_type": "code",
   "execution_count": 8,
   "id": "08a498c4",
   "metadata": {
    "scrolled": true
   },
   "outputs": [
    {
     "name": "stdout",
     "output_type": "stream",
     "text": [
      "Se és capaz de manter a tua calma quando\n",
      "Todo o mundo ao teu redor já a perdeu e te culpa;\n",
      "De crer em ti quando estão todos duvidando,\n",
      "E para esses no entanto achar uma desculpa;\n",
      "Se és capaz de esperar sem te desesperares,\n",
      "Ou, enganado, não mentir ao mentiroso,\n",
      "Ou, sendo odiado, sempre ao ódio te esquivares,\n",
      "E não parecer bom demais, nem pretensioso;\n",
      "Se és capaz de pensar –sem que a isso só te atires,\n",
      "De sonhar –sem fazer dos sonhos teus senhores.\n",
      "Se encontrando a desgraça e o triunfo conseguires\n",
      "Tratar da mesma forma a esses dois impostores;\n",
      "Se és capaz de sofrer a dor de ver mudadas\n",
      "Em armadilhas as verdades que disseste,\n",
      "E as coisas, por que deste a vida, estraçalhadas,\n",
      "E refazê-las com o bem pouco que te reste;\n",
      "Se és capaz de arriscar numa única parada\n",
      "Tudo quanto ganhaste em toda a tua vida,\n",
      "E perder e, ao perder, sem nunca dizer nada,\n",
      "Resignado, tornar ao ponto de partida;\n",
      "De forçar coração, nervos, músculos, tudo\n",
      "A dar seja o que for que neles ainda existe,\n",
      "E a persistir assim quando, exaustos, contudo\n",
      "Resta a vontade em ti que ainda ordena: “Persiste!”;\n",
      "Se és capaz de, entre a plebe, não te corromperes\n",
      "E, entre reis, não perder a naturalidade,\n",
      "E de amigos, quer bons, quer maus, te defenderes,\n",
      "Se a todos podes ser de alguma utilidade,\n",
      "E se és capaz de dar, segundo por segundo,\n",
      "Ao minuto fatal todo o valor e brilho,\n",
      "Tua é a terra com tudo o que existe no mundo\n",
      "E o que mais – tu serás um homem, ó meu filho!\n"
     ]
    }
   ],
   "source": [
    "#texto da questão acima\n",
    "with open('textt.txt','r+') as t:\n",
    "    textt = t.read()\n",
    "#Já vou realizar a contagem das vírgulas já que vou substituir ? por ,   \n",
    "count = 0\n",
    "Se_RS = \"\"\n",
    "for _ in textt:\n",
    "    if _ == \"?\":\n",
    "        count+=1\n",
    "        Se_RS+=\",\"\n",
    "    else:    \n",
    "        Se_RS+= _\n",
    "print(Se_RS)"
   ]
  },
  {
   "cell_type": "code",
   "execution_count": 9,
   "id": "f0b326f7",
   "metadata": {},
   "outputs": [
    {
     "name": "stdout",
     "output_type": "stream",
     "text": [
      "Resposta esperada: (38, 1452)\n"
     ]
    }
   ],
   "source": [
    "with open(\"Se_RS.txt\",'w') as f:\n",
    "    f.write(Se_RS)\n",
    "\n",
    "    \n",
    "with open('Se_RS.txt','a') as f:\n",
    "    f.write(\"\\n\\nRudyard Kipling\")\n",
    "    \n",
    "with open('Se_RS.txt','r+') as f:\n",
    "    content = f.read()\n",
    "    \n",
    "print(f\"Resposta esperada: {count,len(content)}\")"
   ]
  },
  {
   "cell_type": "markdown",
   "id": "d6c3a4fa",
   "metadata": {},
   "source": [
    "**Questão 2.** Em Python, o módulo `os` fornece funções específicas para manipular caminhos e transitar arquivos. Marque a alternativa cujas funções do submódulo `path` listadas são utilizadas para retornar o tamanho de um arquivo e realizar teste de sua existência no disco.\n",
    "\n",
    "A.`getfn()` / `isdir()`\n",
    "\n",
    "B.`join()` / `isfile()`\n",
    "\n",
    "C.`isfile()` / `getsize()`\n",
    "\n",
    "D.`getamount()` / `isfile()`"
   ]
  },
  {
   "cell_type": "markdown",
   "id": "f353084f",
   "metadata": {},
   "source": [
    "<hr>\n",
    "\n",
    "## Gabarito\n",
    "Alternativa **C**"
   ]
  },
  {
   "cell_type": "markdown",
   "id": "ad1590c7",
   "metadata": {},
   "source": [
    "<hr>\n",
    "\n",
    "**Questão 3**. Em criptografia, diversos métodos são utilizados para proteger o conteúdo de mensagens. A tabela abaixo representa um sistema hipotético de criptografia que associa caracteres Unicode por \"transliteração\". Ou seja, mensagens escritas com caracteres em um sistema original são reveladas por caracteres equivalentes da Língua Portuguesa.\n",
    "\n",
    "|  Escape  |Original |Equivalente|\n",
    "|----------|---------|-----------|\n",
    "|  \\u0061  |    ʠ    |     a     |\n",
    "|  \\u0062  |    ʡ    |     b     |\n",
    "|  \\u0063  |    ʢ    |     c     |\n",
    "|  \\u0064  |    ʣ    |     d     |\n",
    "|  \\u0065  |    ʤ    |     e     |\n",
    "|  \\u0066  |    ʥ    |     f     |\n",
    "|  \\u0067  |    ʦ    |     g     |\n",
    "|  \\u0068  |    ʧ    |     h     |\n",
    "|  \\u0069  |    ʨ    |     i     |\n",
    "|  \\u006A  |    ʩ    |     j     |\n",
    "|  \\u006B  |    ʪ    |     k     |\n",
    "|  \\u006C  |    ʫ    |     l     |\n",
    "|  \\u006D  |    ʬ    |     m     |\n",
    "|  \\u006E  |    ʭ    |     n     |\n",
    "|  \\u006F  |    ʮ    |     o     |\n",
    "|  \\u0070  |    ʯ    |     p     |\n",
    "|  \\u0071  |    ΰ    |     q     |\n",
    "|  \\u0072  |    α    |     r     |\n",
    "|  \\u0073  |    β    |     s     |\n",
    "|  \\u0074  |    γ    |     t     |\n",
    "|  \\u0075  |    δ    |     u     |\n",
    "|  \\u0076  |    ε    |     v     |\n",
    "|  \\u0077  |    ζ    |     w     |\n",
    "|  \\u0078  |    η    |     x     |\n",
    "|  \\u0079  |    θ    |     y     |\n",
    "|  \\u007A  |    ι    |     z     |\n",
    "\n",
    "\n",
    "Crie uma função que \"decodifica\" palavras escondidas no sistema original em palavras equivalentes em nossa língua (p.ex: `ʢʠʬʠ` => `cama`) e assinale a alternativa que contém a palavra equivalente ao anagrama `ʨʭʣδʡʨγʠεʤʫʬʤʭγʤ`:\n",
    "\n",
    "A. 'inevitavelmente'\n",
    "\n",
    "B. 'indiscutivelmente'\n",
    "\n",
    "C. 'indubitavelmente'\n",
    "\n",
    "D. 'indiscretamente'\n",
    "\n",
    "_Dica:_ para sequências de escape, vide [[aqui]](https://www.rapidtables.com/code/text/unicode-characters.html)."
   ]
  },
  {
   "cell_type": "markdown",
   "id": "15b17cb0",
   "metadata": {},
   "source": [
    "<hr>\n",
    "\n",
    "## GABARITO \n",
    "Alternativa **C**"
   ]
  },
  {
   "cell_type": "markdown",
   "id": "04d12516",
   "metadata": {},
   "source": [
    "Criação da tabela code"
   ]
  },
  {
   "cell_type": "code",
   "execution_count": 3,
   "id": "43a50a24",
   "metadata": {},
   "outputs": [
    {
     "name": "stdout",
     "output_type": "stream",
     "text": [
      "---------------------\n",
      "|  Escape  | Unicode |\n",
      "|----------|---------|\n",
      "|  \\u0061  |    ʠ    |\n",
      "|  \\u0062  |    ʡ    |\n",
      "|  \\u0063  |    ʢ    |\n",
      "|  \\u0064  |    ʣ    |\n",
      "|  \\u0065  |    ʤ    |\n",
      "|  \\u0066  |    ʥ    |\n",
      "|  \\u0067  |    ʦ    |\n",
      "|  \\u0068  |    ʧ    |\n",
      "|  \\u0069  |    ʨ    |\n",
      "|  \\u006A  |    ʩ    |\n",
      "|  \\u006B  |    ʪ    |\n",
      "|  \\u006C  |    ʫ    |\n",
      "|  \\u006D  |    ʬ    |\n",
      "|  \\u006E  |    ʭ    |\n",
      "|  \\u006F  |    ʮ    |\n",
      "|  \\u0070  |    ʯ    |\n",
      "|  \\u0071  |    ΰ    |\n",
      "|  \\u0072  |    α    |\n",
      "|  \\u0073  |    β    |\n",
      "|  \\u0074  |    γ    |\n",
      "|  \\u0075  |    δ    |\n",
      "|  \\u0076  |    ε    |\n",
      "|  \\u0077  |    ζ    |\n",
      "|  \\u0078  |    η    |\n",
      "|  \\u0079  |    θ    |\n",
      "|  \\u007A  |    ι    |\n",
      "---------------------\n"
     ]
    }
   ],
   "source": [
    "bas = [str(i) for i in range(0,10)] + ['A','B','C','D','E','F']\n",
    "letras = [r\"\\u00\" + str(i) for i in range(61,70)] + [r\"\\u006\" + bas[10+i] for i in range(6)] + [r\"\\u00\" + str(i) for i in range(70,80)] + [r\"\\u007A\"]\n",
    "codes = [r'\\u02A' + i for i in bas] + [r'\\u03B' + i for i in bas[:10]]\n",
    "\n",
    "d = dict(zip(letras,codes))\n",
    "print(21*'-')\n",
    "print('|  Escape  | Unicode |\\n' + '|' + 10*'-' + '|' + 9*'-' + '|')\n",
    "for k,v in d.items():\n",
    "    aux = v.encode('utf-8').decode('unicode-escape')\n",
    "    print('| ',k,' |   ', aux,'   |')\n",
    "print(21*'-')"
   ]
  },
  {
   "cell_type": "markdown",
   "id": "836046fb",
   "metadata": {},
   "source": [
    "Função para decodificar a mensagem"
   ]
  },
  {
   "cell_type": "code",
   "execution_count": 4,
   "id": "3e7b4a5b",
   "metadata": {},
   "outputs": [],
   "source": [
    "def my_decode(a):\n",
    "    name_reverse = []\n",
    "    sep = [a[_] for _ in range(len(a))]\n",
    "    for x in range(len(sep)):\n",
    "        for a,b in d.items():\n",
    "            if sep[x] == b.encode('utf-8').decode('unicode-escape'):\n",
    "                name_reverse += a.encode('utf-8').decode('unicode-escape')\n",
    "    \n",
    "    return \"\".join(name_reverse)   "
   ]
  },
  {
   "cell_type": "code",
   "execution_count": 5,
   "id": "e1275ece",
   "metadata": {},
   "outputs": [
    {
     "data": {
      "text/plain": [
       "'indubitavelmente'"
      ]
     },
     "execution_count": 5,
     "metadata": {},
     "output_type": "execute_result"
    }
   ],
   "source": [
    "my_decode('ʨʭʣδʡʨγʠεʤʫʬʤʭγʤ')"
   ]
  },
  {
   "cell_type": "code",
   "execution_count": null,
   "id": "c937ada9-639e-4571-adb3-2bfee74b8a1e",
   "metadata": {},
   "outputs": [],
   "source": []
  }
 ],
 "metadata": {
  "kernelspec": {
   "display_name": "Python 3",
   "language": "python",
   "name": "python3"
  },
  "language_info": {
   "codemirror_mode": {
    "name": "ipython",
    "version": 3
   },
   "file_extension": ".py",
   "mimetype": "text/x-python",
   "name": "python",
   "nbconvert_exporter": "python",
   "pygments_lexer": "ipython3",
   "version": "3.8.8"
  }
 },
 "nbformat": 4,
 "nbformat_minor": 5
}
