{
 "cells": [
  {
   "cell_type": "markdown",
   "id": "dcbd90cf",
   "metadata": {},
   "source": [
    "# Relátorio de Projeto Final (Modelo)\n",
    "\n",
    "**Introdução à Ciência de Dados - Prof. Gustavo Oliveira - Semestre 202Y/0X**\n",
    "\n",
    "**Equipe:** \n",
    "\n",
    "- Euclides de Alexandria, 'euclides.alexandria@nome.edu.br'\n",
    "- Rei Henrique VII, 'henry@eu.com'\n",
    "- Cosme de Médici, 'cmedici@yuhh.com.br'\n",
    "\n",
    "_Nota_: altere Y (1,2,3,...) e X (1 ou 2) correspondentemente na identificação de ano/semestre.\n",
    "\n",
    "<hr>"
   ]
  },
  {
   "cell_type": "markdown",
   "id": "78cc3fec-4391-4f6e-ba32-786cc64b2bc2",
   "metadata": {},
   "source": [
    "## Resumo\n",
    "\n",
    "Escreva em uma ou duas sentenças, no máximo, a finalidade do relatório. \n",
    "\n",
    "Exemplo: \n",
    "\n",
    ">Aplicamos a técnica de _heatmap_ para destacar o potencial para produção de biogás na região Nordeste. "
   ]
  },
  {
   "cell_type": "markdown",
   "id": "9a82467a-2cd3-4b34-a979-4d61996af0d5",
   "metadata": {},
   "source": [
    "## Descrição do problema\n",
    "\n",
    "Descreva o problema a ser tratado em até 3 parágrafos. (O quê?)\n",
    "\n",
    "Exemplo: \n",
    "\n",
    "> O crescimento populacional associado aos hábitos de consumo modernos são fatores consideráveis para o aumento do lixo produzido nas cidades. Resíduos sólidos são tratados de diversas formas, tais como reciclagem, incineração e aterro sanitário (REFERÊNCIA 1, ANO). \n",
    ">\n",
    "> Em geral, nos aterros sanitários, os compostos orgânicos podem ser tratados por processos termoquímicos ou bioquímicos que geram o biogás. Embora algumas cidades da região Nordeste possuam dados sobre o volume produzido de matéria orgânica semanalmente, não houve até o momento nenhuma análise sobre o potencial de geração de biogás nos aterros sanitários municipais (REFERÊNCIA 2, ANO). \n",
    ">\n",
    "> A questão central que buscamos responder é: _podemos construir um mapa de calor sobre a região Nordeste pelo qual possamos, rapidamente, visualizar o potencial de geração de biogás nos municípios?_ "
   ]
  },
  {
   "cell_type": "markdown",
   "id": "13aeb66a-541e-4a29-b09a-204dd2c7ca80",
   "metadata": {},
   "source": [
    "## Metodologia de solução"
   ]
  },
  {
   "cell_type": "markdown",
   "id": "81026a6c-9b0a-45a2-9cbc-81139b31b41a",
   "metadata": {},
   "source": [
    "Descreva a metodologia utilizada para resolver o problema proposto. (Como?)\n",
    "\n",
    "Exemplo: \n",
    "\n",
    "> Para resolver o problema proposto, usamos a seguinte metodologia:\n",
    "> 1. Coleta de dados nos sites das companhias de limpeza urbana responsáveis pela coleta de lixo em 200 municípios da região Nordeste distribuídos conforme a tabela abaixo: \n",
    "> |Estado|No. de municípios|\n",
    "> |---|---|\n",
    "> |AL|5|\n",
    "> |BA|11|\n",
    "> |CE|7|\n",
    "> |MA|2|\n",
    "> |PB|135|\n",
    "> |PE|12|\n",
    "> |PI|6|\n",
    "> |RN|9|\n",
    "> |SE|3|\n",
    "> 2. Limpeza e processamento dos dados utilizando os módulos _pandas_, _numpy_ e _statsmodels_ para construir DataFrames contendo os parâmetros mais relevantes de análise. A seguir, mostramos um recorte de um dos DataFrames apresentando o volume de compostos orgânicos produzidos por estado (`VCOPS`) e o potencial de biogás médio por estado (`POTBIOGM`).\n",
    "|    | NELU                                           | COD   | UF   |   VCOPS (m3) |   POTBIOGM (fraction) |\n",
    "|---:|:-----------------------------------------------|:------|:-----|-------------:|---------------------:|\n",
    "|  0 | DKX Engenharia                                 | DKX   | PE   |      65000   |                0.443 |\n",
    "|  1 | Modal Soluções em Limpeza                      | MOD   | AL   |      21234.1 |                0.211 |\n",
    "|  2 | Soft Clean                                     | SFC   | RN   |      42109.8 |                0.112 |\n",
    "|  3 | Autarquia Especial Municipal de Limpeza Urbana | EMLUR | PB   |      87772.3 |                0.652 |\n",
    "> 3. Definição da expressão de `POTBIOG`, cujo valor varia entre 0 e 1.\n",
    ">\n",
    "> 4. Plotagem dos mapas de calor de `POTBIOG` utilizando o módulo _geopandas_.\n",
    ">\n",
    "> O código a seguir resume os passos fundamentais executados."
   ]
  },
  {
   "cell_type": "markdown",
   "id": "55fa8462-ce2d-4e2d-9557-f36a19ef3711",
   "metadata": {},
   "source": [
    "<hr>\n",
    "\n",
    "### Potencial de biogás no Nordeste\n",
    "\n",
    "*Notas:* \n",
    "\n",
    "- **os dados produzidos nesta análise são fictícios e não devem ser usados para pesquisa!**\n",
    "- para reproduzir este código, é necessário instalar o módulo [`geopandas`](https://geopandas.org/en/stable/index.html), preferencialmente em novo ambiente virtual;\n",
    "- os mapas do Brasil estão disponíveis como arquivos .SHP [aqui](https://biogeo.ucdavis.edu/data/gadm3.6/shp/gadm36_BRA_shp.zip'), do site [GADM](https://gadm.org/download_country.html). Consulte política de uso!"
   ]
  },
  {
   "cell_type": "markdown",
   "id": "e6cb077c-236e-4805-a940-44665c45cbf0",
   "metadata": {},
   "source": [
    "```python\n",
    "import geopandas as geo\n",
    "from matplotlib.pyplot import title, subplots\n",
    "from numpy.random import normal\n",
    "\n",
    "from warnings import filterwarnings\n",
    "filterwarnings('ignore')\n",
    "```"
   ]
  },
  {
   "cell_type": "markdown",
   "id": "b3e3ee15-42a7-4288-89ad-a411390b6cd2",
   "metadata": {},
   "source": [
    "### Definição de _helper functions_"
   ]
  },
  {
   "cell_type": "markdown",
   "id": "f173bf7c-fe5b-456a-9c51-46c20207601d",
   "metadata": {},
   "source": [
    "```python\n",
    "# biogas potential (POTBIOG) simulator \n",
    "def simulate_POTBIOG(state_name,mean,sigma):\n",
    "    state = bra2[bra2['NAME_1'] == state_name]\n",
    "    state['POTBIOG'] = normal(mean,sigma,size=len(state))\n",
    "    return state\n",
    "\n",
    "# plot POTBIOG per state\n",
    "def plotfig(UF,state_name):\n",
    "    fig, ax = subplots(figsize=(12,8))\n",
    "    f = lambda x: x.plot(ax=ax,column='POTBIOG',cmap='Reds',legend=True)\n",
    "    f(UF)\n",
    "    title(state_name)\n",
    "    ax.set_xticks([])\n",
    "    ax.set_yticks([]);\n",
    "```"
   ]
  },
  {
   "cell_type": "markdown",
   "id": "92c0fa46-b9bd-4b0d-868e-fbb614a2be9f",
   "metadata": {},
   "source": [
    "### Carregamento de dados\n",
    "\n",
    "Baixe o .zip localmente e carregue a partir do diretório ou use métodos robustos do _geopandas_ para raspagem da web."
   ]
  },
  {
   "cell_type": "markdown",
   "id": "e68daf8c-a99d-4074-a253-e52caf924a9e",
   "metadata": {},
   "source": [
    "```python\n",
    "# local directory on your computer\n",
    "local_dir = '/Users/gustavo/Downloads/'\n",
    "\n",
    "# level 1 shape file\n",
    "bra = geo.read_file(local_dir + 'gadm36_BRA_shp/gadm36_BRA_1.shp')\n",
    "\n",
    "# level 2 shape file\n",
    "bra2 = geo.read_file(local_dir + 'gadm36_BRA_shp/gadm36_BRA_2.shp')\n",
    "\n",
    "# NE region mask\n",
    "mask = (bra['NAME_1'] == 'Alagoas') | \\\n",
    "       (bra['NAME_1'] == 'Bahia') | \\\n",
    "       (bra['NAME_1'] == 'Ceará') | \\\n",
    "       (bra['NAME_1'] == 'Maranhão') | \\\n",
    "       (bra['NAME_1'] == 'Pernambuco') | \\\n",
    "       (bra['NAME_1'] == 'Piauí') | \\\n",
    "       (bra['NAME_1'] == 'Paraíba') | \\\n",
    "       (bra['NAME_1'] == 'Rio Grande do Norte') | \\\n",
    "       (bra['NAME_1'] == 'Sergipe')\n",
    "\n",
    "# NE state limits\n",
    "NE = bra[mask]\n",
    "\n",
    "# simulate values for 4 states: AL, PB, PE, and RN\n",
    "AL = simulate_POTBIOG('Alagoas',0.211,0.05)\n",
    "PB = simulate_POTBIOG('Paraíba',0.652,0.06)\n",
    "PE = simulate_POTBIOG('Pernambuco',0.443,0.1)\n",
    "RN = simulate_POTBIOG('Rio Grande do Norte',0.112,0.08)\n",
    "\n",
    "# to have POTBIOG's merged distribution\n",
    "# check for artifacts!!!\n",
    "ALL = AL.merge(PB,how='outer')\n",
    "ALL = ALL.merge(PE,how='outer')\n",
    "ALL = ALL.merge(RN,how='outer')\n",
    "\n",
    "# plot figure for all NE region\n",
    "fig, ax = subplots(figsize=(12,8))\n",
    "NE.plot(ax=ax,edgecolor='k',facecolor='gray',alpha=0.3)\n",
    "ALL.plot(ax=ax,column='POTBIOG',cmap='Reds',legend=True)\n",
    "ax.set_xticks([])\n",
    "ax.set_yticks([]);\n",
    "title('Potencial de Biogás - Região NE')\n",
    "\n",
    "# plot figures per state of interest    \n",
    "for a,b in [(AL,'Potencial de Biogás - AL'),\n",
    "            (PB,'Potencial de Biogás - PB'),\n",
    "            (PE,'Potencial de Biogás - PE'),\n",
    "            (RN,'Potencial de Biogás - RN')]:\n",
    "    plotfig(a,b)\n",
    "```\n",
    "<hr>"
   ]
  },
  {
   "cell_type": "markdown",
   "id": "5de094cb-e85c-4072-be55-82ff0155f754",
   "metadata": {},
   "source": [
    "## Resultados, análise e discussão\n",
    "\n",
    "Adicione gráficos, figuras, tabelas e informações necessárias (E aí?)\n",
    "\n",
    "Exemplo:\n",
    "\n",
    ">A partir dos dados coletados, obtivemos os mapas de calor\n",
    "abaixo para o potencial de biogás (`POTBIOG`). \n",
    "```{figure} ../figs/capstone-template/potbiog-ne.png\n",
    "---\n",
    "width: 330px\n",
    "name: potbiog-ne\n",
    "---\n",
    "POTBIOG - NE.\n",
    "```\n",
    "\n",
    "```{figure} ../figs/capstone-template/potbiog-al.png\n",
    "---\n",
    "width: 330px\n",
    "name: potbiog-al\n",
    "---\n",
    "POTBIOG - AL.\n",
    "```\n",
    "\n",
    "```{figure} ../figs/capstone-template/potbiog-pb.png\n",
    "---\n",
    "width: 330px\n",
    "name: potbiog-pb\n",
    "---\n",
    "POTBIOG - PB.\n",
    "```\n",
    "\n",
    "```{figure} ../figs/capstone-template/potbiog-pe.png\n",
    "---\n",
    "width: 330px\n",
    "name: potbiog-pe\n",
    "---\n",
    "POTBIOG - PE.\n",
    "```\n",
    "\n",
    "```{figure} ../figs/capstone-template/potbiog-rn.png\n",
    "---\n",
    "width: 330px\n",
    "name: potbiog-rn\n",
    "---\n",
    "POTBIOG - RN.\n",
    "```\n",
    "\n",
    ">Verifica-se que os valores se distribuem de maneira heterogênea na região estudada, mas o POTBIOG do estado da Paraíba é superior aos demais."
   ]
  },
  {
   "cell_type": "markdown",
   "id": "2fc9db8d-f5d8-4b02-84ae-8cc60bf5a833",
   "metadata": {},
   "source": [
    "## Referências bibliográficas\n",
    "\n",
    "Registre todas as referências utilizadas no formato utilizado no template do mini-artigo. Referências incluem:\n",
    "\n",
    "- Livro\n",
    "- Artigo\n",
    "- Site\n",
    "- Post\n",
    "- etc."
   ]
  },
  {
   "cell_type": "markdown",
   "id": "71570da8-f40d-4f04-a3ab-d637f1046826",
   "metadata": {},
   "source": [
    "### Ajuda (esta seção não deve ser incluída no relatório!)"
   ]
  },
  {
   "cell_type": "markdown",
   "id": "fb37b4af-271c-43ea-9d97-881da26a118d",
   "metadata": {},
   "source": [
    "Recursos para aprender como escrever o relatório. Caso queira fazer algo e não saiba, pergunte ao professor. Se ele souber, orientará como fazer.\n",
    "\n",
    "- O que é Markdown?: [link](https://pt.wikipedia.org/wiki/Markdown)\n",
    "\n",
    "- Dicas rápidas de Markdown: [link](https://www.markdownguide.org/cheat-sheet/)\n",
    "\n",
    "- Editor online para aprender Markdown: [link](https://stackedit.io/app#)\n",
    "\n",
    "- Como inserir texto, imagens e tabelas em notebooks: [link](https://www.earthdatascience.org/courses/intro-to-earth-data-science/file-formats/use-text-files/format-text-with-markdown-jupyter-notebook/)"
   ]
  }
 ],
 "metadata": {
  "kernelspec": {
   "display_name": "Python 3",
   "language": "python",
   "name": "python3"
  },
  "language_info": {
   "codemirror_mode": {
    "name": "ipython",
    "version": 3
   },
   "file_extension": ".py",
   "mimetype": "text/x-python",
   "name": "python",
   "nbconvert_exporter": "python",
   "pygments_lexer": "ipython3",
   "version": "3.8.8"
  }
 },
 "nbformat": 4,
 "nbformat_minor": 5
}
