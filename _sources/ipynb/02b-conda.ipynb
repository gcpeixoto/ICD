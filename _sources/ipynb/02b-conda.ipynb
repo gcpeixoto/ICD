{
 "cells": [
  {
   "cell_type": "markdown",
   "id": "3bde83e9-46b4-434c-b4a9-00553e7071eb",
   "metadata": {},
   "source": [
    "# _Crash course_ de _conda_"
   ]
  },
  {
   "cell_type": "markdown",
   "id": "a33af367-6663-4fa6-b394-3fe3c574ce38",
   "metadata": {},
   "source": [
    "## Objetivos\n",
    "\n",
    "- Aprender a utilizar o _conda_ para gerenciar a instalação de pacotes, dependências e ambientes; \n",
    "- Entender conceitos de distribuição, módulo e repositório;\n",
    "- Compreender comandos do _conda_ e praticá-los em terminal;"
   ]
  },
  {
   "cell_type": "markdown",
   "id": "2653f469-5ba5-4497-834e-0ec62ce17056",
   "metadata": {},
   "source": [
    "## Pré-requisitos\n",
    "\n",
    "- [Instalação](https://docs.anaconda.com/anaconda/install/) da distribuição Anaconda (recomenda-se Python 3.x);\n",
    "- Acesso simples a um terminal ou ao _Anaconda Prompt_;"
   ]
  },
  {
   "cell_type": "markdown",
   "id": "55765d7c-f022-4106-ac3a-fd4dd30eaac9",
   "metadata": {},
   "source": [
    "## Introdução\n",
    "\n",
    "- _conda_ é um gerenciador de pacotes, dependências e ambientes para múltiplas linguagens;\n",
    "\n",
    "- Pacote de código aberto executável em Windows, macOS e Linux;\n",
    "\n",
    "- Seu objetivo é fornecer suporte à rápida instalação, desinstalação e atualização de pacotes\n",
    "\n",
    "- Embora criado para Python, hoje pode ser aplicado a softwares escritos em R, Ruby, Lua, Java, Javascript, C++ etc.\n",
    "\n",
    "- Atualmente, há cerca de 7500 pacotes gerenciados no repositório [repo.anaconda.com](http://repo.anaconda.com) que são mantidos pela empresa Anaconda Inc."
   ]
  },
  {
   "cell_type": "markdown",
   "id": "a1afad15-d48a-44cb-9a00-4fb1ea8162c3",
   "metadata": {},
   "source": [
    "### Benefícios do _conda_ para cientistas de dados\n",
    "\n",
    "- Fornece pacotes pré-construídos que evitam a necessidade de lidar com compiladores ou saber como configurar uma ferramenta específica;\n",
    "\n",
    "- Gerencia instalações de ferramentas que são mais difíceis de instalar (como TensorFlow) com apenas um passo;\n",
    "\n",
    "- Permite que você forneça seu ambiente a outras pessoas em diferentes plataformas, assim oferecendo suporte à reprodutibilidade de fluxos de trabalho de pesquisa;\n",
    "\n",
    "- Permite o uso de outras ferramentas de gerenciamento de pacotes, tais como _pip_, dentro de ambientes _conda_ onde uma biblioteca ou ferramentas ainda não foram empacotadas para _conda_;\n",
    "\n",
    "- Fornece bibliotecas e ferramentas de ciência de dados comumente usadas, tais como _R_, _NumPy_, _SciPy_ e _TensorFlow_. Estes são construídos usando bibliotecas específicas de hardware otimizadas (como MKL da Intel, ou CUDA da NVIDIA) que aceleram o desempenho sem alterações de código."
   ]
  },
  {
   "cell_type": "markdown",
   "id": "f9f92f39-a266-491b-9f4e-44b2de3cb04a",
   "metadata": {},
   "source": [
    "## Conceitos fundamentais\n",
    "\n",
    "- Anaconda: distribuição de código aberto, alto desempenho e otimizada para Python e R.\n",
    "\n",
    "- Anaconda Cloud: repositório de pacotes hospedado na web (nuvem)\n",
    "\n",
    "- Anaconda Navigator: interface gráfica incluída na distribuição para fácil gestão de pacotes, ambientes e canais.\n",
    "\n",
    "- Canal: local dos repositórios onde o _conda_ procura por pacotes. Pode ser um repositório público, na web, ou privado, dentro da universidade, em uma empresa, na sua casa, etc.\n",
    "\n",
    "- _conda_: gerenciador de pacotes e ambientes que vem incluído na distribuição.\n",
    "\n",
    "- _conda environment_ (Ambiente): diretório que contém uma coleção específica de pacotes e dependências que pode ser administrado separadamente. Por exemplo, é possível manter um ambiente Python 2 e Python 3 totalmente isolados sem que um interfira em outro.\n",
    "\n",
    "- _conda package_ (Pacote): arquivo comprimido que contém todos os elementos necessários para o funcionamento de um software: bibliotecas, módulos, executáveis e componentes.\n",
    "\n",
    "- _conda repository_ (Repositório, ou _repo_): o repositório em nuvem mantido pela Anaconda.\n",
    "\n",
    "- Miniconda: é uma versão menor da distribuição que inclui apenas pacotes essenciais, tais como `conda`, `pip`, `zlib` e outros considerados básicos. Pode ser expandido pela instalação de pacotes adicionais.\n",
    "\n",
    "- _noarch package_ (Pacote independente de arquitetura): pacote que não contém nada específico à arquitetura de um sistema e que pode ser instalado em qualquer plataforma. `noarch` constitui um subdiretório em um canal.\n",
    "\n",
    "- Repositório: qualquer local onde ativos de software são armazenados e podem ser baixados ou recuperados para instalação e uso em computadores.\n",
    "\n",
    "\n",
    "```{note}\n",
    "Se você é novo com Python ou conda, recomenda-se instalar a distribuição _Anaconda_ (inteira) em vez da _Miniconda_, embora mais tempo e espaço em disco sejam necessários. A distribuição padrão requer cerca de 3 Gb de espaço em disco, ao passo que a _Miniconda_ ocupa em torno de 400 Mb.\n",
    "```"
   ]
  },
  {
   "cell_type": "markdown",
   "id": "78334ac5-a7fc-49bd-909d-e55de63c2424",
   "metadata": {},
   "source": [
    "## Comandos fundamentais\n",
    "\n",
    "A lista a seguir não é exaustiva e contempla os comandos `conda` mais frequentes. Baseia-se na [[Conda Cheat Sheet]](https://docs.conda.io/projects/conda/en/latest/_downloads/843d9e0198f2a193a3484886fa28163c/conda-cheatsheet.pdf)\n",
    "\n",
    "Aqui, dividiremos os comandos nos seguintes grupos: \n",
    "\n",
    "1. informação e atualização\n",
    "2. ambientes\n",
    "3. pacotes e canais\n",
    "4. adicionais"
   ]
  },
  {
   "cell_type": "markdown",
   "id": "f9dc98e1-608a-4b94-9dde-74bc8cd3e5a8",
   "metadata": {},
   "source": [
    "### Comandos para manutenção e atualização\n",
    "\n",
    "|comando|o que faz?|\n",
    "|---|---|\n",
    "|`conda --version` ou `conda -V`|verifica se conda está instalado |\n",
    "|`conda info`|verifica instalação e versão do conda|\n",
    "|`conda update -n base conda`|atualiza o gerenciador para a versão atual|\n",
    "|`conda update conda`|idem|\n",
    "|`conda update anaconda`|atualiza todos os pacotes da distribuição para versões estáveis|"
   ]
  },
  {
   "cell_type": "markdown",
   "id": "8726ed5c-a628-44f7-b096-aa505ce80814",
   "metadata": {},
   "source": [
    "### Comandos para trabalhar com ambientes\n",
    "\n",
    "|comando|o que faz?|\n",
    "|---|---|\n",
    "|`conda create --name AMB python=3.x \"PKG1>v.s\" PKG2`|cria novo ambiente com nome \"AMB\" para funcionar com a versão Python 3.x e instala neste ambiente os pacotes PKG1 e PKG2, sendo o primeiro na versão específica \"v.s\" e o outro a estável mais atual|\n",
    "|`conda activate AMB`|ativa o ambiente de nome AMB|\n",
    "|`conda activate /caminho/para/amb`|ativa um ambiente dado seu local|\n",
    "|`conda deactivate`|desativa o ambiente ativo|\n",
    "|`conda list`|lista todos os pacotes do ambiente ativo|\n",
    "|`conda list --name AMB`|lista todos os pacotes do ambiente AMB|\n",
    "|`conda remove --name AMB --all`|deleta todo o ambiente AMB|\n",
    "|`conda create --clone AMB --name NAMB`|faz um clone NAMB de AMB|\n",
    "|`conda env export --name AMB > amb.yml`|exporta configurações de AMB em um arquivo YAML|\n",
    "|`conda env create --file amb.yml`|cria AMB a partir de configurações contidas em um arquivo YAML|\n",
    "\n",
    "```{note}\n",
    "YAML (acrônimo para \"YAML Ain't Markup Language\") é uma linguagem de serialização de dados legível por humanos comumente usada para organizar arquivos de configuração. É utilizada em múltiplas linguagens. Veja [[YAML]](https://yaml.org).\n",
    "```\n",
    "\n",
    "```{warning}\n",
    "`conda activate` e `conda deactivate` somente funcionam a partir das versões 4.6 do `conda`. Para versões anteriores, no Windows usa-se `activate`/`deactivate` e no macOS, usa-se `source activate`/`source deactivate`.\n",
    "```"
   ]
  },
  {
   "cell_type": "markdown",
   "id": "58f43645-59d0-4167-86db-2e3e5b3acd1f",
   "metadata": {
    "tags": []
   },
   "source": [
    "### Comandos para trabalhar com pacotes e canais\n",
    "\n",
    "|comando|o que faz?|\n",
    "|---|---|\n",
    "|`conda search PCT=2.8 \"PCT [version='>=2.8,<3.2']\"`|procura pelo pacote PCT nos canais configurados cuja versão esteja no intervalo 2.8 <= v < 3.2|\n",
    "|`conda install PCT`|instala o pacote PCT, se disponível|\n",
    "|`conda install -c CH PCT`|instala o pacote AMB a partir do canal CH|\n",
    "|`conda install PCT==4.1.0`|instala o PCT com a versão especificada (4.1.0)|\n",
    "|`conda install \"PCT[version='3.1.0\\|3.1.1']\"`|instala pacote com uma das versões especificadas (OU)|\n",
    "|`conda install \"PCT>3.1,<3.5\" `|instala uma das das versões do pacote especificadas (E)|"
   ]
  },
  {
   "cell_type": "markdown",
   "id": "47f446c7-ff48-4826-bed9-c17e27702036",
   "metadata": {},
   "source": [
    "```{note}\n",
    "A lista de canais padrão utilizadas pela distribuição fica armazenada no arquivo oculto `.condarc`. A partir do caderno interativo, execute o comando `!cat ~/.condarc` para uma visão geral do conteúdo do arquivo `.condarc`.\n",
    "```"
   ]
  },
  {
   "cell_type": "markdown",
   "id": "3f296213-b55a-4926-bd18-f64e397c27f3",
   "metadata": {
    "tags": []
   },
   "source": [
    "### Comandos adicionais\n",
    "\n",
    "|comando|o que faz?|\n",
    "|---|---|\n",
    "|`conda search AMB --info`|fornece informação detalhada sobre o pacote AMB|\n",
    "|`conda clean --all`|remove pacotes inutilizados|\n",
    "|`conda uninstall PCT --name AMB`|remove o pacote PCT do ambiente AMB|\n",
    "|`conda update --all --name AMB`|atualiza todos os pacotes do ambiente AMB|\n",
    "|`conda install --yes PCT1 PCT2`|instala pacotes sem exigir prompt do usuário|\n",
    "|`conda -h`|para obter ajuda sobre os comandos disponíveis do gerenciador|"
   ]
  },
  {
   "cell_type": "markdown",
   "id": "6665806b-e630-4081-8369-5af203afa558",
   "metadata": {},
   "source": [
    "```{tip}\n",
    "Em muitos casos, opções de comandos que são precedidas por 2 hífens (`--`) podem ser abreviadas para apenas 1 hífen e a primeira letra da opção. Então, `--name` e `-n`, bem como `--envs` e `-n` são opções equivalentes.\n",
    "```"
   ]
  },
  {
   "cell_type": "markdown",
   "id": "91b707e9-8b9c-42ae-9413-d0d5513fa8fd",
   "metadata": {},
   "source": [
    "## Exemplos\n",
    "\n",
    "- Criar ambiente chamado \"dataScience\" com versão Python 3.8 contendo os pacotes numpy, versão 1.19.1, e pandas, mais atual no repositório Anaconda.\n",
    "\n",
    "```bash\n",
    "conda create --name dataScience python=3.8 numpy=1.19.1 pandas\n",
    "```\n",
    "\n",
    "- Alternar entre ambientes\n",
    "\n",
    "Abaixo, vamos reproduzir a mudança de um ambiente para outro em um Z Shell apontando para a pasta _ICD_ e mostrar que o pacote `scipy` está instalado em um ambiente, mas não em outro.\n",
    "\n",
    "\n",
    "```bash\n",
    "# no ambiente 'base', procuramos pelo pacote 'scipy'\n",
    "(base) gustavo@GloryCrown ICD % conda list scipy\n",
    "```\n",
    "```\n",
    "# packages in environment at /Users/gustavo/opt/anaconda3:\n",
    "#\n",
    "# Name                    Version                   Build  Channel\n",
    "scipy                     1.6.2            py38hd5f7400_1\n",
    "```\n",
    "\n",
    "```bash\n",
    "# ativamos um novo ambiente chamado 'lecture'\n",
    "(base) gustavo@GloryCrown ICD % conda activate lecture\n",
    "(lecture) gustavo@GloryCrown ICD %\n",
    "```\n",
    "\n",
    "```bash\n",
    "# dentro do ambiente 'lecture', procuramos pelo pacote 'scipy'\n",
    "(lecture) gustavo@GloryCrown ICD % conda list scipy\n",
    "```\n",
    "\n",
    "```\n",
    "# packages in environment at /Users/gustavo/opt/anaconda3/envs/lecture:\n",
    "#\n",
    "# Name                    Version                   Build  Channel\n",
    "```"
   ]
  },
  {
   "cell_type": "markdown",
   "id": "ac10fb7b-badf-4afa-adad-36d7d5c5df39",
   "metadata": {},
   "source": [
    "Nada é mostrado, significando que o pacote `scipy` está indisponível no ambiente `lecture`. Enfim, desativamos o ambiente ativo.\n",
    "\n",
    "```bash\n",
    "# desativamos 'lecture' e voltamos para 'base'\n",
    "(lecture) gustavo@GloryCrown ICD % conda deactivate\n",
    "(base) gustavo@GloryCrown ICD %\n",
    "```\n",
    "\n",
    "- Criar arquivo YAML para construção de ambiente personalizado\n",
    "\n",
    "    - Abra seu editor de texto preferido (sugestão: no Windows, `notepad++`; no Linux, `gedit`; no macOS, `TextEdit`);\n",
    "    - Salve o arquivo como `icd.yml`;\n",
    "    - Personalize o seu ambiente (use o modelo a seguir); \n",
    "    - Use o comando `conda env create -f icd.yml` para criar o ambiente;\n",
    "    - Verifique se o ambiente foi criado corretamente com `conda env list`. Você deve ver algo como: \n",
    "    \n",
    "```    \n",
    "(base) gustavo@GloryCrown ICD % conda env list\n",
    "# conda environments:\n",
    "#\n",
    "base                  *  /Users/gustavo/opt/anaconda3\n",
    "icd                      /Users/gustavo/opt/anaconda3/envs/icd\n",
    "``` \n",
    "```yaml\n",
    "# Conteúdo do arquivo  \"icd.yaml\" \n",
    "# para construir o ambiente 'icd'\n",
    "name: icd # nome do ambiente\n",
    "channels: # lista de canais a utilizar\n",
    "  - defaults # canais padrão\n",
    "  - conda-forge\n",
    "dependencies: # pacotes dependentes\n",
    "  - numpy\n",
    "  - scipy\n",
    "  - sympy\n",
    "  - matplotlib\n",
    "  - pandas\n",
    "  - seaborn  \n",
    "```   "
   ]
  },
  {
   "cell_type": "markdown",
   "id": "eb50fbc7-c4e8-4c44-b9fa-d829c897d79a",
   "metadata": {},
   "source": [
    "```{tip}\n",
    "Quando você precisar atualizar o seu ambiente de ciência de dados, seja porque necessita de um pacote novo, ou porque encontrou um pacote melhor, basta atualizar o conteúdo do arquivo `icd.yml` e então executar o seguinte comando: `conda env update --file icd.yml --prune`. A opção `--prune` faz com que o conda remova dependêncaias que não forem mais necessárias.\n",
    "```"
   ]
  },
  {
   "cell_type": "markdown",
   "id": "2dc48265-2dcd-4af9-971d-4604fbffad8d",
   "metadata": {},
   "source": [
    "## Desempenho do _conda_\n",
    "\n",
    "A instalação de pacotes pode tornar-se lenta por uma variedade de motivos: processamento de metadados, velocidade de internt, verificação de dependências, etc. À medida que o número de pacotes disponíveis aumenta, a busca que o _conda_ realiza pode perdurar por mais tempo. \n",
    "\n",
    "Caso ao tentar instalar um pacote haja lentidão, há algumas questões a analisar. Verifique se há dependências instaladas via `pip`; se os canais estão disponíveis; se o pacote que você está tentando instalar está disponível. \n",
    "\n",
    "Para melhorar o desempenho consulte recomendações [aqui](https://docs.conda.io/projects/conda/en/latest/user-guide/concepts/conda-performance.html#improving-conda-performance).\n",
    "\n",
    "```{hint}\n",
    "Trabalhar com ambientes menores e dedicados é sempre melhor e mais rápido do que ter ambientes grandes, que são bem mais difíceis de gerenciar. Para ganhar desempenho, reduza a complexidade de seus ambientes.\n",
    "```"
   ]
  },
  {
   "cell_type": "markdown",
   "id": "38543d95-3266-4f35-8d04-01b24bf7629f",
   "metadata": {},
   "source": [
    "## Exercícios\n",
    "\n",
    "- Usando o `conda`, crie um novo ambiente de trabalho para o curso chamado `icd`.\n",
    "- Ative o novo ambiente e instale:\n",
    "    - o pacote `numpy` em sua versão mais recente;\n",
    "    - o pacote `scipy` na versão 1.6.0;\n",
    "- Execute o comando `conda list ncurses`. Qual é a resposta? Ele está instalado? Qual é a versão?\n",
    "- Use um comando para buscar informações sobre a versão mais recente do pacote `sympy`. Quantas e quais são as suas dependências?\n",
    "- Desinstale o pacote `scipy`. Quantos pacotes permaneceram em seu ambiente?\n",
    "- Desinstale o pacote `numpy`. Algum pacote ainda permaneceu em seu ambiente? Por quê?\n",
    "- Desative o ambiente `icd` e delete-o completamente.\n",
    "- Crie um novo ambiente personalizado `icd` a partir de um arquivo YAML."
   ]
  }
 ],
 "metadata": {
  "kernelspec": {
   "display_name": "Python 3",
   "language": "python",
   "name": "python3"
  },
  "language_info": {
   "codemirror_mode": {
    "name": "ipython",
    "version": 3
   },
   "file_extension": ".py",
   "mimetype": "text/x-python",
   "name": "python",
   "nbconvert_exporter": "python",
   "pygments_lexer": "ipython3",
   "version": "3.8.8"
  }
 },
 "nbformat": 4,
 "nbformat_minor": 5
}
