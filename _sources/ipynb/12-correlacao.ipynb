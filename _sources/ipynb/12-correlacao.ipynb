{
 "cells": [
  {
   "cell_type": "markdown",
   "id": "1610e77d-98dc-4559-ae67-f5a136c70335",
   "metadata": {},
   "source": [
    "# Correlação"
   ]
  },
  {
   "cell_type": "markdown",
   "id": "8e07b24a-719c-4623-ab56-5cb78dd02f55",
   "metadata": {},
   "source": [
    "Correlação é qualquer associação estatística entre um par de variáveis. Quanto mais correlacionadas estão duas variáveis, mais \"alinhamento\" há entre elas. Isto é, uma análise de correlação fornece um número que resume o grau de relacionamento linear entre duas variáveis. Introduziremos este assunto com alguns conceitos fundamentais.\n",
    "\n",
    "## Associação entre variáveis e causalidade\n",
    "\n",
    "A associação entre duas variáveis pode ocorrer de duas formas: \n",
    "\n",
    "- _correlacional_: neste caso, não há interferência alguma sobre as variáveis observadas. As variáveis são _aleatórias_ e seus comportamentos ocorrem conforme a \"natureza\" determina. Por exemplo, o exercício físico e a queima calórica possuem correlação positiva, pois quanto mais intensamente nos exercitamos, mais queimamos caloria. \n",
    "\n",
    "- _experimental_: neste caso, uma das variáveis é controlada e esta interfere sobre a outra. Isto é, uma variável A é a _causa_ (variável independente) e a outra, B, o _efeito_ (variável independente). Uma sentença lógica do tipo \"se A, então B\" estabelece a idéia de _causalidade_. Por exemplo: quando cientistas estudam a administração de fármacos em um organismo, eles analisam os efeitos dessa droga naquele organismo. Logo, a droga é a causa; a resposta orgânica, o efeito. \n",
    "\n",
    "A causalidade é um assunto muito mais delicado e possui fortes implicações filosóficas, pois, em geral, para se concluir que B é consequência de A, é necessário ter uma _prova_ disso. Porém, nem sempre é possível provar muitas relações de causa/efeito que presenciamos. Para uma discussão no âmbito filosófico, consulte este [post](https://philosophyterms.com/causality/).\n",
    "\n",
    "### Correlação e dependência linear\n",
    "\n",
    "Podemos interpretar a _correlação_ também pelo ponto de vista de \"dependência linear\". Duas variáveis perfeitamente correlacionadas são similares a dois vetores paralelos, ou seja, linearmente dependentes. Por outro lado, duas variáveis totalmente não correlacionadas são similares a dois vetores perpendiculares, ou seja, linearmente independentes."
   ]
  },
  {
   "cell_type": "markdown",
   "id": "aa8fddde-6985-4b69-9c4f-df1b686072fc",
   "metadata": {},
   "source": [
    "## Escore padronizado\n",
    "\n",
    "Medir correlações envolve desafios. Um deles surge quando as variáveis que queremos comparar não estão expressas na mesma unidade. Por exemplo, você pode desejar correlacionar alturas medidas em centímetros e pesos medidos em quilogramas. Por outro lado, ainda que as unidades sejam as mesmas, o segundo desafio aparece quando as variáveis provêm de distribuições diferentes.\n",
    "\n",
    "As duas soluções comuns para lidar com esses problemas são:\n",
    "\n",
    "1. Transformar todos os valores para um _escore padronizado_. \n",
    "2. Transformar todos os valores para ranques baseados em percentis.\n",
    "\n",
    "Como veremos adiante, a primeira solução leva-nos ao _coeficiente de correlação de Pearson_; a segunda, ao _coeficiente de Spearman_.\n",
    "\n",
    "```{note}\n",
    "Outros nomes para o escore padronizado são _escore Z_, _teste Z_ ou _Z-score_.\n",
    "```\n",
    "\n",
    "Para converter uma série $X$ de valores $x_i$ em uma escala padronizada de escores, subtraímos a média dos dados e dividimos esta diferença pelo desvio padrão. Isto é: \n",
    "\n",
    "$$z_i = \\dfrac{x_i - \\mu}{\\sigma},$$\n",
    "\n",
    "onde $\\mu$ é a média e $\\sigma$ o desvio padrão. \n",
    "\n",
    "Ao dividir os desvios (numerador) pelo desvio padrão, na verdade, estamos _normalizando_ o desvio, de modo que os valores $z_i$ da nova série $Z$ são adimensionais (não possuem unidades), possuam média 0 e variância 1. A série $Z$ herda a \"forma\" de $X$."
   ]
  },
  {
   "cell_type": "markdown",
   "id": "c5b803e9-c03d-4661-8e31-3985453d70d0",
   "metadata": {},
   "source": [
    "Primeiro, importemos os módulos que usaremos."
   ]
  },
  {
   "cell_type": "code",
   "execution_count": 1,
   "id": "50cd3b2a-b0e2-441a-8c77-04a81c348990",
   "metadata": {},
   "outputs": [],
   "source": [
    "import pandas as pd\n",
    "import numpy as np\n",
    "import matplotlib.pyplot as plt\n",
    "import scipy.stats as sts"
   ]
  },
  {
   "cell_type": "markdown",
   "id": "1275e084-2b07-408f-9e21-683d995e1b82",
   "metadata": {},
   "source": [
    "Vejamos exemplos:"
   ]
  },
  {
   "cell_type": "code",
   "execution_count": 2,
   "id": "7879a72e-4b67-4c0d-b68f-8d90da439056",
   "metadata": {},
   "outputs": [
    {
     "data": {
      "text/html": [
       "<div>\n",
       "<style scoped>\n",
       "    .dataframe tbody tr th:only-of-type {\n",
       "        vertical-align: middle;\n",
       "    }\n",
       "\n",
       "    .dataframe tbody tr th {\n",
       "        vertical-align: top;\n",
       "    }\n",
       "\n",
       "    .dataframe thead th {\n",
       "        text-align: right;\n",
       "    }\n",
       "</style>\n",
       "<table border=\"1\" class=\"dataframe\">\n",
       "  <thead>\n",
       "    <tr style=\"text-align: right;\">\n",
       "      <th></th>\n",
       "      <th>Idade</th>\n",
       "      <th>Peso</th>\n",
       "      <th>Altura</th>\n",
       "      <th>IMC</th>\n",
       "    </tr>\n",
       "  </thead>\n",
       "  <tbody>\n",
       "    <tr>\n",
       "      <th>Ana</th>\n",
       "      <td>20</td>\n",
       "      <td>55</td>\n",
       "      <td>162</td>\n",
       "      <td>20.96</td>\n",
       "    </tr>\n",
       "    <tr>\n",
       "      <th>João</th>\n",
       "      <td>19</td>\n",
       "      <td>80</td>\n",
       "      <td>178</td>\n",
       "      <td>25.25</td>\n",
       "    </tr>\n",
       "    <tr>\n",
       "      <th>Maria</th>\n",
       "      <td>21</td>\n",
       "      <td>62</td>\n",
       "      <td>162</td>\n",
       "      <td>23.62</td>\n",
       "    </tr>\n",
       "    <tr>\n",
       "      <th>Pedro</th>\n",
       "      <td>22</td>\n",
       "      <td>67</td>\n",
       "      <td>165</td>\n",
       "      <td>24.61</td>\n",
       "    </tr>\n",
       "    <tr>\n",
       "      <th>Túlio</th>\n",
       "      <td>20</td>\n",
       "      <td>73</td>\n",
       "      <td>171</td>\n",
       "      <td>24.96</td>\n",
       "    </tr>\n",
       "  </tbody>\n",
       "</table>\n",
       "</div>"
      ],
      "text/plain": [
       "       Idade  Peso  Altura    IMC\n",
       "Ana       20    55     162  20.96\n",
       "João      19    80     178  25.25\n",
       "Maria     21    62     162  23.62\n",
       "Pedro     22    67     165  24.61\n",
       "Túlio     20    73     171  24.96"
      ]
     },
     "execution_count": 2,
     "metadata": {},
     "output_type": "execute_result"
    }
   ],
   "source": [
    "# dataframe\n",
    "dfp = pd.DataFrame({'Idade': np.array([20,19,21,22,20]),\n",
    "       'Peso': np.array([55,80,62,67,73]),\n",
    "       'Altura': np.array([162,178,162,165,171]),\n",
    "       'IMC':np.array([20.96, 25.25, 23.62, 24.61, 24.96])},\n",
    "        index=['Ana','João','Maria','Pedro','Túlio'])\n",
    "dfp"
   ]
  },
  {
   "cell_type": "markdown",
   "id": "442dd2fc-4f83-472f-9a98-27818884fe40",
   "metadata": {},
   "source": [
    "Vamos calcular o _z-score_ para todas as _Series_ do _DataFrame_."
   ]
  },
  {
   "cell_type": "code",
   "execution_count": 3,
   "id": "f98d3044-6216-4fce-8219-adebb375a8a3",
   "metadata": {},
   "outputs": [],
   "source": [
    "def zScore(df,colname):\n",
    "    s = df[colname]\n",
    "    return (s - s.mean())/s.std(ddof=0) # ddof = 0 para dividir por N"
   ]
  },
  {
   "cell_type": "code",
   "execution_count": 4,
   "id": "5c21a4f5-444b-40bc-bd64-730fe49da805",
   "metadata": {},
   "outputs": [
    {
     "data": {
      "text/html": [
       "<div>\n",
       "<style scoped>\n",
       "    .dataframe tbody tr th:only-of-type {\n",
       "        vertical-align: middle;\n",
       "    }\n",
       "\n",
       "    .dataframe tbody tr th {\n",
       "        vertical-align: top;\n",
       "    }\n",
       "\n",
       "    .dataframe thead th {\n",
       "        text-align: right;\n",
       "    }\n",
       "</style>\n",
       "<table border=\"1\" class=\"dataframe\">\n",
       "  <thead>\n",
       "    <tr style=\"text-align: right;\">\n",
       "      <th></th>\n",
       "      <th>Idade:Z-score</th>\n",
       "      <th>Peso:Z-score</th>\n",
       "      <th>Altura:Z-score</th>\n",
       "      <th>IMC:Z-score</th>\n",
       "    </tr>\n",
       "  </thead>\n",
       "  <tbody>\n",
       "    <tr>\n",
       "      <th>Ana</th>\n",
       "      <td>-0.392232</td>\n",
       "      <td>-1.435277</td>\n",
       "      <td>-0.910359</td>\n",
       "      <td>-1.871626</td>\n",
       "    </tr>\n",
       "    <tr>\n",
       "      <th>João</th>\n",
       "      <td>-1.372813</td>\n",
       "      <td>1.458427</td>\n",
       "      <td>1.690666</td>\n",
       "      <td>0.878126</td>\n",
       "    </tr>\n",
       "    <tr>\n",
       "      <th>Maria</th>\n",
       "      <td>0.588348</td>\n",
       "      <td>-0.625040</td>\n",
       "      <td>-0.910359</td>\n",
       "      <td>-0.166652</td>\n",
       "    </tr>\n",
       "    <tr>\n",
       "      <th>Pedro</th>\n",
       "      <td>1.568929</td>\n",
       "      <td>-0.046299</td>\n",
       "      <td>-0.422666</td>\n",
       "      <td>0.467906</td>\n",
       "    </tr>\n",
       "    <tr>\n",
       "      <th>Túlio</th>\n",
       "      <td>-0.392232</td>\n",
       "      <td>0.648190</td>\n",
       "      <td>0.552718</td>\n",
       "      <td>0.692245</td>\n",
       "    </tr>\n",
       "  </tbody>\n",
       "</table>\n",
       "</div>"
      ],
      "text/plain": [
       "       Idade:Z-score  Peso:Z-score  Altura:Z-score  IMC:Z-score\n",
       "Ana        -0.392232     -1.435277       -0.910359    -1.871626\n",
       "João       -1.372813      1.458427        1.690666     0.878126\n",
       "Maria       0.588348     -0.625040       -0.910359    -0.166652\n",
       "Pedro       1.568929     -0.046299       -0.422666     0.467906\n",
       "Túlio      -0.392232      0.648190        0.552718     0.692245"
      ]
     },
     "execution_count": 4,
     "metadata": {},
     "output_type": "execute_result"
    }
   ],
   "source": [
    "# cria novo dataframe de z-scores\n",
    "\n",
    "Z = {}\n",
    "\n",
    "for c in dfp.columns:    \n",
    "    Z[c + ':Z-score'] = zScore(dfp,c)\n",
    "\n",
    "dfpz = pd.DataFrame(Z)\n",
    "dfpz"
   ]
  },
  {
   "cell_type": "markdown",
   "id": "848b6894-c92a-44f7-942a-d366648eca8b",
   "metadata": {},
   "source": [
    "Comentários: \n",
    "\n",
    "- Os _z-score_ ajudam a entender se uma observação específica é comum ou excepcional: \n",
    "    - _z-score_ < 0 representam valores abaixo da média;\n",
    "    - _z-score_ > 0 representam valores acima da média;\n",
    "    - _z-score_ da média é 0, uma vez que ela é ponto médio;\n",
    "    - A soma dos _z-score_ = 0;\n",
    "    - _z-scores_ com valores positivos extremamente altos indicam uma distribuição com _assimetria à direita_ (mais sobre isso adiante);\n",
    "    - _z-scores_ com valores negativos extremamente altos indicam uma distribuição com _assimetria à esquerda_ (mais sobre isso adiante);\n",
    "    - se |_z-score_| > 2, a distribuição é incomum ou excepcional."
   ]
  },
  {
   "cell_type": "code",
   "execution_count": 5,
   "id": "589d312d-1226-464a-a272-aaebc2a3f904",
   "metadata": {},
   "outputs": [
    {
     "data": {
      "text/plain": [
       "Idade:Z-score     6.772360e-15\n",
       "Peso:Z-score     -3.219647e-15\n",
       "Altura:Z-score    4.662937e-15\n",
       "IMC:Z-score      -6.994405e-15\n",
       "dtype: float64"
      ]
     },
     "execution_count": 5,
     "metadata": {},
     "output_type": "execute_result"
    }
   ],
   "source": [
    "# Z-Score das séries têm soma nula\n",
    "dfpz.sum(axis=0)"
   ]
  },
  {
   "cell_type": "markdown",
   "id": "036f9f11-43c0-4316-9c71-50f5a1978856",
   "metadata": {},
   "source": [
    "Calculando o z-score por função predefinida."
   ]
  },
  {
   "cell_type": "code",
   "execution_count": 6,
   "id": "fe36def3-5dab-4cbf-bb18-496a041566cf",
   "metadata": {},
   "outputs": [
    {
     "data": {
      "text/html": [
       "<div>\n",
       "<style scoped>\n",
       "    .dataframe tbody tr th:only-of-type {\n",
       "        vertical-align: middle;\n",
       "    }\n",
       "\n",
       "    .dataframe tbody tr th {\n",
       "        vertical-align: top;\n",
       "    }\n",
       "\n",
       "    .dataframe thead th {\n",
       "        text-align: right;\n",
       "    }\n",
       "</style>\n",
       "<table border=\"1\" class=\"dataframe\">\n",
       "  <thead>\n",
       "    <tr style=\"text-align: right;\">\n",
       "      <th></th>\n",
       "      <th>Idade:Z-score</th>\n",
       "      <th>Peso:Z-score</th>\n",
       "      <th>Altura:Z-score</th>\n",
       "      <th>IMC:Z-score</th>\n",
       "    </tr>\n",
       "  </thead>\n",
       "  <tbody>\n",
       "    <tr>\n",
       "      <th>Ana</th>\n",
       "      <td>-0.392232</td>\n",
       "      <td>-1.435277</td>\n",
       "      <td>-0.910359</td>\n",
       "      <td>-1.871626</td>\n",
       "    </tr>\n",
       "    <tr>\n",
       "      <th>João</th>\n",
       "      <td>-1.372813</td>\n",
       "      <td>1.458427</td>\n",
       "      <td>1.690666</td>\n",
       "      <td>0.878126</td>\n",
       "    </tr>\n",
       "    <tr>\n",
       "      <th>Maria</th>\n",
       "      <td>0.588348</td>\n",
       "      <td>-0.625040</td>\n",
       "      <td>-0.910359</td>\n",
       "      <td>-0.166652</td>\n",
       "    </tr>\n",
       "    <tr>\n",
       "      <th>Pedro</th>\n",
       "      <td>1.568929</td>\n",
       "      <td>-0.046299</td>\n",
       "      <td>-0.422666</td>\n",
       "      <td>0.467906</td>\n",
       "    </tr>\n",
       "    <tr>\n",
       "      <th>Túlio</th>\n",
       "      <td>-0.392232</td>\n",
       "      <td>0.648190</td>\n",
       "      <td>0.552718</td>\n",
       "      <td>0.692245</td>\n",
       "    </tr>\n",
       "  </tbody>\n",
       "</table>\n",
       "</div>"
      ],
      "text/plain": [
       "       Idade:Z-score  Peso:Z-score  Altura:Z-score  IMC:Z-score\n",
       "Ana        -0.392232     -1.435277       -0.910359    -1.871626\n",
       "João       -1.372813      1.458427        1.690666     0.878126\n",
       "Maria       0.588348     -0.625040       -0.910359    -0.166652\n",
       "Pedro       1.568929     -0.046299       -0.422666     0.467906\n",
       "Túlio      -0.392232      0.648190        0.552718     0.692245"
      ]
     },
     "execution_count": 6,
     "metadata": {},
     "output_type": "execute_result"
    }
   ],
   "source": [
    "Z2 = {}\n",
    "\n",
    "for c in dfp.columns:    \n",
    "    Z2[c + ':Z-score'] = sts.zscore(dfp[c])\n",
    "\n",
    "dfpz2 = pd.DataFrame(Z2,index=dfp.index)\n",
    "dfpz2"
   ]
  },
  {
   "cell_type": "code",
   "execution_count": 7,
   "id": "c1b783b0-ec1e-4408-8e5e-b36f4b05aa96",
   "metadata": {},
   "outputs": [
    {
     "data": {
      "text/plain": [
       "Idade:Z-score     True\n",
       "Peso:Z-score      True\n",
       "Altura:Z-score    True\n",
       "IMC:Z-score       True\n",
       "dtype: bool"
      ]
     },
     "execution_count": 7,
     "metadata": {},
     "output_type": "execute_result"
    }
   ],
   "source": [
    "# ambos os métodos dão resultados idênticos\n",
    "(dfpz == dfpz2).all()"
   ]
  },
  {
   "cell_type": "markdown",
   "id": "b95ac749-f99d-4f6a-bae1-4dedaa240fcd",
   "metadata": {},
   "source": [
    "### Plot de _z-scores_\n",
    "\n",
    "A plotagem dos _z-scores_ pode ser feita diretamente com `plot` a partir da _Series_ $Z$ de interesse."
   ]
  },
  {
   "cell_type": "code",
   "execution_count": 8,
   "id": "8bf80ecd-b7f2-4c61-b880-6be9a2ddd2bd",
   "metadata": {},
   "outputs": [
    {
     "data": {
      "image/png": "[encoded data removed]",
      "text/plain": [
       "<Figure size 432x288 with 1 Axes>"
      ]
     },
     "metadata": {
      "needs_background": "light"
     },
     "output_type": "display_data"
    }
   ],
   "source": [
    "dfpz['Peso:Z-score'].plot(marker='o',ls='');"
   ]
  },
  {
   "cell_type": "code",
   "execution_count": 9,
   "id": "7141f2f9-e4b0-4ca3-be90-3b5757963dab",
   "metadata": {},
   "outputs": [
    {
     "data": {
      "image/png": "[encoded data removed]",
      "text/plain": [
       "<Figure size 432x288 with 1 Axes>"
      ]
     },
     "metadata": {
      "needs_background": "light"
     },
     "output_type": "display_data"
    }
   ],
   "source": [
    "dfpz['IMC:Z-score'].plot(marker='o',ls='',color='g');"
   ]
  },
  {
   "cell_type": "markdown",
   "id": "150bafef-787e-4b60-9439-8dc8d4837915",
   "metadata": {},
   "source": [
    "Comentários: \n",
    "\n",
    "- A partir desses plots, vemos claramente qual discente está \"acima da\", \"abaixo da\" ou \"na\" média perante a variável escolhida."
   ]
  },
  {
   "cell_type": "markdown",
   "id": "b7ab8da1-7b78-4a1f-9ed4-0a9a9d7ad030",
   "metadata": {},
   "source": [
    "## Covariância\n",
    "\n",
    "Já vimos que a variância de um conjunto de dados mede quanto uma variável desvia-se do valor médio, seja em nível de amostra ou de população. Quando queremos compreender como duas variáveis variam juntas, aplicamos o conceito de _covariância_. Se $X$ e $Y$ são duas _Series_, a covariância entre ambas é dada por \n",
    "\n",
    "$$\\textrm{cov}(X,Y) = \\frac{1}{n}\\sum_{i=1}^n(x_i - \\mu_X)(y_i - \\mu_Y),$$\n",
    "\n",
    "onde $n$ é o número de elementos na série (igual em ambas) e $\\mu_X$ ($\\mu_Y$) é a média de $X$($Y$). \n",
    "\n",
    "Notemos que a covariância é uma \"média\" do produto dos desvios."
   ]
  },
  {
   "cell_type": "markdown",
   "id": "48c67bdb-ccb6-4d43-b880-e55b982503de",
   "metadata": {},
   "source": [
    "**Exemplo:** vamos criar uma função para o cálculo da variância."
   ]
  },
  {
   "cell_type": "code",
   "execution_count": 10,
   "id": "4386e91d-44e7-47f3-ad2b-7be5aae9a13d",
   "metadata": {},
   "outputs": [],
   "source": [
    "# covariância\n",
    "def cov(df,colname1,colname2):\n",
    "    s1,s2 = df[colname1],df[colname2]\n",
    "    return np.dot( s1 - s1.mean(), s2 - s2.mean() )/(len(s1)-1)"
   ]
  },
  {
   "cell_type": "markdown",
   "id": "f3513846-2217-4664-a7fd-985929f68b99",
   "metadata": {},
   "source": [
    "Testemos a covariância entre as variáveis de nosso _DataFrame_ de estudo."
   ]
  },
  {
   "cell_type": "code",
   "execution_count": 11,
   "id": "f02c2fd3-1da0-4238-8f5f-b55873296ccf",
   "metadata": {},
   "outputs": [
    {
     "data": {
      "text/plain": [
       "(62.7, -4.7, -5.300000000000001)"
      ]
     },
     "execution_count": 11,
     "metadata": {},
     "output_type": "execute_result"
    }
   ],
   "source": [
    "cov(dfp,'Altura','Peso'), cov(dfp,'Idade','Peso'), cov(dfp,'Idade','Altura')"
   ]
  },
  {
   "cell_type": "markdown",
   "id": "0a7d0163-c41e-4360-8044-8df8206161f4",
   "metadata": {},
   "source": [
    "Comentários:\n",
    "- Esses cálculos mostram que variações de _altura_ e _peso_ interferem consideravelmente uma na outra \"na mesma direção\".\n",
    "- Porém, não notamos o mesmo comportamento para _idade_ e _peso_ ou para _idade_ e _altura_."
   ]
  },
  {
   "cell_type": "markdown",
   "id": "de4bb374-454d-4c2a-92c8-953e0be4625c",
   "metadata": {},
   "source": [
    "Podemos checar o cálculo de nossa função com a função `var` do _pandas_, sabendo que $\\text{cov}(X,X) = \\text{var}(X) = S^2(X), \\, \\forall X$."
   ]
  },
  {
   "cell_type": "code",
   "execution_count": 12,
   "id": "12faa032-d226-4b3a-93b4-78e5650c2367",
   "metadata": {},
   "outputs": [
    {
     "data": {
      "text/plain": [
       "(47.3, 47.3)"
      ]
     },
     "execution_count": 12,
     "metadata": {},
     "output_type": "execute_result"
    }
   ],
   "source": [
    "cov(dfp,'Altura','Altura'), dfp['Altura'].var()"
   ]
  },
  {
   "cell_type": "markdown",
   "id": "b07038db-264f-4ee7-b0d9-6859ad8cb9fa",
   "metadata": {},
   "source": [
    "Outra forma de calcular a covariância é usar o método `cov` de uma `pandas.Series`."
   ]
  },
  {
   "cell_type": "code",
   "execution_count": 13,
   "id": "80e52a90-09ca-448a-a3ef-ce9541658393",
   "metadata": {},
   "outputs": [
    {
     "data": {
      "text/plain": [
       "62.7"
      ]
     },
     "execution_count": 13,
     "metadata": {},
     "output_type": "execute_result"
    }
   ],
   "source": [
    "dfp['Altura'].cov(dfp['Peso'])"
   ]
  },
  {
   "cell_type": "markdown",
   "id": "dd394a21-eb60-46d0-b97b-61e412882a7c",
   "metadata": {},
   "source": [
    "### Matriz de covariâncias"
   ]
  },
  {
   "cell_type": "markdown",
   "id": "b2c2129e-bfe3-4abd-b289-4336f3dfd3f3",
   "metadata": {},
   "source": [
    "Podemos usar a função `numpy.cov()` para computar a covariância entre duas _Series_ $X$ e $Y$. Para tanto, devemos passar a matriz $[X \\ \\ Y]$ como parâmetro para a função. \n",
    "\n",
    "A resposta é uma _matriz de covariâncias_ 2x2 cujas entradas são: \n",
    "\n",
    "$$\\begin{bmatrix}\n",
    "\\text{cov}(X,X) & \\text{cov}(X,Y) \\\\\n",
    "\\text{cov}(Y,X) & \\text{cov}(Y,Y)\n",
    "\\end{bmatrix}$$"
   ]
  },
  {
   "cell_type": "code",
   "execution_count": 14,
   "id": "1a52ba29-af77-43b2-abbe-4c14af1c3570",
   "metadata": {},
   "outputs": [
    {
     "data": {
      "text/plain": [
       "array([[47.3, 62.7],\n",
       "       [62.7, 93.3]])"
      ]
     },
     "execution_count": 14,
     "metadata": {},
     "output_type": "execute_result"
    }
   ],
   "source": [
    "X, Y = dfp['Altura'], dfp['Peso']\n",
    "np.cov(np.array([X,Y]))"
   ]
  },
  {
   "cell_type": "markdown",
   "id": "d638ee43-ac7c-44f0-897e-ed7ce4afd81a",
   "metadata": {},
   "source": [
    "## Correlação\n",
    "\n",
    "Uma das dificuldades conhecidas da covariância é a sua interpretação. Uma vez que ela é dada pelo produto das unidades de suas entradas, muito frequentemente será inviável atribuir significado ao número. Por exemplo, se a unidade de $X$ for quilogramas e $Y$ for anos, a unidade da covariância seria quilogramas vezes anos. Um meio de solucionar este problema é dividir o produto da covariância pelo desvio padrão de cada série de dados, assim formando o conceito de _correlação_, dado por: \n",
    "\n",
    "$$\\rho(X,Y) = \\frac{1}{n}\\sum_{i=1}^n\\frac{(x_i - \\mu_X)}{\\sigma_X}\\frac{(y_i - \\mu_Y)}{\\sigma_Y}.$$\n",
    "\n",
    "Em outras palavras, a correlação é a soma do produto de escores padronizados. \n",
    "\n",
    "### Coeficiente de correlação de Pearson\n",
    "\n",
    "Se os desvios forem retirados da somatória, a expressão torna-se: \n",
    "\n",
    "$$\\rho(X,Y) = \\frac{1}{\\sigma_X \\sigma_Y}\\frac{1}{n}\\sum_{i=1}^n(x_i - \\mu_X)(y_i - \\mu_Y) = \\frac{\\textrm{cov}(X,Y)}{{\\sigma_X \\sigma_Y}}.$$\n",
    "\n",
    "O número $\\rho$ é chamado de _coeficiente de correlação de Pearson_, ou simplesmente _correlação de Pearson_, e vale que $-1 \\leq \\rho \\leq 1$. A magnitude de $\\rho$ determina a _força de correlação_ entre as variáveis. Em geral, a seguinte interpretação é utilizada: \n",
    "\n",
    "- $\\rho = 1$: as variáveis são perfeitamente correlacionadas.\n",
    "- $\\rho = 0$: as variáveis são correlacionadas de alguma forma, mas **não** linearmente. Neste sentido, $\\rho$ subestimará a força da dependência linear.\n",
    "- $\\rho = -1$: idem, porém negativamente.\n",
    "\n",
    "Na finalidade de predizer algo nos dados, correlação máxima negativa, assim como positva, podem ser igualmente boas. No mundo real, correlações perfeitas são raridade, mas estimativas \"quase\" perfeitas podem ser feitas.\n",
    "\n",
    "```{info}\n",
    "O coeficiente de correlação de Pearson é devido ao estatístico Karl Pearson.\n",
    "```\n",
    "\n",
    "A {numref}`correlation` mostra _datasets_ que possuem correlação linear e não-linear, acompanhados dos valores de $\\rho$. Como se observa na linha superior, $\\rho = \\pm 1$ mostram plotagens de retas com inclinação positiva ou negativa, ao passo que valores intermediários mostram \"manchas\" que variam de formas elípticas inclinadas à esquerda ou à direita e circular. Na linha inferior, vemos diversos casos em que $\\rho=0$, mas \"manchas\" com estruturas \"não lineares\" bem definidas são distinguíveis.\n",
    "\n",
    "```{figure} ../figs/12/correlation.png\n",
    "---\n",
    "width: 600px\n",
    "name: correlation\n",
    "---\n",
    "Datasets com diferentes correlações de Pearson. Fonte: Wikipedia.\n",
    "```"
   ]
  },
  {
   "cell_type": "markdown",
   "id": "43f2ee9e-ec2a-4721-8da2-8785fd6cba38",
   "metadata": {},
   "source": [
    "**Exemplo:** A tabela a seguir contém dados coletados na administração de um zoológico para alguns dias do mês de abril de 2021. Nesta ordem, a tabela mostra o número de visitantes no zoológico, o número de tickets de estacionamento adquiridos e a temperatura média contabilizados por dia.\n",
    "\n",
    "|   Visitantes |   Tickets         |   Temperatura     |\n",
    "|-------------:|------------------:|------------------:|\n",
    "|         1580 |                 8 |                35 |\n",
    "|         1230 |                 6 |                38 |\n",
    "|         1950 |                 9 |                32 |\n",
    "|          890 |                 4 |                26 |\n",
    "|         1140 |                 6 |                31 |\n",
    "|         1760 |                 9 |                36 |\n",
    "|         1650 |                10 |                38 |\n",
    "|         1470 |                 3 |                30 |\n",
    "|          390 |                 1 |                21 |\n",
    "|         1460 |                 9 |                34 |\n",
    "|         1000 |                 7 |                36 |\n",
    "|         1030 |                 6 |                32 |\n",
    "|          740 |                 2 |                25 |\n",
    "|         1340 |                 6 |                37 |\n",
    "|         1150 |                 7 |                34 |\n",
    "\n",
    "O arquivo com os dados está disponível [aqui]('../database/visitantes-zoo.csv'). Vamos buscar correlações nos dados."
   ]
  },
  {
   "cell_type": "markdown",
   "id": "7d9716b3-346f-43de-bb0a-d70349a4f414",
   "metadata": {},
   "source": [
    "Carregando o arquivo:"
   ]
  },
  {
   "cell_type": "code",
   "execution_count": 15,
   "id": "8292d83c-7624-43e5-a9f7-bbb343cc28df",
   "metadata": {},
   "outputs": [
    {
     "data": {
      "text/html": [
       "<div>\n",
       "<style scoped>\n",
       "    .dataframe tbody tr th:only-of-type {\n",
       "        vertical-align: middle;\n",
       "    }\n",
       "\n",
       "    .dataframe tbody tr th {\n",
       "        vertical-align: top;\n",
       "    }\n",
       "\n",
       "    .dataframe thead th {\n",
       "        text-align: right;\n",
       "    }\n",
       "</style>\n",
       "<table border=\"1\" class=\"dataframe\">\n",
       "  <thead>\n",
       "    <tr style=\"text-align: right;\">\n",
       "      <th></th>\n",
       "      <th>Visitantes</th>\n",
       "      <th>Tickets:Parking</th>\n",
       "      <th>Temperatura (C)</th>\n",
       "    </tr>\n",
       "  </thead>\n",
       "  <tbody>\n",
       "    <tr>\n",
       "      <th>0</th>\n",
       "      <td>1580.0</td>\n",
       "      <td>8.0</td>\n",
       "      <td>35.0</td>\n",
       "    </tr>\n",
       "    <tr>\n",
       "      <th>1</th>\n",
       "      <td>1230.0</td>\n",
       "      <td>6.0</td>\n",
       "      <td>38.0</td>\n",
       "    </tr>\n",
       "    <tr>\n",
       "      <th>2</th>\n",
       "      <td>1950.0</td>\n",
       "      <td>9.0</td>\n",
       "      <td>32.0</td>\n",
       "    </tr>\n",
       "    <tr>\n",
       "      <th>3</th>\n",
       "      <td>890.0</td>\n",
       "      <td>4.0</td>\n",
       "      <td>26.0</td>\n",
       "    </tr>\n",
       "    <tr>\n",
       "      <th>4</th>\n",
       "      <td>1140.0</td>\n",
       "      <td>6.0</td>\n",
       "      <td>31.0</td>\n",
       "    </tr>\n",
       "    <tr>\n",
       "      <th>5</th>\n",
       "      <td>1760.0</td>\n",
       "      <td>9.0</td>\n",
       "      <td>36.0</td>\n",
       "    </tr>\n",
       "    <tr>\n",
       "      <th>6</th>\n",
       "      <td>1650.0</td>\n",
       "      <td>10.0</td>\n",
       "      <td>38.0</td>\n",
       "    </tr>\n",
       "    <tr>\n",
       "      <th>7</th>\n",
       "      <td>1470.0</td>\n",
       "      <td>3.0</td>\n",
       "      <td>30.0</td>\n",
       "    </tr>\n",
       "    <tr>\n",
       "      <th>8</th>\n",
       "      <td>390.0</td>\n",
       "      <td>1.0</td>\n",
       "      <td>21.0</td>\n",
       "    </tr>\n",
       "    <tr>\n",
       "      <th>9</th>\n",
       "      <td>1460.0</td>\n",
       "      <td>9.0</td>\n",
       "      <td>34.0</td>\n",
       "    </tr>\n",
       "    <tr>\n",
       "      <th>10</th>\n",
       "      <td>1000.0</td>\n",
       "      <td>7.0</td>\n",
       "      <td>36.0</td>\n",
       "    </tr>\n",
       "    <tr>\n",
       "      <th>11</th>\n",
       "      <td>1030.0</td>\n",
       "      <td>6.0</td>\n",
       "      <td>32.0</td>\n",
       "    </tr>\n",
       "    <tr>\n",
       "      <th>12</th>\n",
       "      <td>740.0</td>\n",
       "      <td>2.0</td>\n",
       "      <td>25.0</td>\n",
       "    </tr>\n",
       "    <tr>\n",
       "      <th>13</th>\n",
       "      <td>1340.0</td>\n",
       "      <td>6.0</td>\n",
       "      <td>37.0</td>\n",
       "    </tr>\n",
       "    <tr>\n",
       "      <th>14</th>\n",
       "      <td>1150.0</td>\n",
       "      <td>7.0</td>\n",
       "      <td>34.0</td>\n",
       "    </tr>\n",
       "  </tbody>\n",
       "</table>\n",
       "</div>"
      ],
      "text/plain": [
       "    Visitantes  Tickets:Parking  Temperatura (C)\n",
       "0       1580.0              8.0             35.0\n",
       "1       1230.0              6.0             38.0\n",
       "2       1950.0              9.0             32.0\n",
       "3        890.0              4.0             26.0\n",
       "4       1140.0              6.0             31.0\n",
       "5       1760.0              9.0             36.0\n",
       "6       1650.0             10.0             38.0\n",
       "7       1470.0              3.0             30.0\n",
       "8        390.0              1.0             21.0\n",
       "9       1460.0              9.0             34.0\n",
       "10      1000.0              7.0             36.0\n",
       "11      1030.0              6.0             32.0\n",
       "12       740.0              2.0             25.0\n",
       "13      1340.0              6.0             37.0\n",
       "14      1150.0              7.0             34.0"
      ]
     },
     "execution_count": 15,
     "metadata": {},
     "output_type": "execute_result"
    }
   ],
   "source": [
    "zoo = pd.read_csv('../database/visitantes-zoo.csv'); zoo"
   ]
  },
  {
   "cell_type": "markdown",
   "id": "68ccd505-0571-4fa8-80eb-28342caccfe7",
   "metadata": {},
   "source": [
    "Para calcular a correlação de Pearson entre duas séries, podemos usar a função `pearsonr()` do módulo `scipy.stats`.\n",
    "\n",
    "```{note}\n",
    "O segundo argumento de `pearsonr()` é o [_valor p_](https://pt.wikipedia.org/wiki/Valor-p)."
   ]
  },
  {
   "cell_type": "code",
   "execution_count": 16,
   "id": "8252e922-ff2d-4515-b9d5-30e714d8479c",
   "metadata": {},
   "outputs": [
    {
     "data": {
      "text/plain": [
       "(0.8044243219605788, 0.6815723802241447)"
      ]
     },
     "execution_count": 16,
     "metadata": {},
     "output_type": "execute_result"
    }
   ],
   "source": [
    "corr1,_ = sts.pearsonr(zoo['Visitantes'],zoo['Tickets:Parking']); \n",
    "corr2,_ = sts.pearsonr(zoo['Visitantes'],zoo['Temperatura (C)']);\n",
    "\n",
    "corr1,corr2"
   ]
  },
  {
   "cell_type": "markdown",
   "id": "af6db7af-a630-43dc-9a2d-6d5bf2bdb125",
   "metadata": {},
   "source": [
    "Comentários: \n",
    "\n",
    "- O coeficiente de Pearson mostra que há uma \"força\" de correlação não desprezível entre o número de visitantes e tickets vendidos.\n",
    "- Esta correlação é menor para a faixa de temperaturas médias."
   ]
  },
  {
   "cell_type": "markdown",
   "id": "30c5bd2e-8915-49f0-8008-8d5cc79a2ef1",
   "metadata": {},
   "source": [
    "A correlação pode também ser calculada através do método `corr` de uma _Series_ do pandas."
   ]
  },
  {
   "cell_type": "code",
   "execution_count": 17,
   "id": "8c9232f2-ff9c-448c-adf1-f1966630fd46",
   "metadata": {},
   "outputs": [
    {
     "data": {
      "text/plain": [
       "0.8044243219605786"
      ]
     },
     "execution_count": 17,
     "metadata": {},
     "output_type": "execute_result"
    }
   ],
   "source": [
    "zoo['Visitantes'].corr(zoo['Tickets:Parking'])"
   ]
  },
  {
   "cell_type": "code",
   "execution_count": 18,
   "id": "ee422713-0099-4e1b-a066-e61428f0b3ea",
   "metadata": {},
   "outputs": [
    {
     "data": {
      "text/plain": [
       "0.6815723802241447"
      ]
     },
     "execution_count": 18,
     "metadata": {},
     "output_type": "execute_result"
    }
   ],
   "source": [
    "zoo['Visitantes'].corr(zoo['Temperatura (C)'])"
   ]
  },
  {
   "cell_type": "markdown",
   "id": "1fa13b49-1ba8-45ba-b802-24e37ff10f70",
   "metadata": {},
   "source": [
    "#### Correlações pareadas\n",
    "\n",
    "Usando o método `pandas.DataFrame.corrwith()` é possível calcular correlações pareadas entre colunas de um _DataFrame_ ou linhas de outra _Series_ ou _DataFrame_.\n",
    "\n",
    "No exemplo abaixo, passamos uma _Series_ como argumento. A resposta são os mesmos valores obtidos anteriormente, porém na forma de uma _Series_. O valor unitário é devido à correlação da variável com ela própria."
   ]
  },
  {
   "cell_type": "code",
   "execution_count": 19,
   "id": "1d1e8f0f-4c50-4b03-a3d6-506f50a596b0",
   "metadata": {},
   "outputs": [
    {
     "data": {
      "text/plain": [
       "Visitantes         1.000000\n",
       "Tickets:Parking    0.804424\n",
       "Temperatura (C)    0.681572\n",
       "dtype: float64"
      ]
     },
     "execution_count": 19,
     "metadata": {},
     "output_type": "execute_result"
    }
   ],
   "source": [
    "zoo.corrwith(zoo['Visitantes'])"
   ]
  },
  {
   "cell_type": "markdown",
   "id": "dec0a407-f807-4a97-a391-d8f9f3e9c5a4",
   "metadata": {},
   "source": [
    "### Gráfico de dispersão\n",
    "\n",
    "Antes de calcular cegamente o valor de $\\rho$ para séries de dados, é interessante fazer um gráfico de _dispersão_ (_scatter plot_) entre as variáveis. Podemos fazer isto com o `matplotlib.pyplot.plot()` e tipo de marcador `o` ou com `matplotlib.pyplot.scatter()`."
   ]
  },
  {
   "cell_type": "code",
   "execution_count": 20,
   "id": "47d9d852-2886-458e-911b-088ae750ecbb",
   "metadata": {},
   "outputs": [
    {
     "data": {
      "image/png": "[encoded data removed]",
      "text/plain": [
       "<Figure size 720x216 with 2 Axes>"
      ]
     },
     "metadata": {
      "needs_background": "light"
     },
     "output_type": "display_data"
    }
   ],
   "source": [
    "fig,ax = plt.subplots(1,2,figsize=(10,3))\n",
    "# plot 1\n",
    "ax[0].plot(zoo['Visitantes'],zoo['Tickets:Parking'],'o',label=f'corr={round(corr1,2)}')\n",
    "ax[0].set_xlabel('No. visitantes'); \n",
    "ax[0].set_ylabel('Tickets de estacionamento'); \n",
    "ax[0].legend()\n",
    "# plot 2\n",
    "ax[1].plot(zoo['Visitantes'],zoo['Temperatura (C)'],'or',label=f'corr={round(corr2,2)}')\n",
    "ax[1].set_xlabel('No. visitantes'); \n",
    "ax[1].set_ylabel('Temperatura (C)'); \n",
    "ax[1].legend();\n"
   ]
  },
  {
   "cell_type": "markdown",
   "id": "d31276bd-ec8a-4b46-8117-452a90f8166b",
   "metadata": {},
   "source": [
    "Reproduzindo com `plt.scatter`:"
   ]
  },
  {
   "cell_type": "code",
   "execution_count": 21,
   "id": "ceae34be-f6c5-4d00-b637-1b192e45daef",
   "metadata": {},
   "outputs": [
    {
     "data": {
      "image/png": "[encoded data removed]",
      "text/plain": [
       "<Figure size 432x288 with 1 Axes>"
      ]
     },
     "metadata": {
      "needs_background": "light"
     },
     "output_type": "display_data"
    }
   ],
   "source": [
    "plt.scatter(zoo['Visitantes'],zoo['Tickets:Parking']);"
   ]
  },
  {
   "cell_type": "markdown",
   "id": "12b7e97d-b8aa-41b5-bdf6-ad22ffa9043b",
   "metadata": {},
   "source": [
    "## Leituras recomendadas \n",
    "\n",
    "- [Paradoxo de Simpson](https://pt.wikipedia.org/wiki/Paradoxo_de_Simpson)\n",
    "- [statsmodels](https://www.statsmodels.org/stable/index.html)\n",
    "- [Outliers, o que são e como tratá-los em uma análise de dados?](https://www.aquare.la/o-que-sao-outliers-e-como-trata-los-em-uma-analise-de-dados/)"
   ]
  }
 ],
 "metadata": {
  "kernelspec": {
   "display_name": "Python 3",
   "language": "python",
   "name": "python3"
  },
  "language_info": {
   "codemirror_mode": {
    "name": "ipython",
    "version": 3
   },
   "file_extension": ".py",
   "mimetype": "text/x-python",
   "name": "python",
   "nbconvert_exporter": "python",
   "pygments_lexer": "ipython3",
   "version": "3.8.8"
  }
 },
 "nbformat": 4,
 "nbformat_minor": 5
}
