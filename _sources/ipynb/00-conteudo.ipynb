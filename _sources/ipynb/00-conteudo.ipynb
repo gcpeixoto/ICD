{
 "cells": [
  {
   "cell_type": "markdown",
   "id": "e15b4437-39f8-4acb-84a3-bfc53a5d2817",
   "metadata": {},
   "source": [
    "# Apresentação do curso"
   ]
  },
  {
   "cell_type": "markdown",
   "id": "fc4e0079-881c-451c-8838-51058d2ce140",
   "metadata": {},
   "source": [
    "## Conteúdo\n",
    "\n",
    "### Introdução\n",
    "\n",
    "- [Introdução à Ciência de Dados](01-introducao.ipynb)\n",
    "\n",
    "### Unidade 1 \n",
    "\n",
    "#### Parte 1\n",
    "\n",
    "- [Pacotes e ambientes virtuais com _pip_ e _venv_](02a-pip-venv.ipynb)\n",
    "- [_Crash course_ de _conda_](02b-conda.ipynb)\n",
    "- [Ambientes de desenvolvimento e computação interativa](03-ides.ipynb)\n",
    "- [Controle de versão](04-cvs-git.ipynb)\n",
    "\n",
    "#### Parte 2\n",
    "\n",
    "- [Python intermediário - I](05-python-intermediario.ipynb)\n",
    "- [Python intermediário - II](06-python-intermediario-2.ipynb)\n",
    "- [Python intermediário - III](07-python-intermediario-3.ipynb)\n",
    "- [Computação vetorizada](08a-computacao-vetorizada.ipynb)\n",
    "- [Álgebra Linear Computacional básica](08b-alc.ipynb)\n",
    "- [Plotagem e formatação de gráficos](09-plotagem-matplotlib.ipynb)\n",
    "\n",
    "### Unidade 2\n",
    "\n",
    "#### Parte 3\n",
    "\n",
    "- [Manipulação de dados - I](10a-pandas-series.ipynb)\n",
    "- [Manipulação de dados - II](10b-pandas-dataframe.ipynb)\n",
    "- [Manipulação de dados - III](10c-pandas-agrupamento.ipynb)\n",
    "\n",
    "#### Parte 4\n",
    "\n",
    "- [Estatística Descritiva](11-estatistica-descritiva.ipynb)\n",
    "\n",
    "### Unidade 3\n",
    "\n",
    "_Coming soon..._\n",
    "\n",
    "\n",
    "#### Questionários para avaliação\n",
    "\n",
    "- Unidade 1: Parte 2\n",
    "    - [Questionário 21](Q21.ipynb)\n",
    "    - [Questionário 22](Q22.ipynb)\n",
    "    - [Questionário 23](Q23.ipynb)\n",
    "    - [Questionário 24](Q24.ipynb)\n",
    "    - [Questionário 25](Q25.ipynb)\n",
    "\n",
    "- Unidade 2: Parte 3\n",
    "    - [Questionário 31](Q31.ipynb)\n",
    "    \n",
    "    \n",
    "#### Template para mini-artigos\n",
    "\n",
    "Para elaborar os mini-artigos avaliativos, use o template disponibilizado <a href=\"../templates/short-paper/docx/main.docx\" download=\"../templates/short-paper/docx/main.docx\"> aqui </a>."
   ]
  }
 ],
 "metadata": {
  "kernelspec": {
   "display_name": "Python 3",
   "language": "python",
   "name": "python3"
  },
  "language_info": {
   "codemirror_mode": {
    "name": "ipython",
    "version": 3
   },
   "file_extension": ".py",
   "mimetype": "text/x-python",
   "name": "python",
   "nbconvert_exporter": "python",
   "pygments_lexer": "ipython3",
   "version": "3.8.8"
  }
 },
 "nbformat": 4,
 "nbformat_minor": 5
}
