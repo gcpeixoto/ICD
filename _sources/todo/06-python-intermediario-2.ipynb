{
 "cells": [
  {
   "cell_type": "markdown",
   "id": "e5d6eaba-568e-4d23-80ad-3c4f7b5e524e",
   "metadata": {},
   "source": [
    "# Python Intermediário: Parte 2"
   ]
  },
  {
   "cell_type": "markdown",
   "id": "a3dce967-4124-4cbb-91ad-4789d05ea663",
   "metadata": {},
   "source": [
    "## Funções\n",
    "\n",
    "O conceito de \"função\" é conhecido por nós como algo que produz uma saída (_output_) a partir de uma entrada (_input_). Matematicamente, podemos representar este processo como $y= f(x)$. Por exemplo, uma impressora jato de tinta ao receber uma folha de papel em branco ($x$) aciona seus mecanismos de impressão ($f$) e produz uma folha impressa ($y$).  \n",
    "\n",
    "Em Python, funções são utilizadas praticamente da mesma forma, em que zero ou mais entradas retornam uma saída correspondente. Funções são fundamentais para organizar e reutilizar código, sempre que uma tarefa tenha de ser executada repetidamente. Toda função é um _objeto de primeira classe_. Isto essencialmente significa que ela pode ser: i) atribuída a uma variável ou elemento em uma estrutura de dado; ii) passada como argumento para outra função; iii) retornada como resultado de uma função.\n",
    "\n",
    "### Tipos de funções \n",
    "\n",
    "Neste curso, separaremos as funções em três grupos:\n",
    "\n",
    "- _predefinidas_ (_built-in functions_): aquelas pré-existentes no _core_ da linguagem ou em outros módulos;\n",
    "- _regulares_ (_user-defined functions_): aquelas definidas por você;\n",
    "- _anônimas_ (_lambdas_): funções, em geral, criadas por você que não exigem um nome; "
   ]
  },
  {
   "cell_type": "markdown",
   "id": "c14efdb1-2bb9-4df1-8170-d4f0559e5f73",
   "metadata": {},
   "source": [
    "#### Funções predefinidas\n",
    "\n",
    "Exploraremos exemplos com funções _built-in_ do _core_ Python. Em particular, cobriremos: `hex`, `bin`"
   ]
  },
  {
   "cell_type": "markdown",
   "id": "fb9755a1-bfa9-47d2-8e0a-ffa72721dbc9",
   "metadata": {},
   "source": [
    "**Exemplos:** funções predefinidas do _core_ da linguagem."
   ]
  },
  {
   "cell_type": "code",
   "execution_count": 32,
   "id": "18e02568-37d2-49e3-a303-428be4806374",
   "metadata": {},
   "outputs": [
    {
     "data": {
      "text/plain": [
       "('0x4d2', '0b101011001', 12.346)"
      ]
     },
     "execution_count": 32,
     "metadata": {},
     "output_type": "execute_result"
    }
   ],
   "source": [
    "# built-in functions\n",
    "hex(1234),bin(345),round(12.3456,3)"
   ]
  },
  {
   "cell_type": "markdown",
   "id": "00cf3041-734e-40d6-adbf-f4e3ee0d6494",
   "metadata": {},
   "source": [
    "Discussão: \n",
    "\n",
    "- `hex` converte um número para hexadecimal, indicada pelo prefixo `0x`.\n",
    "\n",
    "- `bin` converte um número para hexadecimal, indicada pelo prefixo `0b`.\n",
    "\n",
    "- `round(x,n)` arredonda um número `x` em `n` dígitos de precisão. Se `n < 0`, retorna `0.0`. "
   ]
  },
  {
   "cell_type": "code",
   "execution_count": 262,
   "id": "c2eba3d8-1b8e-4e39-b591-cc823a43feea",
   "metadata": {},
   "outputs": [
    {
     "name": "stdout",
     "output_type": "stream",
     "text": [
      "ᝰ,។,ᠸ,ᢜ,ᤀ,ᥤ,ᧈ,ᨬ,᪐,᫴,"
     ]
    },
    {
     "data": {
      "text/plain": [
       "\u001b[0;31mSignature:\u001b[0m \u001b[0mchr\u001b[0m\u001b[0;34m(\u001b[0m\u001b[0mi\u001b[0m\u001b[0;34m,\u001b[0m \u001b[0;34m/\u001b[0m\u001b[0;34m)\u001b[0m\u001b[0;34m\u001b[0m\u001b[0;34m\u001b[0m\u001b[0m\n",
       "\u001b[0;31mDocstring:\u001b[0m Return a Unicode string of one character with ordinal i; 0 <= i <= 0x10ffff.\n",
       "\u001b[0;31mType:\u001b[0m      builtin_function_or_method\n"
      ]
     },
     "metadata": {},
     "output_type": "display_data"
    }
   ],
   "source": [
    "# built-in function\n",
    "for i in range(6000,7000,100):\n",
    "    print(chr(i),end=',')"
   ]
  },
  {
   "cell_type": "markdown",
   "id": "8096b709-e26f-4658-abb3-336a87e517c1",
   "metadata": {},
   "source": [
    "Discussão: \n",
    "\n",
    "- `chr` retorna o caracter Unicode correspondente ao número inteiro passado no intervalo [0,1114111]."
   ]
  },
  {
   "cell_type": "markdown",
   "id": "e230bf6b-cac8-4510-a66d-c1027f32d445",
   "metadata": {},
   "source": [
    "**Exemplo**: somando números em uma lista."
   ]
  },
  {
   "cell_type": "code",
   "execution_count": 242,
   "id": "d6859e80-2190-4d3c-9f0f-28be6444df90",
   "metadata": {},
   "outputs": [
    {
     "data": {
      "text/plain": [
       "(4950, 0)"
      ]
     },
     "execution_count": 242,
     "metadata": {},
     "output_type": "execute_result"
    }
   ],
   "source": [
    "sum(range(100)), sum([])"
   ]
  },
  {
   "cell_type": "markdown",
   "id": "2d459c34-cf60-406e-992c-973a450cade3",
   "metadata": {},
   "source": [
    "Discussão: \n",
    "- `sum` é uma função predefinida aplicável a sequências iteráveis.\n",
    "- Se o iterável for vazio, `sum` retorna zero.\n",
    "- No exemplo anterior, somamos os números de 0 a 100 e aplicamos a função a uma lista vazia."
   ]
  },
  {
   "cell_type": "markdown",
   "id": "f262b29d-242a-4add-b669-a101a48b8c36",
   "metadata": {},
   "source": [
    "**Exemplo**: número de elementos em iteráveis."
   ]
  },
  {
   "cell_type": "code",
   "execution_count": 247,
   "id": "2cf4d568-6658-4e1e-b38e-508929172e13",
   "metadata": {},
   "outputs": [
    {
     "data": {
      "text/plain": [
       "3"
      ]
     },
     "execution_count": 247,
     "metadata": {},
     "output_type": "execute_result"
    }
   ],
   "source": [
    "# no. de elementos\n",
    "len([1,4,5])"
   ]
  },
  {
   "cell_type": "code",
   "execution_count": 249,
   "id": "bc2937a3-bf7c-4b90-8e4f-d02a4b3599bc",
   "metadata": {},
   "outputs": [
    {
     "data": {
      "text/plain": [
       "2"
      ]
     },
     "execution_count": 249,
     "metadata": {},
     "output_type": "execute_result"
    }
   ],
   "source": [
    "# conta keys\n",
    "len({'a':1,'b':2})"
   ]
  },
  {
   "cell_type": "code",
   "execution_count": 246,
   "id": "3e3dc690-cd93-4d51-8e29-0b1796077347",
   "metadata": {},
   "outputs": [
    {
     "data": {
      "text/plain": [
       "3"
      ]
     },
     "execution_count": 246,
     "metadata": {},
     "output_type": "execute_result"
    }
   ],
   "source": [
    "# lembre da unicidade\n",
    "# 3 elementos no conjunto\n",
    "len({1,3,1,2})"
   ]
  },
  {
   "cell_type": "code",
   "execution_count": 254,
   "id": "02b366e9-0ead-4371-8ab6-bfb9550ee64f",
   "metadata": {},
   "outputs": [
    {
     "data": {
      "text/plain": [
       "4"
      ]
     },
     "execution_count": 254,
     "metadata": {},
     "output_type": "execute_result"
    }
   ],
   "source": [
    "# conta caracteres\n",
    "len('nome')"
   ]
  },
  {
   "cell_type": "markdown",
   "id": "df706e36-3eea-492d-b131-98bf9dae4698",
   "metadata": {},
   "source": [
    "#### Funções regulares\n",
    "\n",
    "Funções regulares, como dissemos, possuem um nome definido pelo usuário. Vejamos alguns exemplos."
   ]
  },
  {
   "cell_type": "markdown",
   "id": "b397b004-3a76-4909-9cd0-63f13c228aab",
   "metadata": {},
   "source": [
    "**Exemplos:** funções regulares e uso de funções."
   ]
  },
  {
   "cell_type": "code",
   "execution_count": 70,
   "id": "805413e0-5eca-4b91-9bed-f6d3e90c6153",
   "metadata": {},
   "outputs": [],
   "source": [
    "def cm_to_inch(x):\n",
    "    \"\"\"converte número de centímetros para polegadas\"\"\"\n",
    "    return 2.45*x"
   ]
  },
  {
   "cell_type": "markdown",
   "id": "a6b43560-db32-4d9a-97f9-edf4f5d1df8f",
   "metadata": {},
   "source": [
    "Comentários: \n",
    "\n",
    "- Funções regulares são declaradas com a _keyword_ `def` e valores de retorno com a _keyword_ `return`."
   ]
  },
  {
   "cell_type": "code",
   "execution_count": 71,
   "id": "052997b0-6d9e-4b4d-a80f-6127f7ffc355",
   "metadata": {},
   "outputs": [
    {
     "data": {
      "text/plain": [
       "56.35"
      ]
     },
     "execution_count": 71,
     "metadata": {},
     "output_type": "execute_result"
    }
   ],
   "source": [
    "# chamada simples\n",
    "cm_to_inch(23)"
   ]
  },
  {
   "cell_type": "code",
   "execution_count": 73,
   "id": "329dc652-f0cd-46db-8ee9-86aa497fb916",
   "metadata": {},
   "outputs": [],
   "source": [
    "# atribuindo em objeto\n",
    "cmi = cm_to_inch"
   ]
  },
  {
   "cell_type": "code",
   "execution_count": 232,
   "id": "0df874a2-8a18-47ce-ac69-84ae36750265",
   "metadata": {},
   "outputs": [
    {
     "data": {
      "text/plain": [
       "4.9"
      ]
     },
     "execution_count": 232,
     "metadata": {},
     "output_type": "execute_result"
    }
   ],
   "source": [
    "# usando como argumento de outra função\n",
    "def fn(n,f):\n",
    "    \"\"\"Calcula f(n) dados n e uma função f.\"\"\"\n",
    "    return f(n)\n",
    "\n",
    "fn(2,cm_to_inch)"
   ]
  },
  {
   "cell_type": "code",
   "execution_count": 233,
   "id": "b6da0029-d23a-4f40-b306-cbe7a2b5049c",
   "metadata": {},
   "outputs": [
    {
     "data": {
      "text/plain": [
       "'Calcula f(n) dados n e uma função f.'"
      ]
     },
     "execution_count": 233,
     "metadata": {},
     "output_type": "execute_result"
    }
   ],
   "source": [
    "# docstring da função\n",
    "fn.__doc__"
   ]
  },
  {
   "cell_type": "markdown",
   "id": "532027ea-a997-4ff6-8f62-6958542b044e",
   "metadata": {},
   "source": [
    "Parâmetros de funções podem assumir um argumento padrão que pode ser modificado sempre que necessário. \n",
    "\n",
    "**Exemplos:**"
   ]
  },
  {
   "cell_type": "code",
   "execution_count": 101,
   "id": "f52b6198-ab40-480f-9d65-357b6b4fd33b",
   "metadata": {},
   "outputs": [],
   "source": [
    "# 'BEGIN' é valor padrão\n",
    "def line(title='BEGIN'):\n",
    "    print(title.center(20,'-'))"
   ]
  },
  {
   "cell_type": "code",
   "execution_count": 105,
   "id": "ce3c4ddd-f45c-49a9-9fe7-91d845c9ca69",
   "metadata": {},
   "outputs": [
    {
     "name": "stdout",
     "output_type": "stream",
     "text": [
      "-------BEGIN--------\n"
     ]
    }
   ],
   "source": [
    "# especificação não necessária\n",
    "line()"
   ]
  },
  {
   "cell_type": "code",
   "execution_count": 104,
   "id": "09ee35a3-72c9-4366-b413-1e8d492cfaef",
   "metadata": {},
   "outputs": [
    {
     "name": "stdout",
     "output_type": "stream",
     "text": [
      "--------HEAD--------\n"
     ]
    }
   ],
   "source": [
    "# alterando padrão\n",
    "line('HEAD')"
   ]
  },
  {
   "cell_type": "markdown",
   "id": "7d2c8b2f-daa2-4115-b36e-f35bab912633",
   "metadata": {},
   "source": [
    "**Exemplo:** função com argumentos posicionais."
   ]
  },
  {
   "cell_type": "code",
   "execution_count": 220,
   "id": "cac08d8a-188b-4138-9519-f5ec60e884ef",
   "metadata": {},
   "outputs": [],
   "source": [
    "# função com 2 argumentos posicionais\n",
    "def upper_len(s,cut):\n",
    "    if isinstance(s,str): # checa se é str\n",
    "        print(':: ' + s.upper()[:cut],sep=',')\n",
    "    else:\n",
    "        pass # não faz nada"
   ]
  },
  {
   "cell_type": "code",
   "execution_count": 229,
   "id": "2510a614-3675-4cee-a9f7-e29ab53a42d7",
   "metadata": {},
   "outputs": [
    {
     "name": "stdout",
     "output_type": "stream",
     "text": [
      ":: ALF\n",
      ":: BRAVO\n",
      ":: CHARL\n"
     ]
    }
   ],
   "source": [
    "from random import randint\n",
    "\n",
    "abc = ['alfa', 'bravO', 'chARlie', 230, 111.222]\n",
    "\n",
    "# fatiamento aleatório\n",
    "for s in abc:\n",
    "    upper_len(s,randint(0,7)) "
   ]
  },
  {
   "cell_type": "markdown",
   "id": "78b4a2a4-3063-4efd-a068-3093b96dad7e",
   "metadata": {},
   "source": [
    "Comentários: \n",
    "\n",
    "- Esta função aceita strings, formatam-nas em maiúsculas e  imprime-as fatiadas até o índice `cut`, determinado aleatoriamente.\n",
    "- Note que nada é impresso para entradas que são números.\n",
    "- A função possui dois argumentos posicionais, isto é que obedecem às posições especificadas.\n",
    "- Se as posições dos argumentos forem alteradas, o sentido da função muda."
   ]
  },
  {
   "cell_type": "code",
   "execution_count": 196,
   "id": "6fcc8dec-c5ba-4650-ae8e-f303d4c616dc",
   "metadata": {},
   "outputs": [],
   "source": [
    "# Nada faz porque o primeiro \n",
    "# parâmetro deixou de ser str\n",
    "for s in abc:\n",
    "    upper_len(randint(1,3),s) "
   ]
  },
  {
   "cell_type": "markdown",
   "id": "80a7fe99-a350-409c-86b2-49414b6a5bcb",
   "metadata": {},
   "source": [
    "**Exemplo:** especificando argumentos com _keywords_."
   ]
  },
  {
   "cell_type": "code",
   "execution_count": 192,
   "id": "e9d342a3-8cef-4e32-bce7-0f5f4a4bb3e8",
   "metadata": {},
   "outputs": [],
   "source": [
    "# declaração com 3 keywords\n",
    "def triple(x=0,y=0,z=0):\n",
    "    return x*y*z"
   ]
  },
  {
   "cell_type": "code",
   "execution_count": 193,
   "id": "6514704a-be3a-44b1-a4f0-9d1b54e10b80",
   "metadata": {},
   "outputs": [
    {
     "data": {
      "text/plain": [
       "0"
      ]
     },
     "execution_count": 193,
     "metadata": {},
     "output_type": "execute_result"
    }
   ],
   "source": [
    "# padrão\n",
    "triple()"
   ]
  },
  {
   "cell_type": "code",
   "execution_count": 197,
   "id": "3579af04-d55f-47b0-98d0-0666773fc943",
   "metadata": {},
   "outputs": [
    {
     "data": {
      "text/plain": [
       "24"
      ]
     },
     "execution_count": 197,
     "metadata": {},
     "output_type": "execute_result"
    }
   ],
   "source": [
    "# sem declarar keywords\n",
    "triple(2,3,4)"
   ]
  },
  {
   "cell_type": "code",
   "execution_count": 199,
   "id": "4347ecb3-d410-4e66-b559-9f446144a182",
   "metadata": {},
   "outputs": [
    {
     "data": {
      "text/plain": [
       "48"
      ]
     },
     "execution_count": 199,
     "metadata": {},
     "output_type": "execute_result"
    }
   ],
   "source": [
    "# declarando uma keyword\n",
    "triple(3,4,z=4)"
   ]
  },
  {
   "cell_type": "code",
   "execution_count": 200,
   "id": "8c14552d-718d-41a3-86cd-53fb79392f36",
   "metadata": {},
   "outputs": [
    {
     "ename": "SyntaxError",
     "evalue": "positional argument follows keyword argument (<ipython-input-200-e785690d4856>, line 2)",
     "output_type": "error",
     "traceback": [
      "\u001b[0;36m  File \u001b[0;32m\"<ipython-input-200-e785690d4856>\"\u001b[0;36m, line \u001b[0;32m2\u001b[0m\n\u001b[0;31m    triple(x=3,4,4)\u001b[0m\n\u001b[0m               ^\u001b[0m\n\u001b[0;31mSyntaxError\u001b[0m\u001b[0;31m:\u001b[0m positional argument follows keyword argument\n"
     ]
    }
   ],
   "source": [
    "# erro!\n",
    "triple(x=3,4,4)"
   ]
  },
  {
   "cell_type": "markdown",
   "id": "77f83a87-98b3-4d23-8820-c8dd1cfbf8a0",
   "metadata": {},
   "source": [
    "Discussão: \n",
    "- Argumentos com _keyword_ devem vir **após** os argumentos posicionais, se houver algum."
   ]
  },
  {
   "cell_type": "code",
   "execution_count": 202,
   "id": "c395b7fc-fca9-439a-8fde-e07c4ac1ef75",
   "metadata": {},
   "outputs": [],
   "source": [
    "# declaração com 1 posicional e 2 keywords\n",
    "def triple_2(x,y=0,z=0):\n",
    "    return x*y*z"
   ]
  },
  {
   "cell_type": "code",
   "execution_count": 209,
   "id": "531d4b81-739e-481e-9d71-14088928a20f",
   "metadata": {},
   "outputs": [
    {
     "data": {
      "text/plain": [
       "30"
      ]
     },
     "execution_count": 209,
     "metadata": {},
     "output_type": "execute_result"
    }
   ],
   "source": [
    "triple_2(2,y=5,z=3)"
   ]
  },
  {
   "cell_type": "code",
   "execution_count": 210,
   "id": "ce4e9971-dcfa-4637-9525-d0f0165406b8",
   "metadata": {},
   "outputs": [
    {
     "data": {
      "text/plain": [
       "30"
      ]
     },
     "execution_count": 210,
     "metadata": {},
     "output_type": "execute_result"
    }
   ],
   "source": [
    "triple_2(2,5,z=3)"
   ]
  },
  {
   "cell_type": "code",
   "execution_count": 212,
   "id": "9c34d174-29d3-4712-a801-20d6a4cd07c2",
   "metadata": {},
   "outputs": [],
   "source": [
    "# declaração com 2 posicionais e 1 keyword\n",
    "def triple_3(x,y,z=0):\n",
    "    return x*y*z"
   ]
  },
  {
   "cell_type": "code",
   "execution_count": 216,
   "id": "ed807382-cf11-49b3-af86-ec975bb78a59",
   "metadata": {},
   "outputs": [
    {
     "data": {
      "text/plain": [
       "6"
      ]
     },
     "execution_count": 216,
     "metadata": {},
     "output_type": "execute_result"
    }
   ],
   "source": [
    "triple_3(3,1,2)"
   ]
  },
  {
   "cell_type": "code",
   "execution_count": 217,
   "id": "49f16560-2021-4a69-a0ca-621e357319ad",
   "metadata": {},
   "outputs": [
    {
     "data": {
      "text/plain": [
       "6"
      ]
     },
     "execution_count": 217,
     "metadata": {},
     "output_type": "execute_result"
    }
   ],
   "source": [
    "triple_3(3,1,z=2)"
   ]
  },
  {
   "cell_type": "markdown",
   "id": "cdb7da05-9537-41c6-9b2e-044f57c1c0ec",
   "metadata": {},
   "source": [
    "#### Funções anônimas"
   ]
  }
 ],
 "metadata": {
  "kernelspec": {
   "display_name": "Python 3",
   "language": "python",
   "name": "python3"
  },
  "language_info": {
   "codemirror_mode": {
    "name": "ipython",
    "version": 3
   },
   "file_extension": ".py",
   "mimetype": "text/x-python",
   "name": "python",
   "nbconvert_exporter": "python",
   "pygments_lexer": "ipython3",
   "version": "3.8.8"
  }
 },
 "nbformat": 4,
 "nbformat_minor": 5
}
