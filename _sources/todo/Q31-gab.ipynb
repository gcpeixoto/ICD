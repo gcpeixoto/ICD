{
 "cells": [
  {
   "cell_type": "markdown",
   "id": "61de8ae9",
   "metadata": {},
   "source": [
    "## Questionário 31 (Q31)"
   ]
  },
  {
   "cell_type": "markdown",
   "id": "48192f3e",
   "metadata": {},
   "source": [
    "Orientações: \n",
    "\n",
    "- Registre suas respostas no questionário de mesmo nome no SIGAA.\n",
    "- O tempo de registro das respostas no questionário será de 10 minutos. Portanto, resolva primeiro as questões e depois registre-as.\n",
    "- Haverá apenas 1 (uma) tentativa de resposta.\n",
    "- Submeta seu arquivo-fonte (utilizado para resolver as questões) em formato _.ipynb_ pelo SIGAA anexando-o à Tarefa denominada \"Envio de arquivo\" correspondente ao questionário.\n",
    "\n",
    "*Nota:* o arquivo-fonte será utilizado apenas como prova de execução da tarefa. Nenhuma avaliação será feita quanto ao estilo de programação.\n",
    "\n",
    "<hr>"
   ]
  },
  {
   "cell_type": "code",
   "execution_count": 1,
   "id": "8d02cdf7",
   "metadata": {},
   "outputs": [],
   "source": [
    "import pandas as pd\n",
    "import numpy as np"
   ]
  },
  {
   "cell_type": "markdown",
   "id": "ec591ee7",
   "metadata": {},
   "source": [
    "**Questão 1.** Assinale a alternativa cujos tipos de dado mencionados podem ser todos utilizados para construir uma _Series_ do `pandas`.\n",
    "\n",
    "A. `str`,`numpy.array`, `set`.\n",
    "\n",
    "B. `set`, `list`, `tuple`.\n",
    " \n",
    "C. `numpy.array`,`set`, `float`\n",
    "\n",
    "D. `dict`,`numpy.array`,`complex`"
   ]
  },
  {
   "cell_type": "markdown",
   "id": "cf2a84ee",
   "metadata": {},
   "source": [
    "<hr>\n",
    "\n",
    "## Gabarito\n",
    "\n",
    "Alternativa **D**, pois `set` é sequência não ordenada e não gera _Series_."
   ]
  },
  {
   "cell_type": "markdown",
   "id": "c60b536c",
   "metadata": {},
   "source": [
    "<hr>\n",
    "\n",
    "**Questão 2** Ao se construir um objeto `pandas.Series`, um comportamento padrão é esperado quando índices não são explicitamente fornecidos. Semelhantemente, ao se trabalhar com objetos `pandas.DataFrame`, a biblioteca encarrega-se, por padrão, de tratar dados chamados \"ausentes\".  Assinale a alternativa correta quanto à execução das funções de criação dos objetos.\n",
    "\n",
    "A. `pandas.Series()` sempre retorna erro se um `index` não for especificado; `pandas.DataFrame` trata dados ausentes adicionando 0 nas posições devidas e converte o `dtype` de todas as `Series` que o constituem para `int64`. \n",
    "\n",
    "B. `pandas.Series()` atribui valores de `1` a `n` (sendo `n` o número de elementos) às linhas; `pandas.DataFrame()` trata dados ausentes adicionando `np.nan` nas posições devidas.\n",
    "\n",
    "C. `pandas.Series()` atribui valores de `0` a `n` (sendo `n` o número de elementos) às linhas; `pandas.DataFrame()` trata dados ausentes adicionando `np.nan` nas posições devidas.\n",
    "\n",
    "D. n.d.a."
   ]
  },
  {
   "cell_type": "markdown",
   "id": "9e006704",
   "metadata": {},
   "source": [
    "<hr>\n",
    "\n",
    "## Gabarito\n",
    "\n",
    "Alternariva **D**:\n",
    "\n",
    "Se os index não forem fornecidos, o pandas atribuirá automaticamente os valores 0, 1, ..., n-1, onde n é o número de elementos da lista. Dados não encontrados são assinalados por um valor especial. O marcador padrão do pandas para dados faltantes é o NaN (not a number)."
   ]
  },
  {
   "cell_type": "markdown",
   "id": "185b1f2a",
   "metadata": {},
   "source": [
    "<hr>\n",
    "\n",
    "**Questão 3.** A temperatura na Elysium Planitia do Planeta Vermelho é monitorada pela NASA através da MARS InSigth Mission. \n",
    "Suponha que você assinou um contrato com a NASA para analisar supostas predições climáticas para o ano de 2022. O gráfico abaixo mostra uma distribuição provável da temperatura média diária na região supracitada para cada dia do mês de junho (disponível no arquivo [mars-temp-2022-06.csv](https://github.com/gcpeixoto/ICD/blob/main/database/mars-temp-2022-06.csv?raw=true)), porém, falhas de medição passadas induziram _gaps_ nas previsões para alguns dias, como pode ser observado.\n",
    "\n",
    "```{figure} ../figs/q/q31-mars-temp.png\n",
    "---\n",
    "width: 400px\n",
    "name: mars-temp\n",
    "---\n",
    "Temperatura média diária na Elysium Planitia - Marte.\n",
    "```\n",
    "\n",
    "Fonte: adaptado de [NASA MARS Insight Mission](https://mars.nasa.gov/insight/weather/)\n",
    "\n",
    "\n",
    "Sabendo que a temperatura $T_d$ no dia desconhecido $d$ pode ser estimada por\n",
    "\n",
    "$$T_d = \\mu(T_{d-1},T_{d-2},T_{d-3}),$$\n",
    "\n",
    "onde $\\mu$ significa \"média aritmética dos valores dados\", assinale a alternativa que corresponde à temperatura média para todo o mês de junho, à menor e à maior, nesta ordem.\n",
    "\n",
    "Obs.: se $d=25$, a temperatura no 25o. dia é a média das temperaturas do 22o. ao 24o. dia.\n",
    "\n",
    "\n",
    "A. (-72.15, -74.99, -65.07)\n",
    "\n",
    "B. (-65.0, -72.99, -65.07)\n",
    "\n",
    "C. (-75.0, -74.99, -65.07)\n",
    "\n",
    "D. (-69.55, -74.99, -65.07)\n",
    "\n",
    "**Obs.:** se $d=25$, a temperatura no 25o. dia é a média das temperaturas do 22o. ao 24o. dia."
   ]
  },
  {
   "cell_type": "markdown",
   "id": "5c972c6f",
   "metadata": {},
   "source": [
    "<hr>\n",
    "\n",
    "## Gabarito\n",
    "\n",
    "Alternativa **D**\n"
   ]
  },
  {
   "cell_type": "code",
   "execution_count": 3,
   "id": "8f077f9f-e1de-4e30-9283-60a25a380e54",
   "metadata": {},
   "outputs": [
    {
     "data": {
      "image/png": "[encoded data removed]",
      "text/plain": [
       "<Figure size 576x144 with 1 Axes>"
      ]
     },
     "metadata": {
      "needs_background": "light"
     },
     "output_type": "display_data"
    }
   ],
   "source": [
    "import numpy as np\n",
    "import matplotlib.pyplot as plt\n",
    "\n",
    "\n",
    "#--- geração de campo de temperatura aleatório\n",
    "np.random.seed(4)\n",
    "temps = 23.4 + (28.6-23.34)*np.random.rand(30)\n",
    "temps = 5*np.sin(np.sort(temps)) - 70\n",
    "temps[[3,6,9,16,22,27]] = np.nan\n",
    "\n",
    "plt.figure(figsize=(8,2))\n",
    "plt.plot(temps,'o-',mfc='w',c='#cc11bb')\n",
    "plt.grid(axis='x')\n",
    "plt.xticks(np.arange(0,30),np.arange(1,31).astype(str));\n",
    "plt.xlabel('day')\n",
    "plt.ylabel('ave. temp. [C]')\n",
    "plt.title('Mars/Elysium Planitia: Jun/2022 [ficticious]');\n",
    "plt.savefig('../figs/q31-mars-temp.png')\n",
    "#---\n",
    "\n",
    "dates = pd.date_range(start='6/1/2022', freq='D', periods=30)\n",
    "db = pd.Series(temps, index=dates)"
   ]
  },
  {
   "cell_type": "code",
   "execution_count": 4,
   "id": "83317213-4a92-4c82-8cfa-3d4bb6c8ab1a",
   "metadata": {},
   "outputs": [
    {
     "data": {
      "text/plain": [
       "('mean: -69.97', 'min: -74.99', 'max: -65.07')"
      ]
     },
     "execution_count": 4,
     "metadata": {},
     "output_type": "execute_result"
    }
   ],
   "source": [
    "def correct(a):\n",
    "    count = 0\n",
    "    a = a.fillna(0) ## primeiro realiza a troca por um valor que conhecemos.  \n",
    "    for x in a:\n",
    "        if x == 0:\n",
    "            a[count] = np.mean(a[count-3:count]) #Tiranda a média dos 4 valores anteriores.\n",
    "            #print(f'{count-3}, {count}') # as posições q são tiradas as médias.\n",
    "        count+=1\n",
    "    return a;\n",
    "\n",
    "result = correct(db)\n",
    "mean = f'mean: {np.round(np.mean(result),2)}'\n",
    "m = f'min: {np.round(np.min(result),2)}'\n",
    "M = f'max: {np.round(np.max(result),2)}'\n",
    "mean,m,M"
   ]
  }
 ],
 "metadata": {
  "kernelspec": {
   "display_name": "Python 3",
   "language": "python",
   "name": "python3"
  },
  "language_info": {
   "codemirror_mode": {
    "name": "ipython",
    "version": 3
   },
   "file_extension": ".py",
   "mimetype": "text/x-python",
   "name": "python",
   "nbconvert_exporter": "python",
   "pygments_lexer": "ipython3",
   "version": "3.8.8"
  }
 },
 "nbformat": 4,
 "nbformat_minor": 5
}
