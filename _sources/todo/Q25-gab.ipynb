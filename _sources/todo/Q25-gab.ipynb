{
 "cells": [
  {
   "cell_type": "markdown",
   "metadata": {},
   "source": [
    "## Questionário 25 (Q25)"
   ]
  },
  {
   "cell_type": "markdown",
   "metadata": {},
   "source": [
    "Orientações: \n",
    "\n",
    "- Registre suas respostas no questionário de mesmo nome no SIGAA.\n",
    "- O tempo de registro das respostas no questionário será de 10 minutos. Portanto, resolva primeiro as questões e depois registre-as.\n",
    "- Haverá apenas 1 (uma) tentativa de resposta.\n",
    "- Submeta seu arquivo-fonte (utilizado para resolver as questões) em formato _.ipynb_ pelo SIGAA anexando-o à Tarefa denominada \"Envio de arquivo\" correspondente ao questionário.\n",
    "\n",
    "*Nota:* o arquivo-fonte será utilizado apenas como prova de execução da tarefa. Nenhuma avaliação será feita quanto ao estilo de programação.\n",
    "\n",
    "<hr>"
   ]
  },
  {
   "cell_type": "markdown",
   "metadata": {},
   "source": [
    "Use o fragmento de código abaixo para responder às questões 1 e 2."
   ]
  },
  {
   "cell_type": "code",
   "execution_count": 5,
   "metadata": {},
   "outputs": [
    {
     "data": {
      "image/png": "[encoded data removed]",
      "text/plain": [
       "<Figure size 720x432 with 1 Axes>"
      ]
     },
     "metadata": {
      "needs_background": "light"
     },
     "output_type": "display_data"
    }
   ],
   "source": [
    "import matplotlib.pyplot as plt\n",
    "from numpy import linspace\n",
    "\n",
    "A, B, C, D = 'm', '*', 'r', '-.' # HIDE\n",
    "E, F, G, H = 'y', 'b', 'b', '<' # HIDE\n",
    "I, J, K = 1., 11, 0. # HIDE\n",
    "\n",
    "M = (A, '-', '|', E, 'k', 1, 12, 2)\n",
    "N = ('c', ':', H, 'k', C, 1, 12, 2)\n",
    "O = (G, '--', B, 'r', 'g', 1, 12, 2)\n",
    "P = ('y', D,  'H', 'w', F, 1, 12, 2)        \n",
    "\n",
    "d = dict(zip([4,1,3,2],(P,M,O,N)))\n",
    "\n",
    "def p(a,b,n,k,opt):      \n",
    "    keys = ('c','ls','marker','mfc','mec','mew','ms','lw')\n",
    "    d = dict(zip(keys,opt))\n",
    "    x = linspace(a,b,n)\n",
    "    g = lambda x,k: x**k + (-1)**k*k\n",
    "    plt.plot(x, g(x,k), label=f'k={k}',**d)\n",
    "             \n",
    "plt.figure(figsize=(10,6))        \n",
    "for k,opt in d.items():\n",
    "    p(K,I,J,k,opt)\n",
    "    \n",
    "plt.legend(loc='center left', ncol=2,fontsize=14)\n",
    "plt.xlabel('$x$',fontsize=14); plt.ylabel('$g(x)$',fontsize=14)\n",
    "plt.title('g(x) = $x^k + (-1)^kk, \\ \\ k = 1,2,3,4$',fontsize=14);\n",
    "plt.grid(axis='y')\n",
    "#plt.savefig('../figs/q/g-plots.png')"
   ]
  },
  {
   "cell_type": "markdown",
   "metadata": {},
   "source": [
    "**Questão 1:** Marque a alternativa que contém os valores corretos para as variáveis `A`, `B`, `C`, ... , `H`, nesta ordem.\n",
    "\n",
    "A. `'*'`, `'s'`, `'-.'`, `'k'`, `'+'`, `'b'`, `'a'`, `'^'` \n",
    "\n",
    "B. `'#fefefe'`, `'*'`, `'r'`, `':'`, `'b'`, `'k'`, `'g'`, `'<'` \n",
    "\n",
    "C. `'g`, `'s'`, `'y'`, `'-.'`, `'k'`, `'('`, `'c'`, `'<'` \n",
    "\n",
    "D. `'m'`, `'*'`, `'r'`, `'-.'`, `'y'`, `'b'`, `'b'`, `'<'` "
   ]
  },
  {
   "cell_type": "markdown",
   "metadata": {},
   "source": [
    "<hr>\n",
    "\n",
    "## Gabarito\n",
    "\n",
    "Alternativa **D**. Apenas substitua..."
   ]
  },
  {
   "cell_type": "markdown",
   "metadata": {},
   "source": [
    "**Questão 2:** Marque a alternativa correta:\n",
    "\n",
    "A. `I, J, K = 1., 10, 0.`\n",
    "\n",
    "B. `I, J, K = 0., 10.0, 11.`\n",
    "\n",
    "C. `I, J, K = 1., 11, 0.`\n",
    "\n",
    "D. `I, J, K = -1., 1, 10`\n"
   ]
  },
  {
   "cell_type": "markdown",
   "metadata": {},
   "source": [
    "<hr>\n",
    "\n",
    "## Gabarito\n",
    "\n",
    "Alternativa **C**. Apenas substitua..."
   ]
  },
  {
   "cell_type": "markdown",
   "metadata": {},
   "source": [
    "<hr>\n",
    "\n",
    "**Questão 3:** A energia cinética $K$ de uma partícula de massa $m$ que se move com velocidade dada por um vetor $\\vec{v}$ pode ser calculada como:\n",
    "\n",
    "$$K = m\\dfrac{\\langle \\vec{v}, \\vec{v}\\rangle}{2}.$$\n",
    "\n",
    "\n",
    "Determine a variação de energia cinética $\\Delta K = K_B - K_A$ de uma partícula de pó químico que se moveu do ponto A para o ponto B sabendo que sua massa é de 0.004 kg e que a sua velocidade em A e em B, eram, respectivamente, dadas pelos vetores:\n",
    "\n",
    "$$\\vec{v}_A = 10\\vec{i} - 2.5\\vec{j} + 0.5\\vec{k}\n",
    "\\\\\n",
    "\\vec{v}_B = 2.5\\vec{i} -1.1\\vec{j} + 0\\vec{k}$$\n",
    "\n",
    "Calcule a norma Euclidiana aproximada $V_B$ de $\\vec{v}_B$ e assinale a alternativa correta:\n",
    "\n",
    " A. $V_B \\approx 2.731$, $\\Delta K < 0$\n",
    " \n",
    " B. $V_B \\approx 3.123$, $\\Delta K < 0$\n",
    " \n",
    " C. $V_B \\approx 3.123$, $\\Delta K > 0$\n",
    " \n",
    " D. $V_B \\approx -1.210$, $\\Delta K > 0$"
   ]
  },
  {
   "cell_type": "markdown",
   "metadata": {},
   "source": [
    "<hr>\n",
    "\n",
    "## Gabarito\n",
    "Alternativa **A**"
   ]
  },
  {
   "cell_type": "code",
   "execution_count": 4,
   "metadata": {},
   "outputs": [
    {
     "data": {
      "text/plain": [
       "'Norma de V_B:2.731 e o delta é: -0.244'"
      ]
     },
     "execution_count": 4,
     "metadata": {},
     "output_type": "execute_result"
    }
   ],
   "source": [
    "from numpy import array, dot\n",
    "from numpy.linalg import norm\n",
    "\n",
    "v_a = array([10,-2,5,0.5])\n",
    "v_b = array([2.5,-1.1, 0])\n",
    "\n",
    "m = 0.004\n",
    "\n",
    "K_a = m*((dot(v_a,v_a))/2)\n",
    "K_b = m*((dot(v_b,v_b))/2)\n",
    "delta_K = K_b - K_a\n",
    "vb = norm(v_b)\n",
    "\n",
    "f'Norma de V_B:{round(vb,3)} e o delta é: {round(delta_K,3)}'"
   ]
  }
 ],
 "metadata": {
  "kernelspec": {
   "display_name": "Python 3",
   "language": "python",
   "name": "python3"
  },
  "language_info": {
   "codemirror_mode": {
    "name": "ipython",
    "version": 3
   },
   "file_extension": ".py",
   "mimetype": "text/x-python",
   "name": "python",
   "nbconvert_exporter": "python",
   "pygments_lexer": "ipython3",
   "version": "3.8.8"
  },
  "toc-autonumbering": false,
  "toc-showcode": false,
  "toc-showmarkdowntxt": false,
  "toc-showtags": false
 },
 "nbformat": 4,
 "nbformat_minor": 4
}
