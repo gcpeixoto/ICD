{
 "cells": [
  {
   "cell_type": "markdown",
   "id": "61de8ae9",
   "metadata": {},
   "source": [
    "## Questionário 32 (Q32)"
   ]
  },
  {
   "cell_type": "markdown",
   "id": "48192f3e",
   "metadata": {},
   "source": [
    "Orientações: \n",
    "\n",
    "- Registre suas respostas no questionário de mesmo nome no SIGAA.\n",
    "- O tempo de registro das respostas no questionário será de 10 minutos. Portanto, resolva primeiro as questões e depois registre-as.\n",
    "- Haverá apenas 1 (uma) tentativa de resposta.\n",
    "- Submeta seu arquivo-fonte (utilizado para resolver as questões) em formato _.ipynb_ pelo SIGAA anexando-o à Tarefa denominada \"Envio de arquivo\" correspondente ao questionário.\n",
    "\n",
    "*Nota:* o arquivo-fonte será utilizado apenas como prova de execução da tarefa. Nenhuma avaliação será feita quanto ao estilo de programação.\n",
    "\n",
    "<hr>"
   ]
  },
  {
   "cell_type": "code",
   "execution_count": 1,
   "id": "8d02cdf7",
   "metadata": {},
   "outputs": [],
   "source": [
    "import pandas as pd\n",
    "import numpy as np"
   ]
  },
  {
   "cell_type": "markdown",
   "id": "ec591ee7",
   "metadata": {},
   "source": [
    "**Questão 1.** Marque a alternativa cujas funções são as utilizadas para imprimir as 4 primeiras e as 6 últimas linhas, respectivamente, de um _DataFrame_ `d`, tal que  `len(d) = 20`.\n",
    "\n",
    "A. `df.head(6)`, `df.tail(4)`\n",
    "\n",
    "B. `df.head(-6)`, `df.tail(4)`\n",
    "\n",
    "C. `df.head(-16)`, `df.tail(6)`\n",
    "\n",
    "D. `df.tail(-6)`, `df.tail(4)`"
   ]
  },
  {
   "cell_type": "markdown",
   "id": "cf2a84ee",
   "metadata": {},
   "source": [
    "<hr>\n",
    "\n",
    "## Gabarito\n",
    "\n",
    "Alternativa **C**."
   ]
  },
  {
   "cell_type": "code",
   "execution_count": 2,
   "id": "9a8cb22d-a48d-4231-b5c6-ad678aa6d4d2",
   "metadata": {},
   "outputs": [
    {
     "data": {
      "text/plain": [
       "(     d   e\n",
       " a  0.0 NaN\n",
       " b  1.0 NaN\n",
       " c  2.0 NaN\n",
       " d  3.0 NaN,\n",
       "     d     e\n",
       " E NaN  15.0\n",
       " F NaN  16.0\n",
       " G NaN  17.0\n",
       " H NaN  18.0\n",
       " I NaN  19.0\n",
       " J NaN  20.0)"
      ]
     },
     "execution_count": 2,
     "metadata": {},
     "output_type": "execute_result"
    }
   ],
   "source": [
    "d1 = dict(zip([chr(i) for i in range(97,107)],range(0,10)))\n",
    "d2 = dict(zip([chr(i) for i in range(65,75)],range(11,21)))\n",
    "df = pd.DataFrame({'d':d1,'e':d2})\n",
    "df.head(-16),df.tail(6)"
   ]
  },
  {
   "cell_type": "markdown",
   "id": "c60b536c",
   "metadata": {},
   "source": [
    "<hr>\n",
    "\n",
    "**Questão 2** No dia 01/08/2021, três veículos saíram de João Pessoa - PB (JPA) com destino a três cidades com distâncias (em quilômetros) e durações de viagem (em horas) em relação à origem dadas pelo quadro abaixo. \n",
    "\n",
    "|   Veículo | Cidade    |   Distância de JPA (km) | Duração (h) |\n",
    "|--------:|:----------|-----------------:|:-------------|\n",
    "|  VW Gol | Bahia     |              848 | 7,5          |\n",
    "|  BMW Z4 | Fortaleza |              728 | 10           |\n",
    "|Chery QQ | Sergipe   |              640 | 9,5          |\n",
    "\n",
    "Tendo chegado ao destino, verificou-se por meio de um sistema de monitoramento que às 13:45h desse mesmo dia, todos os veículos haviam registrado no velocímetro uma velocidade igual à velocidade média calculada para o percurso. Entretanto, a partir desse instante, o sistema mostrou que os veículos haviam acelerado de tal forma que, às 13:47h, a velocidade média havia aumentado em 12% de seu valor. \n",
    "\n",
    "Construa um _DataFrame_ `df` que calcule as velocidades e acelerações dos veículos – em unidades de metro e segundo – nos instantes de interesse e defina as variáveis a seguir:\n",
    "\n",
    "- `a = df.loc['VW Gol']['Vel. inicial (m/s)']`\n",
    "\n",
    "- `b = df.loc['BMW Z4']['Vel. final (m/s)']`\n",
    "\n",
    "- `c = df.loc['Chery QQ']['Aceleração (m/s2)']`\n",
    "\n",
    "Então, assinale a alternativa que corresponde à tupla `(a,b,c)`, com aproximação de duas casas decimais. \n",
    "\n",
    "A. (10.12, 20.20, 0.01)\n",
    "\n",
    "B. (18.71, 20.96, 0.03)\n",
    "\n",
    "C. (20.22, 22.65, 0.02)\n",
    "\n",
    "D. (31.41, 22.65, 0.02)"
   ]
  },
  {
   "cell_type": "markdown",
   "id": "9e006704",
   "metadata": {},
   "source": [
    "<hr>\n",
    "\n",
    "## Gabarito\n",
    "\n",
    "Alternativa **D**:"
   ]
  },
  {
   "cell_type": "code",
   "execution_count": 12,
   "id": "3f9ab7a6-7bb2-4fee-a9ed-83c49d0c842f",
   "metadata": {},
   "outputs": [
    {
     "data": {
      "text/html": [
       "<div>\n",
       "<style scoped>\n",
       "    .dataframe tbody tr th:only-of-type {\n",
       "        vertical-align: middle;\n",
       "    }\n",
       "\n",
       "    .dataframe tbody tr th {\n",
       "        vertical-align: top;\n",
       "    }\n",
       "\n",
       "    .dataframe thead th {\n",
       "        text-align: right;\n",
       "    }\n",
       "</style>\n",
       "<table border=\"1\" class=\"dataframe\">\n",
       "  <thead>\n",
       "    <tr style=\"text-align: right;\">\n",
       "      <th></th>\n",
       "      <th>Cidade</th>\n",
       "      <th>Distância (km)</th>\n",
       "      <th>Duração (h)</th>\n",
       "      <th>Vel. média (km/h)</th>\n",
       "      <th>Vel. média (m/s)</th>\n",
       "      <th>Vel. inicial (m/s)</th>\n",
       "      <th>Vel. final (m/s)</th>\n",
       "      <th>Tempo inicial</th>\n",
       "      <th>Tempo final</th>\n",
       "      <th>Delta t (s)</th>\n",
       "      <th>Aceleração (m/s2)</th>\n",
       "    </tr>\n",
       "    <tr>\n",
       "      <th>Veículo</th>\n",
       "      <th></th>\n",
       "      <th></th>\n",
       "      <th></th>\n",
       "      <th></th>\n",
       "      <th></th>\n",
       "      <th></th>\n",
       "      <th></th>\n",
       "      <th></th>\n",
       "      <th></th>\n",
       "      <th></th>\n",
       "      <th></th>\n",
       "    </tr>\n",
       "  </thead>\n",
       "  <tbody>\n",
       "    <tr>\n",
       "      <th>VW Gol</th>\n",
       "      <td>Bahia</td>\n",
       "      <td>848</td>\n",
       "      <td>7.5</td>\n",
       "      <td>113.07</td>\n",
       "      <td>31.41</td>\n",
       "      <td>31.41</td>\n",
       "      <td>35.18</td>\n",
       "      <td>2021-08-01 13:45:00</td>\n",
       "      <td>2021-08-01 13:47:00</td>\n",
       "      <td>120.0</td>\n",
       "      <td>0.03</td>\n",
       "    </tr>\n",
       "    <tr>\n",
       "      <th>BMW Z4</th>\n",
       "      <td>Fortaleza</td>\n",
       "      <td>728</td>\n",
       "      <td>10</td>\n",
       "      <td>72.80</td>\n",
       "      <td>20.22</td>\n",
       "      <td>20.22</td>\n",
       "      <td>22.65</td>\n",
       "      <td>2021-08-01 13:45:00</td>\n",
       "      <td>2021-08-01 13:47:00</td>\n",
       "      <td>120.0</td>\n",
       "      <td>0.02</td>\n",
       "    </tr>\n",
       "    <tr>\n",
       "      <th>Chery QQ</th>\n",
       "      <td>Sergipe</td>\n",
       "      <td>640</td>\n",
       "      <td>9.5</td>\n",
       "      <td>67.37</td>\n",
       "      <td>18.71</td>\n",
       "      <td>18.71</td>\n",
       "      <td>20.96</td>\n",
       "      <td>2021-08-01 13:45:00</td>\n",
       "      <td>2021-08-01 13:47:00</td>\n",
       "      <td>120.0</td>\n",
       "      <td>0.02</td>\n",
       "    </tr>\n",
       "  </tbody>\n",
       "</table>\n",
       "</div>"
      ],
      "text/plain": [
       "             Cidade Distância (km) Duração (h)  Vel. média (km/h)  \\\n",
       "Veículo                                                             \n",
       "VW Gol        Bahia            848         7.5             113.07   \n",
       "BMW Z4    Fortaleza            728          10              72.80   \n",
       "Chery QQ    Sergipe            640         9.5              67.37   \n",
       "\n",
       "          Vel. média (m/s)  Vel. inicial (m/s)  Vel. final (m/s)  \\\n",
       "Veículo                                                            \n",
       "VW Gol               31.41               31.41             35.18   \n",
       "BMW Z4               20.22               20.22             22.65   \n",
       "Chery QQ             18.71               18.71             20.96   \n",
       "\n",
       "               Tempo inicial         Tempo final  Delta t (s)  \\\n",
       "Veículo                                                         \n",
       "VW Gol   2021-08-01 13:45:00 2021-08-01 13:47:00        120.0   \n",
       "BMW Z4   2021-08-01 13:45:00 2021-08-01 13:47:00        120.0   \n",
       "Chery QQ 2021-08-01 13:45:00 2021-08-01 13:47:00        120.0   \n",
       "\n",
       "          Aceleração (m/s2)  \n",
       "Veículo                      \n",
       "VW Gol                 0.03  \n",
       "BMW Z4                 0.02  \n",
       "Chery QQ               0.02  "
      ]
     },
     "execution_count": 12,
     "metadata": {},
     "output_type": "execute_result"
    }
   ],
   "source": [
    "del df\n",
    "import datetime\n",
    "\n",
    "d = pd.Series({'Veículo': 'VW Gol','Cidade': 'Bahia', 'Distância (km)': 848, 'Duração (h)': 7.5})\n",
    "e = pd.Series({'Veículo': 'BMW Z4','Cidade': 'Fortaleza', 'Distância (km)': 728, 'Duração (h)': 10})\n",
    "f = pd.Series({'Veículo': 'Chery QQ','Cidade': 'Sergipe', 'Distância (km)': 640, 'Duração (h)': 9.5})\n",
    "\n",
    "df = pd.DataFrame({0:d,1:e,2:f}).transpose()\n",
    "df['Vel. média (km/h)'] = (df['Distância (km)']/df['Duração (h)']).apply(lambda x: round(x,2)) \n",
    "df['Vel. média (m/s)'] = (df['Distância (km)']/df['Duração (h)']/3.6).apply(lambda x: round(x,2)) \n",
    "\n",
    "# velocidade no trecho\n",
    "prop = 0.12\n",
    "df['Vel. inicial (m/s)'] = df['Vel. média (m/s)']\n",
    "df['Vel. final (m/s)'] = np.round((1.0 + prop)*df['Vel. média (m/s)'],2)\n",
    "\n",
    "# tempo\n",
    "t0 = datetime.datetime(year=2021,month=8,day=1,hour=13,minute=45)\n",
    "tf = datetime.datetime(year=2021,month=8,day=1,hour=13,minute=47)\n",
    "deltaT = (tf-t0).total_seconds()\n",
    "\n",
    "df['Tempo inicial'] = t0\n",
    "df['Tempo final'] = tf\n",
    "df['Delta t (s)'] = deltaT\n",
    "\n",
    "# aceleração no trecho\n",
    "df['Aceleração (m/s2)'] = np.round((df['Vel. final (m/s)'] - df['Vel. inicial (m/s)'])/deltaT,2)\n",
    "df = df.set_index('Veículo')\n",
    "df"
   ]
  },
  {
   "cell_type": "code",
   "execution_count": 13,
   "id": "069b8200-716c-4924-a3e3-1d17d404fed5",
   "metadata": {},
   "outputs": [
    {
     "data": {
      "text/plain": [
       "(31.41, 22.65, 0.02)"
      ]
     },
     "execution_count": 13,
     "metadata": {},
     "output_type": "execute_result"
    }
   ],
   "source": [
    "a=df.loc['VW Gol']['Vel. inicial (m/s)']\n",
    "b=df.loc['BMW Z4']['Vel. final (m/s)']\n",
    "c=df.loc['Chery QQ']['Aceleração (m/s2)']\n",
    "a,b,c"
   ]
  },
  {
   "cell_type": "markdown",
   "id": "185b1f2a",
   "metadata": {},
   "source": [
    "<hr>\n",
    "\n",
    "**Questão 3.** O _dataset_ encontrado no arquivo [flights.csv](https://github.com/gcpeixoto/ICD/blob/main/database/flights.csv?raw=true) (_Box & Jenkins arline data_) registra a quantidade de passageiros transportados por uma companhia aérea entre 1949 e 1960.\n",
    "\n",
    "Utilizando agrupamentos, determine: \n",
    "\n",
    "- `y`: o ano em que o maior número de passageiros foi transportado;\n",
    "- `p`: o total de passageiros transportados no ano `y`;\n",
    "- `m1, m2, m3`: os 3 meses que, na média, transportaram os maiores números de passageiros ao longo desses anos (TOP 3);\n",
    "\n",
    "Assinale a alternativa que corresponde aos valores corretos dessas variáveis na seguinte ordem: `y`, `p`, `(m1,m2,m3)`."
   ]
  },
  {
   "cell_type": "markdown",
   "id": "6b612ecd-ac43-40e0-b676-00cc1f9556f9",
   "metadata": {},
   "source": [
    "a. 1957, 4421, (Jul, Ago, Set)\n",
    "\n",
    "b. 1960, 5714, (Jul, Ago, Jun)\n",
    "\n",
    "c. 1960, 5714, (Nov, Fev, Jan)\n",
    "\n",
    "d. 1951, 2042, (Ago, Set, Out)"
   ]
  },
  {
   "cell_type": "markdown",
   "id": "5c972c6f",
   "metadata": {},
   "source": [
    "<hr>\n",
    "\n",
    "## Gabarito\n",
    "\n",
    "Alternativa **B**.\n"
   ]
  },
  {
   "cell_type": "code",
   "execution_count": 7,
   "id": "bcf761be-2cb2-48c0-838e-7b12e47f9a71",
   "metadata": {},
   "outputs": [
    {
     "data": {
      "text/html": [
       "<div>\n",
       "<style scoped>\n",
       "    .dataframe tbody tr th:only-of-type {\n",
       "        vertical-align: middle;\n",
       "    }\n",
       "\n",
       "    .dataframe tbody tr th {\n",
       "        vertical-align: top;\n",
       "    }\n",
       "\n",
       "    .dataframe thead th {\n",
       "        text-align: right;\n",
       "    }\n",
       "</style>\n",
       "<table border=\"1\" class=\"dataframe\">\n",
       "  <thead>\n",
       "    <tr style=\"text-align: right;\">\n",
       "      <th></th>\n",
       "      <th>passengers</th>\n",
       "    </tr>\n",
       "    <tr>\n",
       "      <th>year</th>\n",
       "      <th></th>\n",
       "    </tr>\n",
       "  </thead>\n",
       "  <tbody>\n",
       "    <tr>\n",
       "      <th>1960</th>\n",
       "      <td>5714</td>\n",
       "    </tr>\n",
       "  </tbody>\n",
       "</table>\n",
       "</div>"
      ],
      "text/plain": [
       "      passengers\n",
       "year            \n",
       "1960        5714"
      ]
     },
     "execution_count": 7,
     "metadata": {},
     "output_type": "execute_result"
    }
   ],
   "source": [
    "del df\n",
    "# RESOLUÇÃO:\n",
    "df = pd.read_csv(\"../database/flights.csv\")\n",
    "df_year_soma = df[['year', 'passengers']].groupby([\"year\"]).sum()\n",
    "df_year_soma.loc[df_year_soma.idxmax()]"
   ]
  },
  {
   "cell_type": "code",
   "execution_count": 6,
   "id": "1482bd6f-eecf-4049-9ce8-c457b2382ecf",
   "metadata": {},
   "outputs": [
    {
     "data": {
      "text/html": [
       "<div>\n",
       "<style scoped>\n",
       "    .dataframe tbody tr th:only-of-type {\n",
       "        vertical-align: middle;\n",
       "    }\n",
       "\n",
       "    .dataframe tbody tr th {\n",
       "        vertical-align: top;\n",
       "    }\n",
       "\n",
       "    .dataframe thead th {\n",
       "        text-align: right;\n",
       "    }\n",
       "</style>\n",
       "<table border=\"1\" class=\"dataframe\">\n",
       "  <thead>\n",
       "    <tr style=\"text-align: right;\">\n",
       "      <th></th>\n",
       "      <th>passengers</th>\n",
       "    </tr>\n",
       "    <tr>\n",
       "      <th>month</th>\n",
       "      <th></th>\n",
       "    </tr>\n",
       "  </thead>\n",
       "  <tbody>\n",
       "    <tr>\n",
       "      <th>July</th>\n",
       "      <td>351.333333</td>\n",
       "    </tr>\n",
       "    <tr>\n",
       "      <th>August</th>\n",
       "      <td>351.083333</td>\n",
       "    </tr>\n",
       "    <tr>\n",
       "      <th>June</th>\n",
       "      <td>311.666667</td>\n",
       "    </tr>\n",
       "    <tr>\n",
       "      <th>September</th>\n",
       "      <td>302.416667</td>\n",
       "    </tr>\n",
       "    <tr>\n",
       "      <th>May</th>\n",
       "      <td>271.833333</td>\n",
       "    </tr>\n",
       "    <tr>\n",
       "      <th>March</th>\n",
       "      <td>270.166667</td>\n",
       "    </tr>\n",
       "    <tr>\n",
       "      <th>April</th>\n",
       "      <td>267.083333</td>\n",
       "    </tr>\n",
       "    <tr>\n",
       "      <th>October</th>\n",
       "      <td>266.583333</td>\n",
       "    </tr>\n",
       "    <tr>\n",
       "      <th>December</th>\n",
       "      <td>261.833333</td>\n",
       "    </tr>\n",
       "    <tr>\n",
       "      <th>January</th>\n",
       "      <td>241.750000</td>\n",
       "    </tr>\n",
       "    <tr>\n",
       "      <th>February</th>\n",
       "      <td>235.000000</td>\n",
       "    </tr>\n",
       "    <tr>\n",
       "      <th>November</th>\n",
       "      <td>232.833333</td>\n",
       "    </tr>\n",
       "  </tbody>\n",
       "</table>\n",
       "</div>"
      ],
      "text/plain": [
       "           passengers\n",
       "month                \n",
       "July       351.333333\n",
       "August     351.083333\n",
       "June       311.666667\n",
       "September  302.416667\n",
       "May        271.833333\n",
       "March      270.166667\n",
       "April      267.083333\n",
       "October    266.583333\n",
       "December   261.833333\n",
       "January    241.750000\n",
       "February   235.000000\n",
       "November   232.833333"
      ]
     },
     "execution_count": 6,
     "metadata": {},
     "output_type": "execute_result"
    }
   ],
   "source": [
    "df[[\"month\",\"passengers\"]].groupby([\"month\"]).mean().sort_values(by='passengers',ascending=False)"
   ]
  }
 ],
 "metadata": {
  "kernelspec": {
   "display_name": "Python 3",
   "language": "python",
   "name": "python3"
  },
  "language_info": {
   "codemirror_mode": {
    "name": "ipython",
    "version": 3
   },
   "file_extension": ".py",
   "mimetype": "text/x-python",
   "name": "python",
   "nbconvert_exporter": "python",
   "pygments_lexer": "ipython3",
   "version": "3.8.8"
  }
 },
 "nbformat": 4,
 "nbformat_minor": 5
}
