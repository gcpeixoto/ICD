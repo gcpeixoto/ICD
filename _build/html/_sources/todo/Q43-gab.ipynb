{
 "cells": [
  {
   "cell_type": "markdown",
   "id": "9c028aaa",
   "metadata": {},
   "source": [
    "## Questionário 43 (Q43)"
   ]
  },
  {
   "cell_type": "markdown",
   "id": "0932fad3",
   "metadata": {},
   "source": [
    "\n",
    "\n",
    "Orientações: \n",
    "\n",
    "- Registre suas respostas no questionário de mesmo nome no SIGAA.\n",
    "- O tempo de registro das respostas no questionário será de 10 minutos. Portanto, resolva primeiro as questões e depois registre-as.\n",
    "- Haverá apenas 1 (uma) tentativa de resposta.\n",
    "- Submeta seu arquivo-fonte (utilizado para resolver as questões) em formato _.ipynb_ pelo SIGAA anexando-o à Tarefa denominada \"Envio de arquivo\" correspondente ao questionário.\n",
    "\n",
    "*Nota:* o arquivo-fonte será utilizado apenas como prova de execução da tarefa. Nenhuma avaliação será feita quanto ao estilo de programação.\n",
    "\n",
    "<hr>"
   ]
  },
  {
   "cell_type": "markdown",
   "id": "5e9d6086",
   "metadata": {},
   "source": [
    "Para responder este questionário, utilize o banco de dados [brasileirao2021.csv](https://github.com/gcpeixoto/ICD/blob/main/database/brasileirao2021.csv). Fonte: [[CBF]](https://www.cbf.com.br/futebol-brasileiro/competicoes/campeonato-brasileiro-serie-a).\n",
    "\n",
    "**Obs.:** use o _dataset_ do repositório Git e não o do site da CBF, visto que este é atualizado após cada jogo.\n",
    "\n",
    "<br>\n",
    "\n",
    "**Questão 1.** Utilizando o método de _z-scores_ e o _dataset_, identifique todos os times cuja pontuação superou a média do campeonato e assinale a alternativa correta quanto às posições que ocupavam no ranque do Brasileirão 2021 no momento em que o _dataset_ havia sido gerado.\n",
    "\n",
    "A. 1a. a 6a.\n",
    "\n",
    "B. 3a. a 5a.\n",
    "\n",
    "C. 1a. a 9a.\n",
    "\n",
    "D. 2a. a 8a."
   ]
  },
  {
   "cell_type": "markdown",
   "id": "9516876d",
   "metadata": {},
   "source": [
    "<hr>\n",
    "\n",
    "## Gabarito\n",
    "\n",
    "Alternativa **C**"
   ]
  },
  {
   "cell_type": "code",
   "execution_count": 13,
   "id": "68c2fbec",
   "metadata": {},
   "outputs": [],
   "source": [
    "#Dataset e tratamento dos dados\n",
    "import pandas as pd \n",
    "import numpy as np\n",
    "\n",
    "# Fonte: https://www.cbf.com.br/futebol-brasileiro/competicoes/campeonato-brasileiro-serie-a\"\n",
    "brasileiro_2021 = pd.read_csv('../database/brasileirao2021.csv')\n",
    "brasileiro_2021 = brasileiro_2021.drop(columns=['%','Recentes','Próx'])"
   ]
  },
  {
   "cell_type": "code",
   "execution_count": 14,
   "id": "3b9f2d9d",
   "metadata": {},
   "outputs": [],
   "source": [
    "#Função do Z-Score\n",
    "def zScore(df,colname):\n",
    "    s = df[colname]\n",
    "    return (s - s.mean())/s.std(ddof=0)"
   ]
  },
  {
   "cell_type": "code",
   "execution_count": 15,
   "id": "96d25b92",
   "metadata": {},
   "outputs": [
    {
     "name": "stdout",
     "output_type": "stream",
     "text": [
      "Todos os times que tem a pontuação acima da média:\n",
      "\n",
      "\n",
      "1º  0  Atlético Mineiro - MG\n",
      "2º  +1  Palmeiras - SP\n",
      "3º  +1  Fortaleza - CE\n",
      "4º  -2  Flamengo - RJ\n",
      "5º  0  Red Bull Bragantino - SP\n",
      "6º  0  Internacional - RS\n",
      "7º  0  Corinthians - SP\n",
      "8º  0  Fluminense - RJ\n",
      "9º  +2  Atlético - GO\n"
     ]
    }
   ],
   "source": [
    "#Filtrando as colunas que iremos utilizar e indexando\n",
    "df_pts_j = brasileiro_2021.filter(['Posição', 'PTS', 'J']).set_index('Posição')\n",
    "\n",
    "#Criando o df com o dados do z-score\n",
    "l = {}\n",
    "for c in df_pts_j.columns:    \n",
    "    l[c + ':Z-score'] = zScore(df_pts_j,c)\n",
    "\n",
    "\n",
    "df_zscore = pd.DataFrame(l)\n",
    "\n",
    "#Verificando quais são > 0\n",
    "print(\"Todos os times que tem a pontuação acima da média:\\n\\n\")\n",
    "for i in range(len(df_zscore)):\n",
    "    \n",
    "    if (df_zscore['PTS:Z-score'][i] > 0):\n",
    "        print(df_zscore.index[i])\n",
    "    \n",
    "    else:\n",
    "        continue"
   ]
  },
  {
   "cell_type": "markdown",
   "id": "d037fddc",
   "metadata": {},
   "source": [
    "<hr>\n",
    "\n",
    "**Questão 2.** O _dataset_ descreve o desempenho de cada time através de marcadores clássicos do futebol, a saber: Pontos (_PTS_), Jogos (_J_), Vitórias (_V_), Empates (_E_), Derrotas (_D_), Gols Marcados (Pró) (_GP_), Gol Sofridos (Contra) (_GC_), Saldo de Gols (_SG_), Cartões Amarelos (_CA_) e Cartões Vermelhos (_CV_).\n",
    "\n",
    "Considerando $X$ a série correspondente a _PTS_, determine as variáveis correspondentes às séries $Y_1$ e $Y_2$, tais que, $\\text{cov}(X,Y_1)$ seja a maior covariância positiva e $\\text{cov}(X,Y_2)$ seja a maior covariância negativa.\n",
    "\n",
    "\n",
    "A. _J_ e _V_\n",
    "\n",
    "B. _GP_ e _GC_\n",
    "\n",
    "C. _SG_ e _GP_\n",
    "\n",
    "D. _SG_ e _GC_\n"
   ]
  },
  {
   "cell_type": "markdown",
   "id": "ada581a0",
   "metadata": {},
   "source": [
    "<hr>\n",
    "\n",
    "## Gabarito\n",
    "\n",
    "Alternativa **D**"
   ]
  },
  {
   "cell_type": "code",
   "execution_count": 16,
   "id": "e18259cf",
   "metadata": {},
   "outputs": [],
   "source": [
    "# covariância\n",
    "def cov(df,colname1,colname2):\n",
    "    s1,s2 = df[colname1],df[colname2]\n",
    "    return np.dot( s1 - s1.mean(), s2 - s2.mean() )/(len(s1)-1)"
   ]
  },
  {
   "cell_type": "code",
   "execution_count": 17,
   "id": "b2ebac80",
   "metadata": {},
   "outputs": [
    {
     "data": {
      "text/html": [
       "<div>\n",
       "<style scoped>\n",
       "    .dataframe tbody tr th:only-of-type {\n",
       "        vertical-align: middle;\n",
       "    }\n",
       "\n",
       "    .dataframe tbody tr th {\n",
       "        vertical-align: top;\n",
       "    }\n",
       "\n",
       "    .dataframe thead th {\n",
       "        text-align: right;\n",
       "    }\n",
       "</style>\n",
       "<table border=\"1\" class=\"dataframe\">\n",
       "  <thead>\n",
       "    <tr style=\"text-align: right;\">\n",
       "      <th></th>\n",
       "      <th>Posição</th>\n",
       "      <th>PTS</th>\n",
       "      <th>J</th>\n",
       "      <th>V</th>\n",
       "      <th>E</th>\n",
       "      <th>D</th>\n",
       "      <th>GP</th>\n",
       "      <th>GC</th>\n",
       "      <th>SG</th>\n",
       "      <th>CA</th>\n",
       "      <th>CV</th>\n",
       "    </tr>\n",
       "  </thead>\n",
       "  <tbody>\n",
       "    <tr>\n",
       "      <th>0</th>\n",
       "      <td>1º  0  Atlético Mineiro - MG</td>\n",
       "      <td>59</td>\n",
       "      <td>27</td>\n",
       "      <td>18</td>\n",
       "      <td>5</td>\n",
       "      <td>4</td>\n",
       "      <td>44</td>\n",
       "      <td>20</td>\n",
       "      <td>24</td>\n",
       "      <td>53</td>\n",
       "      <td>4</td>\n",
       "    </tr>\n",
       "    <tr>\n",
       "      <th>1</th>\n",
       "      <td>2º  +1  Palmeiras - SP</td>\n",
       "      <td>49</td>\n",
       "      <td>28</td>\n",
       "      <td>15</td>\n",
       "      <td>4</td>\n",
       "      <td>9</td>\n",
       "      <td>42</td>\n",
       "      <td>34</td>\n",
       "      <td>8</td>\n",
       "      <td>64</td>\n",
       "      <td>7</td>\n",
       "    </tr>\n",
       "    <tr>\n",
       "      <th>2</th>\n",
       "      <td>3º  +1  Fortaleza - CE</td>\n",
       "      <td>48</td>\n",
       "      <td>28</td>\n",
       "      <td>14</td>\n",
       "      <td>6</td>\n",
       "      <td>8</td>\n",
       "      <td>38</td>\n",
       "      <td>30</td>\n",
       "      <td>8</td>\n",
       "      <td>62</td>\n",
       "      <td>5</td>\n",
       "    </tr>\n",
       "    <tr>\n",
       "      <th>3</th>\n",
       "      <td>4º  -2  Flamengo - RJ</td>\n",
       "      <td>46</td>\n",
       "      <td>25</td>\n",
       "      <td>14</td>\n",
       "      <td>4</td>\n",
       "      <td>7</td>\n",
       "      <td>47</td>\n",
       "      <td>24</td>\n",
       "      <td>23</td>\n",
       "      <td>52</td>\n",
       "      <td>2</td>\n",
       "    </tr>\n",
       "    <tr>\n",
       "      <th>4</th>\n",
       "      <td>5º  0  Red Bull Bragantino - SP</td>\n",
       "      <td>46</td>\n",
       "      <td>28</td>\n",
       "      <td>11</td>\n",
       "      <td>13</td>\n",
       "      <td>4</td>\n",
       "      <td>44</td>\n",
       "      <td>32</td>\n",
       "      <td>12</td>\n",
       "      <td>69</td>\n",
       "      <td>3</td>\n",
       "    </tr>\n",
       "  </tbody>\n",
       "</table>\n",
       "</div>"
      ],
      "text/plain": [
       "                           Posição  PTS   J   V   E  D  GP  GC  SG  CA  CV\n",
       "0     1º  0  Atlético Mineiro - MG   59  27  18   5  4  44  20  24  53   4\n",
       "1           2º  +1  Palmeiras - SP   49  28  15   4  9  42  34   8  64   7\n",
       "2           3º  +1  Fortaleza - CE   48  28  14   6  8  38  30   8  62   5\n",
       "3            4º  -2  Flamengo - RJ   46  25  14   4  7  47  24  23  52   2\n",
       "4  5º  0  Red Bull Bragantino - SP   46  28  11  13  4  44  32  12  69   3"
      ]
     },
     "execution_count": 17,
     "metadata": {},
     "output_type": "execute_result"
    }
   ],
   "source": [
    "brasileiro_2021.head()"
   ]
  },
  {
   "cell_type": "code",
   "execution_count": 18,
   "id": "becd3623",
   "metadata": {},
   "outputs": [],
   "source": [
    "def stats(db, col_alvo):\n",
    "    l=np.ones(len(db.columns[2:]))\n",
    "    for _ in range(len(db.columns[2:])):\n",
    "        l[_] = (cov(db,col_alvo,str(db.columns[_+2])))\n",
    "        \n",
    "    return l"
   ]
  },
  {
   "cell_type": "code",
   "execution_count": 19,
   "id": "5c081d40",
   "metadata": {},
   "outputs": [
    {
     "data": {
      "text/plain": [
       "'SG / GC'"
      ]
     },
     "execution_count": 19,
     "metadata": {},
     "output_type": "execute_result"
    }
   ],
   "source": [
    "covariance = stats(brasileiro_2021, \"PTS\")\n",
    "brasileiro_2021.columns[np.argmax(covariance)+2] + \" / \" + brasileiro_2021.columns[np.argmin(covariance)+2]"
   ]
  },
  {
   "cell_type": "markdown",
   "id": "cad5ece0",
   "metadata": {},
   "source": [
    "**Questão 3.** Tomando todas as séries do _DataFrama_ de _GM_ em diante, identifique aquela que possui a mais forte correlação positiva com _E_ e aquela que possui a mais forte correlação negativa com _V_, respectivamente.\n",
    "\n",
    "A. GP / GC\n",
    "\n",
    "B. CV / GP\n",
    "\n",
    "C. CA / GC\n",
    "\n",
    "D. SG / GC"
   ]
  },
  {
   "cell_type": "markdown",
   "id": "4cb6a9a0",
   "metadata": {},
   "source": [
    "<hr>\n",
    "\n",
    "## Gabarito\n",
    "\n",
    "Alternativa **C**"
   ]
  },
  {
   "cell_type": "code",
   "execution_count": 20,
   "id": "5625a0ca",
   "metadata": {},
   "outputs": [],
   "source": [
    "def corr1(db, col_alvo):\n",
    "    l = np.ones(len(db.columns[6:]))\n",
    "    for _ in range(len(db.columns[6:])):\n",
    "\n",
    "        l[_] = db[[col_alvo, str(db.columns[_+6])]].corr()[1:][col_alvo].values[0]\n",
    "        print(f\"{str(db.columns[_+6])}: {l[_]}\")\n",
    "        \n",
    "    return l"
   ]
  },
  {
   "cell_type": "code",
   "execution_count": 21,
   "id": "4b9d9003",
   "metadata": {},
   "outputs": [],
   "source": [
    "newdf = brasileiro_2021.columns[6:]"
   ]
  },
  {
   "cell_type": "code",
   "execution_count": 22,
   "id": "cd3bf5a7",
   "metadata": {},
   "outputs": [
    {
     "name": "stdout",
     "output_type": "stream",
     "text": [
      "GP: -0.4310051901658176\n",
      "GC: 0.021633909402821727\n",
      "SG: -0.3363221859680448\n",
      "CA: 0.18154402599256328\n",
      "CV: -0.027594435540541775\n"
     ]
    },
    {
     "data": {
      "text/plain": [
       "array([-0.43100519,  0.02163391, -0.33632219,  0.18154403, -0.02759444])"
      ]
     },
     "execution_count": 22,
     "metadata": {},
     "output_type": "execute_result"
    }
   ],
   "source": [
    "corr2 = corr1(brasileiro_2021, \"E\");corr2"
   ]
  },
  {
   "cell_type": "code",
   "execution_count": 23,
   "id": "eda1eec6",
   "metadata": {},
   "outputs": [
    {
     "name": "stdout",
     "output_type": "stream",
     "text": [
      "GP: 0.8145216553014859\n",
      "GC: -0.5413696355822328\n",
      "SG: 0.9152025472633629\n",
      "CA: -0.313483863204042\n",
      "CV: -0.09023252337072131\n"
     ]
    },
    {
     "data": {
      "text/plain": [
       "array([ 0.81452166, -0.54136964,  0.91520255, -0.31348386, -0.09023252])"
      ]
     },
     "execution_count": 23,
     "metadata": {},
     "output_type": "execute_result"
    }
   ],
   "source": [
    "corr3 = corr1(brasileiro_2021, \"V\"); corr3"
   ]
  },
  {
   "cell_type": "code",
   "execution_count": 24,
   "id": "5f9d7ccc",
   "metadata": {},
   "outputs": [
    {
     "data": {
      "text/plain": [
       "'CA / GC'"
      ]
     },
     "execution_count": 24,
     "metadata": {},
     "output_type": "execute_result"
    }
   ],
   "source": [
    "brasileiro_2021.columns[np.argmax(corr2)+6] + \" / \" + brasileiro_2021.columns[np.argmin(corr3)+6]"
   ]
  }
 ],
 "metadata": {
  "kernelspec": {
   "display_name": "Python 3",
   "language": "python",
   "name": "python3"
  },
  "language_info": {
   "codemirror_mode": {
    "name": "ipython",
    "version": 3
   },
   "file_extension": ".py",
   "mimetype": "text/x-python",
   "name": "python",
   "nbconvert_exporter": "python",
   "pygments_lexer": "ipython3",
   "version": "3.8.8"
  }
 },
 "nbformat": 4,
 "nbformat_minor": 5
}
