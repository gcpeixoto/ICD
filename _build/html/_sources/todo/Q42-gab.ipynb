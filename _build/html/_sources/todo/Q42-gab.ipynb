{
 "cells": [
  {
   "cell_type": "markdown",
   "id": "9c028aaa",
   "metadata": {},
   "source": [
    "## Questionário 42 (Q42)"
   ]
  },
  {
   "cell_type": "markdown",
   "id": "0932fad3",
   "metadata": {},
   "source": [
    "\n",
    "\n",
    "Orientações: \n",
    "\n",
    "- Registre suas respostas no questionário de mesmo nome no SIGAA.\n",
    "- O tempo de registro das respostas no questionário será de 10 minutos. Portanto, resolva primeiro as questões e depois registre-as.\n",
    "- Haverá apenas 1 (uma) tentativa de resposta.\n",
    "- Submeta seu arquivo-fonte (utilizado para resolver as questões) em formato _.ipynb_ pelo SIGAA anexando-o à Tarefa denominada \"Envio de arquivo\" correspondente ao questionário.\n",
    "\n",
    "*Nota:* o arquivo-fonte será utilizado apenas como prova de execução da tarefa. Nenhuma avaliação será feita quanto ao estilo de programação.\n",
    "\n",
    "<hr>"
   ]
  },
  {
   "cell_type": "markdown",
   "id": "88419e85",
   "metadata": {},
   "source": [
    "**Questão 1.** No _dataset_ [enem2019.xlsx](https://github.com/gcpeixoto/ICD/blob/main/database/enem2019.xlsx), estão disponíveis as notas médias por estado obtidas nas provas do ENEM 2019. Supondo que _x_ é a diferença entre a amplitude da quantidade de inscritos na região Sudeste e a amplitude da quantidade de inscritos na região Norte, e que _y_ é o desvio médio para a série da quantidade total de inscritos de ensino médio público apenas para os estados do sul, assinale a alternativa que corretamente expressa os valores de _x_ e _y_,  nesta sequência.\n",
    "\n",
    "**Obs.:** considere apenas a parte inteira do desvio médio.\n",
    "\n",
    "A. 149465 e 5690\n",
    "\n",
    "B. 169265 e 6593\n",
    "\n",
    "C. 149465 e 0\n",
    "\n",
    "D. 173921 e 2"
   ]
  },
  {
   "cell_type": "markdown",
   "id": "c75ca485",
   "metadata": {},
   "source": [
    "## GABARITO\n",
    "\n",
    "$n =$ **_Quantidade de inscritos da região_**\n",
    "\n",
    "$\\overline{X}$ = **_Média do total de inscritos de Ensino Público_**\n",
    "\n",
    "$X_i$ = $Estado_i$ \n",
    "\n",
    "Alterei o **n** e o desvio da média; alterei o **n** que deveria ser para evitar que os alunos apenas usem _.mad()_ e realizem de fato o desvio médio\n",
    "\n",
    "Alternativa **C**\n",
    "\n",
    "<hr>"
   ]
  },
  {
   "cell_type": "code",
   "execution_count": 1,
   "id": "29070dc4",
   "metadata": {},
   "outputs": [],
   "source": [
    "import pandas as pd\n",
    "import numpy as np"
   ]
  },
  {
   "cell_type": "code",
   "execution_count": 2,
   "id": "f92b5e23",
   "metadata": {},
   "outputs": [
    {
     "data": {
      "text/html": [
       "<div>\n",
       "<style scoped>\n",
       "    .dataframe tbody tr th:only-of-type {\n",
       "        vertical-align: middle;\n",
       "    }\n",
       "\n",
       "    .dataframe tbody tr th {\n",
       "        vertical-align: top;\n",
       "    }\n",
       "\n",
       "    .dataframe thead th {\n",
       "        text-align: right;\n",
       "    }\n",
       "</style>\n",
       "<table border=\"1\" class=\"dataframe\">\n",
       "  <thead>\n",
       "    <tr style=\"text-align: right;\">\n",
       "      <th></th>\n",
       "      <th>COD UF</th>\n",
       "      <th>Quantidade de Inscritos</th>\n",
       "      <th>Total de inscritos de Ensino Médio Público</th>\n",
       "      <th>Total de inscritos de Ensino Médio Privado</th>\n",
       "      <th>Média da nota da prova de Ciências da Natureza</th>\n",
       "      <th>Média da nota da prova de Ciências Humanas</th>\n",
       "      <th>Média da nota da prova de Linguagens e Códigos</th>\n",
       "      <th>Média da nota da prova de Matemática</th>\n",
       "      <th>Média da nota da prova de redação</th>\n",
       "    </tr>\n",
       "    <tr>\n",
       "      <th>Estado</th>\n",
       "      <th></th>\n",
       "      <th></th>\n",
       "      <th></th>\n",
       "      <th></th>\n",
       "      <th></th>\n",
       "      <th></th>\n",
       "      <th></th>\n",
       "      <th></th>\n",
       "      <th></th>\n",
       "    </tr>\n",
       "  </thead>\n",
       "  <tbody>\n",
       "    <tr>\n",
       "      <th>RS</th>\n",
       "      <td>43</td>\n",
       "      <td>46173</td>\n",
       "      <td>41424</td>\n",
       "      <td>4749</td>\n",
       "      <td>484.659842</td>\n",
       "      <td>524.267227</td>\n",
       "      <td>533.906006</td>\n",
       "      <td>546.707112</td>\n",
       "      <td>598.457500</td>\n",
       "    </tr>\n",
       "    <tr>\n",
       "      <th>AP</th>\n",
       "      <td>16</td>\n",
       "      <td>6136</td>\n",
       "      <td>5711</td>\n",
       "      <td>425</td>\n",
       "      <td>446.884217</td>\n",
       "      <td>477.089716</td>\n",
       "      <td>491.826222</td>\n",
       "      <td>477.948733</td>\n",
       "      <td>538.818381</td>\n",
       "    </tr>\n",
       "    <tr>\n",
       "      <th>AL</th>\n",
       "      <td>27</td>\n",
       "      <td>17551</td>\n",
       "      <td>15328</td>\n",
       "      <td>2223</td>\n",
       "      <td>453.600683</td>\n",
       "      <td>480.601937</td>\n",
       "      <td>496.041317</td>\n",
       "      <td>498.075512</td>\n",
       "      <td>553.236927</td>\n",
       "    </tr>\n",
       "    <tr>\n",
       "      <th>AM</th>\n",
       "      <td>13</td>\n",
       "      <td>25817</td>\n",
       "      <td>24541</td>\n",
       "      <td>1276</td>\n",
       "      <td>446.577429</td>\n",
       "      <td>475.833558</td>\n",
       "      <td>494.953598</td>\n",
       "      <td>482.391837</td>\n",
       "      <td>509.776809</td>\n",
       "    </tr>\n",
       "    <tr>\n",
       "      <th>GO</th>\n",
       "      <td>52</td>\n",
       "      <td>35546</td>\n",
       "      <td>31323</td>\n",
       "      <td>4223</td>\n",
       "      <td>477.625078</td>\n",
       "      <td>505.805269</td>\n",
       "      <td>520.101327</td>\n",
       "      <td>528.496087</td>\n",
       "      <td>594.747233</td>\n",
       "    </tr>\n",
       "  </tbody>\n",
       "</table>\n",
       "</div>"
      ],
      "text/plain": [
       "        COD UF  Quantidade de Inscritos  \\\n",
       "Estado                                    \n",
       "RS          43                    46173   \n",
       "AP          16                     6136   \n",
       "AL          27                    17551   \n",
       "AM          13                    25817   \n",
       "GO          52                    35546   \n",
       "\n",
       "        Total de inscritos de Ensino Médio Público  \\\n",
       "Estado                                               \n",
       "RS                                           41424   \n",
       "AP                                            5711   \n",
       "AL                                           15328   \n",
       "AM                                           24541   \n",
       "GO                                           31323   \n",
       "\n",
       "        Total de inscritos de Ensino Médio Privado  \\\n",
       "Estado                                               \n",
       "RS                                            4749   \n",
       "AP                                             425   \n",
       "AL                                            2223   \n",
       "AM                                            1276   \n",
       "GO                                            4223   \n",
       "\n",
       "        Média da nota da prova de Ciências da Natureza  \\\n",
       "Estado                                                   \n",
       "RS                                          484.659842   \n",
       "AP                                          446.884217   \n",
       "AL                                          453.600683   \n",
       "AM                                          446.577429   \n",
       "GO                                          477.625078   \n",
       "\n",
       "        Média da nota da prova de Ciências Humanas  \\\n",
       "Estado                                               \n",
       "RS                                      524.267227   \n",
       "AP                                      477.089716   \n",
       "AL                                      480.601937   \n",
       "AM                                      475.833558   \n",
       "GO                                      505.805269   \n",
       "\n",
       "        Média da nota da prova de Linguagens e Códigos  \\\n",
       "Estado                                                   \n",
       "RS                                          533.906006   \n",
       "AP                                          491.826222   \n",
       "AL                                          496.041317   \n",
       "AM                                          494.953598   \n",
       "GO                                          520.101327   \n",
       "\n",
       "        Média da nota da prova de Matemática  \\\n",
       "Estado                                         \n",
       "RS                                546.707112   \n",
       "AP                                477.948733   \n",
       "AL                                498.075512   \n",
       "AM                                482.391837   \n",
       "GO                                528.496087   \n",
       "\n",
       "        Média da nota da prova de redação  \n",
       "Estado                                     \n",
       "RS                             598.457500  \n",
       "AP                             538.818381  \n",
       "AL                             553.236927  \n",
       "AM                             509.776809  \n",
       "GO                             594.747233  "
      ]
     },
     "execution_count": 2,
     "metadata": {},
     "output_type": "execute_result"
    }
   ],
   "source": [
    "df = pd.read_excel(\"../database/enem2019.xlsx\")\n",
    "df = df.set_index(\"Estado\")\n",
    "df.head()"
   ]
  },
  {
   "cell_type": "code",
   "execution_count": 3,
   "id": "a57ce960",
   "metadata": {},
   "outputs": [],
   "source": [
    "norte0 = [\"AC\",\"AP\",\"AM\",\"PA\",\"RO\",\"RR\",\"TO\"]\n",
    "alvos = [\"Quantidade de Inscritos\"]\n",
    "nortedf = df.loc[norte0,alvos]\n",
    "sudeste0 = [\"ES\",\"MG\",\"RJ\",\"SP\"]\n",
    "sudestedf = df.loc[sudeste0,alvos]"
   ]
  },
  {
   "cell_type": "code",
   "execution_count": 4,
   "id": "08d144b4",
   "metadata": {},
   "outputs": [],
   "source": [
    "R_norte = nortedf.values.max() - nortedf.values.min()\n",
    "R_sudeste = sudestedf.values.max() - sudestedf.values.min()\n",
    "R_dif = R_sudeste - R_norte"
   ]
  },
  {
   "cell_type": "code",
   "execution_count": 5,
   "id": "08413ee1",
   "metadata": {},
   "outputs": [
    {
     "data": {
      "text/plain": [
       "'Resultado esperado: 149465 // 0.0'"
      ]
     },
     "execution_count": 5,
     "metadata": {},
     "output_type": "execute_result"
    }
   ],
   "source": [
    "alvos = [\"Quantidade de Inscritos\",\"Total de inscritos de Ensino Médio Público\",\"Total de inscritos de Ensino Médio Privado\"]\n",
    "sul0 = [\"PR\",\"RS\",\"SC\"]\n",
    "suldf = df.loc[sul0,alvos]\n",
    "n = sum(suldf[\"Quantidade de Inscritos\"])\n",
    "media = suldf[\"Total de inscritos de Ensino Médio Público\"].mean()\n",
    "DM = sum((suldf[\"Total de inscritos de Ensino Médio Público\"] - media)/n)\n",
    "f'Resultado esperado: {R_dif} // {DM}'"
   ]
  },
  {
   "cell_type": "markdown",
   "id": "a5e08379",
   "metadata": {},
   "source": [
    "<hr>\n",
    "\n",
    "**Questão 2.** Calcule o percentual _p_ de inscritos para o ENEM 2019 provenientes do ensino privado de todos os Estados em relação ao total de inscritos no exame, bem como o valor do quociente _v/V_, onde _v_ é a variância para a série do total de inscritos provenientes do ensino público e _V_ a variância para a série do total de inscritos provenientes do ensino privado. Assinale a alternativa correta para _p_ e _v/V_.\n",
    "\n",
    "A. 11.4% e 34.48\n",
    "\n",
    "B. 15% e 33.45\n",
    "\n",
    "C. 12.5% e 36.78\n",
    "\n",
    "D. 13.54% e 34.6"
   ]
  },
  {
   "cell_type": "markdown",
   "id": "a80a4a40",
   "metadata": {},
   "source": [
    "<hr>\n",
    "\n",
    "## GABARITO\n",
    "\n",
    "Alternativa **A**"
   ]
  },
  {
   "cell_type": "code",
   "execution_count": 6,
   "id": "e86c015d",
   "metadata": {},
   "outputs": [
    {
     "name": "stdout",
     "output_type": "stream",
     "text": [
      "11.47% é a porcentagem do total de inscritos no ENEM do Ensino Médio Privado\n",
      "34.48 é o quociente da variância do Total de inscritos de Ensino Médio Público sob o Total de inscritos de Ensino Médio Privado\n"
     ]
    }
   ],
   "source": [
    "#RESPOSTA CERTA A)\n",
    "\n",
    "df4 = df.filter([\"Quantidade de Inscritos\", \"Total de inscritos de Ensino Médio Público\", \"Total de inscritos de Ensino Médio Privado\"])\n",
    "\n",
    "p = (df4[\"Total de inscritos de Ensino Médio Privado\"].sum() / df4[\"Quantidade de Inscritos\"].sum())*100\n",
    "v = df4[\"Total de inscritos de Ensino Médio Público\"].var() / df4[\"Total de inscritos de Ensino Médio Privado\"].var()\n",
    "\n",
    "print(\"{:.2f}% é a porcentagem do total de inscritos no ENEM do Ensino Médio Privado\" .format(p))\n",
    "print(\"{:.2f} é o quociente da variância do Total de inscritos de Ensino Médio Público sob o Total de inscritos de Ensino Médio Privado\" .format(v))"
   ]
  },
  {
   "cell_type": "markdown",
   "id": "75e008bf",
   "metadata": {},
   "source": [
    "<hr>"
   ]
  },
  {
   "cell_type": "markdown",
   "id": "09c352c0",
   "metadata": {},
   "source": [
    "**Questão 3.** Defina a nota média $N(x)$ de cada região brasileira $x$ como a média das notas $N_i$ de cada uma das $Q$ grandes áreas de conhecimento que constam da prova do ENEM 2019, isto é,\n",
    "\n",
    "$$N(x) =  \\frac{ \\sum_{i=1}^Q N_i(x)}{Q},$$\n",
    "\n",
    "e assinale a alternativa cujas regiões detém o primeiro e o segundo maiores valores de desvio padrão.\n",
    "\n",
    "A. Nordeste e Sudeste\n",
    "\n",
    "B. Sudeste e Nordeste\n",
    "\n",
    "C. Norte e Sul\n",
    "\n",
    "D. Sul e Centro-Oeste"
   ]
  },
  {
   "cell_type": "markdown",
   "id": "bde96c04",
   "metadata": {},
   "source": [
    "<hr>\n",
    "\n",
    "## GABARITO\n",
    "\n",
    "Na verdade é apenas o desvio padrão da nota de cada região.\n",
    "\n",
    "Alternativa **B**"
   ]
  },
  {
   "cell_type": "code",
   "execution_count": 7,
   "id": "b5db6af3",
   "metadata": {},
   "outputs": [],
   "source": [
    "df2 = df.iloc[:,4:]"
   ]
  },
  {
   "cell_type": "code",
   "execution_count": 8,
   "id": "03079f7c",
   "metadata": {
    "scrolled": true
   },
   "outputs": [],
   "source": [
    "nordeste0 = [\"AL\",\"BA\",\"CE\",\"MA\",\"PB\",\"PE\",\"PI\",\"RN\",\"SE\"]\n",
    "centro_oeste0 = [\"GO\",\"MT\",\"MS\",\"DF\"]\n",
    "norte1 = df2.loc[norte0]\n",
    "sudeste1 = df2.loc[sudeste0]\n",
    "nordeste1 = df2.loc[nordeste0]\n",
    "centro_oeste1 = df2.loc[centro_oeste0]\n",
    "sul1 = df2.loc[sul0]\n",
    "df3 = pd.DataFrame({\"Nordeste\": nordeste1.mean(), \"Sudeste\":sudeste1.mean(), \"Centro-Oeste\":centro_oeste1.mean(),\n",
    "                   \"Norte\": norte1.mean(), \"Sul\":sul1.mean()},index=nordeste1.mean().index)"
   ]
  },
  {
   "cell_type": "code",
   "execution_count": 9,
   "id": "c13b4e8c",
   "metadata": {},
   "outputs": [
    {
     "data": {
      "text/html": [
       "<div>\n",
       "<style scoped>\n",
       "    .dataframe tbody tr th:only-of-type {\n",
       "        vertical-align: middle;\n",
       "    }\n",
       "\n",
       "    .dataframe tbody tr th {\n",
       "        vertical-align: top;\n",
       "    }\n",
       "\n",
       "    .dataframe thead th {\n",
       "        text-align: right;\n",
       "    }\n",
       "</style>\n",
       "<table border=\"1\" class=\"dataframe\">\n",
       "  <thead>\n",
       "    <tr style=\"text-align: right;\">\n",
       "      <th></th>\n",
       "      <th>Nordeste</th>\n",
       "      <th>Sudeste</th>\n",
       "      <th>Centro-Oeste</th>\n",
       "      <th>Norte</th>\n",
       "      <th>Sul</th>\n",
       "    </tr>\n",
       "  </thead>\n",
       "  <tbody>\n",
       "    <tr>\n",
       "      <th>Média da nota da prova de Ciências da Natureza</th>\n",
       "      <td>459.822169</td>\n",
       "      <td>487.889456</td>\n",
       "      <td>477.229090</td>\n",
       "      <td>454.433446</td>\n",
       "      <td>486.822070</td>\n",
       "    </tr>\n",
       "    <tr>\n",
       "      <th>Média da nota da prova de Ciências Humanas</th>\n",
       "      <td>486.437270</td>\n",
       "      <td>517.440376</td>\n",
       "      <td>505.731320</td>\n",
       "      <td>482.186277</td>\n",
       "      <td>522.094818</td>\n",
       "    </tr>\n",
       "    <tr>\n",
       "      <th>Média da nota da prova de Linguagens e Códigos</th>\n",
       "      <td>501.290674</td>\n",
       "      <td>529.593297</td>\n",
       "      <td>520.213301</td>\n",
       "      <td>498.047329</td>\n",
       "      <td>531.704797</td>\n",
       "    </tr>\n",
       "    <tr>\n",
       "      <th>Média da nota da prova de Matemática</th>\n",
       "      <td>504.269135</td>\n",
       "      <td>544.992793</td>\n",
       "      <td>524.339688</td>\n",
       "      <td>491.570353</td>\n",
       "      <td>545.590979</td>\n",
       "    </tr>\n",
       "    <tr>\n",
       "      <th>Média da nota da prova de redação</th>\n",
       "      <td>565.778561</td>\n",
       "      <td>598.633811</td>\n",
       "      <td>583.111094</td>\n",
       "      <td>542.626425</td>\n",
       "      <td>585.516619</td>\n",
       "    </tr>\n",
       "  </tbody>\n",
       "</table>\n",
       "</div>"
      ],
      "text/plain": [
       "                                                  Nordeste     Sudeste  \\\n",
       "Média da nota da prova de Ciências da Natureza  459.822169  487.889456   \n",
       "Média da nota da prova de Ciências Humanas      486.437270  517.440376   \n",
       "Média da nota da prova de Linguagens e Códigos  501.290674  529.593297   \n",
       "Média da nota da prova de Matemática            504.269135  544.992793   \n",
       "Média da nota da prova de redação               565.778561  598.633811   \n",
       "\n",
       "                                                Centro-Oeste       Norte  \\\n",
       "Média da nota da prova de Ciências da Natureza    477.229090  454.433446   \n",
       "Média da nota da prova de Ciências Humanas        505.731320  482.186277   \n",
       "Média da nota da prova de Linguagens e Códigos    520.213301  498.047329   \n",
       "Média da nota da prova de Matemática              524.339688  491.570353   \n",
       "Média da nota da prova de redação                 583.111094  542.626425   \n",
       "\n",
       "                                                       Sul  \n",
       "Média da nota da prova de Ciências da Natureza  486.822070  \n",
       "Média da nota da prova de Ciências Humanas      522.094818  \n",
       "Média da nota da prova de Linguagens e Códigos  531.704797  \n",
       "Média da nota da prova de Matemática            545.590979  \n",
       "Média da nota da prova de redação               585.516619  "
      ]
     },
     "execution_count": 9,
     "metadata": {},
     "output_type": "execute_result"
    }
   ],
   "source": [
    "df3.head()"
   ]
  },
  {
   "cell_type": "code",
   "execution_count": 11,
   "id": "007aae10",
   "metadata": {},
   "outputs": [
    {
     "data": {
      "text/html": [
       "<div>\n",
       "<style scoped>\n",
       "    .dataframe tbody tr th:only-of-type {\n",
       "        vertical-align: middle;\n",
       "    }\n",
       "\n",
       "    .dataframe tbody tr th {\n",
       "        vertical-align: top;\n",
       "    }\n",
       "\n",
       "    .dataframe thead th {\n",
       "        text-align: right;\n",
       "    }\n",
       "</style>\n",
       "<table border=\"1\" class=\"dataframe\">\n",
       "  <thead>\n",
       "    <tr style=\"text-align: right;\">\n",
       "      <th></th>\n",
       "      <th>Média</th>\n",
       "      <th>Desvio padrão</th>\n",
       "    </tr>\n",
       "  </thead>\n",
       "  <tbody>\n",
       "    <tr>\n",
       "      <th>Sudeste</th>\n",
       "      <td>535.709947</td>\n",
       "      <td>40.937678</td>\n",
       "    </tr>\n",
       "    <tr>\n",
       "      <th>Nordeste</th>\n",
       "      <td>503.519562</td>\n",
       "      <td>38.996729</td>\n",
       "    </tr>\n",
       "    <tr>\n",
       "      <th>Centro-Oeste</th>\n",
       "      <td>522.124899</td>\n",
       "      <td>38.769378</td>\n",
       "    </tr>\n",
       "    <tr>\n",
       "      <th>Sul</th>\n",
       "      <td>534.345857</td>\n",
       "      <td>35.918217</td>\n",
       "    </tr>\n",
       "    <tr>\n",
       "      <th>Norte</th>\n",
       "      <td>493.772766</td>\n",
       "      <td>31.982931</td>\n",
       "    </tr>\n",
       "  </tbody>\n",
       "</table>\n",
       "</div>"
      ],
      "text/plain": [
       "                   Média  Desvio padrão\n",
       "Sudeste       535.709947      40.937678\n",
       "Nordeste      503.519562      38.996729\n",
       "Centro-Oeste  522.124899      38.769378\n",
       "Sul           534.345857      35.918217\n",
       "Norte         493.772766      31.982931"
      ]
     },
     "execution_count": 11,
     "metadata": {},
     "output_type": "execute_result"
    }
   ],
   "source": [
    "df4 = pd.concat([df3.mean(),df3.std()], axis=1)\n",
    "df4.columns=['Média', 'Desvio padrão']\n",
    "df4.sort_values(by='Desvio padrão',ascending=False)"
   ]
  }
 ],
 "metadata": {
  "kernelspec": {
   "display_name": "Python 3",
   "language": "python",
   "name": "python3"
  },
  "language_info": {
   "codemirror_mode": {
    "name": "ipython",
    "version": 3
   },
   "file_extension": ".py",
   "mimetype": "text/x-python",
   "name": "python",
   "nbconvert_exporter": "python",
   "pygments_lexer": "ipython3",
   "version": "3.8.8"
  }
 },
 "nbformat": 4,
 "nbformat_minor": 5
}
