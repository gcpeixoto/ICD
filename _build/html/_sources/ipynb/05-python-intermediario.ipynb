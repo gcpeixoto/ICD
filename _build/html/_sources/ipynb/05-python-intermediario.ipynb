{
 "cells": [
  {
   "cell_type": "markdown",
   "id": "f7366e66-ebcb-4cd3-ae49-8be987812d48",
   "metadata": {},
   "source": [
    "# Python Intermediário: Parte 1"
   ]
  },
  {
   "cell_type": "markdown",
   "id": "b84cee48-881a-4677-8e40-19426b317771",
   "metadata": {},
   "source": [
    "## Visão geral sobre sequencias\n",
    "\n",
    "A linguagem Python oferece diversas estruturas de dados caracterizadas como sequencias. As sequencias são implementadas com eficiência nos moldes da linguagem C. \n",
    "\n",
    "Sequencias podem ser classificadas como: \n",
    "\n",
    "- _Sequências contêinerizadas_ (_container sequences_): guardam referências aos objetos que elas contêm, que podem ser de qualquer tipo. Exemplos são: `list`, `tuple` e `collections.deque`.\n",
    "\n",
    "- _Sequências rasas_ (_flat sequences_): armazenam fisicamente o valor de cada item dentro de seu próprio espaço na memória, e não como objetos distintos. Exemplos são: `str`,`bytes` e `array.array`.\n",
    "\n",
    "Sequências rasas são mais compactas do que as contêinerizadas, mas são limitadas para armazenar valores primitivos como caracteres, bytes e números. \n",
    "\n",
    "Outra forma de agrupar tipos de sequências é por mutabilidade: \n",
    "\n",
    "- _Sequências mutáveis_: podem ter seus elementos alterados. Exemplos: `list`,`bytearray`,`memoryview`.\n",
    "\n",
    "- _Sequências imutáveis_: seus elementos são inalteráveis. Exemplos: `tuple`,`str`,`bytes`."
   ]
  },
  {
   "cell_type": "markdown",
   "id": "8357db3b-ca00-4b13-bd52-d5da1ed860f8",
   "metadata": {},
   "source": [
    "## Tuplas \n",
    "\n",
    "Tuplas são sequências imutáveis de comprimento fixo."
   ]
  },
  {
   "cell_type": "markdown",
   "id": "872938c0-34da-42a7-b939-025a1ec3798d",
   "metadata": {},
   "source": [
    "**Exemplo:** Crie uma tupla com 4 elementos e desempacote-a em 4 variáveis."
   ]
  },
  {
   "cell_type": "code",
   "execution_count": 1,
   "id": "cd4c1f37-b763-4b8f-a775-c9165b948f4a",
   "metadata": {},
   "outputs": [
    {
     "name": "stdout",
     "output_type": "stream",
     "text": [
      "(-1, 'a', 12.23, '$')\n",
      "(-1, 'a', 12.23, '$')\n"
     ]
    }
   ],
   "source": [
    "tup1 = -1,'a',12.23,'$'\n",
    "a,b,c,d = tup1\n",
    "\n",
    "tup2 = (-1,'a',12.23,'$')\n",
    "e,f,g,h = tup2\n",
    "\n",
    "print(tup1)\n",
    "print(tup2)"
   ]
  },
  {
   "cell_type": "markdown",
   "id": "439f4113-74b4-4bcf-aae2-4903abc9e1cc",
   "metadata": {},
   "source": [
    "Discussão: \n",
    "\n",
    "- `tup1` é uma tupla criada pelo sequenciamento de elementos, sem parênteses.\n",
    "- `tup2` é uma tupla idêntica criada pelo sequenciamento de elementos, com parênteses.\n",
    "- Em `a`,`b`,`c`,`d` há um processo de desempacotamento (_unpacking_).\n",
    "- Em `e`,`f`,`g`,`h` temos um desempacotamento equivalente.\n",
    "- Ambas as tuplas são equivalentes."
   ]
  },
  {
   "cell_type": "markdown",
   "id": "95a869aa-f1d3-407f-8a08-d2a55aa15555",
   "metadata": {},
   "source": [
    "**Exemplo:** Crie uma tupla a partir de objetos existentes."
   ]
  },
  {
   "cell_type": "code",
   "execution_count": 2,
   "id": "c615ba73-9c95-4bde-a9f8-3438bb50ff5d",
   "metadata": {},
   "outputs": [
    {
     "data": {
      "text/plain": [
       "(-1, 'a', 12.23, '$')"
      ]
     },
     "execution_count": 2,
     "metadata": {},
     "output_type": "execute_result"
    }
   ],
   "source": [
    "tuple(tup1)"
   ]
  },
  {
   "cell_type": "markdown",
   "id": "6c62223a-eaef-48c4-8df1-f9f11d3d90b2",
   "metadata": {},
   "source": [
    "Discussão: \n",
    "\n",
    "- Este processo é também conhecido como _type casting_."
   ]
  },
  {
   "cell_type": "markdown",
   "id": "8dda6b4c-fe68-4041-9cae-6114eb2d4408",
   "metadata": {},
   "source": [
    "**Exemplo:** Construa tuplas aninhadas."
   ]
  },
  {
   "cell_type": "code",
   "execution_count": 3,
   "id": "e421cae9-be9f-4a86-bd9b-38fd5bf7986b",
   "metadata": {},
   "outputs": [
    {
     "data": {
      "text/plain": [
       "((0, 2, 4, 6, 8), (1, 3, 5, 7, 9))"
      ]
     },
     "execution_count": 3,
     "metadata": {},
     "output_type": "execute_result"
    }
   ],
   "source": [
    "nums = (0,2,4,6,8),(1,3,5,7,9)\n",
    "nums"
   ]
  },
  {
   "cell_type": "markdown",
   "id": "297f640c-dde7-4d71-9944-b236240f243d",
   "metadata": {},
   "source": [
    "**Exemplo:** Altere elementos de uma tupla _in-place_."
   ]
  },
  {
   "cell_type": "code",
   "execution_count": 4,
   "id": "804df71d-28e0-49f4-a401-01f09b18195f",
   "metadata": {},
   "outputs": [
    {
     "ename": "TypeError",
     "evalue": "'tuple' object does not support item assignment",
     "output_type": "error",
     "traceback": [
      "\u001b[0;31m---------------------------------------------------------------------------\u001b[0m",
      "\u001b[0;31mTypeError\u001b[0m                                 Traceback (most recent call last)",
      "\u001b[0;32m<ipython-input-4-cca77f8062f1>\u001b[0m in \u001b[0;36m<module>\u001b[0;34m\u001b[0m\n\u001b[1;32m      2\u001b[0m \u001b[0;34m\u001b[0m\u001b[0m\n\u001b[1;32m      3\u001b[0m \u001b[0;31m# imutabilidade!\u001b[0m\u001b[0;34m\u001b[0m\u001b[0;34m\u001b[0m\u001b[0;34m\u001b[0m\u001b[0m\n\u001b[0;32m----> 4\u001b[0;31m \u001b[0mt\u001b[0m\u001b[0;34m[\u001b[0m\u001b[0;36m2\u001b[0m\u001b[0;34m]\u001b[0m \u001b[0;34m=\u001b[0m \u001b[0;32mTrue\u001b[0m\u001b[0;34m\u001b[0m\u001b[0;34m\u001b[0m\u001b[0m\n\u001b[0m",
      "\u001b[0;31mTypeError\u001b[0m: 'tuple' object does not support item assignment"
     ]
    }
   ],
   "source": [
    "t = tuple(['a',[1,2,3],False])\n",
    "\n",
    "# imutabilidade!\n",
    "t[2] = True"
   ]
  },
  {
   "cell_type": "code",
   "execution_count": 5,
   "id": "80387398-a8a9-4a8a-acf1-e21f79a2b183",
   "metadata": {},
   "outputs": [
    {
     "data": {
      "text/plain": [
       "('a', [1, 2, 3, 4], False)"
      ]
     },
     "execution_count": 5,
     "metadata": {},
     "output_type": "execute_result"
    }
   ],
   "source": [
    "# alteração in-place\n",
    "t[1].append(4)\n",
    "t"
   ]
  },
  {
   "cell_type": "markdown",
   "id": "719e09f7-cedc-49d7-85da-20c225488059",
   "metadata": {},
   "source": [
    "Discussão: \n",
    "\n",
    "- A operação `t[2] = True` retorna um erro porque a tupla não pode ser alterada.\n",
    "- Por outro lado, a lista armazenada na segunda posição pode ser modificada _in-place_."
   ]
  },
  {
   "cell_type": "markdown",
   "id": "1bf2ec7b-6798-4d52-b93c-3d9fe3600c5f",
   "metadata": {},
   "source": [
    "**Exemplo:** Crie tuplas por concatenação."
   ]
  },
  {
   "cell_type": "code",
   "execution_count": 6,
   "id": "4fc8a669-2ed4-44bb-a3ed-9a98659484b1",
   "metadata": {},
   "outputs": [
    {
     "data": {
      "text/plain": [
       "('a', 1, 'b', 2, 'c', 3)"
      ]
     },
     "execution_count": 6,
     "metadata": {},
     "output_type": "execute_result"
    }
   ],
   "source": [
    "('a',1) + ('b',2) + ('c',3)"
   ]
  },
  {
   "cell_type": "code",
   "execution_count": 7,
   "id": "13381bc5-9b9c-4cea-b7c1-a7c4d85ea6b9",
   "metadata": {},
   "outputs": [
    {
     "data": {
      "text/plain": [
       "('+', '-', '+', '-', '+', '-')"
      ]
     },
     "execution_count": 7,
     "metadata": {},
     "output_type": "execute_result"
    }
   ],
   "source": [
    "('+','-')*3"
   ]
  },
  {
   "cell_type": "markdown",
   "id": "0045b3f4-519a-4a1e-bd04-bd724a14cdf3",
   "metadata": {},
   "source": [
    "**Exemplo:** Imprima tabela de valores usando desempacotamento e iteração."
   ]
  },
  {
   "cell_type": "code",
   "execution_count": 8,
   "id": "1e4bb20a-ac46-4933-8fc8-a09eababb16f",
   "metadata": {},
   "outputs": [
    {
     "name": "stdout",
     "output_type": "stream",
     "text": [
      "a=1, b=2, c=3\n",
      "a=4, b=5, c=6\n",
      "a=7, b=8, c=9\n"
     ]
    }
   ],
   "source": [
    "s = [(1,2,3),(4,5,6),(7,8,9)]\n",
    "s\n",
    "\n",
    "for (m,n,p) in s:\n",
    "    print('a={0}, b={1}, c={2}'.format(m,n,p))"
   ]
  },
  {
   "cell_type": "markdown",
   "id": "75bafc56-1d57-4ff6-bbc1-1edea57dfb6c",
   "metadata": {},
   "source": [
    "**Exemplo:** Desempacote elementos em iteráveis de comprimento arbitrário."
   ]
  },
  {
   "cell_type": "markdown",
   "id": "21afd9f9-30c4-4d20-aaa6-88655fb50c7f",
   "metadata": {},
   "source": [
    "O desempacotamento de uma tupla (ou sequência) em objetos iteráveis que tenham comprimento arbitrário pode ser feito por meio de uma _expressão estrela_ (_star expression_)."
   ]
  },
  {
   "cell_type": "code",
   "execution_count": 9,
   "id": "3542fc0a-2ed6-494e-89c2-57580a68ce2e",
   "metadata": {},
   "outputs": [
    {
     "data": {
      "text/plain": [
       "['a', 12.23, '$']"
      ]
     },
     "execution_count": 9,
     "metadata": {},
     "output_type": "execute_result"
    }
   ],
   "source": [
    "# desempacota por star expression e ignora primeiro item\n",
    "_,*restante = tup1\n",
    "restante"
   ]
  },
  {
   "cell_type": "markdown",
   "id": "2fc64473-07f1-4b94-808a-404c8bd6057c",
   "metadata": {},
   "source": [
    "Discussão:\n",
    "\n",
    "- Usamos 2 variáveis para desempacotar uma tupla de 4 elementos.\n",
    "- A variável `p` é uma lista contendo os últimos elementos de `tup1`.\n",
    "- A variável `_` possui valor, mas é ignorada."
   ]
  },
  {
   "cell_type": "markdown",
   "id": "7f988b04-f59d-4168-9955-cfe269a274d6",
   "metadata": {},
   "source": [
    "```{hint}\n",
    "Use um _underscore_ (`_`) para representar uma variável que, devido ao desempacotamento, você considere \"indesejada\".\n",
    "```"
   ]
  },
  {
   "cell_type": "markdown",
   "id": "d561cf5a-8cfa-4a58-87a0-277f8a66fb78",
   "metadata": {},
   "source": [
    "Comentário: \n",
    "\n",
    "- Outros casos em que _star expressions_ são úteis envolvem dados que possuem mais de um valor atribuível a um mesmo registro (p.ex.: 1 pessoa com 2 números de telefone), ou quando se quer quebrar iteráveis em comprimentos arbitrários. \n",
    "\n",
    "- _Star expressions_ produzem listas.\n",
    "\n",
    "Por exemplo:   "
   ]
  },
  {
   "cell_type": "code",
   "execution_count": 10,
   "id": "aaa86a2e-77d6-4c95-bb41-b3ab1add6751",
   "metadata": {},
   "outputs": [
    {
     "data": {
      "text/plain": [
       "[4, 8, 12, 16]"
      ]
     },
     "execution_count": 10,
     "metadata": {},
     "output_type": "execute_result"
    }
   ],
   "source": [
    "_,*m4,_ = (3,4,8,12,16,10)\n",
    "m4 # múltiplos de 4"
   ]
  },
  {
   "cell_type": "code",
   "execution_count": 11,
   "id": "469406e1-f325-40bf-a69b-8963e432d37c",
   "metadata": {},
   "outputs": [
    {
     "data": {
      "text/plain": [
       "[5, 10]"
      ]
     },
     "execution_count": 11,
     "metadata": {},
     "output_type": "execute_result"
    }
   ],
   "source": [
    "_,_,_,*m5 = (4,8,12,5,10)\n",
    "m5 # múltiplos de 5"
   ]
  },
  {
   "cell_type": "code",
   "execution_count": 12,
   "id": "5b274a39-76c6-48e1-9542-5f67be5ee0c0",
   "metadata": {},
   "outputs": [
    {
     "data": {
      "text/plain": [
       "[6, 12]"
      ]
     },
     "execution_count": 12,
     "metadata": {},
     "output_type": "execute_result"
    }
   ],
   "source": [
    "*m6,_,_ = (6,12,5,10)\n",
    "m6 # múltiplos de 6"
   ]
  },
  {
   "cell_type": "code",
   "execution_count": 13,
   "id": "92b0aab1-8ebd-4097-8c90-6194f093835b",
   "metadata": {},
   "outputs": [
    {
     "ename": "SyntaxError",
     "evalue": "two starred expressions in assignment (<ipython-input-13-5c1c52953256>, line 2)",
     "output_type": "error",
     "traceback": [
      "\u001b[0;36m  File \u001b[0;32m\"<ipython-input-13-5c1c52953256>\"\u001b[0;36m, line \u001b[0;32m2\u001b[0m\n\u001b[0;31m    *m6,*m5 = (6,12,5,10)\u001b[0m\n\u001b[0m    ^\u001b[0m\n\u001b[0;31mSyntaxError\u001b[0m\u001b[0;31m:\u001b[0m two starred expressions in assignment\n"
     ]
    }
   ],
   "source": [
    "# 2 star expressions não são permitidas\n",
    "*m6,*m5 = (6,12,5,10)"
   ]
  },
  {
   "cell_type": "markdown",
   "id": "a96f8153-879b-417a-afe5-1bf5c50dba4d",
   "metadata": {},
   "source": [
    "```{note}\n",
    "Ao usar uma _star expression_, certifique-se que o número de variáveis usadas no desempacotamento é consistente com os seus objetivos.\n",
    "```"
   ]
  },
  {
   "cell_type": "markdown",
   "id": "52bfea43-998d-4955-9ddb-d04aa27c7960",
   "metadata": {},
   "source": [
    "### Métodos de tupla\n",
    "\n",
    "Métodos são funções atribuídas a alguns objetos. Embora tuplas sejam imutáveis, elas possuem métodos bastante úteis. Aqui, consideraremos dois:\n",
    "\n",
    "- `count`: conta quantas vezes um dado valor aparece na tupla.\n",
    "- `index`: localiza o índice de um valor dado."
   ]
  },
  {
   "cell_type": "markdown",
   "id": "3c3b49d0-c060-4a68-aa67-4387b0d5c3f8",
   "metadata": {},
   "source": [
    "**Exemplo:** Contando valores em tupla."
   ]
  },
  {
   "cell_type": "code",
   "execution_count": 15,
   "id": "59bc97f9-d56a-4421-97c8-a38b753253a6",
   "metadata": {},
   "outputs": [
    {
     "name": "stdout",
     "output_type": "stream",
     "text": [
      "0\n",
      "8\n",
      "4\n"
     ]
    }
   ],
   "source": [
    "tupla = (4,3,2,1,1,2,3,4,2,2,2,3,3,3,1,3,1,2,3,4,2,1,3,4,2,2)\n",
    "\n",
    "print(tupla.count(0))\n",
    "print(tupla.count(3))\n",
    "print(tupla.count(4))"
   ]
  },
  {
   "cell_type": "markdown",
   "id": "960136dc-501d-418b-85f1-08c3da913122",
   "metadata": {},
   "source": [
    "**Exemplo:** Localizando posição."
   ]
  },
  {
   "cell_type": "code",
   "execution_count": 16,
   "id": "e229fc40-ef92-4c60-a8c1-219f369c8e5b",
   "metadata": {},
   "outputs": [
    {
     "data": {
      "text/plain": [
       "1"
      ]
     },
     "execution_count": 16,
     "metadata": {},
     "output_type": "execute_result"
    }
   ],
   "source": [
    "tupla.index(3)"
   ]
  },
  {
   "cell_type": "markdown",
   "id": "1534728b-7ec2-4eae-940a-840082319567",
   "metadata": {},
   "source": [
    "Comentário: \n",
    "\n",
    "- Caso haja valores repetidos na tupla, o método `index` retornará o índice da relativo à primeira aparição. Como o número 3 aparece 8 vezes na tupla e seu primeiro registro ocorre na segunda posição, o valor de retorno de `index` é 1."
   ]
  },
  {
   "cell_type": "markdown",
   "id": "de6d4a0a-71d6-48fd-9cdd-70c09e037a6c",
   "metadata": {},
   "source": [
    "### _Swap_ de variáveis\n",
    "\n",
    "O modo Pythônico de realizar uma troca de variáveis (_swap_) é o seguinte:"
   ]
  },
  {
   "cell_type": "code",
   "execution_count": 17,
   "id": "d9f52071-a28c-4fc4-b8f1-53db7e8ef2fb",
   "metadata": {},
   "outputs": [
    {
     "data": {
      "text/plain": [
       "(2, 1)"
      ]
     },
     "execution_count": 17,
     "metadata": {},
     "output_type": "execute_result"
    }
   ],
   "source": [
    "x,y = 1,2\n",
    "y,x = x,y\n",
    "x,y"
   ]
  },
  {
   "cell_type": "markdown",
   "id": "aa0b3db4-700e-469e-8ce8-99b91afcb303",
   "metadata": {},
   "source": [
    "### Tuplas como registros\n",
    "\n",
    "Tuplas servem para armazenar registros: cada item na tupla é o dado de um campo e a posição do item dá o significado. "
   ]
  },
  {
   "cell_type": "markdown",
   "id": "bb6c9169-29fa-4792-9d42-e1aa57c410a1",
   "metadata": {},
   "source": [
    "**Exemplo:** Tuplas como registros. "
   ]
  },
  {
   "cell_type": "code",
   "execution_count": 18,
   "id": "93091d1a-ee50-4e29-a907-6620ca6a715f",
   "metadata": {},
   "outputs": [
    {
     "name": "stdout",
     "output_type": "stream",
     "text": [
      "Em 1991, o Brasil possuía 294131 habitantes indígenas.\n",
      "Em 2000, o Brasil possuía 734127 habitantes indígenas.\n",
      "Em 2010, o Brasil possuía 817963 habitantes indígenas.\n"
     ]
    }
   ],
   "source": [
    "# latitute e longitude da Torre Eiffel\n",
    "eiffel_ll = (48.85844772530444, 2.2948031631859886)\n",
    "\n",
    "# capitais do mundo\n",
    "caps = [('Afeganistão','Cabul','Ásia'),\n",
    "        ('Barbados','Bridgetown','América'),\n",
    "        ('Chade','Jamena','África')]\n",
    "\n",
    "# população indígena no Brasil por decênio\n",
    "popind = [(1991,294131),(2000,734127),(2010,817963)]\n",
    "\n",
    "for a,p in popind:\n",
    "    print(f'Em {a}, o Brasil possuía {p} habitantes indígenas.')"
   ]
  },
  {
   "cell_type": "markdown",
   "id": "1c2b16d6-c743-4510-9542-25582aff36ef",
   "metadata": {},
   "source": [
    "Comentários: \n",
    "\n",
    "- Imprimimos os valores dos registros por desempacotamento."
   ]
  },
  {
   "cell_type": "code",
   "execution_count": 19,
   "id": "2f94eeef-2712-47d1-9fa7-b96b16cdda5a",
   "metadata": {},
   "outputs": [
    {
     "name": "stdout",
     "output_type": "stream",
     "text": [
      "PAÍS           | CAPITAL        | CONTINENTE    \n",
      "--------------------------------------------\n",
      "Afeganistão    | Cabul          | Ásia          \n",
      "Barbados       | Bridgetown     | América       \n",
      "Chade          | Jamena         | África        \n"
     ]
    }
   ],
   "source": [
    "print('{:14} | {:14} | {:14}'.format('PAÍS','CAPITAL','CONTINENTE'))\n",
    "print('-'*(14*3+2))\n",
    "fmt = '{:14} | {:14} | {:14}'\n",
    "for pais, cap, cont in caps:\n",
    "    print(fmt.format(pais,cap,cont))"
   ]
  },
  {
   "cell_type": "markdown",
   "id": "37117309-53b1-4a1c-aad7-4ff4290cac64",
   "metadata": {},
   "source": [
    "Comentários: \n",
    "\n",
    "- Neste exemplo, simulamos uma tabela usando um formato-base e criamos uma linha de cabeçalho por concatenação de string."
   ]
  },
  {
   "cell_type": "markdown",
   "id": "99e75a7f-dd62-42fa-ab1e-82e816cf6e9e",
   "metadata": {},
   "source": [
    "## Dicionários \n",
    "\n",
    "Um dicionário (_dict_) é uma estrutura conhecida como _tabela hash_ ou _array associativo_. É uma coleção de tamanho flexível composta de pares do tipo _chave:valor_. Criamos um `dict` por diversas formas. A mais simples é usar chaves e pares explícitos."
   ]
  },
  {
   "cell_type": "code",
   "execution_count": 20,
   "id": "2007c10d-efbe-4e5c-ac2a-4d8746ab66ac",
   "metadata": {},
   "outputs": [
    {
     "data": {
      "text/plain": [
       "{}"
      ]
     },
     "execution_count": 20,
     "metadata": {},
     "output_type": "execute_result"
    }
   ],
   "source": [
    "d = {} # dict vazio\n",
    "d"
   ]
  },
  {
   "cell_type": "markdown",
   "id": "795303f5-b495-4076-b1c4-dc6b92054448",
   "metadata": {},
   "source": [
    "Os pares chave-valor incorporam quaisquer tipos de dados."
   ]
  },
  {
   "cell_type": "code",
   "execution_count": 21,
   "id": "7e2290b8-f1dc-492a-8d85-13108fee8126",
   "metadata": {},
   "outputs": [
    {
     "data": {
      "text/plain": [
       "{'par': [0, 2, 4, 6, 8],\n",
       " 'ímpar': [1, 3, 5, 7, 9],\n",
       " 'nome': 'Meu dict',\n",
       " 'teste': True}"
      ]
     },
     "execution_count": 21,
     "metadata": {},
     "output_type": "execute_result"
    }
   ],
   "source": [
    "d = {'par': [0,2,4,6,8], 'ímpar': [1,3,5,7,9], 'nome':'Meu dict', 'teste': True}\n",
    "d"
   ]
  },
  {
   "cell_type": "markdown",
   "id": "10474229-d3b5-4fd1-999d-cc3148cf33b7",
   "metadata": {},
   "source": [
    "### Acesso a conteúdo"
   ]
  },
  {
   "cell_type": "markdown",
   "id": "7e2b62e1-c438-41a1-9607-efd307044944",
   "metadata": {},
   "source": [
    "Para acessar o conteúdo de uma chave, indexamos pelo seu nome."
   ]
  },
  {
   "cell_type": "code",
   "execution_count": 22,
   "id": "6395dee4-f486-4c4f-a696-c7e7453e6fc1",
   "metadata": {},
   "outputs": [
    {
     "data": {
      "text/plain": [
       "[0, 2, 4, 6, 8]"
      ]
     },
     "execution_count": 22,
     "metadata": {},
     "output_type": "execute_result"
    }
   ],
   "source": [
    "d['par'] "
   ]
  },
  {
   "cell_type": "code",
   "execution_count": 23,
   "id": "d1ff8060-c09b-4643-ace3-2ece13ade2eb",
   "metadata": {},
   "outputs": [
    {
     "data": {
      "text/plain": [
       "'Meu dict'"
      ]
     },
     "execution_count": 23,
     "metadata": {},
     "output_type": "execute_result"
    }
   ],
   "source": [
    "d['nome']"
   ]
  },
  {
   "cell_type": "markdown",
   "id": "c6fd21f7-5d75-4688-83c6-b90ec3045bf6",
   "metadata": {},
   "source": [
    "**Exemplo:** construindo soma e multiplicação especial."
   ]
  },
  {
   "cell_type": "code",
   "execution_count": 24,
   "id": "37df9363-96a8-48de-a3b9-79d4e683783b",
   "metadata": {},
   "outputs": [
    {
     "name": "stdout",
     "output_type": "stream",
     "text": [
      "pos(0) | Soma = 1.1 | Prod = 0.1\n",
      "pos(1) | Soma = 2.1 | Prod = 0.2\n",
      "pos(2) | Soma = 3.1 | Prod = 0.30000000000000004\n"
     ]
    }
   ],
   "source": [
    "# dict\n",
    "op = {'X' :[1,2,3], 'delta' : 0.1}\n",
    "\n",
    "# função\n",
    "def sp(op):\n",
    "    s = [x + op['delta'] for x in op['X']]\n",
    "    p = [x * op['delta'] for x in op['X']]\n",
    "    \n",
    "    return (s,p) # retorna tupla\n",
    "\n",
    "soma, prod = sp(op) # desempacota\n",
    "\n",
    "for i,s in enumerate(soma):\n",
    "    print(f'pos({i}) | Soma = {s} | Prod = {prod[i]}')"
   ]
  },
  {
   "cell_type": "markdown",
   "id": "b4661d2f-e7a8-43c2-a685-6a9a22f8b26e",
   "metadata": {},
   "source": [
    "### Inserção de conteúdo"
   ]
  },
  {
   "cell_type": "code",
   "execution_count": 25,
   "id": "ddb1b2c9-bb2a-4ca0-95dd-e350865a86c6",
   "metadata": {},
   "outputs": [
    {
     "data": {
      "text/plain": [
       "{'X': [1, 2, 3], 'delta': 0.1, 1: 3, 'novo': (3, 4, 1)}"
      ]
     },
     "execution_count": 25,
     "metadata": {},
     "output_type": "execute_result"
    }
   ],
   "source": [
    "# apensa variáveis\n",
    "op[1] = 3 \n",
    "op['novo'] = (3,4,1) \n",
    "op"
   ]
  },
  {
   "cell_type": "markdown",
   "id": "1284485f-ae83-4d20-88b3-d56babcb7d2a",
   "metadata": {},
   "source": [
    "### Alteração de conteúdo"
   ]
  },
  {
   "cell_type": "code",
   "execution_count": 26,
   "id": "10924459-08f2-42db-9219-7fb89d70806d",
   "metadata": {},
   "outputs": [
    {
     "data": {
      "text/plain": [
       "{'X': [1, 2, 3], 'delta': 0.1, 1: 3, 'novo': [2, 1, 4]}"
      ]
     },
     "execution_count": 26,
     "metadata": {},
     "output_type": "execute_result"
    }
   ],
   "source": [
    "op['novo'] = [2,1,4] # sobrescreve\n",
    "op"
   ]
  },
  {
   "cell_type": "markdown",
   "id": "f6a8ec1a-d198-4276-bf70-49627942c55e",
   "metadata": {},
   "source": [
    "### Deleção de conteúdo com `del` e `pop`"
   ]
  },
  {
   "cell_type": "code",
   "execution_count": 27,
   "id": "cea9affd-3aa3-4a74-bb72-548745181445",
   "metadata": {},
   "outputs": [
    {
     "data": {
      "text/plain": [
       "{'X': [1, 2, 3], 'delta': 0.1, 'novo': [2, 1, 4]}"
      ]
     },
     "execution_count": 27,
     "metadata": {},
     "output_type": "execute_result"
    }
   ],
   "source": [
    "del op[1] # deleta chave \n",
    "op"
   ]
  },
  {
   "cell_type": "code",
   "execution_count": 28,
   "id": "940c88a8-ba93-4e3e-959e-378a8484afb1",
   "metadata": {},
   "outputs": [
    {
     "data": {
      "text/plain": [
       "[2, 1, 4]"
      ]
     },
     "execution_count": 28,
     "metadata": {},
     "output_type": "execute_result"
    }
   ],
   "source": [
    "novo = op.pop('novo') # retorna e simultaneamente deleta\n",
    "novo"
   ]
  },
  {
   "cell_type": "code",
   "execution_count": 29,
   "id": "286da634-c413-4106-b766-4d317725c68b",
   "metadata": {},
   "outputs": [
    {
     "data": {
      "text/plain": [
       "{'X': [1, 2, 3], 'delta': 0.1}"
      ]
     },
     "execution_count": 29,
     "metadata": {},
     "output_type": "execute_result"
    }
   ],
   "source": [
    "op"
   ]
  },
  {
   "cell_type": "markdown",
   "id": "054ea16b-e1a6-40aa-9065-c6e38f20673d",
   "metadata": {},
   "source": [
    "### Listagem de chaves e valores\n",
    "\n",
    "Usamos os métodos `keys()` e `values()` para listar chaves e valores."
   ]
  },
  {
   "cell_type": "code",
   "execution_count": 30,
   "id": "820fcf53-925d-4f5c-a036-7f46ebe9d504",
   "metadata": {},
   "outputs": [
    {
     "name": "stdout",
     "output_type": "stream",
     "text": [
      "['soma', 'subtr', 'mult', 'div']\n",
      "['+', '-', '*', '/']\n",
      "A operação 'soma' de \"arit\" usa o símbolo '+'.\n",
      "A operação 'subtr' de \"arit\" usa o símbolo '-'.\n",
      "A operação 'mult' de \"arit\" usa o símbolo '*'.\n",
      "A operação 'div' de \"arit\" usa o símbolo '/'.\n"
     ]
    }
   ],
   "source": [
    "arit = {'soma': '+', 'subtr': '-', 'mult': '*', 'div': '/'} # dict\n",
    "\n",
    "k = list(arit.keys())\n",
    "print(k)\n",
    "val = list(arit.values())\n",
    "print(val)\n",
    "for v in range(len(arit)):\n",
    "    print(f'A operação \\'{k[v]}\\' de \"arit\" usa o símbolo \\'{val[v]}\\'.')"
   ]
  },
  {
   "cell_type": "markdown",
   "id": "f88959be-9996-4fd9-91b5-e0df1542d3a8",
   "metadata": {},
   "source": [
    "### Combinando dicionários\n",
    "\n",
    "Usamos `update` para combinar dicionários. Este método possui um resultado similar a `extend`, usado em listas."
   ]
  },
  {
   "cell_type": "code",
   "execution_count": 31,
   "id": "49da215b-cf52-41f5-8886-ffc6cab4a359",
   "metadata": {},
   "outputs": [
    {
     "data": {
      "text/plain": [
       "{'soma': '+', 'subtr': '-', 'mult': '*', 'div': '/', 'pot': '**'}"
      ]
     },
     "execution_count": 31,
     "metadata": {},
     "output_type": "execute_result"
    }
   ],
   "source": [
    "pot = {'pot': '**'}\n",
    "arit.update(pot)\n",
    "arit"
   ]
  },
  {
   "cell_type": "markdown",
   "id": "6425ecd4-233d-4382-a4f7-d5fabd44511a",
   "metadata": {},
   "source": [
    "### Dicionários a partir de sequencias\n",
    "\n",
    "Podemos criar dicionários a partir de sequencias existentes usando `zip`."
   ]
  },
  {
   "cell_type": "code",
   "execution_count": 32,
   "id": "b403b495-c5fc-474a-8d86-766d902b8a52",
   "metadata": {},
   "outputs": [
    {
     "data": {
      "text/plain": [
       "{'div': '**', 'mult': '+', 'subtr': '-', 'pot': '/', 'soma': '*'}"
      ]
     },
     "execution_count": 32,
     "metadata": {},
     "output_type": "execute_result"
    }
   ],
   "source": [
    "arit = {'soma', 'subtr', 'mult', 'div', 'pot'} \n",
    "ops = {'+', '-', '*', '/', '**'}\n",
    "\n",
    "dict_novo = {}\n",
    "\n",
    "for chave,valor in zip(arit,ops):\n",
    "    dict_novo[chave] = valor\n",
    "    \n",
    "dict_novo"
   ]
  },
  {
   "cell_type": "markdown",
   "id": "4ae217fc-330b-4801-b173-d76fbff056fa",
   "metadata": {
    "tags": []
   },
   "source": [
    "Visto que um `dict` é composto de várias tuplas de 2, podemos criar um  de maneira ainda mais simples."
   ]
  },
  {
   "cell_type": "code",
   "execution_count": 33,
   "id": "be443dcc-b1dc-4fea-a946-17a7b8a55776",
   "metadata": {
    "tags": []
   },
   "outputs": [
    {
     "data": {
      "text/plain": [
       "{'div': '**', 'mult': '+', 'subtr': '-', 'pot': '/', 'soma': '*'}"
      ]
     },
     "execution_count": 33,
     "metadata": {},
     "output_type": "execute_result"
    }
   ],
   "source": [
    "dict_novo = dict(zip(arit,ops)) # visto que dicts\n",
    "dict_novo"
   ]
  },
  {
   "cell_type": "markdown",
   "id": "0d3fe6a8-ddb0-4cf7-89c0-5c2266d48934",
   "metadata": {},
   "source": [
    "## Conjuntos\n",
    "\n",
    "Um conjunto (_set_) é uma coleção não ordenada de elementos únicos. Eles podem ser criados através da função `set` ou de uma expressão literal com um par de chaves `{}`. Eles são parecidos com _dicts_, porém não possuem chaves (_keys_).\n"
   ]
  },
  {
   "cell_type": "markdown",
   "id": "46990a13-630f-46c3-8167-8fe44d748aa9",
   "metadata": {},
   "source": [
    "**Exemplo:** Crie o conjunto dos números pares positivos e menores do que 15."
   ]
  },
  {
   "cell_type": "code",
   "execution_count": 34,
   "id": "5eeccf0c-6795-44d5-a367-1774113ea790",
   "metadata": {},
   "outputs": [],
   "source": [
    "pq1 = set(range(0,15,2))\n",
    "pq2 = {0,2,4,6,8,10,12,14}"
   ]
  },
  {
   "cell_type": "markdown",
   "id": "7fc13f4e-4a4e-42b4-88d0-d50c19bbb50d",
   "metadata": {},
   "source": [
    "Discussão: \n",
    "\n",
    "- Em `pq1`, criamos o conjunto por função, usando `range` para gerar os números.\n",
    "- Em `pq2`, criamos o conjunto literalmente, por extensão."
   ]
  },
  {
   "cell_type": "code",
   "execution_count": 35,
   "id": "37c27c1b-fdb9-488a-bc96-0a02c19bc484",
   "metadata": {},
   "outputs": [
    {
     "data": {
      "text/plain": [
       "{1, 2, 3, 4}"
      ]
     },
     "execution_count": 35,
     "metadata": {},
     "output_type": "execute_result"
    }
   ],
   "source": [
    "{1,2,2,3,3,4,4,4} # 'set' possui unicidade de elementos"
   ]
  },
  {
   "cell_type": "markdown",
   "id": "0c9940db-e52a-4336-9888-17c940f7daa3",
   "metadata": {},
   "source": [
    "### Operações com conjuntos \n",
    "\n",
    "A seguir mostraremos uma série de operações com conjuntos. Considere os seguintes conjuntos."
   ]
  },
  {
   "cell_type": "code",
   "execution_count": 36,
   "id": "0a10a95b-9c50-468b-ba68-cebda02697fe",
   "metadata": {},
   "outputs": [],
   "source": [
    "A = {1,2,3}\n",
    "B = {3,4,5}\n",
    "C = {6}"
   ]
  },
  {
   "cell_type": "markdown",
   "id": "64200160-4c1e-4478-ac20-22a3b18b403e",
   "metadata": {},
   "source": [
    "#### União de conjuntos"
   ]
  },
  {
   "cell_type": "code",
   "execution_count": 37,
   "id": "ad28fdaa-ab6b-4f74-8139-3ef4c30d0baa",
   "metadata": {},
   "outputs": [
    {
     "data": {
      "text/plain": [
       "{1, 2, 3, 4, 5}"
      ]
     },
     "execution_count": 37,
     "metadata": {},
     "output_type": "execute_result"
    }
   ],
   "source": [
    "A.union(B) # união"
   ]
  },
  {
   "cell_type": "code",
   "execution_count": 38,
   "id": "85cbe499-b9c2-46f4-82ea-f0baa1f7f736",
   "metadata": {},
   "outputs": [
    {
     "data": {
      "text/plain": [
       "{1, 2, 3, 4, 5}"
      ]
     },
     "execution_count": 38,
     "metadata": {},
     "output_type": "execute_result"
    }
   ],
   "source": [
    "A | B # união com operador alternativo ('ou')"
   ]
  },
  {
   "cell_type": "markdown",
   "id": "478eddb1-bd14-43d4-85a0-1759ea94f361",
   "metadata": {},
   "source": [
    "#### Atualização de conjuntos (união)\n",
    "\n",
    "A união *in-place* de dois conjuntos pode ser feita com `update`."
   ]
  },
  {
   "cell_type": "code",
   "execution_count": 39,
   "id": "1ea4c919-2fa4-4fc0-9545-6314f5143cc5",
   "metadata": {},
   "outputs": [
    {
     "data": {
      "text/plain": [
       "{6}"
      ]
     },
     "execution_count": 39,
     "metadata": {},
     "output_type": "execute_result"
    }
   ],
   "source": [
    "C"
   ]
  },
  {
   "cell_type": "code",
   "execution_count": 40,
   "id": "33872f78-a69e-41bf-a7ed-a96d25df2098",
   "metadata": {},
   "outputs": [
    {
     "data": {
      "text/plain": [
       "{3, 4, 5, 6}"
      ]
     },
     "execution_count": 40,
     "metadata": {},
     "output_type": "execute_result"
    }
   ],
   "source": [
    "C.update(B) # C é atualizado com elementos de B\n",
    "C"
   ]
  },
  {
   "cell_type": "code",
   "execution_count": 41,
   "id": "5e9a658c-281e-45ab-9d94-725e1a562314",
   "metadata": {},
   "outputs": [
    {
     "data": {
      "text/plain": [
       "{1, 2, 3, 4, 5, 6}"
      ]
     },
     "execution_count": 41,
     "metadata": {},
     "output_type": "execute_result"
    }
   ],
   "source": [
    "C.union(A) # conjunto união com A"
   ]
  },
  {
   "cell_type": "code",
   "execution_count": 42,
   "id": "b8e7feeb-38f2-4693-afe2-0277f45b81da",
   "metadata": {},
   "outputs": [
    {
     "data": {
      "text/plain": [
       "{3, 4, 5, 6}"
      ]
     },
     "execution_count": 42,
     "metadata": {},
     "output_type": "execute_result"
    }
   ],
   "source": [
    "C # os elementos de A não foram atualizados em C"
   ]
  },
  {
   "cell_type": "markdown",
   "id": "ea0e3010-e905-4842-9b07-fe3be828c31c",
   "metadata": {},
   "source": [
    "A atualização da união possui a seguinte forma alternativa com `|=`."
   ]
  },
  {
   "cell_type": "code",
   "execution_count": 43,
   "id": "9070fc9b-113f-41e3-bde5-a8ffc282ef9e",
   "metadata": {},
   "outputs": [
    {
     "data": {
      "text/plain": [
       "{1, 2, 3, 4, 5, 6}"
      ]
     },
     "execution_count": 43,
     "metadata": {},
     "output_type": "execute_result"
    }
   ],
   "source": [
    "C |= A # elementos de A atualizados em C\n",
    "C"
   ]
  },
  {
   "cell_type": "markdown",
   "id": "91f56ca8-19fd-4255-898c-c5964c64b80b",
   "metadata": {},
   "source": [
    "#### Interseção de conjuntos"
   ]
  },
  {
   "cell_type": "code",
   "execution_count": 44,
   "id": "d9c4a5ba-855b-4a8b-85d8-61c7d4429729",
   "metadata": {},
   "outputs": [
    {
     "data": {
      "text/plain": [
       "{3}"
      ]
     },
     "execution_count": 44,
     "metadata": {},
     "output_type": "execute_result"
    }
   ],
   "source": [
    "A.intersection(B) # interseção"
   ]
  },
  {
   "cell_type": "code",
   "execution_count": 45,
   "id": "7d0b75c1-0b5b-41c8-bd2a-705a9d81fedd",
   "metadata": {},
   "outputs": [
    {
     "data": {
      "text/plain": [
       "{3}"
      ]
     },
     "execution_count": 45,
     "metadata": {},
     "output_type": "execute_result"
    }
   ],
   "source": [
    "A & B # interseção com operador alternativo ('e')"
   ]
  },
  {
   "cell_type": "markdown",
   "id": "e9f30a2e-59ea-4b6e-af02-f025ff3ca04c",
   "metadata": {},
   "source": [
    "#### Atualização de conjuntos (interseção)\n",
    "\n",
    "A interseção *in-place* de dois conjuntos pode ser feita com `intersection_update`."
   ]
  },
  {
   "cell_type": "code",
   "execution_count": 46,
   "id": "14bd99ad-be83-44b9-b366-5e90d0c2948a",
   "metadata": {},
   "outputs": [],
   "source": [
    "D = {1, 2, 3, 4}\n",
    "E = {2, 3, 4, 5}"
   ]
  },
  {
   "cell_type": "code",
   "execution_count": 47,
   "id": "4aa3bf32-c26a-4149-be39-b8a1bbc1ecf1",
   "metadata": {},
   "outputs": [
    {
     "data": {
      "text/plain": [
       "{2, 3, 4}"
      ]
     },
     "execution_count": 47,
     "metadata": {},
     "output_type": "execute_result"
    }
   ],
   "source": [
    "D.intersection(E) # interseção com E"
   ]
  },
  {
   "cell_type": "code",
   "execution_count": 48,
   "id": "e5768443-9b4b-465a-a36e-860e9152eba7",
   "metadata": {},
   "outputs": [
    {
     "data": {
      "text/plain": [
       "{1, 2, 3, 4}"
      ]
     },
     "execution_count": 48,
     "metadata": {},
     "output_type": "execute_result"
    }
   ],
   "source": [
    "D # D inalterado"
   ]
  },
  {
   "cell_type": "code",
   "execution_count": 49,
   "id": "17eda298-0c25-47a2-9767-0313750302f2",
   "metadata": {},
   "outputs": [
    {
     "data": {
      "text/plain": [
       "{2, 3, 4}"
      ]
     },
     "execution_count": 49,
     "metadata": {},
     "output_type": "execute_result"
    }
   ],
   "source": [
    "D.intersection_update(E) \n",
    "D # D alterado"
   ]
  },
  {
   "cell_type": "markdown",
   "id": "57a7535c-6f52-48d9-8b03-c5ee6546de7e",
   "metadata": {},
   "source": [
    "A atualização da interseção possui a seguinte forma alternativa com `&=`."
   ]
  },
  {
   "cell_type": "code",
   "execution_count": 50,
   "id": "4c5d4c55-65c4-4747-995c-b367dfb53fa7",
   "metadata": {},
   "outputs": [
    {
     "data": {
      "text/plain": [
       "{2, 3, 4}"
      ]
     },
     "execution_count": 50,
     "metadata": {},
     "output_type": "execute_result"
    }
   ],
   "source": [
    "D &= E\n",
    "D"
   ]
  },
  {
   "cell_type": "markdown",
   "id": "c3caff04-7131-49ca-9f7d-7c69b1f76dc5",
   "metadata": {},
   "source": [
    "#### Diferença entre conjuntos"
   ]
  },
  {
   "cell_type": "code",
   "execution_count": 51,
   "id": "45c6f12d-f2a2-44d0-bed0-b29108160dba",
   "metadata": {},
   "outputs": [
    {
     "data": {
      "text/plain": [
       "{1, 2, 3}"
      ]
     },
     "execution_count": 51,
     "metadata": {},
     "output_type": "execute_result"
    }
   ],
   "source": [
    "A"
   ]
  },
  {
   "cell_type": "code",
   "execution_count": 52,
   "id": "c86dee44-76fb-45b6-9075-3e8a37f92c6e",
   "metadata": {},
   "outputs": [
    {
     "data": {
      "text/plain": [
       "{2, 3, 4}"
      ]
     },
     "execution_count": 52,
     "metadata": {},
     "output_type": "execute_result"
    }
   ],
   "source": [
    "D"
   ]
  },
  {
   "cell_type": "code",
   "execution_count": 53,
   "id": "2e7a9170-1ae1-4576-a875-ceaab3e041a5",
   "metadata": {},
   "outputs": [
    {
     "data": {
      "text/plain": [
       "{1}"
      ]
     },
     "execution_count": 53,
     "metadata": {},
     "output_type": "execute_result"
    }
   ],
   "source": [
    "A.difference(D) # apenas elementos de A"
   ]
  },
  {
   "cell_type": "code",
   "execution_count": 54,
   "id": "662b8b8a-d298-489d-b04b-55778d0efb4d",
   "metadata": {},
   "outputs": [
    {
     "data": {
      "text/plain": [
       "{4}"
      ]
     },
     "execution_count": 54,
     "metadata": {},
     "output_type": "execute_result"
    }
   ],
   "source": [
    "D.difference(A) # apenas elementos de D"
   ]
  },
  {
   "cell_type": "code",
   "execution_count": 55,
   "id": "c137b08a-e3c6-462c-9940-f569b09b56e9",
   "metadata": {},
   "outputs": [
    {
     "data": {
      "text/plain": [
       "{1}"
      ]
     },
     "execution_count": 55,
     "metadata": {},
     "output_type": "execute_result"
    }
   ],
   "source": [
    "A - D # operador alternativo "
   ]
  },
  {
   "cell_type": "code",
   "execution_count": 56,
   "id": "63e6ece8-a293-4e0b-991c-db4644792e36",
   "metadata": {},
   "outputs": [
    {
     "data": {
      "text/plain": [
       "{4}"
      ]
     },
     "execution_count": 56,
     "metadata": {},
     "output_type": "execute_result"
    }
   ],
   "source": [
    "D - A "
   ]
  },
  {
   "cell_type": "markdown",
   "id": "248e1cf9-50bd-4d93-baf2-254385b0aad7",
   "metadata": {},
   "source": [
    "#### Atualização de conjuntos (diferença)\n",
    "\n",
    "A interseção *in-place* de dois conjuntos pode ser feita com `difference_update`."
   ]
  },
  {
   "cell_type": "code",
   "execution_count": 57,
   "id": "e9bde1ba-b70e-466f-a022-e2d69a5bf4a1",
   "metadata": {},
   "outputs": [],
   "source": [
    "D = {1, 2, 3, 4}\n",
    "E = {1, 2, 3, 5}"
   ]
  },
  {
   "cell_type": "code",
   "execution_count": 58,
   "id": "a9963644-0ea3-401c-8dd2-e7b9d5217fb6",
   "metadata": {},
   "outputs": [
    {
     "data": {
      "text/plain": [
       "{1, 2, 3, 4}"
      ]
     },
     "execution_count": 58,
     "metadata": {},
     "output_type": "execute_result"
    }
   ],
   "source": [
    "D"
   ]
  },
  {
   "cell_type": "code",
   "execution_count": 59,
   "id": "78460eb8-a7d5-40bc-b778-c6f22d18c473",
   "metadata": {},
   "outputs": [
    {
     "data": {
      "text/plain": [
       "{1, 2, 3, 4}"
      ]
     },
     "execution_count": 59,
     "metadata": {},
     "output_type": "execute_result"
    }
   ],
   "source": [
    "D.difference(E)\n",
    "D"
   ]
  },
  {
   "cell_type": "code",
   "execution_count": 60,
   "id": "59669394-47c0-4f4c-aebb-3aa88335e728",
   "metadata": {},
   "outputs": [
    {
     "data": {
      "text/plain": [
       "{4}"
      ]
     },
     "execution_count": 60,
     "metadata": {},
     "output_type": "execute_result"
    }
   ],
   "source": [
    "D.difference_update(E)\n",
    "D"
   ]
  },
  {
   "cell_type": "markdown",
   "id": "170df825-2f38-4316-80bd-352593ad82e9",
   "metadata": {},
   "source": [
    "A atualização da diferença possui a seguinte forma alternativa com `-=`."
   ]
  },
  {
   "cell_type": "code",
   "execution_count": 61,
   "id": "fdaac140-26b7-4aa6-866b-822b065d5494",
   "metadata": {},
   "outputs": [
    {
     "data": {
      "text/plain": [
       "{4}"
      ]
     },
     "execution_count": 61,
     "metadata": {},
     "output_type": "execute_result"
    }
   ],
   "source": [
    "D -= E\n",
    "D"
   ]
  },
  {
   "cell_type": "markdown",
   "id": "0b314299-8240-40d0-8ea7-1955c7414ac7",
   "metadata": {},
   "source": [
    "#### Adição ou remoção de elementos"
   ]
  },
  {
   "cell_type": "code",
   "execution_count": 62,
   "id": "b5eaf29b-42a6-47c6-a929-d858d1db2530",
   "metadata": {},
   "outputs": [
    {
     "data": {
      "text/plain": [
       "{1, 2, 3}"
      ]
     },
     "execution_count": 62,
     "metadata": {},
     "output_type": "execute_result"
    }
   ],
   "source": [
    "A"
   ]
  },
  {
   "cell_type": "code",
   "execution_count": 63,
   "id": "be4ec708-291e-448d-9ce7-a8abb48a7094",
   "metadata": {},
   "outputs": [
    {
     "data": {
      "text/plain": [
       "{1, 2, 3, 4}"
      ]
     },
     "execution_count": 63,
     "metadata": {},
     "output_type": "execute_result"
    }
   ],
   "source": [
    "A.add(4) # adiciona 4 a A\n",
    "A"
   ]
  },
  {
   "cell_type": "code",
   "execution_count": 64,
   "id": "0b327b37-02db-4579-acbd-97c5c280626a",
   "metadata": {},
   "outputs": [
    {
     "data": {
      "text/plain": [
       "{3, 4, 5}"
      ]
     },
     "execution_count": 64,
     "metadata": {},
     "output_type": "execute_result"
    }
   ],
   "source": [
    "B"
   ]
  },
  {
   "cell_type": "code",
   "execution_count": 65,
   "id": "80e33802-3064-4c94-bef4-3ab584088224",
   "metadata": {},
   "outputs": [
    {
     "data": {
      "text/plain": [
       "{4, 5}"
      ]
     },
     "execution_count": 65,
     "metadata": {},
     "output_type": "execute_result"
    }
   ],
   "source": [
    "B.remove(3) # remove 3 de B\n",
    "B"
   ]
  },
  {
   "cell_type": "markdown",
   "id": "ff7deb10-6ca7-448b-a93c-4505c4cecb42",
   "metadata": {},
   "source": [
    "#### Reinicialização de um conjunto (vazio)\n",
    "\n",
    "Podemos remover todos os elementos de um conjunto com `clear`, deixando-o em um estado vazio."
   ]
  },
  {
   "cell_type": "code",
   "execution_count": 66,
   "id": "fb20e537-03b1-49fd-85e2-e9896fab4db6",
   "metadata": {},
   "outputs": [
    {
     "data": {
      "text/plain": [
       "{1, 2, 3, 4}"
      ]
     },
     "execution_count": 66,
     "metadata": {},
     "output_type": "execute_result"
    }
   ],
   "source": [
    "A"
   ]
  },
  {
   "cell_type": "code",
   "execution_count": 67,
   "id": "d428cddc-5622-4141-8bba-8e1c94d93f7c",
   "metadata": {},
   "outputs": [
    {
     "data": {
      "text/plain": [
       "set()"
      ]
     },
     "execution_count": 67,
     "metadata": {},
     "output_type": "execute_result"
    }
   ],
   "source": [
    "A.clear()\n",
    "A # A é vazio"
   ]
  },
  {
   "cell_type": "code",
   "execution_count": 68,
   "id": "139f1dbb-2e54-4608-87fd-33448fbfd2d1",
   "metadata": {},
   "outputs": [
    {
     "data": {
      "text/plain": [
       "0"
      ]
     },
     "execution_count": 68,
     "metadata": {},
     "output_type": "execute_result"
    }
   ],
   "source": [
    "len(A) # 0 elementos"
   ]
  },
  {
   "cell_type": "markdown",
   "id": "822c9551-fb59-4368-bc32-ccd6ae79fb1f",
   "metadata": {},
   "source": [
    "#### Continência\n",
    "\n",
    "Podemos verificar se um conjunto $A$ é subconjunto de (está contido em) outro conjunto $B$ ($A \\subseteq B$) ou se $B$ é um superconjunto para (contém) $A$ ($B \\supseteq A$) com `issubset` e  `issuperset`. "
   ]
  },
  {
   "cell_type": "code",
   "execution_count": 69,
   "id": "b5fceee9-6e04-44ec-a377-467577f57338",
   "metadata": {},
   "outputs": [
    {
     "data": {
      "text/plain": [
       "{4, 5}"
      ]
     },
     "execution_count": 69,
     "metadata": {},
     "output_type": "execute_result"
    }
   ],
   "source": [
    "B"
   ]
  },
  {
   "cell_type": "code",
   "execution_count": 70,
   "id": "6f15f359-d8c7-4c21-a292-4d2b6f0f809d",
   "metadata": {},
   "outputs": [
    {
     "data": {
      "text/plain": [
       "{1, 2, 3, 4, 5, 6}"
      ]
     },
     "execution_count": 70,
     "metadata": {},
     "output_type": "execute_result"
    }
   ],
   "source": [
    "C"
   ]
  },
  {
   "cell_type": "code",
   "execution_count": 71,
   "id": "fca046f9-ae02-48dd-aedb-7ee43156a89b",
   "metadata": {},
   "outputs": [
    {
     "data": {
      "text/plain": [
       "True"
      ]
     },
     "execution_count": 71,
     "metadata": {},
     "output_type": "execute_result"
    }
   ],
   "source": [
    "B.issubset(C) # B está contido em C"
   ]
  },
  {
   "cell_type": "code",
   "execution_count": 72,
   "id": "de2bc608-7d60-4955-a12c-41ac9b429a76",
   "metadata": {},
   "outputs": [
    {
     "data": {
      "text/plain": [
       "True"
      ]
     },
     "execution_count": 72,
     "metadata": {},
     "output_type": "execute_result"
    }
   ],
   "source": [
    "C.issuperset(B) # C contém B"
   ]
  },
  {
   "cell_type": "markdown",
   "id": "b5fae436-2681-461b-a540-f8cec0ee9277",
   "metadata": {},
   "source": [
    "#### Subconjuntos e subconjuntos próprios"
   ]
  },
  {
   "cell_type": "markdown",
   "id": "a1ad5f2b-e4ed-4c9f-98f1-b8164b784d52",
   "metadata": {},
   "source": [
    "Podemos usar operadores de comparação entre conjuntos para verificar continência.\n",
    "\n",
    "- $A \\subseteq B$: $A$ é subconjunto de $B$\n",
    "- $A \\subset B$: $A$ é subconjunto próprio de $B$ ($A$ possui elementos que não estão em $B$)"
   ]
  },
  {
   "cell_type": "code",
   "execution_count": 73,
   "id": "09691c76-bb9e-4d3e-bf8b-45e768e836b3",
   "metadata": {},
   "outputs": [
    {
     "data": {
      "text/plain": [
       "True"
      ]
     },
     "execution_count": 73,
     "metadata": {},
     "output_type": "execute_result"
    }
   ],
   "source": [
    "{1,2,3} <= {1,2,3} # subconjunto"
   ]
  },
  {
   "cell_type": "code",
   "execution_count": 74,
   "id": "152af0ab-a544-433e-82d9-8b8b18916a8e",
   "metadata": {},
   "outputs": [
    {
     "data": {
      "text/plain": [
       "True"
      ]
     },
     "execution_count": 74,
     "metadata": {},
     "output_type": "execute_result"
    }
   ],
   "source": [
    "{1,2} < {1,2,3} # subconjunto próprio"
   ]
  },
  {
   "cell_type": "code",
   "execution_count": 75,
   "id": "94e53a8e-da8c-44e3-a328-5f3eb5c4f353",
   "metadata": {},
   "outputs": [
    {
     "data": {
      "text/plain": [
       "True"
      ]
     },
     "execution_count": 75,
     "metadata": {},
     "output_type": "execute_result"
    }
   ],
   "source": [
    "{1,2,3} > {1,2}"
   ]
  },
  {
   "cell_type": "code",
   "execution_count": 76,
   "id": "60d19a5e-a84d-48d1-88c1-f863d54f5826",
   "metadata": {},
   "outputs": [
    {
     "data": {
      "text/plain": [
       "False"
      ]
     },
     "execution_count": 76,
     "metadata": {},
     "output_type": "execute_result"
    }
   ],
   "source": [
    "{1,2} >= {1,2,3}"
   ]
  },
  {
   "cell_type": "markdown",
   "id": "4b143631-6cf5-4399-9778-30674bdaa7aa",
   "metadata": {},
   "source": [
    "#### Disjunção\n",
    "\n",
    "Dois conjuntos são disjuntos se sua interseção é vazia. Podemos verificar a disjunção com `isdisjoint`"
   ]
  },
  {
   "cell_type": "code",
   "execution_count": 77,
   "id": "83994e19-a429-42ab-b180-ec7329938ec5",
   "metadata": {},
   "outputs": [
    {
     "data": {
      "text/plain": [
       "{1, 2, 3, 5}"
      ]
     },
     "execution_count": 77,
     "metadata": {},
     "output_type": "execute_result"
    }
   ],
   "source": [
    "E"
   ]
  },
  {
   "cell_type": "code",
   "execution_count": 78,
   "id": "0221a371-7b03-443c-8b1a-9d35b2b6ae5a",
   "metadata": {},
   "outputs": [
    {
     "data": {
      "text/plain": [
       "{1, 2, 3, 4}"
      ]
     },
     "execution_count": 78,
     "metadata": {},
     "output_type": "execute_result"
    }
   ],
   "source": [
    "G = {1,2,3,4}\n",
    "G"
   ]
  },
  {
   "cell_type": "code",
   "execution_count": 79,
   "id": "8f168e7b-782c-4824-8c9c-d49952769334",
   "metadata": {},
   "outputs": [
    {
     "data": {
      "text/plain": [
       "False"
      ]
     },
     "execution_count": 79,
     "metadata": {},
     "output_type": "execute_result"
    }
   ],
   "source": [
    "E.isdisjoint(G) # 1,2,3 são comuns"
   ]
  },
  {
   "cell_type": "markdown",
   "id": "083e4ceb-8fbc-4de8-b574-a59585e77c1d",
   "metadata": {},
   "source": [
    "#### Igualdade entre conjuntos\n",
    "\n",
    "Dois conjuntos são iguais se contém os mesmos elementos."
   ]
  },
  {
   "cell_type": "code",
   "execution_count": 80,
   "id": "ea72f9e0-05b9-4fed-904c-2844fdf30754",
   "metadata": {},
   "outputs": [],
   "source": [
    "H = {3,'a', 2}\n",
    "I = {'a',2, 3}\n",
    "J = {1,'a'}"
   ]
  },
  {
   "cell_type": "code",
   "execution_count": 81,
   "id": "24750163-5a17-456b-9991-dfb11fe2f613",
   "metadata": {},
   "outputs": [
    {
     "data": {
      "text/plain": [
       "True"
      ]
     },
     "execution_count": 81,
     "metadata": {},
     "output_type": "execute_result"
    }
   ],
   "source": [
    "H == I"
   ]
  },
  {
   "cell_type": "code",
   "execution_count": 82,
   "id": "43d6778e-b433-40b8-a942-6c782f324f8f",
   "metadata": {},
   "outputs": [
    {
     "data": {
      "text/plain": [
       "False"
      ]
     },
     "execution_count": 82,
     "metadata": {},
     "output_type": "execute_result"
    }
   ],
   "source": [
    "H == J"
   ]
  },
  {
   "cell_type": "code",
   "execution_count": 83,
   "id": "9c7b740c-3f40-4f89-9c32-be8a632c2bc8",
   "metadata": {},
   "outputs": [
    {
     "data": {
      "text/plain": [
       "True"
      ]
     },
     "execution_count": 83,
     "metadata": {},
     "output_type": "execute_result"
    }
   ],
   "source": [
    "{1,2,2,3} == {3,3,3,2,1} # lembre-se da unicidade"
   ]
  },
  {
   "cell_type": "markdown",
   "id": "7414944e-c7aa-421e-8b3f-328259c99e7e",
   "metadata": {},
   "source": [
    "## Compreensões de lista\n",
    "\n",
    "As listas são as sequências mais comuns em Python. Listas são objetos mutáveis de comprimento variável. Dominar este tipo de dado é fundamental para compreender o preenchimento de sequências de praticamente qualquer outro tipo. Começaremos aprendendo sobre compreensões de lista, ou, no jargão do Python, _listcomps_."
   ]
  },
  {
   "cell_type": "markdown",
   "id": "f39efce2-006f-4edb-ad3e-38c68f09f72b",
   "metadata": {},
   "source": [
    "**Exemplo:** Construa uma lista dos códigos _Unicode_ correspondentes dos caracteres de uma _string_."
   ]
  },
  {
   "cell_type": "code",
   "execution_count": 84,
   "id": "10234a22-f5d1-4a81-b286-a239b01ebdb7",
   "metadata": {},
   "outputs": [
    {
     "data": {
      "text/plain": [
       "[33, 64, 35, 36, 37]"
      ]
     },
     "execution_count": 84,
     "metadata": {},
     "output_type": "execute_result"
    }
   ],
   "source": [
    "palavra = '!@#$%'\n",
    "cods = []\n",
    "for c in palavra:\n",
    "    cods.append(ord(c))\n",
    "cods    "
   ]
  },
  {
   "cell_type": "markdown",
   "id": "e0a21e5a-e019-4f0a-9e22-736f4b6e3725",
   "metadata": {},
   "source": [
    "Discussão:\n",
    "\n",
    "- `ord` produz o número ordinal correspondente de um caracter segundo o padrão Unicode. Para saber o código hexadecimal correspondente, pode-se fazer `hex(ord(c))`.\n",
    "\n",
    "\n",
    "```{hint}\n",
    "Caracteres, emojis e símbolos são números codificados! Para saber mais sobre o padrão Unicode, veja este [site](https://home.unicode.org).\n",
    "```"
   ]
  },
  {
   "cell_type": "markdown",
   "id": "97ba370d-5ccb-4ade-9fee-0a4655770e00",
   "metadata": {},
   "source": [
    "**Exemplo:** Construa uma _listcomp_ correspondente."
   ]
  },
  {
   "cell_type": "code",
   "execution_count": 85,
   "id": "d23921fc-1d5a-4f37-843a-884ac3c083cb",
   "metadata": {},
   "outputs": [
    {
     "data": {
      "text/plain": [
       "[33, 64, 35, 36, 37]"
      ]
     },
     "execution_count": 85,
     "metadata": {},
     "output_type": "execute_result"
    }
   ],
   "source": [
    "palavra = '!@#$%'\n",
    "cods = [ord(c) for c in palavra]\n",
    "cods"
   ]
  },
  {
   "cell_type": "markdown",
   "id": "94ba5747-31c6-42c2-8afe-eba055e64116",
   "metadata": {},
   "source": [
    "Comentário: \n",
    "\n",
    "- Uma _listcomp_ é mais legível e sua intenção é explícita. Todavia, é preciso ser cauteloso para não criarmos códigos ilegíveis abusando de _listcomps_.\n",
    "- Como quebras de linha são ignoradas dentro de pares `[]`,`()` ou `{}`, é possível quebrar uma instrução de _listcomp_ sem usar o caracter de escape para quebra de linha `\\`."
   ]
  },
  {
   "cell_type": "code",
   "execution_count": 86,
   "id": "bb4e590e-5e26-478a-b827-a65f8ff3eee9",
   "metadata": {},
   "outputs": [
    {
     "data": {
      "text/plain": [
       "[33, 64, 35, 36, 37]"
      ]
     },
     "execution_count": 86,
     "metadata": {},
     "output_type": "execute_result"
    }
   ],
   "source": [
    "# listcomp com quebra de linha sem `\\`\n",
    "[ord(c) \n",
    " for c \n",
    " in palavra]"
   ]
  },
  {
   "cell_type": "markdown",
   "id": "e4f7234e-0f2a-4eb9-aa95-63ca7384e12d",
   "metadata": {},
   "source": [
    "**Exemplo:** Construa um produto cartesiano de pares $(a,b)$, onde $a$ é um tipo de sangue de acordo com o sistema ABO e $b$ é o Fator Rh."
   ]
  },
  {
   "cell_type": "code",
   "execution_count": 87,
   "id": "999af27d-710a-4596-878a-f2fd6bf8c4ab",
   "metadata": {},
   "outputs": [
    {
     "data": {
      "text/plain": [
       "[('A', '+'),\n",
       " ('A', '-'),\n",
       " ('B', '+'),\n",
       " ('B', '-'),\n",
       " ('O', '+'),\n",
       " ('O', '-'),\n",
       " ('AB', '+'),\n",
       " ('AB', '-')]"
      ]
     },
     "execution_count": 87,
     "metadata": {},
     "output_type": "execute_result"
    }
   ],
   "source": [
    "A = ['A','B','O','AB']\n",
    "Rh = ['+','-']\n",
    "sangue = [(a,b) for a in A for b in Rh]\n",
    "sangue"
   ]
  },
  {
   "cell_type": "markdown",
   "id": "0e274a1d-631b-470a-81d7-17f774918db9",
   "metadata": {},
   "source": [
    "Discussão: \n",
    "\n",
    "- A _listcomp_ anterior usa dois `for` que iteram sobre as sequências `A` e `Rh` e constroi uma lista de tuplas do tipo _(a,b)_."
   ]
  },
  {
   "cell_type": "markdown",
   "id": "1546149d-e4ff-404f-89e6-5685103c3f64",
   "metadata": {},
   "source": [
    "**Exemplo:** Construa um produto cartesiano de pares $(a,b)$, onde $a$ é o FatorRh e $b$ é um tipo de sangue de acordo com o sistema ABO."
   ]
  },
  {
   "cell_type": "code",
   "execution_count": 88,
   "id": "2b024180-634a-4863-9fbe-30ac95427708",
   "metadata": {},
   "outputs": [
    {
     "data": {
      "text/plain": [
       "[('+', 'A'),\n",
       " ('-', 'A'),\n",
       " ('+', 'B'),\n",
       " ('-', 'B'),\n",
       " ('+', 'O'),\n",
       " ('-', 'O'),\n",
       " ('+', 'AB'),\n",
       " ('-', 'AB')]"
      ]
     },
     "execution_count": 88,
     "metadata": {},
     "output_type": "execute_result"
    }
   ],
   "source": [
    "[(b,a) for a in A for b in Rh]"
   ]
  },
  {
   "cell_type": "markdown",
   "id": "e8c1c943-8f50-427e-801c-c49e9989ef9d",
   "metadata": {},
   "source": [
    "Comentário: \n",
    "\n",
    "- Note que, neste caso, basta alterarmos a ordem dos elementos da tupla."
   ]
  },
  {
   "cell_type": "markdown",
   "id": "3fc9c2d5-75e0-4c1c-9dfd-c289d708641f",
   "metadata": {},
   "source": [
    "**Exemplo:** Use _listcomps_ com condicionais para criar filtros."
   ]
  },
  {
   "cell_type": "code",
   "execution_count": 89,
   "id": "157ead58-0469-45e3-9246-de3dc575368e",
   "metadata": {},
   "outputs": [
    {
     "data": {
      "text/plain": [
       "['ALPHATAURI', 'ASTON MARTIN', 'ALPINE', 'ALFA ROMEO RACING']"
      ]
     },
     "execution_count": 89,
     "metadata": {},
     "output_type": "execute_result"
    }
   ],
   "source": [
    "# equipes da fórmula 1\n",
    "f1 = ['Red Bull Racing','Mercedes',\n",
    " 'McLaren','Ferrari','AlphaTauri',\n",
    " 'Aston Martin','Alpine','Alfa Romeo Racing',\n",
    " 'Williams','Haas F1 Team']\n",
    "\n",
    "# equipes que começam com A, em maiúsculas\n",
    "[team.upper() for team in f1 if team[0] == 'A']"
   ]
  },
  {
   "cell_type": "code",
   "execution_count": 90,
   "id": "d2f24716-dc4e-461f-b67d-b90e527945c2",
   "metadata": {},
   "outputs": [
    {
     "data": {
      "text/plain": [
       "['Mercedes', 'McLaren', 'Ferrari', 'Williams']"
      ]
     },
     "execution_count": 90,
     "metadata": {},
     "output_type": "execute_result"
    }
   ],
   "source": [
    "# equipes cujo nome não inicia com A e tem menos do que 10 caracteres\n",
    "[team for team in f1 \n",
    " if team[0] != 'A' and len(team) < 10]"
   ]
  },
  {
   "cell_type": "markdown",
   "id": "dad4e715-9109-4265-9a62-31672b3ffcf5",
   "metadata": {},
   "source": [
    "## Compreensões de conjuntos\n",
    "\n",
    "Semelhantemente a _listcomps_, podemos realizar \"_setcomps_\"."
   ]
  },
  {
   "cell_type": "code",
   "execution_count": 91,
   "id": "c22291d8-a32e-4c03-9f0a-363ddc2e81bf",
   "metadata": {},
   "outputs": [
    {
     "data": {
      "text/plain": [
       "{6, 7, 8, 10, 12, 15, 17}"
      ]
     },
     "execution_count": 91,
     "metadata": {},
     "output_type": "execute_result"
    }
   ],
   "source": [
    "# comprimentos de nomes de equipes (únicos)\n",
    "{len(team) for team in f1}"
   ]
  },
  {
   "cell_type": "code",
   "execution_count": 92,
   "id": "0f7fd1b6-5f35-4052-a6da-6c9747ba2ab6",
   "metadata": {},
   "outputs": [
    {
     "data": {
      "text/plain": [
       "[15, 8, 7, 7, 10, 12, 6, 17, 8, 12]"
      ]
     },
     "execution_count": 92,
     "metadata": {},
     "output_type": "execute_result"
    }
   ],
   "source": [
    "[len(team) for team in f1]"
   ]
  },
  {
   "cell_type": "markdown",
   "id": "27351d15-7b3c-4226-ab06-aeaad899ae28",
   "metadata": {},
   "source": [
    "Comentários: \n",
    "\n",
    "- Note que a _listcomp_ para este caso possuiria elementos repetidos."
   ]
  },
  {
   "cell_type": "code",
   "execution_count": 93,
   "id": "2675bbdb-f148-4d59-b662-37af02201c30",
   "metadata": {},
   "outputs": [
    {
     "data": {
      "text/plain": [
       "{15, 17}"
      ]
     },
     "execution_count": 93,
     "metadata": {},
     "output_type": "execute_result"
    }
   ],
   "source": [
    "# comprimento de nomes de equipes que terminam com \"ing\"\n",
    "{len(team) for team in f1 if team.endswith('ing')}"
   ]
  },
  {
   "cell_type": "markdown",
   "id": "84f15bd8-f59e-4a9d-beaf-2d876bb2b4cf",
   "metadata": {},
   "source": [
    "## Compreensões de dicionários\n",
    "\n",
    "Compreensões de dicionários, ou \"_dictcomps_\", possuem resultados similares às anteriores e são convenientes para criar _dicts_."
   ]
  },
  {
   "cell_type": "code",
   "execution_count": 94,
   "id": "b28764c9-7c4a-4c94-af8d-f39e544d0528",
   "metadata": {},
   "outputs": [
    {
     "data": {
      "text/plain": [
       "{0: 'Red Bull Racing',\n",
       " 1: 'Mercedes',\n",
       " 2: 'McLaren',\n",
       " 3: 'Ferrari',\n",
       " 4: 'AlphaTauri',\n",
       " 5: 'Aston Martin',\n",
       " 6: 'Alpine',\n",
       " 7: 'Alfa Romeo Racing',\n",
       " 8: 'Williams',\n",
       " 9: 'Haas F1 Team'}"
      ]
     },
     "execution_count": 94,
     "metadata": {},
     "output_type": "execute_result"
    }
   ],
   "source": [
    "{k:v for k,v in enumerate(f1)}"
   ]
  },
  {
   "cell_type": "markdown",
   "id": "49c220be-7a37-4df7-8c10-29adc03125fb",
   "metadata": {},
   "source": [
    "Comentário:\n",
    "\n",
    "- `enumerate` é um objeto que constroi uma enumeração para um iterável."
   ]
  },
  {
   "cell_type": "code",
   "execution_count": 95,
   "id": "b67f640c-d342-47ae-8a99-4b988506203f",
   "metadata": {},
   "outputs": [
    {
     "data": {
      "text/plain": [
       "{7: 'Red Bull Racing',\n",
       " 8: 'Mercedes',\n",
       " 9: 'McLaren',\n",
       " 10: 'Ferrari',\n",
       " 11: 'AlphaTauri',\n",
       " 12: 'Aston Martin',\n",
       " 13: 'Alpine',\n",
       " 14: 'Alfa Romeo Racing',\n",
       " 15: 'Williams',\n",
       " 16: 'Haas F1 Team'}"
      ]
     },
     "execution_count": 95,
     "metadata": {},
     "output_type": "execute_result"
    }
   ],
   "source": [
    "# enumera a partir do índice 7, mas percorre toda a lista\n",
    "{k:v for k,v in enumerate(f1,7)}"
   ]
  },
  {
   "cell_type": "markdown",
   "id": "161f8811-b8e4-42de-bca6-8040c46c7b8a",
   "metadata": {},
   "source": [
    "## _Sorted_ "
   ]
  },
  {
   "cell_type": "markdown",
   "id": "fcfa61a7-9f3b-4175-a265-5e602ac383ad",
   "metadata": {},
   "source": [
    "Listas em Python possuem um método chamado `sort` com o qual podemos realizar uma ordenação _in-place_ de uma lista. Por outro lado, a função `sorted` permite que façamos o mesmo criando uma nova lista e, dessa maneira, não alterando a lista original."
   ]
  },
  {
   "cell_type": "code",
   "execution_count": 96,
   "id": "f3549576-c7a1-44ae-8db7-49dc1ea36850",
   "metadata": {},
   "outputs": [
    {
     "data": {
      "text/plain": [
       "['Red Bull Racing',\n",
       " 'Mercedes',\n",
       " 'McLaren',\n",
       " 'Ferrari',\n",
       " 'AlphaTauri',\n",
       " 'Aston Martin',\n",
       " 'Alpine',\n",
       " 'Alfa Romeo Racing',\n",
       " 'Williams',\n",
       " 'Haas F1 Team']"
      ]
     },
     "execution_count": 96,
     "metadata": {},
     "output_type": "execute_result"
    }
   ],
   "source": [
    "# copia lista f1\n",
    "f1c = f1.copy()\n",
    "f1c"
   ]
  },
  {
   "cell_type": "code",
   "execution_count": 97,
   "id": "cca30c2f-ddfe-413e-8183-3e189b6ab451",
   "metadata": {},
   "outputs": [
    {
     "data": {
      "text/plain": [
       "['Alfa Romeo Racing',\n",
       " 'AlphaTauri',\n",
       " 'Alpine',\n",
       " 'Aston Martin',\n",
       " 'Ferrari',\n",
       " 'Haas F1 Team',\n",
       " 'McLaren',\n",
       " 'Mercedes',\n",
       " 'Red Bull Racing',\n",
       " 'Williams']"
      ]
     },
     "execution_count": 97,
     "metadata": {},
     "output_type": "execute_result"
    }
   ],
   "source": [
    "# lista ordenada\n",
    "f1c.sort()\n",
    "f1c"
   ]
  },
  {
   "cell_type": "code",
   "execution_count": 98,
   "id": "b302e034-6667-416b-8b10-614f597b9702",
   "metadata": {},
   "outputs": [
    {
     "data": {
      "text/plain": [
       "['Alfa Romeo Racing',\n",
       " 'AlphaTauri',\n",
       " 'Alpine',\n",
       " 'Aston Martin',\n",
       " 'Ferrari',\n",
       " 'Haas F1 Team',\n",
       " 'McLaren',\n",
       " 'Mercedes',\n",
       " 'Red Bull Racing',\n",
       " 'Williams']"
      ]
     },
     "execution_count": 98,
     "metadata": {},
     "output_type": "execute_result"
    }
   ],
   "source": [
    "# lista f1 ordenada\n",
    "f1c2 = sorted(f1)\n",
    "f1c2"
   ]
  },
  {
   "cell_type": "code",
   "execution_count": 99,
   "id": "0a55790c-1c4d-434f-ad7f-bf9fb56f386f",
   "metadata": {},
   "outputs": [
    {
     "data": {
      "text/plain": [
       "['Red Bull Racing',\n",
       " 'Mercedes',\n",
       " 'McLaren',\n",
       " 'Ferrari',\n",
       " 'AlphaTauri',\n",
       " 'Aston Martin',\n",
       " 'Alpine',\n",
       " 'Alfa Romeo Racing',\n",
       " 'Williams',\n",
       " 'Haas F1 Team']"
      ]
     },
     "execution_count": 99,
     "metadata": {},
     "output_type": "execute_result"
    }
   ],
   "source": [
    "# lista original intacta\n",
    "f1"
   ]
  },
  {
   "cell_type": "markdown",
   "id": "31ca9269-3501-4511-a593-c3db54e311bb",
   "metadata": {},
   "source": [
    "Para realizar a ordenação reversa, usamos `reverse=True` na função `sorted`."
   ]
  },
  {
   "cell_type": "code",
   "execution_count": 100,
   "id": "0d053034-ca49-4888-ae5b-4cbee98933ef",
   "metadata": {},
   "outputs": [
    {
     "data": {
      "text/plain": [
       "['Williams',\n",
       " 'Red Bull Racing',\n",
       " 'Mercedes',\n",
       " 'McLaren',\n",
       " 'Haas F1 Team',\n",
       " 'Ferrari',\n",
       " 'Aston Martin',\n",
       " 'Alpine',\n",
       " 'AlphaTauri',\n",
       " 'Alfa Romeo Racing']"
      ]
     },
     "execution_count": 100,
     "metadata": {},
     "output_type": "execute_result"
    }
   ],
   "source": [
    "# ordenação re\n",
    "sorted(f1,reverse=True)"
   ]
  },
  {
   "cell_type": "markdown",
   "id": "305846d7-38e5-4bdc-87cf-8e8f79146ef6",
   "metadata": {},
   "source": [
    "## Aleatoriedade\n",
    "\n",
    "Números aleatórios, ou também chamados de randômicos, são úteis para fabricar experimentos estatísticos, realizar amostragem e desenvolver uma série de estudos envolvendo probabilidade.  \n",
    "\n",
    "Em Python, podemos usar o módulo `random` para atingir uma diversidade de propósitos em ciência de dados. Vamos explorar algumas funções para geração aleatória: `choice`, `random`, `randint`, `shuffle` e `sample`."
   ]
  },
  {
   "cell_type": "code",
   "execution_count": 101,
   "id": "1c617e2b-c99a-4c7b-9fc8-6fdcd2cd1389",
   "metadata": {},
   "outputs": [],
   "source": [
    "import random"
   ]
  },
  {
   "cell_type": "markdown",
   "id": "b6b51062-0b36-4a8a-a3c6-603511d0b145",
   "metadata": {},
   "source": [
    "**Exemplo:** Crie um experimento de lançamento de dados e realize uma escolha aleatória em $n$ lançamentos."
   ]
  },
  {
   "cell_type": "code",
   "execution_count": 102,
   "id": "9c012294-5a24-4730-92f7-793445c3f491",
   "metadata": {},
   "outputs": [
    {
     "name": "stdout",
     "output_type": "stream",
     "text": [
      "4\n",
      "1\n",
      "5\n",
      "2\n"
     ]
    }
   ],
   "source": [
    "dado = list(range(1,7))\n",
    "\n",
    "n = 4\n",
    "for _ in range(n):\n",
    "    print(random.choice(dado))"
   ]
  },
  {
   "cell_type": "markdown",
   "id": "06ded275-28ed-4c6c-b64c-4ab40b803718",
   "metadata": {},
   "source": [
    "Comentários:\n",
    "\n",
    "- O _loop_ será repetido $n$ vezes.\n",
    "- O método `choice` escolhe um valor ao acaso entre os disponíveis na lista. "
   ]
  },
  {
   "cell_type": "markdown",
   "id": "e7b1bfcc-a218-47f2-823e-2b332c0421b6",
   "metadata": {},
   "source": [
    "**Exemplo:** Crie um experimento de probabilidade aleatório que determine a salinidade presente em 1 litro de água marinha (3 - 5%). "
   ]
  },
  {
   "cell_type": "code",
   "execution_count": 103,
   "id": "b075a1ea-424a-4e07-9670-de2c95cd7296",
   "metadata": {},
   "outputs": [
    {
     "data": {
      "text/plain": [
       "[0.045050420686575235,\n",
       " 0.03604191301033581,\n",
       " 0.043942882418974434,\n",
       " 0.04297061363142192,\n",
       " 0.035321529319922725]"
      ]
     },
     "execution_count": 103,
     "metadata": {},
     "output_type": "execute_result"
    }
   ],
   "source": [
    "na = 5\n",
    "saly = []\n",
    "for _ in range(na):\n",
    "    saly.append(0.03 + (0.05-0.03)*random.random())\n",
    "saly    "
   ]
  },
  {
   "cell_type": "markdown",
   "id": "1ad61b8a-984e-4e5f-b7e6-d09a0dcfa3b5",
   "metadata": {},
   "source": [
    "Comentários: \n",
    "\n",
    "- Este experimento equivale a coletar 5 amostras de água marinha com salinidade variável entre 3 e 5%.\n",
    "- O método `random` determina um número aleatório no intervalo [0,1)."
   ]
  },
  {
   "cell_type": "markdown",
   "id": "37e22065-6c13-47e8-b48b-fd1721fb0e4e",
   "metadata": {},
   "source": [
    "**Exemplo:** Crie um experimento que ordena 15 arremessadores para cestas de 3 pontos durante um treinamento do time do Los Angeles Lakers (0 a 99) excluindo a lista de números reservados. Considere que se o número sorteado não estiver atribuído a nenhum jogador atual ou se já tiver sido sorteado, o técnico escolherá o próximo da lista.\n",
    "\n",
    "Lista de números reservados: 8,13,17,19,22,24,25,32,33,34,42,44,52,99."
   ]
  },
  {
   "cell_type": "code",
   "execution_count": 104,
   "id": "9399df99-8f81-493f-a542-a93723a77cb7",
   "metadata": {},
   "outputs": [
    {
     "name": "stdout",
     "output_type": "stream",
     "text": [
      "Los Angeles Lakers :: 3-point shooters (Training Schedule):\n",
      "40\n",
      "71\n",
      "23\n",
      "97\n",
      "3\n",
      "93\n",
      "68\n",
      "74\n",
      "27\n",
      "0\n",
      "39\n",
      "47\n",
      "30\n",
      "96\n",
      "88\n"
     ]
    }
   ],
   "source": [
    "reservados = [8,13,17,19,22,24,25,32,33,34,42,44,52,99]\n",
    "\n",
    "shooter = []\n",
    "while len(shooter) != 15:\n",
    "    x = random.randint(0,99)\n",
    "    if x not in reservados and x not in shooter:\n",
    "        shooter.append(x)    \n",
    "\n",
    "print('Los Angeles Lakers :: 3-point shooters (Training Schedule):')\n",
    "for s in shooter:\n",
    "    print(s)\n",
    "        "
   ]
  },
  {
   "cell_type": "markdown",
   "id": "6989b584-6df3-4e90-92ff-07ede83cb986",
   "metadata": {},
   "source": [
    "Comentários: \n",
    "\n",
    "- O _loop_ _while_ encerrará quando uma lista com 15 arremessadores estiver completa.\n",
    "- A estrutura condicional previne que números já sorteados entrem na lista.\n",
    "- O método `randint` escolhe um número inteiro aleatório entre 0 e 99."
   ]
  },
  {
   "cell_type": "markdown",
   "id": "2f0e5f00-884e-4965-ae13-6b5c7a332d80",
   "metadata": {},
   "source": [
    "**Exemplo:** Crie uma alteração no schedule de treinamento anterior a partir da última lista disponível."
   ]
  },
  {
   "cell_type": "code",
   "execution_count": 105,
   "id": "bcead399-6262-435b-a0d5-2eee6cf6a566",
   "metadata": {},
   "outputs": [
    {
     "name": "stdout",
     "output_type": "stream",
     "text": [
      "None\n"
     ]
    },
    {
     "data": {
      "text/plain": [
       "[30, 93, 74, 0, 23, 47, 96, 39, 68, 40, 27, 97, 71, 3, 88]"
      ]
     },
     "execution_count": 105,
     "metadata": {},
     "output_type": "execute_result"
    }
   ],
   "source": [
    "print(random.shuffle(shooter))\n",
    "shooter"
   ]
  },
  {
   "cell_type": "markdown",
   "id": "0a346466-9a87-4bae-bae8-36ec19ca815e",
   "metadata": {},
   "source": [
    "Comentário: \n",
    "\n",
    "- O método `shuffle` reordena a lista `shooter` randomicamente e produz um valor `None` como saída. Dessa forma, geramos uma nova lista com os mesmos arremessadores pré-selecionados, mas em ordem distinta."
   ]
  },
  {
   "cell_type": "markdown",
   "id": "b2efad83-8221-4db4-9819-597996838306",
   "metadata": {},
   "source": [
    "**Exemplo:** Construa uma tabela aleatória de 3 jogos de beisebol entre times da MLB."
   ]
  },
  {
   "cell_type": "code",
   "execution_count": 106,
   "id": "1fb7b1d0-a7c8-4f07-be62-d655f03bf729",
   "metadata": {},
   "outputs": [
    {
     "name": "stdout",
     "output_type": "stream",
     "text": [
      "Game 1: Pittsburgh Pirates x Baltimore Orioles\n",
      "Game 2: San Diego Padres x Chicago White Sox\n",
      "Game 3: Kansas City Royals x New York Mets\n"
     ]
    }
   ],
   "source": [
    "# lê arquivo com nome de times da MLB\n",
    "with open('../database/mlb-teams.csv') as f:\n",
    "    mlb = f.read().splitlines()\n",
    "    \n",
    "for _ in range(3):\n",
    "    a,b = random.sample(mlb,2)\n",
    "    print(f'Game {_+1}: {a} x {b}')        "
   ]
  },
  {
   "cell_type": "markdown",
   "id": "6a130811-0839-4d4e-897c-acd5ab232e4b",
   "metadata": {},
   "source": [
    "Comentários: \n",
    "\n",
    "- O método `sample` realiza uma amostragem de $k$ valores disponíveis na lista. Aqui, escolhemos $k=2$, de modo que 2 times são escolhidos ao acaso para comporem 3 jogos."
   ]
  },
  {
   "cell_type": "markdown",
   "id": "3346d072-de58-45ba-8acf-dc2545a81478",
   "metadata": {},
   "source": [
    "## Expressões regulares\n",
    "\n",
    "Expressões regulares (_regular expressions_), também conhecidas como _RE_, _regexes_, ou _regex pattern_ são regras estabelecidas para localizar padrões desejados em strings. REs, na verdade, formam uma pequena linguagem de programação dentro de uma linguagem maior. \n",
    "\n",
    "Em Python, REs funcionam com base em códigos escritos na linguagem C. Nossa intenção aqui é fazer uma introdução sobre a utilidade e aplicabilidade de expressões regulares. Para entender este tema com profundidade, é necessário estudar aspectos internos de compiladores. \n",
    "\n",
    "### Para que usamos _regex_? \n",
    "\n",
    "Expressões regulares são implicitamente usadas por nós quase que diariamente quando utilizamos comandos do tipo _Localizar_ para buscar uma palavra em uma página da internet ou dentro de um arquivo PDF. Porém, elas nos permitem fazer muito mais do que uma simples busca por palavras. \n",
    "\n",
    "O texto a seguir é um trecho do livro _Memórias Póstumas de Brás Cubas_, de Machado de Assis, que pode ser recuperado pelo arquivo <a href=\"database/bras-cubas.txt\" download=\"database/bras-cubas.txt\">bras-cubas.txt</a>:"
   ]
  },
  {
   "cell_type": "markdown",
   "id": "1d3ae679-e76f-4695-a852-3fd1265eda99",
   "metadata": {},
   "source": [
    "> Não durou muito a evocação; a realidade dominou logo; o presente expeliu o passado. Talvez eu exponha ao leitor, em algum canto deste livro, a minha teoria das edições humanas. O que por agora importa saber é que Virgília — chamava-se Virgília — entrou na alcova, firme, com a gravidade que lhe davam as roupas e os anos, e veio até o meu leito. O estranho levantou-se e saiu. Era um sujeito, que me visitava todos os dias para falar do câmbio, da colonização e da necessidade de desenvolver a viação férrea; nada mais interessante para um moribundo. Saiu; Virgília deixou-se estar de pé; durante algum tempo ficamos a olhar um para o outro, sem articular palavra. Quem diria? De dois grandes namorados, de duas paixões sem freio, nada mais havia ali, vinte anos depois; havia apenas dois corações murchos, devastados pela vida e saciados dela, não sei se em igual dose, mas enfim saciados. Virgília tinha agora a beleza da velhice, um ar austero e maternal; estava menos magra do que quando a vi, pela última vez, numa festa de São João, na Tijuca; e porque era das que resistem muito, só agora começavam os cabelos escuros a intercalar-se com alguns fios de prata."
   ]
  },
  {
   "cell_type": "markdown",
   "id": "bd8c143d-3597-4b19-a982-536210c93041",
   "metadata": {},
   "source": [
    "Suponha que você quisesse localizar quantas vezes a palavra \"Vírgilia\" aparece neste trecho do livro. Com a ajuda de um editor de textos munido de um comando de busca, facilmente encontraríamos a resposta. São 4 vezes.\n",
    "\n",
    "Agora, suponha que você quisesse localizar se, neste mesmo texto, há alguma ocorrência do seguinte padrão: _palavra que se inicia com a letra \"p\", maiúscula ou minúscula, possui pelo menos uma letra \"i\" e a letra \"i\" deve ser, no máximo, o quarto caracter_. Claramente, não conseguiríamos cumprir esta exigência tão facilmente como encontrar \"Virgília\". Com algum esforço visual, conseguimos verificar no texto que \"paixões\" atende este critério. Como faríamos isto usando Python? Ou melhor, como faríamos isto usando Python em um arquivo com 550.000 palavras para serem analisadas?\n",
    "\n",
    "O padrão que acabamos de descrever pode ser procurado por meio de uma _regex_. Ou seja, _regex_ são úteis quando desejamos buscar um determinado padrão em _strings_. A seguir, vamos usar o pequeno texto de Machado de Assis como base para aprender um pouco sobre _regex_."
   ]
  },
  {
   "cell_type": "markdown",
   "id": "64c674a5-b46a-432a-8218-fdd0268a2af2",
   "metadata": {},
   "source": [
    "### Padrões simples, caracterese ordinários e metacaracteres\n",
    "\n",
    "A tarefa mais simples que podemos executar com REs é combinar caracteres. Por exemplo, sabemos que a string `'murchos'` equivale à string `'murchos'`, mas não equivale à string `'moribundos'`. No primeiro caso, todos os caracteres se combinam e estão posicionados nos mesmos lugares; no segundo caso, embora alguns caracteres se combinem, a exemplo de `'m'`, `'r'`, `'o'` e `'s'`, e estejam posicionados aparentemente em mesmos lugares (no início, terceira posição e final da string), obviamente uma string não combina **exatamente** com a outra. \n",
    "\n",
    "Há muitos caracteres que podem ser usados para combinações simples. Por exemplo, quando em _case insensitive_, `'mur'` é um padrão encontrado tanto em `'Murcho'`, quanto em `'muralha'` ou em `'HAMURABI'`. Entretanto, há caracteres que não podem ser combinados da forma como o lemos. Por exemplo, para buscarmos o padrão `'\\textsuperscript'` em uma string, o caracter `'\\'` não pode ser usado de forma _literal_. Ele é um _metacaracter_. \n",
    "\n",
    "_Caracteres ordinários_ são basicamente todos os caracteres ASCII alfanuméricos, tais como `'b'`,  `'B'` e `'1'`.\n",
    "\n",
    "```{note}\n",
    "ASCII, de _American Standard Code for Information Interchange_, é um padrão de codificação de caracteres que foi predominantemente usado desde a década de 1960 e tornou-se um padrão da internet em 2015 contendo apenas 128 caracteres. Em 2007, ele foi suplantado pelo padrão UTF-8 (_Unicode Transformation Format - 8 bit_), gerido pela iniciativa Unicode (_Universal Coded Character Set_). O UTF-8 é um padrão mais novo que comporta 1.112.064 caracteres e também é o usual no Python 3. Os 128 primeiros caracteres do padrão UTF-8 são os 128 primeiros da lista do UTF-8, dos quais alguns tornaram-se obsoletos.\n",
    "```\n",
    "\n",
    "_Caracteres especiais_ são todos os metacaracteres. A lista dos metacaracteres é a seguinte: \n",
    "\n",
    "```\n",
    ". ^ $ * + ? { } [ ] \\ | ( )\n",
    "``` \n",
    "\n",
    "Todos eles exercem papéis especiais na linguagem das REs como veremos a seguir. \n",
    "\n",
    "Para efeito de curiosidade, o seguinte código imprime os caracteres ASCII mais comuns. A partir do fatiamento da lista, podemos gerar as sublistas que contêm apenas números e letras. Deixaremos isto como exercício. Cabe enfatizar, entretanto, que em Python 3, o padrão de caracter "
   ]
  },
  {
   "cell_type": "code",
   "execution_count": 107,
   "id": "cfde4f6f-2a60-473a-bf9e-a12d077f02b7",
   "metadata": {},
   "outputs": [
    {
     "name": "stdout",
     "output_type": "stream",
     "text": [
      "! \" # $ % & ' ( ) * + , - . / 0 1 2 3 4 5 6 7 8 9 : ; < = > ? @ A B C D E F G H I J K L M N O P Q R S T U V W X Y Z [ \\ ] ^ _ ` a b c d e f g h i j k l m n o p q r s t u v w x y z { | } ~ "
     ]
    }
   ],
   "source": [
    "# imprime caracteres ASCII mais comuns \n",
    "# end = ' ' altera a terminação padrão '\\n'\n",
    "for i in range(33,127):\n",
    "    print(chr(i), end = ' ')"
   ]
  },
  {
   "cell_type": "markdown",
   "id": "29525868-b959-45d6-93a8-197551a1f05d",
   "metadata": {},
   "source": [
    "### O módulo `re`\n",
    "\n",
    "Em Python, temos à disposição o módulo `re` para trabalhar com REs. Vejamos o que ele pode nos proporcionar. Antes de prosseguir, vamos ler o arquivo e salvar o texto em uma _string_."
   ]
  },
  {
   "cell_type": "code",
   "execution_count": 108,
   "id": "cffd528c-1b37-4cf1-96c4-e16904b855de",
   "metadata": {},
   "outputs": [
    {
     "data": {
      "text/plain": [
       "'Não durou muito a evocação; a realidade dominou logo; o presente expeliu o passado. Talvez eu exponha ao leitor, em algum canto deste livro, a minha teoria das edições humanas. O que por agora importa saber é que Virgília — chamava-se Virgília — entrou na alcova, firme, com a gravidade que lhe davam as roupas e os anos, e veio até o meu leito. O estranho levantou-se e saiu. Era um sujeito, que me visitava todos os dias para falar do câmbio, da colonização e da necessidade de desenvolver a viação férrea; nada mais interessante para um moribundo. Saiu; Virgília deixou-se estar de pé; durante algum tempo ficamos a olhar um para o outro, sem articular palavra. Quem diria? De dois grandes namorados, de duas paixões sem freio, nada mais havia ali, vinte anos depois; havia apenas dois corações murchos, devastados pela vida e saciados dela, não sei se em igual dose, mas enfim saciados. Virgília tinha agora a beleza da velhice, um ar austero e maternal; estava menos magra do que quando a vi, pela última vez, numa festa de São João, na Tijuca; e porque era das que resistem muito, só agora começavam os cabelos escuros a intercalar-se com alguns fios de prata.'"
      ]
     },
     "execution_count": 108,
     "metadata": {},
     "output_type": "execute_result"
    }
   ],
   "source": [
    "with open('../database/bras-cubas.txt', 'r') as f:\n",
    "    cubas = f.read()\n",
    "cubas    "
   ]
  },
  {
   "cell_type": "code",
   "execution_count": 109,
   "id": "741448d0-a5e8-4207-b447-96f85ce7e1f7",
   "metadata": {},
   "outputs": [],
   "source": [
    "# importa o módulo\n",
    "import re"
   ]
  },
  {
   "cell_type": "markdown",
   "id": "9ec083fa-db27-49c0-9bbe-70991600c811",
   "metadata": {},
   "source": [
    "As principais funções do módulo `re` podem ser resumidas ao seguinte modelo:\n",
    "\n",
    "```python\n",
    "re.f(pattern,string)\n",
    "```\n",
    "onde _f_ é o nome da função, _pattern_ é o padrão, isto é, a _regex_, e _string_ é a string na qual o padrão é procurado. Exploraremos algumas delas a seguir compreendendo, simultaneamente, o papel desempenhado pelos metacaracteres. "
   ]
  },
  {
   "cell_type": "markdown",
   "id": "e33d7372-a0eb-4ed9-882a-d42b35aca65a",
   "metadata": {},
   "source": [
    "**Exemplo:** Procure pelo padrão \"que\" no texto-base e conte quantas vezes ele aparece."
   ]
  },
  {
   "cell_type": "code",
   "execution_count": 110,
   "id": "4b596313-617d-4e68-9227-edef5a548af1",
   "metadata": {},
   "outputs": [
    {
     "name": "stdout",
     "output_type": "stream",
     "text": [
      "['que', 'que', 'que', 'que', 'que', 'que', 'que']\n",
      "7\n"
     ]
    }
   ],
   "source": [
    "# busca todas as combinações\n",
    "que = re.findall('que',cubas)\n",
    "print(que)\n",
    "print(len(que))"
   ]
  },
  {
   "cell_type": "markdown",
   "id": "bcf3d302-6e16-4236-94e2-129d5be87cb1",
   "metadata": {},
   "source": [
    "Discussão:\n",
    "- O método `findall` procura em `cubas` todas as combinações do padrão \"que\"\n",
    "- `len` permite que contemos o número de elementos da lista e, consequentemente, o número de vezes que o padrão aparece. Entretanto, observemos que o padrão poderia ser algo que não formasse uma palavra inteligível. Vejamos o próximo exemplo:"
   ]
  },
  {
   "cell_type": "code",
   "execution_count": 111,
   "id": "4ad844b9-b776-48b9-804f-69cefde85093",
   "metadata": {},
   "outputs": [
    {
     "data": {
      "text/plain": [
       "['xou']"
      ]
     },
     "execution_count": 111,
     "metadata": {},
     "output_type": "execute_result"
    }
   ],
   "source": [
    "# padrão presente, mas não é palavra inteligível\n",
    "re.findall('xou',cubas)"
   ]
  },
  {
   "cell_type": "markdown",
   "id": "74094831-c39c-4244-ab2c-b365debf63b1",
   "metadata": {},
   "source": [
    "Buscas por caracteres ordinários são sempre exatas, no sentido de que o caracter é combinado como ele é. Vejamos um exemplo que conta as vogais que aparecem no texto."
   ]
  },
  {
   "cell_type": "code",
   "execution_count": 112,
   "id": "2d1b03dc-7c13-4c7c-a678-2afb0fd3ee0a",
   "metadata": {},
   "outputs": [
    {
     "name": "stdout",
     "output_type": "stream",
     "text": [
      "A vogal 'a' foi localizada 143 vezes no texto.\n",
      "A vogal 'e' foi localizada 104 vezes no texto.\n",
      "A vogal 'i' foi localizada 65 vezes no texto.\n",
      "A vogal 'o' foi localizada 83 vezes no texto.\n",
      "A vogal 'u' foi localizada 43 vezes no texto.\n"
     ]
    }
   ],
   "source": [
    "for vogal in ['a','e','i','o','u']:    \n",
    "    print(f'A vogal \\'{vogal}\\' foi \\\n",
    "localizada {len(re.findall(vogal,cubas))} vezes no texto.')"
   ]
  },
  {
   "cell_type": "markdown",
   "id": "c394cae2-2930-482d-ae97-12789697bbff",
   "metadata": {},
   "source": [
    "**Exemplo:** Busque pelo padrão \"Tijuca\" no texto e determine suas posições de início e término."
   ]
  },
  {
   "cell_type": "code",
   "execution_count": 113,
   "id": "198d2603-0084-4e27-b13c-c574e44a5583",
   "metadata": {},
   "outputs": [
    {
     "data": {
      "text/plain": [
       "(1042, 1048, 'Tijuca')"
      ]
     },
     "execution_count": 113,
     "metadata": {},
     "output_type": "execute_result"
    }
   ],
   "source": [
    "# busca por combinação retornado posição\n",
    "p = re.search('Tijuca',cubas)\n",
    "p.start(), p.end(), p.group()"
   ]
  },
  {
   "cell_type": "markdown",
   "id": "e68ea9fe-149b-479f-9e11-43bd1f825dd2",
   "metadata": {},
   "source": [
    "Discussão: \n",
    "\n",
    "- O método `search` procura pelo padrão `'Tijuca'` em `cubas` e retorna três informações:\n",
    "    - `start`: a posição inicial do padrão\n",
    "    - `end`: a posição final do padrão\n",
    "    - `group`: o padrão localizado\n",
    "- O padrão aparece apenas uma vez no texto na fatia `cubas[1042:1048]`."
   ]
  },
  {
   "cell_type": "markdown",
   "id": "7b1acc71-997b-4800-901f-32085bb3f0cd",
   "metadata": {},
   "source": [
    "Comentários: \n",
    "\n",
    "- Caso houvesse repetição do padrão, apenas os índices da primeira aparição seriam retornados. Vejamos: "
   ]
  },
  {
   "cell_type": "code",
   "execution_count": 114,
   "id": "47c09a77-85f7-44f8-b739-3f9779aacc33",
   "metadata": {},
   "outputs": [
    {
     "data": {
      "text/plain": [
       "(179, 182, 'que')"
      ]
     },
     "execution_count": 114,
     "metadata": {},
     "output_type": "execute_result"
    }
   ],
   "source": [
    "p2 = re.search('que',cubas)\n",
    "p2.start(), p2.end(), p2.group()"
   ]
  },
  {
   "cell_type": "markdown",
   "id": "6002fc87-898f-47e6-93e5-ed7af9a8650a",
   "metadata": {},
   "source": [
    "Vimos anteriormente que há 7 aparições do padrão \"que\" no texto-base. Porém, apenas a primeira é retornada por `search`. Vejamos:"
   ]
  },
  {
   "cell_type": "code",
   "execution_count": 115,
   "id": "ffcb2f23-03a6-4ae4-add4-bad590149b5b",
   "metadata": {},
   "outputs": [
    {
     "data": {
      "text/plain": [
       "{'que'}"
      ]
     },
     "execution_count": 115,
     "metadata": {},
     "output_type": "execute_result"
    }
   ],
   "source": [
    "# uma maneira de mostrar que há apenas\n",
    "# um 'que' até o caracter 182 de 'cubas'\n",
    "# por meio de split e interseção de conjuntos\n",
    "set(cubas[0:182].split(' ')).intersection({'que'})"
   ]
  },
  {
   "cell_type": "markdown",
   "id": "939c8ed3-5880-4458-8a23-3609a74f0527",
   "metadata": {},
   "source": [
    "Como este conjunto é unitário, há apenas um padrão 'que' até a posição 182 de `cubas`."
   ]
  },
  {
   "cell_type": "markdown",
   "id": "349d02e8-13a3-4c43-8f73-97579ae77349",
   "metadata": {},
   "source": [
    "**Exemplo:** Busque pelo padrão \"Não\" no texto e verifique se ele aparece no início da string."
   ]
  },
  {
   "cell_type": "code",
   "execution_count": 116,
   "id": "968ab72e-e381-47fc-885b-beada5567566",
   "metadata": {},
   "outputs": [
    {
     "data": {
      "text/plain": [
       "0"
      ]
     },
     "execution_count": 116,
     "metadata": {},
     "output_type": "execute_result"
    }
   ],
   "source": [
    "p3 = re.match('Não',cubas)\n",
    "p3.start()"
   ]
  },
  {
   "cell_type": "markdown",
   "id": "1674644a-2340-42e8-af7f-46cd7609d921",
   "metadata": {},
   "source": [
    "Discussão:\n",
    "\n",
    "- O método `match` busca por um determinado padrão que aparece **somente** no início de uma string. Quando tal combinação de caracteres é encontrada o método retorna um objeto. Caso contrário, retorna `NoneType`.\n",
    "- No exemplo anterior, o método `start` mostra que o primeiro caracter do padrão `'Não'`, qual seja, `'N'` , ocupa a primeira posição da string, isto é, a posição 0. "
   ]
  },
  {
   "cell_type": "markdown",
   "id": "9aef3f6e-eb60-48bd-93cc-e28ea7b4bc66",
   "metadata": {},
   "source": [
    "Comentários: \n",
    "\n",
    "- Enquanto `re.search` realiza a busca por um padrão em qualquer posição da string, `re.match` busca se esse mesmo padrão ocorre, exclusivamente, no início da string. \n",
    "\n",
    "- Há muitas situações em que `match` será a escolha a fazer em seu programa. Em uma string de várias linhas, por exemplo, `match` procurará pelo padrão apenas na primeira linha e ignorará a ocorrência dele nas demais. Opostamente, `search` procurará por ele em todas as linhas. Se forem detectadas mais de uma ocorrência, retornará a posição da primeira ocorrência.\n",
    "\n",
    "- Em ambos os métodos, quando o padrão não existe na string, o objeto retornado é um `NoneType`."
   ]
  },
  {
   "cell_type": "markdown",
   "id": "a0d9e019-0933-4eed-aff3-b4cfa2285575",
   "metadata": {},
   "source": [
    "**Exemplo:** Substitua o padrão \"Virgília\" por \"Ofélia\" em toda a string do texto."
   ]
  },
  {
   "cell_type": "code",
   "execution_count": 117,
   "id": "1c538a51-9b74-437f-80da-f89b6b744f32",
   "metadata": {},
   "outputs": [
    {
     "data": {
      "text/plain": [
       "'Não durou muito a evocação; a realidade dominou logo; o presente expeliu o passado. Talvez eu exponha ao leitor, em algum canto deste livro, a minha teoria das edições humanas. O que por agora importa saber é que Ofélia — chamava-se Ofélia — entrou na alcova, firme, com a gravidade que lhe davam as roupas e os anos, e veio até o meu leito. O estranho levantou-se e saiu. Era um sujeito, que me visitava todos os dias para falar do câmbio, da colonização e da necessidade de desenvolver a viação férrea; nada mais interessante para um moribundo. Saiu; Ofélia deixou-se estar de pé; durante algum tempo ficamos a olhar um para o outro, sem articular palavra. Quem diria? De dois grandes namorados, de duas paixões sem freio, nada mais havia ali, vinte anos depois; havia apenas dois corações murchos, devastados pela vida e saciados dela, não sei se em igual dose, mas enfim saciados. Ofélia tinha agora a beleza da velhice, um ar austero e maternal; estava menos magra do que quando a vi, pela última vez, numa festa de São João, na Tijuca; e porque era das que resistem muito, só agora começavam os cabelos escuros a intercalar-se com alguns fios de prata.'"
      ]
     },
     "execution_count": 117,
     "metadata": {},
     "output_type": "execute_result"
    }
   ],
   "source": [
    "cubas_novo = re.sub('Virgília','Ofélia',cubas)\n",
    "cubas_novo"
   ]
  },
  {
   "cell_type": "markdown",
   "id": "a75d0ca8-43af-4b80-8c0e-b6de927bd5cd",
   "metadata": {},
   "source": [
    "Discussão: \n",
    "\n",
    "- O método `sub` realiza a substituição de um padrão por outro na string passada e sua sintaxe mais genérica é do tipo `re.sub(p,r,s)`, onde `p` é o padrão que se deseja substituir por `r` na string `s`. \n",
    "\n",
    "- No exemplo dado, a operação com `sub` simplesmente substituirá todas as entradas da palavra \"Vírgília\" por \"Ofélia\" em `cubas`, resultando em uma string nova chamada `cubas_novo`."
   ]
  },
  {
   "cell_type": "markdown",
   "id": "1864d07a-bb15-43fb-9071-95a2a1638029",
   "metadata": {},
   "source": [
    "**Exemplo:** Substitua o padrão \"Virgília\" por \"Ofélia\" apenas nas duas primeiras aparições"
   ]
  },
  {
   "cell_type": "code",
   "execution_count": 118,
   "id": "6d5de795-c04d-4c98-bde2-ed7029270030",
   "metadata": {},
   "outputs": [
    {
     "data": {
      "text/plain": [
       "'Não durou muito a evocação; a realidade dominou logo; o presente expeliu o passado. Talvez eu exponha ao leitor, em algum canto deste livro, a minha teoria das edições humanas. O que por agora importa saber é que Ofélia — chamava-se Ofélia — entrou na alcova, firme, com a gravidade que lhe davam as roupas e os anos, e veio até o meu leito. O estranho levantou-se e saiu. Era um sujeito, que me visitava todos os dias para falar do câmbio, da colonização e da necessidade de desenvolver a viação férrea; nada mais interessante para um moribundo. Saiu; Virgília deixou-se estar de pé; durante algum tempo ficamos a olhar um para o outro, sem articular palavra. Quem diria? De dois grandes namorados, de duas paixões sem freio, nada mais havia ali, vinte anos depois; havia apenas dois corações murchos, devastados pela vida e saciados dela, não sei se em igual dose, mas enfim saciados. Virgília tinha agora a beleza da velhice, um ar austero e maternal; estava menos magra do que quando a vi, pela última vez, numa festa de São João, na Tijuca; e porque era das que resistem muito, só agora começavam os cabelos escuros a intercalar-se com alguns fios de prata.'"
      ]
     },
     "execution_count": 118,
     "metadata": {},
     "output_type": "execute_result"
    }
   ],
   "source": [
    "cubas_novo2 = re.sub('Virgília','Ofélia',cubas,count=2)\n",
    "cubas_novo2"
   ]
  },
  {
   "cell_type": "markdown",
   "id": "fea0895a-f2ea-4f32-84fa-827dd4364b8a",
   "metadata": {},
   "source": [
    "Discussão: \n",
    "\n",
    "- É possível usar a keyword `count` e especificar quantas vezes, em ordem, o padrão deverá ser substituído. \n",
    "\n",
    "- Como `count=2`, o método `sub` fará a substituição de \"Virgília\" por \"Ofélia\" apenas nas duas primeiras ocorrências do padrão, das quatro existentes no texto."
   ]
  },
  {
   "cell_type": "markdown",
   "id": "0708925a-dd7d-4307-ad18-1ca2e0c48d1b",
   "metadata": {},
   "source": [
    "Comentários:"
   ]
  },
  {
   "cell_type": "markdown",
   "id": "0d61ed1f-7a2e-4cc5-ac0b-6ad636f85632",
   "metadata": {},
   "source": [
    "- Note que se usássemos `re.findall` para fazer uma breve verificação nas strings `cubas`, `cubas_novo` e `cubas_novo2`, o número de ocorrências de \"Virgília\" diferiria em cada caso."
   ]
  },
  {
   "cell_type": "code",
   "execution_count": 119,
   "id": "00c2cd3b-f9ac-46b5-9688-367bcf6ca2db",
   "metadata": {},
   "outputs": [
    {
     "name": "stdout",
     "output_type": "stream",
     "text": [
      "4\n",
      "0\n",
      "2\n"
     ]
    }
   ],
   "source": [
    "# original\n",
    "print(len(re.findall('Virgília',cubas)))\n",
    "\n",
    "# \"Virgília\" -> \"Ofélia\" integralmente\n",
    "print(len(re.findall('Virgília',cubas_novo)))\n",
    "\n",
    "# \"Virgília\" -> \"Ofélia\" em 2 ocorrências apenas\n",
    "print(len(re.findall('Virgília',cubas_novo2)))"
   ]
  },
  {
   "cell_type": "markdown",
   "id": "4dcd7c40-db66-48bd-8fde-23219b708149",
   "metadata": {},
   "source": [
    "**Exemplo:** Seccione o texto em várias substrings usando a vírgula (\",\") como ponto de quebra:"
   ]
  },
  {
   "cell_type": "code",
   "execution_count": 120,
   "id": "0ad5057b-c105-4952-bb95-f57230f07931",
   "metadata": {},
   "outputs": [
    {
     "data": {
      "text/plain": [
       "['Não durou muito a evocação; a realidade dominou logo; o presente expeliu o passado. Talvez eu exponha ao leitor',\n",
       " ' em algum canto deste livro',\n",
       " ' a minha teoria das edições humanas. O que por agora importa saber é que Virgília — chamava-se Virgília — entrou na alcova',\n",
       " ' firme',\n",
       " ' com a gravidade que lhe davam as roupas e os anos',\n",
       " ' e veio até o meu leito. O estranho levantou-se e saiu. Era um sujeito',\n",
       " ' que me visitava todos os dias para falar do câmbio',\n",
       " ' da colonização e da necessidade de desenvolver a viação férrea; nada mais interessante para um moribundo. Saiu; Virgília deixou-se estar de pé; durante algum tempo ficamos a olhar um para o outro',\n",
       " ' sem articular palavra. Quem diria? De dois grandes namorados',\n",
       " ' de duas paixões sem freio',\n",
       " ' nada mais havia ali',\n",
       " ' vinte anos depois; havia apenas dois corações murchos',\n",
       " ' devastados pela vida e saciados dela',\n",
       " ' não sei se em igual dose',\n",
       " ' mas enfim saciados. Virgília tinha agora a beleza da velhice',\n",
       " ' um ar austero e maternal; estava menos magra do que quando a vi',\n",
       " ' pela última vez',\n",
       " ' numa festa de São João',\n",
       " ' na Tijuca; e porque era das que resistem muito',\n",
       " ' só agora começavam os cabelos escuros a intercalar-se com alguns fios de prata.']"
      ]
     },
     "execution_count": 120,
     "metadata": {},
     "output_type": "execute_result"
    }
   ],
   "source": [
    "cubas_sep = re.split(',',cubas)\n",
    "cubas_sep"
   ]
  },
  {
   "cell_type": "markdown",
   "id": "8d282a70-792c-4527-9f1f-dddea994bc46",
   "metadata": {},
   "source": [
    "Na próxima sessão, vamos incorporar sintaxes especiais nos métodos que aprendemos para realizar propósitos bem mais avançados. "
   ]
  },
  {
   "cell_type": "markdown",
   "id": "77b1acdc-4c84-4c89-82cf-293a34c5bd00",
   "metadata": {},
   "source": [
    "Discussão: \n",
    "\n",
    "- O método `split` quebra a string em partes (_substrings_) substituindo usando o padrão passado ao método como ponto de quebra. Neste exemplo, as vírgulas são removidas e uma lista de strings é retornada.\n",
    "\n",
    "- Ao utilizar `re.split(a,b)`, lembre-se que `a` é  um padrão a ser encontrado na string `b`. Ele não é necessariamente um caracter único, mas uma expressão regular."
   ]
  },
  {
   "cell_type": "markdown",
   "id": "0a690bce-82d3-412a-8b34-3e2561e96763",
   "metadata": {},
   "source": [
    "**Exemplo:** Separe a string do texto em no máximo 3 substrings usando o padrão \"ão\" como ponto de quebra. "
   ]
  },
  {
   "cell_type": "code",
   "execution_count": 121,
   "id": "d50ce257-622e-43a7-a820-6d12f008453d",
   "metadata": {},
   "outputs": [
    {
     "data": {
      "text/plain": [
       "['N',\n",
       " ' durou muito a evocaç',\n",
       " '; a realidade dominou logo; o presente expeliu o passado. Talvez eu exponha ao leitor, em algum canto deste livro, a minha teoria das edições humanas. O que por agora importa saber é que Virgília — chamava-se Virgília — entrou na alcova, firme, com a gravidade que lhe davam as roupas e os anos, e veio até o meu leito. O estranho levantou-se e saiu. Era um sujeito, que me visitava todos os dias para falar do câmbio, da colonização e da necessidade de desenvolver a viação férrea; nada mais interessante para um moribundo. Saiu; Virgília deixou-se estar de pé; durante algum tempo ficamos a olhar um para o outro, sem articular palavra. Quem diria? De dois grandes namorados, de duas paixões sem freio, nada mais havia ali, vinte anos depois; havia apenas dois corações murchos, devastados pela vida e saciados dela, não sei se em igual dose, mas enfim saciados. Virgília tinha agora a beleza da velhice, um ar austero e maternal; estava menos magra do que quando a vi, pela última vez, numa festa de São João, na Tijuca; e porque era das que resistem muito, só agora começavam os cabelos escuros a intercalar-se com alguns fios de prata.']"
      ]
     },
     "execution_count": 121,
     "metadata": {},
     "output_type": "execute_result"
    }
   ],
   "source": [
    "# maxsplit = n; logo, n + 1 substrings\n",
    "cubas_sep3 = re.split(\"ão\",cubas,maxsplit=2)\n",
    "cubas_sep3"
   ]
  },
  {
   "cell_type": "markdown",
   "id": "d3480555-7217-47e5-8b07-c718f2d87a1c",
   "metadata": {},
   "source": [
    "Discussão: \n",
    "\n",
    "- A _keyword_ `maxsplit` permite que limitemos o número de quebras. Neste exemplo, como `maxsplit=2`, há dois pontos de quebra e, portanto, 3 substrings. \n",
    "\n",
    "- Note que, neste exemplo, a substring 1 é formada por apenas um caracter, ao passo que a substring 3 comporta todos os caracteres além da segunda ocorrência do padrão \"ão\".\n",
    "\n",
    "- Perceba, adicionalmente, que o padrão não é preservado durante o _split_."
   ]
  },
  {
   "cell_type": "markdown",
   "id": "7b05a912-d665-45d4-aad1-008152e661d8",
   "metadata": {},
   "source": [
    "### Sintaxes especiais\n",
    "\n",
    "Os metacaracteres podem ser usados para criar REs das formas mais variadas (e criativas) possíveis. Vejamos exemplos."
   ]
  },
  {
   "cell_type": "markdown",
   "id": "86a8e1d4-c504-4543-9c03-6223cd7b9076",
   "metadata": {},
   "source": [
    "#### Metacaracter `.`\n",
    "\n",
    "Serve para combinar qualquer caracter, exceto o _newline_ (`\\n`), se usado no modo padrão. Em uso não padrão, pode também combinar-se com `\\n`."
   ]
  },
  {
   "cell_type": "markdown",
   "id": "71467648-e13a-43a9-b38c-b1b0658d6495",
   "metadata": {},
   "source": [
    "**Exemplo:** Localize padrões com 5 caracteres contendo \"lh\" na 3a. e 4a. posições."
   ]
  },
  {
   "cell_type": "code",
   "execution_count": 122,
   "id": "79fa7280-3f6c-4749-b545-3f9003073196",
   "metadata": {},
   "outputs": [
    {
     "data": {
      "text/plain": [
       "['e lhe', ' olha', 'velhi']"
      ]
     },
     "execution_count": 122,
     "metadata": {},
     "output_type": "execute_result"
    }
   ],
   "source": [
    "re.findall('..lh.',cubas)"
   ]
  },
  {
   "cell_type": "markdown",
   "id": "ad3e1484-cd86-47a6-abc1-1c0578fcd936",
   "metadata": {},
   "source": [
    "Comentário: \n",
    "\n",
    "- Espaço também é um caracter. Por isso, na lista, temos também o padrão possível `'e lhe'`.\n"
   ]
  },
  {
   "cell_type": "markdown",
   "id": "21d0c96b-645a-4cb0-8b56-4057c20f4633",
   "metadata": {},
   "source": [
    "**Exemplo:** Localize padrões iniciando com a letra T maiúscula e contendo, ao todo, 3 caracteres."
   ]
  },
  {
   "cell_type": "code",
   "execution_count": 123,
   "id": "77c5c165-1ab5-4d8e-9067-88e9d5393be3",
   "metadata": {},
   "outputs": [
    {
     "data": {
      "text/plain": [
       "['Talv', 'Tiju']"
      ]
     },
     "execution_count": 123,
     "metadata": {},
     "output_type": "execute_result"
    }
   ],
   "source": [
    "re.findall('T...',cubas)"
   ]
  },
  {
   "cell_type": "markdown",
   "id": "da02b9c9-6d48-455b-bc0b-21c9f1b4640e",
   "metadata": {},
   "source": [
    "#### Metacaracter `\\`\n",
    "\n",
    "Serve para criar escapes de caracteres especiais ou sinalizar uma sequência especial."
   ]
  },
  {
   "cell_type": "markdown",
   "id": "81bea7af-e85b-4736-9455-8431ba7586f2",
   "metadata": {},
   "source": [
    "**Exemplo:** Quebre a string usando o ponto final (\".\") como ponto de quebra."
   ]
  },
  {
   "cell_type": "code",
   "execution_count": 124,
   "id": "b5038665-17a7-4efa-adbd-f60db754ee41",
   "metadata": {},
   "outputs": [
    {
     "data": {
      "text/plain": [
       "['Não durou muito a evocação; a realidade dominou logo; o presente expeliu o passado',\n",
       " ' Talvez eu exponha ao leitor, em algum canto deste livro, a minha teoria das edições humanas',\n",
       " ' O que por agora importa saber é que Virgília — chamava-se Virgília — entrou na alcova, firme, com a gravidade que lhe davam as roupas e os anos, e veio até o meu leito',\n",
       " ' O estranho levantou-se e saiu',\n",
       " ' Era um sujeito, que me visitava todos os dias para falar do câmbio, da colonização e da necessidade de desenvolver a viação férrea; nada mais interessante para um moribundo',\n",
       " ' Saiu; Virgília deixou-se estar de pé; durante algum tempo ficamos a olhar um para o outro, sem articular palavra',\n",
       " ' Quem diria? De dois grandes namorados, de duas paixões sem freio, nada mais havia ali, vinte anos depois; havia apenas dois corações murchos, devastados pela vida e saciados dela, não sei se em igual dose, mas enfim saciados',\n",
       " ' Virgília tinha agora a beleza da velhice, um ar austero e maternal; estava menos magra do que quando a vi, pela última vez, numa festa de São João, na Tijuca; e porque era das que resistem muito, só agora começavam os cabelos escuros a intercalar-se com alguns fios de prata',\n",
       " '']"
      ]
     },
     "execution_count": 124,
     "metadata": {},
     "output_type": "execute_result"
    }
   ],
   "source": [
    "# escape do metacaracter '.'\n",
    "mt1 = re.split('\\.',cubas)\n",
    "mt1"
   ]
  },
  {
   "cell_type": "markdown",
   "id": "2115cc7f-3817-4715-b1c1-dcdea5f0519e",
   "metadata": {},
   "source": [
    "Comentário:\n",
    "\n",
    "- Note que, todas as substrings intermediárias passaram a iniciar-se com um caracter de espaço. Como isto é pouco útil para nós, poderíamos ter utilizado o padrão `. ` (com espaço) para realizar a quebra."
   ]
  },
  {
   "cell_type": "code",
   "execution_count": 125,
   "id": "c73aa93a-637a-48e2-8659-b064343aabaa",
   "metadata": {},
   "outputs": [
    {
     "data": {
      "text/plain": [
       "['Não durou muito a evocação; a realidade dominou logo; o presente expeliu o passado',\n",
       " 'Talvez eu exponha ao leitor, em algum canto deste livro, a minha teoria das edições humanas',\n",
       " 'O que por agora importa saber é que Virgília — chamava-se Virgília — entrou na alcova, firme, com a gravidade que lhe davam as roupas e os anos, e veio até o meu leito',\n",
       " 'O estranho levantou-se e saiu',\n",
       " 'Era um sujeito, que me visitava todos os dias para falar do câmbio, da colonização e da necessidade de desenvolver a viação férrea; nada mais interessante para um moribundo',\n",
       " 'Saiu; Virgília deixou-se estar de pé; durante algum tempo ficamos a olhar um para o outro, sem articular palavra',\n",
       " 'Quem diria? De dois grandes namorados, de duas paixões sem freio, nada mais havia ali, vinte anos depois; havia apenas dois corações murchos, devastados pela vida e saciados dela, não sei se em igual dose, mas enfim saciados',\n",
       " 'Virgília tinha agora a beleza da velhice, um ar austero e maternal; estava menos magra do que quando a vi, pela última vez, numa festa de São João, na Tijuca; e porque era das que resistem muito, só agora começavam os cabelos escuros a intercalar-se com alguns fios de prata.']"
      ]
     },
     "execution_count": 125,
     "metadata": {},
     "output_type": "execute_result"
    }
   ],
   "source": [
    "# considera um espaço no padrão\n",
    "mt2 = re.split('\\. ',cubas)\n",
    "mt2"
   ]
  },
  {
   "cell_type": "markdown",
   "id": "f10d252d-6fe0-4503-ba2e-5354663ac217",
   "metadata": {},
   "source": [
    "#### Metacaracter `^`\n",
    "\n",
    "Também chamado _caret_, serve para buscar padrões no início de uma string. "
   ]
  },
  {
   "cell_type": "markdown",
   "id": "8f2526ec-7020-4e1c-8d25-9478f09798c2",
   "metadata": {},
   "source": [
    "**Exemplo:** Use as substrings do exemplo anterior para buscar quais delas iniciam-se por `'T'`."
   ]
  },
  {
   "cell_type": "code",
   "execution_count": 126,
   "id": "58acbd80-a056-491a-baf6-8164a0992a5d",
   "metadata": {},
   "outputs": [
    {
     "name": "stdout",
     "output_type": "stream",
     "text": [
      "---> Padrão detectado na substring 1:\n",
      "\"Talvez eu exponha ao leitor, em algum canto deste livro, a minha teoria das edições humanas\"\n"
     ]
    }
   ],
   "source": [
    "for k,s in enumerate(mt2):\n",
    "    aux = re.match('^T',s)\n",
    "    if aux: # se lista não for vazia\n",
    "        print(f'---> Padrão detectado na \\\n",
    "substring {k}:\\n\\\"{s}\\\"')"
   ]
  },
  {
   "cell_type": "markdown",
   "id": "d3a65ed5-a459-41a3-bbfe-e383e4b88a76",
   "metadata": {},
   "source": [
    "Comentário:\n",
    "\n",
    "- Poderíamos ter usado `re.search` ou `re.match` também para atingir o mesmo propósito, visto que a expressão regular `'^T'` força o início com \"T\"."
   ]
  },
  {
   "cell_type": "markdown",
   "id": "59e3d106-2752-420b-a43d-e0745b0508f0",
   "metadata": {},
   "source": [
    "#### Metacaracter `$`\n",
    "\n",
    "Visto em sentido oposto a `^`, `$` serve para buscar padrões no final de uma string, ou logo antes de um caracter _newline_."
   ]
  },
  {
   "cell_type": "markdown",
   "id": "8b1d1687-194b-4893-8c09-89155edf8d9e",
   "metadata": {},
   "source": [
    "**Exemplo:** Use as substrings do exemplo anterior para buscar quais delas terminam por `'o'`."
   ]
  },
  {
   "cell_type": "code",
   "execution_count": 127,
   "id": "36644987-99f9-40ef-9ca6-fc3f70085f76",
   "metadata": {},
   "outputs": [
    {
     "name": "stdout",
     "output_type": "stream",
     "text": [
      "---> Padrão detectado na substring 0:\n",
      "\"Não durou muito a evocação; a realidade dominou logo; o presente expeliu o passado\"\n",
      "---> Padrão detectado na substring 2:\n",
      "\"O que por agora importa saber é que Virgília — chamava-se Virgília — entrou na alcova, firme, com a gravidade que lhe davam as roupas e os anos, e veio até o meu leito\"\n",
      "---> Padrão detectado na substring 4:\n",
      "\"Era um sujeito, que me visitava todos os dias para falar do câmbio, da colonização e da necessidade de desenvolver a viação férrea; nada mais interessante para um moribundo\"\n"
     ]
    }
   ],
   "source": [
    "for k,s in enumerate(mt2):\n",
    "    aux = re.findall('o$',s)\n",
    "    if aux: # se lista não for vazia\n",
    "        print(f'---> Padrão detectado na \\\n",
    "substring {k}:\\n\\\"{s}\\\"')"
   ]
  },
  {
   "cell_type": "markdown",
   "id": "b55f32d5-fdbe-4a5b-b1e4-4197732f0d4b",
   "metadata": {},
   "source": [
    "Discussão: \n",
    "\n",
    "- Neste exemplo, identificamos todas as substrings que terminam com o caracter 'o'.\n",
    "\n",
    "- Com expressões regulares mais exatas, restringimos as possibilidades. Vejamos o exemplo a seguir."
   ]
  },
  {
   "cell_type": "code",
   "execution_count": 128,
   "id": "b545b2bd-c190-40d3-a386-c03ba64007c7",
   "metadata": {},
   "outputs": [
    {
     "name": "stdout",
     "output_type": "stream",
     "text": [
      "---> Padrão detectado na substring 4:\n",
      "\"Era um sujeito, que me visitava todos os dias para falar do câmbio, da colonização e da necessidade de desenvolver a viação férrea; nada mais interessante para um moribundo\"\n"
     ]
    }
   ],
   "source": [
    "# busca substring terminando com 'undo'\n",
    "for k,s in enumerate(mt2):\n",
    "    aux = re.findall('undo$',s)\n",
    "    if aux: # se lista não for vazia\n",
    "        print(f'---> Padrão detectado na \\\n",
    "substring {k}:\\n\\\"{s}\\\"')"
   ]
  },
  {
   "cell_type": "markdown",
   "id": "1adca21c-04b8-43ed-a2f5-30eecc26df72",
   "metadata": {},
   "source": [
    "Comentário:\n",
    "\n",
    "- Note que para buscar o caracter literal '$' em uma string devemos usar o caracter de escape. Vejamos o próximo exemplo."
   ]
  },
  {
   "cell_type": "code",
   "execution_count": 129,
   "id": "02645cea-f084-47ea-b530-a468a352c1bf",
   "metadata": {},
   "outputs": [
    {
     "name": "stdout",
     "output_type": "stream",
     "text": [
      "Caracter $ identificado na posição 15.\n"
     ]
    }
   ],
   "source": [
    "real = 'João me pagou R$ 150,00.'\n",
    "v = re.search('\\$',real)\n",
    "print(f'Caracter $ identificado na posição {v.start()}.')"
   ]
  },
  {
   "cell_type": "markdown",
   "id": "8380316c-9821-450f-8a54-5f9d2086e461",
   "metadata": {},
   "source": [
    "#### Metacaracter `*`\n",
    "\n",
    "Serve para buscar 0 ou mais repetições de um caracter precedente. Este caracter especial é de _repetição_."
   ]
  },
  {
   "cell_type": "markdown",
   "id": "15fc43d4-a024-4234-9c8b-bc135b9e16f1",
   "metadata": {},
   "source": [
    "**Exemplo:**"
   ]
  },
  {
   "cell_type": "code",
   "execution_count": 130,
   "id": "edd09fac-5103-439c-b282-a09ae69240db",
   "metadata": {},
   "outputs": [
    {
     "data": {
      "text/plain": [
       "['ha ', 'ha ', 'ham', 'har', 'havi', 'havi', 'ha ']"
      ]
     },
     "execution_count": 130,
     "metadata": {},
     "output_type": "execute_result"
    }
   ],
   "source": [
    "re.findall('hav*.',cubas)"
   ]
  },
  {
   "cell_type": "markdown",
   "id": "0bb54b61-9451-4e07-a2ca-50c3e0202dc8",
   "metadata": {},
   "source": [
    "Discussão: \n",
    "\n",
    "- A RE `'hav*.'` procura por padrões que atendem às seguintes restrições: \n",
    "    - o caracter 'v' aparece 0 ou mais vezes após 'ha'.\n",
    "    - quando não houver 'v', o terceiro caracter passa a ser qualquer um que vier na sequência por causa do metacaracter '.'. \n",
    "    - quando houver um 'v', o quarto caracter é qualquer um\n",
    "    - quando houver n repetições de 'v' após 'a', todos os n são considerados, e o n+1-ésimo caracter é qualquer um."
   ]
  },
  {
   "cell_type": "markdown",
   "id": "f6cfa112-d732-4dc0-82e3-e6a2eb351481",
   "metadata": {},
   "source": [
    "Comentários: \n",
    "\n",
    "- Descrever em palavras o que a expressão regular faz exatamente não é sempre muito fácil. Vejamos mais um exemplo.\n",
    "    "
   ]
  },
  {
   "cell_type": "code",
   "execution_count": 131,
   "id": "c4a3c202-4707-4ae5-8801-288cca06106e",
   "metadata": {},
   "outputs": [
    {
     "data": {
      "text/plain": [
       "['ha ', 'hah', 'hav ', 'havv ', 'havva', 'havvva', 'hai', 'havi']"
      ]
     },
     "execution_count": 131,
     "metadata": {},
     "output_type": "execute_result"
    }
   ],
   "source": [
    "c = 'ha hahaa hav havv havva-havvva; haiiaa havia'\n",
    "\n",
    "re.findall('hav*.',c)"
   ]
  },
  {
   "cell_type": "markdown",
   "id": "520f2a51-01f3-4cc2-8d31-59754f874edb",
   "metadata": {},
   "source": [
    "#### Metacaracter `+`\n",
    "\n",
    "Serve para buscar 1 ou mais repetições de um caracter precedente. Assim como `*`, `+` também é um caracter especial de _repetição_."
   ]
  },
  {
   "cell_type": "markdown",
   "id": "8ba56bf8-4880-4ee6-b209-cc7f61a227a3",
   "metadata": {},
   "source": [
    "**Exemplo:**"
   ]
  },
  {
   "cell_type": "code",
   "execution_count": 132,
   "id": "802dc438-f30d-4fe3-a9d6-6dceaf5666b7",
   "metadata": {},
   "outputs": [
    {
     "data": {
      "text/plain": [
       "['havi', 'havi']"
      ]
     },
     "execution_count": 132,
     "metadata": {},
     "output_type": "execute_result"
    }
   ],
   "source": [
    "re.findall('hav+.',cubas)"
   ]
  },
  {
   "cell_type": "markdown",
   "id": "9e42cc43-0a45-41e7-85ad-e32fb14a9e7f",
   "metadata": {},
   "source": [
    "Discussão: \n",
    "\n",
    "- A RE `'hav+.'` é similar à anterior. Porém, pelo fato de ser obrigatória a ocorrência de pelo menos 1 caracter 'v' após 'a', os padrões 'ha ', 'ham' e 'har' são excluídos.\n",
    "- Se encontradas n ocorrências de 'v', o padrão será encerrado pelo n+1-ésimo caracter arbitrário\n",
    "- Como no texto existe tal padrão com apenas uma ocorrência de 'v', o quarto caracter, sendo arbitrário, é encontrado como 'i'.\n",
    "- O padrão 'havia', que forma uma palavra compreensível em Português, é ignorado por conter 5 caracteres."
   ]
  },
  {
   "cell_type": "markdown",
   "id": "609f35f9-bc5c-4746-a8f9-4fde6f351334",
   "metadata": {},
   "source": [
    "#### Metacaracter `?`\n",
    "\n",
    "Serve para buscar 0 ou 1 repetição de um caracter precedente. Assim como `*`, `+` também é um caracter especial de _repetição_."
   ]
  },
  {
   "cell_type": "markdown",
   "id": "a35debaa-88af-4397-b1aa-75f0f99b3244",
   "metadata": {},
   "source": [
    "**Exemplo:**"
   ]
  },
  {
   "cell_type": "code",
   "execution_count": 133,
   "id": "5653d416-00de-40a7-949a-4e50c30ff537",
   "metadata": {},
   "outputs": [
    {
     "data": {
      "text/plain": [
       "['ant', 'ana', 'ano', 'anh', 'ant', 'sant', 'ant', 'and', 'ano', 'and']"
      ]
     },
     "execution_count": 133,
     "metadata": {},
     "output_type": "execute_result"
    }
   ],
   "source": [
    "re.findall('s?an.',cubas)"
   ]
  },
  {
   "cell_type": "markdown",
   "id": "91ecd61c-e99e-4356-8d79-62afdbb3c8bd",
   "metadata": {},
   "source": [
    "Comentários: \n",
    "\n",
    "- Esta RE procurará por 0 ou 1 repetição de 's' seguida por 'an' e qualquer outro caracter. \n",
    "\n",
    "- Neste caso, a substring 'ssan', por exemplo, existente na palavra 'interessante' não seria coberta por `?`."
   ]
  },
  {
   "cell_type": "markdown",
   "id": "5c5dabfa-064a-4e9b-9804-7c57a68ccdef",
   "metadata": {},
   "source": [
    "#### Metacaracteres `[]`\n",
    "\n",
    "Os colchetes devem ser usados, juntos, em par, para indicar um conjunto de caracteres sobre os quais a expressão regular deve operar. Em geral, usa-se o par `[]` para os seguintes propósitos: "
   ]
  },
  {
   "cell_type": "markdown",
   "id": "9f0cb10b-8a60-4ac3-b91a-8526be565bf1",
   "metadata": {},
   "source": [
    "- Listar caracteres individualmente\n",
    "\n",
    "A RE `[vnd]` combinará os caracteres `'v'`, `'n'` ou `'d'`."
   ]
  },
  {
   "cell_type": "markdown",
   "id": "f8410be8-502f-465c-a695-d51a9d97c36a",
   "metadata": {},
   "source": [
    "**Exemplo:**"
   ]
  },
  {
   "cell_type": "code",
   "execution_count": 134,
   "id": "e44f7a14-1f51-4994-a275-337b2b31cd7f",
   "metadata": {},
   "outputs": [
    {
     "name": "stdout",
     "output_type": "stream",
     "text": [
      "['d', 'v', 'd', 'd', 'd', 'n', 'n', 'd', 'v', 'n', 'n', 'd', 'v', 'n', 'd', 'd', 'n', 'v', 'n', 'n', 'v', 'v', 'd', 'd', 'd', 'v', 'n', 'v', 'n', 'v', 'n', 'v', 'v', 'd', 'd', 'd', 'd', 'n', 'd', 'n', 'd', 'd', 'd', 'd', 'n', 'v', 'v', 'v', 'n', 'd', 'n', 'n', 'n', 'd', 'd', 'd', 'd', 'n', 'v', 'd', 'd', 'n', 'd', 'n', 'd', 'd', 'd', 'n', 'd', 'v', 'v', 'n', 'n', 'd', 'v', 'n', 'd', 'd', 'v', 'd', 'v', 'd', 'd', 'd', 'n', 'd', 'n', 'd', 'n', 'd', 'v', 'n', 'v', 'n', 'd', 'n', 'd', 'v', 'v', 'n', 'd', 'n', 'd', 'v', 'n', 'n', 'd']\n"
     ]
    }
   ],
   "source": [
    "# localiza todas as ocorrências \n",
    "# de 'v', 'n', ou 'd'\n",
    "print(re.findall('[vnd]',cubas))"
   ]
  },
  {
   "cell_type": "markdown",
   "id": "451c3870-0faa-400f-baef-e63a5dd893cd",
   "metadata": {},
   "source": [
    "- Localizar um intervalo de caracteres\n",
    "\n",
    "Uma RE do tipo `[a-d]` combinará os caracteres de `'a'` a `'d'`, ao passo que `[a-z]` combinará todas as letras minúsculas da tabela ASCII (e não Unicode!), ou seja, de `'a'` a `'z'`.\n",
    "\n",
    "Do mesmo modo, `[0-4]` combinará os dígitos de 0 a 4, e `[0-9]` todos os dígitos decimais. Por outro lado, a expressão `[0-3][3-8]` combinará todos os números de dois dígitos de 03 a 38.\n",
    "\n",
    "Se o símbolo `-` for escapado (p.ex. `[a\\-d]`), ou se for colocado como primeiro ou último caracter (p.ex. `[-b]` ou `[b-]`), ele significará o hífen literal ('-')."
   ]
  },
  {
   "cell_type": "markdown",
   "id": "431dfefa-2d66-4873-9595-50bf4abbb2f8",
   "metadata": {},
   "source": [
    "**Exemplo:**"
   ]
  },
  {
   "cell_type": "code",
   "execution_count": 135,
   "id": "e6eb3022-1233-4b7b-8ec3-30dfe137317a",
   "metadata": {},
   "outputs": [
    {
     "data": {
      "text/plain": [
       "['gum', 'hum', 'gum', 'num']"
      ]
     },
     "execution_count": 135,
     "metadata": {},
     "output_type": "execute_result"
    }
   ],
   "source": [
    "re.findall('[a-z]um',cubas)"
   ]
  },
  {
   "cell_type": "markdown",
   "id": "c6c52482-2f06-452e-89a2-725a904598ee",
   "metadata": {},
   "source": [
    "Discussão: \n",
    "\n",
    "- Esta RE procurará todos os padrões que iniciam por qualquer letra minúscula (de 'a' a 'z') seguidas por 'um'."
   ]
  },
  {
   "cell_type": "markdown",
   "id": "f3dfef0a-95c4-40a1-92d6-d6b61f8fdbc7",
   "metadata": {},
   "source": [
    "**Exemplo:**"
   ]
  },
  {
   "cell_type": "code",
   "execution_count": 136,
   "id": "0a3e2888-81d1-45db-b357-6bd91bbb54ad",
   "metadata": {},
   "outputs": [
    {
     "data": {
      "text/plain": [
       "['va-', 'va,', 'vam', 'van', 'va ', 'zaç', 'vas', 'za ', 'va ', 'vam']"
      ]
     },
     "execution_count": 136,
     "metadata": {},
     "output_type": "execute_result"
    }
   ],
   "source": [
    "re.findall('[v-z][a-].',cubas)"
   ]
  },
  {
   "cell_type": "markdown",
   "id": "9156abc2-2a71-43e8-b3b0-54bf779e8c60",
   "metadata": {},
   "source": [
    "Discussão: \n",
    "\n",
    "- Esta RE procurará todos os padrões que iniciam por uma letra minúscula entre 'v' e 'z' seguidas por 'a', '-', ou 'a-' e um caracter qualquer adicional."
   ]
  },
  {
   "cell_type": "markdown",
   "id": "769e8ee0-ec81-46a6-99f1-6fb12c7682f2",
   "metadata": {},
   "source": [
    "**Exemplo:**"
   ]
  },
  {
   "cell_type": "code",
   "execution_count": 137,
   "id": "974b182b-bcf6-4766-8252-0112b54feffe",
   "metadata": {},
   "outputs": [
    {
     "data": {
      "text/plain": [
       "['va-', 'va,', 'vam', 'van', 'va ', 'zaç', 'vas', 'za ', 'va ', 'vam']"
      ]
     },
     "execution_count": 137,
     "metadata": {},
     "output_type": "execute_result"
    }
   ],
   "source": [
    "# mesmo efeito que anterior\n",
    "re.findall('[v-z][-a].',cubas)"
   ]
  },
  {
   "cell_type": "markdown",
   "id": "c6c2f485-28f5-44c8-b613-7b470aac7f06",
   "metadata": {},
   "source": [
    "- Localizar caracteres especiais como literais\n",
    "\n",
    "Os caracteres especiais perdem seu status quando aparecem entre colchetes. Por exemplo, a RE `[(+*)]` procurará por qualquer um dos literais `(`, `+`, `*` ou `)`."
   ]
  },
  {
   "cell_type": "code",
   "execution_count": 138,
   "id": "432d18c9-4726-4cc1-adb0-4d3e9ab3b64a",
   "metadata": {},
   "outputs": [
    {
     "data": {
      "text/plain": [
       "['3)', '6*']"
      ]
     },
     "execution_count": 138,
     "metadata": {},
     "output_type": "execute_result"
    }
   ],
   "source": [
    "ex = 'Quanto é (22 + 3)*1 - 6*1?'\n",
    "re.findall('[0-9][)*]',ex)"
   ]
  },
  {
   "cell_type": "markdown",
   "id": "fbf37e9c-b16a-40ef-a1da-6897315b05cc",
   "metadata": {},
   "source": [
    "Discussão:\n",
    "\n",
    "- Esta RE busca padrões em que um dígito de 0 a 9 precede um ')' ou '*' literalmente."
   ]
  },
  {
   "cell_type": "code",
   "execution_count": 139,
   "id": "0d5a48bf-b5e0-4a45-a107-ec1babbde291",
   "metadata": {},
   "outputs": [
    {
     "data": {
      "text/plain": [
       "['1?']"
      ]
     },
     "execution_count": 139,
     "metadata": {},
     "output_type": "execute_result"
    }
   ],
   "source": [
    "re.findall('[0-9][?]',ex)"
   ]
  },
  {
   "cell_type": "markdown",
   "id": "8f475a3e-c840-464d-ba81-4219cb04f8a1",
   "metadata": {},
   "source": [
    "Discussão:\n",
    "\n",
    "- Esta RE busca padrões em que um dígito de 0 a 9 precede um '?' literal."
   ]
  },
  {
   "cell_type": "markdown",
   "id": "e865630c-2edd-46dc-a965-6c1413b5e9d5",
   "metadata": {},
   "source": [
    "#### Metacaracteres `{}`\n",
    "\n",
    "As chaves, assim como os colchetes, devem ser usadas juntas, em par, para localizar cópias ou repetições de uma expressão regular. Em geral, ela é usada para os seguintes objetivos:"
   ]
  },
  {
   "cell_type": "markdown",
   "id": "bc7d704e-c8d2-46ea-a7be-8dbdda7f8447",
   "metadata": {},
   "source": [
    "- Localizar exatamente _m_ cópias de uma RE anterior"
   ]
  },
  {
   "cell_type": "markdown",
   "id": "668617d4-7787-4c56-b312-71c8d52fce95",
   "metadata": {},
   "source": [
    "**Exemplo:**"
   ]
  },
  {
   "cell_type": "code",
   "execution_count": 140,
   "id": "d9b23006-0f6d-495c-8fa2-a277bc46bdff",
   "metadata": {},
   "outputs": [
    {
     "data": {
      "text/plain": [
       "'rr'"
      ]
     },
     "execution_count": 140,
     "metadata": {},
     "output_type": "execute_result"
    }
   ],
   "source": [
    "# busca pelo padrão 'rr'\n",
    "re.search('r{2}',cubas).group()"
   ]
  },
  {
   "cell_type": "markdown",
   "id": "76d2688a-56c0-4082-a850-1da81fd51827",
   "metadata": {},
   "source": [
    "**Exemplo:**"
   ]
  },
  {
   "cell_type": "code",
   "execution_count": 141,
   "id": "8382ab9e-e19c-45c2-89ef-bb763608f898",
   "metadata": {},
   "outputs": [
    {
     "data": {
      "text/plain": [
       "['00', '00', '00', '00', '00', '00']"
      ]
     },
     "execution_count": 141,
     "metadata": {},
     "output_type": "execute_result"
    }
   ],
   "source": [
    "ex2 = '0110011000110011001010110100110111111000'\n",
    "re.findall('0{2}',ex2)"
   ]
  },
  {
   "cell_type": "code",
   "execution_count": 142,
   "id": "f50a94c7-1948-46da-b3ae-8449453a8049",
   "metadata": {},
   "outputs": [
    {
     "data": {
      "text/plain": [
       "['111', '111']"
      ]
     },
     "execution_count": 142,
     "metadata": {},
     "output_type": "execute_result"
    }
   ],
   "source": [
    "re.findall('1{3}',ex2)"
   ]
  },
  {
   "cell_type": "code",
   "execution_count": 143,
   "id": "820b7882-81d8-4800-8f5b-06eef4363dd5",
   "metadata": {},
   "outputs": [
    {
     "data": {
      "text/plain": [
       "['011001', '100011', '001100', '101011', '010011', '011111']"
      ]
     },
     "execution_count": 143,
     "metadata": {},
     "output_type": "execute_result"
    }
   ],
   "source": [
    "# busca 000000 - 111111\n",
    "# com variações de 0,1 intermediárias\n",
    "re.findall('[0-1]{6}',ex2)"
   ]
  },
  {
   "cell_type": "markdown",
   "id": "0ebd08df-a862-43f7-8192-386e0715cf03",
   "metadata": {},
   "source": [
    "- Localizar entre _m_ e _n_ repetições de uma RE anterior"
   ]
  },
  {
   "cell_type": "markdown",
   "id": "4d3f8a42-6fc4-466a-a903-e54ff332334f",
   "metadata": {},
   "source": [
    "**Exemplos:**"
   ]
  },
  {
   "cell_type": "code",
   "execution_count": 144,
   "id": "5501d95e-a93b-4053-93a5-dc38ce5bf51d",
   "metadata": {},
   "outputs": [
    {
     "data": {
      "text/plain": [
       "{'100', '1000'}"
      ]
     },
     "execution_count": 144,
     "metadata": {},
     "output_type": "execute_result"
    }
   ],
   "source": [
    "set(re.findall('10{2,3}',ex2))"
   ]
  },
  {
   "cell_type": "code",
   "execution_count": 145,
   "id": "06110f51-dd18-4d01-9ec9-c1040d948031",
   "metadata": {},
   "outputs": [
    {
     "data": {
      "text/plain": [
       "{'011', '0111'}"
      ]
     },
     "execution_count": 145,
     "metadata": {},
     "output_type": "execute_result"
    }
   ],
   "source": [
    "set(re.findall('01{2,3}',ex2))"
   ]
  },
  {
   "cell_type": "code",
   "execution_count": 146,
   "id": "a0911813-7d87-4493-8d72-95c8a2cf3f02",
   "metadata": {},
   "outputs": [
    {
     "data": {
      "text/plain": [
       "{'001', '010', '011', '100', '101', '111'}"
      ]
     },
     "execution_count": 146,
     "metadata": {},
     "output_type": "execute_result"
    }
   ],
   "source": [
    "set(re.findall('[0-1]{2,3}',ex2))"
   ]
  },
  {
   "cell_type": "markdown",
   "id": "ca05e224-22e2-4619-b913-711582dfdf9c",
   "metadata": {},
   "source": [
    "#### Metacaracter `|`\n",
    "\n",
    "Usamos o _pipe_ para significar \"ou\" com o objetivo de localizar mais de uma RE. Por exemplo, `A|B` buscará padrões determinados pela RE `A` **ou** por `B`. _Pipes_ adicionais constroem sintaxes conjuntivas. Ou seja, `A|B|C|D...|Z` significaria \"A ou B ou C ou ... D\"."
   ]
  },
  {
   "cell_type": "markdown",
   "id": "636f47b5-5468-480a-872a-f7971d5c4848",
   "metadata": {},
   "source": [
    "**Exemplos:**"
   ]
  },
  {
   "cell_type": "code",
   "execution_count": 147,
   "id": "c0168ddd-0ce6-4e58-81f4-9c8fed74641b",
   "metadata": {},
   "outputs": [
    {
     "data": {
      "text/plain": [
       "['ssa', 'rre', 'ssa']"
      ]
     },
     "execution_count": 147,
     "metadata": {},
     "output_type": "execute_result"
    }
   ],
   "source": [
    "# busca por 'rre' ou 'ssa'\n",
    "re.findall('r{2}e|s{2}a',cubas)"
   ]
  },
  {
   "cell_type": "code",
   "execution_count": 148,
   "id": "9b55fc5f-4167-4eda-ac72-bafc3e2865c4",
   "metadata": {},
   "outputs": [
    {
     "data": {
      "text/plain": [
       "['pre', 'cha', 'lha', 'cho', 'lhi', 'pra']"
      ]
     },
     "execution_count": 148,
     "metadata": {},
     "output_type": "execute_result"
    }
   ],
   "source": [
    "# busca por 'cha', 'cho' ou\n",
    "# 'lha', 'lhi' ou \n",
    "# 'pra', 'pre', 'pri', 'pro', 'pru'\n",
    "re.findall('ch[ao]|lh[ai]|pr[aeiou]',cubas)"
   ]
  },
  {
   "cell_type": "markdown",
   "id": "8744e2aa-15a1-4a06-a78a-9f406329f77d",
   "metadata": {},
   "source": [
    "#### Metacaracteres `()`\n",
    "\n",
    "Servem para criar _grupos de captura_. Um grupo de captura é formado por uma RE confinada entre parênteses. Grupos de captura podem ser aplicados para extrair padrões que possuam uma certa estrutura. "
   ]
  },
  {
   "cell_type": "markdown",
   "id": "90532f34-da33-4746-a498-4bf3db64be9c",
   "metadata": {},
   "source": [
    "**Exemplo**:"
   ]
  },
  {
   "cell_type": "code",
   "execution_count": 149,
   "id": "b23758f6-e7d0-49a7-b498-293cc6e08626",
   "metadata": {},
   "outputs": [
    {
     "name": "stdout",
     "output_type": "stream",
     "text": [
      "('alfa00', 'LAX')\n",
      "('beta22', 'PET')\n",
      "('zeta92', 'XIR')\n"
     ]
    }
   ],
   "source": [
    "table = ['alfa00-LAX','beta22-PET', 'zeta92-XIR']\n",
    "\n",
    "for t in table:\n",
    "    pat = re.match(\"([a-z][a-z][a-z][a-z][0-9][0-9])-([A-Z]{3})\", t)\n",
    "    if pat:\n",
    "        print(pat.groups())"
   ]
  },
  {
   "cell_type": "markdown",
   "id": "c4131e9e-8594-4e7a-8353-0e02e3157651",
   "metadata": {},
   "source": [
    "Discussão: \n",
    "\n",
    "- A RE acima é composta de dois grupos de captura que são separados pelo `-` literal. \n",
    "\n",
    "- O primeiro grupo de captura é `([a-z][a-z][a-z][a-z][0-9][0-9])`\n",
    "\n",
    "- O segundo grupo de captura é `([A-Z]{3})`\n",
    "\n",
    "- Tuplas com dois elementos são impressas com `groups()`."
   ]
  },
  {
   "cell_type": "markdown",
   "id": "dc996a4b-3b10-4ad5-bf59-750681441982",
   "metadata": {},
   "source": [
    "Comentários: \n",
    "\n",
    "- Como se vê, os grupos de captura permitiram que identificássemos padrões separados em uma lista de strings que continha uma estrutura predefinida. \n",
    "\n",
    "- Entretanto, as REs anteriores criadas como grupos de captura poderiam ser definidas de uma forma muito mais concisa através de _identificadores_."
   ]
  },
  {
   "cell_type": "markdown",
   "id": "756aa4ee-1695-4357-be07-0d5dc7ca5330",
   "metadata": {},
   "source": [
    "#### Identificadores e _tokens_ gerais\n",
    "\n",
    "Ao trabalhar com REs, podemos utilizar identificadores e _tokens_ diversos para significar padrões de maneira concisa. \n",
    "\n",
    "O exemplo anterior sobre grupos de captura, por exemplo, poderia ser escrito de outra forma:"
   ]
  },
  {
   "cell_type": "code",
   "execution_count": 150,
   "id": "1a1d619a-edfb-43b0-8753-9968c8ae65ca",
   "metadata": {},
   "outputs": [
    {
     "name": "stdout",
     "output_type": "stream",
     "text": [
      "('alfa00', 'LAX')\n",
      "('beta22', 'PET')\n",
      "('zeta92', 'XIR')\n"
     ]
    }
   ],
   "source": [
    "for t in table:\n",
    "    pat = re.match(\"(\\w+)\\W(\\w+)\", t)\n",
    "    if pat:\n",
    "        print(pat.groups())"
   ]
  },
  {
   "cell_type": "markdown",
   "id": "aaef0614-e9f8-483d-81df-67dda87dbb31",
   "metadata": {},
   "source": [
    "Neste caso, `\\w` e  `\\W` são chamados _identificadores_."
   ]
  },
  {
   "cell_type": "markdown",
   "id": "21a2d481-0a5f-49b8-a81c-62102bbd1d03",
   "metadata": {},
   "source": [
    "A tabela a seguir resume os principais identificadores e seu significado.\n",
    "\n",
    "|Identificador|Significado|\n",
    "|---|---|\n",
    "|`\\d`|qualquer caracter que é um dígito decimal. Equivalente a `[0-9]`|\n",
    "|`\\D`|qualquer caracter exceto dígido (não-dígito). Equivalente a `[^0-9]`|\n",
    "|`\\w`|qualquer caracter Unicode. Se a flag `ASCII` for utilizada, equivale ao conjunto `[a-zA-Z0-9_]`|\n",
    "|`\\W`|o oposto de `\\w`. Se a flag `ASCII` for utilizada, equivale ao conjunto `[^a-zA-Z0-9_]`|\n",
    "|`\\s`|qualquer caracter que é um espaço.|\n",
    "|`\\S`|qualquer caracter que não seja espaço.|\n",
    "\n",
    "A tabela a seguir resume _tokens_ gerais e seu significado.\n",
    "\n",
    "|_Token_|Significado|\n",
    "|---|---|\n",
    "|`\\n`|quebra de linha. _Newline_.|\n",
    "|`\\r`|_carriage return_|\n",
    "|`\\t`|TAB|\n",
    "|`\\0`|caracter nulo|"
   ]
  },
  {
   "cell_type": "markdown",
   "id": "3fc7bf60-3d6d-4f83-9754-e5ce206ab0d2",
   "metadata": {},
   "source": [
    "**Exemplo:** Identificando padrões de data e hora. "
   ]
  },
  {
   "cell_type": "code",
   "execution_count": 151,
   "id": "4d6ecd68-17d5-44e5-bb6e-53500dde6e73",
   "metadata": {},
   "outputs": [
    {
     "name": "stdout",
     "output_type": "stream",
     "text": [
      "('2021', '04', '06', '10', '32', '00')\n",
      "('2020', '12', '03', '01', '12', '58')\n"
     ]
    }
   ],
   "source": [
    "dt = ['2021-04-06 10:32:00', '2020-12-03 01:12:58'] \n",
    "for m in dt:\n",
    "    pat = re.match('(\\d+)-(\\d+)-(\\d+)\\s(\\d+):(\\d+):(\\d+)',m)\n",
    "    if pat:\n",
    "        print(pat.groups())"
   ]
  },
  {
   "cell_type": "markdown",
   "id": "1d571cd2-4c98-4121-b1a1-a758ff5470af",
   "metadata": {},
   "source": [
    "**Exemplo:** Identificando cores em padrão hexadecimal."
   ]
  },
  {
   "cell_type": "code",
   "execution_count": 152,
   "id": "0816446d-bad9-4408-ab6a-fd7355054cfd",
   "metadata": {},
   "outputs": [
    {
     "name": "stdout",
     "output_type": "stream",
     "text": [
      "#3ed4f4\n",
      "#ffcc00\n",
      "#9999ff\n"
     ]
    }
   ],
   "source": [
    "cores = ['(1,23,43)','#3ed4f4', '#ffcc00','(C,M,Y,K)','#9999ff'] \n",
    "\n",
    "for c in cores:\n",
    "    ok = re.match('#[a-fA-F0-9]{6}',c)\n",
    "    if ok:\n",
    "        print(ok.group())"
   ]
  },
  {
   "cell_type": "markdown",
   "id": "5fa99dc0-2fd5-4ea3-b101-c40ff797247a",
   "metadata": {},
   "source": [
    "**Exemplo:** Identificando URLs no domínio Wikipedia Português."
   ]
  },
  {
   "cell_type": "code",
   "execution_count": 262,
   "id": "56e74e82-35de-46ba-8ab6-67f082be2b59",
   "metadata": {},
   "outputs": [
    {
     "name": "stdout",
     "output_type": "stream",
     "text": [
      "http://pt.wikipedia.org/wiki/Bras\n",
      "https://pt.wikipedia.org/wiki/Bras\n",
      "https://pt.wikipedia.org/wiki/Cubas\n"
     ]
    }
   ],
   "source": [
    "urls = ['http://pt.wikipedia.org/wiki/Bras',\n",
    "       'http://wikipedia.org/wiki/Bras',\n",
    "       'https://pt.wikipedia.org/wiki/Bras',\n",
    "       'http://pt.wikipedia.org/wik/Bras',\n",
    "       'https://pt.wikipedia.org/wiki/Cubas']\n",
    "\n",
    "for u in urls:\n",
    "    ok = re.match('((http|https)://)?(pt.wikipedia.org/wiki/).+',u)\n",
    "    if ok:\n",
    "        print(ok.group())"
   ]
  },
  {
   "cell_type": "markdown",
   "id": "66d6c4e9-aee8-495b-a014-9f89c1667604",
   "metadata": {},
   "source": [
    "#### Compilação e literais\n",
    "\n",
    "Até agora abordamos REs de uma maneira direta, mostrando como podemos localizar padrões pela utilização de alguns métodos. Vale comentar que REs podem ser compiladas como objetos mais abstratos. \n",
    "\n",
    "Para compilar expressões, podemos utilizar o método `compile`, no qual REs são manipuladas como strings. "
   ]
  },
  {
   "cell_type": "markdown",
   "id": "839e13fb-8a19-4df3-a463-05ef57f0b7e3",
   "metadata": {},
   "source": [
    "**Exemplo:**"
   ]
  },
  {
   "cell_type": "code",
   "execution_count": 199,
   "id": "65084e02-b032-4f2b-b17f-ff9f1e502a9e",
   "metadata": {},
   "outputs": [
    {
     "data": {
      "text/plain": [
       "['sad', 'sab', 'rad', 'tad', 'sac', 'sac']"
      ]
     },
     "execution_count": 199,
     "metadata": {},
     "output_type": "execute_result"
    }
   ],
   "source": [
    "rex = re.compile('[p-t]a[b-d]a?')\n",
    "rex.findall(cubas)"
   ]
  },
  {
   "cell_type": "markdown",
   "id": "2559376a-a237-421d-b2a9-b32b785add3f",
   "metadata": {},
   "source": [
    "Aqui, `rex` é um objeto abstrato."
   ]
  },
  {
   "cell_type": "code",
   "execution_count": 174,
   "id": "5390a6fa-e0d9-4a31-8bca-797eb3779557",
   "metadata": {},
   "outputs": [
    {
     "name": "stdout",
     "output_type": "stream",
     "text": [
      "<class 're.Pattern'>\n"
     ]
    }
   ],
   "source": [
    "print(type(rex))"
   ]
  },
  {
   "cell_type": "markdown",
   "id": "388ea609-d5cb-4d70-a212-a6dd7a43fe40",
   "metadata": {},
   "source": [
    "Se imprimirmos `rex`, veremos o seguinte:"
   ]
  },
  {
   "cell_type": "code",
   "execution_count": 200,
   "id": "c24dfaf5-2a98-4cb8-b90e-99188a880033",
   "metadata": {},
   "outputs": [
    {
     "data": {
      "text/plain": [
       "re.compile(r'[p-t]a[b-d]a?', re.UNICODE)"
      ]
     },
     "execution_count": 200,
     "metadata": {},
     "output_type": "execute_result"
    }
   ],
   "source": [
    "rex"
   ]
  },
  {
   "cell_type": "markdown",
   "id": "cd306123-3c2a-4a5d-a345-d8c634176a3e",
   "metadata": {},
   "source": [
    "O prefixo `r` torna a string literal e serve para tratar problemas com escape. Todavia, deixaremos esta discussão para um momento posterior. Para saber mais, leia sobre a [Praga do Backspace](https://docs.python.org/3/howto/regex.html#the-backslash-plague)."
   ]
  },
  {
   "cell_type": "markdown",
   "id": "37891e4c-7d98-478d-86b2-9a1903fd0fdc",
   "metadata": {},
   "source": [
    "#### Recursos de aprendizagem\n",
    "\n",
    "Para aprofundar seu entendimento sobre expressões regulares, recomendamos os seguintes sites: \n",
    "\n",
    "- [regex101.com](https://regex101.com)\n",
    "- [regexr.com](https://regexr.com)\n",
    "- [Regular Expression HOWTO](https://docs.python.org/3/howto/regex.html)\n",
    "- [Documentação do módulo `re`](https://docs.python.org/3/library/re.html)"
   ]
  },
  {
   "cell_type": "markdown",
   "id": "9079cd19-57da-442a-b54b-e4b2021e8569",
   "metadata": {},
   "source": [
    "<!-- ## Exercícios\n",
    "\n",
    "Encontrar padrões em uma permutação\n",
    "___\n",
    "\n",
    "Encontrar padrões em um filamento de DNA. Ciência forense.\n",
    "\n",
    "https://www.sciencelearn.org.nz/resources/1980-dna-profiling\n",
    "\n",
    "https://github.com/tvdaal/dna-patterns\n",
    "___\n",
    "\n",
    "dna_seq = 'CGTACTGACGTAGCTAGCTTGATTTCGAATCGCCCGCGTAGCTAGAGTCGATATAG'\n",
    "re.findall('[GAT]{2,3}',dna_seq)\n",
    " -->"
   ]
  }
 ],
 "metadata": {
  "kernelspec": {
   "display_name": "Python 3",
   "language": "python",
   "name": "python3"
  },
  "language_info": {
   "codemirror_mode": {
    "name": "ipython",
    "version": 3
   },
   "file_extension": ".py",
   "mimetype": "text/x-python",
   "name": "python",
   "nbconvert_exporter": "python",
   "pygments_lexer": "ipython3",
   "version": "3.8.8"
  }
 },
 "nbformat": 4,
 "nbformat_minor": 5
}
