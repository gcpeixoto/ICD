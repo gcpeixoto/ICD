{
 "cells": [
  {
   "cell_type": "markdown",
   "id": "014bb88f",
   "metadata": {},
   "source": [
    "## Questionário 22 (Q22)"
   ]
  },
  {
   "cell_type": "markdown",
   "id": "449da54c",
   "metadata": {},
   "source": [
    "**Orientações para submissão:** \n",
    "\n",
    "- Registre suas respostas no questionário de mesmo nome no SIGAA.\n",
    "- O tempo de registro das respostas no questionário será de 10 minutos. Portanto, resolva primeiro as questões e depois registre-as.\n",
    "- Haverá apenas 1 (uma) tentativa de resposta.\n",
    "- Submeta seu arquivo-fonte (utilizado para resolver as questões) em formato _.ipynb_ pelo SIGAA anexando-a à Tarefa denominada \"Envio de arquivo\" correspondente ao questionário.\n",
    "\n",
    "*Nota:* o arquivo-fonte será utilizado apenas como prova de execução da tarefa. Nenhuma avaliação será feita quanto ao estilo de programação.\n",
    "\n",
    "<hr>"
   ]
  },
  {
   "cell_type": "markdown",
   "id": "ca92557b-3bff-451a-8c00-198abb5fa49d",
   "metadata": {},
   "source": [
    "**Questão 1**. O texto abaixo é uma mensagem encriptada. Cada grupo de 4 caracteres corresponde a um número hexadecimal."
   ]
  },
  {
   "cell_type": "markdown",
   "id": "165af629-4ef3-4a17-a195-68b51181ea1b",
   "metadata": {},
   "source": [
    "```\n",
    "0x45 0x6d 0x20 0x61 0x6c 0x67 0x75 0x6d 0x20 0x6c 0x75 0x67 0x61 0x72 0x2c 0x20 0x61 0x6c 0x67 0x6f 0x20 0x69 0x6e 0x63 0x72 0xed 0x76 0x65 0x6c 0x20 0x65 0x73 0x74 0xe1 0x20 0x65 0x73 0x70 0x65 0x72 0x61 0x6e 0x64 0x6f 0x20 0x70 0x61 0x72 0x61 0x20 0x73 0x65 0x72 0x20 0x64 0x65 0x73 0x63 0x6f 0x62 0x65 0x72 0x74 0x6f 0x2e\n",
    "```"
   ]
  },
  {
   "cell_type": "markdown",
   "id": "6a4c4653-fc14-4425-bb07-fe8224c15288",
   "metadata": {},
   "source": [
    "Use seus conhecimentos de funções _built_in_ para decodificar a mensagem, que é inteligível na Língua Portuguesa. Em seguida, determine quais são os caracteres da mensagem que correspondem, respectivamente, ao maior e menor valor binário entre os elementos da sequência. Assinale a alternativa que melhor descreve a mensagem decodificada, o caracter associado ao maior valor binário e o caracter associado ao menor valor binário, nesta sequência.\n",
    "\n",
    "A. `'Em nenhum lugar, todo possível está aguardando para ser manifesto'`, `'ê'` e `' '`.\n",
    "\n",
    "B. `'Em algum lugar, tudo incrível está esperando para ser incompleto.'`, `'s` e  `'a'`.\n",
    "\n",
    "C. `'Em nenhum lugar, algo possível deve aguardar para ser descoberto'`, `'ê'` e `'í'`.\n",
    "\n",
    "D. `'Em algum lugar, algo incrível está esperando para ser descoberto.'`, `'í` e  `' '`.\n",
    "\n",
    "_Obs.:_ Considere que os espaços na mensagem original não devem ser considerados como caracteres na mensagem decodificada e que ali servem apenas para separar os quartetos hexadecimais."
   ]
  },
  {
   "cell_type": "markdown",
   "id": "a67aecb4-b4f9-49e6-b945-f311393037d4",
   "metadata": {},
   "source": [
    "**Questão 2**. Rindalve é um jovem promissor que conquistou um excelente emprego, mas sofre com a indisciplina financeira. Ele paga o aluguel da casa onde mora sempre com atraso de alguns dias e, extrapola o limite do cartão de crédito com frequência. Neste mês, Jonas pagou seu aluguel de <span> R&#36;</span> 6.500,00 com 12 dias de atraso e hoje faz 6 dias que a fatura de seu cartão, fechada em <span> R&#36;</span> 7.234,77, venceu. \n",
    "\n",
    "A imobiliária que administra a casa de Jonas usa a seguinte regra para calcular o valor adicional devido em caso de atraso no pagamento do aluguel:\n",
    "\n",
    "- mora de 6,25% sobre o valor do aluguel + juro simples de 0,025% ao dia\n",
    "\n",
    "A administradora de seu cartão de crédito, por outro lado, usa a seguinte regra para calcular o valor adicional devido em caso de atraso no pagamento da fatura do cartão:\n",
    "\n",
    "- juro composto de 1,44% ao dia.\n",
    "\n",
    "Crie uma função para calcular o valor total atualizado $V_T$ que Jonas deverá desembolsar, em reais, para quitar as despesas citadas. Então, marque a alternativa correta.\n",
    "\n",
    "A. <span> R&#36;</span> 19.048,09\n",
    "\n",
    "B. <span> R&#36;</span> 19.396,08\n",
    "\n",
    "C. <span> R&#36;</span> 14.808,54\n",
    "\n",
    "D. <span> R&#36;</span> 16.396,77"
   ]
  },
  {
   "cell_type": "markdown",
   "id": "08afcf00",
   "metadata": {},
   "source": [
    "**Questão 3**. O Ministério da Saúde disponibiliza uma lista de remédios através do programa _Farmácia Popular_. Clicando [aqui](https://antigo.saude.gov.br/images/pdf/2019/janeiro/07/Lista-Medicamentos.pdf), você será redirecionado a uma dessas listas. Crie um _dict_ em Python com as informações relevantes contidas na tabela do arquivo PDF. Em seguida, crie uma função regular que recebe o seu _dict_ como argumento e retorne 3 objetos: um _str_, um _tuple_ e um _int_, os quais nesta, ordem, responderão às seguintes perguntas: \n",
    "\n",
    "- Para que doença a maior quantidade de remédios na gratuidade é indicada? \n",
    "- Qual é a quantidade de remédios nas classes _gratuidade_ e _copagamento_?\n",
    "- Quantos remédios têm a letra C como inicial de seu nome?\n",
    "\n",
    "Assinale a alternativa correta:\n",
    "\n",
    "A. `'HIPERTENSÃO', (20, 15), 3`  \n",
    "\n",
    "B. `'ASMA', (20, 15), 7`\n",
    "\n",
    "C. `'DIABETES', (10, 20), 8`\n",
    "\n",
    "D. `'ASMA', (18, 17), 6`\n",
    "\n",
    "\n",
    "_Obs.:_ tente usar funções anônimas sempre que possível."
   ]
  }
 ],
 "metadata": {
  "kernelspec": {
   "display_name": "Python 3",
   "language": "python",
   "name": "python3"
  },
  "language_info": {
   "codemirror_mode": {
    "name": "ipython",
    "version": 3
   },
   "file_extension": ".py",
   "mimetype": "text/x-python",
   "name": "python",
   "nbconvert_exporter": "python",
   "pygments_lexer": "ipython3",
   "version": "3.8.8"
  }
 },
 "nbformat": 4,
 "nbformat_minor": 5
}
