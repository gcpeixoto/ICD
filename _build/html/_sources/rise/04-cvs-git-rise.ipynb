{
 "cells": [
  {
   "cell_type": "markdown",
   "id": "d2c5d976-5d06-42c2-ad5b-1e09c687e688",
   "metadata": {
    "slideshow": {
     "slide_type": "slide"
    }
   },
   "source": [
    "# Controle de versão"
   ]
  },
  {
   "cell_type": "markdown",
   "id": "56c8b274-cefb-4fc1-91fe-03ff29179e1b",
   "metadata": {
    "slideshow": {
     "slide_type": "slide"
    }
   },
   "source": [
    "## Objetivos\n",
    "\n",
    "- Entender o que um Sistema de Controle Versões (SCV) e o versionamento de código\n",
    "- Compreender benefícios de SCVs para arquivos diversos (reprodutibilidade, auditabilidade, compartilhamento, entre outros)\n",
    "- Ter uma visão geral sobre os SCVs mais comuns\n",
    "- Entender o funcionamento do SCV _git_, bem como o workflow _stage_- _commit_- _push_.\n",
    "- Compreender comandos básicos para criação e gerenciamento de repositórios locais e remotos"
   ]
  },
  {
   "cell_type": "markdown",
   "id": "60d535cd-973b-4076-a026-9146036949e5",
   "metadata": {
    "slideshow": {
     "slide_type": "slide"
    }
   },
   "source": [
    "## Introdução"
   ]
  },
  {
   "cell_type": "markdown",
   "id": "d7c8c1a8",
   "metadata": {
    "slideshow": {
     "slide_type": "subslide"
    }
   },
   "source": [
    "> Controle de versão é a _abordagem sistemática para registrar alterações realizadas em um arquivo ou conjunto de arquivos ao longo do tempo_. \n",
    "\n",
    "- Daremos uma visão geral sobre _sistemas de controle de versão_ (SCVs), do inglês _control version systems_;\n",
    "- Meios eficientes de gerir arquivos em repositórios remotos;\n",
    "- Noções de _Git_."
   ]
  },
  {
   "cell_type": "markdown",
   "id": "d8515515",
   "metadata": {
    "slideshow": {
     "slide_type": "subslide"
    }
   },
   "source": [
    "## Benefícios de um SCV\n",
    "\n",
    "- Reprodutibilidade\n",
    "\n",
    "- Auditabilidade\n",
    "\n",
    "- Historicidade\n",
    "\n",
    "- Sincronia\n",
    "\n",
    "- Compartilhamento"
   ]
  },
  {
   "cell_type": "markdown",
   "id": "958ab2b7",
   "metadata": {
    "slideshow": {
     "slide_type": "subslide"
    }
   },
   "source": [
    "## Exemplos de SCVs \n",
    "\n",
    "Podem ser baseados em interface gráfica ou em linha de comando. Exemplos:\n",
    "\n",
    "- _Google Drive_: suíte de soluções bem conhecida;\n",
    "- _Dropbox_: repositório de arquivos com versionamento automático;\n",
    "- _Overleaf_: ferramenta para escrever artigos científicos com sistema embutido de versão;\n",
    "- _HackMD_: ferramenta colaborativa para documentação."
   ]
  },
  {
   "cell_type": "markdown",
   "id": "d839b7ae",
   "metadata": {
    "slideshow": {
     "slide_type": "subslide"
    }
   },
   "source": [
    "- _Bazaar_\n",
    "- _Git_\n",
    "- _Mercurial_\n",
    "- _Subversion_\n",
    "- _SVN_"
   ]
  },
  {
   "cell_type": "markdown",
   "id": "56c3a19b-1a18-44ce-8811-218959fd80c3",
   "metadata": {
    "slideshow": {
     "slide_type": "subslide"
    }
   },
   "source": [
    "Neste curso, aprenderemos sobre o _Git_. O _Git_ surgiu em 2005 para ser um sistema SCV:\n",
    "\n",
    "- rápido;\n",
    "- eficiente;\n",
    "- com suporte ao desenvolvimento não-linear (_multibranching_);\n",
    "- completamente distribuído e \n",
    "- capaz de manipular grandes projetos."
   ]
  },
  {
   "cell_type": "markdown",
   "id": "0f96b2eb",
   "metadata": {
    "slideshow": {
     "slide_type": "subslide"
    }
   },
   "source": [
    "## Processo de versionamento\n",
    "\n",
    "O _workflow_ de um SCV ocorre, em geral, nas seguintes etapas básicas:\n",
    "\n",
    "1. Criar arquivos\n",
    "2. Manipular arquivos (alterar, deletar, adicionar)\n",
    "3. Atribuir o estado (_status_) dos arquivos "
   ]
  },
  {
   "cell_type": "markdown",
   "id": "1986ae72",
   "metadata": {
    "slideshow": {
     "slide_type": "subslide"
    }
   },
   "source": [
    "- A atribuição do _status_ é o que se define por _versão_ em um determinado tempo. \n",
    "- Nos SCVs populares, versão é também chamada de _checkpoint_, _commit_ ou _time-point_. \n",
    "- Para o _Git_, o _commit_ é a submissão de uma modificação de arquivo (nova versão de si)."
   ]
  },
  {
   "cell_type": "markdown",
   "id": "0c2108a5",
   "metadata": {
    "slideshow": {
     "slide_type": "subslide"
    }
   },
   "source": [
    "### _Masters_ e _branches_\n",
    "\n",
    "O desenvolvimento de códigos pode ser ilustrado como uma planta (caule + ramos). \n",
    "\n",
    "- Caule (_master_): \"linha-mestra\"  do código;\n",
    "- Ramos (_branches_):  são as melhorias (_features_) que incorporamos ao código com o tempo. "
   ]
  },
  {
   "cell_type": "markdown",
   "id": "cff0a625",
   "metadata": {
    "slideshow": {
     "slide_type": "subslide"
    }
   },
   "source": [
    "- A ideia de uma ou mais _branches_ é permitir que um programador trabalhe em múltiplas _features_ ao mesmo tempo e decida, posteriormente, se as _branches_ poderão ser fundidas na _master_ ou não. "
   ]
  },
  {
   "cell_type": "markdown",
   "id": "3576b05f",
   "metadata": {
    "slideshow": {
     "slide_type": "subslide"
    }
   },
   "source": [
    "- Este processo é conhecido como \"fusão\" (_merge_). \n",
    "- A _master_, por si, é chamada de _master branch_ => desenvolvimento _linear_. \n",
    "- Quando _branches_ adicionais coexistem => desenvolvimento _não-linear_."
   ]
  },
  {
   "cell_type": "markdown",
   "id": "e44b2ab5",
   "metadata": {
    "slideshow": {
     "slide_type": "subslide"
    }
   },
   "source": [
    "### _Master branch_\n",
    "\n",
    "<img src=\"../figs/04/branch-linear.png\">"
   ]
  },
  {
   "cell_type": "markdown",
   "id": "8fb232e6-c43d-4d25-840c-7bf5be428748",
   "metadata": {
    "slideshow": {
     "slide_type": "subslide"
    }
   },
   "source": [
    "### _Branches_\n",
    "\n",
    "<img src=\"../figs/04/branch-nonlinear.png\">"
   ]
  },
  {
   "cell_type": "markdown",
   "id": "57c90eea",
   "metadata": {
    "slideshow": {
     "slide_type": "subslide"
    }
   },
   "source": [
    "## Usando o _git_ \n",
    "\n",
    "Para começar, apontemos uma sutil diferença: \n",
    "\n",
    "- _Git_: é um SCV para gerenciar o histórico de códigos-fonte.\n",
    "- _GitHub_: serviço de hospedagem para repositórios _Git_."
   ]
  },
  {
   "cell_type": "markdown",
   "id": "27f5d724",
   "metadata": {
    "slideshow": {
     "slide_type": "subslide"
    }
   },
   "source": [
    "- Enquanto outros SCVs lidam com as \"mudanças\" feitas em cada arquivo ao longo do tempo, o _Git_ trata-os como um conjunto de imagens de um sistema de arquivos em miniatura."
   ]
  },
  {
   "cell_type": "markdown",
   "id": "189d9667",
   "metadata": {
    "slideshow": {
     "slide_type": "subslide"
    }
   },
   "source": [
    "- Toda vez que alteramos versões (_commit_), o _Git_ basicamente \"tira uma foto de todos os arquivos e armazena uma referência para esse conjunto de arquivos\". "
   ]
  },
  {
   "cell_type": "markdown",
   "id": "54869bf7",
   "metadata": {
    "slideshow": {
     "slide_type": "subslide"
    }
   },
   "source": [
    "- Para ser eficiente, se os arquivos não são alterados, o _Git_ não armazena o arquivo novamente, mas um link para o arquivo idêntico anterior já armazenado. Então, o _Git_ lida com _fluxo de estado dos arquivos_. "
   ]
  },
  {
   "cell_type": "markdown",
   "id": "5db90493",
   "metadata": {
    "slideshow": {
     "slide_type": "subslide"
    }
   },
   "source": [
    "<img src=\"../figs/04/scv-delta.png\" >\n",
    "\n",
    "Fluxo dos arquivos no tempo para um SCV usual e para o _Git_."
   ]
  },
  {
   "cell_type": "markdown",
   "id": "022123d0-d602-49c8-860c-db1229d039f5",
   "metadata": {
    "slideshow": {
     "slide_type": "subslide"
    }
   },
   "source": [
    "<img src=\"../figs/04/scv-git.png\" >\n",
    "\n",
    "Armazenamento de arquivos como _snapshots_ (estado dos arquivos\"). Fonte: Pro Git Book."
   ]
  },
  {
   "cell_type": "markdown",
   "id": "c756de20",
   "metadata": {
    "slideshow": {
     "slide_type": "subslide"
    }
   },
   "source": [
    "### Estados de arquivos\n",
    "\n",
    "- Um repositório _git_ pode ser criado por inicialização em um diretório ou por clonagem de um repositório existente. \n",
    "- O processo geral do _Git_ é baseado em três etapas: _Alterar > Preparar > Enviar_. "
   ]
  },
  {
   "cell_type": "markdown",
   "id": "0c5502cb",
   "metadata": {
    "slideshow": {
     "slide_type": "subslide"
    }
   },
   "source": [
    "- Em um diretório local, arquivos são criados, modificados, então admitidos a uma área de preparação (_stage area_) e, posteriormente, enviados (_commit_) a um estado de \"nova versão\". \n",
    "-  Para submetê-los a um repositório remoto, \"empurramos\" (_push_) os arquivos para sincronizá-los com o repositório local."
   ]
  },
  {
   "cell_type": "markdown",
   "id": "9a81e09b",
   "metadata": {
    "slideshow": {
     "slide_type": "subslide"
    }
   },
   "source": [
    "### Comandos básicos\n",
    "\n",
    "- Para inicializar um novo repositório:\n",
    "\n",
    "```\n",
    "git init\n",
    "```"
   ]
  },
  {
   "cell_type": "markdown",
   "id": "bb5512b6",
   "metadata": {
    "slideshow": {
     "slide_type": "subslide"
    }
   },
   "source": [
    "- Para adicionar arquivos à área de preparação:\n",
    "\n",
    "```\n",
    "git add\n",
    "```"
   ]
  },
  {
   "cell_type": "markdown",
   "id": "64471c16",
   "metadata": {
    "slideshow": {
     "slide_type": "subslide"
    }
   },
   "source": [
    "- Para enviar arquivos à nova versão:\n",
    "\n",
    "```\n",
    "git commit\n",
    "```"
   ]
  },
  {
   "cell_type": "markdown",
   "id": "0850940a",
   "metadata": {
    "slideshow": {
     "slide_type": "subslide"
    }
   },
   "source": [
    "- Para saber o estado dos arquivos:\n",
    "\n",
    "```\n",
    "git status\n",
    "```"
   ]
  },
  {
   "cell_type": "markdown",
   "id": "9b973fb8",
   "metadata": {
    "slideshow": {
     "slide_type": "subslide"
    }
   },
   "source": [
    "- Para gerar o histórico de mudanças:\n",
    "\n",
    "```\n",
    "git log\n",
    "```"
   ]
  },
  {
   "cell_type": "markdown",
   "id": "d69e82d5-f79a-4d5c-a395-1b376abe83e3",
   "metadata": {
    "slideshow": {
     "slide_type": "subslide"
    }
   },
   "source": [
    "<img src=\"../figs/04/git-commands.png\">\n",
    "\n",
    "Quadro de estado de arquivos e comandos do _Git_.\n"
   ]
  },
  {
   "cell_type": "markdown",
   "id": "4478c82e",
   "metadata": {
    "slideshow": {
     "slide_type": "subslide"
    }
   },
   "source": [
    "### Boas práticas do _commit_\n",
    "\n",
    "- Escrever mensagem:\n",
    "\n",
    "```none\n",
    "git commit -m \"Modificação realizada\"\n",
    "```"
   ]
  },
  {
   "cell_type": "markdown",
   "id": "d2a41ca2",
   "metadata": {
    "slideshow": {
     "slide_type": "subslide"
    }
   },
   "source": [
    "- Configurar editor preferido \n",
    "\n",
    "```none\n",
    "git config --global core.editor \"editor_preferido\"\n",
    "```"
   ]
  },
  {
   "cell_type": "markdown",
   "id": "ccab9ce4",
   "metadata": {
    "slideshow": {
     "slide_type": "subslide"
    }
   },
   "source": [
    "As mensagens de um _commit_ devem seguir algumas diretrizes:\n",
    "\n",
    "1. Dar significado: escreva mensagens objetivas, diretas e significativas.\n",
    "2. Resumir as alterações: um modelo sugerido é: \n",
    "    - 1a. linha: escreva um título com até 50 caracteres.\n",
    "    - 2a. linha: espaçamento.\n",
    "    - 3a. linha em diante: corpo da mensagem contendo o detalhamento das alterações. "
   ]
  },
  {
   "cell_type": "markdown",
   "id": "ce31bce8",
   "metadata": {
    "slideshow": {
     "slide_type": "subslide"
    }
   },
   "source": [
    "3. Usar o tempo verbal no presente: em geral, usamos o tempo verbal no indicativo ou no imperativo, ou mesmo gerúndio para especificar o título de um _commit_. Por exemplo:\n",
    "    - Fazendo algo... (_Doing, adding, including this_...)\n",
    "    - Faz algo... (_Do, add, include this_...)"
   ]
  },
  {
   "cell_type": "markdown",
   "id": "b20abcdc",
   "metadata": {
    "slideshow": {
     "slide_type": "subslide"
    }
   },
   "source": [
    "    \n",
    "4. Especificar arquivos: use `git add arq1 arq2 ...` para especificar os arquivos específicos relacionados ao _commit_.\n",
    "\n",
    "- Em Python, podemos usar _len('titulo')_ para contar se os o objeto _str_ 'titulo' possui 50 caracteres ou menos."
   ]
  },
  {
   "cell_type": "markdown",
   "id": "674635bb",
   "metadata": {
    "slideshow": {
     "slide_type": "subslide"
    }
   },
   "source": [
    "Exemplificamos abaixo dois tipos de mensagens que podem acompanhar um _commit_:\n",
    "\n",
    "- Mensagem inadequada\n",
    "\n",
    "```none\n",
    "\"Estou alterando o sinal de + para -.\"\n",
    "```"
   ]
  },
  {
   "cell_type": "markdown",
   "id": "8167007f",
   "metadata": {
    "slideshow": {
     "slide_type": "subslide"
    }
   },
   "source": [
    "- Mensagem adequada\n",
    "\n",
    "```none\n",
    "\"Corrige operação aritmética.\n",
    "\n",
    "Corrige símbolo de adição ('+') para subtração ('-') \n",
    "na expressão 'a + b' da fórmula utilizada no cálculo do XLMX.\"\n",
    "```"
   ]
  },
  {
   "cell_type": "markdown",
   "id": "50a2090f",
   "metadata": {
    "slideshow": {
     "slide_type": "subslide"
    }
   },
   "source": [
    "Em inglês, uma mensagem equivalente seria: \n",
    "\n",
    "```none\n",
    "\"Fix arithmetic operator.\n",
    "\n",
    "Replaces symbol '+' with '-' at the expression 'a + b' in the formula to compute the XLMX. \n",
    "```"
   ]
  },
  {
   "cell_type": "markdown",
   "id": "e4af4b6e",
   "metadata": {
    "slideshow": {
     "slide_type": "subslide"
    }
   },
   "source": [
    "- Para ignorar arquivos de serem rastreados, criamos um arquivo chamado `.gitignore` e neles acrescentamos todos os demais que não devem ser rastreados. "
   ]
  },
  {
   "cell_type": "markdown",
   "id": "64b97e41-d7ee-4044-b2df-314074367017",
   "metadata": {
    "slideshow": {
     "slide_type": "subslide"
    }
   },
   "source": [
    "- Por exemplo, as instruções abaixo servem para criar o arquivo `.gitignore` e adicionar o arquivo _ignore.txt_ para não ser rastreável.\n",
    "\n",
    "```bash\n",
    "touch .gitignore; echo \"ignore.txt\" > .gitignore; cat .gitignore\n",
    "```"
   ]
  },
  {
   "cell_type": "markdown",
   "id": "871598d9",
   "metadata": {
    "slideshow": {
     "slide_type": "subslide"
    }
   },
   "source": [
    "### Recuperação e comparação\n",
    "\n",
    "- Para criar um novo _commit_ que reverte as mudanças feitas na última versão a um estado anterior:\n",
    "\n",
    "```none\n",
    "git revert HEAD\n",
    "```\n",
    "- A partir do histórico de mudanças obtido por `git log`, podemos reverter o projeto inteiro para uma versão anterior especificando o SHA do projeto:"
   ]
  },
  {
   "cell_type": "markdown",
   "id": "42a79e28",
   "metadata": {
    "slideshow": {
     "slide_type": "subslide"
    }
   },
   "source": [
    "```none\n",
    "git checkout SHA\n",
    "```\n",
    "- No caso de recuperar a versão anterior de um único arquivo, especificamos o arquivo com:"
   ]
  },
  {
   "cell_type": "markdown",
   "id": "c2d0c86b",
   "metadata": {
    "slideshow": {
     "slide_type": "subslide"
    }
   },
   "source": [
    "```none\n",
    "git checkout SHA -- file\n",
    "```"
   ]
  },
  {
   "cell_type": "markdown",
   "id": "066ed210",
   "metadata": {
    "slideshow": {
     "slide_type": "subslide"
    }
   },
   "source": [
    "\n",
    "[[SHA]](https://en.wikipedia.org/wiki/Secure_Hash_Algorithms) (_Secure Hash Algorithm_) é um conjunto de algoritmos desenvolvidos pelo americano National Institute of Standards and Technology (NIST) para encriptar arquivos e atribuir-lhes uma identidade para finalidades de verificação. SHA é um tipo de CHF (_cryptographic hash function_)."
   ]
  },
  {
   "cell_type": "markdown",
   "id": "9c098318",
   "metadata": {
    "slideshow": {
     "slide_type": "subslide"
    }
   },
   "source": [
    "**Exemplo:** 2 _commits_ realizados em um projeto. \n",
    "- O ponteiro (_HEAD_) mostra que o _commit_ com SHA `553ae56fb180ff630ba4026cbc1deb212e4efd42` é o estado mais atual do projeto. \n",
    "- Para retornar o projeto ao estado imediatamente anterior, podemos fazer `git checkout 431d0e589e7366dc21d0e18144f72b67d6b4a148`.  "
   ]
  },
  {
   "cell_type": "markdown",
   "id": "1f253ea6",
   "metadata": {
    "slideshow": {
     "slide_type": "subslide"
    }
   },
   "source": [
    "```none\n",
    "commit 553ae56fb180ff630ba4026cbc1deb212e4efd42 (HEAD -> master)\n",
    "Author: Gustavo Oliveira <gustavo.oliveira@ci.ufpb.br>\n",
    "Date:   Tue Mar 16 16:06:50 2021 -0300\n",
    "\n",
    "    Fix ex5. Required to modify convertInputUnits to see pressure.\n",
    "\n",
    "commit 431d0e589e7366dc21d0e18144f72b67d6b4a148\n",
    "Author: Gustavo Oliveira <gustavo.oliveira@ci.ufpb.br>\n",
    "Date:   Tue Mar 16 14:24:03 2021 -0300\n",
    "\n",
    "    ex5 removed files.\n",
    "```"
   ]
  },
  {
   "cell_type": "markdown",
   "id": "52814ed2-c472-46a5-a0ec-4e76c948421e",
   "metadata": {
    "slideshow": {
     "slide_type": "subslide"
    }
   },
   "source": [
    "- Para comparar duas versões de arquivo podemos usar \n",
    "\n",
    "```\n",
    "git diff\n",
    "```\n",
    " Entender o que está sendo comparado\n",
    "        - observar as indicações\n",
    "    - Comparar somente arquivos relevantes"
   ]
  },
  {
   "cell_type": "markdown",
   "id": "1af38059",
   "metadata": {
    "slideshow": {
     "slide_type": "subslide"
    }
   },
   "source": [
    "### Trabalhando com _branches_\n",
    "\n",
    "- _Branches_ são abertas para incorporar novos elementos, funcionalidades ou componentes em um projeto de maneira a não interferir no tronco do projeto, que deve permanecer estável ao longo do tempo. \n",
    "- São também usadas para evitar rupturas acidentais que danifiquem a operação normal das componentes de projeto."
   ]
  },
  {
   "cell_type": "markdown",
   "id": "92b7730e",
   "metadata": {
    "slideshow": {
     "slide_type": "subslide"
    }
   },
   "source": [
    "- Para criar uma nova _branch_, usamos: \n",
    "\n",
    "```none\n",
    "git checkout -b nome_da_branch\n",
    "```"
   ]
  },
  {
   "cell_type": "markdown",
   "id": "b407c9d9",
   "metadata": {
    "slideshow": {
     "slide_type": "subslide"
    }
   },
   "source": [
    "- Para navegar entre as _branches_:\n",
    "\n",
    "```none\n",
    "git checkout nome_da_branch\n",
    "```"
   ]
  },
  {
   "cell_type": "markdown",
   "id": "c96a692d",
   "metadata": {
    "slideshow": {
     "slide_type": "subslide"
    }
   },
   "source": [
    "- Para listar todas as _branches_ existentes:\n",
    "\n",
    "```none\n",
    "git branch\n",
    "```"
   ]
  },
  {
   "cell_type": "markdown",
   "id": "309e0260",
   "metadata": {
    "slideshow": {
     "slide_type": "subslide"
    }
   },
   "source": [
    "- Para deletar completamente uma branch:\n",
    "\n",
    "```none\n",
    "git branch -D nome_da_branch\n",
    "```"
   ]
  },
  {
   "cell_type": "markdown",
   "id": "dd40394f",
   "metadata": {
    "slideshow": {
     "slide_type": "subslide"
    }
   },
   "source": [
    "### Fusão\n",
    "\n",
    "- Para integrar as modificações propostas em uma _branch_ na _branch master_ realizamos uma espécie de \"fusão\". \n",
    "- Por exemplo, para fundir uma _branch_ de origem, digamos _branch_A_, em outra de destino, digamos _branch_B_, primeiro devemos levar o ponteiro para a origem _branch_A_ com:"
   ]
  },
  {
   "cell_type": "markdown",
   "id": "d10aac07",
   "metadata": {
    "slideshow": {
     "slide_type": "subslide"
    }
   },
   "source": [
    "```none\n",
    "git checkout branch_A\n",
    "```\n",
    "Em seguida, a fundimos na _branch_B_ com: \n",
    "\n",
    "```none\n",
    "git merge branch_B\n",
    "```"
   ]
  },
  {
   "cell_type": "markdown",
   "id": "e2ce6dd6",
   "metadata": {
    "slideshow": {
     "slide_type": "subslide"
    }
   },
   "source": [
    "#### Conflitos \n",
    "\n",
    "- Se, por exemplo, um mesmo arquivo for alterado na _branch_A_, mas não na _branch_B_, ao tentar fundi-las, uma incompatibilidade existirá, de maneira que um erro por conflito de versões será produzido. \n",
    "\n",
    "- Para corrigir incompatibilidades, as partes modificadas do arquivo devem ser equalizadas ou substituídas por um novo arquivo. Em seguida, um novo _commit_ deve ser submetido. Eventualmente, para descatar uma fusão, usamos:\n",
    "\n",
    "```none\n",
    "git merge --abort\n",
    "```"
   ]
  },
  {
   "cell_type": "markdown",
   "id": "a7309644",
   "metadata": {
    "slideshow": {
     "slide_type": "subslide"
    }
   },
   "source": [
    "##### Ferramentas para resolver conflitos \n",
    "\n",
    "Algumas ferramentas que ajudam a resolver conflitos gerados por _merge_ estão disponíveis no mercado, tais como \n",
    "\n",
    "- [KDiff3](http://kdiff3.sourceforge.net/)\n",
    "- [Beyond Compare](https://www.scootersoftware.com/)\n",
    "- [Meld](http://meldmerge.org/) e \n",
    "- [P4Merge](https://www.perforce.com/products/helix-core-apps/merge-diff-tool-p4merge). "
   ]
  },
  {
   "cell_type": "markdown",
   "id": "f37a5adc",
   "metadata": {
    "slideshow": {
     "slide_type": "subslide"
    }
   },
   "source": [
    "Para definir a ferramenta padrão para fusão, fazemos:\n",
    "\n",
    "```none\n",
    "git config --global merge.tool name_of_the_tool\n",
    "```\n",
    "e a lançamos com: \n",
    "\n",
    "```none\n",
    "git mergetool\n",
    "```"
   ]
  },
  {
   "cell_type": "markdown",
   "id": "ca70188b-ad28-4af6-9b42-88d1bc7e7301",
   "metadata": {
    "slideshow": {
     "slide_type": "subslide"
    }
   },
   "source": [
    "#### Boas práticas \n",
    "\n",
    "Para trabalhar efetivamente com _branches_, algumas boas práticas recomendadas são:\n",
    "\n",
    "- Manter a _master_ limpa;\n",
    "- Adicionar apenas uma nova _feature_ por _branch_;\n",
    "- Usar nomes razoáveis para as _branches_."
   ]
  },
  {
   "cell_type": "markdown",
   "id": "4d97104d",
   "metadata": {
    "slideshow": {
     "slide_type": "subslide"
    }
   },
   "source": [
    "### Integração com repositórios\n",
    "\n",
    "Repositórios remotos são hoje amplamente utilizados como meios de hospedagem e compartilhamento de código, entre os quais estão o _GitHub_, _GitLab_ e o _Bitbucket_. Todavia, é possível que qualquer um crie seu próprio repositório em um servidor web (veja, por exemplo, este [link](https://opensource.com/life/16/8/how-construct-your-own-git-server-part-6)). \n",
    "\n",
    "- A seguir, damos exemplos de como utilizar o _GitHub_. Para realizar a comunicação entre um repositório local com seu homólogo remoto, ou vice-versa."
   ]
  },
  {
   "cell_type": "markdown",
   "id": "9dc0e768",
   "metadata": {
    "slideshow": {
     "slide_type": "subslide"
    }
   },
   "source": [
    "Para clonar um repositório remoto localmente, o comando se parece com:\n",
    "\n",
    "```\n",
    "git clone https://github.com/user/repo.git\n",
    "```\n",
    "\n",
    "onde _user_ é o nome do usuário no _GitHub_ e _repo_ é o nome do repositório."
   ]
  },
  {
   "cell_type": "markdown",
   "id": "ad4cbf51",
   "metadata": {
    "slideshow": {
     "slide_type": "subslide"
    }
   },
   "source": [
    "- Para atualizar um repositório local tomando como base um remoto:\n",
    "\n",
    "```\n",
    "git pull\n",
    "```\n",
    "Neste caso, é necessário que o histórico de modificações também seja compatível entre ambos."
   ]
  },
  {
   "cell_type": "markdown",
   "id": "488c4dd5",
   "metadata": {
    "slideshow": {
     "slide_type": "subslide"
    }
   },
   "source": [
    "- Para submeter versões após um _commit_ para o repositório remoto, utilizamos \n",
    "\n",
    "```\n",
    "git push\n",
    "```\n",
    "\n",
    "> No jargão da computação, _repo_ é uma redução de repositório.\n"
   ]
  },
  {
   "cell_type": "markdown",
   "id": "7a3efce3",
   "metadata": {
    "slideshow": {
     "slide_type": "subslide"
    }
   },
   "source": [
    "#### Vinculando o repositório local com o remoto\n",
    "\n",
    "Para que tenhamos um repositório local em sincronia com um remoto, podemos realizar os seguintes passos: \n",
    "\n",
    "- Inicialização e versionamento\n",
    "\n",
    "```none\n",
    "cd icd\n",
    "git init\n",
    "git add .\n",
    "git commit\n",
    "```\n",
    "Acima, `icd` é o diretório onde o projeto está localizado em nosso disco local. Em seguida, inicializamos o rastreamento, adicionamos todos os arquivos contidos no diretório e atribuímos a versão. "
   ]
  },
  {
   "cell_type": "markdown",
   "id": "322473f1",
   "metadata": {
    "slideshow": {
     "slide_type": "subslide"
    }
   },
   "source": [
    "- Vinculação remota \n",
    "\n",
    "Nesta etapa, fazemos a vinculação com o repositório remoto no _GitHub_ e \"empurramos\" os arquivos para lá:\n",
    "\n",
    "```none\n",
    "git remote add origin https://github.com/user/repo.git\n",
    "git push - u origin master\n",
    "```"
   ]
  },
  {
   "cell_type": "markdown",
   "id": "98dac448",
   "metadata": {
    "slideshow": {
     "slide_type": "subslide"
    }
   },
   "source": [
    "- Atualização local\n",
    "\n",
    "Caso alteremos os arquivos diretamente no _GitHub_, podemos atualizar o repositório local com: \n",
    "\n",
    "```none\n",
    "git pull\n",
    "```"
   ]
  },
  {
   "cell_type": "markdown",
   "id": "9a4914af",
   "metadata": {
    "slideshow": {
     "slide_type": "subslide"
    }
   },
   "source": [
    "### _Pull requests_\n",
    "\n",
    "Caso queiramos contribuir com um projeto cuja propriedade seja de outro usuário, podemos requisitar acesso a ele no _GitHub_ com _pull requests_.\n",
    "\n",
    "Suponhamos que 3 desenvolvedores atuam em um projeto em 3 branches distintas. Se um deles fizer uma modificação e submetê-la à _branch master_ sem que os outros 2 acompanhem em tempo real, ambos podem atualizar suas _branches_ com\n",
    "\n",
    "```\n",
    "git pull origin master\n",
    "```"
   ]
  },
  {
   "cell_type": "markdown",
   "id": "762528c0",
   "metadata": {
    "slideshow": {
     "slide_type": "subslide"
    }
   },
   "source": [
    "### _Forks_ \n",
    "\n",
    "Um _fork_ é o ato de _aforquilhar_ (\"prender com forquilha ou garfo\") um projeto, no sentido de copiar o repositório de um usuário no GitHub para você. O repositório original \"forkado\" é chamado de _upstream_."
   ]
  },
  {
   "cell_type": "markdown",
   "id": "95ffa0ee",
   "metadata": {
    "slideshow": {
     "slide_type": "subslide"
    }
   },
   "source": [
    "Para trabalhar com a sua cópia \"forkada\", siga os seguintes passos: \n",
    "\n",
    "- Clone o _repo_ aforquilhado localmente:\n",
    "\n",
    "```none\n",
    "git clone git@github.com/seu_user/forked_repo.git\n",
    "```"
   ]
  },
  {
   "cell_type": "markdown",
   "id": "a0de1d0e",
   "metadata": {
    "slideshow": {
     "slide_type": "subslide"
    }
   },
   "source": [
    "- Adicione o _upstream_ à sua lista de repositórios remotos para receber as mudanças submetidas no _repo_ original:\n",
    "\n",
    "```none\n",
    "git remote add upstream https://github.com/upstream_user/original_repo.git\n",
    "```"
   ]
  },
  {
   "cell_type": "markdown",
   "id": "3d572a69",
   "metadata": {
    "slideshow": {
     "slide_type": "subslide"
    }
   },
   "source": [
    "- Verifique se ele foi, de fato adicionado: \n",
    "\n",
    "```none\n",
    "git remote -v\n",
    "```"
   ]
  },
  {
   "cell_type": "markdown",
   "id": "357e1ea8",
   "metadata": {
    "slideshow": {
     "slide_type": "subslide"
    }
   },
   "source": [
    "- Atualize o _repo_ aforquilhado trazendo do original as mudanças e _commits_ mais recentes, bem como todas as _branches_ (fazer uma \"juntada\"):\n",
    "\n",
    "```none\n",
    "git fetch upstream\n",
    "```"
   ]
  },
  {
   "cell_type": "markdown",
   "id": "04261d78",
   "metadata": {
    "slideshow": {
     "slide_type": "subslide"
    }
   },
   "source": [
    "- Liste todas as _branches_, incluindo as do _upstream_:\n",
    "\n",
    "```none\n",
    "git branch -va\n",
    "```"
   ]
  },
  {
   "cell_type": "markdown",
   "id": "dd82df77-c6ca-4c1a-9adf-63fd126bc097",
   "metadata": {
    "slideshow": {
     "slide_type": "subslide"
    }
   },
   "source": [
    "- Direcione o ponteiro para a sua _master branch_:\n",
    "\n",
    "```none\n",
    "git checkout master\n",
    "```"
   ]
  },
  {
   "cell_type": "markdown",
   "id": "d87b7b36-a10a-4d72-b751-2ebfcce7f2b1",
   "metadata": {
    "slideshow": {
     "slide_type": "subslide"
    }
   },
   "source": [
    "### Tutorial interativo do _Git_\n",
    "\n",
    "Descrever em palavras o que os comandos _git_ realizam concretamente pode ser um pouco impreciso. A ferramenta \n",
    "[Learn Git Branching](https://learngitbranching.js.org/) foi criada com o propósito de ensinar o _git_ por meio de tutoriais interativos. Com ela, você pode praticar e entender comandos e simular o comportamento de um repositório real."
   ]
  },
  {
   "cell_type": "markdown",
   "id": "c8ad9cea",
   "metadata": {
    "slideshow": {
     "slide_type": "slide"
    }
   },
   "source": [
    "## Controle de versão para dados\n",
    "\n",
    "- Ferramentas para que lidam com controle de versão de grandes arquivos passaram a ser desenvolvidas. \n",
    "- Elas permitem que grandes dados sejam adicionados a repositórios e tenham seus estados controlados. \n",
    "- Algumas dessas ferramentas são:\n",
    "    - [CyberDuck](https://cyberduck.io)\n",
    "    - [DataLad](https://www.datalad.org)\n",
    "    - [_Git LFS_](https://git-lfs.github.com/)\n",
    "    - [_git-annex_](https://git-annex.branchable.com/)"
   ]
  },
  {
   "cell_type": "markdown",
   "id": "46703154-e006-4b56-8392-c4bc313e48d6",
   "metadata": {
    "slideshow": {
     "slide_type": "subslide"
    }
   },
   "source": [
    "Exemplos de ferramentas de _cloud computing_ para gestão de grandes arquivos e controle de dados são: \n",
    "\n",
    "- [Alibaba Cloud](https://www.alibabacloud.com)\n",
    "- [AWS CLI](https://aws.amazon.com/cli/)\n",
    "- [Google Cloud](https://cloud.google.com)\n",
    "- [Microsoft Azure](https://azure.microsoft.com/en-us/)"
   ]
  },
  {
   "cell_type": "markdown",
   "id": "17a667d4-df5a-4248-8e37-b1d30542f48c",
   "metadata": {
    "slideshow": {
     "slide_type": "slide"
    }
   },
   "source": [
    "## Exercícios\n",
    "\n",
    "- Criar repositório para o curso e organizá-lo como um projeto.\n",
    "- Praticar comandos do _git_ na _sandbox_ do [Learn Git Branching](https://learngitbranching.js.org/)."
   ]
  },
  {
   "cell_type": "markdown",
   "id": "bb852729-0b68-4de6-877d-6469e8530996",
   "metadata": {
    "slideshow": {
     "slide_type": "slide"
    }
   },
   "source": [
    "## Referências \n",
    "\n",
    "- [[GitHub Docs]](https://docs.github.com/en)\n",
    "\n",
    "- [[Learn Git with Bitbucket]](https://www.atlassian.com/git/tutorials/learn-git-with-bitbucket-cloud)\n",
    "\n",
    "- [[Pro Git Book]](https://git-scm.com/book/en/v2)\n",
    "\n",
    "- [[The Turing Way]](https://the-turing-way.netlify.app/welcome.html)"
   ]
  }
 ],
 "metadata": {
  "celltoolbar": "Slideshow",
  "kernelspec": {
   "display_name": "Python 3",
   "language": "python",
   "name": "python3"
  },
  "language_info": {
   "codemirror_mode": {
    "name": "ipython",
    "version": 3
   },
   "file_extension": ".py",
   "mimetype": "text/x-python",
   "name": "python",
   "nbconvert_exporter": "python",
   "pygments_lexer": "ipython3",
   "version": "3.9.4"
  },
  "rise": {
   "enable_chalkboard": true,
   "footer": "ICD",
   "header": "Prof. Gustavo Oliveira | UFPB",
   "theme": "black"
  }
 },
 "nbformat": 4,
 "nbformat_minor": 5
}
