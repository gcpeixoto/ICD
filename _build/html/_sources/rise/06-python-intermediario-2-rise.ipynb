{
 "cells": [
  {
   "cell_type": "markdown",
   "id": "e5d6eaba-568e-4d23-80ad-3c4f7b5e524e",
   "metadata": {
    "slideshow": {
     "slide_type": "slide"
    }
   },
   "source": [
    "# Python intermediário - II"
   ]
  },
  {
   "cell_type": "markdown",
   "id": "cbea4720",
   "metadata": {
    "slideshow": {
     "slide_type": "slide"
    }
   },
   "source": [
    "## Funções\n",
    "\n",
    "- Fundamentais para organizar e reutilizar código. \n",
    "- Em Python, são _objetos de primeira classe_, i.e. podem ser:\n",
    "    1. atribuídas a uma variável ou elemento em uma estrutura de dado; \n",
    "    2. passadas como argumento para outra função;\n",
    "    3. retornadas como resultado de uma função."
   ]
  },
  {
   "cell_type": "markdown",
   "id": "f7ddbd4b",
   "metadata": {
    "slideshow": {
     "slide_type": "subslide"
    }
   },
   "source": [
    "### Tipos de funções \n",
    "\n",
    "Neste curso, separaremos as funções em três grupos:\n",
    "\n",
    "- _predefinidas_ (_built-in functions_): aquelas pré-existentes no _core_ da linguagem ou em outros módulos;\n",
    "- _regulares_ (_user-defined functions_): aquelas definidas por você que possuem um nome definido (UDFs);\n",
    "- _anônimas_ (_lambdas_): funções, em geral, criadas por você que não exigem um nome."
   ]
  },
  {
   "cell_type": "markdown",
   "id": "c14efdb1-2bb9-4df1-8170-d4f0559e5f73",
   "metadata": {
    "slideshow": {
     "slide_type": "subslide"
    }
   },
   "source": [
    "#### Funções predefinidas\n",
    "\n",
    "Exploraremos exemplos com funções _built-in_ do _core_ Python."
   ]
  },
  {
   "cell_type": "code",
   "execution_count": 49,
   "id": "18e02568-37d2-49e3-a303-428be4806374",
   "metadata": {
    "slideshow": {
     "slide_type": "subslide"
    }
   },
   "outputs": [
    {
     "data": {
      "text/plain": [
       "('0x4d2', '0b101011001', 12.346)"
      ]
     },
     "execution_count": 49,
     "metadata": {},
     "output_type": "execute_result"
    }
   ],
   "source": [
    "# built-in functions\n",
    "hex(1234),bin(345),round(12.3456,3)"
   ]
  },
  {
   "cell_type": "markdown",
   "id": "00cf3041-734e-40d6-adbf-f4e3ee0d6494",
   "metadata": {
    "slideshow": {
     "slide_type": "fragment"
    }
   },
   "source": [
    "Discussão: \n",
    "\n",
    "- `hex` converte um número para hexadecimal, indicado pelo prefixo `0x`.\n",
    "\n",
    "- `bin` converte um número para binário, indicado pelo prefixo `0b`.\n",
    "\n",
    "- `round(x,n)` arredonda um número `x` em `n` dígitos de precisão. Se `n < 0`, retorna `0.0`. "
   ]
  },
  {
   "cell_type": "code",
   "execution_count": 58,
   "id": "c2eba3d8-1b8e-4e39-b591-cc823a43feea",
   "metadata": {
    "scrolled": true,
    "slideshow": {
     "slide_type": "subslide"
    }
   },
   "outputs": [
    {
     "name": "stdout",
     "output_type": "stream",
     "text": [
      "ɘ,ɢ,ɬ,ɶ,ʀ,ʊ,ʔ,ʞ,ʨ,ʲ,"
     ]
    }
   ],
   "source": [
    "# built-in function\n",
    "for i in range(600,700,10):\n",
    "    print(chr(i),end=',')"
   ]
  },
  {
   "cell_type": "markdown",
   "id": "8096b709-e26f-4658-abb3-336a87e517c1",
   "metadata": {
    "slideshow": {
     "slide_type": "fragment"
    }
   },
   "source": [
    "Discussão: \n",
    "\n",
    "- `chr` retorna o caracter Unicode correspondente ao número inteiro passado, desde que esteja no intervalo [0,1114111]."
   ]
  },
  {
   "cell_type": "markdown",
   "id": "e230bf6b-cac8-4510-a66d-c1027f32d445",
   "metadata": {
    "slideshow": {
     "slide_type": "subslide"
    }
   },
   "source": [
    "**Exemplo**: somando números em uma lista."
   ]
  },
  {
   "cell_type": "code",
   "execution_count": 61,
   "id": "d6859e80-2190-4d3c-9f0f-28be6444df90",
   "metadata": {
    "slideshow": {
     "slide_type": "fragment"
    }
   },
   "outputs": [
    {
     "data": {
      "text/plain": [
       "(4950, 0)"
      ]
     },
     "execution_count": 61,
     "metadata": {},
     "output_type": "execute_result"
    }
   ],
   "source": [
    "sum(range(100)), sum([]) "
   ]
  },
  {
   "cell_type": "markdown",
   "id": "2d459c34-cf60-406e-992c-973a450cade3",
   "metadata": {
    "slideshow": {
     "slide_type": "fragment"
    }
   },
   "source": [
    "Discussão: \n",
    "- `sum` é uma função predefinida aplicável a sequências iteráveis.\n",
    "- Se o iterável for vazio, `sum` retorna zero.\n",
    "- No exemplo anterior, somamos os números de 0 a 100 e aplicamos a função a uma lista vazia."
   ]
  },
  {
   "cell_type": "markdown",
   "id": "f262b29d-242a-4add-b669-a101a48b8c36",
   "metadata": {
    "slideshow": {
     "slide_type": "subslide"
    }
   },
   "source": [
    "**Exemplo**: número de elementos em iteráveis."
   ]
  },
  {
   "cell_type": "code",
   "execution_count": 65,
   "id": "2cf4d568-6658-4e1e-b38e-508929172e13",
   "metadata": {
    "slideshow": {
     "slide_type": "fragment"
    }
   },
   "outputs": [
    {
     "data": {
      "text/plain": [
       "3"
      ]
     },
     "execution_count": 65,
     "metadata": {},
     "output_type": "execute_result"
    }
   ],
   "source": [
    "# no. de elementos\n",
    "len([1,4,5])"
   ]
  },
  {
   "cell_type": "code",
   "execution_count": 68,
   "id": "bc2937a3-bf7c-4b90-8e4f-d02a4b3599bc",
   "metadata": {
    "slideshow": {
     "slide_type": "fragment"
    }
   },
   "outputs": [
    {
     "data": {
      "text/plain": [
       "2"
      ]
     },
     "execution_count": 68,
     "metadata": {},
     "output_type": "execute_result"
    }
   ],
   "source": [
    "# conta keys\n",
    "len({'a':1,'b':2}) "
   ]
  },
  {
   "cell_type": "code",
   "execution_count": 69,
   "id": "3e3dc690-cd93-4d51-8e29-0b1796077347",
   "metadata": {
    "slideshow": {
     "slide_type": "fragment"
    }
   },
   "outputs": [
    {
     "data": {
      "text/plain": [
       "3"
      ]
     },
     "execution_count": 69,
     "metadata": {},
     "output_type": "execute_result"
    }
   ],
   "source": [
    "# lembre da unicidade\n",
    "# 3 elementos no conjunto\n",
    "len({1,3,1,2})"
   ]
  },
  {
   "cell_type": "code",
   "execution_count": 71,
   "id": "02b366e9-0ead-4371-8ab6-bfb9550ee64f",
   "metadata": {
    "slideshow": {
     "slide_type": "fragment"
    }
   },
   "outputs": [
    {
     "data": {
      "text/plain": [
       "4"
      ]
     },
     "execution_count": 71,
     "metadata": {},
     "output_type": "execute_result"
    }
   ],
   "source": [
    "# conta caracteres\n",
    "len('nome')"
   ]
  },
  {
   "cell_type": "markdown",
   "id": "df706e36-3eea-492d-b131-98bf9dae4698",
   "metadata": {
    "slideshow": {
     "slide_type": "subslide"
    }
   },
   "source": [
    "#### Funções regulares\n",
    "Possuem um nome definido pelo usuário."
   ]
  },
  {
   "cell_type": "code",
   "execution_count": 79,
   "id": "805413e0-5eca-4b91-9bed-f6d3e90c6153",
   "metadata": {
    "slideshow": {
     "slide_type": "fragment"
    }
   },
   "outputs": [],
   "source": [
    "def cm_to_inch(x):\n",
    "    \"\"\"converte número de centímetros para polegadas\"\"\"\n",
    "    return 2.45*x"
   ]
  },
  {
   "cell_type": "markdown",
   "id": "a6b43560-db32-4d9a-97f9-edf4f5d1df8f",
   "metadata": {
    "slideshow": {
     "slide_type": "fragment"
    }
   },
   "source": [
    "Comentários: \n",
    "\n",
    "- Funções regulares são declaradas com a _keyword_ `def` e valores de retorno com a _keyword_ `return`."
   ]
  },
  {
   "cell_type": "code",
   "execution_count": 93,
   "id": "052997b0-6d9e-4b4d-a80f-6127f7ffc355",
   "metadata": {
    "slideshow": {
     "slide_type": "subslide"
    }
   },
   "outputs": [
    {
     "data": {
      "text/plain": [
       "29.400000000000002"
      ]
     },
     "execution_count": 93,
     "metadata": {},
     "output_type": "execute_result"
    }
   ],
   "source": [
    "# chamada simples\n",
    "cm_to_inch(12.0)"
   ]
  },
  {
   "cell_type": "code",
   "execution_count": 96,
   "id": "329dc652-f0cd-46db-8ee9-86aa497fb916",
   "metadata": {
    "slideshow": {
     "slide_type": "fragment"
    }
   },
   "outputs": [],
   "source": [
    "# atribuindo em objeto\n",
    "cmi = cm_to_inch"
   ]
  },
  {
   "cell_type": "code",
   "execution_count": 98,
   "id": "0df874a2-8a18-47ce-ac69-84ae36750265",
   "metadata": {
    "slideshow": {
     "slide_type": "fragment"
    }
   },
   "outputs": [
    {
     "data": {
      "text/plain": [
       "4.9"
      ]
     },
     "execution_count": 98,
     "metadata": {},
     "output_type": "execute_result"
    }
   ],
   "source": [
    "# usando como argumento de outra função\n",
    "def fn(n,f):\n",
    "    \"\"\"Calcula f(n) dados n e uma função f.\"\"\"\n",
    "    return f(n)\n",
    "\n",
    "fn(2,cm_to_inch)"
   ]
  },
  {
   "cell_type": "code",
   "execution_count": 100,
   "id": "b6da0029-d23a-4f40-b306-cbe7a2b5049c",
   "metadata": {
    "slideshow": {
     "slide_type": "fragment"
    }
   },
   "outputs": [
    {
     "data": {
      "text/plain": [
       "'Calcula f(n) dados n e uma função f.'"
      ]
     },
     "execution_count": 100,
     "metadata": {},
     "output_type": "execute_result"
    }
   ],
   "source": [
    "# docstring da função\n",
    "fn.__doc__"
   ]
  },
  {
   "cell_type": "markdown",
   "id": "532027ea-a997-4ff6-8f62-6958542b044e",
   "metadata": {
    "slideshow": {
     "slide_type": "subslide"
    }
   },
   "source": [
    "Parâmetros de funções podem assumir um argumento padrão que pode ser modificado sempre que necessário. \n",
    "\n",
    "**Exemplos:**"
   ]
  },
  {
   "cell_type": "code",
   "execution_count": 133,
   "id": "f52b6198-ab40-480f-9d65-357b6b4fd33b",
   "metadata": {
    "slideshow": {
     "slide_type": "fragment"
    }
   },
   "outputs": [],
   "source": [
    "# 'BEGIN' é valor padrão\n",
    "def line(title='BEGIN'):\n",
    "    print(title.center(21,'-'))    "
   ]
  },
  {
   "cell_type": "code",
   "execution_count": 139,
   "id": "ce3c4ddd-f45c-49a9-9fe7-91d845c9ca69",
   "metadata": {
    "slideshow": {
     "slide_type": "fragment"
    }
   },
   "outputs": [
    {
     "name": "stdout",
     "output_type": "stream",
     "text": [
      "--------BEGIN--------\n"
     ]
    }
   ],
   "source": [
    "# especificação não necessária\n",
    "line()"
   ]
  },
  {
   "cell_type": "code",
   "execution_count": 138,
   "id": "09ee35a3-72c9-4366-b413-1e8d492cfaef",
   "metadata": {
    "slideshow": {
     "slide_type": "fragment"
    }
   },
   "outputs": [
    {
     "name": "stdout",
     "output_type": "stream",
     "text": [
      "---------HEAD--------\n"
     ]
    }
   ],
   "source": [
    "# alterando padrão\n",
    "line('HEAD')"
   ]
  },
  {
   "cell_type": "markdown",
   "id": "7d2c8b2f-daa2-4115-b36e-f35bab912633",
   "metadata": {
    "slideshow": {
     "slide_type": "subslide"
    }
   },
   "source": [
    "**Exemplo:** função com argumentos posicionais."
   ]
  },
  {
   "cell_type": "code",
   "execution_count": 227,
   "id": "cac08d8a-188b-4138-9519-f5ec60e884ef",
   "metadata": {
    "slideshow": {
     "slide_type": "fragment"
    }
   },
   "outputs": [],
   "source": [
    "# função com 2 argumentos posicionais\n",
    "def upper_len(s,cut):\n",
    "    if isinstance(s,str): # checa se é str\n",
    "        print(':: ' + s.upper()[:cut],sep=',')\n",
    "    else:\n",
    "        pass # não faz nada"
   ]
  },
  {
   "cell_type": "code",
   "execution_count": 206,
   "id": "2510a614-3675-4cee-a9f7-e29ab53a42d7",
   "metadata": {
    "slideshow": {
     "slide_type": "subslide"
    }
   },
   "outputs": [
    {
     "name": "stdout",
     "output_type": "stream",
     "text": [
      ":: ALFA\n",
      ":: BRAVO\n",
      ":: CHARLIE\n"
     ]
    }
   ],
   "source": [
    "from random import randint\n",
    "\n",
    "abc = ['alfa', 'bravO', 'chARlie', 230, 111.222]\n",
    "\n",
    "# fatiamento aleatório\n",
    "for s in abc:\n",
    "    upper_len(s,randint(0,7)) "
   ]
  },
  {
   "cell_type": "markdown",
   "id": "78b4a2a4-3063-4efd-a068-3093b96dad7e",
   "metadata": {
    "slideshow": {
     "slide_type": "fragment"
    }
   },
   "source": [
    "Comentários: \n",
    "- Função formatam strings em maiúsculas e  imprime-as fatiadas até o índice `cut`, determinado aleatoriamente.\n",
    "- Nada é impresso para entradas que são números.\n",
    "- A função possui dois argumentos posicionais\n",
    "- Se as posições dos argumentos forem alteradas, o sentido da função muda."
   ]
  },
  {
   "cell_type": "code",
   "execution_count": 228,
   "id": "6fcc8dec-c5ba-4650-ae8e-f303d4c616dc",
   "metadata": {
    "slideshow": {
     "slide_type": "subslide"
    }
   },
   "outputs": [],
   "source": [
    "# Nada faz porque o primeiro \n",
    "# parâmetro deixou de ser str\n",
    "for s in abc:\n",
    "    upper_len(randint(1,3),s)  "
   ]
  },
  {
   "cell_type": "markdown",
   "id": "80a7fe99-a350-409c-86b2-49414b6a5bcb",
   "metadata": {
    "slideshow": {
     "slide_type": "subslide"
    }
   },
   "source": [
    "**Exemplo:** especificando argumentos com _keywords_."
   ]
  },
  {
   "cell_type": "code",
   "execution_count": 229,
   "id": "e9d342a3-8cef-4e32-bce7-0f5f4a4bb3e8",
   "metadata": {
    "slideshow": {
     "slide_type": "fragment"
    }
   },
   "outputs": [],
   "source": [
    "# declaração com 3 keywords\n",
    "def triple(x=0,y=0,z=0):\n",
    "    return x*y*z"
   ]
  },
  {
   "cell_type": "code",
   "execution_count": 230,
   "id": "6514704a-be3a-44b1-a4f0-9d1b54e10b80",
   "metadata": {
    "slideshow": {
     "slide_type": "fragment"
    }
   },
   "outputs": [
    {
     "data": {
      "text/plain": [
       "0"
      ]
     },
     "execution_count": 230,
     "metadata": {},
     "output_type": "execute_result"
    }
   ],
   "source": [
    "# padrão\n",
    "triple()"
   ]
  },
  {
   "cell_type": "code",
   "execution_count": 231,
   "id": "3579af04-d55f-47b0-98d0-0666773fc943",
   "metadata": {
    "slideshow": {
     "slide_type": "fragment"
    }
   },
   "outputs": [
    {
     "data": {
      "text/plain": [
       "24"
      ]
     },
     "execution_count": 231,
     "metadata": {},
     "output_type": "execute_result"
    }
   ],
   "source": [
    "# sem declarar keywords\n",
    "triple(2,3,4)"
   ]
  },
  {
   "cell_type": "code",
   "execution_count": 232,
   "id": "4347ecb3-d410-4e66-b559-9f446144a182",
   "metadata": {
    "slideshow": {
     "slide_type": "fragment"
    }
   },
   "outputs": [
    {
     "data": {
      "text/plain": [
       "48"
      ]
     },
     "execution_count": 232,
     "metadata": {},
     "output_type": "execute_result"
    }
   ],
   "source": [
    "# declarando uma keyword\n",
    "triple(3,4,z=4)"
   ]
  },
  {
   "cell_type": "code",
   "execution_count": 235,
   "id": "8c14552d-718d-41a3-86cd-53fb79392f36",
   "metadata": {
    "slideshow": {
     "slide_type": "subslide"
    }
   },
   "outputs": [
    {
     "ename": "SyntaxError",
     "evalue": "positional argument follows keyword argument (<ipython-input-235-67699319fbf9>, line 2)",
     "output_type": "error",
     "traceback": [
      "\u001b[0;36m  File \u001b[0;32m\"<ipython-input-235-67699319fbf9>\"\u001b[0;36m, line \u001b[0;32m2\u001b[0m\n\u001b[0;31m    triple(x=3,4,4)\u001b[0m\n\u001b[0m                  ^\u001b[0m\n\u001b[0;31mSyntaxError\u001b[0m\u001b[0;31m:\u001b[0m positional argument follows keyword argument\n"
     ]
    }
   ],
   "source": [
    "# erro!\n",
    "triple(x=3,4,4) "
   ]
  },
  {
   "cell_type": "markdown",
   "id": "77f83a87-98b3-4d23-8820-c8dd1cfbf8a0",
   "metadata": {
    "slideshow": {
     "slide_type": "fragment"
    }
   },
   "source": [
    "Discussão: \n",
    "- Argumentos com _keyword_ devem vir **após** os argumentos posicionais, se houver algum."
   ]
  },
  {
   "cell_type": "code",
   "execution_count": 237,
   "id": "c395b7fc-fca9-439a-8fde-e07c4ac1ef75",
   "metadata": {
    "slideshow": {
     "slide_type": "subslide"
    }
   },
   "outputs": [],
   "source": [
    "# declaração com 1 posicional e 2 keywords\n",
    "def triple_2(x,y=0,z=0):\n",
    "    return x*y*z"
   ]
  },
  {
   "cell_type": "code",
   "execution_count": 238,
   "id": "531d4b81-739e-481e-9d71-14088928a20f",
   "metadata": {
    "slideshow": {
     "slide_type": "fragment"
    }
   },
   "outputs": [
    {
     "data": {
      "text/plain": [
       "30"
      ]
     },
     "execution_count": 238,
     "metadata": {},
     "output_type": "execute_result"
    }
   ],
   "source": [
    "triple_2(2,y=5,z=3)"
   ]
  },
  {
   "cell_type": "code",
   "execution_count": 239,
   "id": "ce4e9971-dcfa-4637-9525-d0f0165406b8",
   "metadata": {
    "slideshow": {
     "slide_type": "fragment"
    }
   },
   "outputs": [
    {
     "data": {
      "text/plain": [
       "30"
      ]
     },
     "execution_count": 239,
     "metadata": {},
     "output_type": "execute_result"
    }
   ],
   "source": [
    "triple_2(2,5,z=3)"
   ]
  },
  {
   "cell_type": "code",
   "execution_count": 240,
   "id": "9c34d174-29d3-4712-a801-20d6a4cd07c2",
   "metadata": {
    "slideshow": {
     "slide_type": "subslide"
    }
   },
   "outputs": [],
   "source": [
    "# declaração com 2 posicionais e 1 keyword\n",
    "def triple_3(x,y,z=0):\n",
    "    return x*y*z"
   ]
  },
  {
   "cell_type": "code",
   "execution_count": 241,
   "id": "ed807382-cf11-49b3-af86-ec975bb78a59",
   "metadata": {
    "slideshow": {
     "slide_type": "fragment"
    }
   },
   "outputs": [
    {
     "data": {
      "text/plain": [
       "6"
      ]
     },
     "execution_count": 241,
     "metadata": {},
     "output_type": "execute_result"
    }
   ],
   "source": [
    "triple_3(3,1,2)"
   ]
  },
  {
   "cell_type": "code",
   "execution_count": 242,
   "id": "49f16560-2021-4a69-a0ca-621e357319ad",
   "metadata": {
    "slideshow": {
     "slide_type": "fragment"
    }
   },
   "outputs": [
    {
     "data": {
      "text/plain": [
       "6"
      ]
     },
     "execution_count": 242,
     "metadata": {},
     "output_type": "execute_result"
    }
   ],
   "source": [
    "triple_3(3,1,z=2)"
   ]
  },
  {
   "cell_type": "markdown",
   "id": "88087857-7fa7-4e75-840a-4c3a11154152",
   "metadata": {
    "slideshow": {
     "slide_type": "subslide"
    }
   },
   "source": [
    "##### Escopos\n",
    "\n",
    "Funções podem acessar variáveis em dois escopos: _global_ e _local_. O escopo global é aquele que está fora do escopo da função, enquanto o local é aquele determinado pela função."
   ]
  },
  {
   "cell_type": "code",
   "execution_count": 250,
   "id": "b8b90f77-695f-422a-a173-dafcc071d7e1",
   "metadata": {
    "slideshow": {
     "slide_type": "subslide"
    }
   },
   "outputs": [
    {
     "name": "stdout",
     "output_type": "stream",
     "text": [
      "1\n"
     ]
    },
    {
     "ename": "NameError",
     "evalue": "name 'b' is not defined",
     "output_type": "error",
     "traceback": [
      "\u001b[0;31m---------------------------------------------------------------------------\u001b[0m",
      "\u001b[0;31mNameError\u001b[0m                                 Traceback (most recent call last)",
      "\u001b[0;32m<ipython-input-250-b2491bbf550d>\u001b[0m in \u001b[0;36m<module>\u001b[0;34m\u001b[0m\n\u001b[1;32m      5\u001b[0m \u001b[0;34m\u001b[0m\u001b[0m\n\u001b[1;32m      6\u001b[0m \u001b[0mprint\u001b[0m\u001b[0;34m(\u001b[0m\u001b[0mtest_vars\u001b[0m\u001b[0;34m(\u001b[0m\u001b[0ma\u001b[0m\u001b[0;34m)\u001b[0m\u001b[0;34m)\u001b[0m\u001b[0;34m\u001b[0m\u001b[0;34m\u001b[0m\u001b[0m\n\u001b[0;32m----> 7\u001b[0;31m \u001b[0mprint\u001b[0m\u001b[0;34m(\u001b[0m\u001b[0mb\u001b[0m\u001b[0;34m)\u001b[0m \u001b[0;31m# erro! b é local\u001b[0m\u001b[0;34m\u001b[0m\u001b[0;34m\u001b[0m\u001b[0m\n\u001b[0m",
      "\u001b[0;31mNameError\u001b[0m: name 'b' is not defined"
     ]
    }
   ],
   "source": [
    "a = 0 # global\n",
    "def test_vars(a):\n",
    "    b = 1 # local    \n",
    "    return a + b\n",
    "    \n",
    "print(test_vars(a)) \n",
    "print(b) # erro! b é local"
   ]
  },
  {
   "cell_type": "markdown",
   "id": "97dd8845-1d91-4a0c-a0b8-3aad2e2852cf",
   "metadata": {
    "slideshow": {
     "slide_type": "subslide"
    }
   },
   "source": [
    "Comentários: \n",
    "- A variável `a` é definida globalmente e foi utilizada como argumento de `test_vars`;\n",
    "- A variável `b` é definida localmente e, portanto, não pode ser acessada fora do escopo da função;\n",
    "- Um erro de \"variável indefinida\" é lançado por `print(b)`, visto que o escopo global não reconhece a variável `b`."
   ]
  },
  {
   "cell_type": "code",
   "execution_count": 252,
   "id": "5a92b364-cb40-41d2-87a0-2a9f1fbd21f1",
   "metadata": {
    "slideshow": {
     "slide_type": "subslide"
    }
   },
   "outputs": [
    {
     "name": "stdout",
     "output_type": "stream",
     "text": [
      "1\n",
      "1\n"
     ]
    }
   ],
   "source": [
    "def test_vars(a):\n",
    "    global c     \n",
    "    c = 1 # global\n",
    "    return a + c\n",
    "    \n",
    "print(test_vars(a))\n",
    "print(c) # ok! c é global"
   ]
  },
  {
   "cell_type": "markdown",
   "id": "8c689d3e",
   "metadata": {
    "slideshow": {
     "slide_type": "fragment"
    }
   },
   "source": [
    "Comentários: \n",
    "- Neste caso, a `c` foi atribuído um valor no escopo local, porém ela foi declarada como global.\n",
    "- Para tornar uma variável dentro do escopo de uma função como global, usa-se a keyword `global`.\n",
    "- A impressão do valor de `c` no escopo global não retorna erro pela explicação anterior."
   ]
  },
  {
   "cell_type": "markdown",
   "id": "31264d83-7ce3-49a4-9723-2bd635d38518",
   "metadata": {
    "slideshow": {
     "slide_type": "subslide"
    }
   },
   "source": [
    "> O uso indiscriminado de `global` não é encorajado. Quando a densidade do uso de `global` está alta, recomenda-se partir para uma abordagem de orientação a objetos e usar classes."
   ]
  },
  {
   "cell_type": "markdown",
   "id": "cdb7da05-9537-41c6-9b2e-044f57c1c0ec",
   "metadata": {
    "slideshow": {
     "slide_type": "subslide"
    }
   },
   "source": [
    "#### Funções anônimas\n",
    "\n",
    "- Uma função anônima não tem um nome explicitamente definido. \n",
    "- Pode ser criada em apenas uma linha de código para executar uma tarefa específica.\n",
    "\n",
    "> São baseadas na palavra-chave `lambda`, inspirada em uma área da ciência da computação chamada de cálculo-$\\lambda$. Embora possam ser chamadas isoladamente, seu melhor uso é como argumento de uma função. "
   ]
  },
  {
   "cell_type": "markdown",
   "id": "7980a71f-a7c3-496e-adff-361e35cc14e5",
   "metadata": {
    "slideshow": {
     "slide_type": "subslide"
    }
   },
   "source": [
    "**Exemplo:**"
   ]
  },
  {
   "cell_type": "code",
   "execution_count": 255,
   "id": "38887735-2799-4977-8724-bae8999cd46e",
   "metadata": {
    "slideshow": {
     "slide_type": "fragment"
    }
   },
   "outputs": [
    {
     "data": {
      "text/plain": [
       "[4, 9, 16]"
      ]
     },
     "execution_count": 255,
     "metadata": {},
     "output_type": "execute_result"
    }
   ],
   "source": [
    "square = lambda x: x**2 \n",
    "[square(x) for x in [2,3,4]]"
   ]
  },
  {
   "cell_type": "markdown",
   "id": "55c8e560-f0af-4f5d-8b19-3b1373da8877",
   "metadata": {
    "slideshow": {
     "slide_type": "fragment"
    }
   },
   "source": [
    "Comentários:\n",
    "\n",
    "- `square` é um objeto `function` (verifique com `type(square)`.\n",
    "- Esta função anônima eleva um número passado ao quadrado."
   ]
  },
  {
   "cell_type": "markdown",
   "id": "98a3e72c-c0ce-4f64-9c14-40657dc4de1b",
   "metadata": {
    "slideshow": {
     "slide_type": "subslide"
    }
   },
   "source": [
    "**Exemplo:**"
   ]
  },
  {
   "cell_type": "code",
   "execution_count": 269,
   "id": "9e4f0a1d-d16e-43db-a808-8a3d15bf2a83",
   "metadata": {
    "slideshow": {
     "slide_type": "fragment"
    }
   },
   "outputs": [
    {
     "data": {
      "text/plain": [
       "[4, 9, 16]"
      ]
     },
     "execution_count": 269,
     "metadata": {},
     "output_type": "execute_result"
    }
   ],
   "source": [
    "def op_to_list(lista,f):\n",
    "    return [f(x) for x in lista]\n",
    "\n",
    "op_to_list([2,3,4],lambda x: x**2)"
   ]
  },
  {
   "cell_type": "markdown",
   "id": "0ecb5339-5058-429d-a6c5-936a2ec0a5a8",
   "metadata": {
    "slideshow": {
     "slide_type": "fragment"
    }
   },
   "source": [
    "Discussão:\n",
    "- Esta construção produz um resultado equivalente ao anterior.\n",
    "- Neste exemplo, a função anônima é passada como argumento para ser aplicada à lista."
   ]
  },
  {
   "cell_type": "markdown",
   "id": "4ff401a0-1430-4621-b9d6-340b0fbf05f1",
   "metadata": {
    "slideshow": {
     "slide_type": "subslide"
    }
   },
   "source": [
    "**Exemplo:**"
   ]
  },
  {
   "cell_type": "code",
   "execution_count": 270,
   "id": "77e5ee41-86db-44d0-8bf6-b2f3096427df",
   "metadata": {
    "slideshow": {
     "slide_type": "fragment"
    }
   },
   "outputs": [
    {
     "data": {
      "text/plain": [
       "[4, 23, 60]"
      ]
     },
     "execution_count": 270,
     "metadata": {},
     "output_type": "execute_result"
    }
   ],
   "source": [
    "# f(x) = x**3 - 4\n",
    "op_to_list([2,3,4], lambda x: x**3 - 4)"
   ]
  },
  {
   "cell_type": "markdown",
   "id": "41b22937-80b9-49ea-bc46-ef3e2d5ec314",
   "metadata": {
    "slideshow": {
     "slide_type": "subslide"
    }
   },
   "source": [
    "**Exemplo:**"
   ]
  },
  {
   "cell_type": "code",
   "execution_count": 273,
   "id": "ca3c9fd4-5a62-46b2-b502-28ef7b850727",
   "metadata": {
    "slideshow": {
     "slide_type": "fragment"
    }
   },
   "outputs": [
    {
     "data": {
      "text/plain": [
       "[(['Aldo', 'Bermudes'], 'aldo.bermudes'),\n",
       " (['Vicário', 'Sempernaum'], 'vicário.sempernaum'),\n",
       " (['Sebastian', 'Folcher'], 'sebastian.folcher')]"
      ]
     },
     "execution_count": 273,
     "metadata": {},
     "output_type": "execute_result"
    }
   ],
   "source": [
    "# separa nome e sobrenome, \n",
    "# e cria um user\n",
    "op_to_list(['Aldo Bermudes',\n",
    "            'Vicário Sempernaum',\n",
    "            'Sebastian Folcher'], \n",
    "          lambda x: (x.split(' '),\n",
    "                     x.lower().replace(' ','.')))"
   ]
  },
  {
   "cell_type": "markdown",
   "id": "5534ef70-7c93-44a9-bb87-70507659a896",
   "metadata": {
    "slideshow": {
     "slide_type": "subslide"
    }
   },
   "source": [
    "> Nota: o abuso de _lambdas_ pode ser prejudicial à legibilidade de código. Use-as com moderação!"
   ]
  },
  {
   "cell_type": "markdown",
   "id": "a0db6c39-63a1-49cf-ba18-e48a73a4e151",
   "metadata": {
    "slideshow": {
     "slide_type": "subslide"
    }
   },
   "source": [
    "**Exemplo:**"
   ]
  },
  {
   "cell_type": "code",
   "execution_count": 277,
   "id": "6e2fe1c6-78d9-45f8-949f-724fb1755c3f",
   "metadata": {
    "slideshow": {
     "slide_type": "fragment"
    }
   },
   "outputs": [
    {
     "data": {
      "text/plain": [
       "['melancia', 'banana', 'abacate', 'morango', 'melão', 'romã']"
      ]
     },
     "execution_count": 277,
     "metadata": {},
     "output_type": "execute_result"
    }
   ],
   "source": [
    "frutas = ['melão','melancia','abacate',\n",
    "          'morango','romã','banana']\n",
    "\n",
    "sorted(frutas,key=lambda x: x[::-1])"
   ]
  },
  {
   "cell_type": "markdown",
   "id": "51580c89-2012-437c-83f5-68f77b0adc24",
   "metadata": {
    "slideshow": {
     "slide_type": "fragment"
    }
   },
   "source": [
    "Discussão:\n",
    "- `x[::-1]`faz um swap na string;\n",
    "- A função _lambda_ passada como _key_ permite que os elementos da lista sejam ordenados com base na **soletração invertida** delas. "
   ]
  },
  {
   "cell_type": "markdown",
   "id": "568dd1ea-db45-4164-a94c-1ab6ac4e5798",
   "metadata": {
    "slideshow": {
     "slide_type": "slide"
    }
   },
   "source": [
    "### `map`\n",
    "\n",
    "A função `map` serve para construir uma função que será aplicada a todos os elementos de uma sequência."
   ]
  },
  {
   "cell_type": "markdown",
   "id": "f6335542-8e20-437d-85c2-f7a522b68852",
   "metadata": {
    "slideshow": {
     "slide_type": "subslide"
    }
   },
   "source": [
    "**Exemplo:**"
   ]
  },
  {
   "cell_type": "code",
   "execution_count": 279,
   "id": "16ae6216-8c0b-40fb-ae00-5b4535745147",
   "metadata": {
    "slideshow": {
     "slide_type": "fragment"
    }
   },
   "outputs": [
    {
     "data": {
      "text/plain": [
       "[4, 9, 16]"
      ]
     },
     "execution_count": 279,
     "metadata": {},
     "output_type": "execute_result"
    }
   ],
   "source": [
    "list(map(lambda x: x**2,[2,3,4]))"
   ]
  },
  {
   "cell_type": "markdown",
   "id": "e9ec4e60-9561-4cf3-906d-722d8a9dbeee",
   "metadata": {
    "slideshow": {
     "slide_type": "subslide"
    }
   },
   "source": [
    "A conversão de `map` para um `list` é importante, pois o uso solitário de `map` produzirá uma resposta abstrata. "
   ]
  },
  {
   "cell_type": "code",
   "execution_count": 280,
   "id": "263ee277-03f1-4146-a88d-f4e779017e06",
   "metadata": {
    "slideshow": {
     "slide_type": "fragment"
    }
   },
   "outputs": [
    {
     "data": {
      "text/plain": [
       "<map at 0x1126948e0>"
      ]
     },
     "execution_count": 280,
     "metadata": {},
     "output_type": "execute_result"
    }
   ],
   "source": [
    "map(lambda x: x**2,[2,3,4]) "
   ]
  },
  {
   "cell_type": "markdown",
   "id": "dc7a690a-449b-4ef3-b0e4-59af61bd4c91",
   "metadata": {
    "slideshow": {
     "slide_type": "subslide"
    }
   },
   "source": [
    "**Exemplo:**"
   ]
  },
  {
   "cell_type": "code",
   "execution_count": 282,
   "id": "0b8dc34b-cd4b-4a5a-a82c-6f47a3e3d9fa",
   "metadata": {
    "slideshow": {
     "slide_type": "fragment"
    }
   },
   "outputs": [
    {
     "data": {
      "text/plain": [
       "('oãlem', 'aicnalem', 'etacaba', 'ognarom', 'ãmor', 'ananab')"
      ]
     },
     "execution_count": 282,
     "metadata": {},
     "output_type": "execute_result"
    }
   ],
   "source": [
    "frutas = ['melão','melancia','abacate',\n",
    "          'morango','romã','banana']\n",
    "\n",
    "tuple(map(lambda x: x[::-1],frutas))"
   ]
  },
  {
   "cell_type": "markdown",
   "id": "a4f22a3d-a271-434c-9250-d7c2e3dcb531",
   "metadata": {
    "slideshow": {
     "slide_type": "fragment"
    }
   },
   "source": [
    "Comentários:\n",
    "- O `map` é utilizado para realizar um swap nas strings.\n",
    "- Em seguida, realizamos uma conversão do `map` em um tupla."
   ]
  },
  {
   "cell_type": "markdown",
   "id": "c31fcb38-342a-4230-b905-891fde8bd772",
   "metadata": {
    "slideshow": {
     "slide_type": "slide"
    }
   },
   "source": [
    "### `filter`\n",
    "\n",
    "- Podemos aplicar uma espécie de “filtro” para valores usando a função `filter`.\n",
    "- Em geral, definimos uma função _lambda_ para este propósito."
   ]
  },
  {
   "cell_type": "code",
   "execution_count": 377,
   "id": "28c1d8f8-20ee-4bac-822b-fd6b891c6974",
   "metadata": {
    "slideshow": {
     "slide_type": "subslide"
    }
   },
   "outputs": [
    {
     "data": {
      "text/plain": [
       "[10, 1, 17, 9, 9, 14, 7, 12, 9, 18, 15]"
      ]
     },
     "execution_count": 377,
     "metadata": {},
     "output_type": "execute_result"
    }
   ],
   "source": [
    "from random import randint \n",
    "\n",
    "nums = []\n",
    "for _ in range(15):\n",
    "    nums.append(randint(0,30))\n",
    "\n",
    "f = filter(lambda x: x < 20,nums)\n",
    "list(f)"
   ]
  },
  {
   "cell_type": "markdown",
   "id": "e5286190-82a7-4947-a6f4-5f19225e5e03",
   "metadata": {
    "slideshow": {
     "slide_type": "slide"
    }
   },
   "source": [
    "#### Funções de ordem superior\n",
    "\n",
    "- A partir da introdução de compreensões de lista, `map` e `filter` passaram a ser menos importantes. \n",
    "\n",
    "> `map`, `filter`, `reduce` e `apply` são funções de _ordem superior_. Todas são menos frequentes em Python 3 devido à aparição de métodos mais \"modernos\" para realizar o que elas fazem. "
   ]
  },
  {
   "cell_type": "markdown",
   "id": "b1346458",
   "metadata": {
    "slideshow": {
     "slide_type": "slide"
    }
   },
   "source": [
    "### `args` e `kwargs`\n",
    "\n",
    "- Úteis para construir uma função que requeira um número arbitrário de argumentos. \n",
    "- Situação ocorre quando o usuário tem ampla liberdade para configurar algo. \n",
    "- Desempacotamento por _star expression_. "
   ]
  },
  {
   "cell_type": "markdown",
   "id": "022df6be-2677-4315-a4df-e96a037ced8b",
   "metadata": {
    "slideshow": {
     "slide_type": "subslide"
    }
   },
   "source": [
    "Um resumo da aplicação delas é o seguinte:\n",
    "\n",
    "- `*args` é **uma tupla** e utilizada para substituir um número arbitrário de argumentos posicionais.\n",
    "- `**kwargs`é **um dicionário** e utilizada para substituir um número arbitrário de _keywords_ e seus valores correspondentes."
   ]
  },
  {
   "cell_type": "markdown",
   "id": "0fce9fce-337f-44cc-aba5-4656c07cf8eb",
   "metadata": {
    "slideshow": {
     "slide_type": "subslide"
    }
   },
   "source": [
    "**Exemplo:** função que aceita um número arbitrário de argumentos de entrada."
   ]
  },
  {
   "cell_type": "code",
   "execution_count": 390,
   "id": "781260b3-db95-4b89-87a8-600ef7433e97",
   "metadata": {
    "slideshow": {
     "slide_type": "fragment"
    }
   },
   "outputs": [
    {
     "name": "stdout",
     "output_type": "stream",
     "text": [
      "2.0\n",
      "3.0\n",
      "5.428571428571429\n"
     ]
    }
   ],
   "source": [
    "def media_arit(*vals):\n",
    "    return sum(vals)/len(vals)\n",
    "\n",
    "print(media_arit(1,3))\n",
    "print(media_arit(1,2,4,5))\n",
    "print(media_arit(1,2,4,5,7,9,10))"
   ]
  },
  {
   "cell_type": "markdown",
   "id": "61648661-3a16-47db-8305-37199039989a",
   "metadata": {
    "slideshow": {
     "slide_type": "fragment"
    }
   },
   "source": [
    "Discussão:\n",
    "- `*vals` recebe, em cada caso, os argumentos de entrada. No primeiro caso, 2; no segundo, 4; no terceiro, 7."
   ]
  },
  {
   "cell_type": "markdown",
   "id": "1ba55643-ca66-4752-a9dc-61bc9e28ddcf",
   "metadata": {
    "slideshow": {
     "slide_type": "subslide"
    }
   },
   "source": [
    "**Exemplo:** equação de combinação linear em $\\mathbb{R}^n$ com coeficientes arbitrários."
   ]
  },
  {
   "cell_type": "code",
   "execution_count": 393,
   "id": "7d6ccc4a-15a3-4a09-a66f-982ed4974cc1",
   "metadata": {
    "scrolled": true,
    "slideshow": {
     "slide_type": "fragment"
    }
   },
   "outputs": [
    {
     "data": {
      "text/latex": [
       "$\\displaystyle v = 1.4x_1 + 4x_2$"
      ],
      "text/plain": [
       "<IPython.core.display.Math object>"
      ]
     },
     "metadata": {},
     "output_type": "display_data"
    },
    {
     "data": {
      "text/latex": [
       "$\\displaystyle v = 2x_1 + 34x_2 + 12x_3 + 65.43x_4$"
      ],
      "text/plain": [
       "<IPython.core.display.Math object>"
      ]
     },
     "metadata": {},
     "output_type": "display_data"
    }
   ],
   "source": [
    "from IPython.display import display as dpl, Math\n",
    "\n",
    "def comb_lin(*args):\n",
    "    l = []    \n",
    "    for i,c in enumerate(list(args)):\n",
    "        l.append(str(c) + 'x_' + str(i+1))\n",
    "        \n",
    "    final = '$v = ' + ' + '.join(l) + '$'\n",
    "    return final\n",
    "\n",
    "v2 = comb_lin(1.4,4) \n",
    "dpl(Math(v2))\n",
    "\n",
    "v4 = comb_lin(2,34,12,65.43)\n",
    "dpl(Math(v4))"
   ]
  },
  {
   "cell_type": "markdown",
   "id": "1fa1650c-ef67-4b52-8491-6fd83c344838",
   "metadata": {
    "slideshow": {
     "slide_type": "subslide"
    }
   },
   "source": [
    "Discussão:\n",
    "- A lista de coeficientes é percorrida com agregação dos termos $x_i$, para cada coordenada do espaço n-dimensional.\n",
    "- `dpl(Math(v4)` renderiza a equação."
   ]
  },
  {
   "cell_type": "markdown",
   "id": "eeee4474-562a-4246-82c4-51108c690832",
   "metadata": {
    "slideshow": {
     "slide_type": "subslide"
    }
   },
   "source": [
    "**Exemplo:** coleta de valores médios de áreas das superfícies radiculares de dentes humanos (em milímetros quadrados) por demanda."
   ]
  },
  {
   "cell_type": "code",
   "execution_count": 403,
   "id": "efb92cf8-2375-4170-921e-7fc6293da885",
   "metadata": {
    "slideshow": {
     "slide_type": "subslide"
    }
   },
   "outputs": [
    {
     "name": "stdout",
     "output_type": "stream",
     "text": [
      "Dente: incisivo_cent | Área inf: 160 mm2 | Área sup: 200 mm2 \n",
      "Dente: incisivo_lat | Área inf: 194 mm2 | Área sup: 200 mm2 \n"
     ]
    }
   ],
   "source": [
    "# dente: (area inf, area sup)\n",
    "# Ver: https://bit.ly/3iT9tsA, p.37, Quadro 2.1\n",
    "#dentes = {'Incisivo central':(170,230),\n",
    "#          'Incisivo lateral':(194,200),\n",
    "#          'Canino':(270,282),\n",
    "#          'Primeiro molar':(475,533)}\n",
    "\n",
    "\n",
    "def med_area_dent(**kwargs):\n",
    "    for k,v in kwargs.items():\n",
    "        print(f'Dente: {k} | Área inf: {v[0]} mm2 | Área sup: {v[1]} mm2 ')\n",
    "\n",
    "        \n",
    "med_area_dent(incisivo_cent=(160,200),\n",
    "              incisivo_lat=(194,200))        "
   ]
  },
  {
   "cell_type": "code",
   "execution_count": 397,
   "id": "96d5cb21-7f63-4b0b-9e65-86e8515d44c6",
   "metadata": {
    "slideshow": {
     "slide_type": "subslide"
    }
   },
   "outputs": [
    {
     "name": "stdout",
     "output_type": "stream",
     "text": [
      "Dente: IC | Área inf: 160 mm2 | Área sup: 200 mm2 \n",
      "Dente: C | Área inf: 270 mm2 | Área sup: 882 mm2 \n",
      "Dente: PM | Área inf: 475 mm2 | Área sup: 533 mm2 \n"
     ]
    }
   ],
   "source": [
    "med_area_dent(IC=(160,200),C=(270,882),PM=(475,533))        "
   ]
  },
  {
   "cell_type": "markdown",
   "id": "3d0eb804-c495-4fdf-a75b-0a66e9d351e4",
   "metadata": {
    "slideshow": {
     "slide_type": "fragment"
    }
   },
   "source": [
    "Discussão:\n",
    "\n",
    "- `**kwargs` admite a entrada de um dicionário com tamanho variável. Isto é, chaves e valores quaisquer. \n",
    "- Nestes exemplos, imprimimos os valores médidos de áreas dos radiculares.\n",
    "\n",
    "> As `keywords` podem ter nomes diferentes!"
   ]
  },
  {
   "cell_type": "markdown",
   "id": "c1593e09-fe2d-48a2-ba00-121d5e11ed6e",
   "metadata": {
    "slideshow": {
     "slide_type": "slide"
    }
   },
   "source": [
    "### `any` e `all`\n",
    "\n",
    "As funções predefinidas `any` e `all` são chamadas de \"redutoras\", visto que têm um papel relacionado à filtragem de dados. Elas são aplicáveis a qualquer sequência. Podemos entendê-las como segue: \n",
    "\n",
    "- `all`: retorna `True` se todo elemento do objeto iterável for avaliado com uma condição verdadeira.\n",
    "- `any`: retorna `True` se qualquer elemento do objeto iterável for avaliado com uma condição verdadeira."
   ]
  },
  {
   "cell_type": "markdown",
   "id": "81c3f591-503c-4663-9205-62bb8beb2182",
   "metadata": {
    "slideshow": {
     "slide_type": "subslide"
    }
   },
   "source": [
    "**Exemplo:**"
   ]
  },
  {
   "cell_type": "code",
   "execution_count": 410,
   "id": "aa4ec18b-40e2-4d9c-8c66-07ce6608e6e6",
   "metadata": {
    "slideshow": {
     "slide_type": "fragment"
    }
   },
   "outputs": [
    {
     "data": {
      "text/plain": [
       "False"
      ]
     },
     "execution_count": 410,
     "metadata": {},
     "output_type": "execute_result"
    }
   ],
   "source": [
    "x = [2,-1,3,4]\n",
    "\n",
    "all(list(map(lambda x: x < 0,x)))"
   ]
  },
  {
   "cell_type": "code",
   "execution_count": 411,
   "id": "518724cb-61b2-40f2-91e3-f7f09a7cbf47",
   "metadata": {
    "slideshow": {
     "slide_type": "fragment"
    }
   },
   "outputs": [
    {
     "data": {
      "text/plain": [
       "True"
      ]
     },
     "execution_count": 411,
     "metadata": {},
     "output_type": "execute_result"
    }
   ],
   "source": [
    "any(list(map(lambda x: x < 0,x)))"
   ]
  },
  {
   "cell_type": "code",
   "execution_count": 413,
   "id": "fe12ac61-21ef-435f-87b4-25439b2b48e9",
   "metadata": {
    "slideshow": {
     "slide_type": "fragment"
    }
   },
   "outputs": [
    {
     "data": {
      "text/plain": [
       "True"
      ]
     },
     "execution_count": 413,
     "metadata": {},
     "output_type": "execute_result"
    }
   ],
   "source": [
    "x = [2,1,3,4]\n",
    "\n",
    "all(list(map(lambda x: x > 0,x)))"
   ]
  }
 ],
 "metadata": {
  "celltoolbar": "Slideshow",
  "kernelspec": {
   "display_name": "Python 3",
   "language": "python",
   "name": "python3"
  },
  "language_info": {
   "codemirror_mode": {
    "name": "ipython",
    "version": 3
   },
   "file_extension": ".py",
   "mimetype": "text/x-python",
   "name": "python",
   "nbconvert_exporter": "python",
   "pygments_lexer": "ipython3",
   "version": "3.9.4"
  },
  "rise": {
   "enable_chalkboard": true,
   "footer": "ICD",
   "header": "Prof. Gustavo Oliveira | UFPB",
   "theme": "black"
  }
 },
 "nbformat": 4,
 "nbformat_minor": 5
}
