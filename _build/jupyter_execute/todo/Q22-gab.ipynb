{
 "cells": [
  {
   "cell_type": "markdown",
   "id": "014bb88f",
   "metadata": {},
   "source": [
    "## Questionário Q22"
   ]
  },
  {
   "cell_type": "markdown",
   "id": "449da54c",
   "metadata": {},
   "source": [
    "Orientações: \n",
    "\n",
    "- Registre suas respostas no questionário de mesmo nome no SIGAA.\n",
    "- O tempo de registro das respostas no questionário será de 10 minutos. Portanto, resolva primeiro as questões e depois registre-as.\n",
    "- Haverá apenas 1 (uma) tentativa de resposta.\n",
    "- Submeta seu arquivo-fonte (utilizado para resolver as questões) em formato _.ipynb_ pelo SIGAA anexando-a à Tarefa denominada \"Envio de arquivo\" correspondente ao questionário.\n",
    "\n",
    "*Nota:* o arquivo-fonte será utilizado apenas como prova de execução da tarefa. Nenhuma avaliação será feita quanto ao estilo de programação.\n",
    "\n",
    "<hr>"
   ]
  },
  {
   "cell_type": "markdown",
   "id": "1c0f80fa",
   "metadata": {},
   "source": [
    "**Questão 1**. O texto abaixo é uma mensagem encriptada. Cada grupo de 4 caracteres corresponde a um número hexadecimal.\n",
    "\n",
    "```\n",
    "0x45 0x6d 0x20 0x61 0x6c 0x67 0x75 0x6d 0x20 0x6c 0x75 0x67 0x61 0x72 0x2c 0x20 0x61 0x6c 0x67 0x6f 0x20 0x69 0x6e 0x63 0x72 0xed 0x76 0x65 0x6c 0x20 0x65 0x73 0x74 0xe1 0x20 0x65 0x73 0x70 0x65 0x72 0x61 0x6e 0x64 0x6f 0x20 0x70 0x61 0x72 0x61 0x20 0x73 0x65 0x72 0x20 0x64 0x65 0x73 0x63 0x6f 0x62 0x65 0x72 0x74 0x6f 0x2e\n",
    "```\n",
    "\n",
    "Use seus conhecimentos de funções _built_in_ para decodificar a mensagem, que é inteligível na Língua Portuguesa. Em seguida, determine quais são os caracteres da mensagem que correspondem, respectivamente, ao maior e menor valor binário entre os elementos da sequência. Assinale a alternativa que melhor descreve a mensagem decodificada, o caracter associado ao maior valor binário e o caracter associado ao menor valor binário, nesta sequência.\n",
    "\n",
    "A. `'Em nenhum lugar, todo possível está aguardando para ser manifesto'`, `'ê'` e `' '`.\n",
    "\n",
    "B. `'Em algum lugar, tudo incrível está esperando para ser incompleto.'`, `'s` e  `'a'`.\n",
    "\n",
    "C. `'Em nenhum lugar, algo possível deve aguardar para ser descoberto'`, `'ê'` e `'í'`.\n",
    "\n",
    "D. `'Em algum lugar, algo incrível está esperando para ser descoberto.'`, `'í` e  `' '`.\n",
    "\n",
    "_Obs.:_ Considere que os espaços na mensagem original não devem ser considerados como caracteres na mensagem decodificada e que ali servem apenas para separar os quartetos hexadecimais."
   ]
  },
  {
   "cell_type": "markdown",
   "id": "cb14b0b4",
   "metadata": {},
   "source": [
    "<hr>\n",
    "\n",
    "### Gabarito\n"
   ]
  },
  {
   "cell_type": "markdown",
   "id": "1878da74",
   "metadata": {},
   "source": [
    "Alternativa **D**"
   ]
  },
  {
   "cell_type": "code",
   "execution_count": 12,
   "id": "123a3013",
   "metadata": {},
   "outputs": [],
   "source": [
    "frase_code = [0x45, 0x6d, 0x20, 0x61, 0x6c, 0x67, 0x75, 0x6d, 0x20, 0x6c, 0x75, 0x67,0x61, 0x72, 0x2c, 0x20, 0x61,\n",
    "              0x6c, 0x67, 0x6f, 0x20, 0x69, 0x6e, 0x63,0x72, 0xed, 0x76, 0x65, 0x6c, 0x20, 0x65, 0x73, 0x74, 0xe1,\n",
    "              0x20, 0x65, 0x73, 0x70, 0x65, 0x72, 0x61, 0x6e, 0x64, 0x6f, 0x20, 0x70, 0x61, 0x72, 0x61, 0x20, 0x73,\n",
    "              0x65, 0x72, 0x20, 0x64, 0x65, 0x73, 0x63, 0x6f, 0x62, 0x65, 0x72, 0x74, 0x6f, 0x2e]"
   ]
  },
  {
   "cell_type": "code",
   "execution_count": 2,
   "id": "e8ffab91",
   "metadata": {},
   "outputs": [
    {
     "name": "stdout",
     "output_type": "stream",
     "text": [
      "A frase: Em algum lugar, algo incrível está esperando para ser descoberto.\n",
      "O maior numero em binário : [0b11101101] seu respectivo caractere: 'í'\n",
      "O menor numero em binário: [0b100000] e seu respectivo caratere: ' '\n"
     ]
    }
   ],
   "source": [
    "maior_int = max(frase_code)\n",
    "menor_int = min(frase_code)\n",
    "test  = [(chr(frase_code[_])) for _ in range(len(frase_code))]\n",
    "a = \"\".join(test)\n",
    "h , maior, menor , binario =bin(maior_int),max(a),min(a), bin(menor_int)\n",
    "print(f\"A frase: {a}\\n\\\n",
    "O maior numero em binário : [{h}] seu respectivo caractere: '{maior}'\\n\\\n",
    "O menor numero em binário: [{binario}] e seu respectivo caratere: '{menor}'\")"
   ]
  },
  {
   "cell_type": "markdown",
   "id": "a67aecb4-b4f9-49e6-b945-f311393037d4",
   "metadata": {},
   "source": [
    "**Questão 2**. Rindalve é um jovem promissor que conquistou um excelente emprego, mas sofre com a indisciplina financeira. Ele paga o aluguel da casa onde mora sempre com atraso de alguns dias e, extrapola o limite do cartão de crédito com frequência. Neste mês, Jonas pagou seu aluguel de <span> R&#36;</span> 6.500,00 com 12 dias de atraso e hoje faz 6 dias que a fatura de seu cartão, fechada em <span> R&#36;</span> 7.234,77, venceu. \n",
    "\n",
    "A imobiliária que administra a casa de Jonas usa a seguinte regra para calcular o valor adicional devido em caso de atraso no pagamento do aluguel:\n",
    "\n",
    "- mora de 6,25% sobre o valor do aluguel + juro simples de 0,025% ao dia\n",
    "\n",
    "A administradora de seu cartão de crédito, por outro lado, usa a seguinte regra para calcular o valor adicional devido em caso de atraso no pagamento da fatura do cartão:\n",
    "\n",
    "- juro composto de 1,44% ao dia.\n",
    "\n",
    "Crie uma função para calcular o valor total atualizado $V_T$ que Jonas deverá desembolsar, em reais, para quitar as despesas citadas. Então, marque a alternativa correta.\n",
    "\n",
    "A. <span> R&#36;</span> 19.048,09\n",
    "\n",
    "B. <span> R&#36;</span> 19.396,08\n",
    "\n",
    "C. <span> R&#36;</span> 14.166,77\n",
    "\n",
    "D. <span> R&#36;</span> 16.396,77"
   ]
  },
  {
   "cell_type": "markdown",
   "id": "13e1af0c-eee8-4daa-afd9-fc1fef4b0552",
   "metadata": {},
   "source": [
    "<hr>\n",
    "\n",
    "## Gabarito\n",
    "\n",
    "Alternativa C."
   ]
  },
  {
   "cell_type": "code",
   "execution_count": 30,
   "id": "143144ac-fc48-41a0-80b3-d6a619c96dc0",
   "metadata": {},
   "outputs": [
    {
     "data": {
      "text/plain": [
       "'Total devido: R$ = 14166.77'"
      ]
     },
     "execution_count": 30,
     "metadata": {},
     "output_type": "execute_result"
    }
   ],
   "source": [
    "def va_simples(valor,t,taxa,mora):\n",
    "    if t == 0:\n",
    "        return valor\n",
    "    else:\n",
    "        return valor*(1.0 + (mora + t*taxa)/100) \n",
    "\n",
    "def va_composto(valor,t,taxa):\n",
    "    if taxa > 1.0:\n",
    "        taxa /= 100\n",
    "        \n",
    "    if t == 0:\n",
    "        return valor\n",
    "    else:\n",
    "        return valor*(1.0 + taxa/100)**t\n",
    "\n",
    "def total(v1,v2):\n",
    "    return v1 + v2\n",
    "\n",
    "v1 = va_simples(6500,12,0.025,6.25)\n",
    "v2 = va_composto(7234.77,6,1.44)\n",
    "vt = total(v1,v2)\n",
    "f'Total devido: R$ = {vt:.2f}'"
   ]
  },
  {
   "cell_type": "markdown",
   "id": "08afcf00",
   "metadata": {},
   "source": [
    "<hr>\n",
    "\n",
    "**Questão 3**. O Ministério da Saúde disponibiliza uma lista de remédios através do programa _Farmácia Popular_. Clicando [aqui](https://antigo.saude.gov.br/images/pdf/2019/janeiro/07/Lista-Medicamentos.pdf), você será redirecionado a uma dessas listas. Crie um _dict_ em Python com as informações relevantes contidas na tabela do arquivo PDF. Em seguida, crie uma função regular que recebe o seu _dict_ como argumento e retorne 3 objetos: um _str_, um _tuple_ e um _int_, os quais nesta, ordem, responderão às seguintes perguntas: \n",
    "\n",
    "- Para que doença a maior quantidade de remédios na gratuidade é indicada? \n",
    "- Qual é a quantidade de remédios nas classes _gratuidade_ e _copopagamento_?\n",
    "- Quantos remédios têm a letra C como inicial de seu nome?\n",
    "\n",
    "Assinale a alternativa correta.\n",
    "\n",
    "Assinale a alternativa correta:\n",
    "\n",
    "A. 'HIPERTENSÃO', (20, 15), 3  \n",
    "\n",
    "B. 'ASMA', (20, 15), 7\n",
    "\n",
    "C. 'DIABETES', (10, 20), 8\n",
    "\n",
    "D. 'ASMA', (18, 17), 6\n",
    "\n",
    "\n",
    "_Obs.:_ tente usar funções anônimas sempre que possível."
   ]
  },
  {
   "cell_type": "markdown",
   "id": "ee0a164f",
   "metadata": {},
   "source": [
    "## GABARITO\n",
    "    \n",
    "Alternativa **B**"
   ]
  },
  {
   "cell_type": "code",
   "execution_count": 3,
   "id": "bfb41155",
   "metadata": {},
   "outputs": [
    {
     "data": {
      "text/plain": [
       "(35, 35, 35)"
      ]
     },
     "execution_count": 3,
     "metadata": {},
     "output_type": "execute_result"
    }
   ],
   "source": [
    "#Criação do dataset\n",
    "medicamentos = [\"ATENOLOL 25MG\",\"CAPTOPRIL 25MG\", \"CLORIDRATO DE PROPRANOLOL 40MG\",\"HIDROCLOROTIAZIDA 25MG\",\n",
    "               \"LOSARTANA POTÁSSICA 50MG\",\"MALEATO DE ENALAPRIL 10MG\",\"GLIBENCLAMIDA 5MG\",\"CLORIDRATO DE METFORMINA 500MG\",\n",
    "               \"CLORIDRATO DE METFORMINA 500MG – AÇÃO PROLONGADA\", \"CLORIDRATO DE METFORMINA 850MG\",\"INSULINA HUMANA 100UI/ML\",\n",
    "               \"INSULINA HUMANA REGULAR 100UI/ML\",\"SULFATO DE SALBUTAMOL 5MG\",\"SULFATO DE SALBUTAMOL 100MCG\",\n",
    "               \"DIPROPIONATO DE BECLOMETASONA 50MCG\",\"DIPROPIONATO DE BECLOMETASONA 200MCG/DOSE\",\n",
    "               \"DIPROPIONATO DE BECLOMETASONA 200MCG/CÁPSULA\",\"DIPROPIONATO DE BECLOMETASONA 250MCG\",\n",
    "               \"BROMETO DE IPRATRÓPIO 0,25MG/ML\",\"BROMETO DE IPRATRÓPIO 0,02MG/DOSE\",\"ACETATO DE MEDROXIPROGESTERONA 150MG\",\n",
    "               \"ETINILESTRADIOL 0,03MG + LEVONORGESTREL 0,15MG\",\"NORETISTERONA 0,35MG\",\n",
    "                \"VALERATO DE ESTRADIOL 5MG + ENANTATO DE NORETISTERONA 50MG\",\"SINVASTATINA 10MG\",\"SINVASTATINA 20MG\",\n",
    "               \"SINVASTATINA 40MG\", \"BUDESONIDA 32MCG\", \"BUDESONIDA 50MCG\",\"DIPROPINATO DE BELCLOMETASONA 50MCG\",\n",
    "               \"CARBIDOPA 25MG + LEVODOPA 250MG\", \"CLORIDRATO DE BENSERAZIDA 25MG + LEVODOPA 100MG\",\"ALENDRONATO DE SÓDIO 70MG\",\n",
    "               \"MALEATO DE TIMOLOL 2,5MG\",\"MALEATO DE TIMOLOL 5MG\"]\n",
    "\n",
    "indicacao = [\"HIPERTENSÃO\",\"HIPERTENSÃO\",\"HIPERTENSÃO\",\"HIPERTENSÃO\",\"HIPERTENSÃO\",\"HIPERTENSÃO\",\"DIABETES\",\n",
    "            \"DIABETES\",\"DIABETES\",\"DIABETES\",\"DIABETES\",\"DIABETES\",\"ASMA\",\"ASMA\",\"ASMA\",\"ASMA\",\"ASMA\",\"ASMA\",\n",
    "            \"ASMA\",\"ASMA\",\"ANTICONCEPÇÃO\",\"ANTICONCEPÇÃO\",\"ANTICONCEPÇÃO\",\"ANTICONCEPÇÃO\",\"DISLIPIDEMIA\",\"DISLIPIDEMIA\",\n",
    "            \"DISLIPIDEMIA\", \"RINITE\",\"RINITE\",\"RINITE\",\"DOENÇA DE PARKINSON\",\"DOENÇA DE PARKINSON\",\"OSTEOPOROSE\",\n",
    "            \"GLAUCOMA\",\"GLAUCOMA\"]\n",
    "\n",
    "gratuidade_copagamento = [\"GRATUIDADE\",\"GRATUIDADE\",\"GRATUIDADE\",\"GRATUIDADE\",\"GRATUIDADE\",\"GRATUIDADE\",\"GRATUIDADE\",\n",
    "                         \"GRATUIDADE\",\"GRATUIDADE\",\"GRATUIDADE\",\"GRATUIDADE\",\"GRATUIDADE\",\"GRATUIDADE\",\"GRATUIDADE\",\n",
    "                         \"GRATUIDADE\",\"GRATUIDADE\",\"GRATUIDADE\",\"GRATUIDADE\",\"GRATUIDADE\",\"GRATUIDADE\",\"COPAGAMENTO\",\n",
    "                         \"COPAGAMENTO\",\"COPAGAMENTO\",\"COPAGAMENTO\",\"COPAGAMENTO\",\"COPAGAMENTO\",\"COPAGAMENTO\",\n",
    "                         \"COPAGAMENTO\",\"COPAGAMENTO\",\"COPAGAMENTO\",\"COPAGAMENTO\",\"COPAGAMENTO\",\"COPAGAMENTO\",\"COPAGAMENTO\",\n",
    "                          \"COPAGAMENTO\"]\n",
    "\n",
    "#verificação se todas estão correpondentes\n",
    "len(medicamentos),len(indicacao),len(gratuidade_copagamento)"
   ]
  },
  {
   "cell_type": "code",
   "execution_count": 4,
   "id": "aff296b6",
   "metadata": {},
   "outputs": [
    {
     "name": "stdout",
     "output_type": "stream",
     "text": [
      "| 1 | ATENOLOL 25MG | HIPERTENSÃO | GRATUIDADE\n",
      "| 2 | CAPTOPRIL 25MG | HIPERTENSÃO | GRATUIDADE\n",
      "| 3 | CLORIDRATO DE PROPRANOLOL 40MG | HIPERTENSÃO | GRATUIDADE\n",
      "| 4 | HIDROCLOROTIAZIDA 25MG | HIPERTENSÃO | GRATUIDADE\n",
      "| 5 | LOSARTANA POTÁSSICA 50MG | HIPERTENSÃO | GRATUIDADE\n",
      "| 6 | MALEATO DE ENALAPRIL 10MG | HIPERTENSÃO | GRATUIDADE\n",
      "| 7 | GLIBENCLAMIDA 5MG | DIABETES | GRATUIDADE\n",
      "| 8 | CLORIDRATO DE METFORMINA 500MG | DIABETES | GRATUIDADE\n",
      "| 9 | CLORIDRATO DE METFORMINA 500MG – AÇÃO PROLONGADA | DIABETES | GRATUIDADE\n",
      "| 10 | CLORIDRATO DE METFORMINA 850MG | DIABETES | GRATUIDADE\n",
      "| 11 | INSULINA HUMANA 100UI/ML | DIABETES | GRATUIDADE\n",
      "| 12 | INSULINA HUMANA REGULAR 100UI/ML | DIABETES | GRATUIDADE\n",
      "| 13 | SULFATO DE SALBUTAMOL 5MG | ASMA | GRATUIDADE\n",
      "| 14 | SULFATO DE SALBUTAMOL 100MCG | ASMA | GRATUIDADE\n",
      "| 15 | DIPROPIONATO DE BECLOMETASONA 50MCG | ASMA | GRATUIDADE\n",
      "| 16 | DIPROPIONATO DE BECLOMETASONA 200MCG/DOSE | ASMA | GRATUIDADE\n",
      "| 17 | DIPROPIONATO DE BECLOMETASONA 200MCG/CÁPSULA | ASMA | GRATUIDADE\n",
      "| 18 | DIPROPIONATO DE BECLOMETASONA 250MCG | ASMA | GRATUIDADE\n",
      "| 19 | BROMETO DE IPRATRÓPIO 0,25MG/ML | ASMA | GRATUIDADE\n",
      "| 20 | BROMETO DE IPRATRÓPIO 0,02MG/DOSE | ASMA | GRATUIDADE\n",
      "| 21 | ACETATO DE MEDROXIPROGESTERONA 150MG | ANTICONCEPÇÃO | COPAGAMENTO\n",
      "| 22 | ETINILESTRADIOL 0,03MG + LEVONORGESTREL 0,15MG | ANTICONCEPÇÃO | COPAGAMENTO\n",
      "| 23 | NORETISTERONA 0,35MG | ANTICONCEPÇÃO | COPAGAMENTO\n",
      "| 24 | VALERATO DE ESTRADIOL 5MG + ENANTATO DE NORETISTERONA 50MG | ANTICONCEPÇÃO | COPAGAMENTO\n",
      "| 25 | SINVASTATINA 10MG | DISLIPIDEMIA | COPAGAMENTO\n",
      "| 26 | SINVASTATINA 20MG | DISLIPIDEMIA | COPAGAMENTO\n",
      "| 27 | SINVASTATINA 40MG | DISLIPIDEMIA | COPAGAMENTO\n",
      "| 28 | BUDESONIDA 32MCG | RINITE | COPAGAMENTO\n",
      "| 29 | BUDESONIDA 50MCG | RINITE | COPAGAMENTO\n",
      "| 30 | DIPROPINATO DE BELCLOMETASONA 50MCG | RINITE | COPAGAMENTO\n",
      "| 31 | CARBIDOPA 25MG + LEVODOPA 250MG | DOENÇA DE PARKINSON | COPAGAMENTO\n",
      "| 32 | CLORIDRATO DE BENSERAZIDA 25MG + LEVODOPA 100MG | DOENÇA DE PARKINSON | COPAGAMENTO\n",
      "| 33 | ALENDRONATO DE SÓDIO 70MG | OSTEOPOROSE | COPAGAMENTO\n",
      "| 34 | MALEATO DE TIMOLOL 2,5MG | GLAUCOMA | COPAGAMENTO\n",
      "| 35 | MALEATO DE TIMOLOL 5MG | GLAUCOMA | COPAGAMENTO\n"
     ]
    }
   ],
   "source": [
    "#juntando indicação + gratuiddado_copagamento\n",
    "ind_grat = [indicacao[_] + \" | \"+ gratuidade_copagamento[_] for _ in range(len(indicacao))]\n",
    "#criando o dict\n",
    "a = dict(zip(medicamentos, ind_grat))\n",
    "for i in enumerate(a):\n",
    "    print(f\"| {i[0]+1} | {i[1]} | \" + ind_grat[i[0]])"
   ]
  },
  {
   "cell_type": "code",
   "execution_count": 22,
   "id": "4c6a0f18",
   "metadata": {},
   "outputs": [],
   "source": [
    "def info_medicamentos(dic):\n",
    "    import re\n",
    "    #atribuindo a ind_cop a indicação e o copagamento e names os nomes dos remédios\n",
    "    ind_cop = [y for x,y in dic.items()]\n",
    "    names = [x for x,y in dic.items()]\n",
    "    \n",
    "    #contando quantos remédios iniciam com a letra \"C\"\n",
    "    inicial = list(map(lambda x: x[0][0] == \"C\",names))\n",
    "    \n",
    "    #separando a indicação e a gratuidade para verificar quantidade\n",
    "    sep = list(map(lambda x: (x.split(' | ')), ind_cop))\n",
    "    count_grat = 0\n",
    "    count_copa = 0\n",
    "    for a,b in sep:\n",
    "        if b == \"GRATUIDADE\":\n",
    "            count_grat += 1\n",
    "        else:\n",
    "            count_copa +=1\n",
    "            \n",
    "    #indetificando qual indicação contém mais remédios gratuitos      \n",
    "    junt = \" \".join(ind_cop)\n",
    "    chek = 0\n",
    "    for indi_list in [\"HIPERTENSÃO\", \"DIABETES\", \"ASMA\"]:\n",
    "        if len(re.findall(indi_list,junt)) > chek:\n",
    "            chek, name_ind = len(re.findall(indi_list,junt)) , indi_list\n",
    "        print(f'A indicação {indi_list} contém {len(re.findall(indi_list,junt))} remédios gratuitos!')\n",
    "    print(f\"Então {name_ind}!\")    \n",
    "     \n",
    "    \n",
    "    #contagens\n",
    "    print(f\"\\nHá {count_grat} remédios gratuitos e {count_copa} remédios coparticipativos!\")\n",
    "    #inicial\n",
    "    print(f\"{inicial.count(True)} remédios iniciam com a letra C\")\n",
    "    \n",
    "    print(f\"\\nResultado esperado: {name_ind} / {count_grat,count_copa} / {inicial.count(True)})\")\n",
    "   "
   ]
  },
  {
   "cell_type": "code",
   "execution_count": 23,
   "id": "046b76fb",
   "metadata": {
    "scrolled": true
   },
   "outputs": [
    {
     "name": "stdout",
     "output_type": "stream",
     "text": [
      "A indicação HIPERTENSÃO contém 6 remédios gratuitos!\n",
      "A indicação DIABETES contém 6 remédios gratuitos!\n",
      "A indicação ASMA contém 8 remédios gratuitos!\n",
      "Então ASMA!\n",
      "\n",
      "Há 20 remédios gratuitos e 15 remédios coparticipativos!\n",
      "7 remédios iniciam com a letra C\n",
      "\n",
      "Resultado esperado: ASMA / (20, 15) / 7)\n"
     ]
    }
   ],
   "source": [
    "info_medicamentos(a)"
   ]
  }
 ],
 "metadata": {
  "kernelspec": {
   "display_name": "Python 3",
   "language": "python",
   "name": "python3"
  },
  "language_info": {
   "codemirror_mode": {
    "name": "ipython",
    "version": 3
   },
   "file_extension": ".py",
   "mimetype": "text/x-python",
   "name": "python",
   "nbconvert_exporter": "python",
   "pygments_lexer": "ipython3",
   "version": "3.8.8"
  }
 },
 "nbformat": 4,
 "nbformat_minor": 5
}