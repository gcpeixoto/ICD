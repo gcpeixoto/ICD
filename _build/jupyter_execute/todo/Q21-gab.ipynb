{
 "cells": [
  {
   "cell_type": "markdown",
   "id": "b92c4d44",
   "metadata": {},
   "source": [
    "## Questionário 21\n",
    "\n",
    "Orientações: \n",
    "\n",
    "- Registre suas respostas no questionário de mesmo nome no SIGAA.\n",
    "- O tempo de registro das respostas no questionário será de 10 minutos. Portanto, resolva primeiro as questões e depois registre-as.\n",
    "- Haverá apenas 1 (uma) tentativa de resposta.\n",
    "- Submeta seu arquivo-fonte (utilizado para resolver as questões) em formato _.ipynb_ pelo SIGAA anexando-a à Tarefa denominada \"Envio de arquivo\" correspondente ao questionário.\n",
    "\n",
    "*Nota:* o arquivo-fonte será utilizado apenas como prova de execução da tarefa. Nenhuma avaliação será feita quanto ao estilo de programação.\n",
    "\n",
    "<hr>"
   ]
  },
  {
   "cell_type": "markdown",
   "id": "6b8a00c8",
   "metadata": {},
   "source": [
    "**Questão 1**. As rodovias federais brasileiras interligam cidades, estados e regiões. De acordo com o Departamento Nacional de Infraestrutura de Transportes (DNIT), há 5 categorias de rodovias: radiais, longitudinais, transversais, diagonais e de ligação.\n",
    "\n",
    "Fonte: [DNIT](https://www.gov.br/dnit/pt-br/rodovias/rodovias-federais/nomeclatura-das-rodovias-federais).\n",
    "\n",
    "Usando _listcomps_, desenvolva um programa que organiza os códigos das rodovias que passam pelo estado da Paraíba separando os algarismos da sigla \"BR\" e assinale a alternativa correta quanto ao número de rodovias por categoria:\n",
    "\n",
    "A. 1 longitudinais / 4 transversal / 3 diagonal / 4 de ligação  \n",
    "\n",
    "B. 2 longitudinais / 4 transversal / 3 diagonal / 6 de ligação  \n",
    "\n",
    "C. 4 longitudinais / 1 transversal / 1 diagonal / 6 de ligação  \n",
    "\n",
    "D. 5 longitudinais / 1 transversal / 3 diagonal / 6 de ligação  "
   ]
  },
  {
   "cell_type": "markdown",
   "id": "198a8b4f-a755-4190-bb86-0369d03052e7",
   "metadata": {},
   "source": [
    "### Gabarito\n",
    "\n",
    "- BR-101, BR-104, BR-110, BR-116;\n",
    "- BR-230; \n",
    "- BR-361;\n",
    "- BR-405, BR-408, BR-412, BR-426, BR-427, BR-434.\n",
    "\n",
    "Alternativa C."
   ]
  },
  {
   "cell_type": "code",
   "execution_count": 1,
   "id": "64aa7efa",
   "metadata": {},
   "outputs": [],
   "source": [
    "rodovias = [\"BR-101\",\"BR-230\",\"BR-104\",\"BR-408\",\"BR-412\",\"BR-110\",\"BR-361\",\"BR-426\",\"BR-427\",\"BR-116\",\"BR-405\",\"BR-434\"]"
   ]
  },
  {
   "cell_type": "code",
   "execution_count": 3,
   "id": "39bbbd73",
   "metadata": {
    "scrolled": true
   },
   "outputs": [
    {
     "data": {
      "text/plain": [
       "['BR-101 Longitudinal',\n",
       " 'BR-230 Transversais',\n",
       " 'BR-104 Longitudinal',\n",
       " 'BR-408 Ligação',\n",
       " 'BR-412 Ligação',\n",
       " 'BR-110 Longitudinal',\n",
       " 'BR-361 Diagonais',\n",
       " 'BR-426 Ligação',\n",
       " 'BR-427 Ligação',\n",
       " 'BR-116 Longitudinal',\n",
       " 'BR-405 Ligação',\n",
       " 'BR-434 Ligação']"
      ]
     },
     "execution_count": 3,
     "metadata": {},
     "output_type": "execute_result"
    }
   ],
   "source": [
    "#GABARITO Q1\n",
    "#Criando listas de categoria\n",
    "categorias = [\"Radial\",\"Longitudinal\",\"Transversais\",\"Diagonais\",\"Ligação\"]\n",
    "#separador\n",
    "algarismos = [x[3:] for x in rodovias] #Ou pode ser usado o x.split(\"-\")\n",
    "\n",
    "#identificando o numero chave do algarimo\n",
    "identify = [int(i[0][0]) for i in algarismos]\n",
    "\n",
    "#relacionando o valor chave e sua categoria\n",
    "categorias_relacionadas = [categorias[identify[k]] for k in range(len(identify))]\n",
    "\n",
    "#concatenando o codigo de br com sua categoria\n",
    "resultado = [rodovias[a] + \" \" + categorias_relacionadas[a] for a in range(len(rodovias))]; resultado"
   ]
  },
  {
   "cell_type": "markdown",
   "id": "6402df22",
   "metadata": {},
   "source": [
    "  "
   ]
  },
  {
   "cell_type": "markdown",
   "id": "a53810af",
   "metadata": {},
   "source": [
    " "
   ]
  },
  {
   "cell_type": "markdown",
   "id": "4af19d57",
   "metadata": {},
   "source": [
    "**Questão 2**. Segundo o Balanço Energético Nacional 2019, a matriz elétrica brasileira estava distribuída segundo o gráfico abaixo:\n",
    "\n",
    "```{figure} ../figs/q/ben.png\n",
    "---\n",
    "width: 400px\n",
    "name: ben\n",
    "---\n",
    "Fonte: Matriz elétrica brasileira em 2019\n",
    "```\n",
    "\n",
    "Fonte: [[EPE]](https://www.epe.gov.br/pt/abcdenergia/matriz-energetica-e-eletrica).\n",
    "        \n",
    "\n",
    "Crie um dicionário em que as _keys_ e _values_ correspondam, respectivamente, às fontes de energia e ao percentual na matriz. Considere que:\n",
    "\n",
    "- _i_ é o índice da _key_ \"Biomassa\" no _dict_ ordenado por valor percentual **crescente**;\n",
    "- _j_ é o índice da _key_ \"Eólica\" no _dict_ ordenado por valor percentual **decrescente**.\n",
    "\n",
    "Assinale a alternativa correta:\n",
    "\n",
    "A. _i_ = 4, _j_ = 2\n",
    "\n",
    "B. _i_ = 5, _j_ = 3\n",
    "\n",
    "C. _i_ = 0, _j_ = 7\n",
    "\n",
    "D. _i_ = 3, _j_ = 6"
   ]
  },
  {
   "cell_type": "markdown",
   "id": "4477f527-959d-4adb-94a7-710362c7fda1",
   "metadata": {},
   "source": [
    "### Gabarito\n",
    "\n",
    "Alternativa A."
   ]
  },
  {
   "cell_type": "code",
   "execution_count": 2,
   "id": "1db3516a",
   "metadata": {},
   "outputs": [],
   "source": [
    "M_el = {'Carvão e derivados': 3.3, 'Hidráulica': 64.9, 'Nuclear': 2.5, 'Gás natural': 9.3, \n",
    "        'Solar': 1, 'Eólica' : 8.6, 'Biomassa': 8.4, 'Derivados de petróleo': 2 }"
   ]
  },
  {
   "cell_type": "markdown",
   "id": "2d4a9861",
   "metadata": {},
   "source": [
    "a) Crie uma função para exibir de forma crescente as porcentagens do dicionário acima e suas respectivas fontes de energia:"
   ]
  },
  {
   "cell_type": "code",
   "execution_count": 5,
   "id": "e68af02e",
   "metadata": {},
   "outputs": [],
   "source": [
    "# COLOQUE SEU CÓDIGO AQUI"
   ]
  },
  {
   "cell_type": "markdown",
   "id": "73f9aa57",
   "metadata": {},
   "source": [
    "b) Agora faça o mesmo sendo que de forma decrescente."
   ]
  },
  {
   "cell_type": "code",
   "execution_count": 6,
   "id": "18c51a21",
   "metadata": {},
   "outputs": [],
   "source": [
    "# COLOQUE SEU CÓDIGO AQUI"
   ]
  },
  {
   "cell_type": "markdown",
   "id": "0a59f497",
   "metadata": {},
   "source": [
    "c) Crie uma função para indicar a fontes que é mais utilizada e a que é menos utilizada na Matriz Elétrica."
   ]
  },
  {
   "cell_type": "markdown",
   "id": "4f6683d3",
   "metadata": {},
   "source": [
    " "
   ]
  },
  {
   "cell_type": "code",
   "execution_count": 34,
   "id": "1486c92a",
   "metadata": {},
   "outputs": [
    {
     "name": "stdout",
     "output_type": "stream",
     "text": [
      "Solar : 1%\n",
      "Derivados de petróleo : 2%\n",
      "Nuclear : 2.5%\n",
      "Carvão e derivados : 3.3%\n",
      "Biomassa : 8.4%\n",
      "Eólica : 8.6%\n",
      "Gás natural : 9.3%\n",
      "Hidráulica : 64.9%\n",
      "\n",
      "\n",
      "Hidráulica : 64.9%\n",
      "Gás natural : 9.3%\n",
      "Eólica : 8.6%\n",
      "Biomassa : 8.4%\n",
      "Carvão e derivados : 3.3%\n",
      "Nuclear : 2.5%\n",
      "Derivados de petróleo : 2%\n",
      "Solar : 1%\n"
     ]
    }
   ],
   "source": [
    "#Célula para mostrar a resolução, remover célula na hora de mandar para os alunos\n",
    "\n",
    "#Resolução a)\n",
    "\n",
    "def crescente(x):\n",
    "    y = []\n",
    "\n",
    "    for i in sorted(x, key = x.get):\n",
    "        y.append([i, x[i]])\n",
    "\n",
    "    for i in range(len(y)):\n",
    "        print(\"{} : {}%\" .format(y[i][0], y[i][1]))\n",
    "        \n",
    "#Resolução b)\n",
    "\n",
    "def decrescente(x):\n",
    "    y = []\n",
    "\n",
    "    for i in sorted(x, key = x.get, reverse = True):\n",
    "        y.append([i, x[i]])\n",
    "\n",
    "    for i in range(len(y)):\n",
    "        print(\"{} : {}%\" .format(y[i][0], y[i][1]))\n",
    "\n",
    "#Resolução c)\n",
    "def MaioreMenor(x):\n",
    "    y = []\n",
    "\n",
    "    for i in sorted(x, key = x.get, reverse = True):\n",
    "        y.append([i, x[i]])\n",
    "\n",
    "    print(\"A maior é a {} com {}%\" .format(y[0][0], y[0][1]))\n",
    "    print(\"A menor é a {} com {}%\" .format(y[len(y) - 1][0], y[len(y) - 1][1]))\n",
    "    \n",
    "crescente(M_el)    \n",
    "print('\\n')\n",
    "decrescente(M_el)"
   ]
  },
  {
   "cell_type": "markdown",
   "id": "113ba67e",
   "metadata": {},
   "source": [
    " "
   ]
  },
  {
   "cell_type": "markdown",
   "id": "e4ba6bec",
   "metadata": {},
   "source": [
    "**Questão 3**: Para que um número de CPF (Cadastro de Pessoa Física) brasileiro seja considerado válido, a soma de todos os seus números deve resultar em um número com dois dígitos iguais. Por exemplo, o número de CPF $003.939.708-41$ é válido porque \n",
    "\n",
    "$$0 + 0 + 3 + 9 + 3 + 9 + 7 + 8 + 4 + 1 = 44.$$\n",
    "\n",
    "Adicionalmente, a sua autenticidade pode ser verificada observando o último número antes do hífen, o qual determina o estado de origem daquele número de CPF. Considerando que um número de CPF possa ser escrito pela máscara\n",
    "\n",
    "$$abc.def.ghi\\text{-}jk,$$\n",
    "\n",
    "o estado ao qual o número de CPF pertence será determinado a partir da correspondência abaixo.\n",
    "\n",
    "- $i=0$: Rio Grande do Sul    \n",
    "- $i=1$: Distrito Federal – Goiás – Mato Grosso – Mato Grosso do Sul – Tocantins    \n",
    "- $i=2$: Pará – Amazonas – Acre – Amapá – Rondônia – Roraima    \n",
    "- $i=3$: Ceará – Maranhão – Piauí    \n",
    "- $i=4$: Pernambuco – Rio Grande do Norte – Paraíba – Alagoas    \n",
    "- $i=5$: Bahia – Sergipe    \n",
    "- $i=6$: Minas Gerais    \n",
    "- $i=7$: Rio de Janeiro – Espírito Santo\n",
    "- $i=8$: São Paulo\n",
    "- $i=9$: Paraná – Santa Catarina\n",
    "\n",
    "Fonte: [[ACE Guarulhos]](https://www.aceguarulhos.com.br/blog/como-saber-se-um-cpf-e-verdadeiro/#gsc.tab=0)\n",
    "A função a seguir cria _n_ CPFs fictícios de modo aleatório:\n",
    "\n",
    "```python\n",
    "import random \n",
    "def random_cpf(n):\n",
    "    random.seed(38)\n",
    "    cpf = []    \n",
    "    for _ in range(n):              \n",
    "        n = random.randrange(10000000000,99999999999)\n",
    "        cpf.append(n)\n",
    "    return cpf \n",
    "```    \n",
    "\n",
    "Execute esta função para _n_=2. Em seguida, faça um programa para checar se os CPFs gerados são válidos ou inválidos, bem como para determinar o estado brasileiro desses CPFs. Assinale a alternativa correta.\n",
    "\n",
    "A. Existem apenas 3 CPFs válidos e 1 deles pertence ao Acre.\n",
    "B. Existem apenas 5 CPFs válidos e 2 deles pertencem a São Paulo.\n",
    "C. Existe apenas 1 CPF válido, pertencente a Rondônia.\n",
    "D. Todos os CPFs são válidos, exceto o último da lista.\n",
    "\n",
    "**Dica:** use expressão regular."
   ]
  },
  {
   "cell_type": "markdown",
   "id": "03beae38",
   "metadata": {},
   "source": [
    "### Gabarito \n",
    "\n",
    "Alternatva B.\n",
    "\n",
    "##### Função de gerar os cpfs, limpar a parte do gabarito"
   ]
  },
  {
   "cell_type": "markdown",
   "id": "af7f68b4",
   "metadata": {},
   "source": [
    "##### Atenção professor, retirar toda a parte comentada, corresponde a resolução"
   ]
  },
  {
   "cell_type": "code",
   "execution_count": 33,
   "id": "4a49bff9",
   "metadata": {},
   "outputs": [],
   "source": [
    "#toda a parte comentada corresponde a resolução da questão, RETIRAR DO NOTEBOOK\n",
    "import random \n",
    "def random_cpf(n):\n",
    "    random.seed(38)\n",
    "    cpf = []\n",
    "    #cpf_valido = []\n",
    "    #valido = 0\n",
    "    for _ in range(n):              \n",
    "        n = random.randrange(10000000000,99999999999)\n",
    "        cpf.append(n)\n",
    "        #x = str(n)\n",
    "        #s = str(sum([int(digit) for digit in x]))\n",
    "        #if s[0] == s[1]:\n",
    "            #valido+=1\n",
    "            #cpf_valido.append(n)\n",
    "        #s = 0   \n",
    "    return cpf #valido, cpf_valido"
   ]
  },
  {
   "cell_type": "code",
   "execution_count": 37,
   "id": "cdbae756",
   "metadata": {},
   "outputs": [
    {
     "data": {
      "text/plain": [
       "[68581093450,\n",
       " 25995741643,\n",
       " 57529102265,\n",
       " 73126840536,\n",
       " 15905286856,\n",
       " 88039947847,\n",
       " 54429577243,\n",
       " 93019478645,\n",
       " 51775415282,\n",
       " 64042892375,\n",
       " 21221880666,\n",
       " 76692463306,\n",
       " 66439432656,\n",
       " 42327558469,\n",
       " 61589781627,\n",
       " 81359433689,\n",
       " 27285430081,\n",
       " 24927304478,\n",
       " 23959506537,\n",
       " 30389438863]"
      ]
     },
     "execution_count": 37,
     "metadata": {},
     "output_type": "execute_result"
    }
   ],
   "source": [
    "cpfs = random_cpf(20);cpfs\n",
    "#COLOQUE SEU CÓDIGO AQUI (crie mais células abaixo se necessário)"
   ]
  },
  {
   "cell_type": "markdown",
   "id": "9634d86a",
   "metadata": {},
   "source": [
    "Assinale e marque a resposta correta:\n",
    "- a) São válidos apenas 3 CPFs, e são de, respectivamente: \n",
    "        'Minas Gerais', 'São Paulo', 'Pernambuco – Rio Grande do Norte – Paraíba – Alagoas', 'São Paulo'.\n",
    "\n",
    "\n",
    "- b) É válido apenas 1 CPF, e é de:\n",
    "         'São Paulo'.\n",
    "\n",
    "\n",
    "\n",
    "- c) São válidos apenas 2 CPFs,e são de  respectivamente:\n",
    "         'São Paulo', 'Pernambuco – Rio Grande do Norte – Paraíba – Alagoas'.\n",
    "  \n",
    "  \n",
    "\n",
    "- d) São válidos apenas 5 CPFs, e são de, respectivamente:\n",
    "         'Minas Gerais', 'Pará – Amazonas – Acre – Amapá – Rondônia – Roraima', 'São Paulo',\n",
    "         'Pernambuco – Rio Grande do Norte – Paraíba – Alagoas', 'São Paulo'.\n",
    "         \n",
    "         \n",
    "         \n",
    "- e) Nenhum CPF é válido, visto que são numeros gerados aleatóriamente tornando quase impossível conter tal coincidência!        "
   ]
  },
  {
   "cell_type": "markdown",
   "id": "91a9679a",
   "metadata": {},
   "source": [
    "### GABARITO"
   ]
  },
  {
   "cell_type": "code",
   "execution_count": 28,
   "id": "bed898f5",
   "metadata": {},
   "outputs": [
    {
     "name": "stdout",
     "output_type": "stream",
     "text": [
      "O seed: 1, obteve 5 CPFs válidos: [25995741643, 57529102265, 15905286856, 42327558469, 30389438863]\n"
     ]
    }
   ],
   "source": [
    "#Para rodar daqui em diante é necessário descomentar as funções anteriores\n",
    "#verificando qual o melhor seed para a criação da função, utilizar seed=38, VAI CONTER 5 CPFS VÁLIDOS\n",
    "s = 1\n",
    "maior = 0\n",
    "while s < 50:\n",
    "    cpf = random_cpf(20,s)\n",
    "    if cpf[1] > maior:\n",
    "        seed,maior,cpf_valido = s, cpf[1],cpf[2]\n",
    "    s += 1\n",
    "print(f\"O seed: {seed}, obteve {maior} CPFs válidos: {cpf_valido}\")"
   ]
  },
  {
   "cell_type": "code",
   "execution_count": 29,
   "id": "42d838a3",
   "metadata": {},
   "outputs": [],
   "source": [
    "#Após obter os cpfs válidos, sempre vai corresponder a estes locais\n",
    "#importando biblioteca necessária\n",
    "import re\n",
    "#criando lista de possíveis lugares\n",
    "lugares = [\"Rio Grande do Sul\",\"Distrito Federal – Goiás – Mato Grosso – Mato Grosso do Sul – Tocantins\",\n",
    "          \"Pará – Amazonas – Acre – Amapá – Rondônia – Roraima\",\"Ceará – Maranhão – Piauí\",\n",
    "          \"Pernambuco – Rio Grande do Norte – Paraíba – Alagoas\",\"Bahia – Sergipe\", \"Minas Gerais\",\n",
    "          \"Rio de Janeiro – Espírito Santo\", \"São Paulo\",\"Paraná – Santa Catarina\"] #Pode ser usado dict\n",
    "#função para localizar\n",
    "def localyze(s):\n",
    "    lista= []\n",
    "    lugar = []\n",
    "    a = [str(s[_]) for _ in range(len(s))]\n",
    "    #usando a função espressões regulares para pegar apenas o digito que nos interessa\n",
    "    x = [re.findall('[0-9]', a[_][8]) for _ in range(len(a))]\n",
    "    #criando lista com os index correspondente a lista de lugares\n",
    "    lista.extend([int(x[i][0]) for i in range(len(x))])\n",
    "    #criando lista com lugares correspondentes a lista criada\n",
    "    lugar.extend(lugares[lista[i]] for i in range(len(x)))\n",
    "    return lugar"
   ]
  },
  {
   "cell_type": "code",
   "execution_count": 30,
   "id": "9ea78dea",
   "metadata": {},
   "outputs": [
    {
     "data": {
      "text/plain": [
       "['Minas Gerais',\n",
       " 'Pará – Amazonas – Acre – Amapá – Rondônia – Roraima',\n",
       " 'São Paulo',\n",
       " 'Pernambuco – Rio Grande do Norte – Paraíba – Alagoas',\n",
       " 'São Paulo']"
      ]
     },
     "execution_count": 30,
     "metadata": {},
     "output_type": "execute_result"
    }
   ],
   "source": [
    "localyze(cpf_valido)"
   ]
  }
 ],
 "metadata": {
  "kernelspec": {
   "display_name": "Python 3",
   "language": "python",
   "name": "python3"
  },
  "language_info": {
   "codemirror_mode": {
    "name": "ipython",
    "version": 3
   },
   "file_extension": ".py",
   "mimetype": "text/x-python",
   "name": "python",
   "nbconvert_exporter": "python",
   "pygments_lexer": "ipython3",
   "version": "3.8.8"
  }
 },
 "nbformat": 4,
 "nbformat_minor": 5
}