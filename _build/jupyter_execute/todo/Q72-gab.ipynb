{
 "cells": [
  {
   "cell_type": "markdown",
   "id": "b7c6ae62-3afd-47ec-b6ef-115937b4219c",
   "metadata": {},
   "source": [
    "## Questionário 72 (Q72)\n",
    "\n",
    "Orientações: \n",
    "\n",
    "- Registre suas respostas no questionário de mesmo nome no SIGAA.\n",
    "- O tempo de registro das respostas no questionário será de 10 minutos. Portanto, resolva primeiro as questões e depois registre-as.\n",
    "- Haverá apenas 1 (uma) tentativa de resposta.\n",
    "- Submeta seu arquivo-fonte (utilizado para resolver as questões) em formato _.ipynb_ pelo SIGAA anexando-o à Tarefa denominada \"Envio de arquivo\" correspondente ao questionário.\n",
    "\n",
    "*Nota:* o arquivo-fonte será utilizado apenas como prova de execução da tarefa. Nenhuma avaliação será feita quanto ao estilo de programação.\n",
    "\n",
    "<hr>"
   ]
  },
  {
   "cell_type": "markdown",
   "id": "2754415b-22e8-4733-aa28-901c3ef1bdf1",
   "metadata": {},
   "source": [
    "Para responder às questões, leia o texto introdutório a seguir.\n",
    "\n",
    ">Um ataque hacker ao portal do Governo Federal foi identificado após se descobrir na página https://www.gov.br/economia/pt-br/assuntos/processo-eletronico-nacional/conteudo/barramento-de-servicos/relacao-dos-orgaos-e-entidades, associada ao Ministério da Economia, que as _cache keys_ embutidas em alguns links resultavam em uma chave com 6 blocos de 4 dígitos que permitia o acesso furtivo a dados sigilosos.\n",
    ">\n",
    ">A atividade criminosa funcionava da seguinte forma:\n",
    ">\n",
    ">1. O hacker coletou cada _cache key_ existente no cabeçalho do arquivo .HTML dessa página exatamente nas vinculações aos arquivos .CSS. A _cache key_ é um número hexadecimal de 32 dígitos que aparece em um elemento `<link>`. No exemplo \n",
    ">```html\n",
    "><link href=\"https://www.gov.br/economia/ ... cachekey-dac9630aec642a428cd73f4be0a03569.css\"  ... />,\n",
    ">```\n",
    "> a cache key é o número `dac9630aec642a428cd73f4be0a03569`.\n",
    "> 2. O hacker usava a _cache key_ como entrada para uma função decriptadora e obtinha um número de 4 dígitos.\n",
    "> 3. Juntando as 6 _cache keys_ contidas na página, ele determinava uma sequência do tipo ####.####.####.####.####.####, que era usada para quebrar _firewalls_ e acessar os arquivos sigilosos.\n",
    ">\n",
    "\n",
    "Como especialista, você frustrou o ataque do hacker usando a função de decriptação dada por:\n",
    "```python\n",
    "def decrypt(Hash):\n",
    "    return sum(map(lambda x: ord(x),Hash)),\n",
    "```\n",
    "onde `Hash` é uma _cache key_. Por exemplo:\n",
    "\n",
    "```python\n",
    "print(decrypt('dac9630aec642a428cd73f4be0a03569'))\n",
    "2280\n",
    "```\n",
    "\n",
    "\n",
    "_Obs.:_ o relato acima é fictício."
   ]
  },
  {
   "cell_type": "markdown",
   "id": "37812462-e0aa-4490-b1fc-30209150f2d2",
   "metadata": {},
   "source": [
    "**Questão 1.** Utilize raspagem de dados para coletar as 6 _cache keys_ contidas na página e determinar as 6 quádruplas que quebram o _firewall_ e assinale a alternativa que contém todas as quádruplas corretas, independentemente da ordem das _cache keys_ que os determinam.\n",
    "\n",
    "A. 2184.1999.2200.1090.2215.2175\n",
    "\n",
    "B. 1090.1999.2169.2215.2175.2184\n",
    "\n",
    "C. 2091.2169.1999.2184.2215.2175\n",
    "\n",
    "D. 2175.1999.2184.2215.1090.1010"
   ]
  },
  {
   "cell_type": "markdown",
   "id": "8116ca68-0b73-45d9-8254-0f4940d038db",
   "metadata": {},
   "source": [
    "## GABARITO \n",
    "\n",
    "Alternativa **C**."
   ]
  },
  {
   "cell_type": "code",
   "execution_count": 2,
   "id": "abbd323a-3c9d-4dc4-a00e-a5430e32c8ce",
   "metadata": {},
   "outputs": [
    {
     "data": {
      "text/plain": [
       "{2215: '4a21f3937dd6f4f89b8d16728182fe2f',\n",
       " 2175: '0c31728a3e7108b3f261e8aa6e5ca331',\n",
       " 2091: '1b344ad55df00297c407169c4cb35475',\n",
       " 2169: '715d92bf5752dbe815d989936f6f005b',\n",
       " 1999: 'f1d8571f08ac94651335a30389d12127',\n",
       " 2184: '1ed4564f817a7882afc4321325dad02b'}"
      ]
     },
     "execution_count": 2,
     "metadata": {},
     "output_type": "execute_result"
    }
   ],
   "source": [
    "from urllib.request import urlopen\n",
    "from bs4 import BeautifulSoup\n",
    "import re\n",
    "\n",
    "html = urlopen('https://www.gov.br/economia/pt-br/assuntos/processo-eletronico-nacional/conteudo/barramento-de-servicos/relacao-dos-orgaos-e-entidades')\n",
    "bs = BeautifulSoup(html.read(),'html.parser')\n",
    "\n",
    "cachekeys = []\n",
    "for a in bs.head.find_all('link',href=True):\n",
    "    href = a.get('href')\n",
    "    if re.search('cachekey',href):\n",
    "        cachekeys.append(href.split('cachekey-')[-1].split('.')[0])\n",
    "\n",
    "# função de decriptação\n",
    "def decrypt(Hash):\n",
    "    return sum(map(lambda x: ord(x),Hash))\n",
    "\n",
    "d = {decrypt(c):c for c in cachekeys}   \n",
    "d"
   ]
  },
  {
   "cell_type": "markdown",
   "id": "71ab03a5-7746-476b-add0-c81201eeb46e",
   "metadata": {},
   "source": [
    "**Questão 2.** No corpo do arquivo HTML da página em questão, existem diversas âncoras (elementos da árvore DOM com a tag `<a>...</a>` com URLs que apontam para outros endereços no domínio do Ministério da Economia. Assinale a alternativa correta para o número de links _x_ contidos em `<body>` que iniciam pela raiz `https://www.gov.br/economia/pt-br`.\n",
    "\n",
    "A. 490 < _x_ < 494\n",
    "\n",
    "B. 499 < _x_ < 504 \n",
    "\n",
    "C. 400 < _x_ < 404\n",
    "\n",
    "D. 306 < _x_ < 308"
   ]
  },
  {
   "cell_type": "markdown",
   "id": "5969e7e7-6498-485e-9fa2-3d2625c8ee0f",
   "metadata": {},
   "source": [
    "## GABARITO\n",
    "\n",
    "Alternativa **B**."
   ]
  },
  {
   "cell_type": "code",
   "execution_count": 3,
   "id": "eb44d26e-bdb2-4438-86be-9f23249ef890",
   "metadata": {},
   "outputs": [
    {
     "data": {
      "text/plain": [
       "501"
      ]
     },
     "execution_count": 3,
     "metadata": {},
     "output_type": "execute_result"
    }
   ],
   "source": [
    "gov_economia_links = []\n",
    "for a in bs.body.find_all('a',href=True):\n",
    "    href = a.get('href')    \n",
    "    if re.search('(https://www.gov.br/economia/pt-br)',href):\n",
    "        gov_economia_links.append(href)\n",
    "        \n",
    "len(gov_economia_links)        "
   ]
  },
  {
   "cell_type": "markdown",
   "id": "4cd39168-b31f-459f-84aa-eb83e7d94da6",
   "metadata": {},
   "source": [
    "**Questão 3.** Marque a alternativa correta para o número de descendentes de `<body>` na árvore DOM correspondente ao arquivo HTML da página em questão.\n",
    "\n",
    "A. 5821\n",
    "\n",
    "B. 6000\n",
    "\n",
    "C. 5800\n",
    "\n",
    "D. 5994"
   ]
  },
  {
   "cell_type": "markdown",
   "id": "323d8a8f-1c6b-4ce3-89af-721d57bb0ae3",
   "metadata": {},
   "source": [
    "## GABARITO\n",
    "\n",
    "Alternativa **A**."
   ]
  },
  {
   "cell_type": "code",
   "execution_count": 4,
   "id": "c635e782-5f75-4e3e-a504-8a4beade2c19",
   "metadata": {},
   "outputs": [
    {
     "data": {
      "text/plain": [
       "5821"
      ]
     },
     "execution_count": 4,
     "metadata": {},
     "output_type": "execute_result"
    }
   ],
   "source": [
    "k = 0\n",
    "for _ in bs.body.descendants:\n",
    "    k += 1\n",
    "k    "
   ]
  }
 ],
 "metadata": {
  "kernelspec": {
   "display_name": "Python 3",
   "language": "python",
   "name": "python3"
  },
  "language_info": {
   "codemirror_mode": {
    "name": "ipython",
    "version": 3
   },
   "file_extension": ".py",
   "mimetype": "text/x-python",
   "name": "python",
   "nbconvert_exporter": "python",
   "pygments_lexer": "ipython3",
   "version": "3.8.8"
  }
 },
 "nbformat": 4,
 "nbformat_minor": 5
}