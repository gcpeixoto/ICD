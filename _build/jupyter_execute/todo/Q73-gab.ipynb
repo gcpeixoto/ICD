{
 "cells": [
  {
   "cell_type": "markdown",
   "id": "ecfb2d13-20d3-450a-82f5-fd11b9cc65cb",
   "metadata": {},
   "source": [
    "## Questionário 73 (Q73)\n",
    "\n",
    "Orientações: \n",
    "\n",
    "- Registre suas respostas no questionário de mesmo nome no SIGAA.\n",
    "- O tempo de registro das respostas no questionário será de 10 minutos. Portanto, resolva primeiro as questões e depois registre-as.\n",
    "- Haverá apenas 1 (uma) tentativa de resposta.\n",
    "- Submeta seu arquivo-fonte (utilizado para resolver as questões) em formato _.ipynb_ pelo SIGAA anexando-o à Tarefa denominada \"Envio de arquivo\" correspondente ao questionário.\n",
    "\n",
    "*Nota:* o arquivo-fonte será utilizado apenas como prova de execução da tarefa. Nenhuma avaliação será feita quanto ao estilo de programação.\n",
    "\n",
    "<hr>"
   ]
  },
  {
   "cell_type": "markdown",
   "id": "b3164879-717c-44f1-8aaf-47eadeecdb5f",
   "metadata": {},
   "source": [
    "Para responder às questões, leia o texto introdutório a seguir.\n",
    "\n",
    ">Diversos países firmam acordos bilaterais com o intuito de fortalecer interesses mútuos. Uma rede multinacional da qual o Brasil faz parte começou a ser modelada por cientistas de dados a partir de um grafo não dirigido em que os _nós_ do grafo representam os países, renomeados segundo o código Alpha-3 do padrão [IBAN](https://www.iban.com/country-codes), e as _arestas_ representam a existência de um acordo bilateral.\n",
    "> A figura abaixo mostra, por exemplo, um subgrafo dessa rede formado por Áustria (AUT), Bélgica (BEL), Brasil (BRA), Emirados Árabes Unidos (ARE) e Estados Unidos (USA).\n",
    "```{figure} ../figs/q/q73.png\n",
    "---\n",
    "width: 660px\n",
    "name: rede\n",
    "---\n",
    "Exemplo de rede de países que mantêm acordos bilaterais.\n",
    "```\n",
    "> O arquivo `paises-acordo-bilateral.txt` contém, implicitamente, a lista de conexões que formam o grafo da rede inteira, as quais são determinadas por pares do tipo `x,y`, onde `x` e `y` são nomes de países não padronizados. Por exemplo, o par `China,Norway` indica que há um acordo bilateral entre China e Noruega.\n",
    "\n",
    ">*Obs.:* acesse o arquivo [aqui](https://github.com/gcpeixoto/ICD/tree/main/database/paises-acordo-bilateral.txt)."
   ]
  },
  {
   "cell_type": "markdown",
   "id": "9d80ccef-5cb7-4534-9ad9-925832b0548c",
   "metadata": {},
   "source": [
    "**Questão 1.** Faça a raspagem da tabela de códigos de países disponíveis na página [IBAN](https://www.iban.com/country-codes) para recuperar os códigos Alpha-3 para cada país contido na lista de arestas e crie um segundo arquivo chamado `paises-acordo-bilateral-IBAN.txt`. Use o módulo `networkx` e a função `read_edgelist` para construir o grafo da rede multinacional. Em seguida, assinale a alternativa correta para a tupla (número de nós, número de arestas) que você encontrou. Sugestão: use as funções `get_table_head` e `get_table_body` criadas no capítulo do livro de ICD sobre _Raspagem de dados_.\n",
    "\n",
    "A. (14, 28)\n",
    "\n",
    "B. (16, 30)\n",
    "\n",
    "C. (12, 36)\n",
    "\n",
    "D. (14, 38)"
   ]
  },
  {
   "cell_type": "markdown",
   "id": "40e68ea7-0c29-4978-96f5-e61ce6c62c6b",
   "metadata": {},
   "source": [
    "## GABARITO\n",
    "\n",
    "Alternativa **D**."
   ]
  },
  {
   "cell_type": "markdown",
   "id": "e263a687-d390-4bfd-b826-e213a296e853",
   "metadata": {},
   "source": [
    "## Geração de arquivo de acordo bilateral"
   ]
  },
  {
   "cell_type": "code",
   "execution_count": 1,
   "id": "61c25bbf-4dc6-4786-b167-b061f5c20eeb",
   "metadata": {
    "tags": []
   },
   "outputs": [],
   "source": [
    "import numpy as np\n",
    "np.random.seed(3)\n",
    "\n",
    "countries = ('Argentina','Austria','Belgium','Brazil','China',\n",
    "             'United Arab Emirates (the)',\n",
    "             'United States of America (the)','Germany',\n",
    "             'India','Israel','Netherlands (the)',\n",
    "             'Norway','Russian Federation (the)','South Africa')\n",
    "\n",
    "adj = np.random.randint(0,2,(len(countries),len(countries)))\n",
    "adj[np.diag_indices_from(adj)] = 0\n",
    "adj = np.tril(adj)\n",
    "adj = np.tril(adj) + np.tril(adj).T \n",
    "\n",
    "f = open('../database/paises-acordo-bilateral.txt','w')\n",
    "for i in range(len(countries)):\n",
    "    for j in range(i+1,len(countries)):\n",
    "        if adj[i,j] == 1:\n",
    "            s = countries[i] + ',' + countries[j] + '\\n'\n",
    "            f.write(s)\n",
    "            \n",
    "f.close()"
   ]
  },
  {
   "cell_type": "markdown",
   "id": "dd04544b-c572-4cda-96a0-e37ceb0c6cbd",
   "metadata": {},
   "source": [
    "## Raspagem do IBAN"
   ]
  },
  {
   "cell_type": "markdown",
   "id": "ed7a6c96-fd99-4a38-8db8-62b470a1fe17",
   "metadata": {},
   "source": [
    "\n"
   ]
  },
  {
   "cell_type": "code",
   "execution_count": 2,
   "id": "35fc7ebb-6ff5-4278-b15b-5968b1112a33",
   "metadata": {},
   "outputs": [],
   "source": [
    "from urllib.request import urlopen\n",
    "from bs4 import BeautifulSoup\n",
    "import pandas as pd\n",
    "import networkx as nx\n",
    "\n",
    "html = urlopen('https://www.iban.com/country-codes')\n",
    "bs = BeautifulSoup(html.read(),'html.parser')\n",
    "\n",
    "# extrai cabeçalho\n",
    "def get_table_head(t):\n",
    "    '''Lê objeto tabela e extrai header para lista'''\n",
    "    res = []\n",
    "    thead = t.find('thead')\n",
    "    th = thead.find_all('th')\n",
    "    for f in th:\n",
    "        res.append(f.getText().strip())\n",
    "    return res\n",
    "\n",
    "t_header = get_table_head(bs.body)\n",
    "\n",
    "# extrai linhas\n",
    "def get_table_body(t):\n",
    "    res = []\n",
    "    tbody = t.find('tbody')\n",
    "    tr = tbody.find_all('tr')\n",
    "    for row in tr:\n",
    "        this_row = []\n",
    "        row_fields = row.find_all('td')\n",
    "        for f in row_fields:\n",
    "            this_row.append(f.getText().strip())\n",
    "            res.append(this_row)\n",
    "    return res\n",
    "\n",
    "r = get_table_body(bs.body)\n",
    "# DataFrame\n",
    "iban = pd.DataFrame(r,columns=t_header).drop_duplicates().drop(columns=['Alpha-2 code','Numeric']).reset_index(drop=True)"
   ]
  },
  {
   "cell_type": "markdown",
   "id": "40a0ac6c-b376-463a-9e31-64dde833c14d",
   "metadata": {},
   "source": [
    "## Escreve edgelist"
   ]
  },
  {
   "cell_type": "code",
   "execution_count": 3,
   "id": "fc4b2e69-c8af-44f9-a319-463437897ed0",
   "metadata": {},
   "outputs": [],
   "source": [
    "f = open('../database/paises-acordo-bilateral.txt','r')\n",
    "g = open('../database/paises-acordo-bilateral-IBAN.txt','w')\n",
    "\n",
    "for i in f.readlines():\n",
    "    p1,p2 = i.strip().split(',') \n",
    "    p1 = iban[iban['Country'] == p1]['Alpha-3 code'].values\n",
    "    p2 = iban[iban['Country'] == p2]['Alpha-3 code'].values\n",
    "    p1,p2 = p1[0],p2[0]\n",
    "    s = p1 + ',' + p2 + '\\n'\n",
    "    g.write(s)\n",
    "\n",
    "f.close()\n",
    "g.close()"
   ]
  },
  {
   "cell_type": "code",
   "execution_count": 4,
   "id": "d39a07e9-8a0e-4d90-a5f8-0942a7f97ef9",
   "metadata": {},
   "outputs": [
    {
     "data": {
      "image/png": "[encoded data removed]",
      "text/plain": [
       "<Figure size 432x288 with 1 Axes>"
      ]
     },
     "metadata": {
      "filenames": {
       "image/png": "/Users/gustavo/Dropbox/courses/data-science/ICD/_build/jupyter_execute/todo/Q73-gab_11_0.png"
      }
     },
     "output_type": "display_data"
    }
   ],
   "source": [
    "G = nx.read_edgelist('../database/paises-acordo-bilateral-IBAN.txt',delimiter=',')\n",
    "Gsub = nx.subgraph(G,['AUT','ARE','USA','BRA','BEL',''])\n",
    "nx.draw_networkx(Gsub,with_labels=True)"
   ]
  },
  {
   "cell_type": "code",
   "execution_count": 5,
   "id": "db1758c3-3dcb-44e6-a76f-2cf9e64e5db7",
   "metadata": {},
   "outputs": [
    {
     "data": {
      "text/plain": [
       "(14, 38)"
      ]
     },
     "execution_count": 5,
     "metadata": {},
     "output_type": "execute_result"
    }
   ],
   "source": [
    "G.number_of_nodes(),G.number_of_edges()"
   ]
  },
  {
   "cell_type": "markdown",
   "id": "1dba1b84-7882-43a0-9e66-627bbd46b171",
   "metadata": {},
   "source": [
    "**Questão 2.** A _centralidade de grau_ `deg`, calculada para cada nó do grafo completo pelo módulo `networkx`, pode ser interpretada, para este estudo de caso, como uma medida relativa da pré-disposição de um país para se abrir à globalização. Neste sentido, calcule `deg` e assinale a opção cujo país é o mais **fechado** ao fenômeno da globalização.\n",
    "\n",
    "A. CHN \n",
    "\n",
    "B. BRA\n",
    "\n",
    "C. ARG\n",
    "\n",
    "D. NLD"
   ]
  },
  {
   "cell_type": "markdown",
   "id": "b67e7fea-2bb8-42e4-a7ed-a0054bed47ec",
   "metadata": {},
   "source": [
    "## GABARITO\n",
    "\n",
    "Alternativa **D**."
   ]
  },
  {
   "cell_type": "code",
   "execution_count": 6,
   "id": "caca4bf9-6d65-4dfd-9253-57af832113fb",
   "metadata": {},
   "outputs": [
    {
     "data": {
      "text/plain": [
       "{'DEU': 0.6923076923076923,\n",
       " 'ISR': 0.6153846153846154,\n",
       " 'ARE': 0.6153846153846154,\n",
       " 'NOR': 0.5384615384615385,\n",
       " 'BEL': 0.46153846153846156,\n",
       " 'USA': 0.46153846153846156,\n",
       " 'CHN': 0.38461538461538464,\n",
       " 'AUT': 0.38461538461538464,\n",
       " 'RUS': 0.38461538461538464,\n",
       " 'ARG': 0.3076923076923077,\n",
       " 'BRA': 0.3076923076923077,\n",
       " 'ZAF': 0.23076923076923078,\n",
       " 'IND': 0.23076923076923078,\n",
       " 'NLD': 0.23076923076923078}"
      ]
     },
     "execution_count": 6,
     "metadata": {},
     "output_type": "execute_result"
    }
   ],
   "source": [
    "# minima deg é NLD\n",
    "deg = nx.degree_centrality(G)\n",
    "deg = {k: v for k, v in sorted(deg.items(), key=lambda item: item[1],reverse=True)}\n",
    "deg"
   ]
  },
  {
   "cell_type": "markdown",
   "id": "6f4cf9a5-1585-4729-98f4-cb4ef52eabb2",
   "metadata": {},
   "source": [
    "**Questão 3.** Semelhantemente à interpretação da questão anterior, a _centralidade de intermediação_ `bet` fornece uma medida relativa de quão boa é a confiança e respeitabilidade diplomática de um país para a concretização de acordos. Calcule `bet` e assinale a opção cujo país é o mais respeitado para intermediar acordos.\n",
    "\n",
    "A. AUT\n",
    "\n",
    "B. ZAF\n",
    "\n",
    "C. DEU\n",
    "\n",
    "D. ISR"
   ]
  },
  {
   "cell_type": "markdown",
   "id": "e40c09ab-37d0-444c-85f5-51c91e1dcd5b",
   "metadata": {},
   "source": [
    "## GABARITO\n",
    "\n",
    "Alternativa **C**."
   ]
  },
  {
   "cell_type": "code",
   "execution_count": 7,
   "id": "39407396-8844-4b42-b880-081ac4399dce",
   "metadata": {},
   "outputs": [
    {
     "data": {
      "text/plain": [
       "{'DEU': 0.16265262515262513,\n",
       " 'ISR': 0.12664835164835167,\n",
       " 'ARE': 0.09372710622710621,\n",
       " 'CHN': 0.0839896214896215,\n",
       " 'NOR': 0.06858974358974358,\n",
       " 'AUT': 0.050534188034188035,\n",
       " 'USA': 0.03774420024420024,\n",
       " 'ARG': 0.027472527472527472,\n",
       " 'BEL': 0.026098901098901096,\n",
       " 'RUS': 0.025106837606837604,\n",
       " 'IND': 0.023504273504273504,\n",
       " 'BRA': 0.013247863247863246,\n",
       " 'NLD': 0.01282051282051282,\n",
       " 'ZAF': 0.004273504273504273}"
      ]
     },
     "execution_count": 7,
     "metadata": {},
     "output_type": "execute_result"
    }
   ],
   "source": [
    "# maxima bet é DEU\n",
    "bet = nx.betweenness_centrality(G)\n",
    "bet = {k: v for k, v in sorted(bet.items(), key=lambda item: item[1],reverse=True)}\n",
    "bet"
   ]
  },
  {
   "cell_type": "code",
   "execution_count": 8,
   "id": "cc38170d-506b-4ca8-b277-631c59217fe9",
   "metadata": {},
   "outputs": [],
   "source": [
    "!rm ../database/paises-acordo-bilateral-IBAN.txt"
   ]
  }
 ],
 "metadata": {
  "kernelspec": {
   "display_name": "Python 3",
   "language": "python",
   "name": "python3"
  },
  "language_info": {
   "codemirror_mode": {
    "name": "ipython",
    "version": 3
   },
   "file_extension": ".py",
   "mimetype": "text/x-python",
   "name": "python",
   "nbconvert_exporter": "python",
   "pygments_lexer": "ipython3",
   "version": "3.8.8"
  }
 },
 "nbformat": 4,
 "nbformat_minor": 5
}