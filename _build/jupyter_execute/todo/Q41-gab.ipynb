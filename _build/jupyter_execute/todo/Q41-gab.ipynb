{
 "cells": [
  {
   "cell_type": "markdown",
   "id": "ae739765",
   "metadata": {},
   "source": [
    "## Questionário 41 (Q41)"
   ]
  },
  {
   "cell_type": "markdown",
   "id": "3f742e8d",
   "metadata": {},
   "source": [
    "Orientações: \n",
    "\n",
    "- Registre suas respostas no questionário de mesmo nome no SIGAA.\n",
    "- O tempo de registro das respostas no questionário será de 10 minutos. Portanto, resolva primeiro as questões e depois registre-as.\n",
    "- Haverá apenas 1 (uma) tentativa de resposta.\n",
    "- Submeta seu arquivo-fonte (utilizado para resolver as questões) em formato _.ipynb_ pelo SIGAA anexando-o à Tarefa denominada \"Envio de arquivo\" correspondente ao questionário.\n",
    "\n",
    "*Nota:* o arquivo-fonte será utilizado apenas como prova de execução da tarefa. Nenhuma avaliação será feita quanto ao estilo de programação.\n",
    "\n",
    "<hr>"
   ]
  },
  {
   "cell_type": "markdown",
   "id": "2568c76e",
   "metadata": {},
   "source": [
    "**Questão 1.** No _dataset_ [enem2019.xlsx](https://github.com/gcpeixoto/ICD/blob/main/database/enem2019.xlsx), estão disponíveis as notas médias por estado obtidas nas provas do ENEM 2019. A partir da série que contém a média das notas da prova de Ciências Humanas, converta os valores para inteiro, faça uma distribuição de frequências e calcule a amplitude _h_ dos intervalos de classe, se divididos uniformemente. Marque a alternativa que corresponde ao valor correto de _h_ e à classe cuja frequência é 3.\n",
    "\n",
    "A. _h_ = 8 e [499,509)\n",
    "\n",
    "B. _h_ = 10 e [499,509)\n",
    "\n",
    "C. _h_ = 9 e [509,519)\n",
    "\n",
    "D. _h_ = 10 e [509,519)"
   ]
  },
  {
   "cell_type": "markdown",
   "id": "648bf865",
   "metadata": {},
   "source": [
    "<hr>\n",
    "\n",
    "## Gabarito\n",
    "\n",
    "Alternativa **B**"
   ]
  },
  {
   "cell_type": "code",
   "execution_count": 2,
   "id": "7da2595c",
   "metadata": {},
   "outputs": [],
   "source": [
    "import pandas as pd\n",
    "import numpy as np"
   ]
  },
  {
   "cell_type": "code",
   "execution_count": 4,
   "id": "d710c191",
   "metadata": {
    "scrolled": true
   },
   "outputs": [
    {
     "data": {
      "text/html": [
       "<div>\n",
       "<style scoped>\n",
       "    .dataframe tbody tr th:only-of-type {\n",
       "        vertical-align: middle;\n",
       "    }\n",
       "\n",
       "    .dataframe tbody tr th {\n",
       "        vertical-align: top;\n",
       "    }\n",
       "\n",
       "    .dataframe thead th {\n",
       "        text-align: right;\n",
       "    }\n",
       "</style>\n",
       "<table border=\"1\" class=\"dataframe\">\n",
       "  <thead>\n",
       "    <tr style=\"text-align: right;\">\n",
       "      <th></th>\n",
       "      <th>COD UF</th>\n",
       "      <th>Quantidade de Inscritos</th>\n",
       "      <th>Total de inscritos de Ensino Médio Público</th>\n",
       "      <th>Total de inscritos de Ensino Médio Privado</th>\n",
       "      <th>Média da nota da prova de Ciências da Natureza</th>\n",
       "      <th>Média da nota da prova de Ciências Humanas</th>\n",
       "      <th>Média da nota da prova de Linguagens e Códigos</th>\n",
       "      <th>Média da nota da prova de Matemática</th>\n",
       "      <th>Média da nota da prova de redação</th>\n",
       "    </tr>\n",
       "    <tr>\n",
       "      <th>Estado</th>\n",
       "      <th></th>\n",
       "      <th></th>\n",
       "      <th></th>\n",
       "      <th></th>\n",
       "      <th></th>\n",
       "      <th></th>\n",
       "      <th></th>\n",
       "      <th></th>\n",
       "      <th></th>\n",
       "    </tr>\n",
       "  </thead>\n",
       "  <tbody>\n",
       "    <tr>\n",
       "      <th>RS</th>\n",
       "      <td>43</td>\n",
       "      <td>46173</td>\n",
       "      <td>41424</td>\n",
       "      <td>4749</td>\n",
       "      <td>484.659842</td>\n",
       "      <td>524.267227</td>\n",
       "      <td>533.906006</td>\n",
       "      <td>546.707112</td>\n",
       "      <td>598.457500</td>\n",
       "    </tr>\n",
       "    <tr>\n",
       "      <th>AP</th>\n",
       "      <td>16</td>\n",
       "      <td>6136</td>\n",
       "      <td>5711</td>\n",
       "      <td>425</td>\n",
       "      <td>446.884217</td>\n",
       "      <td>477.089716</td>\n",
       "      <td>491.826222</td>\n",
       "      <td>477.948733</td>\n",
       "      <td>538.818381</td>\n",
       "    </tr>\n",
       "    <tr>\n",
       "      <th>AL</th>\n",
       "      <td>27</td>\n",
       "      <td>17551</td>\n",
       "      <td>15328</td>\n",
       "      <td>2223</td>\n",
       "      <td>453.600683</td>\n",
       "      <td>480.601937</td>\n",
       "      <td>496.041317</td>\n",
       "      <td>498.075512</td>\n",
       "      <td>553.236927</td>\n",
       "    </tr>\n",
       "    <tr>\n",
       "      <th>AM</th>\n",
       "      <td>13</td>\n",
       "      <td>25817</td>\n",
       "      <td>24541</td>\n",
       "      <td>1276</td>\n",
       "      <td>446.577429</td>\n",
       "      <td>475.833558</td>\n",
       "      <td>494.953598</td>\n",
       "      <td>482.391837</td>\n",
       "      <td>509.776809</td>\n",
       "    </tr>\n",
       "    <tr>\n",
       "      <th>GO</th>\n",
       "      <td>52</td>\n",
       "      <td>35546</td>\n",
       "      <td>31323</td>\n",
       "      <td>4223</td>\n",
       "      <td>477.625078</td>\n",
       "      <td>505.805269</td>\n",
       "      <td>520.101327</td>\n",
       "      <td>528.496087</td>\n",
       "      <td>594.747233</td>\n",
       "    </tr>\n",
       "  </tbody>\n",
       "</table>\n",
       "</div>"
      ],
      "text/plain": [
       "        COD UF  Quantidade de Inscritos  \\\n",
       "Estado                                    \n",
       "RS          43                    46173   \n",
       "AP          16                     6136   \n",
       "AL          27                    17551   \n",
       "AM          13                    25817   \n",
       "GO          52                    35546   \n",
       "\n",
       "        Total de inscritos de Ensino Médio Público  \\\n",
       "Estado                                               \n",
       "RS                                           41424   \n",
       "AP                                            5711   \n",
       "AL                                           15328   \n",
       "AM                                           24541   \n",
       "GO                                           31323   \n",
       "\n",
       "        Total de inscritos de Ensino Médio Privado  \\\n",
       "Estado                                               \n",
       "RS                                            4749   \n",
       "AP                                             425   \n",
       "AL                                            2223   \n",
       "AM                                            1276   \n",
       "GO                                            4223   \n",
       "\n",
       "        Média da nota da prova de Ciências da Natureza  \\\n",
       "Estado                                                   \n",
       "RS                                          484.659842   \n",
       "AP                                          446.884217   \n",
       "AL                                          453.600683   \n",
       "AM                                          446.577429   \n",
       "GO                                          477.625078   \n",
       "\n",
       "        Média da nota da prova de Ciências Humanas  \\\n",
       "Estado                                               \n",
       "RS                                      524.267227   \n",
       "AP                                      477.089716   \n",
       "AL                                      480.601937   \n",
       "AM                                      475.833558   \n",
       "GO                                      505.805269   \n",
       "\n",
       "        Média da nota da prova de Linguagens e Códigos  \\\n",
       "Estado                                                   \n",
       "RS                                          533.906006   \n",
       "AP                                          491.826222   \n",
       "AL                                          496.041317   \n",
       "AM                                          494.953598   \n",
       "GO                                          520.101327   \n",
       "\n",
       "        Média da nota da prova de Matemática  \\\n",
       "Estado                                         \n",
       "RS                                546.707112   \n",
       "AP                                477.948733   \n",
       "AL                                498.075512   \n",
       "AM                                482.391837   \n",
       "GO                                528.496087   \n",
       "\n",
       "        Média da nota da prova de redação  \n",
       "Estado                                     \n",
       "RS                             598.457500  \n",
       "AP                             538.818381  \n",
       "AL                             553.236927  \n",
       "AM                             509.776809  \n",
       "GO                             594.747233  "
      ]
     },
     "execution_count": 4,
     "metadata": {},
     "output_type": "execute_result"
    }
   ],
   "source": [
    "df = pd.read_excel(\"../database/enem2019.xlsx\")\n",
    "df = df.set_index(\"Estado\")\n",
    "df.head()"
   ]
  },
  {
   "cell_type": "code",
   "execution_count": 27,
   "id": "ec3899fb",
   "metadata": {},
   "outputs": [
    {
     "data": {
      "text/plain": [
       "Estado\n",
       "MA    469\n",
       "AM    475\n",
       "AP    477\n",
       "CE    477\n",
       "TO    478\n",
       "Name: Média da nota da prova de Ciências Humanas, dtype: int64"
      ]
     },
     "execution_count": 27,
     "metadata": {},
     "output_type": "execute_result"
    }
   ],
   "source": [
    "# Coluna a ser avaliada\n",
    "dados = df['Média da nota da prova de Ciências Humanas'].apply(lambda x: int(x))\n",
    "dados.sort_values().head()"
   ]
  },
  {
   "cell_type": "code",
   "execution_count": 14,
   "id": "7d4435fd",
   "metadata": {},
   "outputs": [],
   "source": [
    "# binning usando np.ceil\n",
    "def binning(d,rule='standard'):       \n",
    "    \n",
    "    if isinstance(d,list): d = np.array(d)\n",
    "    n = len(d)            \n",
    "    \n",
    "    if rule == 'standard':\n",
    "        if n <= 25: K = 5\n",
    "        else: K = int(np.ceil(np.sqrt(n)))\n",
    "            \n",
    "    if rule == 'sturges': \n",
    "        K = int(np.ceil(1 + 3.22*np.log10(n)))\n",
    "\n",
    "    return K"
   ]
  },
  {
   "cell_type": "code",
   "execution_count": 15,
   "id": "1a2b4ba9",
   "metadata": {},
   "outputs": [
    {
     "data": {
      "text/plain": [
       "(6, 6)"
      ]
     },
     "execution_count": 15,
     "metadata": {},
     "output_type": "execute_result"
    }
   ],
   "source": [
    "K1,K2 = binning(dados,rule='standard'), binning(dados,rule='sturges'); \n",
    "K1,K2"
   ]
  },
  {
   "cell_type": "code",
   "execution_count": 16,
   "id": "c0fabeb6",
   "metadata": {},
   "outputs": [
    {
     "data": {
      "text/plain": [
       "(55, 10.0)"
      ]
     },
     "execution_count": 16,
     "metadata": {},
     "output_type": "execute_result"
    }
   ],
   "source": [
    "R = np.max(dados) - np.min(dados)\n",
    "h = np.ceil(R/K1);R,h"
   ]
  },
  {
   "cell_type": "code",
   "execution_count": 17,
   "id": "a652e0ed",
   "metadata": {},
   "outputs": [
    {
     "data": {
      "text/plain": [
       "[469, 479, 489, 499, 509, 519, 529]"
      ]
     },
     "execution_count": 17,
     "metadata": {},
     "output_type": "execute_result"
    }
   ],
   "source": [
    "bin_ = [np.min(dados) + i*h.astype('int') for i in range(K1+1)];bin_"
   ]
  },
  {
   "cell_type": "code",
   "execution_count": 21,
   "id": "99d1361c",
   "metadata": {},
   "outputs": [
    {
     "data": {
      "text/plain": [
       "'Resposta esperada: h = 10.0 // [499, 509)'"
      ]
     },
     "execution_count": 21,
     "metadata": {},
     "output_type": "execute_result"
    }
   ],
   "source": [
    "f_r = pd.cut(dados, bins=bin_, right=False)\n",
    "f = f_r.value_counts()\n",
    "\n",
    "for a in f.items():\n",
    "    if a[1] == 3:\n",
    "        interval = (a[0])\n",
    "        \n",
    "f'Resposta esperada: h = {h} // {interval}'"
   ]
  },
  {
   "cell_type": "markdown",
   "id": "d2fdeecf",
   "metadata": {},
   "source": [
    "<hr>\n",
    "\n",
    "**Questão 2.** Considerando a série que contém a média das notas da prova de Matemática apenas para os estados nordestinos, assinale a alternativa que corresponde ao valor médio aproximado dessas médias, a mediana e a moda, se houver.\n",
    "\n",
    "A. 504.27, 502.84, unimodal\n",
    "\n",
    "B. 505.27, 502.84, 9\n",
    "\n",
    "C. 504.27, 502.84, amodal\n",
    "\n",
    "D. 504.27, 503.84, 8"
   ]
  },
  {
   "cell_type": "markdown",
   "id": "af189925",
   "metadata": {},
   "source": [
    "<hr>\n",
    "\n",
    "## Gabarito \n",
    "\n",
    "**Alternativa C**"
   ]
  },
  {
   "cell_type": "code",
   "execution_count": 76,
   "id": "21a543a8",
   "metadata": {},
   "outputs": [
    {
     "data": {
      "text/plain": [
       "'Resposta esperada: 504.27, 502.84, amodal'"
      ]
     },
     "execution_count": 76,
     "metadata": {},
     "output_type": "execute_result"
    }
   ],
   "source": [
    "nordeste = [\"AL\",\"BA\",\"CE\",\"MA\",\"PB\",\"PE\",\"PI\",\"RN\",\"SE\"]\n",
    "\n",
    "dados2 = df.loc[nordeste,'Média da nota da prova de Matemática']\n",
    "dados2 = dados2.sort_values()\n",
    "\n",
    "if len(dados2.mode()) > 1:\n",
    "    Mo = 'amodal' \n",
    "else:\n",
    "    Mo = np.round(dados2.mode(),2)\n",
    "\n",
    "f'Resposta esperada: \\\n",
    "{np.round(dados2.mean(),2)}, \\\n",
    "{np.round(dados2.median(),2)}, \\\n",
    "{Mo}'"
   ]
  },
  {
   "cell_type": "markdown",
   "id": "1eacbd4b",
   "metadata": {},
   "source": [
    "<hr>\n",
    "\n",
    "**Questão 3.** Levando em conta a série que contém as médias das notas da prova de Redação apenas para os estados nordestinos, assinale a alternativa correta quanto ao quartil em que o estado da Paraíba se encontrou nesta prova.\n",
    "\n",
    "A. 4-quartil\n",
    "\n",
    "B. 3-quartil\n",
    "\n",
    "C. 2-quartil\n",
    "\n",
    "D. 1-quartil\n"
   ]
  },
  {
   "cell_type": "markdown",
   "id": "ff94ca1e",
   "metadata": {},
   "source": [
    "<hr>\n",
    "\n",
    "## Gabarito\n",
    "Alternativa **B**"
   ]
  },
  {
   "cell_type": "code",
   "execution_count": 86,
   "id": "5b45c54e",
   "metadata": {},
   "outputs": [],
   "source": [
    "def quartil(a):\n",
    "    for a in dados3.quantile([0.0,0.25,0.50,0.75,1]).items():\n",
    "        if a[1] == dados3.PB:\n",
    "\n",
    "            if a[0] <= 0.25:\n",
    "                print(\"Está no primeiro quartil\")  \n",
    "\n",
    "            elif a[0] <= 0.50:\n",
    "                print(\"Está no segundo quartil\")\n",
    "\n",
    "            elif a[0] <= 0.75:\n",
    "                print(\"Está no terceiro quartil\")\n",
    "\n",
    "            else:\n",
    "                print(\"Está no quarto quartil\")"
   ]
  },
  {
   "cell_type": "code",
   "execution_count": 87,
   "id": "b0fdf5be",
   "metadata": {},
   "outputs": [
    {
     "name": "stdout",
     "output_type": "stream",
     "text": [
      "Está no terceiro quartil\n"
     ]
    }
   ],
   "source": [
    "dados3 = df.loc[nordeste,'Média da nota da prova de redação']\n",
    "dados3 = dados3.sort_values()\n",
    "quartil(dados3)"
   ]
  }
 ],
 "metadata": {
  "kernelspec": {
   "display_name": "Python 3",
   "language": "python",
   "name": "python3"
  },
  "language_info": {
   "codemirror_mode": {
    "name": "ipython",
    "version": 3
   },
   "file_extension": ".py",
   "mimetype": "text/x-python",
   "name": "python",
   "nbconvert_exporter": "python",
   "pygments_lexer": "ipython3",
   "version": "3.8.8"
  }
 },
 "nbformat": 4,
 "nbformat_minor": 5
}