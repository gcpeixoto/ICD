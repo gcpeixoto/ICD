{
 "cells": [
  {
   "cell_type": "markdown",
   "id": "099a20c2-12d1-4e67-9838-0b9197ca2a85",
   "metadata": {},
   "source": [
    "# Distribuições\n",
    "\n",
    "A estatística descritiva é limitada para resumir dados, visto que dados com características completamente distintas podem ter os mesmos valores para média, mediana e variância, por exemplo. \n",
    "\n",
    "Uma forma aprofundada de reconhecer as características dos dados é inspecionar a sua _distribuição_. Neste capítulo, discutiremos algumas distribuições e outras técnicas de exploração de dados."
   ]
  },
  {
   "cell_type": "code",
   "execution_count": 282,
   "id": "1db5c275-6d02-4f08-87f1-8085cb779e0b",
   "metadata": {},
   "outputs": [],
   "source": [
    "import pandas as pd\n",
    "import numpy as np\n",
    "import seaborn as sb\n",
    "import matplotlib.pyplot as plt\n",
    "\n",
    "import warnings\n",
    "warnings.filterwarnings('ignore')"
   ]
  },
  {
   "cell_type": "markdown",
   "id": "c2d4b080-a0f4-4ca1-9bc3-86b09c4e73f3",
   "metadata": {},
   "source": [
    "## Função massa de probabilidade \n",
    "\n",
    "A _função massa de probabilidade_ (FMP) associa uma probabilidade à ocorrência de um certo valor dentro de um _espaço de resultados_. Podemos entender a FMP como um histograma normalizado. Isto é, todas as frequências são divididas pelo número de amostras. \n",
    "\n",
    "Para estudar a FMP e os demais conceitos neste capítulo, usaremos um banco de dados que contém dados sobre adultos americanos, tais como idade, nível de escolaridade, ocupação, estado civil, entre outros. \n",
    "\n",
    "Primeiramente, carregamos o _dataset_. "
   ]
  },
  {
   "cell_type": "code",
   "execution_count": 170,
   "id": "b860d4b6-b8cb-4ef7-95c1-2ee1a82835d2",
   "metadata": {},
   "outputs": [
    {
     "data": {
      "text/html": [
       "<div>\n",
       "<style scoped>\n",
       "    .dataframe tbody tr th:only-of-type {\n",
       "        vertical-align: middle;\n",
       "    }\n",
       "\n",
       "    .dataframe tbody tr th {\n",
       "        vertical-align: top;\n",
       "    }\n",
       "\n",
       "    .dataframe thead th {\n",
       "        text-align: right;\n",
       "    }\n",
       "</style>\n",
       "<table border=\"1\" class=\"dataframe\">\n",
       "  <thead>\n",
       "    <tr style=\"text-align: right;\">\n",
       "      <th></th>\n",
       "      <th>age</th>\n",
       "      <th>type-employer</th>\n",
       "      <th>fnlwgt</th>\n",
       "      <th>education</th>\n",
       "      <th>education_num</th>\n",
       "      <th>marital</th>\n",
       "      <th>occupation</th>\n",
       "      <th>relationship</th>\n",
       "      <th>race</th>\n",
       "      <th>sex</th>\n",
       "      <th>capital_gain</th>\n",
       "      <th>capital_loss</th>\n",
       "      <th>hr_per_week</th>\n",
       "      <th>country</th>\n",
       "      <th>income</th>\n",
       "    </tr>\n",
       "  </thead>\n",
       "  <tbody>\n",
       "    <tr>\n",
       "      <th>0</th>\n",
       "      <td>39</td>\n",
       "      <td>State-gov</td>\n",
       "      <td>77516</td>\n",
       "      <td>Bachelors</td>\n",
       "      <td>13</td>\n",
       "      <td>Never-married</td>\n",
       "      <td>Adm-clerical</td>\n",
       "      <td>Not-in-family</td>\n",
       "      <td>White</td>\n",
       "      <td>Male</td>\n",
       "      <td>2174</td>\n",
       "      <td>0</td>\n",
       "      <td>40</td>\n",
       "      <td>United-States</td>\n",
       "      <td>&lt;=50K</td>\n",
       "    </tr>\n",
       "    <tr>\n",
       "      <th>1</th>\n",
       "      <td>50</td>\n",
       "      <td>Self-emp-not-inc</td>\n",
       "      <td>83311</td>\n",
       "      <td>Bachelors</td>\n",
       "      <td>13</td>\n",
       "      <td>Married-civ-spouse</td>\n",
       "      <td>Exec-managerial</td>\n",
       "      <td>Husband</td>\n",
       "      <td>White</td>\n",
       "      <td>Male</td>\n",
       "      <td>0</td>\n",
       "      <td>0</td>\n",
       "      <td>13</td>\n",
       "      <td>United-States</td>\n",
       "      <td>&lt;=50K</td>\n",
       "    </tr>\n",
       "    <tr>\n",
       "      <th>2</th>\n",
       "      <td>38</td>\n",
       "      <td>Private</td>\n",
       "      <td>215646</td>\n",
       "      <td>HS-grad</td>\n",
       "      <td>9</td>\n",
       "      <td>Divorced</td>\n",
       "      <td>Handlers-cleaners</td>\n",
       "      <td>Not-in-family</td>\n",
       "      <td>White</td>\n",
       "      <td>Male</td>\n",
       "      <td>0</td>\n",
       "      <td>0</td>\n",
       "      <td>40</td>\n",
       "      <td>United-States</td>\n",
       "      <td>&lt;=50K</td>\n",
       "    </tr>\n",
       "    <tr>\n",
       "      <th>3</th>\n",
       "      <td>53</td>\n",
       "      <td>Private</td>\n",
       "      <td>234721</td>\n",
       "      <td>11th</td>\n",
       "      <td>7</td>\n",
       "      <td>Married-civ-spouse</td>\n",
       "      <td>Handlers-cleaners</td>\n",
       "      <td>Husband</td>\n",
       "      <td>Black</td>\n",
       "      <td>Male</td>\n",
       "      <td>0</td>\n",
       "      <td>0</td>\n",
       "      <td>40</td>\n",
       "      <td>United-States</td>\n",
       "      <td>&lt;=50K</td>\n",
       "    </tr>\n",
       "    <tr>\n",
       "      <th>4</th>\n",
       "      <td>28</td>\n",
       "      <td>Private</td>\n",
       "      <td>338409</td>\n",
       "      <td>Bachelors</td>\n",
       "      <td>13</td>\n",
       "      <td>Married-civ-spouse</td>\n",
       "      <td>Prof-specialty</td>\n",
       "      <td>Wife</td>\n",
       "      <td>Black</td>\n",
       "      <td>Female</td>\n",
       "      <td>0</td>\n",
       "      <td>0</td>\n",
       "      <td>40</td>\n",
       "      <td>Cuba</td>\n",
       "      <td>&lt;=50K</td>\n",
       "    </tr>\n",
       "  </tbody>\n",
       "</table>\n",
       "</div>"
      ],
      "text/plain": [
       "   age      type-employer  fnlwgt   education  education_num  \\\n",
       "0   39          State-gov   77516   Bachelors             13   \n",
       "1   50   Self-emp-not-inc   83311   Bachelors             13   \n",
       "2   38            Private  215646     HS-grad              9   \n",
       "3   53            Private  234721        11th              7   \n",
       "4   28            Private  338409   Bachelors             13   \n",
       "\n",
       "               marital          occupation    relationship    race      sex  \\\n",
       "0        Never-married        Adm-clerical   Not-in-family   White     Male   \n",
       "1   Married-civ-spouse     Exec-managerial         Husband   White     Male   \n",
       "2             Divorced   Handlers-cleaners   Not-in-family   White     Male   \n",
       "3   Married-civ-spouse   Handlers-cleaners         Husband   Black     Male   \n",
       "4   Married-civ-spouse      Prof-specialty            Wife   Black   Female   \n",
       "\n",
       "   capital_gain  capital_loss  hr_per_week         country  income  \n",
       "0          2174             0           40   United-States   <=50K  \n",
       "1             0             0           13   United-States   <=50K  \n",
       "2             0             0           40   United-States   <=50K  \n",
       "3             0             0           40   United-States   <=50K  \n",
       "4             0             0           40            Cuba   <=50K  "
      ]
     },
     "execution_count": 170,
     "metadata": {},
     "output_type": "execute_result"
    }
   ],
   "source": [
    "adults = pd.read_csv('../database/adults.csv',skiprows=1)\n",
    "adults.head()"
   ]
  },
  {
   "cell_type": "markdown",
   "id": "b2207b30-8937-42ab-8e2f-f459c80aa656",
   "metadata": {},
   "source": [
    "Comparemos a distribuição da variável _idade_ por histograma e pela PMF."
   ]
  },
  {
   "cell_type": "code",
   "execution_count": 171,
   "id": "ba2c6037-4896-45c4-a9bc-77d0c0863d9a",
   "metadata": {},
   "outputs": [
    {
     "data": {
      "image/png": "[encoded data removed]",
      "text/plain": [
       "<Figure size 864x360 with 2 Axes>"
      ]
     },
     "metadata": {
      "filenames": {
       "image/png": "/Users/gustavo/Dropbox/courses/data-science/ICD/_build/jupyter_execute/todo/13a-distribuicoes_5_0.png"
      },
      "needs_background": "light"
     },
     "output_type": "display_data"
    }
   ],
   "source": [
    "plt.figure(figsize=(12,5))\n",
    "\n",
    "# histograma\n",
    "plt.subplot(121)\n",
    "idade = adults['age']\n",
    "idade.hist(alpha=.6,bins=10,\n",
    "           color='#aa88bb',edgecolor='w',\n",
    "           grid=False);\n",
    "plt.xlabel('Idade')\n",
    "plt.title('Histograma')\n",
    "\n",
    "# FMP\n",
    "plt.subplot(122)\n",
    "idade = adults['age']\n",
    "idade.hist(alpha=.9,bins=10,density=True,\n",
    "           color='#aa88bb',edgecolor='w',\n",
    "           grid=False);\n",
    "\n",
    "plt.xlabel('Idade')\n",
    "plt.title('FMP');"
   ]
  },
  {
   "cell_type": "markdown",
   "id": "5b27ce8f-9ce0-469c-9fee-772c1943c311",
   "metadata": {},
   "source": [
    "## Função distribuição cumulativa \n",
    "\n",
    "A _função distribuição cumulativa_ (CDF) calcula a probabilidade de uma variável com uma dada distribuição de probabilidade ter um valor menor ou igual a $x$. Em outras palavras, para calcularmos $CDF(x)$ para um valor particular $x$, devemos computar a fração dos valores na amostra que são menores ou iguais a $x$. A CDF é similar ao conceito de _percentil_, mas a resposta é um valor no intervalo [0,1], em vez de um _ranque_ na faixa 0-100.\n",
    "\n",
    "Considerando um _array_ de amostras `t` e o dado valor $x$, que não necessariamente está em `t`, podemos implementar uma função `CDF` da seguinte forma:"
   ]
  },
  {
   "cell_type": "code",
   "execution_count": 172,
   "id": "3bff89ca-d9bf-4ff7-b1b9-9cdab970c231",
   "metadata": {},
   "outputs": [],
   "source": [
    "# implementação da CDF\n",
    "def CDF(t,x):\n",
    "    c = 0 # contagem\n",
    "    for ti in t: # cada valor na amostra\n",
    "        if ti <= x:\n",
    "            c += 1\n",
    "    prob = c / len(t) # probabilidade\n",
    "    return prob"
   ]
  },
  {
   "cell_type": "markdown",
   "id": "8a3152d8-be8d-45a1-b494-95191bd93d20",
   "metadata": {},
   "source": [
    "Vejamos um exemplo simples."
   ]
  },
  {
   "cell_type": "code",
   "execution_count": 173,
   "id": "56ac2c3c-4388-4163-bb26-6124f8cb4cb9",
   "metadata": {},
   "outputs": [
    {
     "data": {
      "text/plain": [
       "(0.3333333333333333, 0.6666666666666666, 0.8333333333333334)"
      ]
     },
     "execution_count": 173,
     "metadata": {},
     "output_type": "execute_result"
    }
   ],
   "source": [
    "# amostra\n",
    "t = [1,2,3,3,5,7]\n",
    "\n",
    "CDF(t,2), CDF(t,3), CDF(t,5)"
   ]
  },
  {
   "cell_type": "markdown",
   "id": "617d2443-c37b-4956-9e00-f689b10c6023",
   "metadata": {},
   "source": [
    "Comentários:\n",
    "\n",
    "- A probabilidade de se encontrar um valor menor ou igual a 2 em `t` é de 33,3%.\n",
    "\n",
    "- A probabilidade de se encontrar um valor menor ou igual a 3 em `t` é de 66,6%.\n",
    "\n",
    "- A probabilidade de se encontrar um valor menor ou igual a 5 em `t` é de 83,3%."
   ]
  },
  {
   "cell_type": "markdown",
   "id": "f8d91cee-3a96-448d-b1ba-d17bbf985735",
   "metadata": {},
   "source": [
    "Para valores fora da amostra:"
   ]
  },
  {
   "cell_type": "code",
   "execution_count": 174,
   "id": "8b712546-5209-4406-8d06-dcc1785de51e",
   "metadata": {},
   "outputs": [
    {
     "data": {
      "text/plain": [
       "(0.6666666666666666, 0.16666666666666666)"
      ]
     },
     "execution_count": 174,
     "metadata": {},
     "output_type": "execute_result"
    }
   ],
   "source": [
    "CDF(t,3.45), CDF(t,1.11)"
   ]
  },
  {
   "cell_type": "markdown",
   "id": "3837ce1a-3e50-429d-acf8-ad9667ee7bbf",
   "metadata": {},
   "source": [
    "Se $x$ for menor do que o menor valor de `t`, `CDF(x) = 0`; se $x$ for maior do que o maior valor de `t`, `CDF(x) = 1`."
   ]
  },
  {
   "cell_type": "code",
   "execution_count": 175,
   "id": "0f62ee38-9f43-4da2-a17c-f8e4af4e72e9",
   "metadata": {},
   "outputs": [
    {
     "data": {
      "text/plain": [
       "(0.0, 0.0, 1.0, 1.0)"
      ]
     },
     "execution_count": 175,
     "metadata": {},
     "output_type": "execute_result"
    }
   ],
   "source": [
    "CDF(t,-4), CDF(t,0.8), CDF(t,7.5), CDF(t,12)"
   ]
  },
  {
   "cell_type": "markdown",
   "id": "ab385ee0-57ed-41e6-ab8c-ad7f542cd7e5",
   "metadata": {},
   "source": [
    "A CDF é uma função _step_:"
   ]
  },
  {
   "cell_type": "code",
   "execution_count": 176,
   "id": "43948aba-862a-4c3e-a0f1-e78e7c190e1c",
   "metadata": {},
   "outputs": [],
   "source": [
    "sex = adults['sex']\n",
    "im = idade[sex == ' Male']\n",
    "fm = idade[sex == ' Female']"
   ]
  },
  {
   "cell_type": "code",
   "execution_count": 177,
   "id": "4820a5e9-c4ac-440e-9d06-d9d80093fe4f",
   "metadata": {},
   "outputs": [
    {
     "data": {
      "image/png": "[encoded data removed]",
      "text/plain": [
       "<Figure size 432x288 with 1 Axes>"
      ]
     },
     "metadata": {
      "filenames": {
       "image/png": "/Users/gustavo/Dropbox/courses/data-science/ICD/_build/jupyter_execute/todo/13a-distribuicoes_17_0.png"
      },
      "needs_background": "light"
     },
     "output_type": "display_data"
    }
   ],
   "source": [
    "im.hist(density=True,cumulative=True,\n",
    "        histtype='step',grid=False,linewidth=2,\n",
    "        label='Male')\n",
    "fm.hist(density=True,cumulative=True,\n",
    "        histtype='step',grid=False,linewidth=2,\n",
    "        label='Female')\n",
    "\n",
    "plt.xlabel('Idade')\n",
    "plt.ylabel('CDF')\n",
    "plt.legend(loc=8);"
   ]
  },
  {
   "cell_type": "markdown",
   "id": "7c9fe7e7-82ba-4b0b-b285-ff546060470e",
   "metadata": {},
   "source": [
    "## Medição de assimetria\n",
    "\n",
    "A assimetria das distribuições pode ser medida pelo _coeficiente de Pearson_, dado por:\n",
    "\n",
    "$$p = 3(\\mu - \\theta)\\sigma,$$\n",
    "\n",
    "onde $\\mu$ é a média, $\\theta$ é a mediana e $\\sigma$ é o desvio padrão.\n",
    "\n",
    "Podemos defini-lo como:"
   ]
  },
  {
   "cell_type": "code",
   "execution_count": 264,
   "id": "df189fb4-da74-4574-80f9-b561abfcfaed",
   "metadata": {},
   "outputs": [],
   "source": [
    "# coeficiente de pearson\n",
    "def p(x):\n",
    "    return 3*( x.mean() - x.median() )*x.std()"
   ]
  },
  {
   "cell_type": "markdown",
   "id": "0672a649-b008-45be-af28-57da2038d5d5",
   "metadata": {},
   "source": [
    "A seguir calculamos o coeficiente de Pearson para a série de idades para homens e mulheres."
   ]
  },
  {
   "cell_type": "code",
   "execution_count": 266,
   "id": "dc3584f5-3835-4dca-bd2c-07dc4b427daf",
   "metadata": {},
   "outputs": [
    {
     "data": {
      "text/plain": [
       "(57.50230041174153, 78.12203531109172)"
      ]
     },
     "execution_count": 266,
     "metadata": {},
     "output_type": "execute_result"
    }
   ],
   "source": [
    "p(im), p(fm)"
   ]
  },
  {
   "cell_type": "markdown",
   "id": "d1d827ae-6a66-452b-a800-bfbc25b0dc0d",
   "metadata": {},
   "source": [
    "Comparemos com os histogramas."
   ]
  },
  {
   "cell_type": "code",
   "execution_count": 273,
   "id": "eea492a1-6ca7-40dd-9b9e-d492b96cc53f",
   "metadata": {},
   "outputs": [
    {
     "data": {
      "image/png": "[encoded data removed]",
      "text/plain": [
       "<Figure size 432x288 with 1 Axes>"
      ]
     },
     "metadata": {
      "filenames": {
       "image/png": "/Users/gustavo/Dropbox/courses/data-science/ICD/_build/jupyter_execute/todo/13a-distribuicoes_23_0.png"
      },
      "needs_background": "light"
     },
     "output_type": "display_data"
    }
   ],
   "source": [
    "im.hist(grid=False,label='Male')\n",
    "fm.hist(grid=False,label='Female')\n",
    "plt.legend();"
   ]
  },
  {
   "cell_type": "markdown",
   "id": "9dc995ea-0350-4453-b215-e742a7a4b0ab",
   "metadata": {},
   "source": [
    "A interpretação da assimetria é a seguinte:\n",
    "\n",
    "- Na assimetria à direita (ou positiva), a moda e a mediana localizam-se à esquerda da média. Isto significa que o histograma é mais denso à esquerda. \n",
    "\n",
    "- Na assimetria à esquerda (ou negativa), a moda e a mediana localizam-se à direita da média. Isto significa que o histograma é mais denso à direita.\n",
    "\n",
    "- Coeficientes de assimetria positivos explicam assimetria à direita.\n",
    "\n",
    "- Coeficientes de assimetria negativos explicam assimetria à esquerda.\n",
    "\n",
    "- Coeficientes de assimetria nulos explicam simetria (distribuição normal)."
   ]
  },
  {
   "cell_type": "markdown",
   "id": "c7bd6316-e646-45bc-8745-45c27aa99611",
   "metadata": {},
   "source": [
    "Comentários:\n",
    "\n",
    "- No exemplo anterior, o coeficiente de Pearson maior para a distribuição de idades entre mulheres mostra que ela é mais assimétrica do que a distribuição de idades para mulheres."
   ]
  },
  {
   "cell_type": "markdown",
   "id": "3358b0c4-a959-4550-95db-41c0030abf5e",
   "metadata": {},
   "source": [
    "## Distribuições contínuas\n",
    "\n",
    "Distribuições baseadas em observações de amostras finitas são chamadas de _distribuições empíricas_, a exemplo da FMP anterior. Em muitas situações, necessitamos de _distribuições contínuas_. No caso de funções contínuas, a FMP é generalizada para a _função densidade de probabilidade_ (PDF). A PDF é definida por meio de integração."
   ]
  },
  {
   "cell_type": "markdown",
   "id": "4cc06cef-886d-4b8e-a744-2cb6417f902d",
   "metadata": {},
   "source": [
    "### Distribuição exponencial\n",
    "\n",
    "A _distribuição exponencial_ (DE) serve para medir tempos entre eventos, que são chamados de  \"tempos de chegadas\" (_inter-arrival times_). Se os eventos têm a mesma probabilidade de ocorrer a qualquer momento, a distribuição dos tempos de chegadas tende a se parecer com uma distribuição exponencial.\n",
    "\n",
    "DEs são úteis para descrever: o tempo de realização de uma prova, o tempo de vida de aparelhos, o tempo de espera em restaurantes, o tempo para realizar uma prova.\n",
    "\n",
    "A CDF e a PDF de uma distribuição exponencial são definidas por:\n",
    "\n",
    "$$CDF(x) = 1 - e^{-\\lambda x}, \\ \\ \\ PDF(x) = \\lambda e^{-\\lambda x},$$\n",
    "\n",
    "onde $\\lambda$ é um parâmetro que define o formato da distribuição.\n",
    "\n",
    "Uma DE tem: \n",
    "\n",
    "- média = $1/\\lambda$\n",
    "- variância = $1/\\lambda^2$\n",
    "- mediana = $\\ln(2)/\\lambda.$"
   ]
  },
  {
   "cell_type": "markdown",
   "id": "0920fa8d-4e9f-423e-9556-fab22b43b1dd",
   "metadata": {},
   "source": [
    "Para plotar uma DE aleatoriamente, podemos utilizar o _numpy_ ou o _scipy_."
   ]
  },
  {
   "cell_type": "code",
   "execution_count": 284,
   "id": "3c8a185e-63fa-487d-9efa-50e0916d9b5d",
   "metadata": {},
   "outputs": [
    {
     "data": {
      "image/png": "[encoded data removed]",
      "text/plain": [
       "<Figure size 432x288 with 1 Axes>"
      ]
     },
     "metadata": {
      "filenames": {
       "image/png": "/Users/gustavo/Dropbox/courses/data-science/ICD/_build/jupyter_execute/todo/13a-distribuicoes_29_0.png"
      },
      "needs_background": "light"
     },
     "output_type": "display_data"
    }
   ],
   "source": [
    "lamb = 1.3\n",
    "n = 300\n",
    "de = np.random.exponential(scale=lamb,size=n)\n",
    "distplot(de);"
   ]
  },
  {
   "cell_type": "code",
   "execution_count": 286,
   "id": "886946ec-f991-4f74-a4bc-477e2cfafd05",
   "metadata": {},
   "outputs": [
    {
     "data": {
      "image/png": "[encoded data removed]",
      "text/plain": [
       "<Figure size 432x288 with 1 Axes>"
      ]
     },
     "metadata": {
      "filenames": {
       "image/png": "/Users/gustavo/Dropbox/courses/data-science/ICD/_build/jupyter_execute/todo/13a-distribuicoes_30_0.png"
      },
      "needs_background": "light"
     },
     "output_type": "display_data"
    }
   ],
   "source": [
    "lamb = 50.3\n",
    "n = 100\n",
    "de = np.random.exponential(scale=lamb,size=n)\n",
    "distplot(de);"
   ]
  },
  {
   "cell_type": "markdown",
   "id": "c5dbf2be-aafe-430c-93d2-fe9544ca7c3a",
   "metadata": {},
   "source": [
    "### Distribuição normal"
   ]
  },
  {
   "cell_type": "code",
   "execution_count": 290,
   "id": "5c67a9e7-d687-443d-b244-1085e751906e",
   "metadata": {},
   "outputs": [
    {
     "data": {
      "text/plain": [
       "45"
      ]
     },
     "execution_count": 290,
     "metadata": {},
     "output_type": "execute_result"
    }
   ],
   "source": [
    "1335-1290"
   ]
  }
 ],
 "metadata": {
  "kernelspec": {
   "display_name": "Python 3",
   "language": "python",
   "name": "python3"
  },
  "language_info": {
   "codemirror_mode": {
    "name": "ipython",
    "version": 3
   },
   "file_extension": ".py",
   "mimetype": "text/x-python",
   "name": "python",
   "nbconvert_exporter": "python",
   "pygments_lexer": "ipython3",
   "version": "3.8.8"
  }
 },
 "nbformat": 4,
 "nbformat_minor": 5
}