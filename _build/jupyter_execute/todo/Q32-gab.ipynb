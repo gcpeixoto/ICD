{
 "cells": [
  {
   "cell_type": "markdown",
   "metadata": {},
   "source": [
    "## Questiónario Q32 - Pandas Data Frames\n",
    "\n",
    "Monitor: Vladimir Yuri"
   ]
  },
  {
   "cell_type": "markdown",
   "metadata": {},
   "source": [
    "## Questão 1\n",
    "\n",
    "### Para criar uma Data Frame utilizamos a função pd.DataFrame()\n",
    "\n",
    "#### Marque a alternativa verdadeira sobre os parâmetros da função pd.DataFrame()"
   ]
  },
  {
   "cell_type": "markdown",
   "metadata": {},
   "source": [
    "a. (dados, index, colums) = o parâmetro \"index\" rotula as linhas do DataFrame.\n",
    "\n",
    "b. (dados, columns, lines) = \"dados\" serão os dados utilizados para vizualizar no DataFrame.\n",
    "\n",
    "c. (dados, index, colums) = o parâmetro \"columns\" printa somente as colunas do DataFrane.\n",
    "\n",
    "d. (index, columns, dados) = \"index\" se refere aos índices do DataFrame.\n",
    "\n",
    "RESPOSTA CORRETA: A"
   ]
  },
  {
   "cell_type": "markdown",
   "metadata": {},
   "source": [
    "## Questão 2\n",
    "\n",
    "### Quais são as funções utilizadas para vizualizar respectivamente as cinco primeiras e cinco últimas de um Data Frame chamado \"data_frame\"?\n"
   ]
  },
  {
   "cell_type": "markdown",
   "metadata": {},
   "source": [
    "a. data_frame.begin() e data_frame.last()\n",
    "\n",
    "b. data_frame.head() e data_frame.last()\n",
    "\n",
    "c. data_frame.head() e data_frame.tail()\n",
    "\n",
    "d. data_frame.first(5) e data_frame.tail()\n",
    "\n",
    "RESPOSTA CORRETA: C"
   ]
  },
  {
   "cell_type": "markdown",
   "metadata": {},
   "source": [
    "## Questão 3\n",
    "\n",
    "### Três carros saíram de João Pessoa - PB e foram enviados para 3 localidades diferentes. \n",
    "\n",
    "#### Carro 1 para Bahia(848 Km) e gastou 7h e 30 min.\n",
    "#### Carro 2 para Fortaleza(728 Km) e gastou 10h.\n",
    "#### Carro 3 para Sergipe(640 Km) e gastou 9h e 30 min.\n",
    "\n",
    "### Crie um DataFrame com esses dados, depois crie uma nova coluna com a Velocidade Média de cada carro e crie um programa para printar o carro que teve a Velocidade Média mais alta."
   ]
  },
  {
   "cell_type": "markdown",
   "metadata": {},
   "source": [
    "a. Carro 2 = 125,06 Km/h\n",
    "\n",
    "a. Carro 1 = 113,06 Km/h\n",
    "\n",
    "c. Carro 1 = 115,45 Km/h\n",
    "\n",
    "d. Carro 3 = 110,8 Km/h"
   ]
  },
  {
   "cell_type": "code",
   "execution_count": 30,
   "metadata": {},
   "outputs": [
    {
     "name": "stdout",
     "output_type": "stream",
     "text": [
      "113.06666666666666\n"
     ]
    }
   ],
   "source": [
    "# RESOLUÇÃO:\n",
    "\n",
    "import numpy as np\n",
    "import pandas as pd\n",
    "\n",
    "carros_distancia = pd.Series({'Carro 1': 848, 'Carro 2': 728, 'Carro 3': 640}, name = \"Distancia\")\n",
    "carros_tempo = pd.Series({'Carro 1': 7.5, 'Carro 2': 10, 'Carro 3': 9.5}, name = \"Velocidade\")\n",
    "\n",
    "carros_dict = {'Distancia': carros_distancia, 'Velocidade': carros_tempo}\n",
    "\n",
    "carros_dataframe = pd.DataFrame(carros_dict)\n",
    "\n",
    "carros_dataframe[\"Km/h\"] = carros_dataframe[\"Distancia\"]/carros_dataframe[\"Velocidade\"]\n",
    "\n",
    "for i in range(len(carros_dataframe)):\n",
    "    \n",
    "    if(carros_dataframe[\"Km/h\"][i] > maior):\n",
    "        maior = carros_dataframe[\"Km/h\"][i]\n",
    "        \n",
    "        \n",
    "print(maior)\n",
    "\n",
    "# RESPOSTA CORRETA: A"
   ]
  },
  {
   "cell_type": "code",
   "execution_count": null,
   "metadata": {},
   "outputs": [],
   "source": []
  }
 ],
 "metadata": {
  "kernelspec": {
   "display_name": "Python 3",
   "language": "python",
   "name": "python3"
  },
  "language_info": {
   "codemirror_mode": {
    "name": "ipython",
    "version": 3
   },
   "file_extension": ".py",
   "mimetype": "text/x-python",
   "name": "python",
   "nbconvert_exporter": "python",
   "pygments_lexer": "ipython3",
   "version": "3.7.3"
  }
 },
 "nbformat": 4,
 "nbformat_minor": 4
}