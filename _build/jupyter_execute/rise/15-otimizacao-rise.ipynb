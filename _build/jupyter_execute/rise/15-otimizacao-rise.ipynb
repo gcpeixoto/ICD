{
 "cells": [
  {
   "cell_type": "markdown",
   "id": "final-emperor",
   "metadata": {
    "slideshow": {
     "slide_type": "slide"
    }
   },
   "source": [
    "# Otimização"
   ]
  },
  {
   "cell_type": "markdown",
   "id": "722313b7",
   "metadata": {
    "slideshow": {
     "slide_type": "slide"
    }
   },
   "source": [
    "## Introdução\n",
    "\n",
    "- Problemas de otimização são encontrados em diversas situações da Engenharia e indústria\n",
    "- Muitos algoritmos da inteligência artificial utilizam algum princípio de otimização\n",
    "- Problemas de otimização são comumente tratados como *problemas de minimização*: \n",
    "    - Busca-se o _mínimo global_ de uma _função objetivo_ (FO) escalar $f(x)$\n",
    "    - Maximizar $f(x)$ equivalente a minimizar $-f(x)$. "
   ]
  },
  {
   "cell_type": "markdown",
   "id": "standing-crazy",
   "metadata": {
    "slideshow": {
     "slide_type": "subslide"
    }
   },
   "source": [
    "### Restrições \n",
    "\n",
    "- POs são acompanhados de _restrições_: \n",
    "- Para $g(x) = 0$, $g(x)$ é uma _restrição de igualdade_; \n",
    "- Para $h(x) \\leq 0$, $h(x)$ é uma _restrição de desigualdade_."
   ]
  },
  {
   "cell_type": "markdown",
   "id": "1c3601e4",
   "metadata": {
    "slideshow": {
     "slide_type": "subslide"
    }
   },
   "source": [
    "### Classificação de problemas de otimização\n",
    "\n",
    "- _univariado_ (ou _unidimensional_), se $x$ é escalar, i.e. $x \\in \\mathbb{R}$;\n",
    "- _multivariado_ (ou _multidimensional_), se $x$ é um vetor, i.e. $x \\in \\mathbb{R}^n$.\n",
    "- _linear_: se a FO e as restrições são funções lineares. Neste caso, por razões históricas, diz-se que o problema é de _programação linear_.\n",
    "- _não-linear_: se a FO e as restrições são funções não-lineares. Neste caso, diz-se que o problema é de _programação não-linear_."
   ]
  },
  {
   "cell_type": "markdown",
   "id": "exceptional-davis",
   "metadata": {
    "slideshow": {
     "slide_type": "subslide"
    }
   },
   "source": [
    "Com respeito às restrições, um PO pode ainda ser:\n",
    "\n",
    "- _irrestrito_: quando não se assumem limites para os valores de $x$.\n",
    "- _restrito_: quando limites para os valores de $x$ são impostos.\n",
    "\n",
    "Aqui trataremos apenas de casos em que $x \\in \\mathbb{R}$."
   ]
  },
  {
   "cell_type": "markdown",
   "id": "typical-sphere",
   "metadata": {
    "slideshow": {
     "slide_type": "subslide"
    }
   },
   "source": [
    "### Problemas convexos\n",
    "\n",
    "- Problemas não-lineares são mais difíceis de resolver do que problemas lineares \n",
    "- Podem admitir uma ampla variedade de comportamentos. \n",
    "- Um PO não-linear pode ter tanto _mínimos locais_ quanto _mínimos globais_. \n",
    "- Encontrar o _mínimo global_ de uma função $f(x)$ não-linear exige técnicas aperfeiçoadas. \n",
    "- Subclasse de problemas não-lineares que pode ser resolvida eficientemente: _convexos_. "
   ]
  },
  {
   "cell_type": "code",
   "execution_count": 17,
   "id": "538209c4-8389-4b49-a976-cf5191216a12",
   "metadata": {},
   "outputs": [],
   "source": [
    "import numpy as np\n",
    "import matplotlib.pyplot as plt\n",
    "import sympy as sy\n",
    "sy.init_printing()"
   ]
  },
  {
   "cell_type": "markdown",
   "id": "16489752",
   "metadata": {
    "slideshow": {
     "slide_type": "subslide"
    }
   },
   "source": [
    "### Funções convexas\n",
    "\n",
    "> Uma função convexa definida em um intervalo $[a,b]$ é aquela em que todos os seus valores estão abaixo da reta secante que passa pelos pontos $(a,f(a))$ e $(b,f(b)$. Isto, por sua vez, garante que ela contenha _somente_ um mínimo global."
   ]
  },
  {
   "cell_type": "markdown",
   "id": "resident-tampa",
   "metadata": {
    "slideshow": {
     "slide_type": "subslide"
    }
   },
   "source": [
    "**Exemplo**: a função $f(x) = 3x^2 - 0.36x - 11.2$ é convexa em $[-2,3]$."
   ]
  },
  {
   "cell_type": "code",
   "execution_count": 18,
   "id": "therapeutic-dispute",
   "metadata": {
    "slideshow": {
     "slide_type": "fragment"
    }
   },
   "outputs": [
    {
     "data": {
      "image/png": "[encoded data removed]",
      "text/plain": [
       "<Figure size 360x216 with 1 Axes>"
      ]
     },
     "metadata": {
      "filenames": {
       "image/png": "/Users/gustavo/Dropbox/courses/data-science/ICD/_build/jupyter_execute/rise/15-otimizacao-rise_9_0.png"
      },
      "needs_background": "light"
     },
     "output_type": "display_data"
    }
   ],
   "source": [
    "# domínio\n",
    "a,b = -2,3\n",
    "x = np.linspace(a,b,100) \n",
    "\n",
    "# função e valores nos extremos\n",
    "f = lambda x: 5*x**2 - 10.36*x - 11.2 \n",
    "fa,fb = f(a),f(b) \n",
    "\n",
    "# reta secante\n",
    "s = fa + (fb - fa)/(b - a)*(x - a)\n",
    "\n",
    "# ponto de mínimo: \n",
    "xmin = 10.36/10 \n",
    "\n",
    "# plotagem de funções\n",
    "plt.figure(figsize=(5,3))\n",
    "plt.plot(x,f(x))\n",
    "plt.plot(x,s,color='#ffa500')\n",
    "\n",
    "# pontos da secante\n",
    "plt.plot(a,f(a),'o',color='#ffa500')\n",
    "plt.plot(b,f(b),'o',color='#ffa500')\n",
    "\n",
    "# ponto de mínimo\n",
    "plt.plot(xmin,f(xmin),'*r',ms=10);\n",
    "\n",
    "plt.title('Exemplo de função convexa'); "
   ]
  },
  {
   "cell_type": "markdown",
   "id": "communist-buffer",
   "metadata": {
    "slideshow": {
     "slide_type": "subslide"
    }
   },
   "source": [
    "**Exemplo**: a função $p(x) = 10x^2\\textrm{sen}(6x) - 10.36\\exp(x/8) - 11.2$ não é convexa em $[-2,3]$."
   ]
  },
  {
   "cell_type": "code",
   "execution_count": 19,
   "id": "desperate-cylinder",
   "metadata": {
    "slideshow": {
     "slide_type": "fragment"
    }
   },
   "outputs": [
    {
     "data": {
      "image/png": "[encoded data removed]",
      "text/plain": [
       "<Figure size 360x216 with 1 Axes>"
      ]
     },
     "metadata": {
      "filenames": {
       "image/png": "/Users/gustavo/Dropbox/courses/data-science/ICD/_build/jupyter_execute/rise/15-otimizacao-rise_11_0.png"
      },
      "needs_background": "light"
     },
     "output_type": "display_data"
    }
   ],
   "source": [
    "# função\n",
    "p = lambda x: 10*x**2*np.sin(6*x) - 10.36*x*np.exp(x/8) - 11.2 \n",
    "\n",
    "# extremos\n",
    "pa,pb = p(a),p(b)\n",
    "\n",
    "# secante\n",
    "t = pa + (pb - pa)/(b - a)*(x - a) \n",
    "\n",
    "# plotagem de funções\n",
    "plt.figure(figsize=(5,3))\n",
    "plt.plot(x,p(x))\n",
    "plt.plot(x,t,color='#ffa500')\n",
    "\n",
    "# pontos da secante\n",
    "plt.plot(a,p(a),'o',color='#ffa500')\n",
    "plt.plot(b,p(b),'o',color='#ffa500')\n",
    "\n",
    "# mínimos locais\n",
    "xloc = [-1.33868618,0.88811853,1.87451904]\n",
    "\n",
    "for xl in xloc:\n",
    "    plt.plot(xl,p(xl),'or');\n",
    "\n",
    "# mínimo global\n",
    "xmin2 = 2.90547127\n",
    "\n",
    "plt.plot(xmin2,p(xmin2),'*r',ms=10);\n",
    "\n",
    "plt.title('Exemplo de função não convexa'); "
   ]
  },
  {
   "cell_type": "markdown",
   "id": "incorrect-edwards",
   "metadata": {
    "slideshow": {
     "slide_type": "subslide"
    }
   },
   "source": [
    "### Pontos de sela\n",
    "\n",
    "- Casos particulares onde a derivada de uma FO anula-se mas o ponto não pode ser definido como de mínimo ou máximo.\n",
    "- Tais situações implicam a existência dos chamados _pontos de sela_. \n",
    "- Uma função com um único ponto de sela, por exemplo, não admitirá mínimo global nem mínimo local. \n",
    "- Para testarmos se um ponto crítico é um ponto de sela, devemos verificar o sinal da segunda derivada da função. \n",
    "- Uma das seguintes situações deve ser obtida em um ponto crítico $x^*$:\n",
    "    - _ponto de mínimo:_ $f''(x^*) > 0$\n",
    "    - _ponto de máximo:_ $f''(x^*) < 0$\n",
    "    - _ponto de sela:_ $f''(x^*) = 0$"
   ]
  },
  {
   "cell_type": "markdown",
   "id": "bearing-burlington",
   "metadata": {
    "slideshow": {
     "slide_type": "subslide"
    }
   },
   "source": [
    "**Exemplo:** qualquer função quadrática admite ou um ponto de mínimo ou de máximo. A função $f(x) = x^3$ possui um ponto de sela em $x^* = 0$."
   ]
  },
  {
   "cell_type": "code",
   "execution_count": 20,
   "id": "verbal-continent",
   "metadata": {
    "slideshow": {
     "slide_type": "fragment"
    }
   },
   "outputs": [
    {
     "data": {
      "image/png": "[encoded data removed]",
      "text/plain": [
       "<Figure size 720x216 with 3 Axes>"
      ]
     },
     "metadata": {
      "filenames": {
       "image/png": "/Users/gustavo/Dropbox/courses/data-science/ICD/_build/jupyter_execute/rise/15-otimizacao-rise_14_0.png"
      },
      "needs_background": "light"
     },
     "output_type": "display_data"
    }
   ],
   "source": [
    "x = np.linspace(-1,1)\n",
    "\n",
    "plt.figure(figsize=(10,3))\n",
    "\n",
    "plt.subplot(131)\n",
    "plt.plot(x,x**2 + 1)\n",
    "plt.plot(0,1,'r*',ms=10)\n",
    "plt.title('mínimo global')\n",
    "\n",
    "plt.subplot(132)\n",
    "plt.plot(x,-x**2 + 1)\n",
    "plt.plot(0,1,'r*',ms=10)\n",
    "plt.title('máximo global')\n",
    "\n",
    "plt.subplot(133)\n",
    "plt.plot(x,x**3 + 1)\n",
    "plt.plot(0,1,'r*',ms=10)\n",
    "plt.title('ponto de sela');"
   ]
  },
  {
   "cell_type": "markdown",
   "id": "demanding-immigration",
   "metadata": {
    "slideshow": {
     "slide_type": "slide"
    }
   },
   "source": [
    "## Otimização univariada\n",
    "\n",
    "- Otimização univariada visa resolver um problema de minimização tomando uma FO que depende apenas de uma variável. \n",
    "- Matematicamente:\n",
    "\n",
    "$$\\text{Encontre } x^{*} = \\min f(x), \\, \\text{sujeito a} \\, g(x) = 0, h(x) \\leq 0.$$\n",
    "\n",
    "- Em geral, $x$ é uma _variável de decisão_, isto é, uma quantidade que pode ser ajustada livremente (ex. comprimentos, áreas, ângulos etc.). "
   ]
  },
  {
   "cell_type": "markdown",
   "id": "republican-classic",
   "metadata": {
    "slideshow": {
     "slide_type": "slide"
    }
   },
   "source": [
    "### Técnicas\n",
    "\n",
    "- As técnicas utilizadas para a resolução de um problema desse tipo são baseadas em:\n",
    "    - métodos analíticos (busca pelos zeros das derivadas);\n",
    "    - métodos computacionais (determinação de raízes por processos iterativos). \n",
    "    - métodos chamados de _root finding_ são estudados em um curso introdutório de Métodos Numéricos.\n",
    "\n",
    "- Para dar exemplos com problemas aplicados de otimização univariada, usaremos a abordagem analítica por meio de computação simbólica (módulo `sympy`)."
   ]
  },
  {
   "cell_type": "markdown",
   "id": "serious-pulse",
   "metadata": {
    "slideshow": {
     "slide_type": "slide"
    }
   },
   "source": [
    "### Problema resolvido\n",
    "\n",
    "Consideremos o seguinte problema: _maximizar a área do retângulo inscrito em uma elipse._"
   ]
  },
  {
   "cell_type": "markdown",
   "id": "respective-military",
   "metadata": {
    "slideshow": {
     "slide_type": "subslide"
    }
   },
   "source": [
    "### Resolução \n",
    "\n",
    "- Área de um retângulo com vértice esquerdo inferior na origem da elipse e com vértice direito superior no ponto $(x,y)$ da elipse que está no primeiro quadrante é dada por $A_r = xy$. \n",
    "- Logo, a área do retângulo inscrito na elipse será $A = 4xy$.\n",
    "\n",
    "- A área $A$ pode ser escrita isolando $y$ na equação da elipse: \n",
    "\n",
    "$$\\frac{x^2}{a^2} + \\frac{y^2}{b^2} = 1,$$"
   ]
  },
  {
   "cell_type": "markdown",
   "id": "2517f00d",
   "metadata": {
    "slideshow": {
     "slide_type": "subslide"
    }
   },
   "source": [
    "### Declaração do problema \n",
    "\n",
    "$$\\text{Encontre } x^{*} = \\min \\,( -A(x) ), \\, \\text{sujeito a} \\, x > 0.$$\n",
    "\n",
    "- Notemos que maximizar $A(x)$ equivale a minimizar $-A(x)$. "
   ]
  },
  {
   "cell_type": "markdown",
   "id": "433b19a4-0f88-48df-808b-6d06420271f5",
   "metadata": {
    "slideshow": {
     "slide_type": "subslide"
    }
   },
   "source": [
    "Primeiramente, criamos variáveis simbólicas que representem as variáveis de interesse do problema e a expressão da área total."
   ]
  },
  {
   "cell_type": "code",
   "execution_count": 31,
   "id": "aee65db5-8072-4cd4-91cd-0b3ef2dbafe7",
   "metadata": {
    "slideshow": {
     "slide_type": "fragment"
    }
   },
   "outputs": [
    {
     "data": {
      "image/png": "[encoded data removed]",
      "text/latex": [
       "$\\displaystyle - 4 x y$"
      ],
      "text/plain": [
       "-4⋅x⋅y"
      ]
     },
     "execution_count": 31,
     "metadata": {
      "filenames": {
       "image/png": "/Users/gustavo/Dropbox/courses/data-science/ICD/_build/jupyter_execute/rise/15-otimizacao-rise_21_0.png"
      }
     },
     "output_type": "execute_result"
    }
   ],
   "source": [
    "# cria variáveis simbólicas\n",
    "x,y,a,b = sy.symbols('x,y,a,b') \n",
    "\n",
    "# área do retângulo no 1o. quadrante é xy\n",
    "# logo, área total é 4xy\n",
    "A = -4*x*y\n",
    "A"
   ]
  },
  {
   "cell_type": "markdown",
   "id": "5b9375cd-80a0-4c7f-9de5-00ae78bdc5f5",
   "metadata": {
    "slideshow": {
     "slide_type": "subslide"
    }
   },
   "source": [
    "Em seguida, resolvemos a equação da elipse para a variável $y$ utilizando a função `sympy.solve`."
   ]
  },
  {
   "cell_type": "code",
   "execution_count": 35,
   "id": "063596c8-d915-44a1-bb7b-4dbbd0278bfb",
   "metadata": {
    "slideshow": {
     "slide_type": "fragment"
    }
   },
   "outputs": [
    {
     "data": {
      "image/png": "[encoded data removed]",
      "text/latex": [
       "$\\displaystyle \\left( - \\frac{b \\sqrt{a^{2} - x^{2}}}{a}, \\  \\frac{b \\sqrt{a^{2} - x^{2}}}{a}\\right)$"
      ],
      "text/plain": [
       "⎛      _________        _________⎞\n",
       "⎜     ╱  2    2        ╱  2    2 ⎟\n",
       "⎜-b⋅╲╱  a  - x     b⋅╲╱  a  - x  ⎟\n",
       "⎜────────────────, ──────────────⎟\n",
       "⎝       a                a       ⎠"
      ]
     },
     "execution_count": 35,
     "metadata": {
      "filenames": {
       "image/png": "/Users/gustavo/Dropbox/courses/data-science/ICD/_build/jupyter_execute/rise/15-otimizacao-rise_23_0.png"
      }
     },
     "output_type": "execute_result"
    }
   ],
   "source": [
    "# resolve equação da elipse para y\n",
    "sol = sy.solve(x**2/a**2 + y**2/b**2 - 1,y)\n",
    "sol[0].expand(),sol[1].expand()"
   ]
  },
  {
   "cell_type": "markdown",
   "id": "18bcdb16-5d41-4d30-a4fd-23303bbe53fa",
   "metadata": {
    "slideshow": {
     "slide_type": "subslide"
    }
   },
   "source": [
    "Duas soluções são possíveis para $y$. Porém, como o nosso ponto de referência sobre a elipse está no primeiro quadrante, tomamos a expressão para $y > 0$ e a substituímos na expressão da área de forma a obter uma expressão univariada $A(x)$."
   ]
  },
  {
   "cell_type": "code",
   "execution_count": 39,
   "id": "3d80c230-f378-435e-a49c-6ebd499406dd",
   "metadata": {
    "slideshow": {
     "slide_type": "fragment"
    }
   },
   "outputs": [
    {
     "data": {
      "image/png": "[encoded data removed]",
      "text/latex": [
       "$\\displaystyle - \\frac{4 b x \\sqrt{a^{2} - x^{2}}}{a}$"
      ],
      "text/plain": [
       "          _________ \n",
       "         ╱  2    2  \n",
       "-4⋅b⋅x⋅╲╱  a  - x   \n",
       "────────────────────\n",
       "         a          "
      ]
     },
     "execution_count": 39,
     "metadata": {
      "filenames": {
       "image/png": "/Users/gustavo/Dropbox/courses/data-science/ICD/_build/jupyter_execute/rise/15-otimizacao-rise_25_0.png"
      }
     },
     "output_type": "execute_result"
    }
   ],
   "source": [
    "# substitui expressão de y positivo em A para ter -A(x)\n",
    "A = A.subs({'y':sol[1]})\n",
    "A.expand()"
   ]
  },
  {
   "cell_type": "markdown",
   "id": "4fb8c94d-1c9b-465b-8bab-f194c6fa6b64",
   "metadata": {
    "slideshow": {
     "slide_type": "subslide"
    }
   },
   "source": [
    "Localizaremos o ponto crítico da função a partir da derivada $A'(x)$. Derivando $A$ em relação a $x$, obtemos: "
   ]
  },
  {
   "cell_type": "code",
   "execution_count": 42,
   "id": "9232bd62-9b0f-4139-8f5c-067a275819ad",
   "metadata": {
    "slideshow": {
     "slide_type": "fragment"
    }
   },
   "outputs": [
    {
     "data": {
      "image/png": "[encoded data removed]",
      "text/latex": [
       "$\\displaystyle \\frac{4 b x^{2} \\sqrt{a^{2} - x^{2}}}{a^{3} - a x^{2}} - \\frac{4 b \\sqrt{a^{2} - x^{2}}}{a}$"
      ],
      "text/plain": [
       "          _________          _________\n",
       "     2   ╱  2    2          ╱  2    2 \n",
       "4⋅b⋅x ⋅╲╱  a  - x     4⋅b⋅╲╱  a  - x  \n",
       "─────────────────── - ────────────────\n",
       "      3      2               a        \n",
       "     a  - a⋅x                         "
      ]
     },
     "execution_count": 42,
     "metadata": {
      "filenames": {
       "image/png": "/Users/gustavo/Dropbox/courses/data-science/ICD/_build/jupyter_execute/rise/15-otimizacao-rise_27_0.png"
      }
     },
     "output_type": "execute_result"
    }
   ],
   "source": [
    "# deriva -A(x) com a,b constantes\n",
    "dAdx = A.diff(x)\n",
    "dAdx.expand()"
   ]
  },
  {
   "cell_type": "markdown",
   "id": "020edbc9-1906-4ac5-b5c5-8f68c18b4aa6",
   "metadata": {
    "slideshow": {
     "slide_type": "subslide"
    }
   },
   "source": [
    "Em seguida, buscamos $x^{*}$ tal que $A'(x^{*}) = \\frac{dA}{dx}(x^{*}) = 0$."
   ]
  },
  {
   "cell_type": "code",
   "execution_count": 45,
   "id": "3cb7a138-9cd5-4891-909a-1717618c227c",
   "metadata": {
    "slideshow": {
     "slide_type": "fragment"
    }
   },
   "outputs": [
    {
     "data": {
      "image/png": "[encoded data removed]",
      "text/latex": [
       "$\\displaystyle \\left[ - \\frac{\\sqrt{2} a}{2}, \\  \\frac{\\sqrt{2} a}{2}\\right]$"
      ],
      "text/plain": [
       "⎡-√2⋅a   √2⋅a⎤\n",
       "⎢──────, ────⎥\n",
       "⎣  2      2  ⎦"
      ]
     },
     "execution_count": 45,
     "metadata": {
      "filenames": {
       "image/png": "/Users/gustavo/Dropbox/courses/data-science/ICD/_build/jupyter_execute/rise/15-otimizacao-rise_29_0.png"
      }
     },
     "output_type": "execute_result"
    }
   ],
   "source": [
    "# resolve A'(x*) = 0\n",
    "sol_x = sy.solve(dAdx,x)\n",
    "sol_x"
   ]
  },
  {
   "cell_type": "markdown",
   "id": "3f54912e-e6ce-43cf-bf42-6c343231ed08",
   "metadata": {
    "slideshow": {
     "slide_type": "subslide"
    }
   },
   "source": [
    "Duas soluções, são possíveis, porém, podemos verificar qual ponto de crítico, de fato, é o que minimizará $-A(x)$ através da análise da concavidade. Então, calculamos $A''(x)$, para cada ponto crítico."
   ]
  },
  {
   "cell_type": "code",
   "execution_count": 52,
   "id": "07721b24-f2b6-431b-96f9-83d243aa08e9",
   "metadata": {
    "slideshow": {
     "slide_type": "fragment"
    }
   },
   "outputs": [
    {
     "data": {
      "image/png": "[encoded data removed]",
      "text/latex": [
       "$\\displaystyle \\left( - \\frac{16 b \\left(a^{2}\\right)^{\\frac{9}{2}}}{a^{10}}, \\  \\frac{16 b \\left(a^{2}\\right)^{\\frac{9}{2}}}{a^{10}}\\right)$"
      ],
      "text/plain": [
       "⎛          9/2            9/2⎞\n",
       "⎜      ⎛ 2⎞           ⎛ 2⎞   ⎟\n",
       "⎜-16⋅b⋅⎝a ⎠      16⋅b⋅⎝a ⎠   ⎟\n",
       "⎜──────────────, ────────────⎟\n",
       "⎜      10             10     ⎟\n",
       "⎝     a              a       ⎠"
      ]
     },
     "execution_count": 52,
     "metadata": {
      "filenames": {
       "image/png": "/Users/gustavo/Dropbox/courses/data-science/ICD/_build/jupyter_execute/rise/15-otimizacao-rise_31_0.png"
      }
     },
     "output_type": "execute_result"
    }
   ],
   "source": [
    "# testa A''(x) para os dois pontos\n",
    "dAdx2 = dAdx.diff(x)\n",
    "dAdx2.subs(x,sol_x[0]).simplify(),dAdx2.subs(x,sol_x[1]).simplify()"
   ]
  },
  {
   "cell_type": "markdown",
   "id": "a9f020b3-ccad-49d4-bcc8-0db20cddade3",
   "metadata": {
    "slideshow": {
     "slide_type": "subslide"
    }
   },
   "source": [
    "Uma vez que a segunda solução verifica a concavidade positiva, temos que o ponto crítico $x^{*}$ é:"
   ]
  },
  {
   "cell_type": "code",
   "execution_count": 53,
   "id": "4364ed1b-a208-46d6-900e-75443c65dc5b",
   "metadata": {
    "slideshow": {
     "slide_type": "fragment"
    }
   },
   "outputs": [
    {
     "data": {
      "image/png": "[encoded data removed]",
      "text/latex": [
       "$\\displaystyle \\frac{\\sqrt{2} a}{2}$"
      ],
      "text/plain": [
       "√2⋅a\n",
       "────\n",
       " 2  "
      ]
     },
     "execution_count": 53,
     "metadata": {
      "filenames": {
       "image/png": "/Users/gustavo/Dropbox/courses/data-science/ICD/_build/jupyter_execute/rise/15-otimizacao-rise_33_0.png"
      }
     },
     "output_type": "execute_result"
    }
   ],
   "source": [
    "# concavidade para cima => ponto de mínimo\n",
    "xs = sol_x[1]\n",
    "xs"
   ]
  },
  {
   "cell_type": "markdown",
   "id": "c32c28ac-627c-423b-a836-7c36e444fa0e",
   "metadata": {
    "slideshow": {
     "slide_type": "subslide"
    }
   },
   "source": [
    "Usando este valor na equação da elipse, obtemos a ordenada correspondente:"
   ]
  },
  {
   "cell_type": "code",
   "execution_count": 54,
   "id": "23ed9c88-c642-42b9-871f-2ea372ea456b",
   "metadata": {
    "slideshow": {
     "slide_type": "fragment"
    }
   },
   "outputs": [
    {
     "data": {
      "image/png": "[encoded data removed]",
      "text/latex": [
       "$\\displaystyle \\frac{\\sqrt{2} b}{2}$"
      ],
      "text/plain": [
       "√2⋅b\n",
       "────\n",
       " 2  "
      ]
     },
     "execution_count": 54,
     "metadata": {
      "filenames": {
       "image/png": "/Users/gustavo/Dropbox/courses/data-science/ICD/_build/jupyter_execute/rise/15-otimizacao-rise_35_0.png"
      }
     },
     "output_type": "execute_result"
    }
   ],
   "source": [
    "# resolve para y > 0\n",
    "ys = sy.solve(xs**2/a**2 + y**2/b**2 - 1,y)[1]\n",
    "ys "
   ]
  },
  {
   "cell_type": "markdown",
   "id": "00de8a19-1515-4458-8c82-01569d7bb2ef",
   "metadata": {
    "slideshow": {
     "slide_type": "subslide"
    }
   },
   "source": [
    "Por fim, substituindo $x^{*}$ na expressão da área, temos que $A_{max}$ é:"
   ]
  },
  {
   "cell_type": "code",
   "execution_count": 56,
   "id": "2200a1fe-78f0-4c51-af9c-7d687017c594",
   "metadata": {
    "slideshow": {
     "slide_type": "fragment"
    }
   },
   "outputs": [
    {
     "data": {
      "image/png": "[encoded data removed]",
      "text/latex": [
       "$\\displaystyle - 2 \\sqrt{2} b \\sqrt{\\left(- \\frac{\\sqrt{2} a}{2} + a\\right) \\left(\\frac{\\sqrt{2} a}{2} + a\\right)}$"
      ],
      "text/plain": [
       "            _________________________\n",
       "           ╱ ⎛  √2⋅a    ⎞ ⎛√2⋅a    ⎞ \n",
       "-2⋅√2⋅b⋅  ╱  ⎜- ──── + a⎟⋅⎜──── + a⎟ \n",
       "        ╲╱   ⎝   2      ⎠ ⎝ 2      ⎠ "
      ]
     },
     "execution_count": 56,
     "metadata": {
      "filenames": {
       "image/png": "/Users/gustavo/Dropbox/courses/data-science/ICD/_build/jupyter_execute/rise/15-otimizacao-rise_37_0.png"
      }
     },
     "output_type": "execute_result"
    }
   ],
   "source": [
    "# área máxima\n",
    "A_max = A.subs(x,xs)\n",
    "A_max"
   ]
  },
  {
   "cell_type": "markdown",
   "id": "aff40540-7db7-495e-b493-0fe894165804",
   "metadata": {
    "slideshow": {
     "slide_type": "subslide"
    }
   },
   "source": [
    "ou, de forma, simplificada,"
   ]
  },
  {
   "cell_type": "code",
   "execution_count": 61,
   "id": "c0adb130-9bc0-405d-93b3-6cdc298271a4",
   "metadata": {
    "slideshow": {
     "slide_type": "fragment"
    }
   },
   "outputs": [
    {
     "data": {
      "image/png": "[encoded data removed]",
      "text/latex": [
       "$\\displaystyle - 2 b \\sqrt{a^{2}}$"
      ],
      "text/plain": [
       "        ____\n",
       "       ╱  2 \n",
       "-2⋅b⋅╲╱  a  "
      ]
     },
     "execution_count": 61,
     "metadata": {
      "filenames": {
       "image/png": "/Users/gustavo/Dropbox/courses/data-science/ICD/_build/jupyter_execute/rise/15-otimizacao-rise_39_0.png"
      }
     },
     "output_type": "execute_result"
    }
   ],
   "source": [
    "# simplificando\n",
    "A_max.simplify()"
   ]
  },
  {
   "cell_type": "markdown",
   "id": "b3695c7c-94e9-43c5-97be-09a5ea275015",
   "metadata": {
    "slideshow": {
     "slide_type": "subslide"
    }
   },
   "source": [
    "### Conclusão \n",
    "\n",
    "A área do retângulo inscrito na elipse será máxima quando $x = \\frac{\\sqrt{2}}{2}a$ e $y = \\frac{\\sqrt{2}}{2}b$. Portanto, $A_{max} = 2ab$, para comprimentos $a$ e $b$ de semi-eixo maior e menor."
   ]
  },
  {
   "cell_type": "markdown",
   "id": "2d85e5ff-5c74-433c-9170-4e4240616014",
   "metadata": {
    "slideshow": {
     "slide_type": "slide"
    }
   },
   "source": [
    "## Estudo paramétrico de geometria\n",
    "\n",
    "- Plotaremos a variação das áreas de retângulos inscritos em uma elipse arbitrária em função do comprimento $x$ da meia-base do retângulo até o limite da meia-base do retângulo de área máxima. \n",
    "- Adicionalmente, plotaremos a variação do comprimento da diagonal do retângulo. "
   ]
  },
  {
   "cell_type": "code",
   "execution_count": 67,
   "id": "animated-military",
   "metadata": {
    "slideshow": {
     "slide_type": "subslide"
    }
   },
   "outputs": [
    {
     "data": {
      "image/png": "[encoded data removed]",
      "text/plain": [
       "<Figure size 432x288 with 2 Axes>"
      ]
     },
     "metadata": {
      "filenames": {
       "image/png": "/Users/gustavo/Dropbox/courses/data-science/ICD/_build/jupyter_execute/rise/15-otimizacao-rise_42_0.png"
      },
      "needs_background": "light"
     },
     "output_type": "display_data"
    }
   ],
   "source": [
    "# semi-eixos da elipse\n",
    "a,b = 60,30\n",
    "# no. de retângulos inscritos\n",
    "nx = 40 \n",
    "# base variável do retângulo\n",
    "X = np.linspace(0,np.sqrt(2)/2*a,nx)\n",
    "# área da elipse\n",
    "e = np.pi*a*b\n",
    "# áreas dos retângulos\n",
    "R = []; H = []\n",
    "for x in X:\n",
    "    y = b*np.sqrt(1 - x**2/a**2)        \n",
    "    r = 4*x*y\n",
    "    h = np.hypot(2*x,2*y) # diagonal do retângulo    \n",
    "    R.append(r)\n",
    "    H.append(h)\n",
    "# plotagem   \n",
    "fig,ax1 = plt.subplots(figsize=(6,4))\n",
    "ax1.plot(X,R,'sb',mec='w',alpha=0.8,label='$A_{ret}(x)$')\n",
    "ax1.plot(X,np.full(X.shape,2*a*b),'--r',alpha=0.8,label='$A_{max}$')\n",
    "ax1.plot(X,np.full(X.shape,e),'-',alpha=0.8,label='$A_{elip}$')\n",
    "ax1.legend(fontsize=10)\n",
    "# labels\n",
    "plt.xlabel('$x$ [compr. base ret. inscrito]') \n",
    "plt.ylabel('$A$ [áreas]');\n",
    "ax2 = ax1.twinx()\n",
    "ax2.plot(X,H,'og',mec='w',alpha=0.8,label='$h_{ret}(x)$')\n",
    "ax2.legend(loc=5,ncol=1,fontsize=10)\n",
    "plt.ylabel('$h$ [compr. diag ret.]');\n",
    "plt.suptitle('Variação de áreas e diagonais: elipse x retângulo inscrito\\n');\n",
    "plt.title(f'Elipse: $x^2/({a:.1f})^2 + y^2/({b:.1f})^2 = 1$',fontsize=10);"
   ]
  }
 ],
 "metadata": {
  "celltoolbar": "Slideshow",
  "kernelspec": {
   "display_name": "Python 3",
   "language": "python",
   "name": "python3"
  },
  "language_info": {
   "codemirror_mode": {
    "name": "ipython",
    "version": 3
   },
   "file_extension": ".py",
   "mimetype": "text/x-python",
   "name": "python",
   "nbconvert_exporter": "python",
   "pygments_lexer": "ipython3",
   "version": "3.9.4"
  },
  "rise": {
   "enable_chalkboard": true,
   "footer": "ICD",
   "header": "Prof. Gustavo Oliveira | UFPB",
   "theme": "black"
  }
 },
 "nbformat": 4,
 "nbformat_minor": 5
}