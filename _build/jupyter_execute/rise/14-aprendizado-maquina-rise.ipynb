{
 "cells": [
  {
   "cell_type": "markdown",
   "id": "befd2afa-a845-429f-9727-590ccbbb02e8",
   "metadata": {
    "slideshow": {
     "slide_type": "slide"
    }
   },
   "source": [
    "# Aprendizado de máquina - Parte 1"
   ]
  },
  {
   "cell_type": "markdown",
   "id": "ab8ea338",
   "metadata": {
    "slideshow": {
     "slide_type": "slide"
    }
   },
   "source": [
    "- Subcampo da IA que tem por objetivo permitir que o computador _aprenda com os dados_ sem ser explicitamente programado. \n",
    "- Em linhas gerais, no _machine learning_ se constrói algoritmos que leem dados, aprendem com a \"experiência\" deles e inferem coisas a partir do conhecimento adquirido. \n",
    "- Área tem sido de grande valor por ser capaz de transformar dados aparentemente desconexos em informações cruciais para a tomada de decisões por meio do reconhecimento de padrões significativos."
   ]
  },
  {
   "cell_type": "markdown",
   "id": "e7d06f64",
   "metadata": {
    "slideshow": {
     "slide_type": "subslide"
    }
   },
   "source": [
    "## Modelagem e a subdivisão da área\n",
    "\n",
    "- Os problemas fundamentais de ML em geral podem ser explicados por meio de _modelos_. Um modelo matemático (ou probabilístico) nada mais é do que uma relação entre variáveis. \n",
    "\n",
    "- As maiores classes de problemas de ML são:\n",
    "\n",
    "- **Aprendizagem supervisionada (_supervised learning_)**\n",
    "- **Aprendizagem não-supervisionada (_unsupervised learning_)**\n",
    "- **Aprendizagem por reforço (_reinforcement learning_)** (não cobriremos)\n",
    ", cujos algoritmos aprendem a partir de reforço para aperfeiçoar a qualidade de uma resposta explorando o espaço de solução iterativamente."
   ]
  },
  {
   "cell_type": "markdown",
   "id": "473be745",
   "metadata": {
    "slideshow": {
     "slide_type": "subslide"
    }
   },
   "source": [
    "### Aprendizagem supervisionada (_supervised learning_)\n",
    "\n",
    "- Aplicável a situações em que desejamos predizer valores. \n",
    "- Algoritmos aprendem a partir de um conjunto de treinamento rotulado (_labels_ ou _exemplars_) e procuram _generalizações_ para todos os dados de entrada possíveis. \n",
    "- Em problemas supervisionados, é necessário saber que dado fornece a \"verdade fundamental\" para que outros possam a ele ser comparados. Popularmente, este termo é chamado de _ground-truth_. \n",
    "- Exemplos: regressão logística (_logistic regression_), máquinas de vetor de suporte (_support vector machines_) e floresta aleatória (_random forest_)."
   ]
  },
  {
   "cell_type": "markdown",
   "id": "99051c33",
   "metadata": {
    "slideshow": {
     "slide_type": "subslide"
    }
   },
   "source": [
    "### Aprendizagem não-supervisionada (_unsupervised learning_)\n",
    "\n",
    "- Aplicável a situações em que desejamos explorar os dados para explicá-los. \n",
    "- Algoritmos aprendem a partir de um conjunto de treinamento não rotulado (_unlabeled_) e buscam _explicações_ a partir de algum critério estatístico, geométrico ou de similaridade. \n",
    "- Exemplos: clusterização por _k-means_ (_k-means clustering_ e núcleo-estimador da função densidade (_kernel density estimation_)."
   ]
  },
  {
   "cell_type": "markdown",
   "id": "c0af8009",
   "metadata": {
    "slideshow": {
     "slide_type": "subslide"
    }
   },
   "source": [
    "### Aprendizagem por reforço (_reinforcement learning_)\n",
    "\n",
    "- Algoritmos aprendem a partir de reforço para aperfeiçoar a qualidade de uma resposta explorando o espaço de solução iterativamente.\n",
    "\n",
    "- (Não cobriremos neste curso.)"
   ]
  },
  {
   "cell_type": "markdown",
   "id": "c4d71d95",
   "metadata": {
    "slideshow": {
     "slide_type": "subslide"
    }
   },
   "source": [
    "### Tipos de problemas de aprendizagem supervisionada\n",
    "\n",
    "- _classificação_, se a resposta procurada é discreta, isto é, se há apenas alguns valores possíveis para atribuição (p.ex. classificar se uma família é de baixa, média ou alta renda a partir de dados econômicos); \n",
    "- _regressão_, se a resposta procurada é contínua, isto é, se admite valores variáveis (p.ex. determinar a renda dos membros de uma família com base em suas profissões)."
   ]
  },
  {
   "cell_type": "markdown",
   "id": "256707d1-f0d3-4c9d-85b6-a6c8a208b713",
   "metadata": {
    "slideshow": {
     "slide_type": "subslide"
    }
   },
   "source": [
    "### Tipos de problemas de aprendizagem não supervisionada\n",
    "\n",
    "- _clusterização_, se a resposta procurada deve ser organizada em vários grupos. A clusterização tem similaridades com o problema de classificação, exceto pelo desconhecimento _a priori_, de quantas classes existem;\n",
    "- _estimativa de densidade_, se a resposta procurada é a explicação de processos fundamentais responsáveis pela distribuição dos dados."
   ]
  },
  {
   "cell_type": "markdown",
   "id": "422b741c",
   "metadata": {
    "slideshow": {
     "slide_type": "subslide"
    }
   },
   "source": [
    "### Quadro-resumo\n",
    "<img src=\"../figs/13/visao-geral-ml.png\" width=600px>"
   ]
  },
  {
   "cell_type": "markdown",
   "id": "eba2997a-2a46-461c-9cf9-cfe63bca1492",
   "metadata": {
    "slideshow": {
     "slide_type": "slide"
    }
   },
   "source": [
    "## Estudo de caso: classificação de empréstimos bancários\n",
    "\n",
    "- Predizer se pedido de empréstimo será parcial ou totalmente aprovado por uma financeira. \n",
    "- Banco de dados disponível da financeira abrange 2007-2011.\n",
    "- Aprovação do pedido baseia-se em análise de risco e informações (renda anual da pessoa, endividamento, calotes, taxa de juros do empréstimo, etc.) \n",
    "\n",
    "- Matematicamente, o pedido da pessoa será bem-sucedido se\n",
    "\n",
    "$$\\alpha = \\frac{E - F}{E} \\ge 0.95,$$\n",
    "\n",
    "onde $E$ é o valor do empréstimo requisitado e $F$ o financiamento liberado. "
   ]
  },
  {
   "cell_type": "markdown",
   "id": "f5a9df88",
   "metadata": {
    "slideshow": {
     "slide_type": "subslide"
    }
   },
   "source": [
    "### Expressando o classificador\n",
    "\n",
    "O classificador binário pode ser escrito pela função\n",
    "\n",
    "$$h({\\bf X}): \\mathbb{M}_{n \\, \\times \\, d} \\to \\mathbb{K},$$\n",
    "\n",
    "com $\\mathbb{K} = \\{+1,-1\\}$ e ${\\bf X}$ é uma matriz de $n$ amostras e $d$ _features_ pertencente ao conjunto abstrato $\\mathbb{M}_{n \\, \\times \\, d}$.\n"
   ]
  },
  {
   "cell_type": "code",
   "execution_count": 16,
   "id": "387591f9-4a6c-44e0-b47d-ae8a0e2cf9e9",
   "metadata": {
    "slideshow": {
     "slide_type": "subslide"
    }
   },
   "outputs": [],
   "source": [
    "import pickle # serialização de dados\n",
    "import numpy as np\n",
    "import matplotlib.pyplot as plt"
   ]
  },
  {
   "cell_type": "markdown",
   "id": "1a243928-f468-494f-b5b7-b70021b3e28b",
   "metadata": {
    "slideshow": {
     "slide_type": "subslide"
    }
   },
   "source": [
    "Vamos ler o banco de dados."
   ]
  },
  {
   "cell_type": "code",
   "execution_count": 20,
   "id": "12f963bc-8735-44cd-b946-b2f4c828c810",
   "metadata": {
    "slideshow": {
     "slide_type": "fragment"
    }
   },
   "outputs": [],
   "source": [
    "import pickle\n",
    "f = open('../database/dataset_small.pkl','rb')\n",
    "# necessário encoding 'latin1'\n",
    "(x,y) = pickle.load(f,encoding='latin1')"
   ]
  },
  {
   "cell_type": "markdown",
   "id": "f14d5f5b-afab-4bdd-96e9-ee0d01764817",
   "metadata": {
    "slideshow": {
     "slide_type": "subslide"
    }
   },
   "source": [
    "Aqui, `x` é a nossa matriz de features."
   ]
  },
  {
   "cell_type": "code",
   "execution_count": 22,
   "id": "0bbc6f62-6c14-493c-985e-e90fa0d6641f",
   "metadata": {
    "slideshow": {
     "slide_type": "fragment"
    }
   },
   "outputs": [
    {
     "data": {
      "text/plain": [
       "(4140, 15)"
      ]
     },
     "execution_count": 22,
     "metadata": {},
     "output_type": "execute_result"
    }
   ],
   "source": [
    "# 4140 amostras\n",
    "# 15 features\n",
    "x.shape"
   ]
  },
  {
   "cell_type": "markdown",
   "id": "21e783e9-2229-491e-a880-704051e13e95",
   "metadata": {
    "slideshow": {
     "slide_type": "fragment"
    }
   },
   "source": [
    "`y` é o vetor de _labels_"
   ]
  },
  {
   "cell_type": "code",
   "execution_count": 23,
   "id": "74e6059f-c33a-4528-bcb6-cdd776a628b5",
   "metadata": {
    "slideshow": {
     "slide_type": "fragment"
    }
   },
   "outputs": [
    {
     "data": {
      "text/plain": [
       "(array([ 1.,  1.,  1., ..., -1., -1., -1.]), (4140,))"
      ]
     },
     "execution_count": 23,
     "metadata": {},
     "output_type": "execute_result"
    }
   ],
   "source": [
    "# 4140 targets +1 ou -1\n",
    "y,y.shape"
   ]
  },
  {
   "cell_type": "markdown",
   "id": "fb3a5826-6e19-41b2-b9e9-461045e1aadc",
   "metadata": {
    "slideshow": {
     "slide_type": "subslide"
    }
   },
   "source": [
    "Comentários: \n",
    "- As _features_ (atributos) são características que nos permitem distinguir um item. Neste exemplo, são todas as informações coletadas sobre a pessoa ou sobre o mecanismo de empréstimo. São 15, no total, com 4140 valores reais (amostras) cada.\n",
    "- Em geral, uma amostra pode ser um documento, figura, arquivo de áudio, linha de uma planilha.\n",
    "- _Features_ são geralmente valores reais, mas podem ser booleanos, discretos, ou categóricos.\n",
    "- O vetor-alvo (_target_) contém valores que marcam se empréstimos passados no histórico da financeira foram aprovados ou reprovados."
   ]
  },
  {
   "cell_type": "markdown",
   "id": "bb6faf17-fbc2-4c8a-843d-e094134469a1",
   "metadata": {
    "slideshow": {
     "slide_type": "subslide"
    }
   },
   "source": [
    "### Interfaces do `scikit-learn`"
   ]
  },
  {
   "cell_type": "markdown",
   "id": "6b15260b-f5b4-42ce-b442-661172914e68",
   "metadata": {
    "slideshow": {
     "slide_type": "fragment"
    }
   },
   "source": [
    "Usaremos o módulo `scikit-learn` para resolver o problema. Este módulo usa três interfaces:\n",
    "\n",
    "- `fit()` (estimador), para construir modelos de ajuste;\n",
    "- `predict()` (preditor), para fazer predições;\n",
    "- `transform()` (transformador), para converter dados;\n",
    "\n",
    "O objetivo é predizer empréstimos malsucedidos, isto é, aqueles que se acham aquém do limiar de 95% de $\\alpha$."
   ]
  },
  {
   "cell_type": "code",
   "execution_count": 62,
   "id": "ca3340b2-014e-4ab3-8488-6c61a6838a96",
   "metadata": {
    "slideshow": {
     "slide_type": "subslide"
    }
   },
   "outputs": [
    {
     "data": {
      "text/plain": [
       "3443"
      ]
     },
     "execution_count": 62,
     "metadata": {},
     "output_type": "execute_result"
    }
   ],
   "source": [
    "from sklearn import neighbors\n",
    "\n",
    "# cria uma instância de classificação \n",
    "# 11 vizinhos mais próximos\n",
    "nn = 11\n",
    "knn = neighbors.KNeighborsClassifier(n_neighbors=nn)\n",
    "\n",
    "# treina o classificador \n",
    "knn.fit(x,y)\n",
    "\n",
    "# calcula a predição\n",
    "yh = knn.predict(x)\n",
    "\n",
    "# predição, real\n",
    "y,yh\n",
    "\n",
    "# altere nn e verifique diferenças\n",
    "from numpy import size, where\n",
    "size(where(y - yh == 0))"
   ]
  },
  {
   "cell_type": "markdown",
   "id": "5d342481-6856-45ff-b06b-40bffd9b74ee",
   "metadata": {
    "slideshow": {
     "slide_type": "subslide"
    }
   },
   "source": [
    "> O algoritmo de classificação dos _K_ vizinhos mais próximos foi proposto em 1975. A base de seu funcionamento é a determinação do rótulo de classificação de uma amostra a partir de _K_ amostras vizinhas em um conjunto de treinamento."
   ]
  },
  {
   "cell_type": "markdown",
   "id": "1d6b3e19-a372-492a-ac99-0c3880b58ebe",
   "metadata": {
    "slideshow": {
     "slide_type": "subslide"
    }
   },
   "source": [
    "#### Acurácia"
   ]
  },
  {
   "cell_type": "markdown",
   "id": "f7f5e190-11af-451a-abf7-30907fc18bd4",
   "metadata": {
    "slideshow": {
     "slide_type": "fragment"
    }
   },
   "source": [
    "Podemos medir o desempenho do classificador usando métricas. A métrica padrão para o método _KNN_ é a _acurácia_, dada por:\n",
    "\n",
    "$$acc = 1 - erro = \\frac{\\text{no. de predições corretas}}{n}.$$"
   ]
  },
  {
   "cell_type": "code",
   "execution_count": 31,
   "id": "3be90182-2440-4d1d-9ed1-2ab99938a81c",
   "metadata": {
    "slideshow": {
     "slide_type": "fragment"
    }
   },
   "outputs": [
    {
     "data": {
      "text/plain": [
       "0.8316425120772947"
      ]
     },
     "execution_count": 31,
     "metadata": {},
     "output_type": "execute_result"
    }
   ],
   "source": [
    "knn.score(x,y)"
   ]
  },
  {
   "cell_type": "markdown",
   "id": "853c5120-0fa3-4147-b13f-d892502da388",
   "metadata": {
    "slideshow": {
     "slide_type": "subslide"
    }
   },
   "source": [
    "Este _score_ parece bom, mas há o que analisar... Vamos plotar a distribuição dos rótulos."
   ]
  },
  {
   "cell_type": "code",
   "execution_count": 32,
   "id": "afee4e6e-dc76-47c9-bf5d-eb1712ca973d",
   "metadata": {
    "slideshow": {
     "slide_type": "fragment"
    }
   },
   "outputs": [
    {
     "data": {
      "image/png": "[encoded data removed]",
      "text/plain": [
       "<Figure size 432x432 with 1 Axes>"
      ]
     },
     "metadata": {
      "filenames": {
       "image/png": "/Users/gustavo/Dropbox/courses/data-science/ICD/_build/jupyter_execute/rise/14-aprendizado-maquina-rise_27_0.png"
      }
     },
     "output_type": "display_data"
    }
   ],
   "source": [
    "# gráfico \"torta\" (pie chart)\n",
    "plt.pie(np.c_[np.sum(np.where(y == 1,1,0)),\n",
    "             np.sum(np.where(y == -1,1,0))][0],\n",
    "       labels=['E parcial','E total'],colors=['r','g'],\n",
    "       shadow=False,autopct='%.2f')\n",
    "plt.gcf().set_size_inches((6,6))"
   ]
  },
  {
   "cell_type": "markdown",
   "id": "4bfbbe0d-12ff-4b06-aa96-f60e4ed34289",
   "metadata": {
    "slideshow": {
     "slide_type": "subslide"
    }
   },
   "source": [
    "O gráfico mostra que o banco de dados está desequilibrado, já que 81,57% dos empréstimos foram liberados integralmente. Isso pode implicar que a predição será pela \"maioria\"."
   ]
  },
  {
   "cell_type": "markdown",
   "id": "633ae0a2",
   "metadata": {
    "slideshow": {
     "slide_type": "subslide"
    }
   },
   "source": [
    "#### Matriz de confusão\n",
    "\n",
    "- Há casos em que a acurácia não é uma boa métrica de desempenho. \n",
    "- Análises mais detalhadas necessárias => _matriz de confusão_. \n",
    "- Métricas para cenários distintos que levam em conta os valores obtidos pelo classificador e os valores considerados como corretos (_ground-truth_, isto é, o  \"padrão-ouro\" (_gold standard_). "
   ]
  },
  {
   "cell_type": "markdown",
   "id": "ecce813d",
   "metadata": {
    "slideshow": {
     "slide_type": "subslide"
    }
   },
   "source": [
    "Em um classificador binário, há quatro casos a considerar, ilustrados na {numref}`matriz-confusao`:\n",
    "\n",
    "- _Verdadeiro positivo_ (VP). O classificador prediz uma amostra como positiva que, de fato, é positiva.\n",
    "- _Falso positivo_ (FP). O classificador prediz uma amostra como positiva que, na verdade, é negativa.\n",
    "- _Verdadeiro negativo_ (VN). O classificador prediz uma amostra como negativa que, de fato, é negativa.\n",
    "- _Falso negativo_ (FN). O classificador prediz uma amostra como negativa que, na verdade, é positiva."
   ]
  },
  {
   "cell_type": "markdown",
   "id": "9d9cdf3e",
   "metadata": {
    "slideshow": {
     "slide_type": "subslide"
    }
   },
   "source": [
    "<img src='../figs/13/matriz-confusao.png' width='300px'>"
   ]
  },
  {
   "cell_type": "markdown",
   "id": "3a2df02e-5d36-483d-882d-98175d216aaf",
   "metadata": {
    "slideshow": {
     "slide_type": "subslide"
    }
   },
   "source": [
    "### Métricas\n",
    "\n",
    "- _Acurácia_: $\\text{acc} = \\dfrac{TP + TN}{TP + TN + FP + FN}$\n",
    "\n",
    "- _Recall_ (ou _sensibilidade_): $\\text{rec} = \\dfrac{TP}{TN + FP}$\n",
    "\n",
    "- _Especificidade_: $\\text{spec} = \\dfrac{TN}{TN + FP}$\n",
    "\n",
    "- _Precisão_ (ou _valor previsto positivo_): $\\text{prec} = \\dfrac{TP}{TP + FP}$\n",
    "\n",
    "- _Valor previsto negativo_: $\\text{npv} = \\dfrac{TN}{TN + FN}$\n",
    "\n",
    "- _F1-score_ (média harmônica entre _prec_ e _rec_): $F_1 = \\dfrac{2 \\, \\text{prec}\\, \\text{rec}}{\\text{prec} + \\text{rec}}$"
   ]
  },
  {
   "cell_type": "markdown",
   "id": "ac92e521",
   "metadata": {
    "slideshow": {
     "slide_type": "fragment"
    }
   },
   "source": [
    "- Em geral, a escolha de um modelo envolve um _trade-off_ entre precisão e recall.\n",
    "- Isto é, entre falsos positivos e falsos negativos. "
   ]
  },
  {
   "cell_type": "markdown",
   "id": "7036a30b-74e3-455e-ac56-086da71a37d5",
   "metadata": {
    "slideshow": {
     "slide_type": "subslide"
    }
   },
   "source": [
    "Podemos computar a matriz de confusão com"
   ]
  },
  {
   "cell_type": "code",
   "execution_count": 33,
   "id": "ab597641-c0ef-47c9-8c90-bdf0b5f3a9f9",
   "metadata": {
    "slideshow": {
     "slide_type": "fragment"
    }
   },
   "outputs": [
    {
     "data": {
      "text/plain": [
       "array([[3370,  690],\n",
       "       [   7,   73]])"
      ]
     },
     "execution_count": 33,
     "metadata": {},
     "output_type": "execute_result"
    }
   ],
   "source": [
    "conf = lambda a,b: np.sum(np.logical_and(yh == a, y == b))\n",
    "TP, TN, FP, FN = conf(-1,-1), conf(1,1), conf(-1,1), conf(1,-1)\n",
    "\n",
    "np.array([[TP,FP],[FN,TN]])"
   ]
  },
  {
   "cell_type": "markdown",
   "id": "9d36d26f-9d4c-4a11-afb9-4f6d01c35bdb",
   "metadata": {
    "slideshow": {
     "slide_type": "subslide"
    }
   },
   "source": [
    "ou, usando o `scikit-learn`, com"
   ]
  },
  {
   "cell_type": "code",
   "execution_count": 34,
   "id": "74c6f104-fb4e-4987-8b1d-6938a7c98da0",
   "metadata": {
    "slideshow": {
     "slide_type": "fragment"
    }
   },
   "outputs": [
    {
     "data": {
      "text/plain": [
       "array([[3370,  690],\n",
       "       [   7,   73]])"
      ]
     },
     "execution_count": 34,
     "metadata": {},
     "output_type": "execute_result"
    }
   ],
   "source": [
    "from sklearn import metrics\n",
    "metrics.confusion_matrix(yh,y) # switch (prediction, target)"
   ]
  },
  {
   "cell_type": "markdown",
   "id": "c27d1c84-ebae-4fd6-9f69-59e5405e8788",
   "metadata": {
    "slideshow": {
     "slide_type": "subslide"
    }
   },
   "source": [
    "#### Conjuntos de treinamento e de teste\n",
    "\n",
    "Vejamos um exemplo com `nn=1`."
   ]
  },
  {
   "cell_type": "code",
   "execution_count": 37,
   "id": "38508ae2-7da1-4755-9775-b8f3d305d9ee",
   "metadata": {
    "slideshow": {
     "slide_type": "fragment"
    }
   },
   "outputs": [
    {
     "data": {
      "text/plain": [
       "(1.0,\n",
       " array([[3377,    0],\n",
       "        [   0,  763]]))"
      ]
     },
     "execution_count": 37,
     "metadata": {},
     "output_type": "execute_result"
    }
   ],
   "source": [
    "knn = neighbors.KNeighborsClassifier(n_neighbors=1)\n",
    "knn.fit(x,y)\n",
    "yh = knn.predict(x)\n",
    "\n",
    "metrics.accuracy_score(yh,y), metrics.confusion_matrix(yh,y)"
   ]
  },
  {
   "cell_type": "markdown",
   "id": "3ca6ef98-8afd-44cb-916b-3afb5461a6b6",
   "metadata": {
    "slideshow": {
     "slide_type": "subslide"
    }
   },
   "source": [
    "#### Comentários\n",
    "\n",
    "Este caso tem 100% de acurácia e uma matriz de confusão diagonal.  No exemplo anterior, não diferenciamos o conjunto usado para treinamento e predição. \n",
    "\n",
    "Porém, em problemas reais, as chances dessa perfeição ocorrer são minimas. Da mesma forma, o classificador em geral será aplicado em dados previamente desconhecidos. Esta condição força-nos a dividir os dados em dois conjuntos: aquele usado para aprendizagem (_conjunto de treinamento_) e outro para testar a acurácia (_conjunto de teste_.\n"
   ]
  },
  {
   "cell_type": "markdown",
   "id": "ffd246bb-6e17-4fcc-b18c-63314daa94ce",
   "metadata": {
    "slideshow": {
     "slide_type": "subslide"
    }
   },
   "source": [
    "Vejamos uma simulação mais realista."
   ]
  },
  {
   "cell_type": "code",
   "execution_count": 44,
   "id": "f36553dd-4e61-49b7-bacd-fdd4aafbb977",
   "metadata": {
    "slideshow": {
     "slide_type": "fragment"
    }
   },
   "outputs": [],
   "source": [
    "# Randomiza e divide dados\n",
    "# PRC*100% para treinamento\n",
    "# (1-PRC)*100% para teste\n",
    "\n",
    "PRC = 0.7\n",
    "perm = np.random.permutation(y.size)\n",
    "split_point = int(np.ceil(y.shape[0]*PRC))\n",
    "X_train = x[perm[:split_point].ravel(),:]\n",
    "y_train = y[perm[:split_point].ravel()]\n",
    "X_test = x[perm[split_point:].ravel(),:]\n",
    "y_test = y[perm[split_point:].ravel()]"
   ]
  },
  {
   "cell_type": "code",
   "execution_count": 45,
   "id": "13b9ce16-bc6e-4105-af49-7bcab44e5f30",
   "metadata": {
    "slideshow": {
     "slide_type": "subslide"
    }
   },
   "outputs": [
    {
     "name": "stdout",
     "output_type": "stream",
     "text": [
      "training: (2898, 15)\n",
      "training target: (2898,)\n",
      "test: (1242, 15)\n",
      "test target: (1242,)\n"
     ]
    }
   ],
   "source": [
    "aux = {'training': X_train,\n",
    "       'training target':y_train,\n",
    "       'test':X_test,\n",
    "       'test target':y_test}\n",
    "\n",
    "for k,v in aux.items():\n",
    "    print(k,v.shape,sep=': ')"
   ]
  },
  {
   "cell_type": "markdown",
   "id": "3a7dc099-9746-43c4-97c7-886f44ca6c97",
   "metadata": {
    "slideshow": {
     "slide_type": "subslide"
    }
   },
   "source": [
    "Agora treinaremos o modelo com esta nova partição."
   ]
  },
  {
   "cell_type": "code",
   "execution_count": 47,
   "id": "992782de-a739-4774-9bc6-eac2cbbcd6d3",
   "metadata": {
    "slideshow": {
     "slide_type": "fragment"
    }
   },
   "outputs": [
    {
     "name": "stdout",
     "output_type": "stream",
     "text": [
      "acc: 1.0\n",
      "conf. matrix: \n",
      "[[2348    0]\n",
      " [   0  550]]\n"
     ]
    }
   ],
   "source": [
    "knn = neighbors.KNeighborsClassifier(n_neighbors = 1)\n",
    "knn.fit(X_train, y_train)\n",
    "yht = knn.predict(X_train)\n",
    "\n",
    "for k,v in {'acc': str(metrics.accuracy_score(yht, y_train)),\n",
    " 'conf. matrix': '\\n' + str(metrics.confusion_matrix(y_train, yht))}.items():\n",
    "    print(k,v,sep=': ')"
   ]
  },
  {
   "cell_type": "markdown",
   "id": "88e8d22d-ec84-40d2-aaa1-262265b3c6c2",
   "metadata": {
    "slideshow": {
     "slide_type": "subslide"
    }
   },
   "source": [
    "Para `nn = 1`, a acurácia é de 100%. Vejamos o que acontecerá nesta simulação com dados ainda não vistos."
   ]
  },
  {
   "cell_type": "code",
   "execution_count": 50,
   "id": "55eb97a5-180a-4379-bf39-8736dcccbc29",
   "metadata": {
    "slideshow": {
     "slide_type": "fragment"
    }
   },
   "outputs": [
    {
     "name": "stdout",
     "output_type": "stream",
     "text": [
      "acc: 0.7391304347826086\n",
      "conf. matrix: \n",
      "[[858 153]\n",
      " [171  60]]\n"
     ]
    }
   ],
   "source": [
    "yht2 = knn.predict(X_test)\n",
    "\n",
    "for k,v in {'acc': str(metrics.accuracy_score(yht2, y_test)),\n",
    " 'conf. matrix': '\\n' + str(metrics.confusion_matrix(yht2, y_test))}.items():\n",
    "    print(k,v,sep=': ')"
   ]
  },
  {
   "cell_type": "markdown",
   "id": "5da3bb25-58de-4758-9163-1d51f9d9311f",
   "metadata": {
    "slideshow": {
     "slide_type": "fragment"
    }
   },
   "source": [
    "Neste caso, a acurácia naturalmente reduziu."
   ]
  }
 ],
 "metadata": {
  "kernelspec": {
   "display_name": "Python 3",
   "language": "python",
   "name": "python3"
  },
  "language_info": {
   "codemirror_mode": {
    "name": "ipython",
    "version": 3
   },
   "file_extension": ".py",
   "mimetype": "text/x-python",
   "name": "python",
   "nbconvert_exporter": "python",
   "pygments_lexer": "ipython3",
   "version": "3.9.4"
  },
  "rise": {
   "enable_chalkboard": true,
   "footer": "ICD",
   "header": "Prof. Gustavo Oliveira | UFPB",
   "theme": "black"
  }
 },
 "nbformat": 4,
 "nbformat_minor": 5
}