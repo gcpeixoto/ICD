{
 "cells": [
  {
   "cell_type": "markdown",
   "id": "dedc392b-6e68-44fb-be10-27e1ba3e1052",
   "metadata": {
    "slideshow": {
     "slide_type": "slide"
    }
   },
   "source": [
    "# Raspagem de dados"
   ]
  },
  {
   "cell_type": "markdown",
   "id": "b5cd0d72-4228-4817-a5dc-fdc7a00140a0",
   "metadata": {
    "slideshow": {
     "slide_type": "slide"
    }
   },
   "source": [
    "## Introdução\n",
    "\n",
    "- _Raspagem de dados_ (_data scraping_), em seu sentido mais amplo, é um conceito aplicado à obtenção de dados de um certo programa a partir de outro de forma a extrair conteúdo de alto valor que sejam, prioritariamente, de fácil interpretação a humanos. \n",
    "- Sinônimo para _raspagem da web_ (_web scraping_), visto que a fonte mais ampla para coleta dados é a _web_. \n",
    "- \"Raspar\" dados da _web_ equivale a utilizar scripts, programas ou APIs para obter dados relevantes de sites, páginas, blogs, repositórios, ou qualquer outro lugar acessível por conectividade e requisição."
   ]
  },
  {
   "cell_type": "markdown",
   "id": "3c3964a0",
   "metadata": {
    "slideshow": {
     "slide_type": "subslide"
    }
   },
   "source": [
    "### O que raspar?\n",
    "\n",
    "- preços de ativos do mercado financeiro em tempo real;\n",
    "- históricos de sinistros em saúde pública, tais como os registros de casos durante a pandemia da Covid-19;\n",
    "- matérias jornalísticas sobre um mesmo tema em diversos canais de comunicação;\n",
    "- placar final de todos os jogos da NBA nos últimos 5 anos.\n",
    "- muitas outras coisas"
   ]
  },
  {
   "cell_type": "markdown",
   "id": "c965cc3f",
   "metadata": {
    "slideshow": {
     "slide_type": "subslide"
    }
   },
   "source": [
    "### Raspagem com `pandas`\n",
    "\n",
    "- Durante o curso, você já lidou implicitamente com a raspagem de dados\n",
    "- Ex.: carregamento de arquivo CSV hospedado em site da internet com `pandas.read_csv`"
   ]
  },
  {
   "cell_type": "markdown",
   "id": "7e3df22d",
   "metadata": {
    "slideshow": {
     "slide_type": "slide"
    }
   },
   "source": [
    "## Conceitos de background\n",
    "\n",
    "- Compilação de conceitos, módulos e ferramentas que dão base para a raspagem."
   ]
  },
  {
   "cell_type": "markdown",
   "id": "791110cb-a615-4dec-a346-8753bb727dab",
   "metadata": {
    "slideshow": {
     "slide_type": "subslide"
    }
   },
   "source": [
    "### HTML 5\n",
    "\n",
    "- _HTML_ (_HyperText Markup Language_), desenvolvida no início da década de 1990 como a linguagem básica da internet. \n",
    "- A maioria das páginas da internet hoje são escritas em HTML 5, o padrão recomendado pela W3C."
   ]
  },
  {
   "cell_type": "markdown",
   "id": "2a0a5388-df40-4532-ae06-4427a3d05610",
   "metadata": {
    "slideshow": {
     "slide_type": "subslide"
    }
   },
   "source": [
    "#### Arquivo HTML\n",
    "\n",
    "- Um documento HTML é estruturado por meio de _elementos_ enclausurados por um par de _tags_:\n",
    "```html\n",
    "<!DOCTYPE html>\n",
    "<html lang=\"pt-br\">\n",
    " <head>\n",
    "  <title>Introdução à Ciência de Dados</title>\n",
    " </head>\n",
    " <body>\n",
    "  <h1>Ciência de Dados no século XXI</h1>\n",
    "  <p>A História começa neste <a href=\"historia-icd.html\">link</a>.</p>\n",
    "  <!-- comentário -->\n",
    " </body>\n",
    "</html>\n",
    "```\n",
    "No exemplo, `<head>` e `</head>` são exemplo de _tags_ de abertura e fechamento para a seção _head_ do documento. "
   ]
  },
  {
   "cell_type": "markdown",
   "id": "fbd25478",
   "metadata": {
    "slideshow": {
     "slide_type": "subslide"
    }
   },
   "source": [
    "### DOM  \n",
    "\n",
    "- Os navegadores da web interpretam o código HTML e o transformam em uma \"árvore\". \n",
    "- Esta árvore caracteriza o modelo de objetos do documento: DOM (_Document Object Model_)."
   ]
  },
  {
   "cell_type": "markdown",
   "id": "8bf547ef-8e46-4448-afa1-6f4b50eea247",
   "metadata": {
    "slideshow": {
     "slide_type": "subslide"
    }
   },
   "source": [
    "#### Árvore DOM\n",
    "\n",
    "```html\n",
    "|- DOCTYPE: html\n",
    "|- html lang=\"pt-br\"\n",
    "   |- head\n",
    "   |  |- #text:\n",
    "   |  |- title\n",
    "   |  |  |- #text: Introdução à Ciência de Dados\n",
    "   |  |- #text:\n",
    "   |- #text:\n",
    "   |- body\n",
    "      |- #text:\n",
    "      |- h1\n",
    "      |  |- #text: Ciência de Dados no século XXI\n",
    "      |- #text:\n",
    "      |- p\n",
    "      |  |- #text: A História começa neste \n",
    "      |  |- a href=\"historia-icd.html\"\n",
    "      |     | #text: link\n",
    "      |  |- #text:\n",
    "      |- #comment: comentário\n",
    "      |- #text:\n",
    "```      "
   ]
  },
  {
   "cell_type": "markdown",
   "id": "673dd291-8de1-46cc-818d-2e02913cba29",
   "metadata": {
    "slideshow": {
     "slide_type": "subslide"
    }
   },
   "source": [
    "### Tags\n",
    "\n",
    "- Existem diversas _tags_ disponíveis em HTML. \n",
    "\n",
    "|Tag|Descrição|\n",
    "|---|---|\n",
    "|`<!DOCTYPE>` | define o tipo do documento|\n",
    "|`<html>` | define a raiz de um documento HTML|\n",
    "|`<head>` | enclausura os metadados (informações) sobre o documento|\n",
    "|`<title>` | define um título para o documento|\n",
    "|`<body>` | define o corpo do documento|\n",
    "|`<h1>` | define cabeçalho de primeiro nível (seção)|\n",
    "|`<p>` | define um parágrafo|\n",
    "|`<a>` | define um _hyperlink_ (ancoramento)|\n",
    "\n",
    "Lista completa em https://www.w3schools.com/TAGs/"
   ]
  },
  {
   "cell_type": "markdown",
   "id": "6bbdbf6e-871e-47bf-8719-85a6be80f70e",
   "metadata": {
    "slideshow": {
     "slide_type": "subslide"
    }
   },
   "source": [
    "### Escrevendo HTML no Jupyter Notebook\n",
    "\n",
    "- Podemos escrever sintaxes de código HTML em um _Jupyter Notebook_ e renderizar a saída formatada usando:\n",
    "    - o comando mágico `%%html`\n",
    "    - `IPython.display`"
   ]
  },
  {
   "cell_type": "code",
   "execution_count": 29,
   "id": "449363c6-cb8b-4077-9e3d-619aa4aa9bd5",
   "metadata": {
    "slideshow": {
     "slide_type": "subslide"
    }
   },
   "outputs": [
    {
     "data": {
      "text/html": [
       "<!-- Nada aqui -->\n",
       "<h2>Brincando com <sup>H</sup><sub>T</sub><sup>M</sup>L!</h2>\n",
       "<p> Muito legal adicionar <b>negrito</b>, \n",
       "<i>itálico</i> emojis como <span> &#128540; </span> e  \n",
       "um <a href=\"none.html\">link</a> para lugar algum!</p>\n"
      ],
      "text/plain": [
       "<IPython.core.display.HTML object>"
      ]
     },
     "metadata": {},
     "output_type": "display_data"
    }
   ],
   "source": [
    "%%html\n",
    "<!-- Nada aqui -->\n",
    "<h2>Brincando com <sup>H</sup><sub>T</sub><sup>M</sup>L!</h2>\n",
    "<p> Muito legal adicionar <b>negrito</b>, \n",
    "<i>itálico</i> emojis como <span> &#128540; </span> e  \n",
    "um <a href=\"none.html\">link</a> para lugar algum!</p>"
   ]
  },
  {
   "cell_type": "code",
   "execution_count": 30,
   "id": "719d3f2e-52e9-4f52-aaad-cfa34112d16c",
   "metadata": {
    "slideshow": {
     "slide_type": "subslide"
    }
   },
   "outputs": [
    {
     "data": {
      "text/html": [
       "<!-- Nada aqui --> <h2>Brincando com <sup>H</sup><sub>T</sub><sup>M</sup>L!</h2> <p> Muito legal adicionar <b>negrito</b>, <i>itálico</i> emojis como <span> &#128540; </span> e um <a href='none.html'>link</a> para lugar algum!</p>"
      ],
      "text/plain": [
       "<IPython.core.display.HTML object>"
      ]
     },
     "execution_count": 30,
     "metadata": {},
     "output_type": "execute_result"
    }
   ],
   "source": [
    "from IPython.display import HTML\n",
    "\n",
    "HTML(\"<!-- Nada aqui --> \\\n",
    "<h2>Brincando com <sup>H</sup><sub>T</sub><sup>M</sup>L!</h2> \\\n",
    "<p> Muito legal adicionar <b>negrito</b>, \\\n",
    "<i>itálico</i> emojis como <span> &#128540; </span> e \\\n",
    "um <a href='none.html'>link</a> para lugar algum!</p>\")"
   ]
  },
  {
   "cell_type": "markdown",
   "id": "7a8f1404",
   "metadata": {
    "slideshow": {
     "slide_type": "slide"
    }
   },
   "source": [
    "### APIs\n",
    "\n",
    "- Uma _API_ (_Application Program Interface_) é um mecanismo (interface) que usa aplicativos de terceiros para realizar \"conexões\" e puxar dados. APIs são parecidas com módulos, mas não oferecem meramente um conjunto de funções, mas sim um programa capaz de operar com muitos dados. \n",
    "\n",
    "- Diversas instuições fornecem APIs para que desenvolvedores possam coletar dados: Google, Facebook, Twitter, Yahoo, Elsevier, etc \n",
    "\n",
    "Lista de APIs públicas: https://devresourc.es/tools-and-utilities/public-apis."
   ]
  },
  {
   "cell_type": "markdown",
   "id": "6b997062-8ece-4b0f-93bb-63168d76c0c8",
   "metadata": {
    "slideshow": {
     "slide_type": "subslide"
    }
   },
   "source": [
    "#### APIs brasileiras relevantes:\n",
    "\n",
    "- APIs da B3 (Bolsa de Valores): https://www.b3.com.br/data/files/2B/41/CC/5D/10F42610D290A226790D8AA8/APIs-B3-Visao-Geral-versao-1.0.pdf\n",
    "- APIs do Governo Federal: https://www.gov.br/conecta/catalogo/"
   ]
  },
  {
   "cell_type": "markdown",
   "id": "96971830-942e-4884-bf9a-bd03ced91a9f",
   "metadata": {
    "slideshow": {
     "slide_type": "subslide"
    }
   },
   "source": [
    "### Métodos HTTP\n",
    "\n",
    "- Na _web_ lidamos com HTTP (_HyperText Transfer Protocol_), um protocolo de comunicação cliente/ servidor. \n",
    "- O _scraping_ ocorre por meio _requisições_ (_requests_) e _respostas_. \n",
    "- Em geral, há quatro métodos para transitar informações entre _browsers_ e servidores _web_ via HTTP:\n",
    "    - `GET`, para recuperar informação;\n",
    "    - `POST`, para criar informação;\n",
    "    - `PUT`, para atualizar informação;\n",
    "    - `DELETE`, para deletar informação;"
   ]
  },
  {
   "cell_type": "markdown",
   "id": "fde99757",
   "metadata": {
    "slideshow": {
     "slide_type": "subslide"
    }
   },
   "source": [
    "### JSON e XML\n",
    "\n",
    "- APIs utilizadas para raspagem de dados comumente retornam a informação:\n",
    "    - em formato XML (_eXtensible Markup Language_), blocada em _tags_ ou \n",
    "    - em formato JSON (_JavaScript Object Notation_), serializada. \n",
    "\n",
    "> Nota: embora JSON seja a escolha de APIs mais modernas, é importante ter em mente que muitos provedores de APIs as fornecem com saída XML apenas. Um dos argumentos em favor de JSON é a economia de caracteres. "
   ]
  },
  {
   "cell_type": "markdown",
   "id": "7c28daf4-e5ee-47e2-8047-fde7fcb1c9b6",
   "metadata": {
    "slideshow": {
     "slide_type": "subslide"
    }
   },
   "source": [
    "#### XML x JSON\n",
    "\n",
    "- XML: 100 caracteres\n",
    "```xml\n",
    "<user>\n",
    "    <firstname>Juan</firstname>\n",
    "    <lastname>Hernandes</lastname>\n",
    "    <username>Fernandez</username>\n",
    "</user>\n",
    "```\n",
    "- JSON: 75 caracteres (mesma informação com 25% menos espaço.)\n",
    "\n",
    "```json\n",
    "{\"user\":\n",
    " {\"firstname\":\"Juan\",\n",
    "  \"lastname\":\"Hernandes\",\n",
    "  \"username\":\"Fernandez\"}\n",
    "}\n",
    "```"
   ]
  },
  {
   "cell_type": "markdown",
   "id": "e680e8da-14ed-460f-abb1-4695dd2ec1fd",
   "metadata": {
    "slideshow": {
     "slide_type": "subslide"
    }
   },
   "source": [
    "### _Web crawlers_\n",
    "\n",
    "- Rastreadores da web (_web crawlers_) são programas que indexam informações da rede a partir de várias fontes. - \n",
    "- Comportam-se como \"espreitadores metódicos\" - conhecidos como _bots_, _aranhas_ ou _escutadores_ da rede. \n",
    "- Trabalham de forma recursiva _ad infinitum_ puxando conteúdo de páginas e examinando-os."
   ]
  },
  {
   "cell_type": "markdown",
   "id": "1aecacca-6f5c-4386-b59b-2095941d5edb",
   "metadata": {},
   "source": [
    "#### _Crawlers_ e termos de conduta\n",
    "\n",
    "- Para coleta de dados, porém baseiam-se em termos de serviço e conduta. \n",
    "- Todo site público possui, de alguma forma, termos de serviço geridos por um administrador que declaram o que é permitido ao _crawler_ fazer ou não. \n",
    "- Essas permissões (_allows_) ou restrições (_disallows_) estão expostas em arquivo chamado `robots.txt`. \n",
    "- Qualquer site relevante possui um arquivo deste associado à sua URL."
   ]
  },
  {
   "cell_type": "markdown",
   "id": "2dc01071",
   "metadata": {
    "slideshow": {
     "slide_type": "subslide"
    }
   },
   "source": [
    "#### `robots.txt`\n",
    "\n",
    "- Para vê-lo, basta adicionar este nome após a URL\n",
    "- As restrições sobre _crawlers_ esbarram na fronteira da ética, principalmente no que diz respeito à raspagem de dados."
   ]
  },
  {
   "cell_type": "markdown",
   "id": "626ee765-c3ac-4b92-99f2-8641b745600c",
   "metadata": {
    "slideshow": {
     "slide_type": "subslide"
    }
   },
   "source": [
    "- Exemplo: https://www.ufpb.br/robots.txt:"
   ]
  },
  {
   "cell_type": "raw",
   "id": "8872f935-8846-48de-8ed2-834d006d0ad9",
   "metadata": {
    "slideshow": {
     "slide_type": "fragment"
    }
   },
   "source": [
    "Sitemap: /sitemap.xml.gz\n",
    "# Define access-restrictions for robots/spiders\n",
    "# http://www.robotstxt.org/wc/norobots.html\n",
    "\n",
    "# By default we allow robots to access all areas of our site \n",
    "# already accessible to anonymous users\n",
    "\n",
    "User-agent: *\n",
    "Disallow:\n",
    "\n",
    "# Add Googlebot-specific syntax extension to exclude forms \n",
    "# that are repeated for each piece of content in the site \n",
    "# the wildcard is only supported by Googlebot\n",
    "# http://www.google.com/support/webmasters/bin/answer.py?answer=40367&ctx=sibling\n",
    "\n",
    "User-Agent: Googlebot\n",
    "Disallow: /*sendto_form$\n",
    "Disallow: /*folder_factories$"
   ]
  },
  {
   "cell_type": "markdown",
   "id": "914b2f3a-c625-401d-b146-abc3c87872c0",
   "metadata": {
    "slideshow": {
     "slide_type": "subslide"
    }
   },
   "source": [
    "Para outros exemplos, veja: \n",
    "\n",
    "- https://www.wikipedia.org/robots.txt\n",
    "\n",
    "- https://www.google.com/robots.txt"
   ]
  },
  {
   "cell_type": "markdown",
   "id": "5cdd7528-1766-44f0-b8e2-466e1a296b1c",
   "metadata": {
    "slideshow": {
     "slide_type": "slide"
    }
   },
   "source": [
    "## Bibliotecas para raspagem de dados\n",
    "\n",
    "- Há diversos exemplos: _requests, _grab_, _scrapy_, _restkit_, _lxml_, _PDFMiner_. \n",
    "- Neste capítulo, vamos dar enfoque ao módulo Python _BeautifulSoap_ e seus interpretadores (_parsers_)."
   ]
  },
  {
   "cell_type": "markdown",
   "id": "4d465bbe-ab0f-4961-9239-e22471bb7031",
   "metadata": {
    "slideshow": {
     "slide_type": "subslide"
    }
   },
   "source": [
    "### Vantagens de `BeautifulSoup`\n",
    "\n",
    "Segundo o [site oficial](https://www.crummy.com/software/BeautifulSoup/), a `BeautifulSoup` \n",
    "\n",
    "- fornece métodos simples e expressões idiomáticas \"Pythônicas\" para navegar, pesquisar e modificar uma árvore de análise: um kit de ferramentas para dissecar um documento e extrair o que você precisa. \n",
    "- converte automaticamente os documentos recebidos em Unicode e os documentos enviados em UTF-8. Você não tem que pensar em codificações, a menos que o documento não especifique uma codificação e a Beautiful Soup não consiga detectar uma. \n",
    "- baseia-se em interpretadores (_parsers_) Python populares como _lxml_ e _html5lib_, permitindo que você experimente diferentes estratégias de análise para obter flexibilidade."
   ]
  },
  {
   "cell_type": "markdown",
   "id": "6134b1dd-f2c9-45cd-8014-501d81a25156",
   "metadata": {
    "slideshow": {
     "slide_type": "slide"
    }
   },
   "source": [
    "## Prática: raspagem de dados do site da UFPB\n",
    "\n",
    "- Neste exemplo, faremos uma raspagem no site da UFPB para coletar a lista de cursos de graduação. Os passos a serem seguidos são:\n",
    "\n",
    "1. abrir uma requisição para a URL da PRG/UFPB;\n",
    "2. coletar o HTML da página;\n",
    "3. extrair o conteúdo da tabela de cursos na árvore DOM;\n",
    "4. construir um _DataFrame_ cujas colunas devem conter: nome do curso, sede, modalidade, nome do(a) coordenador(a) e Centro de Ensino que administra o curso."
   ]
  },
  {
   "cell_type": "markdown",
   "id": "5c3b138b",
   "metadata": {
    "slideshow": {
     "slide_type": "subslide"
    }
   },
   "source": [
    "### Funcionalidades do módulo  \n",
    "\n",
    "- Antes de produzirmos o _DataFrame_, faremos uma breve explanação sobre outras funcionalidades do módulo `BeautifulSoap`."
   ]
  },
  {
   "cell_type": "markdown",
   "id": "ae03781c-d722-4353-ba78-7718d0a531b7",
   "metadata": {
    "slideshow": {
     "slide_type": "fragment"
    }
   },
   "source": [
    "Primeiramente, abriremos uma requisição com `urllib.request`."
   ]
  },
  {
   "cell_type": "code",
   "execution_count": 32,
   "id": "f46291ea-d16c-4566-9a78-e0a2cd4d6425",
   "metadata": {
    "slideshow": {
     "slide_type": "fragment"
    }
   },
   "outputs": [],
   "source": [
    "from urllib.request import urlopen\n",
    "from bs4 import BeautifulSoup\n",
    "\n",
    "html = urlopen('https://sigaa.ufpb.br/sigaa/public/curso/lista.jsf?nivel=G&aba=p-graduacao')\n",
    "bs = BeautifulSoup(html.read(),'html.parser')"
   ]
  },
  {
   "cell_type": "markdown",
   "id": "61afcdb6-c013-4673-8986-a303bc35891a",
   "metadata": {
    "slideshow": {
     "slide_type": "subslide"
    }
   },
   "source": [
    "Neste ponto, criamos o objeto `bs` que contém a árvore DOM do documento HTML. Podemos acessar as partes do documento diretamente a partir das _tags_ `head`, `body`, `title` etc."
   ]
  },
  {
   "cell_type": "code",
   "execution_count": 37,
   "id": "157e68b2-ff9b-41e7-ad82-ce42aedef422",
   "metadata": {
    "slideshow": {
     "slide_type": "fragment"
    }
   },
   "outputs": [],
   "source": [
    "# impressão na tela de head e body\n",
    "# omitidas por serem grandes. \n",
    "# Teste em seu computador!\n",
    "head = bs.head\n",
    "body = bs.body\n",
    "title = bs.title"
   ]
  },
  {
   "cell_type": "code",
   "execution_count": 39,
   "id": "84eca80e-27e9-49cb-a39c-49e2a1efecac",
   "metadata": {
    "slideshow": {
     "slide_type": "fragment"
    }
   },
   "outputs": [
    {
     "data": {
      "text/plain": [
       "<title> SIGAA- Sistema Integrado de Gestão de Atividades Acadêmicas </title>"
      ]
     },
     "execution_count": 39,
     "metadata": {},
     "output_type": "execute_result"
    }
   ],
   "source": [
    "title"
   ]
  },
  {
   "cell_type": "markdown",
   "id": "350f05fb-9802-4db1-a2d8-486e116ca0ba",
   "metadata": {
    "slideshow": {
     "slide_type": "subslide"
    }
   },
   "source": [
    "Podemos puxar o conteúdo das _tags_ com `contents`."
   ]
  },
  {
   "cell_type": "code",
   "execution_count": 40,
   "id": "9ac03226-68e2-4c27-8c1f-dfd556b29c69",
   "metadata": {
    "slideshow": {
     "slide_type": "fragment"
    }
   },
   "outputs": [
    {
     "data": {
      "text/plain": [
       "[' SIGAA- Sistema Integrado de Gestão de Atividades Acadêmicas ']"
      ]
     },
     "execution_count": 40,
     "metadata": {},
     "output_type": "execute_result"
    }
   ],
   "source": [
    "# é uma lista\n",
    "title.contents"
   ]
  },
  {
   "cell_type": "code",
   "execution_count": 41,
   "id": "c780ec31-e20d-4fcd-83c8-d003772a97ea",
   "metadata": {
    "slideshow": {
     "slide_type": "fragment"
    }
   },
   "outputs": [
    {
     "data": {
      "text/plain": [
       "'SIGAA- Sistema Integrado de Gestão de Atividades Acadêmicas'"
      ]
     },
     "execution_count": 41,
     "metadata": {},
     "output_type": "execute_result"
    }
   ],
   "source": [
    "# opera sobre str\n",
    "title.contents[0].strip()"
   ]
  },
  {
   "cell_type": "markdown",
   "id": "edd69c3c-9bfb-4483-8713-305cfd81e182",
   "metadata": {
    "slideshow": {
     "slide_type": "subslide"
    }
   },
   "source": [
    "Podemos navegar na árvore por meio das _tags_."
   ]
  },
  {
   "cell_type": "code",
   "execution_count": 42,
   "id": "99de2ed3-1637-4e73-bd54-c0cb3a99999d",
   "metadata": {
    "slideshow": {
     "slide_type": "fragment"
    }
   },
   "outputs": [
    {
     "data": {
      "text/plain": [
       "<link class=\"component\" href=\"/sigaa/a4j/s/3_3_3.Finalorg/richfaces/renderkit/html/css/basic_classes.xcss/DATB/eAF7sqpgb-jyGdIAFrMEaw__.jsf;jsessionid=1902C352A582FDA4008F3B754472DB2D\" rel=\"stylesheet\" type=\"text/css\"/>"
      ]
     },
     "execution_count": 42,
     "metadata": {},
     "output_type": "execute_result"
    }
   ],
   "source": [
    "head.link"
   ]
  },
  {
   "cell_type": "code",
   "execution_count": 43,
   "id": "e3edf110-5dd3-4454-9f34-502d4072d1fd",
   "metadata": {
    "slideshow": {
     "slide_type": "fragment"
    }
   },
   "outputs": [
    {
     "data": {
      "text/plain": [
       "<meta content=\"IE=edge\" http-equiv=\"X-UA-Compatible\"/>"
      ]
     },
     "execution_count": 43,
     "metadata": {},
     "output_type": "execute_result"
    }
   ],
   "source": [
    "head.meta"
   ]
  },
  {
   "cell_type": "code",
   "execution_count": 44,
   "id": "3ec5afae-c6c6-44f4-9188-0297c9c9e2e5",
   "metadata": {
    "slideshow": {
     "slide_type": "fragment"
    }
   },
   "outputs": [
    {
     "data": {
      "text/plain": [
       "<li><a class=\"sr-only sr-only-focusable\" href=\"#conteudo\">Pular para conteúdo</a></li>"
      ]
     },
     "execution_count": 44,
     "metadata": {},
     "output_type": "execute_result"
    }
   ],
   "source": [
    "body.li"
   ]
  },
  {
   "cell_type": "code",
   "execution_count": 45,
   "id": "fb1d69f2-671d-4400-934a-ada5cf33080a",
   "metadata": {
    "slideshow": {
     "slide_type": "fragment"
    }
   },
   "outputs": [
    {
     "data": {
      "text/plain": [
       "<span class=\"icone-contraste\"></span>"
      ]
     },
     "execution_count": 45,
     "metadata": {},
     "output_type": "execute_result"
    }
   ],
   "source": [
    "body.span"
   ]
  },
  {
   "cell_type": "markdown",
   "id": "9290045d-629c-4967-93e1-8e0d13a32c5d",
   "metadata": {
    "slideshow": {
     "slide_type": "subslide"
    }
   },
   "source": [
    "### Navegação na árvore para baixo"
   ]
  },
  {
   "cell_type": "markdown",
   "id": "6da2a31f-f804-4a6e-adf0-fdd9cfb80012",
   "metadata": {
    "slideshow": {
     "slide_type": "subslide"
    }
   },
   "source": [
    "A árvore DOM é baseada em uma estrutura do tipo \"_parents_/_children_\". Um elemento pai pode ter um ou mais filhos e os elementos filhos podem também ter um ou mais filhos. Em termos de nível, os primeiros são _filhos diretos_.\n",
    "\n",
    "- `contents` para encontrar filhas diretas como lista;\n",
    "- `children` para encontrar filhas diretas como iterador;\n",
    "- `descendants` para encontrar filhas diretas, filhas de filhas e assim por diante."
   ]
  },
  {
   "cell_type": "code",
   "execution_count": 46,
   "id": "90d0faf6-7a68-471f-998f-3ab5e7957620",
   "metadata": {
    "slideshow": {
     "slide_type": "subslide"
    }
   },
   "outputs": [
    {
     "data": {
      "text/plain": [
       "list"
      ]
     },
     "execution_count": 46,
     "metadata": {},
     "output_type": "execute_result"
    }
   ],
   "source": [
    "type(body.contents)"
   ]
  },
  {
   "cell_type": "code",
   "execution_count": 49,
   "id": "cf6e99ac-1a7f-4183-a476-8d1291922177",
   "metadata": {
    "slideshow": {
     "slide_type": "fragment"
    }
   },
   "outputs": [
    {
     "name": "stdout",
     "output_type": "stream",
     "text": [
      "<class 'bs4.element.NavigableString'>\n",
      "<class 'bs4.element.Tag'>\n",
      "<class 'bs4.element.NavigableString'>\n",
      "<class 'bs4.element.Comment'>\n",
      "<class 'bs4.element.NavigableString'>\n",
      "<class 'bs4.element.Tag'>\n",
      "<class 'bs4.element.NavigableString'>\n",
      "<class 'bs4.element.Tag'>\n",
      "<class 'bs4.element.NavigableString'>\n",
      "<class 'bs4.element.Comment'>\n",
      "<class 'bs4.element.NavigableString'>\n"
     ]
    }
   ],
   "source": [
    "# iterador\n",
    "for c in body.children:\n",
    "    print(type(c))"
   ]
  },
  {
   "cell_type": "code",
   "execution_count": 52,
   "id": "26bdbfbe-c760-411d-9d4b-1cc7797c4718",
   "metadata": {
    "slideshow": {
     "slide_type": "subslide"
    }
   },
   "outputs": [
    {
     "name": "stdout",
     "output_type": "stream",
     "text": [
      "descendente 500: <class 'bs4.element.NavigableString'>\n",
      "descendente 1000: <class 'bs4.element.NavigableString'>\n",
      "descendente 1500: <class 'bs4.element.Tag'>\n",
      "descendente 2000: <class 'bs4.element.NavigableString'>\n",
      "descendente 2500: <class 'bs4.element.NavigableString'>\n",
      "descendente 3000: <class 'bs4.element.NavigableString'>\n"
     ]
    }
   ],
   "source": [
    "# itera sobre todos os descendentes\n",
    "k = 1\n",
    "for c in body.descendants:\n",
    "    if k % 500 == 0:\n",
    "        print(f'descendente {k}: {type(c)}',sep=':')\n",
    "    k += 1"
   ]
  },
  {
   "cell_type": "markdown",
   "id": "d375c29c-9439-4a46-8dcd-6ee450cfb8c9",
   "metadata": {
    "slideshow": {
     "slide_type": "subslide"
    }
   },
   "source": [
    "Para navegar apenas em strings (já removendo espaços em branco) dentro de _tags_, podemos usar `stripped_strings`. Se quisermos considerar espaços, devemos usar apenas `strings`."
   ]
  },
  {
   "cell_type": "code",
   "execution_count": 56,
   "id": "e2ef9838-6be9-467b-9e63-67d855ec2491",
   "metadata": {
    "slideshow": {
     "slide_type": "fragment"
    }
   },
   "outputs": [
    {
     "name": "stdout",
     "output_type": "stream",
     "text": [
      "Areia,Areia,Areia,Areia,Areia,Areia,Rio Tinto,Rio Tinto,Rio Tinto,Rio Tinto,Rio Tinto,Rio Tinto,Bananeiras,Bananeiras,Bananeiras,Bananeiras,Bananeiras,Bananeiras,"
     ]
    }
   ],
   "source": [
    "# idenfica o campus sede em tabela \n",
    "campus = ('Areia','Bananeiras','Rio Tinto')\n",
    "for s in body.tbody.stripped_strings:\n",
    "    if s in campus:\n",
    "        print(s,end=',')"
   ]
  },
  {
   "cell_type": "markdown",
   "id": "0124134f-6671-41fa-b266-f42560c6dad5",
   "metadata": {
    "slideshow": {
     "slide_type": "subslide"
    }
   },
   "source": [
    "### Navegação na árvore para cima"
   ]
  },
  {
   "cell_type": "markdown",
   "id": "2614e685-389b-4f6b-b152-22127f8e2956",
   "metadata": {
    "slideshow": {
     "slide_type": "fragment"
    }
   },
   "source": [
    "Inversamente, podemos acessar elementos \"pai\" (ou \"mãe\") a partir dos filhos com `parent`. "
   ]
  },
  {
   "cell_type": "code",
   "execution_count": 57,
   "id": "286156ed-f92a-4f32-add4-6e0b854de973",
   "metadata": {
    "slideshow": {
     "slide_type": "fragment"
    }
   },
   "outputs": [
    {
     "data": {
      "text/plain": [
       "['\\n',\n",
       " <meta content=\"IE=edge\" http-equiv=\"X-UA-Compatible\"/>,\n",
       " '\\n',\n",
       " <meta content=\"width=device-width, initial-scale=1\" name=\"viewport\"/>]"
      ]
     },
     "execution_count": 57,
     "metadata": {},
     "output_type": "execute_result"
    }
   ],
   "source": [
    "list(head.link.parent)[:4]"
   ]
  },
  {
   "cell_type": "markdown",
   "id": "e8318eb0-449b-4ef0-9578-38dcf861195c",
   "metadata": {
    "slideshow": {
     "slide_type": "subslide"
    }
   },
   "source": [
    "Para iterar sobre os elementos \"pai\" (ou \"mãe\"), use `parents`. "
   ]
  },
  {
   "cell_type": "code",
   "execution_count": 58,
   "id": "d24047c7-bde2-4c20-9984-045fe503e1a0",
   "metadata": {
    "slideshow": {
     "slide_type": "fragment"
    }
   },
   "outputs": [
    {
     "name": "stdout",
     "output_type": "stream",
     "text": [
      "<class 'bs4.element.Tag'>\n",
      "<class 'bs4.element.Tag'>\n",
      "<class 'bs4.BeautifulSoup'>\n"
     ]
    }
   ],
   "source": [
    "for h in head.link.parents:\n",
    "    print(type(h))"
   ]
  },
  {
   "cell_type": "markdown",
   "id": "546e6bf1-4a1f-4a10-890c-8073613d94f3",
   "metadata": {
    "slideshow": {
     "slide_type": "subslide"
    }
   },
   "source": [
    "### Realizando buscas na árvore"
   ]
  },
  {
   "cell_type": "markdown",
   "id": "812885c3-e22a-4d13-8dc9-53fa3db26cdc",
   "metadata": {
    "slideshow": {
     "slide_type": "fragment"
    }
   },
   "source": [
    "Funções de localização bastante úteis são `find_all` e `find`. Podemos aplicá-la passando como argumento uma _tag_"
   ]
  },
  {
   "cell_type": "code",
   "execution_count": 61,
   "id": "b8bc9896-d09a-4529-817d-560fae07fc3f",
   "metadata": {
    "slideshow": {
     "slide_type": "fragment"
    }
   },
   "outputs": [
    {
     "data": {
      "text/plain": [
       "[<td>Presencial</td>,\n",
       " <td>SILDIVANE VALCACIA SILVA</td>,\n",
       " <td>\n",
       " <a href=\"portal.jsf?id=1626776&amp;lc=pt_BR\" title=\"Visualizar Página do Curso\">\n",
       " <img src=\"/sigaa/img/view.gif;jsessionid=1902C352A582FDA4008F3B754472DB2D\"/>\n",
       " </a>\n",
       " </td>,\n",
       " <td class=\"subFormulario\" colspan=\"5\">\n",
       " \t\t\t\t\t\t\t\t\t\tCCA - CENTRO DE CIÊNCIAS AGRÁRIAS (CCA)\n",
       " \t\t\t\t\t\t\t\t\t\t</td>,\n",
       " <td>\n",
       " \t\t\t\t\t\t\tAGRONOMIA\t\t\t\t\t\t\t\t\n",
       " \t\t\t\t\t\t\t</td>]"
      ]
     },
     "execution_count": 61,
     "metadata": {},
     "output_type": "execute_result"
    }
   ],
   "source": [
    "body.find_all('td')[10:15]"
   ]
  },
  {
   "cell_type": "markdown",
   "id": "67bd72d3-c886-4d21-99b8-52dfe2a85643",
   "metadata": {
    "slideshow": {
     "slide_type": "subslide"
    }
   },
   "source": [
    "uma lista de _tags_"
   ]
  },
  {
   "cell_type": "code",
   "execution_count": 62,
   "id": "54f94c71-11e1-4271-94c2-02fc0f7da33c",
   "metadata": {
    "slideshow": {
     "slide_type": "fragment"
    }
   },
   "outputs": [
    {
     "data": {
      "text/plain": [
       "[<ul id=\"menu-acessibilidade\">\n",
       " <li><a class=\"sr-only sr-only-focusable\" href=\"#conteudo\">Pular para conteúdo</a></li>\n",
       " <li class=\"separador\"></li>\n",
       " <li><a class=\"toggleable\" href=\"#\" id=\"acessibilidade-contraste\" title=\"Contraste\"><span class=\"icone-contraste\"></span><span class=\"sr-only\">Auto Contraste</span></a></li>\n",
       " <li class=\"separador\"></li>\n",
       " <li>\n",
       " <a href=\"/sigaa/logon/\" style=\"font-size: 15px; font-weight: bold;\" title=\"Acessar o SIGAA\">Entrar</a>\n",
       " </li>\n",
       " </ul>,\n",
       " <li><a class=\"sr-only sr-only-focusable\" href=\"#conteudo\">Pular para conteúdo</a></li>,\n",
       " <li class=\"separador\"></li>,\n",
       " <li><a class=\"toggleable\" href=\"#\" id=\"acessibilidade-contraste\" title=\"Contraste\"><span class=\"icone-contraste\"></span><span class=\"sr-only\">Auto Contraste</span></a></li>,\n",
       " <li class=\"separador\"></li>,\n",
       " <li>\n",
       " <a href=\"/sigaa/logon/\" style=\"font-size: 15px; font-weight: bold;\" title=\"Acessar o SIGAA\">Entrar</a>\n",
       " </li>,\n",
       " <ul>\n",
       " </ul>]"
      ]
     },
     "execution_count": 62,
     "metadata": {},
     "output_type": "execute_result"
    }
   ],
   "source": [
    "body.find_all(['li','ul'])"
   ]
  },
  {
   "cell_type": "markdown",
   "id": "98dc05f0-ba0d-4bc7-bf23-81f1f388587f",
   "metadata": {
    "slideshow": {
     "slide_type": "subslide"
    }
   },
   "source": [
    "ou _tag_ e classe.\n",
    "\n",
    "> _Classes_ dizem respeito ao estilo de formatação do arquivo HTML, que segue regras da linguagem [CSS](https://www.w3schools.com/css/default.asp).\n"
   ]
  },
  {
   "cell_type": "code",
   "execution_count": 65,
   "id": "70908216-c50a-467d-bec6-ad05ca4de6cc",
   "metadata": {
    "slideshow": {
     "slide_type": "fragment"
    }
   },
   "outputs": [
    {
     "data": {
      "text/plain": [
       "[<td class=\"subFormulario\" colspan=\"5\">\n",
       " \t\t\t\t\t\t\t\t\t\tCBIOTEC - CENTRO DE BIOTECNOLOGIA\n",
       " \t\t\t\t\t\t\t\t\t\t</td>,\n",
       " <td class=\"subFormulario\" colspan=\"5\">\n",
       " \t\t\t\t\t\t\t\t\t\tCCA - CENTRO DE CIÊNCIAS AGRÁRIAS (CCA)\n",
       " \t\t\t\t\t\t\t\t\t\t</td>,\n",
       " <td class=\"subFormulario\" colspan=\"5\">\n",
       " \t\t\t\t\t\t\t\t\t\tCCAE - CENTRO DE CIÊNCIAS APLICADAS E EDUCAÇÃO (CCAE)\n",
       " \t\t\t\t\t\t\t\t\t\t</td>]"
      ]
     },
     "execution_count": 65,
     "metadata": {},
     "output_type": "execute_result"
    }
   ],
   "source": [
    "# busca <table data> com classe \"subFormulario\"\n",
    "body.find_all('td',class_=\"subFormulario\")[:3]"
   ]
  },
  {
   "cell_type": "markdown",
   "id": "b7a2ac35-23e5-4616-9e5f-14d525ceb981",
   "metadata": {
    "slideshow": {
     "slide_type": "subslide"
    }
   },
   "source": [
    "Podemos também realizar buscas específicas por expressões regulares. Para isso, basta usar o módulo `re` e funções como `re.compile`."
   ]
  },
  {
   "cell_type": "code",
   "execution_count": 68,
   "id": "e2ced23e-d4d1-44a4-ab63-ad14c5464b5d",
   "metadata": {
    "slideshow": {
     "slide_type": "fragment"
    }
   },
   "outputs": [
    {
     "data": {
      "text/plain": [
       "['Consulta de Cursos -\\n\\tGRADUAÇÃO',\n",
       " 'Através desta página você pode consultar os cursos de\\n\\tGRADUAÇÃO ofereridos pela UFPB. ']"
      ]
     },
     "execution_count": 68,
     "metadata": {},
     "output_type": "execute_result"
    }
   ],
   "source": [
    "import re\n",
    "\n",
    "body.find_all(string=re.compile('GRAD'))"
   ]
  },
  {
   "cell_type": "code",
   "execution_count": 69,
   "id": "472bbc01-e3f5-452f-8a6b-d6f244416388",
   "metadata": {
    "slideshow": {
     "slide_type": "subslide"
    }
   },
   "outputs": [
    {
     "data": {
      "text/plain": [
       "['\\n\\t\\t\\t\\t\\t\\t\\t\\t\\t\\tCBIOTEC - CENTRO DE BIOTECNOLOGIA\\n\\t\\t\\t\\t\\t\\t\\t\\t\\t\\t',\n",
       " '\\n\\t\\t\\t\\t\\t\\t\\t\\t\\t\\tCCA - CENTRO DE CIÊNCIAS AGRÁRIAS (CCA)\\n\\t\\t\\t\\t\\t\\t\\t\\t\\t\\t',\n",
       " '\\n\\t\\t\\t\\t\\t\\t\\t\\t\\t\\tCCAE - CENTRO DE CIÊNCIAS APLICADAS E EDUCAÇÃO (CCAE)\\n\\t\\t\\t\\t\\t\\t\\t\\t\\t\\t',\n",
       " '\\n\\t\\t\\t\\t\\t\\t\\t\\t\\t\\tCCS - CENTRO DE CIÊNCIAS DA SAÚDE (CCS)\\n\\t\\t\\t\\t\\t\\t\\t\\t\\t\\t',\n",
       " '\\n\\t\\t\\t\\t\\t\\t\\t\\t\\t\\tCCEN - CENTRO DE CIÊNCIAS EXATAS E DA NATUREZA (CCEN)\\n\\t\\t\\t\\t\\t\\t\\t\\t\\t\\t',\n",
       " '\\n\\t\\t\\t\\t\\t\\t\\t\\t\\t\\tCCHLA. - CENTRO DE CIÊNCIAS HUMANAS, LETRAS E ARTES (CCHLA)\\n\\t\\t\\t\\t\\t\\t\\t\\t\\t\\t',\n",
       " '\\n\\t\\t\\t\\t\\t\\t\\t\\t\\t\\tCCHSA - CENTRO DE CIÊNCIAS HUMANAS SOCIAIS E AGRÁRIAS (CCHSA)\\n\\t\\t\\t\\t\\t\\t\\t\\t\\t\\t',\n",
       " '\\n\\t\\t\\t\\t\\t\\t\\t\\t\\t\\tCCJ - CENTRO DE CIÊNCIAS JURÍDICAS (CCJ)\\n\\t\\t\\t\\t\\t\\t\\t\\t\\t\\t',\n",
       " '\\n\\t\\t\\t\\t\\t\\t\\t\\t\\t\\tCCM - CENTRO DE CIENCIAS MEDICAS (CCM)\\n\\t\\t\\t\\t\\t\\t\\t\\t\\t\\t',\n",
       " '\\n\\t\\t\\t\\t\\t\\t\\t\\t\\t\\tCCSA - CENTRO DE CIÊNCIAS SOCIAIS E APLICADAS (CCSA)\\n\\t\\t\\t\\t\\t\\t\\t\\t\\t\\t',\n",
       " '\\n\\t\\t\\t\\t\\t\\t\\t\\t\\t\\tCCTA - CENTRO DE COMUNICAÇÃO, TURISMO E ARTES (CCTA)\\n\\t\\t\\t\\t\\t\\t\\t\\t\\t\\t',\n",
       " '\\n\\t\\t\\t\\t\\t\\t\\t\\t\\t\\tCE - CENTRO DE EDUCAÇÃO (CE)\\n\\t\\t\\t\\t\\t\\t\\t\\t\\t\\t',\n",
       " '\\n\\t\\t\\t\\t\\t\\t\\t\\t\\t\\tCEAR - CENTRO DE ENERGIAS E ALTERNATIVAS E RENOVÁVEIS (CEAR)\\n\\t\\t\\t\\t\\t\\t\\t\\t\\t\\t',\n",
       " '\\n\\t\\t\\t\\t\\t\\t\\t\\t\\t\\tCI - CENTRO DE INFORMÁTICA (CI)\\n\\t\\t\\t\\t\\t\\t\\t\\t\\t\\t',\n",
       " '\\n\\t\\t\\t\\t\\t\\t\\t\\t\\t\\tCT - CENTRO DE TECNOLOGIA (CT)\\n\\t\\t\\t\\t\\t\\t\\t\\t\\t\\t',\n",
       " '\\n\\t\\t\\t\\t\\t\\t\\t\\t\\t\\tCTDR - CENTRO DE TECNOLOGIA E DESENVOLVIMENTO REGIONAL (CTDR)\\n\\t\\t\\t\\t\\t\\t\\t\\t\\t\\t']"
      ]
     },
     "execution_count": 69,
     "metadata": {},
     "output_type": "execute_result"
    }
   ],
   "source": [
    "body.find_all(string=re.compile('CENTRO'))"
   ]
  },
  {
   "cell_type": "markdown",
   "id": "1701cc46-6110-42c6-8419-a3a45eb534b7",
   "metadata": {
    "slideshow": {
     "slide_type": "subslide"
    }
   },
   "source": [
    "Se o resultado a ser localizado for único, podemos usar `find`."
   ]
  },
  {
   "cell_type": "code",
   "execution_count": 70,
   "id": "c210048d-9d06-45cb-9d27-96712f7c386b",
   "metadata": {
    "slideshow": {
     "slide_type": "fragment"
    }
   },
   "outputs": [
    {
     "data": {
      "text/plain": [
       "'\\n\\t\\t\\tSIGAA - 21.11.0 -| STI - Superintendência de Tecnologia da Informação | Copyright © 2006-2021 - UFPB\\n\\t\\t'"
      ]
     },
     "execution_count": 70,
     "metadata": {},
     "output_type": "execute_result"
    }
   ],
   "source": [
    "body.find(string=re.compile('Copyright'))"
   ]
  },
  {
   "cell_type": "markdown",
   "id": "289be7dd-fc10-4a79-8044-106d44e34c1e",
   "metadata": {
    "slideshow": {
     "slide_type": "subslide"
    }
   },
   "source": [
    "### Funções customizadas\n",
    "\n",
    "Agora, implementaremos algumas funções customizadas para extrair o cabeçalho e o conteúdo da tabela de cursos do site da UFPB. Essas funções varrem a árvore DOM e coletam apenas as informações de interesse, transformando-as para listas."
   ]
  },
  {
   "cell_type": "code",
   "execution_count": 72,
   "id": "d0598fb5-9960-4d92-b47a-52838f5eed2a",
   "metadata": {
    "slideshow": {
     "slide_type": "subslide"
    }
   },
   "outputs": [
    {
     "data": {
      "text/plain": [
       "['Nome', 'Sede', 'Modalidade', 'Coordenador', '']"
      ]
     },
     "execution_count": 72,
     "metadata": {},
     "output_type": "execute_result"
    }
   ],
   "source": [
    "# extrai cabeçalhos\n",
    "def get_table_head(t):\n",
    "    '''Lê objeto tabela e extrai header para lista'''\n",
    "    res = []\n",
    "    thead = t.find('thead')\n",
    "    th = thead.find_all('th')\n",
    "    for f in th:\n",
    "        res.append(f.getText().strip())\n",
    "    return res\n",
    "\n",
    "t_header = get_table_head(body.div)\n",
    "\n",
    "t_header"
   ]
  },
  {
   "cell_type": "code",
   "execution_count": 76,
   "id": "b987511e-bd91-4ee5-8502-4e9f44fd5094",
   "metadata": {
    "slideshow": {
     "slide_type": "subslide"
    }
   },
   "outputs": [],
   "source": [
    "# extrai linhas\n",
    "def get_table_body(t):\n",
    "    res = []\n",
    "    tbody = t.find('tbody')\n",
    "    tr = tbody.find_all('tr')\n",
    "    for row in tr:\n",
    "        this_row = []\n",
    "        row_fields = row.find_all('td')\n",
    "        for f in row_fields:\n",
    "            this_row.append(f.getText().strip())\n",
    "            res.append(this_row)\n",
    "    return res\n",
    "\n",
    "r = get_table_body(body.div)  "
   ]
  },
  {
   "cell_type": "markdown",
   "id": "3e98f67d-0518-40e5-9cc7-2b32b4df0bb0",
   "metadata": {
    "slideshow": {
     "slide_type": "subslide"
    }
   },
   "source": [
    "### Limpeza dos dados extraídos\n",
    "\n",
    "- Tabela original não traz os nomes dos cursos organizados por linha\n",
    "- Precisamos de uma coluna com o nome de cada Centro de Ensino organizado por curso"
   ]
  },
  {
   "cell_type": "code",
   "execution_count": 92,
   "id": "ffd654fc-0464-4338-807c-ecebc74d1f4e",
   "metadata": {
    "slideshow": {
     "slide_type": "subslide"
    }
   },
   "outputs": [],
   "source": [
    "import pandas as pd\n",
    "\n",
    "# cria DataFrame\n",
    "df = pd.DataFrame(r,columns=t_header).drop_duplicates().reset_index(drop=True)\n",
    "mask = df['Nome'].str.find('CENTRO') != -1\n",
    "centros = df['Nome'].loc[mask]\n",
    "idx = centros.index.values\n",
    "idx\n",
    "\n",
    "# preenchimento\n",
    "vals = []\n",
    "for k in range(1,len(idx)):\n",
    "    for i in range(max(idx)+1):\n",
    "        if i >= idx[k-1] and i < idx[k]:\n",
    "            vals.append(centros.iloc[k-1])\n",
    "\n",
    "# extra\n",
    "dx = len(df) - max(idx)\n",
    "vals.extend(dx*[vals[-1]])\n",
    "\n",
    "# limpa e renomeia\n",
    "df['Centro'] = vals\n",
    "df = df.drop(idx).rename(columns={\"Nome\": \"Curso\"}).reset_index(drop=True)"
   ]
  },
  {
   "cell_type": "code",
   "execution_count": 106,
   "id": "267f4f0b-174f-496e-bd30-5764b42c2a73",
   "metadata": {},
   "outputs": [
    {
     "data": {
      "text/html": [
       "<div>\n",
       "<style scoped>\n",
       "    .dataframe tbody tr th:only-of-type {\n",
       "        vertical-align: middle;\n",
       "    }\n",
       "\n",
       "    .dataframe tbody tr th {\n",
       "        vertical-align: top;\n",
       "    }\n",
       "\n",
       "    .dataframe thead th {\n",
       "        text-align: right;\n",
       "    }\n",
       "</style>\n",
       "<table border=\"1\" class=\"dataframe\">\n",
       "  <thead>\n",
       "    <tr style=\"text-align: right;\">\n",
       "      <th></th>\n",
       "      <th>Curso</th>\n",
       "      <th>Sede</th>\n",
       "      <th>Modalidade</th>\n",
       "      <th>Coordenador</th>\n",
       "      <th></th>\n",
       "      <th>Centro</th>\n",
       "    </tr>\n",
       "  </thead>\n",
       "  <tbody>\n",
       "    <tr>\n",
       "      <th>0</th>\n",
       "      <td>BIOTECNOLOGIA</td>\n",
       "      <td>João Pessoa</td>\n",
       "      <td>Presencial</td>\n",
       "      <td>SILDIVANE VALCACIA SILVA</td>\n",
       "      <td></td>\n",
       "      <td>CBIOTEC - CENTRO DE BIOTECNOLOGIA</td>\n",
       "    </tr>\n",
       "    <tr>\n",
       "      <th>1</th>\n",
       "      <td>AGRONOMIA</td>\n",
       "      <td>Areia</td>\n",
       "      <td>Presencial</td>\n",
       "      <td>FABIO MIELEZRSKI</td>\n",
       "      <td></td>\n",
       "      <td>CCA - CENTRO DE CIÊNCIAS AGRÁRIAS (CCA)</td>\n",
       "    </tr>\n",
       "    <tr>\n",
       "      <th>2</th>\n",
       "      <td>CIÊNCIAS BIOLÓGICAS- AREIA</td>\n",
       "      <td>Areia</td>\n",
       "      <td>Presencial</td>\n",
       "      <td>LAIS ANGELICA DE ANDRADE PINHEIRO BORGES</td>\n",
       "      <td></td>\n",
       "      <td>CCA - CENTRO DE CIÊNCIAS AGRÁRIAS (CCA)</td>\n",
       "    </tr>\n",
       "    <tr>\n",
       "      <th>3</th>\n",
       "      <td>MEDICINA VETERINÁRIA</td>\n",
       "      <td>Areia</td>\n",
       "      <td>Presencial</td>\n",
       "      <td>GISELE DE CASTRO MENEZES</td>\n",
       "      <td></td>\n",
       "      <td>CCA - CENTRO DE CIÊNCIAS AGRÁRIAS (CCA)</td>\n",
       "    </tr>\n",
       "    <tr>\n",
       "      <th>4</th>\n",
       "      <td>QUÍMICA</td>\n",
       "      <td>Areia</td>\n",
       "      <td>Presencial</td>\n",
       "      <td>DAYSE DAS NEVES MOREIRA</td>\n",
       "      <td></td>\n",
       "      <td>CCA - CENTRO DE CIÊNCIAS AGRÁRIAS (CCA)</td>\n",
       "    </tr>\n",
       "    <tr>\n",
       "      <th>...</th>\n",
       "      <td>...</td>\n",
       "      <td>...</td>\n",
       "      <td>...</td>\n",
       "      <td>...</td>\n",
       "      <td>...</td>\n",
       "      <td>...</td>\n",
       "    </tr>\n",
       "    <tr>\n",
       "      <th>115</th>\n",
       "      <td>QUÍMICA INDUSTRIAL</td>\n",
       "      <td>João Pessoa</td>\n",
       "      <td>Presencial</td>\n",
       "      <td>RAUL ROSENHAIM</td>\n",
       "      <td></td>\n",
       "      <td>CT - CENTRO DE TECNOLOGIA (CT)</td>\n",
       "    </tr>\n",
       "    <tr>\n",
       "      <th>116</th>\n",
       "      <td>ADMINISTRAÇÃO PÚBLICA</td>\n",
       "      <td>João Pessoa</td>\n",
       "      <td>A Distância</td>\n",
       "      <td>JULIANA FERNANDES MOREIRA</td>\n",
       "      <td></td>\n",
       "      <td>CT - CENTRO DE TECNOLOGIA (CT)</td>\n",
       "    </tr>\n",
       "    <tr>\n",
       "      <th>117</th>\n",
       "      <td>GASTRONOMIA</td>\n",
       "      <td>João Pessoa</td>\n",
       "      <td>Presencial</td>\n",
       "      <td>SAMARA DE MACÊDO MORAIS</td>\n",
       "      <td></td>\n",
       "      <td>CT - CENTRO DE TECNOLOGIA (CT)</td>\n",
       "    </tr>\n",
       "    <tr>\n",
       "      <th>118</th>\n",
       "      <td>TECNOLOGIA DE ALIMENTOS</td>\n",
       "      <td>João Pessoa</td>\n",
       "      <td>Presencial</td>\n",
       "      <td>ISMAEL IVAN ROCKENBACH</td>\n",
       "      <td></td>\n",
       "      <td>CT - CENTRO DE TECNOLOGIA (CT)</td>\n",
       "    </tr>\n",
       "    <tr>\n",
       "      <th>119</th>\n",
       "      <td>TECNOLOGIA EM PRODUÇÃO SUCROALCOOLEIRA</td>\n",
       "      <td>João Pessoa</td>\n",
       "      <td>Presencial</td>\n",
       "      <td>SOLANGE MARIA DE VASCONCELOS</td>\n",
       "      <td></td>\n",
       "      <td>CT - CENTRO DE TECNOLOGIA (CT)</td>\n",
       "    </tr>\n",
       "  </tbody>\n",
       "</table>\n",
       "<p>120 rows × 6 columns</p>\n",
       "</div>"
      ],
      "text/plain": [
       "                                      Curso         Sede   Modalidade  \\\n",
       "0                             BIOTECNOLOGIA  João Pessoa   Presencial   \n",
       "1                                 AGRONOMIA        Areia   Presencial   \n",
       "2                CIÊNCIAS BIOLÓGICAS- AREIA        Areia   Presencial   \n",
       "3                      MEDICINA VETERINÁRIA        Areia   Presencial   \n",
       "4                                   QUÍMICA        Areia   Presencial   \n",
       "..                                      ...          ...          ...   \n",
       "115                      QUÍMICA INDUSTRIAL  João Pessoa   Presencial   \n",
       "116                   ADMINISTRAÇÃO PÚBLICA  João Pessoa  A Distância   \n",
       "117                             GASTRONOMIA  João Pessoa   Presencial   \n",
       "118                 TECNOLOGIA DE ALIMENTOS  João Pessoa   Presencial   \n",
       "119  TECNOLOGIA EM PRODUÇÃO SUCROALCOOLEIRA  João Pessoa   Presencial   \n",
       "\n",
       "                                  Coordenador     \\\n",
       "0                    SILDIVANE VALCACIA SILVA      \n",
       "1                            FABIO MIELEZRSKI      \n",
       "2    LAIS ANGELICA DE ANDRADE PINHEIRO BORGES      \n",
       "3                    GISELE DE CASTRO MENEZES      \n",
       "4                     DAYSE DAS NEVES MOREIRA      \n",
       "..                                        ... ..   \n",
       "115                            RAUL ROSENHAIM      \n",
       "116                 JULIANA FERNANDES MOREIRA      \n",
       "117                   SAMARA DE MACÊDO MORAIS      \n",
       "118                    ISMAEL IVAN ROCKENBACH      \n",
       "119              SOLANGE MARIA DE VASCONCELOS      \n",
       "\n",
       "                                      Centro  \n",
       "0          CBIOTEC - CENTRO DE BIOTECNOLOGIA  \n",
       "1    CCA - CENTRO DE CIÊNCIAS AGRÁRIAS (CCA)  \n",
       "2    CCA - CENTRO DE CIÊNCIAS AGRÁRIAS (CCA)  \n",
       "3    CCA - CENTRO DE CIÊNCIAS AGRÁRIAS (CCA)  \n",
       "4    CCA - CENTRO DE CIÊNCIAS AGRÁRIAS (CCA)  \n",
       "..                                       ...  \n",
       "115           CT - CENTRO DE TECNOLOGIA (CT)  \n",
       "116           CT - CENTRO DE TECNOLOGIA (CT)  \n",
       "117           CT - CENTRO DE TECNOLOGIA (CT)  \n",
       "118           CT - CENTRO DE TECNOLOGIA (CT)  \n",
       "119           CT - CENTRO DE TECNOLOGIA (CT)  \n",
       "\n",
       "[120 rows x 6 columns]"
      ]
     },
     "execution_count": 106,
     "metadata": {},
     "output_type": "execute_result"
    }
   ],
   "source": [
    "df"
   ]
  }
 ],
 "metadata": {
  "celltoolbar": "Slideshow",
  "kernelspec": {
   "display_name": "Python 3",
   "language": "python",
   "name": "python3"
  },
  "language_info": {
   "codemirror_mode": {
    "name": "ipython",
    "version": 3
   },
   "file_extension": ".py",
   "mimetype": "text/x-python",
   "name": "python",
   "nbconvert_exporter": "python",
   "pygments_lexer": "ipython3",
   "version": "3.9.4"
  },
  "rise": {
   "enable_chalkboard": true,
   "footer": "ICD",
   "header": "Prof. Gustavo Oliveira | UFPB",
   "theme": "black"
  }
 },
 "nbformat": 4,
 "nbformat_minor": 5
}