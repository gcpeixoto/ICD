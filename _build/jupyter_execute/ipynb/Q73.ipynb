{
 "cells": [
  {
   "cell_type": "markdown",
   "id": "ecfb2d13-20d3-450a-82f5-fd11b9cc65cb",
   "metadata": {},
   "source": [
    "## Questionário 73 (Q73)\n",
    "\n",
    "Orientações: \n",
    "\n",
    "- Registre suas respostas no questionário de mesmo nome no SIGAA.\n",
    "- O tempo de registro das respostas no questionário será de 10 minutos. Portanto, resolva primeiro as questões e depois registre-as.\n",
    "- Haverá apenas 1 (uma) tentativa de resposta.\n",
    "- Submeta seu arquivo-fonte (utilizado para resolver as questões) em formato _.ipynb_ pelo SIGAA anexando-o à Tarefa denominada \"Envio de arquivo\" correspondente ao questionário.\n",
    "\n",
    "*Nota:* o arquivo-fonte será utilizado apenas como prova de execução da tarefa. Nenhuma avaliação será feita quanto ao estilo de programação.\n",
    "\n",
    "<hr>"
   ]
  },
  {
   "cell_type": "markdown",
   "id": "b3164879-717c-44f1-8aaf-47eadeecdb5f",
   "metadata": {},
   "source": [
    "Para responder às questões, leia o texto introdutório a seguir.\n",
    "\n",
    ">Diversos países firmam acordos bilaterais com o intuito de fortalecer interesses mútuos. Uma rede multinacional da qual o Brasil faz parte começou a ser modelada por cientistas de dados a partir de um grafo não dirigido em que os _nós_ do grafo representam os países, renomeados segundo o código Alpha-3 do padrão [IBAN](https://www.iban.com/country-codes), e as _arestas_ representam a existência de um acordo bilateral.\n",
    "> A figura abaixo mostra, por exemplo, um subgrafo dessa rede formado por Áustria (AUT), Bélgica (BEL), Brasil (BRA), Emirados Árabes Unidos (ARE) e Estados Unidos (USA).\n",
    "```{figure} ../figs/q/q73.png\n",
    "---\n",
    "width: 400px\n",
    "name: rede\n",
    "---\n",
    "Exemplo de rede de países que mantêm acordos bilaterais.\n",
    "```\n",
    "> O arquivo `paises-acordo-bilateral.txt` contém, implicitamente, a lista de conexões que formam o grafo da rede inteira, as quais são determinadas por pares do tipo `x,y`, onde `x` e `y` são nomes de países não padronizados. Por exemplo, o par `China,Norway` indica que há um acordo bilateral entre China e Noruega.\n",
    "\n",
    ">*Obs.:* acesse o arquivo [aqui](https://github.com/gcpeixoto/ICD/tree/main/database/paises-acordo-bilateral.txt)."
   ]
  },
  {
   "cell_type": "markdown",
   "id": "9d80ccef-5cb7-4534-9ad9-925832b0548c",
   "metadata": {},
   "source": [
    "**Questão 1.** Faça a raspagem da tabela de códigos de países disponíveis na página [IBAN](https://www.iban.com/country-codes) para recuperar os códigos Alpha-3 para cada país contido na lista de arestas e crie um segundo arquivo chamado `paises-acordo-bilateral-IBAN.txt`. Use o módulo `networkx` e a função `read_edgelist` para construir o grafo da rede multinacional. Em seguida, assinale a alternativa correta para a tupla (número de nós, número de arestas) que você encontrou. Sugestão: use as funções `get_table_head` e `get_table_body` criadas no capítulo do livro de ICD sobre _Raspagem de dados_.\n",
    "\n",
    "A. (14, 28)\n",
    "\n",
    "B. (16, 30)\n",
    "\n",
    "C. (12, 36)\n",
    "\n",
    "D. (14, 38)"
   ]
  },
  {
   "cell_type": "markdown",
   "id": "1dba1b84-7882-43a0-9e66-627bbd46b171",
   "metadata": {},
   "source": [
    "**Questão 2.** A _centralidade de grau_ `deg`, calculada para cada nó do grafo completo pelo módulo `networkx`, pode ser interpretada, para este estudo de caso, como uma medida relativa da pré-disposição de um país para se abrir à globalização. Neste sentido, calcule `deg` e assinale a opção cujo país é o mais **fechado** ao fenômeno da globalização.\n",
    "\n",
    "A. CHN \n",
    "\n",
    "B. BRA\n",
    "\n",
    "C. ARG\n",
    "\n",
    "D. NLD"
   ]
  },
  {
   "cell_type": "markdown",
   "id": "6f4cf9a5-1585-4729-98f4-cb4ef52eabb2",
   "metadata": {},
   "source": [
    "**Questão 3.** Semelhantemente à interpretação da questão anterior, a _centralidade de intermediação_ `bet` fornece uma medida relativa de quão boa é a confiança e respeitabilidade diplomática de um país para a concretização de acordos. Calcule `bet` e assinale a opção cujo país é o mais respeitado para intermediar acordos.\n",
    "\n",
    "A. AUT\n",
    "\n",
    "B. ZAF\n",
    "\n",
    "C. DEU\n",
    "\n",
    "D. ISR"
   ]
  }
 ],
 "metadata": {
  "kernelspec": {
   "display_name": "Python 3",
   "language": "python",
   "name": "python3"
  },
  "language_info": {
   "codemirror_mode": {
    "name": "ipython",
    "version": 3
   },
   "file_extension": ".py",
   "mimetype": "text/x-python",
   "name": "python",
   "nbconvert_exporter": "python",
   "pygments_lexer": "ipython3",
   "version": "3.8.8"
  }
 },
 "nbformat": 4,
 "nbformat_minor": 5
}