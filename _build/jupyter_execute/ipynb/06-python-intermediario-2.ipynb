{
 "cells": [
  {
   "cell_type": "markdown",
   "id": "e5d6eaba-568e-4d23-80ad-3c4f7b5e524e",
   "metadata": {},
   "source": [
    "# Python intermediário: Parte 2"
   ]
  },
  {
   "cell_type": "markdown",
   "id": "a3dce967-4124-4cbb-91ad-4789d05ea663",
   "metadata": {},
   "source": [
    "## Funções\n",
    "\n",
    "O conceito de \"função\" é conhecido por nós como algo que produz uma saída (_output_) a partir de uma entrada (_input_). Matematicamente, podemos representar este processo como $y= f(x)$. Por exemplo, uma impressora jato de tinta ao receber uma folha de papel em branco ($x$) aciona seus mecanismos de impressão ($f$) e produz uma folha impressa ($y$).  \n",
    "\n",
    "Em Python, funções são utilizadas praticamente da mesma forma, em que zero ou mais entradas retornam uma saída correspondente. Funções são fundamentais para organizar e reutilizar código, sempre que uma tarefa tenha de ser executada repetidamente. Toda função é um _objeto de primeira classe_. Isto essencialmente significa que ela pode ser: i) atribuída a uma variável ou elemento em uma estrutura de dado; ii) passada como argumento para outra função; iii) retornada como resultado de uma função.\n",
    "\n",
    "### Tipos de funções \n",
    "\n",
    "Neste curso, separaremos as funções em três grupos:\n",
    "\n",
    "- _predefinidas_ (_built-in functions_): aquelas pré-existentes no _core_ da linguagem ou em outros módulos;\n",
    "- _regulares_ (_user-defined functions_): aquelas definidas por você que possuem um nome definido (podem ser chamadas de UDFs);\n",
    "- _anônimas_ (_lambdas_): funções, em geral, criadas por você que não exigem um nome.\n",
    "\n",
    "```{note}\n",
    "Funções `lambda`, a rigor, são caracterizadas como uma _user-defined function_ e podem ser incorporadas juntamente com as funções nominadas por `def` em apenas um grupo. Apesar disso, aqui neste curso, tratamos funções anônimas em separado apenas para evitar subclassificações.\n",
    "```"
   ]
  },
  {
   "cell_type": "markdown",
   "id": "c14efdb1-2bb9-4df1-8170-d4f0559e5f73",
   "metadata": {},
   "source": [
    "#### Funções predefinidas\n",
    "\n",
    "Exploraremos exemplos com funções _built-in_ do _core_ Python. Em particular, cobriremos: `hex`, `bin`"
   ]
  },
  {
   "cell_type": "markdown",
   "id": "fb9755a1-bfa9-47d2-8e0a-ffa72721dbc9",
   "metadata": {},
   "source": [
    "**Exemplos:** funções predefinidas do _core_ da linguagem."
   ]
  },
  {
   "cell_type": "code",
   "execution_count": 1,
   "id": "18e02568-37d2-49e3-a303-428be4806374",
   "metadata": {},
   "outputs": [
    {
     "data": {
      "text/plain": [
       "('0x4d2', '0b101011001', 12.346)"
      ]
     },
     "execution_count": 1,
     "metadata": {},
     "output_type": "execute_result"
    }
   ],
   "source": [
    "# built-in functions\n",
    "hex(1234),bin(345),round(12.3456,3)"
   ]
  },
  {
   "cell_type": "markdown",
   "id": "00cf3041-734e-40d6-adbf-f4e3ee0d6494",
   "metadata": {},
   "source": [
    "Discussão: \n",
    "\n",
    "- `hex` converte um número para hexadecimal, indicada pelo prefixo `0x`.\n",
    "\n",
    "- `bin` converte um número para hexadecimal, indicada pelo prefixo `0b`.\n",
    "\n",
    "- `round(x,n)` arredonda um número `x` em `n` dígitos de precisão. Se `n < 0`, retorna `0.0`. "
   ]
  },
  {
   "cell_type": "code",
   "execution_count": 2,
   "id": "c2eba3d8-1b8e-4e39-b591-cc823a43feea",
   "metadata": {},
   "outputs": [
    {
     "name": "stdout",
     "output_type": "stream",
     "text": [
      "ᝰ,។,ᠸ,ᢜ,ᤀ,ᥤ,ᧈ,ᨬ,᪐,᫴,"
     ]
    }
   ],
   "source": [
    "# built-in function\n",
    "for i in range(6000,7000,100):\n",
    "    print(chr(i),end=',')"
   ]
  },
  {
   "cell_type": "markdown",
   "id": "8096b709-e26f-4658-abb3-336a87e517c1",
   "metadata": {},
   "source": [
    "Discussão: \n",
    "\n",
    "- `chr` retorna o caracter Unicode correspondente ao número inteiro passado no intervalo [0,1114111]."
   ]
  },
  {
   "cell_type": "markdown",
   "id": "e230bf6b-cac8-4510-a66d-c1027f32d445",
   "metadata": {},
   "source": [
    "**Exemplo**: somando números em uma lista."
   ]
  },
  {
   "cell_type": "code",
   "execution_count": 3,
   "id": "d6859e80-2190-4d3c-9f0f-28be6444df90",
   "metadata": {},
   "outputs": [
    {
     "data": {
      "text/plain": [
       "(4950, 0)"
      ]
     },
     "execution_count": 3,
     "metadata": {},
     "output_type": "execute_result"
    }
   ],
   "source": [
    "sum(range(100)), sum([])"
   ]
  },
  {
   "cell_type": "markdown",
   "id": "2d459c34-cf60-406e-992c-973a450cade3",
   "metadata": {},
   "source": [
    "Discussão: \n",
    "- `sum` é uma função predefinida aplicável a sequências iteráveis.\n",
    "- Se o iterável for vazio, `sum` retorna zero.\n",
    "- No exemplo anterior, somamos os números de 0 a 100 e aplicamos a função a uma lista vazia."
   ]
  },
  {
   "cell_type": "markdown",
   "id": "f262b29d-242a-4add-b669-a101a48b8c36",
   "metadata": {},
   "source": [
    "**Exemplo**: número de elementos em iteráveis."
   ]
  },
  {
   "cell_type": "code",
   "execution_count": 4,
   "id": "2cf4d568-6658-4e1e-b38e-508929172e13",
   "metadata": {},
   "outputs": [
    {
     "data": {
      "text/plain": [
       "3"
      ]
     },
     "execution_count": 4,
     "metadata": {},
     "output_type": "execute_result"
    }
   ],
   "source": [
    "# no. de elementos\n",
    "len([1,4,5])"
   ]
  },
  {
   "cell_type": "code",
   "execution_count": 5,
   "id": "bc2937a3-bf7c-4b90-8e4f-d02a4b3599bc",
   "metadata": {},
   "outputs": [
    {
     "data": {
      "text/plain": [
       "2"
      ]
     },
     "execution_count": 5,
     "metadata": {},
     "output_type": "execute_result"
    }
   ],
   "source": [
    "# conta keys\n",
    "len({'a':1,'b':2})"
   ]
  },
  {
   "cell_type": "code",
   "execution_count": 6,
   "id": "3e3dc690-cd93-4d51-8e29-0b1796077347",
   "metadata": {},
   "outputs": [
    {
     "data": {
      "text/plain": [
       "3"
      ]
     },
     "execution_count": 6,
     "metadata": {},
     "output_type": "execute_result"
    }
   ],
   "source": [
    "# lembre da unicidade\n",
    "# 3 elementos no conjunto\n",
    "len({1,3,1,2})"
   ]
  },
  {
   "cell_type": "code",
   "execution_count": 7,
   "id": "02b366e9-0ead-4371-8ab6-bfb9550ee64f",
   "metadata": {},
   "outputs": [
    {
     "data": {
      "text/plain": [
       "4"
      ]
     },
     "execution_count": 7,
     "metadata": {},
     "output_type": "execute_result"
    }
   ],
   "source": [
    "# conta caracteres\n",
    "len('nome')"
   ]
  },
  {
   "cell_type": "markdown",
   "id": "df706e36-3eea-492d-b131-98bf9dae4698",
   "metadata": {},
   "source": [
    "#### Funções regulares\n",
    "\n",
    "Funções regulares, como dissemos, possuem um nome definido pelo usuário. Vejamos alguns exemplos."
   ]
  },
  {
   "cell_type": "markdown",
   "id": "b397b004-3a76-4909-9cd0-63f13c228aab",
   "metadata": {},
   "source": [
    "**Exemplos:** funções regulares e uso de funções."
   ]
  },
  {
   "cell_type": "code",
   "execution_count": 8,
   "id": "805413e0-5eca-4b91-9bed-f6d3e90c6153",
   "metadata": {},
   "outputs": [],
   "source": [
    "def cm_to_inch(x):\n",
    "    \"\"\"converte número de centímetros para polegadas\"\"\"\n",
    "    return 2.45*x"
   ]
  },
  {
   "cell_type": "markdown",
   "id": "a6b43560-db32-4d9a-97f9-edf4f5d1df8f",
   "metadata": {},
   "source": [
    "Comentários: \n",
    "\n",
    "- Funções regulares são declaradas com a _keyword_ `def` e valores de retorno com a _keyword_ `return`."
   ]
  },
  {
   "cell_type": "code",
   "execution_count": 9,
   "id": "052997b0-6d9e-4b4d-a80f-6127f7ffc355",
   "metadata": {},
   "outputs": [
    {
     "data": {
      "text/plain": [
       "56.35"
      ]
     },
     "execution_count": 9,
     "metadata": {},
     "output_type": "execute_result"
    }
   ],
   "source": [
    "# chamada simples\n",
    "cm_to_inch(23)"
   ]
  },
  {
   "cell_type": "code",
   "execution_count": 10,
   "id": "329dc652-f0cd-46db-8ee9-86aa497fb916",
   "metadata": {},
   "outputs": [],
   "source": [
    "# atribuindo em objeto\n",
    "cmi = cm_to_inch"
   ]
  },
  {
   "cell_type": "code",
   "execution_count": 11,
   "id": "0df874a2-8a18-47ce-ac69-84ae36750265",
   "metadata": {},
   "outputs": [
    {
     "data": {
      "text/plain": [
       "4.9"
      ]
     },
     "execution_count": 11,
     "metadata": {},
     "output_type": "execute_result"
    }
   ],
   "source": [
    "# usando como argumento de outra função\n",
    "def fn(n,f):\n",
    "    \"\"\"Calcula f(n) dados n e uma função f.\"\"\"\n",
    "    return f(n)\n",
    "\n",
    "fn(2,cm_to_inch)"
   ]
  },
  {
   "cell_type": "code",
   "execution_count": 12,
   "id": "b6da0029-d23a-4f40-b306-cbe7a2b5049c",
   "metadata": {},
   "outputs": [
    {
     "data": {
      "text/plain": [
       "'Calcula f(n) dados n e uma função f.'"
      ]
     },
     "execution_count": 12,
     "metadata": {},
     "output_type": "execute_result"
    }
   ],
   "source": [
    "# docstring da função\n",
    "fn.__doc__"
   ]
  },
  {
   "cell_type": "markdown",
   "id": "532027ea-a997-4ff6-8f62-6958542b044e",
   "metadata": {},
   "source": [
    "Parâmetros de funções podem assumir um argumento padrão que pode ser modificado sempre que necessário. \n",
    "\n",
    "**Exemplos:**"
   ]
  },
  {
   "cell_type": "code",
   "execution_count": 13,
   "id": "f52b6198-ab40-480f-9d65-357b6b4fd33b",
   "metadata": {},
   "outputs": [],
   "source": [
    "# 'BEGIN' é valor padrão\n",
    "def line(title='BEGIN'):\n",
    "    print(title.center(20,'-'))"
   ]
  },
  {
   "cell_type": "code",
   "execution_count": 14,
   "id": "ce3c4ddd-f45c-49a9-9fe7-91d845c9ca69",
   "metadata": {},
   "outputs": [
    {
     "name": "stdout",
     "output_type": "stream",
     "text": [
      "-------BEGIN--------\n"
     ]
    }
   ],
   "source": [
    "# especificação não necessária\n",
    "line()"
   ]
  },
  {
   "cell_type": "code",
   "execution_count": 15,
   "id": "09ee35a3-72c9-4366-b413-1e8d492cfaef",
   "metadata": {},
   "outputs": [
    {
     "name": "stdout",
     "output_type": "stream",
     "text": [
      "--------HEAD--------\n"
     ]
    }
   ],
   "source": [
    "# alterando padrão\n",
    "line('HEAD')"
   ]
  },
  {
   "cell_type": "markdown",
   "id": "7d2c8b2f-daa2-4115-b36e-f35bab912633",
   "metadata": {},
   "source": [
    "**Exemplo:** função com argumentos posicionais."
   ]
  },
  {
   "cell_type": "code",
   "execution_count": 16,
   "id": "cac08d8a-188b-4138-9519-f5ec60e884ef",
   "metadata": {},
   "outputs": [],
   "source": [
    "# função com 2 argumentos posicionais\n",
    "def upper_len(s,cut):\n",
    "    if isinstance(s,str): # checa se é str\n",
    "        print(':: ' + s.upper()[:cut],sep=',')\n",
    "    else:\n",
    "        pass # não faz nada"
   ]
  },
  {
   "cell_type": "code",
   "execution_count": 17,
   "id": "2510a614-3675-4cee-a9f7-e29ab53a42d7",
   "metadata": {},
   "outputs": [
    {
     "name": "stdout",
     "output_type": "stream",
     "text": [
      ":: ALF\n",
      ":: BRAVO\n",
      ":: CHARLI\n"
     ]
    }
   ],
   "source": [
    "from random import randint\n",
    "\n",
    "abc = ['alfa', 'bravO', 'chARlie', 230, 111.222]\n",
    "\n",
    "# fatiamento aleatório\n",
    "for s in abc:\n",
    "    upper_len(s,randint(0,7)) "
   ]
  },
  {
   "cell_type": "markdown",
   "id": "78b4a2a4-3063-4efd-a068-3093b96dad7e",
   "metadata": {},
   "source": [
    "Comentários: \n",
    "\n",
    "- Esta função aceita strings, formatam-nas em maiúsculas e  imprime-as fatiadas até o índice `cut`, determinado aleatoriamente.\n",
    "- Note que nada é impresso para entradas que são números.\n",
    "- A função possui dois argumentos posicionais, isto é que obedecem às posições especificadas.\n",
    "- Se as posições dos argumentos forem alteradas, o sentido da função muda."
   ]
  },
  {
   "cell_type": "code",
   "execution_count": 18,
   "id": "6fcc8dec-c5ba-4650-ae8e-f303d4c616dc",
   "metadata": {},
   "outputs": [],
   "source": [
    "# Nada faz porque o primeiro \n",
    "# parâmetro deixou de ser str\n",
    "for s in abc:\n",
    "    upper_len(randint(1,3),s) "
   ]
  },
  {
   "cell_type": "markdown",
   "id": "80a7fe99-a350-409c-86b2-49414b6a5bcb",
   "metadata": {},
   "source": [
    "**Exemplo:** especificando argumentos com _keywords_."
   ]
  },
  {
   "cell_type": "code",
   "execution_count": 19,
   "id": "e9d342a3-8cef-4e32-bce7-0f5f4a4bb3e8",
   "metadata": {},
   "outputs": [],
   "source": [
    "# declaração com 3 keywords\n",
    "def triple(x=0,y=0,z=0):\n",
    "    return x*y*z"
   ]
  },
  {
   "cell_type": "code",
   "execution_count": 20,
   "id": "6514704a-be3a-44b1-a4f0-9d1b54e10b80",
   "metadata": {},
   "outputs": [
    {
     "data": {
      "text/plain": [
       "0"
      ]
     },
     "execution_count": 20,
     "metadata": {},
     "output_type": "execute_result"
    }
   ],
   "source": [
    "# padrão\n",
    "triple()"
   ]
  },
  {
   "cell_type": "code",
   "execution_count": 21,
   "id": "3579af04-d55f-47b0-98d0-0666773fc943",
   "metadata": {},
   "outputs": [
    {
     "data": {
      "text/plain": [
       "24"
      ]
     },
     "execution_count": 21,
     "metadata": {},
     "output_type": "execute_result"
    }
   ],
   "source": [
    "# sem declarar keywords\n",
    "triple(2,3,4)"
   ]
  },
  {
   "cell_type": "code",
   "execution_count": 22,
   "id": "4347ecb3-d410-4e66-b559-9f446144a182",
   "metadata": {},
   "outputs": [
    {
     "data": {
      "text/plain": [
       "48"
      ]
     },
     "execution_count": 22,
     "metadata": {},
     "output_type": "execute_result"
    }
   ],
   "source": [
    "# declarando uma keyword\n",
    "triple(3,4,z=4)"
   ]
  },
  {
   "cell_type": "code",
   "execution_count": 23,
   "id": "8c14552d-718d-41a3-86cd-53fb79392f36",
   "metadata": {},
   "outputs": [
    {
     "ename": "SyntaxError",
     "evalue": "positional argument follows keyword argument (<ipython-input-23-e785690d4856>, line 2)",
     "output_type": "error",
     "traceback": [
      "\u001b[0;36m  File \u001b[0;32m\"<ipython-input-23-e785690d4856>\"\u001b[0;36m, line \u001b[0;32m2\u001b[0m\n\u001b[0;31m    triple(x=3,4,4)\u001b[0m\n\u001b[0m               ^\u001b[0m\n\u001b[0;31mSyntaxError\u001b[0m\u001b[0;31m:\u001b[0m positional argument follows keyword argument\n"
     ]
    }
   ],
   "source": [
    "# erro!\n",
    "triple(x=3,4,4)"
   ]
  },
  {
   "cell_type": "markdown",
   "id": "77f83a87-98b3-4d23-8820-c8dd1cfbf8a0",
   "metadata": {},
   "source": [
    "Discussão: \n",
    "- Argumentos com _keyword_ devem vir **após** os argumentos posicionais, se houver algum."
   ]
  },
  {
   "cell_type": "code",
   "execution_count": 24,
   "id": "c395b7fc-fca9-439a-8fde-e07c4ac1ef75",
   "metadata": {},
   "outputs": [],
   "source": [
    "# declaração com 1 posicional e 2 keywords\n",
    "def triple_2(x,y=0,z=0):\n",
    "    return x*y*z"
   ]
  },
  {
   "cell_type": "code",
   "execution_count": 25,
   "id": "531d4b81-739e-481e-9d71-14088928a20f",
   "metadata": {},
   "outputs": [
    {
     "data": {
      "text/plain": [
       "30"
      ]
     },
     "execution_count": 25,
     "metadata": {},
     "output_type": "execute_result"
    }
   ],
   "source": [
    "triple_2(2,y=5,z=3)"
   ]
  },
  {
   "cell_type": "code",
   "execution_count": 26,
   "id": "ce4e9971-dcfa-4637-9525-d0f0165406b8",
   "metadata": {},
   "outputs": [
    {
     "data": {
      "text/plain": [
       "30"
      ]
     },
     "execution_count": 26,
     "metadata": {},
     "output_type": "execute_result"
    }
   ],
   "source": [
    "triple_2(2,5,z=3)"
   ]
  },
  {
   "cell_type": "code",
   "execution_count": 27,
   "id": "9c34d174-29d3-4712-a801-20d6a4cd07c2",
   "metadata": {},
   "outputs": [],
   "source": [
    "# declaração com 2 posicionais e 1 keyword\n",
    "def triple_3(x,y,z=0):\n",
    "    return x*y*z"
   ]
  },
  {
   "cell_type": "code",
   "execution_count": 28,
   "id": "ed807382-cf11-49b3-af86-ec975bb78a59",
   "metadata": {},
   "outputs": [
    {
     "data": {
      "text/plain": [
       "6"
      ]
     },
     "execution_count": 28,
     "metadata": {},
     "output_type": "execute_result"
    }
   ],
   "source": [
    "triple_3(3,1,2)"
   ]
  },
  {
   "cell_type": "code",
   "execution_count": 29,
   "id": "49f16560-2021-4a69-a0ca-621e357319ad",
   "metadata": {},
   "outputs": [
    {
     "data": {
      "text/plain": [
       "6"
      ]
     },
     "execution_count": 29,
     "metadata": {},
     "output_type": "execute_result"
    }
   ],
   "source": [
    "triple_3(3,1,z=2)"
   ]
  },
  {
   "cell_type": "markdown",
   "id": "88087857-7fa7-4e75-840a-4c3a11154152",
   "metadata": {},
   "source": [
    "##### Escopos\n",
    "\n",
    "Funções podem acessar variáveis em dois escopos: _global_ e _local_. O escopo global é aquele que está fora do escopo da função, enquanto o local é aquele determinado pela função."
   ]
  },
  {
   "cell_type": "markdown",
   "id": "6a2c6935-5305-4049-8e95-e6ddab4d9b97",
   "metadata": {},
   "source": [
    "**Exemplo**: atribuindo variáveis global e localmente"
   ]
  },
  {
   "cell_type": "code",
   "execution_count": 30,
   "id": "b8b90f77-695f-422a-a173-dafcc071d7e1",
   "metadata": {},
   "outputs": [
    {
     "name": "stdout",
     "output_type": "stream",
     "text": [
      "1\n"
     ]
    },
    {
     "ename": "NameError",
     "evalue": "name 'b' is not defined",
     "output_type": "error",
     "traceback": [
      "\u001b[0;31m---------------------------------------------------------------------------\u001b[0m",
      "\u001b[0;31mNameError\u001b[0m                                 Traceback (most recent call last)",
      "\u001b[0;32m<ipython-input-30-4b9fde101a12>\u001b[0m in \u001b[0;36m<module>\u001b[0;34m\u001b[0m\n\u001b[1;32m      5\u001b[0m \u001b[0;34m\u001b[0m\u001b[0m\n\u001b[1;32m      6\u001b[0m \u001b[0mprint\u001b[0m\u001b[0;34m(\u001b[0m\u001b[0mtest_vars\u001b[0m\u001b[0;34m(\u001b[0m\u001b[0ma\u001b[0m\u001b[0;34m)\u001b[0m\u001b[0;34m)\u001b[0m\u001b[0;34m\u001b[0m\u001b[0;34m\u001b[0m\u001b[0m\n\u001b[0;32m----> 7\u001b[0;31m \u001b[0mprint\u001b[0m\u001b[0;34m(\u001b[0m\u001b[0mb\u001b[0m\u001b[0;34m)\u001b[0m \u001b[0;31m# erro! b é local\u001b[0m\u001b[0;34m\u001b[0m\u001b[0;34m\u001b[0m\u001b[0m\n\u001b[0m",
      "\u001b[0;31mNameError\u001b[0m: name 'b' is not defined"
     ]
    }
   ],
   "source": [
    "a = 0 # global\n",
    "def test_vars(a):\n",
    "    b = 1 # local    \n",
    "    return a + b\n",
    "    \n",
    "print(test_vars(a))\n",
    "print(b) # erro! b é local"
   ]
  },
  {
   "cell_type": "markdown",
   "id": "97dd8845-1d91-4a0c-a0b8-3aad2e2852cf",
   "metadata": {},
   "source": [
    "Comentários: \n",
    "- A variável `a` é definida globalmente e foi utilizada como argumento de `test_vars`;\n",
    "- A variável `b` é definida localmente e, portanto, não pode ser acessada fora do escopo da função;\n",
    "- Um erro de \"variável indefinida\" é lançado por `print(b)`, visto que o escopo global não reconhece a variável `b`."
   ]
  },
  {
   "cell_type": "code",
   "execution_count": 31,
   "id": "5a92b364-cb40-41d2-87a0-2a9f1fbd21f1",
   "metadata": {},
   "outputs": [
    {
     "name": "stdout",
     "output_type": "stream",
     "text": [
      "1\n",
      "1\n"
     ]
    }
   ],
   "source": [
    "def test_vars(a):\n",
    "    global c     \n",
    "    c = 1 # global\n",
    "    return a + c\n",
    "    \n",
    "print(test_vars(a))\n",
    "print(c) # ok! c é global"
   ]
  },
  {
   "cell_type": "markdown",
   "id": "31264d83-7ce3-49a4-9723-2bd635d38518",
   "metadata": {},
   "source": [
    "Comentários: \n",
    "- Neste caso, a `c` foi atribuído um valor no escopo local, porém ela foi declarada como global.\n",
    "- Para tornar uma variável dentro do escopo de uma função como global, usa-se a keyword `global`.\n",
    "- A impressão do valor de `c` no escopo global não retorna erro pela explicação anterior.\n",
    "\n",
    "```{warning}\n",
    "O uso indiscriminado de `global` não é encorajado. Quando a densidade do uso de `global` está alta, recomenda-se partir para uma abordagem de orientação a objetos e usar classes.\n",
    "```"
   ]
  },
  {
   "cell_type": "markdown",
   "id": "cdb7da05-9537-41c6-9b2e-044f57c1c0ec",
   "metadata": {},
   "source": [
    "#### Funções anônimas"
   ]
  },
  {
   "cell_type": "markdown",
   "id": "f585bb9f-a7d5-4d61-97bf-41843083a518",
   "metadata": {},
   "source": [
    "Uma função anônima em Python consiste em uma função cujo nome não é explicitamente definido e que pode ser criada em apenas uma linha de código para executar uma tarefa específica.\n",
    "\n",
    "Funções anônimas são baseadas na palavra-chave lambda. Este nome tem inspiração em uma área da ciência da computação chamada de cálculo-$\\lambda$. \n",
    "\n",
    "Uma função anônima tem a seguinte forma:\n",
    "\n",
    "```python\n",
    "lambda lista_de_parâmetros: expressão\n",
    "```\n",
    "\n",
    "Embora funções anônimas possam ser chamadas isoladamente, seu melhor uso é como argumento de uma função. "
   ]
  },
  {
   "cell_type": "markdown",
   "id": "db85fd62-09b8-4955-a3e0-5b38b5fe2949",
   "metadata": {},
   "source": [
    "Vejamos alguns exemplos."
   ]
  },
  {
   "cell_type": "markdown",
   "id": "7980a71f-a7c3-496e-adff-361e35cc14e5",
   "metadata": {},
   "source": [
    "**Exemplo:**"
   ]
  },
  {
   "cell_type": "code",
   "execution_count": 32,
   "id": "38887735-2799-4977-8724-bae8999cd46e",
   "metadata": {},
   "outputs": [
    {
     "data": {
      "text/plain": [
       "[4, 9, 16]"
      ]
     },
     "execution_count": 32,
     "metadata": {},
     "output_type": "execute_result"
    }
   ],
   "source": [
    "square = lambda x: x**2 \n",
    "[square(x) for x in [2,3,4]]"
   ]
  },
  {
   "cell_type": "markdown",
   "id": "55c8e560-f0af-4f5d-8b19-3b1373da8877",
   "metadata": {},
   "source": [
    "Comentários:\n",
    "\n",
    "- `square` é um objeto `function` (verifique com `type(square)`.\n",
    "- Esta função anônima eleva um número passado ao quadrado."
   ]
  },
  {
   "cell_type": "markdown",
   "id": "98a3e72c-c0ce-4f64-9c14-40657dc4de1b",
   "metadata": {},
   "source": [
    "**Exemplo:**"
   ]
  },
  {
   "cell_type": "code",
   "execution_count": 33,
   "id": "9e4f0a1d-d16e-43db-a808-8a3d15bf2a83",
   "metadata": {},
   "outputs": [
    {
     "data": {
      "text/plain": [
       "[4, 9, 16]"
      ]
     },
     "execution_count": 33,
     "metadata": {},
     "output_type": "execute_result"
    }
   ],
   "source": [
    "def op_to_list(lista,f):\n",
    "    return [f(x) for x in lista]\n",
    "\n",
    "op_to_list([2,3,4],lambda x: x**2)"
   ]
  },
  {
   "cell_type": "markdown",
   "id": "0ecb5339-5058-429d-a6c5-936a2ec0a5a8",
   "metadata": {},
   "source": [
    "Discussão:\n",
    "- Esta construção produz um resultado equivalente ao anterior.\n",
    "- Neste exemplo, a função anônima é passada como argumento para ser aplicada à lista."
   ]
  },
  {
   "cell_type": "markdown",
   "id": "331bbf29-1dd2-4c5a-8374-eff3dc52912d",
   "metadata": {},
   "source": [
    "Comentários:\n",
    "- A construção anterior nos dá liberdade para criar funções com propósitos diversos."
   ]
  },
  {
   "cell_type": "markdown",
   "id": "4ff401a0-1430-4621-b9d6-340b0fbf05f1",
   "metadata": {},
   "source": [
    "**Exemplo:**"
   ]
  },
  {
   "cell_type": "code",
   "execution_count": 34,
   "id": "77e5ee41-86db-44d0-8bf6-b2f3096427df",
   "metadata": {},
   "outputs": [
    {
     "data": {
      "text/plain": [
       "[4, 23, 60]"
      ]
     },
     "execution_count": 34,
     "metadata": {},
     "output_type": "execute_result"
    }
   ],
   "source": [
    "# f(x) = x**3 - 4\n",
    "op_to_list([2,3,4], lambda x: x**3 - 4)"
   ]
  },
  {
   "cell_type": "markdown",
   "id": "41b22937-80b9-49ea-bc46-ef3e2d5ec314",
   "metadata": {},
   "source": [
    "**Exemplo:**"
   ]
  },
  {
   "cell_type": "code",
   "execution_count": 35,
   "id": "ca3c9fd4-5a62-46b2-b502-28ef7b850727",
   "metadata": {},
   "outputs": [
    {
     "data": {
      "text/plain": [
       "[(['Aldo', 'Bermudes'], 'aldo.bermudes'),\n",
       " (['Vicário', 'Sempernaum'], 'vicário.sempernaum'),\n",
       " (['Sebastian', 'Folcher'], 'sebastian.folcher')]"
      ]
     },
     "execution_count": 35,
     "metadata": {},
     "output_type": "execute_result"
    }
   ],
   "source": [
    "# separa nome e sobrenome, \n",
    "# e cria um user\n",
    "op_to_list(['Aldo Bermudes',\n",
    "            'Vicário Sempernaum',\n",
    "            'Sebastian Folcher'],\n",
    "          lambda x: (x.split(' '),\n",
    "                     x.lower().replace(' ','.')))"
   ]
  },
  {
   "cell_type": "markdown",
   "id": "5534ef70-7c93-44a9-bb87-70507659a896",
   "metadata": {},
   "source": [
    "Comentários:\n",
    "- O abuso de _lambdas_ pode ser prejudicial à legibilidade de código.\n",
    "- No exemplo acima, uma lista de nomes é quebrada em nome e sobrenome e um nome de usuário de e-mail hipotético é construído para cada elemento da lista."
   ]
  },
  {
   "cell_type": "markdown",
   "id": "a0db6c39-63a1-49cf-ba18-e48a73a4e151",
   "metadata": {},
   "source": [
    "**Exemplo:**"
   ]
  },
  {
   "cell_type": "code",
   "execution_count": 36,
   "id": "6e2fe1c6-78d9-45f8-949f-724fb1755c3f",
   "metadata": {},
   "outputs": [
    {
     "data": {
      "text/plain": [
       "['melancia', 'banana', 'abacate', 'morango', 'melão', 'romã']"
      ]
     },
     "execution_count": 36,
     "metadata": {},
     "output_type": "execute_result"
    }
   ],
   "source": [
    "frutas = ['melão','melancia','abacate',\n",
    "          'morango','romã','banana']\n",
    "\n",
    "sorted(frutas,key=lambda x: x[::-1])"
   ]
  },
  {
   "cell_type": "markdown",
   "id": "51580c89-2012-437c-83f5-68f77b0adc24",
   "metadata": {},
   "source": [
    "Discussão:\n",
    "- `x[::-1]`faz um swap na string;\n",
    "- A função _lambda_ passada como _key_ permite que os elementos da lista sejam ordenados com base na **soletração invertida** delas. "
   ]
  },
  {
   "cell_type": "markdown",
   "id": "568dd1ea-db45-4164-a94c-1ab6ac4e5798",
   "metadata": {},
   "source": [
    "### `map`\n",
    "\n",
    "A função `map` serve para construir uma função que será aplicada a todos os elementos de uma sequência. Seu uso é da seguinte forma:\n",
    "\n",
    "```python\n",
    "map(funcao,sequencia)\n",
    "```\n",
    "\n",
    "A função `opt_to_list`, criada na seção anterior, na verdade, poderia ter sido substituída por `map`, visto que `map` \"aplica\" uma regra a todos os elementos da sequência. "
   ]
  },
  {
   "cell_type": "markdown",
   "id": "f6335542-8e20-437d-85c2-f7a522b68852",
   "metadata": {},
   "source": [
    "**Exemplo:**"
   ]
  },
  {
   "cell_type": "code",
   "execution_count": 37,
   "id": "16ae6216-8c0b-40fb-ae00-5b4535745147",
   "metadata": {},
   "outputs": [
    {
     "data": {
      "text/plain": [
       "[4, 9, 16]"
      ]
     },
     "execution_count": 37,
     "metadata": {},
     "output_type": "execute_result"
    }
   ],
   "source": [
    "list(map(lambda x: x**2,[2,3,4]))"
   ]
  },
  {
   "cell_type": "markdown",
   "id": "e9ec4e60-9561-4cf3-906d-722d8a9dbeee",
   "metadata": {},
   "source": [
    "A conversão de `map` para um `list` é importante, pois o uso solitário de `map` produzirá uma resposta abstrata. "
   ]
  },
  {
   "cell_type": "code",
   "execution_count": 38,
   "id": "263ee277-03f1-4146-a88d-f4e779017e06",
   "metadata": {},
   "outputs": [
    {
     "data": {
      "text/plain": [
       "<map at 0x7f937d09e460>"
      ]
     },
     "execution_count": 38,
     "metadata": {},
     "output_type": "execute_result"
    }
   ],
   "source": [
    "map(lambda x: x**2,[2,3,4])"
   ]
  },
  {
   "cell_type": "markdown",
   "id": "dc7a690a-449b-4ef3-b0e4-59af61bd4c91",
   "metadata": {},
   "source": [
    "**Exemplo:**"
   ]
  },
  {
   "cell_type": "code",
   "execution_count": 39,
   "id": "0b8dc34b-cd4b-4a5a-a82c-6f47a3e3d9fa",
   "metadata": {},
   "outputs": [
    {
     "data": {
      "text/plain": [
       "('oãlem', 'aicnalem', 'etacaba', 'ognarom', 'ãmor', 'ananab')"
      ]
     },
     "execution_count": 39,
     "metadata": {},
     "output_type": "execute_result"
    }
   ],
   "source": [
    "frutas = ['melão','melancia','abacate',\n",
    "          'morango','romã','banana']\n",
    "\n",
    "tuple(map(lambda x: x[::-1],frutas))"
   ]
  },
  {
   "cell_type": "markdown",
   "id": "a4f22a3d-a271-434c-9250-d7c2e3dcb531",
   "metadata": {},
   "source": [
    "Comentários:\n",
    "- O `map` é utilizado para realizar um swap nas strings.\n",
    "- Em seguida, realizamos uma conversão do `map` em um tupla."
   ]
  },
  {
   "cell_type": "markdown",
   "id": "c31fcb38-342a-4230-b905-891fde8bd772",
   "metadata": {},
   "source": [
    "### `filter`"
   ]
  },
  {
   "cell_type": "markdown",
   "id": "1ba1c64c-6734-4430-9451-11426555db85",
   "metadata": {},
   "source": [
    "Podemos aplicar uma espécie de “filtro” para valores usando a função `filter`. No caso anterior, digamos que valores acima de 7 sejam inseridos erroneamente no gerador de números (lembre-se que no sistema sanguíneo ABO, consideramos um dict cujo valor das chaves é no máximo 7). Podemos, ainda assim, filtrar a lista para coletar apenas valores menores do que 7. Para tanto, definimos uma função lambda com este propósito."
   ]
  },
  {
   "cell_type": "code",
   "execution_count": 40,
   "id": "28c1d8f8-20ee-4bac-822b-fd6b891c6974",
   "metadata": {},
   "outputs": [
    {
     "data": {
      "text/plain": [
       "[4, 18, 4, 19, 15, 9, 8, 6, 5]"
      ]
     },
     "execution_count": 40,
     "metadata": {},
     "output_type": "execute_result"
    }
   ],
   "source": [
    "from random import randint \n",
    "\n",
    "nums = []\n",
    "for _ in range(15):\n",
    "    nums.append(randint(0,30))\n",
    "\n",
    "f = filter(lambda x: x < 20,nums)\n",
    "list(f)"
   ]
  },
  {
   "cell_type": "markdown",
   "id": "e5286190-82a7-4947-a6f4-5f19225e5e03",
   "metadata": {},
   "source": [
    "#### Funções de ordem superior\n",
    "\n",
    "A partir da introdução de compreensões de lista, `map` e `filter` passaram a ser menos importantes, embora ainda estejam disponíveis na linguagem. Juntamente com `reduce` e `apply`, `map` e `filter` são funções de _ordem superior_ (aquelas que recebem funções como argumento ou retornam funções como resultado). Todas elas são menos frequentes em Python 3 devido à aparição de métodos mais \"modernos\" de realizar o mesmo. "
   ]
  },
  {
   "cell_type": "markdown",
   "id": "022df6be-2677-4315-a4df-e96a037ced8b",
   "metadata": {},
   "source": [
    "### `args` e `kwargs`\n",
    "\n",
    "Imagine que, por alguma razão específica, você precise construir uma função com um número arbitrário de argumentos. Este tipo de situação ocorre quando o usuário tem ampla liberdade para configurar algo. \n",
    "\n",
    "Vimos no capítulo anterior o desempacotamento por _star expression_. Para construir funções como as que queremos, podemos usar uma abordagem similar usando as _star expressions_ `*args` e `**kwargs`.\n",
    "\n",
    "Um resumo da aplicação delas é o seguinte:\n",
    "\n",
    "- `*args` é **uma tupla** e utilizada para substituir um número arbitrário de argumentos posicionais.\n",
    "- `**kwargs`é **um dicionário** e utilizada para substituir um número arbitrário de _keywords_ e seus valores correspondentes.\n",
    "\n",
    "A melhor forma de compreendê-las é por meio de exemplos."
   ]
  },
  {
   "cell_type": "markdown",
   "id": "0fce9fce-337f-44cc-aba5-4656c07cf8eb",
   "metadata": {},
   "source": [
    "**Exemplo:** função que aceita um número arbitrário de argumentos de entrada."
   ]
  },
  {
   "cell_type": "code",
   "execution_count": 41,
   "id": "781260b3-db95-4b89-87a8-600ef7433e97",
   "metadata": {},
   "outputs": [
    {
     "name": "stdout",
     "output_type": "stream",
     "text": [
      "1.5\n",
      "3.0\n",
      "5.428571428571429\n"
     ]
    }
   ],
   "source": [
    "def media_arit(*vals):\n",
    "    return sum(vals)/len(vals)\n",
    "\n",
    "print(media_arit(1,2))\n",
    "print(media_arit(1,2,4,5))\n",
    "print(media_arit(1,2,4,5,7,9,10))"
   ]
  },
  {
   "cell_type": "markdown",
   "id": "61648661-3a16-47db-8305-37199039989a",
   "metadata": {},
   "source": [
    "Discussão:\n",
    "- `*vals` recebe, em cada caso, os argumentos de entrada. No primeiro caso, 2; no segundo, 4; no terceiro, 7."
   ]
  },
  {
   "cell_type": "markdown",
   "id": "1ba55643-ca66-4752-a9dc-61bc9e28ddcf",
   "metadata": {},
   "source": [
    "**Exemplo:** equação de combinação linear em $\\mathbb{R}^n$ com coeficiente da primeira variável travado."
   ]
  },
  {
   "cell_type": "code",
   "execution_count": 42,
   "id": "7d6ccc4a-15a3-4a09-a66f-982ed4974cc1",
   "metadata": {},
   "outputs": [
    {
     "data": {
      "text/latex": [
       "$\\displaystyle v = 1.4x_1 + 4x_2$"
      ],
      "text/plain": [
       "<IPython.core.display.Math object>"
      ]
     },
     "metadata": {},
     "output_type": "display_data"
    },
    {
     "data": {
      "text/latex": [
       "$\\displaystyle v = 2x_1 + 34x_2 + 12x_3 + 65.43x_4$"
      ],
      "text/plain": [
       "<IPython.core.display.Math object>"
      ]
     },
     "metadata": {},
     "output_type": "display_data"
    }
   ],
   "source": [
    "from IPython.display import display as dpl, Math\n",
    "\n",
    "def comb_lin(*args):\n",
    "    l = []    \n",
    "    for i,c in enumerate(list(args)):\n",
    "        l.append(str(c) + 'x_' + str(i+1))\n",
    "        \n",
    "    final = '$v = ' + ' + '.join(l) + '$'\n",
    "    return final\n",
    "\n",
    "v2 = comb_lin(1.4,4)\n",
    "dpl(Math(v2))\n",
    "\n",
    "v4 = comb_lin(2,34,12,65.43)\n",
    "dpl(Math(v4))"
   ]
  },
  {
   "cell_type": "markdown",
   "id": "1fa1650c-ef67-4b52-8491-6fd83c344838",
   "metadata": {},
   "source": [
    "Discussão:\n",
    "- A lista de coeficientes é percorrida com agregação dos termos $x_i$, para cada coordenada do espaço n-dimensional.\n",
    "- `dpl(Math(v4)` renderiza a equação."
   ]
  },
  {
   "cell_type": "markdown",
   "id": "eeee4474-562a-4246-82c4-51108c690832",
   "metadata": {},
   "source": [
    "**Exemplo:** coleta de valores médios de áreas das superfícies radiculares de dentes humanos (em milímetros quadrados) por demanda."
   ]
  },
  {
   "cell_type": "code",
   "execution_count": 43,
   "id": "efb92cf8-2375-4170-921e-7fc6293da885",
   "metadata": {},
   "outputs": [
    {
     "name": "stdout",
     "output_type": "stream",
     "text": [
      "Dente: incisivo_cent | Área inf: 160 mm2 | Área sup: 200 mm2 \n",
      "Dente: incisivo_lat | Área inf: 194 mm2 | Área sup: 200 mm2 \n"
     ]
    }
   ],
   "source": [
    "# dente: (area inf, area sup)\n",
    "# Ver: https://bit.ly/3iT9tsA, p.37, Quadro 2.1\n",
    "#dentes = {'Incisivo central':(170,230),\n",
    "#          'Incisivo lateral':(194,200),\n",
    "#          'Canino':(270,282),\n",
    "#          'Primeiro molar':(475,533)}\n",
    "\n",
    "\n",
    "def med_area_dent(**kwargs):\n",
    "    for k,v in kwargs.items():\n",
    "        print(f'Dente: {k} | Área inf: {v[0]} mm2 | Área sup: {v[1]} mm2 ')\n",
    "\n",
    "        \n",
    "med_area_dent(incisivo_cent=(160,200),\n",
    "              incisivo_lat=(194,200))        "
   ]
  },
  {
   "cell_type": "code",
   "execution_count": 44,
   "id": "96d5cb21-7f63-4b0b-9e65-86e8515d44c6",
   "metadata": {},
   "outputs": [
    {
     "name": "stdout",
     "output_type": "stream",
     "text": [
      "Dente: IC | Área inf: 160 mm2 | Área sup: 200 mm2 \n",
      "Dente: C | Área inf: 270 mm2 | Área sup: 882 mm2 \n",
      "Dente: PM | Área inf: 475 mm2 | Área sup: 533 mm2 \n"
     ]
    }
   ],
   "source": [
    "med_area_dent(IC=(160,200),C=(270,882),PM=(475,533))        "
   ]
  },
  {
   "cell_type": "markdown",
   "id": "3d0eb804-c495-4fdf-a75b-0a66e9d351e4",
   "metadata": {},
   "source": [
    "Discussão:\n",
    "\n",
    "- `**kwargs` admite a entrada de um dicionário com tamanho variável. Isto é, chaves e valores quaisquer. \n",
    "- Nestes exemplos, imprimimos os valores médidos de áreas dos radiculares."
   ]
  },
  {
   "cell_type": "markdown",
   "id": "36f948a5-7d4c-4c04-a0bf-9094a0cd5420",
   "metadata": {},
   "source": [
    "Comentários: \n",
    "\n",
    "- Cabe enfatizar que as `keywords` podem ter nomes diferentes."
   ]
  },
  {
   "cell_type": "markdown",
   "id": "c1593e09-fe2d-48a2-ba00-121d5e11ed6e",
   "metadata": {},
   "source": [
    "### `any` e `all`\n",
    "\n",
    "As funções predefinidas `any` e `all` são chamadas de \"redutoras\", visto que têm um papel relacionado à filtragem de dados. Elas são aplicáveis a qualquer sequência. Podemos entendê-las como segue: \n",
    "\n",
    "- `any`: retorna `True` se todo elemento do objeto iterável for avaliado com uma condição verdadeira.\n",
    "- `all`: retorna `True` se qualquer elemento do objeto iterável for avaliado com uma condição verdadeira."
   ]
  },
  {
   "cell_type": "markdown",
   "id": "81c3f591-503c-4663-9205-62bb8beb2182",
   "metadata": {},
   "source": [
    "**Exemplo:**"
   ]
  },
  {
   "cell_type": "code",
   "execution_count": 45,
   "id": "aa4ec18b-40e2-4d9c-8c66-07ce6608e6e6",
   "metadata": {},
   "outputs": [
    {
     "data": {
      "text/plain": [
       "False"
      ]
     },
     "execution_count": 45,
     "metadata": {},
     "output_type": "execute_result"
    }
   ],
   "source": [
    "x = [2,-1,3,4]\n",
    "\n",
    "all(list(map(lambda x: x < 0,x)))"
   ]
  },
  {
   "cell_type": "code",
   "execution_count": 46,
   "id": "518724cb-61b2-40f2-91e3-f7f09a7cbf47",
   "metadata": {},
   "outputs": [
    {
     "data": {
      "text/plain": [
       "True"
      ]
     },
     "execution_count": 46,
     "metadata": {},
     "output_type": "execute_result"
    }
   ],
   "source": [
    "any(list(map(lambda x: x < 0,x)))"
   ]
  },
  {
   "cell_type": "code",
   "execution_count": 47,
   "id": "fe12ac61-21ef-435f-87b4-25439b2b48e9",
   "metadata": {},
   "outputs": [
    {
     "data": {
      "text/plain": [
       "True"
      ]
     },
     "execution_count": 47,
     "metadata": {},
     "output_type": "execute_result"
    }
   ],
   "source": [
    "x = [2,1,3,4]\n",
    "\n",
    "all(list(map(lambda x: x > 0,x)))"
   ]
  },
  {
   "cell_type": "markdown",
   "id": "ae09384c-e0a6-4919-a328-c079913c0756",
   "metadata": {},
   "source": [
    "## Exercícios aplicados\n",
    "\n",
    "**Exercício.** A FEBRABAN (Federação Brasileira dos Bancos) utiliza um padrão de 52 caracteres (45 dígitos + 3 pontos + 4 espaços) para [numeração de boletos bancários](https://blog.juno.com.br/o-que-os-numeros-boleto-bancario-significam) na forma \n",
    "\n",
    "```\n",
    "BBBML.LLLLC LLLLL.LLLLD LLLLL.LLLLE G FFFFVVVVVVVVVV\n",
    "```\n",
    "\n",
    "onde\n",
    "\n",
    "- B é dígito do código verificador de banco\n",
    "- M é dígito do código verificador de moeda\n",
    "- C é dígito do código identificador de campo\n",
    "- D é dígito do código identificador de campo\n",
    "- E é dígito do código identificador de campo\n",
    "- F é dígito do fator de vencimento\n",
    "- G é dígito do código verificador geral\n",
    "- V é dígito do valor do documento\n",
    "\n",
    "Use essas informações para criar uma função que gera códigos de boleto hipotéticos e retorne o código do banco, tipo de moeda e valor do documento como múltiplas respostas. Assuma que L é sempre igual ao dígito zero.\n",
    "\n",
    "Dica: use `random.randint`.\n",
    "\n",
    "<!--\n",
    "Criar função com **kwargs para receber parâmetros de caracterização de rochas de Marte. \n",
    "keys: subst. química\n",
    "value: %\n",
    "\n",
    "Ver https://core.ac.uk/download/pdf/52725737.pdf\n",
    "Tabela 3, \n",
    "-->\n",
    "\n",
    "<!--\n",
    "Adicionar exec x eval\n",
    "-->"
   ]
  }
 ],
 "metadata": {
  "kernelspec": {
   "display_name": "Python 3",
   "language": "python",
   "name": "python3"
  },
  "language_info": {
   "codemirror_mode": {
    "name": "ipython",
    "version": 3
   },
   "file_extension": ".py",
   "mimetype": "text/x-python",
   "name": "python",
   "nbconvert_exporter": "python",
   "pygments_lexer": "ipython3",
   "version": "3.8.8"
  }
 },
 "nbformat": 4,
 "nbformat_minor": 5
}