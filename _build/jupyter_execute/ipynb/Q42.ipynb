{
 "cells": [
  {
   "cell_type": "markdown",
   "id": "9c028aaa",
   "metadata": {},
   "source": [
    "## Questionário 42 (Q42)"
   ]
  },
  {
   "cell_type": "markdown",
   "id": "0932fad3",
   "metadata": {},
   "source": [
    "Orientações: \n",
    "\n",
    "- Registre suas respostas no questionário de mesmo nome no SIGAA.\n",
    "- O tempo de registro das respostas no questionário será de 10 minutos. Portanto, resolva primeiro as questões e depois registre-as.\n",
    "- Haverá apenas 1 (uma) tentativa de resposta.\n",
    "- Submeta seu arquivo-fonte (utilizado para resolver as questões) em formato _.ipynb_ pelo SIGAA anexando-o à Tarefa denominada \"Envio de arquivo\" correspondente ao questionário.\n",
    "\n",
    "*Nota:* o arquivo-fonte será utilizado apenas como prova de execução da tarefa. Nenhuma avaliação será feita quanto ao estilo de programação.\n",
    "\n",
    "<hr>"
   ]
  },
  {
   "cell_type": "markdown",
   "id": "88419e85",
   "metadata": {},
   "source": [
    "**Questão 1.** No _dataset_ [enem2019.xlsx](https://github.com/gcpeixoto/ICD/blob/main/database/enem2019.xlsx), estão disponíveis as notas médias por estado obtidas nas provas do ENEM 2019. Supondo que _x_ é a diferença entre a amplitude da quantidade de inscritos na região Sudeste e a amplitude da quantidade de inscritos na região Norte, e que _y_ é o desvio médio para a série da quantidade total de inscritos de ensino médio público apenas para os estados do sul, assinale a alternativa que corretamente expressa os valores de _x_ e _y_,  nesta sequência.\n",
    "\n",
    "**Obs.:** considere apenas a parte inteira do desvio médio.\n",
    "\n",
    "A. 149465 e 5690\n",
    "\n",
    "B. 169265 e 6593\n",
    "\n",
    "C. 149465 e 0\n",
    "\n",
    "D. 173921 e 2"
   ]
  },
  {
   "cell_type": "markdown",
   "id": "a5e08379",
   "metadata": {},
   "source": [
    "**Questão 2.** Calcule o percentual _p_ de inscritos para o ENEM 2019 provenientes do ensino privado de todos os Estados em relação ao total de inscritos no exame, bem como o valor do quociente _v/V_, onde _v_ é a variância para a série do total de inscritos provenientes do ensino público e _V_ a variância para a série do total de inscritos provenientes do ensino privado. Assinale a alternativa correta para _p_ e _v/V_.\n",
    "\n",
    "A. 11.4% e 34.48\n",
    "\n",
    "B. 15% e 33.45\n",
    "\n",
    "C. 12.5% e 36.78\n",
    "\n",
    "D. 13.54% e 34.6"
   ]
  },
  {
   "cell_type": "markdown",
   "id": "09c352c0",
   "metadata": {},
   "source": [
    "**Questão 3.** Defina a nota média $N(x)$ de cada região brasileira $x$ como a média das notas $N_i$ de cada uma das $Q$ grandes áreas de conhecimento que constam da prova do ENEM 2019, isto é,\n",
    "\n",
    "$$N(x) =  \\frac{ \\sum_{i=1}^Q N_i(x)}{Q},$$\n",
    "\n",
    "e assinale a alternativa cujas regiões detém o primeiro e o segundo maiores valores de desvio padrão.\n",
    "\n",
    "A. Nordeste e Sudeste\n",
    "\n",
    "B. Sudeste e Nordeste\n",
    "\n",
    "C. Norte e Sul\n",
    "\n",
    "D. Sul e Centro-Oeste"
   ]
  }
 ],
 "metadata": {
  "kernelspec": {
   "display_name": "Python 3",
   "language": "python",
   "name": "python3"
  },
  "language_info": {
   "codemirror_mode": {
    "name": "ipython",
    "version": 3
   },
   "file_extension": ".py",
   "mimetype": "text/x-python",
   "name": "python",
   "nbconvert_exporter": "python",
   "pygments_lexer": "ipython3",
   "version": "3.8.8"
  }
 },
 "nbformat": 4,
 "nbformat_minor": 5
}