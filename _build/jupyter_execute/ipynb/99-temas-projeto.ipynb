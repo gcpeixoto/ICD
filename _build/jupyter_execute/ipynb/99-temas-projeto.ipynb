{
 "cells": [
  {
   "cell_type": "markdown",
   "id": "1882f525-203f-4111-a060-c8d170c5de5d",
   "metadata": {},
   "source": [
    "# Temas de projeto\n",
    "\n",
    "## ODS Agenda 2030\n",
    "\n",
    "- https://sdgs.un.org/goals\n",
    "\n",
    "## Proposições\n",
    "\n",
    "- Artes, entretenimento (cinema, teatro, música)\n",
    "- Clima, meio ambiente, recursos naturais\n",
    "\t- Produção de resíduos sólidos urbanos\n",
    "- Saúde, esportes, qualidade de vida\n",
    "- Agricultura, pecuária, pesca\n",
    "\t- Região do Vale do São Francisco; produção de uvas\n",
    "- Energias, transição energética\n",
    "- Indústria 4.0, transformação digital, IoT\n",
    "\t- avaliação de ciclo de vida de produtos (inventário de dados :: https://www.ecoinvent.org)\n",
    "- Economia, renda, desigualdade social, finanças, mercados\n",
    "\t- Projeto de webscrapping para puxar valor de ativos (FII, ações) por tickers e focar em rebalanceamento de carteira. \n",
    "- Direito, legislação, justiça, segurança pública, computação forense\n",
    "- Política, ética, cidadania\n",
    "- Infraestrutura, cidades inteligentes\n",
    "- Turismo, lazer\n",
    "- Geopolítica, relações internacionais, comércio exterior\n",
    "- Biotecnologia, materiais avançados\n",
    "- Gestão, administração, pessoas\n",
    "- Educação, ciência, tecnologia, inovação"
   ]
  }
 ],
 "metadata": {
  "kernelspec": {
   "display_name": "Python 3",
   "language": "python",
   "name": "python3"
  },
  "language_info": {
   "codemirror_mode": {
    "name": "ipython",
    "version": 3
   },
   "file_extension": ".py",
   "mimetype": "text/x-python",
   "name": "python",
   "nbconvert_exporter": "python",
   "pygments_lexer": "ipython3",
   "version": "3.8.8"
  }
 },
 "nbformat": 4,
 "nbformat_minor": 5
}