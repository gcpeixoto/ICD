{
 "cells": [
  {
   "cell_type": "markdown",
   "id": "ff3b2b1a-5f18-4011-ac59-5fc376585725",
   "metadata": {},
   "source": [
    "## Questionário 71 (Q71)"
   ]
  },
  {
   "cell_type": "markdown",
   "id": "98d3b5da-db23-4002-807d-2712f7c5d8fe",
   "metadata": {},
   "source": [
    "Orientações: \n",
    "\n",
    "- Registre suas respostas no questionário de mesmo nome no SIGAA.\n",
    "- O tempo de registro das respostas no questionário será de 10 minutos. Portanto, resolva primeiro as questões e depois registre-as.\n",
    "- Haverá apenas 1 (uma) tentativa de resposta.\n",
    "- Submeta seu arquivo-fonte (utilizado para resolver as questões) em formato _.ipynb_ pelo SIGAA anexando-o à Tarefa denominada \"Envio de arquivo\" correspondente ao questionário.\n",
    "\n",
    "*Nota:* o arquivo-fonte será utilizado apenas como prova de execução da tarefa. Nenhuma avaliação será feita quanto ao estilo de programação.\n",
    "\n",
    "<hr>"
   ]
  },
  {
   "cell_type": "markdown",
   "id": "95e8d91b-3bee-4bc1-ac3b-87e64ebd7e1c",
   "metadata": {},
   "source": [
    "Para responder às questões, leia o texto introdutório a seguir.\n",
    "\n",
    "\n",
    ">Oftalmologistas baseiam-se em imagens para emitir diagnósticos sobre a condição visual de seus pacientes. Uma das técnicas comumemente empregadas é a medição da curvatura da córnea. Grosso modo, a análise verifica tonalidades de cor sobre um gráfico em coordenadas polares como o apresentado na figura abaixo, à esquerda. Entretanto, a imagem completa perfaz um retângulo que contém não só o círculo colorido, mas também a área complementar externa na cor branca, como se vê também à direita. \n",
    "\n",
    "```{figure} ../figs/q/q71-0.png\n",
    "---\n",
    "width: 660px\n",
    "name: cornea\n",
    "---\n",
    "Imagens representativas de uma córnea com altas curvaturas, indicando uma ectasia. \n",
    "```\n",
    "\n",
    ">Essas cores que vemos acima são, na verdade, uma composição de tonalidades de vermelho, verde e azul, de modo que a imagem, matematicamente, é representada por um _array_ tridimensional de dimensões $I \\times J \\times 3$. Isto é, são $I$ pixels no eixo vertical (`axis=0`), são $J$ pixels no eixo horizontal (`axis=1`) e 3 canais de cor contendo, cada, valores que variam de 0 a 255. \n",
    ">\n",
    ">Ou seja, em linguagem computacional, se chamarmos esse array de `img`, o valor de `img[43,99,1]` é a tonalidade da cor \"verde\" do pixel localizado na posição `i=43` e `j=99`, onde `i` varia de `0` a `I` ao longo do eixo vertical, e `j` varia de `0` a `J` ao longo do eixo horizontal. A terceira componente da tupla de indexação determina o canal de cor: `0`, para vermelho; `1`, para verde e `2` para azul.\n",
    ">\n",
    "> O código a seguir foi utilizado para carregar o _array_ 3D da imagem anterior, bem como um _dataframe_  contendo as posições dos pixels das imagens e os valores correspondentes das tonalidades de cor.\n",
    ">```python\n",
    "># carrega array da imagem\n",
    ">img = np.load('SyntEyeKTC-106_a.npz')['arr_0']\n",
    ">\n",
    "># carrega dataframe de dados\n",
    ">col = pd.read_csv('SyntEyeKTC-106_a.csv')\n",
    ">```\n",
    ">*Obs.:* acesse os arquivos [aqui](https://github.com/gcpeixoto/ICD/tree/main/database/eyes)."
   ]
  },
  {
   "cell_type": "markdown",
   "id": "2b5ea6cc-64e5-41f5-8cb1-26ff6d2ef593",
   "metadata": {},
   "source": [
    "**Questão 1.** Considere a _linha central_ aquela que corta a imagem polar da córnea no ângulo de 0 grau (cor azul). Esta linha é formada por todos os pixels que estão enfileirados ao longo do eixo horizontal (direção _j_) com a posição no eixo vertical  fixa (direção _i_). Supondo que `imed` seja, por divisão inteira, o índice que define o \"meio\" do eixo vertical, isto é, a coordenada na direção _i_ onde é traçada a _linha central_, assinale a alternativa correta: \n",
    "\n",
    "A. `imed = 1100`\n",
    "\n",
    "B. `imed = 1250`\n",
    "\n",
    "C. `imed = 1550`\n",
    "\n",
    "D. `imed = 2000`"
   ]
  },
  {
   "cell_type": "markdown",
   "id": "4ce2572f-d792-4f38-a840-a940e09982df",
   "metadata": {},
   "source": [
    "**Questão 2.** Através do código (incompleto) abaixo, somos capazes de plotar os tons de cor em valores de 0 a 255 para cada pixel sobre a _linha central_.\n",
    "\n",
    "```python\n",
    "from seaborn import lineplot\n",
    "col_0 = col[col['x'] == imed]\n",
    "lineplot(x= ,y= ,data= )\n",
    "```\n",
    "Passando os valores corretos para os argumentos `x`, `y` e `data`, as figuras abaixo podem ser reproduzidas. \n",
    "```{figure} ../figs/q/q71-3.png\n",
    "---\n",
    "width: 850px\n",
    "name: q71-3\n",
    "---\n",
    "```\n",
    "\n",
    "Sabendo disso, marque a alternativa cuja correspondência entre figura e tons de cor aparecem na ordem correta:\n",
    "\n",
    "A. \\(a\\): vermelho, \\(b\\): azul, \\(c\\): verde.\n",
    "\n",
    "B. \\(a\\): azul, \\(b\\): vermelho, \\(c\\): verde.\n",
    "\n",
    "C. \\(a\\): verde, \\(b\\): vermelho, \\(c\\): azul.\n",
    "\n",
    "D. \\(a\\): azul, \\(b\\): verde, \\(c\\): vermelho.\n"
   ]
  },
  {
   "cell_type": "markdown",
   "id": "184ec566-6f06-4fae-8ac3-2beb778d1e94",
   "metadata": {},
   "source": [
    "**Questão 3.** Defina como `colf` o _dataframe_ obtido a partir de `col` pela aplicação de um filtro sobre as tonalidades de cor dado pela seguinte expressão:\n",
    "\n",
    ">Se $r$, $g$ e $b$ são as tonalidades de vermelho, verde e azul, respectivamente, então, em `colf` deverão constar apenas valores tais que: \n",
    ">$50 \\le r \\le 200, \\ \\ 50 \\le g \\le 200, \\ \\ 50 \\le b \\le 200$.\n",
    "\n",
    "A partir disso, use a função `jointplot` do _seaborn_ para descobrir quais são as distribuições marginais do tipo Cor 1 x Cor 2 de tonalidades de cor plotadas abaixo.\n",
    "```{figure} ../figs/q/q71-4.png\n",
    "---\n",
    "width: 850px\n",
    "name: q71-4\n",
    "---\n",
    "```\n",
    "\n",
    "\n",
    "Assinale a alternativa correta: \n",
    "\n",
    "A. \\(a\\): verde x azul, \\(b\\): vermelho x verde, \\(c\\): azul x vermelho.\n",
    "\n",
    "B. \\(a\\): verde x azul, \\(b\\): vermelho x azul, \\(c\\): verde x vermelho.\n",
    "\n",
    "C. \\(a\\): vermelho x azul, \\(b\\): vermelho x verde, \\(c\\): azul x verde.\n",
    "\n",
    "D. \\(a\\): vermelho x verde, \\(b\\): vermelho x azul, \\(c\\): azul x verde.\n"
   ]
  }
 ],
 "metadata": {
  "kernelspec": {
   "display_name": "Python 3",
   "language": "python",
   "name": "python3"
  },
  "language_info": {
   "codemirror_mode": {
    "name": "ipython",
    "version": 3
   },
   "file_extension": ".py",
   "mimetype": "text/x-python",
   "name": "python",
   "nbconvert_exporter": "python",
   "pygments_lexer": "ipython3",
   "version": "3.8.8"
  }
 },
 "nbformat": 4,
 "nbformat_minor": 5
}