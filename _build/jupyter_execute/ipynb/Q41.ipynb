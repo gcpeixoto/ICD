{
 "cells": [
  {
   "cell_type": "markdown",
   "id": "ae739765",
   "metadata": {},
   "source": [
    "## Questionário 41 (Q41)"
   ]
  },
  {
   "cell_type": "markdown",
   "id": "3f742e8d",
   "metadata": {},
   "source": [
    "Orientações: \n",
    "\n",
    "- Registre suas respostas no questionário de mesmo nome no SIGAA.\n",
    "- O tempo de registro das respostas no questionário será de 10 minutos. Portanto, resolva primeiro as questões e depois registre-as.\n",
    "- Haverá apenas 1 (uma) tentativa de resposta.\n",
    "- Submeta seu arquivo-fonte (utilizado para resolver as questões) em formato _.ipynb_ pelo SIGAA anexando-o à Tarefa denominada \"Envio de arquivo\" correspondente ao questionário.\n",
    "\n",
    "*Nota:* o arquivo-fonte será utilizado apenas como prova de execução da tarefa. Nenhuma avaliação será feita quanto ao estilo de programação.\n",
    "\n",
    "<hr>"
   ]
  },
  {
   "cell_type": "markdown",
   "id": "2568c76e",
   "metadata": {},
   "source": [
    "**Questão 1.** No _dataset_ [enem2019.xlsx](https://github.com/gcpeixoto/ICD/blob/main/database/enem2019.xlsx), estão disponíveis as notas médias por estado obtidas nas provas do ENEM 2019. A partir da série que contém a média das notas da prova de Ciências Humanas, converta os valores para inteiro, faça uma distribuição de frequências e calcule a amplitude _h_ dos intervalos de classe, se divididos uniformemente. Marque a alternativa que corresponde ao valor correto de _h_ e à classe cuja frequência é 3.\n",
    "\n",
    "A. _h_ = 8 e [499,509)\n",
    "\n",
    "B. _h_ = 10 e [499,509)\n",
    "\n",
    "C. _h_ = 9 e [509,519)\n",
    "\n",
    "D. _h_ = 10 e [509,519)"
   ]
  },
  {
   "cell_type": "markdown",
   "id": "d2fdeecf",
   "metadata": {},
   "source": [
    "<hr>\n",
    "\n",
    "**Questão 2.** Considerando a série que contém a média das notas da prova de Matemática apenas para os estados nordestinos, assinale a alternativa que corresponde ao valor médio aproximado dessas médias, a mediana e a moda, se houver.\n",
    "\n",
    "A. 504.27, 502.84, unimodal\n",
    "\n",
    "B. 505.27, 502.84, 9\n",
    "\n",
    "C. 504.27, 502.84, amodal\n",
    "\n",
    "D. 504.27, 503.84, 8"
   ]
  },
  {
   "cell_type": "markdown",
   "id": "1eacbd4b",
   "metadata": {},
   "source": [
    "<hr>\n",
    "\n",
    "**Questão 3.** Levando em conta a série que contém as médias das notas da prova de Redação apenas para os estados nordestinos, assinale a alternativa correta quanto ao quartil em que o estado da Paraíba se encontrou nesta prova.\n",
    "\n",
    "A. 4-quartil\n",
    "\n",
    "B. 3-quartil\n",
    "\n",
    "C. 2-quartil\n",
    "\n",
    "D. 1-quartil\n"
   ]
  }
 ],
 "metadata": {
  "kernelspec": {
   "display_name": "Python 3",
   "language": "python",
   "name": "python3"
  },
  "language_info": {
   "codemirror_mode": {
    "name": "ipython",
    "version": 3
   },
   "file_extension": ".py",
   "mimetype": "text/x-python",
   "name": "python",
   "nbconvert_exporter": "python",
   "pygments_lexer": "ipython3",
   "version": "3.8.8"
  }
 },
 "nbformat": 4,
 "nbformat_minor": 5
}