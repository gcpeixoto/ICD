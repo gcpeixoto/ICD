{
 "cells": [
  {
   "cell_type": "markdown",
   "id": "78e9c805-8eb2-48da-9cd0-15f72c667568",
   "metadata": {},
   "source": [
    "# Aplicação: cores PANTONE"
   ]
  },
  {
   "cell_type": "markdown",
   "id": "553a31e4-6dec-47fc-aa7d-06757011fbc8",
   "metadata": {},
   "source": [
    "## Leitura de arquivos _json_"
   ]
  },
  {
   "cell_type": "code",
   "execution_count": 1,
   "id": "53a730ab-3bed-4694-85dc-e63015a50164",
   "metadata": {},
   "outputs": [],
   "source": [
    "import os, json"
   ]
  },
  {
   "cell_type": "code",
   "execution_count": 2,
   "id": "35c6ae6b-3dc7-4dc1-afc3-4d26ea280d5f",
   "metadata": {},
   "outputs": [],
   "source": [
    "# diretório base\n",
    "base = '../database/pantone-colors/'\n",
    "\n",
    "for fi in os.listdir(base):\n",
    "    n,e = os.path.splitext(fi)\n",
    "    if e == '.json':        \n",
    "        with open(os.path.join(base,fi), 'r') as f: \n",
    "            # define variáveis dinamicamente\n",
    "            exec(f'{n} = {json.load(f)}')                       "
   ]
  },
  {
   "cell_type": "code",
   "execution_count": 3,
   "id": "b269039e-f6a0-43ad-b6b7-7727047f9ed1",
   "metadata": {},
   "outputs": [
    {
     "name": "stdout",
     "output_type": "stream",
     "text": [
      "base\t e\t f\t fi\t json\t n\t os\t pantone_coated\t pantone_metallic\t \n",
      "\n"
     ]
    }
   ],
   "source": [
    "# verifica se variáveis foram criadas\n",
    "%who"
   ]
  },
  {
   "cell_type": "markdown",
   "id": "9589477c-1407-40ee-bec8-18df2441e987",
   "metadata": {},
   "source": [
    "### Desempacotar sequencia em variáveis separadas"
   ]
  },
  {
   "cell_type": "code",
   "execution_count": 4,
   "id": "2fa4a285-4f16-4eec-ba5b-191b690e9ca0",
   "metadata": {},
   "outputs": [
    {
     "data": {
      "text/plain": [
       "1341"
      ]
     },
     "execution_count": 4,
     "metadata": {},
     "output_type": "execute_result"
    }
   ],
   "source": [
    "# no. elementos da lista\n",
    "len(pantone_coated)"
   ]
  },
  {
   "cell_type": "code",
   "execution_count": 5,
   "id": "0b9d7a92-0540-4619-bfd3-4d5b0c75a46a",
   "metadata": {},
   "outputs": [
    {
     "data": {
      "text/plain": [
       "([{'pantone': '100-c', 'hex': '#f6eb61'},\n",
       "  {'pantone': '101-c', 'hex': '#f7ea48'},\n",
       "  {'pantone': '102-c', 'hex': '#fce300'}],\n",
       " [{'pantone': '8962-c', 'hex': '#b37300'},\n",
       "  {'pantone': '8963-c', 'hex': '#bf6d10'},\n",
       "  {'pantone': '8964-c', 'hex': '#aa6526'}])"
      ]
     },
     "execution_count": 5,
     "metadata": {},
     "output_type": "execute_result"
    }
   ],
   "source": [
    "# cada elemento é um dict\n",
    "pantone_coated[0:3],pantone_metallic[-4:-1]"
   ]
  },
  {
   "cell_type": "code",
   "execution_count": 6,
   "id": "d5d91ee0-62df-477c-9ffa-2c8500d4c601",
   "metadata": {},
   "outputs": [],
   "source": [
    "# desempacotamento apenas de valores\n",
    "pname,hexcolor = pantone_coated[0].values()"
   ]
  },
  {
   "cell_type": "markdown",
   "id": "e27a786e-2d98-4264-8d99-4b9b6b6aaa0b",
   "metadata": {},
   "source": [
    "- Atualizar dicts com códigos de cores rgb"
   ]
  },
  {
   "cell_type": "code",
   "execution_count": 7,
   "id": "29c142d0-3223-4250-aad0-6506d7857c74",
   "metadata": {},
   "outputs": [],
   "source": [
    "# função para converter hex para rgb\n",
    "\n",
    "def hex2rgb(hexcolor):\n",
    "    h = hexcolor.lstrip('#')\n",
    "    rgb = tuple(int(h[i:i+2],16) for i in (0,2,4))\n",
    "    return rgb"
   ]
  },
  {
   "cell_type": "code",
   "execution_count": 8,
   "id": "89f5397c-cc6d-405f-bbf1-0c7628b87fb4",
   "metadata": {},
   "outputs": [],
   "source": [
    "# atualiza dict com rgb \n",
    "\n",
    "for c in range(len(pantone_coated)):\n",
    "    d = pantone_coated[c]\n",
    "    pname,hexcolor = d.values()\n",
    "    rgb = hex2rgb(hexcolor)    \n",
    "    pantone_coated[c].update({'rgb':rgb})\n",
    "    \n",
    "for c in range(len(pantone_metallic)):\n",
    "    d = pantone_metallic[c]\n",
    "    pname,hexcolor = d.values()\n",
    "    rgb = hex2rgb(hexcolor)    \n",
    "    pantone_metallic[c].update({'rgb':rgb})    "
   ]
  },
  {
   "cell_type": "markdown",
   "id": "01d0fbdc-c17d-410d-a4ef-a1deb6d7fcff",
   "metadata": {},
   "source": [
    "**Exercício:** Defina uma função `update_colors(clist)` que recebe um dict `clist` de cores Pantone e o atualiza para conter a chave `'rgb'`."
   ]
  },
  {
   "cell_type": "markdown",
   "id": "31168d82-94aa-483d-b26e-30427351e082",
   "metadata": {},
   "source": [
    "## Desempacotar elementos em iteráveis de comprimento arbitrário\n",
    "\n",
    "Suponha que o dict estivesse organizado de tal forma que o nome e os códigos HEX e RGB de uma certa cor estivessem sequenciados em uma tuple ou list:"
   ]
  },
  {
   "cell_type": "code",
   "execution_count": 46,
   "id": "6584276a-f324-4366-a6aa-ee883646890b",
   "metadata": {},
   "outputs": [
    {
     "data": {
      "text/plain": [
       "('100-c', '#f6eb61', (246, 235, 97))"
      ]
     },
     "execution_count": 46,
     "metadata": {},
     "output_type": "execute_result"
    }
   ],
   "source": [
    "ex = pantone_coated[0]\n",
    "ex = ex['pantone'],ex['hex'], ex['rgb']\n",
    "ex"
   ]
  },
  {
   "cell_type": "markdown",
   "id": "798c104b-c8f6-4cd6-878f-ae7cff43321a",
   "metadata": {},
   "source": [
    "O desempacotamento das cores poderia ser feito por meio de uma _expressão estrela_ (_star expression_):"
   ]
  },
  {
   "cell_type": "code",
   "execution_count": 193,
   "id": "b5fd756b-4041-4b99-ab6c-4e25b77816cf",
   "metadata": {},
   "outputs": [
    {
     "data": {
      "text/plain": [
       "['#f6eb61', (246, 235, 97)]"
      ]
     },
     "execution_count": 193,
     "metadata": {},
     "output_type": "execute_result"
    }
   ],
   "source": [
    "# desempacota por star expression e ignora primeiro item\n",
    "_,*pcolors = ex\n",
    "pcolors"
   ]
  },
  {
   "cell_type": "markdown",
   "id": "f2126ae2-8217-44d2-a121-65d9c8dda296",
   "metadata": {},
   "source": [
    "Note que usamos 2 variáveis para desempacotar uma tuple de 3 elementos. Outros casos em que _star expressions_ são úteis envolvem dados que possuem mais de um valor atribuível a um mesmo registro (p.ex.: 1 pessoa com 2 números de telefone), ou quando se quer quebrar iteráveis em comprimentos arbitrários. Por exemplo:   "
   ]
  },
  {
   "cell_type": "markdown",
   "id": "2d0639da-c7eb-46ef-8834-d5b6c813ebb4",
   "metadata": {},
   "source": [
    "```{hint}\n",
    "Use um _underscore_ (`_`) para representar uma variável que, devido ao desempacotamento, você considere \"indesejada\".\n",
    "```"
   ]
  },
  {
   "cell_type": "code",
   "execution_count": 196,
   "id": "1e6566b2-275e-408c-9cdc-a04e3618d116",
   "metadata": {},
   "outputs": [
    {
     "data": {
      "text/plain": [
       "[4, 8, 12, 16]"
      ]
     },
     "execution_count": 196,
     "metadata": {},
     "output_type": "execute_result"
    }
   ],
   "source": [
    "_,*m4,_ = [3,4,8,12,16,10]\n",
    "m4 # múltiplos de 4"
   ]
  },
  {
   "cell_type": "code",
   "execution_count": 195,
   "id": "867963fe-3326-457d-ba19-9aed9349d89e",
   "metadata": {},
   "outputs": [
    {
     "data": {
      "text/plain": [
       "[5, 10]"
      ]
     },
     "execution_count": 195,
     "metadata": {},
     "output_type": "execute_result"
    }
   ],
   "source": [
    "_,_,_,*m5 = [4,8,12,5,10]\n",
    "m5 # múltiplos de 5"
   ]
  },
  {
   "cell_type": "code",
   "execution_count": 197,
   "id": "bd5b0996-7949-44dd-af70-01fe5fa31732",
   "metadata": {},
   "outputs": [
    {
     "data": {
      "text/plain": [
       "[6, 12]"
      ]
     },
     "execution_count": 197,
     "metadata": {},
     "output_type": "execute_result"
    }
   ],
   "source": [
    "*m6,_,_ = [6,12,5,10]\n",
    "m6 # múltiplos de 6"
   ]
  },
  {
   "cell_type": "code",
   "execution_count": 51,
   "id": "a5c23bd4-7f80-48f1-adb0-38a19d45d1a1",
   "metadata": {},
   "outputs": [
    {
     "ename": "SyntaxError",
     "evalue": "two starred expressions in assignment (<ipython-input-51-7df27395c22b>, line 1)",
     "output_type": "error",
     "traceback": [
      "\u001b[0;36m  File \u001b[0;32m\"<ipython-input-51-7df27395c22b>\"\u001b[0;36m, line \u001b[0;32m1\u001b[0m\n\u001b[0;31m    *m6,*m5 = [6,12,5,10]\u001b[0m\n\u001b[0m    ^\u001b[0m\n\u001b[0;31mSyntaxError\u001b[0m\u001b[0;31m:\u001b[0m two starred expressions in assignment\n"
     ]
    }
   ],
   "source": [
    "# 2 star expressions não são permitidas\n",
    "*m6,*m5 = [6,12,5,10]"
   ]
  },
  {
   "cell_type": "markdown",
   "id": "c322bdc6-352c-4884-9878-a28fa4fb3698",
   "metadata": {},
   "source": [
    "```{note}\n",
    "Ao usar uma _star expression_, certifique-se que o número de variáveis usadas no desempacotamento é consistente com os seus objetivos.\n",
    "```"
   ]
  },
  {
   "cell_type": "markdown",
   "id": "392bfca0-0f6e-4ada-a50c-0f615f9a500e",
   "metadata": {},
   "source": [
    "## Localizar os maiores ou menores N itens em uma coleção\n",
    "\n",
    "No espaço vetorial RGB, as cores variam do vetor (0,0,0), branco, ao vetor (255,255,255), preto. Em um cubo unitário, podemos trabalhar com valores \"normalizados\". Para isso, basta dividir todos os valores nas tuplas por 255, de modo que o maior vetor seja (1,1,1). \n",
    "\n",
    "Em linhas gerais, o espaço de cores RGB é uma região do espaço tridimensional limitada definida por: \n",
    "\n",
    "$$V = \\{(r,g,b) \\ : \\ 0 \\leq r,g,b \\leq 1\\}$$\n",
    "\n",
    "Assim, vamos construir um dict com cores normalizadas para utilizarmos mais à frente."
   ]
  },
  {
   "cell_type": "code",
   "execution_count": 218,
   "id": "70704866-59b3-47e9-88e4-f2285a8a6e34",
   "metadata": {},
   "outputs": [],
   "source": [
    "# indexa cores\n",
    "c_pc = {i:c['rgb'] for i,c in enumerate(pantone_coated)}\n",
    "\n",
    "# normaliza\n",
    "for i,v in c_pc.items():\n",
    "    r,g,b = v   \n",
    "    c_pc[i] = (r/255,g/255,b/255)"
   ]
  },
  {
   "cell_type": "markdown",
   "id": "53630179-afa0-4f12-ad90-91bf904018dd",
   "metadata": {},
   "source": [
    "Suponhamos que nosso interesse seja saber quais são as _N_ maiores ou menores pigmentações de vermelho em uma fatia do dict `pantone_coated`. Vejamos duas formas de fazer isso:"
   ]
  },
  {
   "cell_type": "markdown",
   "id": "5e276af4-9f64-4c7e-8ed3-b77ffdd20338",
   "metadata": {},
   "source": [
    "- Usando `sorted`:"
   ]
  },
  {
   "cell_type": "code",
   "execution_count": 242,
   "id": "e5ff0b4d-ada3-4c44-951f-fe2f266b6768",
   "metadata": {},
   "outputs": [
    {
     "name": "stdout",
     "output_type": "stream",
     "text": [
      "[0.3058823529411765, 0.3843137254901961, 0.4392156862745098, 0.47843137254901963, 0.6392156862745098, 0.6666666666666666, 0.7176470588235294, 0.7725490196078432, 0.7764705882352941, 0.8274509803921568] \n",
      "\n",
      "[0.8392156862745098, 0.8274509803921568, 0.7764705882352941, 0.7725490196078432, 0.7176470588235294, 0.6666666666666666, 0.6392156862745098, 0.47843137254901963, 0.4392156862745098, 0.3843137254901961]\n"
     ]
    }
   ],
   "source": [
    "# pigmentações\n",
    "r = [i[0] for i in c_pc.values()][1200:1211]\n",
    "\n",
    "# 10 pigmentações\n",
    "N = 10\n",
    "\n",
    "# ordena \n",
    "r1 = sorted(r)\n",
    "\n",
    "# ordena em modo reverso\n",
    "r2 = sorted(r,reverse=True)\n",
    "\n",
    "# menores\n",
    "print(r1[:N],'\\n')\n",
    "\n",
    "# maiores\n",
    "print(r2[:N])"
   ]
  },
  {
   "cell_type": "markdown",
   "id": "f27aa5c5-2d54-4ae8-a6d8-1dec754bc40f",
   "metadata": {},
   "source": [
    "- Usando o módulo `heapq`"
   ]
  },
  {
   "cell_type": "code",
   "execution_count": 243,
   "id": "1429ce4d-c56f-4fbd-90ff-8f240a4b00ff",
   "metadata": {},
   "outputs": [
    {
     "name": "stdout",
     "output_type": "stream",
     "text": [
      "[0.3058823529411765, 0.3843137254901961, 0.4392156862745098, 0.47843137254901963, 0.6392156862745098, 0.6666666666666666, 0.7176470588235294, 0.7725490196078432, 0.7764705882352941, 0.8274509803921568] \n",
      "\n",
      "[0.8392156862745098, 0.8274509803921568, 0.7764705882352941, 0.7725490196078432, 0.7176470588235294, 0.6666666666666666, 0.6392156862745098, 0.47843137254901963, 0.4392156862745098, 0.3843137254901961]\n"
     ]
    }
   ],
   "source": [
    "import heapq \n",
    "\n",
    "# N menores\n",
    "r3 = heapq.nsmallest(N,r)\n",
    "print(r3,'\\n')\n",
    "\n",
    "# N maiores\n",
    "r4 = heapq.nlargest(N,r)\n",
    "print(r4)"
   ]
  },
  {
   "cell_type": "markdown",
   "id": "1a2c0966-d82f-4b15-ae4a-6e8acf1747e3",
   "metadata": {},
   "source": [
    "Entretanto, é útil pensar em como buscar pelas tonalidades de cor mais claras ou mais escuras ordenando-as pelos valores das pigmentações individualmente usando `sorted` e _key functions_. \n",
    "\n",
    "A seguir, usamos permutações de $(r,g,b)$ para mostrar como podemos fazer múltiplas ordenações."
   ]
  },
  {
   "cell_type": "code",
   "execution_count": 273,
   "id": "964c2dc8-3a70-41b9-85da-f2dd38c7316f",
   "metadata": {},
   "outputs": [],
   "source": [
    "from operator import itemgetter\n",
    "\n",
    "# ordena por R, depois G, então B\n",
    "sorted_rgb = sorted(c_pc.values(),key=itemgetter(0,1,2),reverse=True)\n",
    "\n",
    "# ordena por G, depois B, então R\n",
    "sorted_gbr = sorted(c_pc.values(),key=itemgetter(1,2,0),reverse=True)\n",
    "\n",
    "# ordena por B, depois R, então G\n",
    "sorted_brg = sorted(c_pc.values(),key=itemgetter(2,0,1),reverse=True)\n",
    "\n",
    "# ordena por R, depois B, então G\n",
    "sorted_rbg = sorted(c_pc.values(),key=itemgetter(0,2,1))\n",
    "\n",
    "# ordena por G, depois R, então B\n",
    "sorted_grb = sorted(c_pc.values(),key=itemgetter(1,0,2))\n",
    "\n",
    "# ordena por B, depois G, então R\n",
    "sorted_bgr = sorted(c_pc.values(),key=itemgetter(2,1,0))\n"
   ]
  },
  {
   "cell_type": "markdown",
   "id": "d0f19c8d-22eb-4c5d-b84a-c28090ca1b45",
   "metadata": {},
   "source": [
    "Agora, plotamos paletas com as _k_ primeiras cores dos dicts anteriores:"
   ]
  },
  {
   "cell_type": "code",
   "execution_count": 277,
   "id": "063d1d55-dcd0-4990-9dc6-ca382906b04b",
   "metadata": {},
   "outputs": [
    {
     "data": {
      "image/png": "[encoded data removed]",
      "text/plain": [
       "<Figure size 720x72 with 30 Axes>"
      ]
     },
     "metadata": {
      "filenames": {
       "image/png": "/Users/gustavo/Dropbox/courses/data-science/ICD/_build/jupyter_execute/ipynb/pantone-colors_34_0.png"
      },
      "needs_background": "light"
     },
     "output_type": "display_data"
    },
    {
     "data": {
      "image/png": "[encoded data removed]",
      "text/plain": [
       "<Figure size 720x72 with 30 Axes>"
      ]
     },
     "metadata": {
      "filenames": {
       "image/png": "/Users/gustavo/Dropbox/courses/data-science/ICD/_build/jupyter_execute/ipynb/pantone-colors_34_1.png"
      },
      "needs_background": "light"
     },
     "output_type": "display_data"
    },
    {
     "data": {
      "image/png": "[encoded data removed]",
      "text/plain": [
       "<Figure size 720x72 with 30 Axes>"
      ]
     },
     "metadata": {
      "filenames": {
       "image/png": "/Users/gustavo/Dropbox/courses/data-science/ICD/_build/jupyter_execute/ipynb/pantone-colors_34_2.png"
      },
      "needs_background": "light"
     },
     "output_type": "display_data"
    },
    {
     "data": {
      "image/png": "[encoded data removed]",
      "text/plain": [
       "<Figure size 720x72 with 30 Axes>"
      ]
     },
     "metadata": {
      "filenames": {
       "image/png": "/Users/gustavo/Dropbox/courses/data-science/ICD/_build/jupyter_execute/ipynb/pantone-colors_34_3.png"
      },
      "needs_background": "light"
     },
     "output_type": "display_data"
    },
    {
     "data": {
      "image/png": "[encoded data removed]",
      "text/plain": [
       "<Figure size 720x72 with 30 Axes>"
      ]
     },
     "metadata": {
      "filenames": {
       "image/png": "/Users/gustavo/Dropbox/courses/data-science/ICD/_build/jupyter_execute/ipynb/pantone-colors_34_4.png"
      },
      "needs_background": "light"
     },
     "output_type": "display_data"
    },
    {
     "data": {
      "image/png": "[encoded data removed]",
      "text/plain": [
       "<Figure size 720x72 with 30 Axes>"
      ]
     },
     "metadata": {
      "filenames": {
       "image/png": "/Users/gustavo/Dropbox/courses/data-science/ICD/_build/jupyter_execute/ipynb/pantone-colors_34_5.png"
      },
      "needs_background": "light"
     },
     "output_type": "display_data"
    }
   ],
   "source": [
    "import matplotlib.pyplot as plt\n",
    "\n",
    "def plotKColors(d,k,t):  \n",
    "    '''\n",
    "        Plota paleta simples de k primeiras cores \n",
    "        do dict d com título t.\n",
    "    '''\n",
    "    _, ax = plt.subplots(1,k,figsize=(10,1),facecolor=None)\n",
    "    for i in range(k):                 \n",
    "        ax[i].plot(0.5,0.5,'s',ms=20,c=d[i])\n",
    "        ax[i].axis('off')        \n",
    "    plt.title(t)\n",
    "        \n",
    "# k = 30        \n",
    "plotKColors(sorted_rgb,30,'RGB claro -> escuro')        \n",
    "plotKColors(sorted_gbr,30,'GBR claro -> escuro')\n",
    "plotKColors(sorted_brg,30,'BRG claro -> escuro')\n",
    "plotKColors(sorted_rbg,30,'RBG escuro -> claro')\n",
    "plotKColors(sorted_grb,30,'GRB escuro -> claro')\n",
    "plotKColors(sorted_bgr,30,'BGR escuro -> claro')"
   ]
  }
 ],
 "metadata": {
  "kernelspec": {
   "display_name": "Python 3",
   "language": "python",
   "name": "python3"
  },
  "language_info": {
   "codemirror_mode": {
    "name": "ipython",
    "version": 3
   },
   "file_extension": ".py",
   "mimetype": "text/x-python",
   "name": "python",
   "nbconvert_exporter": "python",
   "pygments_lexer": "ipython3",
   "version": "3.8.8"
  }
 },
 "nbformat": 4,
 "nbformat_minor": 5
}