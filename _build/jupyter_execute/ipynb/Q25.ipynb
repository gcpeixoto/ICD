{
 "cells": [
  {
   "cell_type": "markdown",
   "metadata": {},
   "source": [
    "## Questionário 25 (Q25)"
   ]
  },
  {
   "cell_type": "markdown",
   "metadata": {},
   "source": [
    "Orientações: \n",
    "\n",
    "- Registre suas respostas no questionário de mesmo nome no SIGAA.\n",
    "- O tempo de registro das respostas no questionário será de 10 minutos. Portanto, resolva primeiro as questões e depois registre-as.\n",
    "- Haverá apenas 1 (uma) tentativa de resposta.\n",
    "- Submeta seu arquivo-fonte (utilizado para resolver as questões) em formato _.ipynb_ pelo SIGAA anexando-o à Tarefa denominada \"Envio de arquivo\" correspondente ao questionário.\n",
    "\n",
    "*Nota:* o arquivo-fonte será utilizado apenas como prova de execução da tarefa. Nenhuma avaliação será feita quanto ao estilo de programação.\n",
    "\n",
    "<hr>"
   ]
  },
  {
   "cell_type": "markdown",
   "metadata": {},
   "source": [
    "Em sua forma completa, o fragmento de código abaixo produz a seguinte plotagem para uma família de funções $g(x;k)$ a um parâmetro $k$ através do módulo _matplotlib_. Reconstitua as partes ausentes do código para reproduzir o mesmo gráfico e responda às questões 1 e 2 a seguir.\n",
    "```{figure} ../figs/q/g-plots.png\n",
    "---\n",
    "width: 700px\n",
    "name: g(x)\n",
    "---\n",
    "Família de funções g(x;k).\n",
    "```"
   ]
  },
  {
   "cell_type": "markdown",
   "metadata": {},
   "source": [
    "```python\n",
    "import matplotlib.pyplot as plt\n",
    "from numpy import linspace\n",
    "\n",
    "M = (A, '-', '|', E, 'k', 1, 12, 2)\n",
    "N = ('c', ':', H, 'k', C, 1, 12, 2)\n",
    "O = (G, '--', B, 'r', 'g', 1, 12, 2)\n",
    "P = ('y', D,  'H', 'w', F, 1, 12, 2)        \n",
    "\n",
    "d = dict(zip([4,1,3,2],(P,M,O,N)))\n",
    "\n",
    "def p(a,b,n,k,opt):      \n",
    "    keys = ('c','ls','marker','mfc','mec','mew','ms','lw')\n",
    "    d = dict(zip(keys,opt))\n",
    "    x = linspace(a,b,n)\n",
    "    g = lambda x,k: x**k + (-1)**k*k\n",
    "    plt.plot(x, g(x,k), label=f'k={k}',**d)\n",
    "             \n",
    "plt.figure(figsize=(10,6))        \n",
    "for k,opt in d.items():\n",
    "    p(K,I,J,k,opt)\n",
    "    \n",
    "plt.legend(loc='center left', ncol=2,fontsize=14)\n",
    "plt.xlabel('$x$',fontsize=14); plt.ylabel('$g(x)$',fontsize=14)\n",
    "plt.title('g(x) = $x^k + (-1)^kk, \\ \\ k = 1,2,3,4$',fontsize=14);\n",
    "plt.grid(axis='y')\n",
    "```"
   ]
  },
  {
   "cell_type": "markdown",
   "metadata": {},
   "source": [
    "**Questão 1:** Marque a alternativa que contém os valores corretos para as variáveis `A`, `B`, `C`, ... , `H`, nesta ordem.\n",
    "\n",
    "A. `'*'`, `'s'`, `'-.'`, `'k'`, `'+'`, `'b'`, `'a'`, `'<'` \n",
    "\n",
    "B. `'#fefefe'`, `'*'`, `'r'`, `':'`, `'b'`, `'k'`, `'g'`, `'<'` \n",
    "\n",
    "C. `'g`, `'s'`, `'y'`, `'-.'`, `'k'`, `'('`, `'c'`, `'v'` \n",
    "\n",
    "D. `'m'`, `'*'`, `'r'`, `'-.'`, `'y'`, `'b'`, `'b'`, `'<'` "
   ]
  },
  {
   "cell_type": "markdown",
   "metadata": {},
   "source": [
    "**Questão 2:** Marque a alternativa correta:\n",
    "\n",
    "A. `I, J, K = 1., 10, 0.`\n",
    "\n",
    "B. `I, J, K = 0., 10.0, 11.`\n",
    "\n",
    "C. `I, J, K = 1., 11, 0.`\n",
    "\n",
    "D. `I, J, K = -1., 1, 10`"
   ]
  },
  {
   "cell_type": "markdown",
   "metadata": {},
   "source": [
    "<hr>\n",
    "\n",
    "**Questão 3:** A energia cinética $K$ de uma partícula de massa $m$ que se move com velocidade dada por um vetor $\\vec{v}$ pode ser calculada como:\n",
    "\n",
    "$$K = m\\dfrac{\\langle \\vec{v}, \\vec{v}\\rangle}{2}.$$\n",
    "\n",
    "\n",
    "Determine a variação de energia cinética $\\Delta K = K_B - K_A$ de uma partícula de pó químico que se moveu do ponto A para o ponto B sabendo que sua massa é de 0.004 kg e que a sua velocidade em A e em B, eram, respectivamente, dadas pelos vetores:\n",
    "\n",
    "$$\\vec{v}_A = 10\\vec{i} - 2.5\\vec{j} + 0.5\\vec{k}\n",
    "\\\\\n",
    "\\vec{v}_B = 2.5\\vec{i} -1.1\\vec{j} + 0\\vec{k}$$\n",
    "\n",
    "Calcule a norma Euclidiana aproximada $V_B$ de $\\vec{v}_B$ e assinale a alternativa correta:\n",
    "\n",
    " A. $V_B \\approx 2.731$, $\\Delta K < 0$\n",
    " \n",
    " B. $V_B \\approx 3.123$, $\\Delta K < 0$\n",
    " \n",
    " C. $V_B \\approx 3.123$, $\\Delta K > 0$\n",
    " \n",
    " D. $V_B \\approx -1.210$, $\\Delta K > 0$"
   ]
  }
 ],
 "metadata": {
  "kernelspec": {
   "display_name": "Python 3",
   "language": "python",
   "name": "python3"
  },
  "language_info": {
   "codemirror_mode": {
    "name": "ipython",
    "version": 3
   },
   "file_extension": ".py",
   "mimetype": "text/x-python",
   "name": "python",
   "nbconvert_exporter": "python",
   "pygments_lexer": "ipython3",
   "version": "3.8.8"
  }
 },
 "nbformat": 4,
 "nbformat_minor": 4
}