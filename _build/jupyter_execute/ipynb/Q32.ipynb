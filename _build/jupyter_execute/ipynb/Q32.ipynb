{
 "cells": [
  {
   "cell_type": "markdown",
   "id": "61de8ae9",
   "metadata": {},
   "source": [
    "## Questionário 32 (Q32)"
   ]
  },
  {
   "cell_type": "markdown",
   "id": "48192f3e",
   "metadata": {},
   "source": [
    "Orientações: \n",
    "\n",
    "- Registre suas respostas no questionário de mesmo nome no SIGAA.\n",
    "- O tempo de registro das respostas no questionário será de 10 minutos. Portanto, resolva primeiro as questões e depois registre-as.\n",
    "- Haverá apenas 1 (uma) tentativa de resposta.\n",
    "- Submeta seu arquivo-fonte (utilizado para resolver as questões) em formato _.ipynb_ pelo SIGAA anexando-o à Tarefa denominada \"Envio de arquivo\" correspondente ao questionário.\n",
    "\n",
    "*Nota:* o arquivo-fonte será utilizado apenas como prova de execução da tarefa. Nenhuma avaliação será feita quanto ao estilo de programação.\n",
    "\n",
    "<hr>"
   ]
  },
  {
   "cell_type": "markdown",
   "id": "ec591ee7",
   "metadata": {},
   "source": [
    "**Questão 1.** Marque a alternativa cujas funções são as utilizadas para imprimir as 4 primeiras e as 6 últimas linhas, respectivamente, de um _DataFrame_ `d`, tal que  `len(d) = 20`.\n",
    "\n",
    "A. `df.head(6)`, `df.tail(4)`\n",
    "\n",
    "B. `df.head(-6)`, `df.tail(4)`\n",
    "\n",
    "C. `df.head(-16)`, `df.tail(6)`\n",
    "\n",
    "D. `df.tail(-6)`, `df.tail(4)`"
   ]
  },
  {
   "cell_type": "markdown",
   "id": "c60b536c",
   "metadata": {},
   "source": [
    "<hr>\n",
    "\n",
    "**Questão 2** No dia 01/08/2021, três veículos saíram de João Pessoa - PB (JPA) com destino a três cidades de outros estados com distâncias (em quilômetros) e durações de viagem (em horas) em relação à origem dadas pelo quadro abaixo. \n",
    "\n",
    "| Veículo | Estado    |Distância de JPA (km) | Duração (h) |\n",
    "|--------:|:----------|-----------------:|:-------------|\n",
    "|  VW Gol | Bahia     |              848 | 7,5          |\n",
    "|  BMW Z4 | Ceará     |              728 | 10           |\n",
    "|Chery QQ | Sergipe   |              640 | 9,5          |\n",
    "\n",
    "Tendo chegado ao destino, verificou-se por meio de um sistema de monitoramento que às 13:45h desse mesmo dia, todos os veículos haviam registrado no velocímetro uma velocidade igual à velocidade média calculada para o percurso. Entretanto, a partir desse instante, o sistema mostrou que os veículos haviam acelerado de tal forma que, às 13:47h, a velocidade média havia aumentado em 12% de seu valor. \n",
    "\n",
    "Construa um _DataFrame_ `df` que calcule as velocidades e acelerações dos veículos – em unidades de metro e segundo – nos instantes de interesse e defina as variáveis a seguir:\n",
    "\n",
    "- `a = df.loc['VW Gol']['Vel. inicial (m/s)']`\n",
    "\n",
    "- `b = df.loc['BMW Z4']['Vel. final (m/s)']`\n",
    "\n",
    "- `c = df.loc['Chery QQ']['Aceleração (m/s2)']`\n",
    "\n",
    "Então, assinale a alternativa que corresponde à tupla `(a,b,c)`, com aproximação de duas casas decimais. \n",
    "\n",
    "A. (10.12, 20.20, 0.01)\n",
    "\n",
    "B. (18.71, 20.96, 0.03)\n",
    "\n",
    "C. (20.22, 22.65, 0.02)\n",
    "\n",
    "D. (31.41, 22.65, 0.02)"
   ]
  },
  {
   "cell_type": "markdown",
   "id": "185b1f2a",
   "metadata": {},
   "source": [
    "<hr>\n",
    "\n",
    "**Questão 3.** O _dataset_ encontrado no arquivo [flights.csv](https://github.com/gcpeixoto/ICD/blob/main/database/flights.csv?raw=true) (_Box & Jenkins arline data_) registra a quantidade de passageiros transportados por uma companhia aérea entre 1949 e 1960.\n",
    "\n",
    "Utilizando agrupamentos, determine: \n",
    "\n",
    "- `y`: o ano em que o maior número de passageiros foi transportado;\n",
    "- `p`: o total de passageiros transportados no ano `y`;\n",
    "- `m1, m2, m3`: os 3 meses que, na média, transportaram os maiores números de passageiros ao longo desses anos (TOP 3);\n",
    "\n",
    "Assinale a alternativa que corresponde aos valores corretos dessas variáveis na seguinte ordem: `y`, `p`, `(m1,m2,m3)`."
   ]
  },
  {
   "cell_type": "markdown",
   "id": "6b612ecd-ac43-40e0-b676-00cc1f9556f9",
   "metadata": {},
   "source": [
    "A. 1957, 4421, (Jul, Ago, Set)\n",
    "\n",
    "B. 1960, 5714, (Jul, Ago, Jun)\n",
    "\n",
    "C. 1960, 5714, (Nov, Fev, Jan)\n",
    "\n",
    "D. 1951, 2042, (Ago, Set, Out)"
   ]
  }
 ],
 "metadata": {
  "kernelspec": {
   "display_name": "Python 3",
   "language": "python",
   "name": "python3"
  },
  "language_info": {
   "codemirror_mode": {
    "name": "ipython",
    "version": 3
   },
   "file_extension": ".py",
   "mimetype": "text/x-python",
   "name": "python",
   "nbconvert_exporter": "python",
   "pygments_lexer": "ipython3",
   "version": "3.8.8"
  }
 },
 "nbformat": 4,
 "nbformat_minor": 5
}