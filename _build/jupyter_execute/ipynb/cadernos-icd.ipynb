{
 "cells": [
  {
   "cell_type": "markdown",
   "id": "1aacf95b-e9bb-46d8-bd6d-9563407c3036",
   "metadata": {},
   "source": [
    "# Cadernos de ICD"
   ]
  },
  {
   "cell_type": "markdown",
   "id": "0cb63303-c41c-4b5d-964b-d50db5c7259b",
   "metadata": {},
   "source": [
    "O projeto _Cadernos de ICD_ é uma iniciativa que tem por objetivo a produção textual técnica no âmbito da disciplina de _Introdução à Ciência de Dados_.\n",
    "\n",
    "Como parte do processo de avaliação, cada aluno(a) matriculado(a) na disciplina é estimulado(a) a escrever mini-artigos de até 2 páginas ao longo do semestre. \n",
    "\n",
    "Depois de avaliados e adequados à formatação padrão, os mini-artigos são arquivados em um repositório compartilhado para consulta futura por novos alunos e interessados. \n",
    "\n",
    "Acesse o repositório clicando [aqui](https://drive.google.com/drive/folders/1r_DRFk2gFgq3Ordyw29myG9bC_drxfGD?usp=sharing).\n",
    "\n",
    "Os mini-artigos prezam pela iniciativa _Open Access_ e possuem atribuição _Creative Commons_."
   ]
  }
 ],
 "metadata": {
  "kernelspec": {
   "display_name": "Python 3",
   "language": "python",
   "name": "python3"
  },
  "language_info": {
   "codemirror_mode": {
    "name": "ipython",
    "version": 3
   },
   "file_extension": ".py",
   "mimetype": "text/x-python",
   "name": "python",
   "nbconvert_exporter": "python",
   "pygments_lexer": "ipython3",
   "version": "3.8.8"
  }
 },
 "nbformat": 4,
 "nbformat_minor": 5
}