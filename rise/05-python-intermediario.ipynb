{
 "cells": [
  {
   "cell_type": "markdown",
   "id": "f7366e66-ebcb-4cd3-ae49-8be987812d48",
   "metadata": {
    "slideshow": {
     "slide_type": "slide"
    }
   },
   "source": [
    "# Python Intermediário: Parte 1"
   ]
  },
  {
   "cell_type": "markdown",
   "id": "d50124a5",
   "metadata": {
    "slideshow": {
     "slide_type": "slide"
    }
   },
   "source": [
    "## Visão geral sobre sequencias\n",
    "\n",
    "\n",
    "Sequencias podem ser classificadas como: \n",
    "\n",
    "- _Sequências contêinerizadas_ (_container sequences_): guardam referências aos objetos que elas contêm, que podem ser de qualquer tipo. Exemplos são: `list`, `tuple` e `collections.deque`.\n",
    "\n",
    "- _Sequências rasas_ (_flat sequences_): armazenam fisicamente o valor de cada item dentro de seu próprio espaço na memória, e não como objetos distintos. Exemplos são: `str`,`bytes` e `array.array`."
   ]
  },
  {
   "cell_type": "markdown",
   "id": "b84cee48-881a-4677-8e40-19426b317771",
   "metadata": {
    "slideshow": {
     "slide_type": "subslide"
    }
   },
   "source": [
    "Outra forma de agrupar tipos de sequências é por mutabilidade: \n",
    "\n",
    "- _Sequências mutáveis_: podem ter seus elementos alterados. Exemplos: `list`,`bytearray`,`memoryview`.\n",
    "\n",
    "- _Sequências imutáveis_: seus elementos são inalteráveis. Exemplos: `tuple`,`str`,`bytes`."
   ]
  },
  {
   "cell_type": "markdown",
   "id": "8357db3b-ca00-4b13-bd52-d5da1ed860f8",
   "metadata": {
    "slideshow": {
     "slide_type": "subslide"
    }
   },
   "source": [
    "## Tuplas \n",
    "\n",
    "Tuplas são sequências imutáveis de comprimento fixo."
   ]
  },
  {
   "cell_type": "markdown",
   "id": "872938c0-34da-42a7-b939-025a1ec3798d",
   "metadata": {
    "slideshow": {
     "slide_type": "subslide"
    }
   },
   "source": [
    "**Exemplo:** Crie uma tupla com 4 elementos e desempacote-a em 4 variáveis."
   ]
  },
  {
   "cell_type": "code",
   "execution_count": 274,
   "id": "cd4c1f37-b763-4b8f-a775-c9165b948f4a",
   "metadata": {
    "slideshow": {
     "slide_type": "fragment"
    }
   },
   "outputs": [
    {
     "name": "stdout",
     "output_type": "stream",
     "text": [
      "(-1, 'a', 12.23, '$')\n",
      "(-1, 'a', 12.23, '$')\n"
     ]
    }
   ],
   "source": [
    "tup1 = -1,'a',12.23,'$'\n",
    "a,b,c,d = tup1\n",
    "\n",
    "tup2 = (-1,'a',12.23,'$')\n",
    "e,f,g,h = tup2\n",
    "\n",
    "print(tup1)\n",
    "print(tup2) "
   ]
  },
  {
   "cell_type": "markdown",
   "id": "95a869aa-f1d3-407f-8a08-d2a55aa15555",
   "metadata": {
    "slideshow": {
     "slide_type": "subslide"
    }
   },
   "source": [
    "**Exemplo:** Crie uma tupla a partir de objetos existentes."
   ]
  },
  {
   "cell_type": "code",
   "execution_count": 249,
   "id": "c615ba73-9c95-4bde-a9f8-3438bb50ff5d",
   "metadata": {
    "slideshow": {
     "slide_type": "fragment"
    }
   },
   "outputs": [
    {
     "data": {
      "text/plain": [
       "(-1, 'a', 12.23, '$')"
      ]
     },
     "execution_count": 249,
     "metadata": {},
     "output_type": "execute_result"
    }
   ],
   "source": [
    "tuple(tup1)"
   ]
  },
  {
   "cell_type": "markdown",
   "id": "8dda6b4c-fe68-4041-9cae-6114eb2d4408",
   "metadata": {
    "slideshow": {
     "slide_type": "subslide"
    }
   },
   "source": [
    "**Exemplo:** Construa tuplas aninhadas."
   ]
  },
  {
   "cell_type": "code",
   "execution_count": 251,
   "id": "e421cae9-be9f-4a86-bd9b-38fd5bf7986b",
   "metadata": {
    "slideshow": {
     "slide_type": "fragment"
    }
   },
   "outputs": [
    {
     "data": {
      "text/plain": [
       "((0, 2, 4, 6, 8), (1, 3, 5, 7, 9))"
      ]
     },
     "execution_count": 251,
     "metadata": {},
     "output_type": "execute_result"
    }
   ],
   "source": [
    "nums = (0,2,4,6,8),(1,3,5,7,9)\n",
    "nums"
   ]
  },
  {
   "cell_type": "markdown",
   "id": "297f640c-dde7-4d71-9944-b236240f243d",
   "metadata": {
    "slideshow": {
     "slide_type": "subslide"
    }
   },
   "source": [
    "**Exemplo:** Altere elementos de uma tupla _in-place_."
   ]
  },
  {
   "cell_type": "code",
   "execution_count": 252,
   "id": "804df71d-28e0-49f4-a401-01f09b18195f",
   "metadata": {
    "slideshow": {
     "slide_type": "fragment"
    }
   },
   "outputs": [
    {
     "ename": "TypeError",
     "evalue": "'tuple' object does not support item assignment",
     "output_type": "error",
     "traceback": [
      "\u001b[0;31m---------------------------------------------------------------------------\u001b[0m",
      "\u001b[0;31mTypeError\u001b[0m                                 Traceback (most recent call last)",
      "\u001b[0;32m<ipython-input-252-cca77f8062f1>\u001b[0m in \u001b[0;36m<module>\u001b[0;34m\u001b[0m\n\u001b[1;32m      2\u001b[0m \u001b[0;34m\u001b[0m\u001b[0m\n\u001b[1;32m      3\u001b[0m \u001b[0;31m# imutabilidade!\u001b[0m\u001b[0;34m\u001b[0m\u001b[0;34m\u001b[0m\u001b[0;34m\u001b[0m\u001b[0m\n\u001b[0;32m----> 4\u001b[0;31m \u001b[0mt\u001b[0m\u001b[0;34m[\u001b[0m\u001b[0;36m2\u001b[0m\u001b[0;34m]\u001b[0m \u001b[0;34m=\u001b[0m \u001b[0;32mTrue\u001b[0m\u001b[0;34m\u001b[0m\u001b[0;34m\u001b[0m\u001b[0m\n\u001b[0m",
      "\u001b[0;31mTypeError\u001b[0m: 'tuple' object does not support item assignment"
     ]
    }
   ],
   "source": [
    "t = tuple(['a',[1,2,3],False])\n",
    "\n",
    "# imutabilidade!\n",
    "t[2] = True"
   ]
  },
  {
   "cell_type": "code",
   "execution_count": 14,
   "id": "80387398-a8a9-4a8a-acf1-e21f79a2b183",
   "metadata": {
    "slideshow": {
     "slide_type": "subslide"
    }
   },
   "outputs": [
    {
     "data": {
      "text/plain": [
       "('a', [1, 2, 3, 4], False)"
      ]
     },
     "execution_count": 14,
     "metadata": {},
     "output_type": "execute_result"
    }
   ],
   "source": [
    "# alteração in-place\n",
    "t[1].append(4)   \n",
    "t "
   ]
  },
  {
   "cell_type": "markdown",
   "id": "1bf2ec7b-6798-4d52-b93c-3d9fe3600c5f",
   "metadata": {
    "slideshow": {
     "slide_type": "subslide"
    }
   },
   "source": [
    "**Exemplo:** Crie tuplas por concatenação."
   ]
  },
  {
   "cell_type": "code",
   "execution_count": 256,
   "id": "4fc8a669-2ed4-44bb-a3ed-9a98659484b1",
   "metadata": {
    "slideshow": {
     "slide_type": "fragment"
    }
   },
   "outputs": [
    {
     "data": {
      "text/plain": [
       "('a', 1, 'b', 2, 'c', 3)"
      ]
     },
     "execution_count": 256,
     "metadata": {},
     "output_type": "execute_result"
    }
   ],
   "source": [
    "('a',1) + ('b',2) + ('c',3)"
   ]
  },
  {
   "cell_type": "code",
   "execution_count": 263,
   "id": "13381bc5-9b9c-4cea-b7c1-a7c4d85ea6b9",
   "metadata": {
    "slideshow": {
     "slide_type": "fragment"
    }
   },
   "outputs": [
    {
     "data": {
      "text/plain": [
       "('+', '-', '+', '-', '+', '-')"
      ]
     },
     "execution_count": 263,
     "metadata": {},
     "output_type": "execute_result"
    }
   ],
   "source": [
    "('+','-')*3"
   ]
  },
  {
   "cell_type": "markdown",
   "id": "0045b3f4-519a-4a1e-bd04-bd724a14cdf3",
   "metadata": {
    "slideshow": {
     "slide_type": "subslide"
    }
   },
   "source": [
    "**Exemplo:** Imprima tabela de valores usando desempacotamento e iteração."
   ]
  },
  {
   "cell_type": "code",
   "execution_count": 267,
   "id": "1e4bb20a-ac46-4933-8fc8-a09eababb16f",
   "metadata": {
    "slideshow": {
     "slide_type": "fragment"
    }
   },
   "outputs": [
    {
     "name": "stdout",
     "output_type": "stream",
     "text": [
      "a=1, b=2, c=3\n",
      "a=4, b=5, c=6\n",
      "a=7, b=8, c=9\n"
     ]
    }
   ],
   "source": [
    "s = [(1,2,3),(4,5,6),(7,8,9)]\n",
    "s\n",
    "\n",
    "for (m,n,p) in s:\n",
    "    print('a={0}, b={1}, c={2}'.format(m,n,p))"
   ]
  },
  {
   "cell_type": "markdown",
   "id": "75bafc56-1d57-4ff6-bbc1-1edea57dfb6c",
   "metadata": {
    "slideshow": {
     "slide_type": "subslide"
    }
   },
   "source": [
    "**Exemplo:** Desempacote elementos em iteráveis de comprimento arbitrário."
   ]
  },
  {
   "cell_type": "code",
   "execution_count": 283,
   "id": "3542fc0a-2ed6-494e-89c2-57580a68ce2e",
   "metadata": {
    "slideshow": {
     "slide_type": "fragment"
    }
   },
   "outputs": [
    {
     "data": {
      "text/plain": [
       "['a', 12.23, '$']"
      ]
     },
     "execution_count": 283,
     "metadata": {},
     "output_type": "execute_result"
    }
   ],
   "source": [
    "# desempacota por star expression e ignora primeiro item\n",
    "_,*restante = tup1\n",
    "restante"
   ]
  },
  {
   "cell_type": "markdown",
   "id": "d561cf5a-8cfa-4a58-87a0-277f8a66fb78",
   "metadata": {
    "slideshow": {
     "slide_type": "subslide"
    }
   },
   "source": [
    "Comentário: \n",
    "\n",
    "- Outros casos em que _star expressions_ são úteis envolvem dados que possuem mais de um valor atribuível a um mesmo registro (p.ex.: 1 pessoa com 2 números de telefone), ou quando se quer quebrar iteráveis em comprimentos arbitrários. \n",
    "\n",
    "- _Star expressions_ produzem listas.\n",
    "\n",
    "Por exemplo:   "
   ]
  },
  {
   "cell_type": "code",
   "execution_count": 292,
   "id": "aaa86a2e-77d6-4c95-bb41-b3ab1add6751",
   "metadata": {
    "slideshow": {
     "slide_type": "subslide"
    }
   },
   "outputs": [
    {
     "data": {
      "text/plain": [
       "[4, 8, 12, 16]"
      ]
     },
     "execution_count": 292,
     "metadata": {},
     "output_type": "execute_result"
    }
   ],
   "source": [
    "_,*m4,_ = (3,4,8,12,16,10)\n",
    "m4 # múltiplos de 4"
   ]
  },
  {
   "cell_type": "code",
   "execution_count": 302,
   "id": "469406e1-f325-40bf-a69b-8963e432d37c",
   "metadata": {
    "slideshow": {
     "slide_type": "fragment"
    }
   },
   "outputs": [
    {
     "data": {
      "text/plain": [
       "[5, 10]"
      ]
     },
     "execution_count": 302,
     "metadata": {},
     "output_type": "execute_result"
    }
   ],
   "source": [
    "_,_,_,*m5 = (4,8,12,5,10 )\n",
    "m5 # múltiplos de 5\n"
   ]
  },
  {
   "cell_type": "code",
   "execution_count": 299,
   "id": "5b274a39-76c6-48e1-9542-5f67be5ee0c0",
   "metadata": {
    "slideshow": {
     "slide_type": "fragment"
    }
   },
   "outputs": [
    {
     "data": {
      "text/plain": [
       "[6, 12]"
      ]
     },
     "execution_count": 299,
     "metadata": {},
     "output_type": "execute_result"
    }
   ],
   "source": [
    "*m6,_,_ = (6,12,5,10)\n",
    "m6 # múltiplos de 6"
   ]
  },
  {
   "cell_type": "code",
   "execution_count": 301,
   "id": "92b0aab1-8ebd-4097-8c90-6194f093835b",
   "metadata": {
    "slideshow": {
     "slide_type": "subslide"
    }
   },
   "outputs": [
    {
     "ename": "SyntaxError",
     "evalue": "multiple starred expressions in assignment (<ipython-input-301-5c1c52953256>, line 2)",
     "output_type": "error",
     "traceback": [
      "\u001b[0;36m  File \u001b[0;32m\"<ipython-input-301-5c1c52953256>\"\u001b[0;36m, line \u001b[0;32m2\u001b[0m\n\u001b[0;31m    *m6,*m5 = (6,12,5,10)\u001b[0m\n\u001b[0m    ^\u001b[0m\n\u001b[0;31mSyntaxError\u001b[0m\u001b[0;31m:\u001b[0m multiple starred expressions in assignment\n"
     ]
    }
   ],
   "source": [
    "# 2 star expressions não são permitidas\n",
    "*m6,*m5 = (6,12,5,10)"
   ]
  },
  {
   "cell_type": "markdown",
   "id": "a96f8153-879b-417a-afe5-1bf5c50dba4d",
   "metadata": {
    "slideshow": {
     "slide_type": "subslide"
    }
   },
   "source": [
    ">Ao usar uma _star expression_, certifique-se que o número de variáveis usadas no desempacotamento é consistente com os seus objetivos."
   ]
  },
  {
   "cell_type": "markdown",
   "id": "52bfea43-998d-4955-9ddb-d04aa27c7960",
   "metadata": {
    "slideshow": {
     "slide_type": "subslide"
    }
   },
   "source": [
    "### Métodos de tupla\n",
    "\n",
    "Métodos são funções atribuídas a alguns objetos. Embora tuplas sejam imutáveis, elas possuem métodos bastante úteis. Aqui, consideraremos dois:\n",
    "\n",
    "- `count`: conta quantas vezes um dado valor aparece na tupla.\n",
    "- `index`: localiza o índice de um valor dado."
   ]
  },
  {
   "cell_type": "markdown",
   "id": "3c3b49d0-c060-4a68-aa67-4387b0d5c3f8",
   "metadata": {
    "slideshow": {
     "slide_type": "subslide"
    }
   },
   "source": [
    "**Exemplo:** Contando valores em tupla."
   ]
  },
  {
   "cell_type": "code",
   "execution_count": 306,
   "id": "59bc97f9-d56a-4421-97c8-a38b753253a6",
   "metadata": {
    "slideshow": {
     "slide_type": "fragment"
    }
   },
   "outputs": [
    {
     "name": "stdout",
     "output_type": "stream",
     "text": [
      "0\n",
      "8\n",
      "4\n"
     ]
    }
   ],
   "source": [
    "tupla = (4,3,2,1,1,2,3,4,2,2,2,3,3,3,1,3,1,2,3,4,2,1,3,4,2,2)\n",
    "\n",
    "print(tupla.count(0))\n",
    "print(tupla.count(3))\n",
    "print(tupla.count(4))"
   ]
  },
  {
   "cell_type": "markdown",
   "id": "960136dc-501d-418b-85f1-08c3da913122",
   "metadata": {
    "slideshow": {
     "slide_type": "subslide"
    }
   },
   "source": [
    "**Exemplo:** Localizando posição."
   ]
  },
  {
   "cell_type": "code",
   "execution_count": 307,
   "id": "e229fc40-ef92-4c60-a8c1-219f369c8e5b",
   "metadata": {
    "slideshow": {
     "slide_type": "fragment"
    }
   },
   "outputs": [
    {
     "data": {
      "text/plain": [
       "1"
      ]
     },
     "execution_count": 307,
     "metadata": {},
     "output_type": "execute_result"
    }
   ],
   "source": [
    "tupla.index(3)"
   ]
  },
  {
   "cell_type": "markdown",
   "id": "de6d4a0a-71d6-48fd-9cdd-70c09e037a6c",
   "metadata": {
    "slideshow": {
     "slide_type": "subslide"
    }
   },
   "source": [
    "### _Swap_ de variáveis\n",
    "\n",
    "O modo Pythônico de realizar uma troca de variáveis (_swap_) é o seguinte:"
   ]
  },
  {
   "cell_type": "code",
   "execution_count": 309,
   "id": "d9f52071-a28c-4fc4-b8f1-53db7e8ef2fb",
   "metadata": {
    "slideshow": {
     "slide_type": "fragment"
    }
   },
   "outputs": [
    {
     "data": {
      "text/plain": [
       "(2, 1)"
      ]
     },
     "execution_count": 309,
     "metadata": {},
     "output_type": "execute_result"
    }
   ],
   "source": [
    "x,y = 1,2\n",
    "y,x = x,y\n",
    "x,y"
   ]
  },
  {
   "cell_type": "markdown",
   "id": "aa0b3db4-700e-469e-8ce8-99b91afcb303",
   "metadata": {
    "slideshow": {
     "slide_type": "subslide"
    }
   },
   "source": [
    "### Tuplas como registros\n",
    "\n",
    "Tuplas servem para armazenar registros: cada item na tupla é o dado de um campo e a posição do item dá o significado. "
   ]
  },
  {
   "cell_type": "markdown",
   "id": "bb6c9169-29fa-4792-9d42-e1aa57c410a1",
   "metadata": {
    "slideshow": {
     "slide_type": "subslide"
    }
   },
   "source": [
    "**Exemplo:** Tuplas como registros. "
   ]
  },
  {
   "cell_type": "code",
   "execution_count": 319,
   "id": "93091d1a-ee50-4e29-a907-6620ca6a715f",
   "metadata": {
    "slideshow": {
     "slide_type": "fragment"
    }
   },
   "outputs": [
    {
     "name": "stdout",
     "output_type": "stream",
     "text": [
      "Em 1991, o Brasil possuía 294131 habitantes indígenas.\n",
      "Em 2000, o Brasil possuía 734127 habitantes indígenas.\n",
      "Em 2010, o Brasil possuía 817963 habitantes indígenas.\n"
     ]
    }
   ],
   "source": [
    "# latitute e longitude da Torre Eiffel\n",
    "eiffel_ll = (48.85844772530444, 2.2948031631859886)\n",
    "\n",
    "# capitais do mundo\n",
    "caps = [('Afeganistão','Cabul','Ásia'),\n",
    "        ('Barbados','Bridgetown','América'),\n",
    "        ('Chade','Jamena','África')]\n",
    "\n",
    "# população indígena no Brasil por decênio\n",
    "popind = [(1991,294131),(2000,734127),(2010,817963)]\n",
    "\n",
    "for a,p in popind:\n",
    "    print(f'Em {a}, o Brasil possuía {p} habitantes indígenas.')"
   ]
  },
  {
   "cell_type": "code",
   "execution_count": 321,
   "id": "2f94eeef-2712-47d1-9fa7-b96b16cdda5a",
   "metadata": {
    "slideshow": {
     "slide_type": "subslide"
    }
   },
   "outputs": [
    {
     "name": "stdout",
     "output_type": "stream",
     "text": [
      "PAÍS           | CAPITAL        | CONTINENTE    \n",
      "--------------------------------------------\n",
      "Afeganistão    | Cabul          | Ásia          \n",
      "Barbados       | Bridgetown     | América       \n",
      "Chade          | Jamena         | África        \n"
     ]
    }
   ],
   "source": [
    "print('{:14} | {:14} | {:14}'.format('PAÍS','CAPITAL','CONTINENTE'))\n",
    "print('-'*(14*3+2))\n",
    "fmt = '{:14} | {:14} | {:14}' \n",
    "for pais, cap, cont in caps:\n",
    "    print(fmt.format(pais,cap,cont))"
   ]
  },
  {
   "cell_type": "markdown",
   "id": "37117309-53b1-4a1c-aad7-4ff4290cac64",
   "metadata": {
    "slideshow": {
     "slide_type": "subslide"
    }
   },
   "source": [
    "Comentários: \n",
    "\n",
    "- Neste exemplo, simulamos uma tabela usando um formato-base e criamos uma linha de cabeçalho por concatenação de string."
   ]
  },
  {
   "cell_type": "markdown",
   "id": "99e75a7f-dd62-42fa-ab1e-82e816cf6e9e",
   "metadata": {
    "slideshow": {
     "slide_type": "subslide"
    }
   },
   "source": [
    "## Dicionários \n",
    "\n",
    "Um dicionário (_dict_) é uma estrutura conhecida como _tabela hash_ ou _array associativo_. É uma coleção de tamanho flexível composta de pares do tipo _chave:valor_. Criamos um `dict` por diversas formas. A mais simples é usar chaves e pares explícitos."
   ]
  },
  {
   "cell_type": "code",
   "execution_count": 322,
   "id": "2007c10d-efbe-4e5c-ac2a-4d8746ab66ac",
   "metadata": {
    "slideshow": {
     "slide_type": "subslide"
    }
   },
   "outputs": [
    {
     "data": {
      "text/plain": [
       "{}"
      ]
     },
     "execution_count": 322,
     "metadata": {},
     "output_type": "execute_result"
    }
   ],
   "source": [
    "d = {} # dict vazio\n",
    "d"
   ]
  },
  {
   "cell_type": "markdown",
   "id": "795303f5-b495-4076-b1c4-dc6b92054448",
   "metadata": {
    "slideshow": {
     "slide_type": "subslide"
    }
   },
   "source": [
    "Os pares chave-valor incorporam quaisquer tipos de dados."
   ]
  },
  {
   "cell_type": "code",
   "execution_count": 328,
   "id": "7e2290b8-f1dc-492a-8d85-13108fee8126",
   "metadata": {
    "slideshow": {
     "slide_type": "fragment"
    }
   },
   "outputs": [
    {
     "data": {
      "text/plain": [
       "{'par': [0, 2, 4, 6, 8],\n",
       " 'ímpar': [1, 3, 5, 7, 9],\n",
       " 'nome': 'Meu dict',\n",
       " 'teste': True}"
      ]
     },
     "execution_count": 328,
     "metadata": {},
     "output_type": "execute_result"
    }
   ],
   "source": [
    "d = {'par': [0,2,4,6,8], 'ímpar': [1,3,5,7,9], 'nome':'Meu dict', 'teste': True}\n",
    "d"
   ]
  },
  {
   "cell_type": "markdown",
   "id": "10474229-d3b5-4fd1-999d-cc3148cf33b7",
   "metadata": {
    "slideshow": {
     "slide_type": "subslide"
    }
   },
   "source": [
    "### Acesso a conteúdo"
   ]
  },
  {
   "cell_type": "markdown",
   "id": "7e2b62e1-c438-41a1-9607-efd307044944",
   "metadata": {
    "slideshow": {
     "slide_type": "fragment"
    }
   },
   "source": [
    "Para acessar o conteúdo de uma chave, indexamos pelo seu nome."
   ]
  },
  {
   "cell_type": "code",
   "execution_count": 110,
   "id": "6395dee4-f486-4c4f-a696-c7e7453e6fc1",
   "metadata": {
    "slideshow": {
     "slide_type": "fragment"
    }
   },
   "outputs": [
    {
     "data": {
      "text/plain": [
       "[0, 2, 4, 6, 8]"
      ]
     },
     "execution_count": 110,
     "metadata": {},
     "output_type": "execute_result"
    }
   ],
   "source": [
    "d['par'] "
   ]
  },
  {
   "cell_type": "code",
   "execution_count": 329,
   "id": "d1ff8060-c09b-4643-ace3-2ece13ade2eb",
   "metadata": {
    "slideshow": {
     "slide_type": "fragment"
    }
   },
   "outputs": [
    {
     "data": {
      "text/plain": [
       "'Meu dict'"
      ]
     },
     "execution_count": 329,
     "metadata": {},
     "output_type": "execute_result"
    }
   ],
   "source": [
    "d['nome']"
   ]
  },
  {
   "cell_type": "markdown",
   "id": "c6fd21f7-5d75-4688-83c6-b90ec3045bf6",
   "metadata": {
    "slideshow": {
     "slide_type": "subslide"
    }
   },
   "source": [
    "**Exemplo:** construindo soma e multiplicação especial."
   ]
  },
  {
   "cell_type": "code",
   "execution_count": 330,
   "id": "37df9363-96a8-48de-a3b9-79d4e683783b",
   "metadata": {
    "slideshow": {
     "slide_type": "fragment"
    }
   },
   "outputs": [
    {
     "name": "stdout",
     "output_type": "stream",
     "text": [
      "pos(0) | Soma = 1.1 | Prod = 0.1\n",
      "pos(1) | Soma = 2.1 | Prod = 0.2\n",
      "pos(2) | Soma = 3.1 | Prod = 0.30000000000000004\n"
     ]
    }
   ],
   "source": [
    "# dict\n",
    "op = {'X' :[1,2,3], 'delta' : 0.1}\n",
    "\n",
    "# função\n",
    "def sp(op): \n",
    "    s = [x + op['delta'] for x in op['X']]\n",
    "    p = [x * op['delta'] for x in op['X']]\n",
    "    \n",
    "    return (s,p) # retorna tupla\n",
    "\n",
    "soma, prod = sp(op) # desempacota\n",
    "\n",
    "for i,s in enumerate(soma):\n",
    "    print(f'pos({i}) | Soma = {s} | Prod = {prod[i]}')"
   ]
  },
  {
   "cell_type": "markdown",
   "id": "b4661d2f-e7a8-43c2-a685-6a9a22f8b26e",
   "metadata": {
    "slideshow": {
     "slide_type": "subslide"
    }
   },
   "source": [
    "### Inserção de conteúdo"
   ]
  },
  {
   "cell_type": "code",
   "execution_count": 331,
   "id": "ddb1b2c9-bb2a-4ca0-95dd-e350865a86c6",
   "metadata": {
    "slideshow": {
     "slide_type": "fragment"
    }
   },
   "outputs": [
    {
     "data": {
      "text/plain": [
       "{'X': [1, 2, 3], 'delta': 0.1, 1: 3, 'novo': (3, 4, 1)}"
      ]
     },
     "execution_count": 331,
     "metadata": {},
     "output_type": "execute_result"
    }
   ],
   "source": [
    "# apensa variáveis\n",
    "op[1] = 3 \n",
    "op['novo'] = (3,4,1) \n",
    "op"
   ]
  },
  {
   "cell_type": "markdown",
   "id": "1284485f-ae83-4d20-88b3-d56babcb7d2a",
   "metadata": {
    "slideshow": {
     "slide_type": "subslide"
    }
   },
   "source": [
    "### Alteração de conteúdo"
   ]
  },
  {
   "cell_type": "code",
   "execution_count": 332,
   "id": "10924459-08f2-42db-9219-7fb89d70806d",
   "metadata": {
    "slideshow": {
     "slide_type": "fragment"
    }
   },
   "outputs": [
    {
     "data": {
      "text/plain": [
       "{'X': [1, 2, 3], 'delta': 0.1, 1: 3, 'novo': [2, 1, 4]}"
      ]
     },
     "execution_count": 332,
     "metadata": {},
     "output_type": "execute_result"
    }
   ],
   "source": [
    "op['novo'] = [2,1,4] # sobrescreve\n",
    "op"
   ]
  },
  {
   "cell_type": "markdown",
   "id": "f6a8ec1a-d198-4276-bf70-49627942c55e",
   "metadata": {
    "slideshow": {
     "slide_type": "subslide"
    }
   },
   "source": [
    "### Deleção de conteúdo com `del` e `pop`"
   ]
  },
  {
   "cell_type": "code",
   "execution_count": 333,
   "id": "cea9affd-3aa3-4a74-bb72-548745181445",
   "metadata": {
    "slideshow": {
     "slide_type": "fragment"
    }
   },
   "outputs": [
    {
     "data": {
      "text/plain": [
       "{'X': [1, 2, 3], 'delta': 0.1, 'novo': [2, 1, 4]}"
      ]
     },
     "execution_count": 333,
     "metadata": {},
     "output_type": "execute_result"
    }
   ],
   "source": [
    "del op[1] # deleta chave \n",
    "op  "
   ]
  },
  {
   "cell_type": "code",
   "execution_count": 334,
   "id": "940c88a8-ba93-4e3e-959e-378a8484afb1",
   "metadata": {
    "slideshow": {
     "slide_type": "fragment"
    }
   },
   "outputs": [
    {
     "data": {
      "text/plain": [
       "[2, 1, 4]"
      ]
     },
     "execution_count": 334,
     "metadata": {},
     "output_type": "execute_result"
    }
   ],
   "source": [
    "novo = op.pop('novo') # retorna e simultaneamente deleta\n",
    "novo"
   ]
  },
  {
   "cell_type": "code",
   "execution_count": 335,
   "id": "286da634-c413-4106-b766-4d317725c68b",
   "metadata": {
    "slideshow": {
     "slide_type": "fragment"
    }
   },
   "outputs": [
    {
     "data": {
      "text/plain": [
       "{'X': [1, 2, 3], 'delta': 0.1}"
      ]
     },
     "execution_count": 335,
     "metadata": {},
     "output_type": "execute_result"
    }
   ],
   "source": [
    "op  "
   ]
  },
  {
   "cell_type": "markdown",
   "id": "054ea16b-e1a6-40aa-9065-c6e38f20673d",
   "metadata": {
    "slideshow": {
     "slide_type": "subslide"
    }
   },
   "source": [
    "### Listagem de chaves e valores\n",
    "\n",
    "Usamos os métodos `keys()` e `values()` para listar chaves e valores."
   ]
  },
  {
   "cell_type": "code",
   "execution_count": 342,
   "id": "820fcf53-925d-4f5c-a036-7f46ebe9d504",
   "metadata": {
    "slideshow": {
     "slide_type": "subslide"
    }
   },
   "outputs": [
    {
     "name": "stdout",
     "output_type": "stream",
     "text": [
      "['soma', 'subtr', 'mult', 'div']\n",
      "['+', '-', '*', '/']\n",
      "A operação 'soma' de \"arit\" usa o símbolo '+'.\n",
      "A operação 'subtr' de \"arit\" usa o símbolo '-'.\n",
      "A operação 'mult' de \"arit\" usa o símbolo '*'.\n",
      "A operação 'div' de \"arit\" usa o símbolo '/'.\n"
     ]
    }
   ],
   "source": [
    "arit = {'soma': '+', 'subtr': '-', 'mult': '*', 'div': '/'} # dict\n",
    "\n",
    "k = list(arit.keys())\n",
    "print(k)\n",
    "val = list(arit.values())\n",
    "print(val)\n",
    "for v in range(len(arit)):\n",
    "    print(f'A operação \\'{k[v]}\\' de \"arit\" usa o símbolo \\'{val[v]}\\'.')    "
   ]
  },
  {
   "cell_type": "markdown",
   "id": "f88959be-9996-4fd9-91b5-e0df1542d3a8",
   "metadata": {
    "slideshow": {
     "slide_type": "subslide"
    }
   },
   "source": [
    "### Combinando dicionários\n",
    "\n",
    "Usamos `update` para combinar dicionários. Este método possui um resultado similar a `extend`, usado em listas."
   ]
  },
  {
   "cell_type": "code",
   "execution_count": 343,
   "id": "49da215b-cf52-41f5-8886-ffc6cab4a359",
   "metadata": {
    "slideshow": {
     "slide_type": "fragment"
    }
   },
   "outputs": [
    {
     "data": {
      "text/plain": [
       "{'soma': '+', 'subtr': '-', 'mult': '*', 'div': '/', 'pot': '**'}"
      ]
     },
     "execution_count": 343,
     "metadata": {},
     "output_type": "execute_result"
    }
   ],
   "source": [
    "pot = {'pot': '**'}\n",
    "arit.update(pot)\n",
    "arit"
   ]
  },
  {
   "cell_type": "markdown",
   "id": "6425ecd4-233d-4382-a4f7-d5fabd44511a",
   "metadata": {
    "slideshow": {
     "slide_type": "subslide"
    }
   },
   "source": [
    "### Dicionários a partir de sequencias\n",
    "\n",
    "Podemos criar dicionários a partir de sequencias existentes usando `zip`."
   ]
  },
  {
   "cell_type": "code",
   "execution_count": 347,
   "id": "b403b495-c5fc-474a-8d86-766d902b8a52",
   "metadata": {
    "slideshow": {
     "slide_type": "subslide"
    }
   },
   "outputs": [
    {
     "data": {
      "text/plain": [
       "{'soma': '+', 'subtr': '-', 'mult': '*', 'div': '/', 'pot': '**'}"
      ]
     },
     "execution_count": 347,
     "metadata": {},
     "output_type": "execute_result"
    }
   ],
   "source": [
    "arit = ('soma', 'subtr', 'mult', 'div', 'pot')\n",
    "ops = ('+', '-', '*', '/', '**')\n",
    "\n",
    "dict_novo = {}\n",
    "\n",
    "for chave,valor in zip(arit,ops):\n",
    "    dict_novo[chave] = valor\n",
    "    \n",
    "dict_novo"
   ]
  },
  {
   "cell_type": "markdown",
   "id": "4ae217fc-330b-4801-b173-d76fbff056fa",
   "metadata": {
    "slideshow": {
     "slide_type": "subslide"
    },
    "tags": []
   },
   "source": [
    "Visto que um `dict` é composto de várias tuplas de 2, podemos criar um  de maneira ainda mais simples."
   ]
  },
  {
   "cell_type": "code",
   "execution_count": 348,
   "id": "be443dcc-b1dc-4fea-a946-17a7b8a55776",
   "metadata": {
    "slideshow": {
     "slide_type": "fragment"
    },
    "tags": []
   },
   "outputs": [
    {
     "data": {
      "text/plain": [
       "{'soma': '+', 'subtr': '-', 'mult': '*', 'div': '/', 'pot': '**'}"
      ]
     },
     "execution_count": 348,
     "metadata": {},
     "output_type": "execute_result"
    }
   ],
   "source": [
    "dict_novo = dict(zip(arit,ops)) # visto que dicts\n",
    "dict_novo"
   ]
  },
  {
   "cell_type": "markdown",
   "id": "0d3fe6a8-ddb0-4cf7-89c0-5c2266d48934",
   "metadata": {
    "slideshow": {
     "slide_type": "subslide"
    }
   },
   "source": [
    "## Conjuntos\n",
    "\n",
    "Um conjunto (_set_) é uma coleção não ordenada de elementos únicos. Eles podem ser criados através da função `set` ou de uma expressão literal com um par de chaves `{}`. Eles são parecidos com _dicts_, porém não possuem chaves (_keys_).\n"
   ]
  },
  {
   "cell_type": "markdown",
   "id": "46990a13-630f-46c3-8167-8fe44d748aa9",
   "metadata": {
    "slideshow": {
     "slide_type": "subslide"
    }
   },
   "source": [
    "**Exemplo:** Crie o conjunto dos números pares positivos e menores do que 15."
   ]
  },
  {
   "cell_type": "code",
   "execution_count": 361,
   "id": "5eeccf0c-6795-44d5-a367-1774113ea790",
   "metadata": {
    "slideshow": {
     "slide_type": "fragment"
    }
   },
   "outputs": [],
   "source": [
    "pq1 = set(range(0,15,2))\n",
    "pq2 = {0,2,4,6,8,10,12,14}"
   ]
  },
  {
   "cell_type": "markdown",
   "id": "7fc13f4e-4a4e-42b4-88d0-d50c19bbb50d",
   "metadata": {
    "slideshow": {
     "slide_type": "subslide"
    }
   },
   "source": [
    "Discussão: \n",
    "\n",
    "- Em `pq1`, criamos o conjunto por função, usando `range` para gerar os números.\n",
    "- Em `pq2`, criamos o conjunto literalmente, por extensão."
   ]
  },
  {
   "cell_type": "code",
   "execution_count": 363,
   "id": "37c27c1b-fdb9-488a-bc96-0a02c19bc484",
   "metadata": {
    "slideshow": {
     "slide_type": "fragment"
    }
   },
   "outputs": [
    {
     "data": {
      "text/plain": [
       "{1, 2, 3, 4}"
      ]
     },
     "execution_count": 363,
     "metadata": {},
     "output_type": "execute_result"
    }
   ],
   "source": [
    "{1,2,2,3,3,4,4,4} # 'set' possui unicidade de elementos"
   ]
  },
  {
   "cell_type": "markdown",
   "id": "0c9940db-e52a-4336-9888-17c940f7daa3",
   "metadata": {
    "slideshow": {
     "slide_type": "subslide"
    }
   },
   "source": [
    "### Operações com conjuntos \n",
    "\n",
    "A seguir mostraremos uma série de operações com conjuntos. Considere os seguintes conjuntos."
   ]
  },
  {
   "cell_type": "code",
   "execution_count": 364,
   "id": "0a10a95b-9c50-468b-ba68-cebda02697fe",
   "metadata": {
    "slideshow": {
     "slide_type": "fragment"
    }
   },
   "outputs": [],
   "source": [
    "A = {1,2,3}\n",
    "B = {3,4,5}\n",
    "C = {6}"
   ]
  },
  {
   "cell_type": "markdown",
   "id": "64200160-4c1e-4478-ac20-22a3b18b403e",
   "metadata": {
    "slideshow": {
     "slide_type": "subslide"
    }
   },
   "source": [
    "#### União de conjuntos"
   ]
  },
  {
   "cell_type": "code",
   "execution_count": 365,
   "id": "ad28fdaa-ab6b-4f74-8139-3ef4c30d0baa",
   "metadata": {
    "slideshow": {
     "slide_type": "fragment"
    }
   },
   "outputs": [
    {
     "data": {
      "text/plain": [
       "{1, 2, 3, 4, 5}"
      ]
     },
     "execution_count": 365,
     "metadata": {},
     "output_type": "execute_result"
    }
   ],
   "source": [
    "A.union(B) # união"
   ]
  },
  {
   "cell_type": "code",
   "execution_count": 366,
   "id": "85cbe499-b9c2-46f4-82ea-f0baa1f7f736",
   "metadata": {
    "slideshow": {
     "slide_type": "fragment"
    }
   },
   "outputs": [
    {
     "data": {
      "text/plain": [
       "{1, 2, 3, 4, 5}"
      ]
     },
     "execution_count": 366,
     "metadata": {},
     "output_type": "execute_result"
    }
   ],
   "source": [
    "A | B # união com operador alternativo ('ou')"
   ]
  },
  {
   "cell_type": "markdown",
   "id": "478eddb1-bd14-43d4-85a0-1759ea94f361",
   "metadata": {
    "slideshow": {
     "slide_type": "subslide"
    }
   },
   "source": [
    "#### Atualização de conjuntos (união)\n",
    "\n",
    "A união *in-place* de dois conjuntos pode ser feita com `update`."
   ]
  },
  {
   "cell_type": "code",
   "execution_count": 367,
   "id": "1ea4c919-2fa4-4fc0-9545-6314f5143cc5",
   "metadata": {
    "slideshow": {
     "slide_type": "fragment"
    }
   },
   "outputs": [
    {
     "data": {
      "text/plain": [
       "{6}"
      ]
     },
     "execution_count": 367,
     "metadata": {},
     "output_type": "execute_result"
    }
   ],
   "source": [
    "C"
   ]
  },
  {
   "cell_type": "code",
   "execution_count": 371,
   "id": "33872f78-a69e-41bf-a7ed-a96d25df2098",
   "metadata": {
    "slideshow": {
     "slide_type": "fragment"
    }
   },
   "outputs": [
    {
     "data": {
      "text/plain": [
       "{3, 4, 5, 6}"
      ]
     },
     "execution_count": 371,
     "metadata": {},
     "output_type": "execute_result"
    }
   ],
   "source": [
    "C.update(B) # C é atualizado com elementos de B\n",
    "C "
   ]
  },
  {
   "cell_type": "code",
   "execution_count": 372,
   "id": "5e9a658c-281e-45ab-9d94-725e1a562314",
   "metadata": {
    "slideshow": {
     "slide_type": "subslide"
    }
   },
   "outputs": [
    {
     "data": {
      "text/plain": [
       "{1, 2, 3, 4, 5, 6}"
      ]
     },
     "execution_count": 372,
     "metadata": {},
     "output_type": "execute_result"
    }
   ],
   "source": [
    "C.union(A) # conjunto união com A"
   ]
  },
  {
   "cell_type": "code",
   "execution_count": 373,
   "id": "b8e7feeb-38f2-4693-afe2-0277f45b81da",
   "metadata": {
    "slideshow": {
     "slide_type": "fragment"
    }
   },
   "outputs": [
    {
     "data": {
      "text/plain": [
       "{3, 4, 5, 6}"
      ]
     },
     "execution_count": 373,
     "metadata": {},
     "output_type": "execute_result"
    }
   ],
   "source": [
    "C # os elementos de A não foram atualizados em C"
   ]
  },
  {
   "cell_type": "markdown",
   "id": "ea0e3010-e905-4842-9b07-fe3be828c31c",
   "metadata": {
    "slideshow": {
     "slide_type": "subslide"
    }
   },
   "source": [
    "A atualização da união possui a seguinte forma alternativa com `|=`."
   ]
  },
  {
   "cell_type": "code",
   "execution_count": 374,
   "id": "9070fc9b-113f-41e3-bde5-a8ffc282ef9e",
   "metadata": {
    "slideshow": {
     "slide_type": "fragment"
    }
   },
   "outputs": [
    {
     "data": {
      "text/plain": [
       "{1, 2, 3, 4, 5, 6}"
      ]
     },
     "execution_count": 374,
     "metadata": {},
     "output_type": "execute_result"
    }
   ],
   "source": [
    "C |= A # elementos de A atualizados em C\n",
    "C"
   ]
  },
  {
   "cell_type": "markdown",
   "id": "91f56ca8-19fd-4255-898c-c5964c64b80b",
   "metadata": {
    "slideshow": {
     "slide_type": "subslide"
    }
   },
   "source": [
    "#### Interseção de conjuntos"
   ]
  },
  {
   "cell_type": "code",
   "execution_count": 375,
   "id": "d9c4a5ba-855b-4a8b-85d8-61c7d4429729",
   "metadata": {
    "slideshow": {
     "slide_type": "fragment"
    }
   },
   "outputs": [
    {
     "data": {
      "text/plain": [
       "{3}"
      ]
     },
     "execution_count": 375,
     "metadata": {},
     "output_type": "execute_result"
    }
   ],
   "source": [
    "A.intersection(B) # interseção"
   ]
  },
  {
   "cell_type": "code",
   "execution_count": 376,
   "id": "7d0b75c1-0b5b-41c8-bd2a-705a9d81fedd",
   "metadata": {
    "slideshow": {
     "slide_type": "fragment"
    }
   },
   "outputs": [
    {
     "data": {
      "text/plain": [
       "{3}"
      ]
     },
     "execution_count": 376,
     "metadata": {},
     "output_type": "execute_result"
    }
   ],
   "source": [
    "A & B # interseção com operador alternativo ('e')"
   ]
  },
  {
   "cell_type": "markdown",
   "id": "e9f30a2e-59ea-4b6e-af02-f025ff3ca04c",
   "metadata": {
    "slideshow": {
     "slide_type": "subslide"
    }
   },
   "source": [
    "#### Atualização de conjuntos (interseção)\n",
    "\n",
    "A interseção *in-place* de dois conjuntos pode ser feita com `intersection_update`."
   ]
  },
  {
   "cell_type": "code",
   "execution_count": 377,
   "id": "14bd99ad-be83-44b9-b366-5e90d0c2948a",
   "metadata": {
    "slideshow": {
     "slide_type": "fragment"
    }
   },
   "outputs": [],
   "source": [
    "D = {1, 2, 3, 4}\n",
    "E = {2, 3, 4, 5}"
   ]
  },
  {
   "cell_type": "code",
   "execution_count": 378,
   "id": "4aa3bf32-c26a-4149-be39-b8a1bbc1ecf1",
   "metadata": {
    "slideshow": {
     "slide_type": "fragment"
    }
   },
   "outputs": [
    {
     "data": {
      "text/plain": [
       "{2, 3, 4}"
      ]
     },
     "execution_count": 378,
     "metadata": {},
     "output_type": "execute_result"
    }
   ],
   "source": [
    "D.intersection(E) # interseção com E"
   ]
  },
  {
   "cell_type": "code",
   "execution_count": 379,
   "id": "e5768443-9b4b-465a-a36e-860e9152eba7",
   "metadata": {
    "slideshow": {
     "slide_type": "fragment"
    }
   },
   "outputs": [
    {
     "data": {
      "text/plain": [
       "{1, 2, 3, 4}"
      ]
     },
     "execution_count": 379,
     "metadata": {},
     "output_type": "execute_result"
    }
   ],
   "source": [
    "D # D inalterado"
   ]
  },
  {
   "cell_type": "code",
   "execution_count": 380,
   "id": "17eda298-0c25-47a2-9767-0313750302f2",
   "metadata": {
    "slideshow": {
     "slide_type": "fragment"
    }
   },
   "outputs": [
    {
     "data": {
      "text/plain": [
       "{2, 3, 4}"
      ]
     },
     "execution_count": 380,
     "metadata": {},
     "output_type": "execute_result"
    }
   ],
   "source": [
    "D.intersection_update(E) \n",
    "D # D alterado"
   ]
  },
  {
   "cell_type": "markdown",
   "id": "57a7535c-6f52-48d9-8b03-c5ee6546de7e",
   "metadata": {
    "slideshow": {
     "slide_type": "subslide"
    }
   },
   "source": [
    "A atualização da interseção possui a seguinte forma alternativa com `&=`."
   ]
  },
  {
   "cell_type": "code",
   "execution_count": 381,
   "id": "4c5d4c55-65c4-4747-995c-b367dfb53fa7",
   "metadata": {
    "slideshow": {
     "slide_type": "fragment"
    }
   },
   "outputs": [
    {
     "data": {
      "text/plain": [
       "{2, 3, 4}"
      ]
     },
     "execution_count": 381,
     "metadata": {},
     "output_type": "execute_result"
    }
   ],
   "source": [
    "D &= E\n",
    "D"
   ]
  },
  {
   "cell_type": "markdown",
   "id": "c3caff04-7131-49ca-9f7d-7c69b1f76dc5",
   "metadata": {
    "slideshow": {
     "slide_type": "subslide"
    }
   },
   "source": [
    "#### Diferença entre conjuntos"
   ]
  },
  {
   "cell_type": "code",
   "execution_count": 139,
   "id": "45c6f12d-f2a2-44d0-bed0-b29108160dba",
   "metadata": {
    "slideshow": {
     "slide_type": "fragment"
    }
   },
   "outputs": [
    {
     "data": {
      "text/plain": [
       "{1, 2, 3}"
      ]
     },
     "execution_count": 139,
     "metadata": {},
     "output_type": "execute_result"
    }
   ],
   "source": [
    "A"
   ]
  },
  {
   "cell_type": "code",
   "execution_count": 140,
   "id": "c86dee44-76fb-45b6-9075-3e8a37f92c6e",
   "metadata": {
    "slideshow": {
     "slide_type": "fragment"
    }
   },
   "outputs": [
    {
     "data": {
      "text/plain": [
       "{2, 3, 4}"
      ]
     },
     "execution_count": 140,
     "metadata": {},
     "output_type": "execute_result"
    }
   ],
   "source": [
    "D"
   ]
  },
  {
   "cell_type": "code",
   "execution_count": 141,
   "id": "2e7a9170-1ae1-4576-a875-ceaab3e041a5",
   "metadata": {
    "slideshow": {
     "slide_type": "subslide"
    }
   },
   "outputs": [
    {
     "data": {
      "text/plain": [
       "{1}"
      ]
     },
     "execution_count": 141,
     "metadata": {},
     "output_type": "execute_result"
    }
   ],
   "source": [
    "A.difference(D) # apenas elementos de A"
   ]
  },
  {
   "cell_type": "code",
   "execution_count": 142,
   "id": "662b8b8a-d298-489d-b04b-55778d0efb4d",
   "metadata": {
    "slideshow": {
     "slide_type": "fragment"
    }
   },
   "outputs": [
    {
     "data": {
      "text/plain": [
       "{4}"
      ]
     },
     "execution_count": 142,
     "metadata": {},
     "output_type": "execute_result"
    }
   ],
   "source": [
    "D.difference(A) # apenas elementos de D"
   ]
  },
  {
   "cell_type": "code",
   "execution_count": 143,
   "id": "c137b08a-e3c6-462c-9940-f569b09b56e9",
   "metadata": {
    "slideshow": {
     "slide_type": "subslide"
    }
   },
   "outputs": [
    {
     "data": {
      "text/plain": [
       "{1}"
      ]
     },
     "execution_count": 143,
     "metadata": {},
     "output_type": "execute_result"
    }
   ],
   "source": [
    "A - D # operador alternativo "
   ]
  },
  {
   "cell_type": "code",
   "execution_count": 144,
   "id": "63e6ece8-a293-4e0b-991c-db4644792e36",
   "metadata": {
    "slideshow": {
     "slide_type": "fragment"
    }
   },
   "outputs": [
    {
     "data": {
      "text/plain": [
       "{4}"
      ]
     },
     "execution_count": 144,
     "metadata": {},
     "output_type": "execute_result"
    }
   ],
   "source": [
    "D - A "
   ]
  },
  {
   "cell_type": "markdown",
   "id": "248e1cf9-50bd-4d93-baf2-254385b0aad7",
   "metadata": {
    "slideshow": {
     "slide_type": "subslide"
    }
   },
   "source": [
    "#### Atualização de conjuntos (diferença)\n",
    "\n",
    "A interseção *in-place* de dois conjuntos pode ser feita com `difference_update`."
   ]
  },
  {
   "cell_type": "code",
   "execution_count": 382,
   "id": "e9bde1ba-b70e-466f-a022-e2d69a5bf4a1",
   "metadata": {
    "slideshow": {
     "slide_type": "fragment"
    }
   },
   "outputs": [],
   "source": [
    "D = {1, 2, 3, 4}\n",
    "E = {1, 2, 3, 5}"
   ]
  },
  {
   "cell_type": "code",
   "execution_count": 146,
   "id": "a9963644-0ea3-401c-8dd2-e7b9d5217fb6",
   "metadata": {
    "slideshow": {
     "slide_type": "fragment"
    }
   },
   "outputs": [
    {
     "data": {
      "text/plain": [
       "{1, 2, 3, 4}"
      ]
     },
     "execution_count": 146,
     "metadata": {},
     "output_type": "execute_result"
    }
   ],
   "source": [
    "D"
   ]
  },
  {
   "cell_type": "code",
   "execution_count": 383,
   "id": "78460eb8-a7d5-40bc-b778-c6f22d18c473",
   "metadata": {
    "slideshow": {
     "slide_type": "subslide"
    }
   },
   "outputs": [
    {
     "data": {
      "text/plain": [
       "{1, 2, 3, 4}"
      ]
     },
     "execution_count": 383,
     "metadata": {},
     "output_type": "execute_result"
    }
   ],
   "source": [
    "D.difference(E)\n",
    "D"
   ]
  },
  {
   "cell_type": "code",
   "execution_count": 384,
   "id": "59669394-47c0-4f4c-aebb-3aa88335e728",
   "metadata": {
    "slideshow": {
     "slide_type": "fragment"
    }
   },
   "outputs": [
    {
     "data": {
      "text/plain": [
       "{4}"
      ]
     },
     "execution_count": 384,
     "metadata": {},
     "output_type": "execute_result"
    }
   ],
   "source": [
    "D.difference_update(E)\n",
    "D"
   ]
  },
  {
   "cell_type": "markdown",
   "id": "170df825-2f38-4316-80bd-352593ad82e9",
   "metadata": {
    "slideshow": {
     "slide_type": "subslide"
    }
   },
   "source": [
    "A atualização da diferença possui a seguinte forma alternativa com `-=`."
   ]
  },
  {
   "cell_type": "code",
   "execution_count": 385,
   "id": "fdaac140-26b7-4aa6-866b-822b065d5494",
   "metadata": {
    "slideshow": {
     "slide_type": "fragment"
    }
   },
   "outputs": [
    {
     "data": {
      "text/plain": [
       "{4}"
      ]
     },
     "execution_count": 385,
     "metadata": {},
     "output_type": "execute_result"
    }
   ],
   "source": [
    "D -= E\n",
    "D"
   ]
  },
  {
   "cell_type": "markdown",
   "id": "0b314299-8240-40d0-8ea7-1955c7414ac7",
   "metadata": {
    "slideshow": {
     "slide_type": "subslide"
    }
   },
   "source": [
    "#### Adição ou remoção de elementos"
   ]
  },
  {
   "cell_type": "code",
   "execution_count": 387,
   "id": "b5eaf29b-42a6-47c6-a929-d858d1db2530",
   "metadata": {
    "slideshow": {
     "slide_type": "fragment"
    }
   },
   "outputs": [
    {
     "data": {
      "text/plain": [
       "{1, 2, 3}"
      ]
     },
     "execution_count": 387,
     "metadata": {},
     "output_type": "execute_result"
    }
   ],
   "source": [
    "A"
   ]
  },
  {
   "cell_type": "code",
   "execution_count": 388,
   "id": "be4ec708-291e-448d-9ce7-a8abb48a7094",
   "metadata": {
    "slideshow": {
     "slide_type": "fragment"
    }
   },
   "outputs": [
    {
     "data": {
      "text/plain": [
       "{1, 2, 3, 4}"
      ]
     },
     "execution_count": 388,
     "metadata": {},
     "output_type": "execute_result"
    }
   ],
   "source": [
    "A.add(4) # adiciona 4 a A\n",
    "A"
   ]
  },
  {
   "cell_type": "code",
   "execution_count": 389,
   "id": "0b327b37-02db-4579-acbd-97c5c280626a",
   "metadata": {
    "slideshow": {
     "slide_type": "fragment"
    }
   },
   "outputs": [
    {
     "data": {
      "text/plain": [
       "{3, 4, 5}"
      ]
     },
     "execution_count": 389,
     "metadata": {},
     "output_type": "execute_result"
    }
   ],
   "source": [
    "B"
   ]
  },
  {
   "cell_type": "code",
   "execution_count": 390,
   "id": "80e33802-3064-4c94-bef4-3ab584088224",
   "metadata": {
    "slideshow": {
     "slide_type": "fragment"
    }
   },
   "outputs": [
    {
     "data": {
      "text/plain": [
       "{4, 5}"
      ]
     },
     "execution_count": 390,
     "metadata": {},
     "output_type": "execute_result"
    }
   ],
   "source": [
    "B.remove(3) # remove 3 de B\n",
    "B"
   ]
  },
  {
   "cell_type": "markdown",
   "id": "ff7deb10-6ca7-448b-a93c-4505c4cecb42",
   "metadata": {
    "slideshow": {
     "slide_type": "subslide"
    }
   },
   "source": [
    "#### Reinicialização de um conjunto (vazio)\n",
    "\n",
    "Podemos remover todos os elementos de um conjunto com `clear`, deixando-o em um estado vazio."
   ]
  },
  {
   "cell_type": "code",
   "execution_count": 391,
   "id": "fb20e537-03b1-49fd-85e2-e9896fab4db6",
   "metadata": {
    "slideshow": {
     "slide_type": "fragment"
    }
   },
   "outputs": [
    {
     "data": {
      "text/plain": [
       "{1, 2, 3, 4}"
      ]
     },
     "execution_count": 391,
     "metadata": {},
     "output_type": "execute_result"
    }
   ],
   "source": [
    "A"
   ]
  },
  {
   "cell_type": "code",
   "execution_count": 392,
   "id": "d428cddc-5622-4141-8bba-8e1c94d93f7c",
   "metadata": {
    "slideshow": {
     "slide_type": "fragment"
    }
   },
   "outputs": [
    {
     "data": {
      "text/plain": [
       "set()"
      ]
     },
     "execution_count": 392,
     "metadata": {},
     "output_type": "execute_result"
    }
   ],
   "source": [
    "A.clear()\n",
    "A # A é vazio"
   ]
  },
  {
   "cell_type": "code",
   "execution_count": 393,
   "id": "139f1dbb-2e54-4608-87fd-33448fbfd2d1",
   "metadata": {
    "slideshow": {
     "slide_type": "fragment"
    }
   },
   "outputs": [
    {
     "data": {
      "text/plain": [
       "0"
      ]
     },
     "execution_count": 393,
     "metadata": {},
     "output_type": "execute_result"
    }
   ],
   "source": [
    "len(A) # 0 elementos"
   ]
  },
  {
   "cell_type": "markdown",
   "id": "822c9551-fb59-4368-bc32-ccd6ae79fb1f",
   "metadata": {
    "slideshow": {
     "slide_type": "subslide"
    }
   },
   "source": [
    "#### Continência\n",
    "\n",
    "Podemos verificar se um conjunto $A$ é subconjunto de (está contido em) outro conjunto $B$ ($A \\subseteq B$) ou se $B$ é um superconjunto para (contém) $A$ ($B \\supseteq A$) com `issubset` e  `issuperset`. "
   ]
  },
  {
   "cell_type": "code",
   "execution_count": 396,
   "id": "b5fceee9-6e04-44ec-a377-467577f57338",
   "metadata": {
    "slideshow": {
     "slide_type": "fragment"
    }
   },
   "outputs": [
    {
     "data": {
      "text/plain": [
       "{4, 5}"
      ]
     },
     "execution_count": 396,
     "metadata": {},
     "output_type": "execute_result"
    }
   ],
   "source": [
    "B"
   ]
  },
  {
   "cell_type": "code",
   "execution_count": 395,
   "id": "6f15f359-d8c7-4c21-a292-4d2b6f0f809d",
   "metadata": {
    "slideshow": {
     "slide_type": "fragment"
    }
   },
   "outputs": [
    {
     "data": {
      "text/plain": [
       "{1, 2, 3, 4, 5, 6}"
      ]
     },
     "execution_count": 395,
     "metadata": {},
     "output_type": "execute_result"
    }
   ],
   "source": [
    "C"
   ]
  },
  {
   "cell_type": "code",
   "execution_count": 397,
   "id": "fca046f9-ae02-48dd-aedb-7ee43156a89b",
   "metadata": {
    "slideshow": {
     "slide_type": "subslide"
    }
   },
   "outputs": [
    {
     "data": {
      "text/plain": [
       "True"
      ]
     },
     "execution_count": 397,
     "metadata": {},
     "output_type": "execute_result"
    }
   ],
   "source": [
    "B.issubset(C) # B está contido em C"
   ]
  },
  {
   "cell_type": "code",
   "execution_count": 398,
   "id": "de2bc608-7d60-4955-a12c-41ac9b429a76",
   "metadata": {
    "slideshow": {
     "slide_type": "fragment"
    }
   },
   "outputs": [
    {
     "data": {
      "text/plain": [
       "True"
      ]
     },
     "execution_count": 398,
     "metadata": {},
     "output_type": "execute_result"
    }
   ],
   "source": [
    "C.issuperset(B) # C contém B"
   ]
  },
  {
   "cell_type": "markdown",
   "id": "b5fae436-2681-461b-a540-f8cec0ee9277",
   "metadata": {
    "slideshow": {
     "slide_type": "subslide"
    }
   },
   "source": [
    "#### Subconjuntos e subconjuntos próprios\n",
    "\n",
    "Podemos usar operadores de comparação entre conjuntos para verificar continência.\n",
    "\n",
    "- $A \\subseteq B$: $A$ é subconjunto de $B$\n",
    "- $A \\subset B$: $A$ é subconjunto próprio de $B$ ($A$ possui elementos que não estão em $B$)"
   ]
  },
  {
   "cell_type": "code",
   "execution_count": 399,
   "id": "09691c76-bb9e-4d3e-bf8b-45e768e836b3",
   "metadata": {
    "slideshow": {
     "slide_type": "subslide"
    }
   },
   "outputs": [
    {
     "data": {
      "text/plain": [
       "True"
      ]
     },
     "execution_count": 399,
     "metadata": {},
     "output_type": "execute_result"
    }
   ],
   "source": [
    "{1,2,3} <= {1,2,3} # subconjunto"
   ]
  },
  {
   "cell_type": "code",
   "execution_count": 400,
   "id": "152af0ab-a544-433e-82d9-8b8b18916a8e",
   "metadata": {
    "slideshow": {
     "slide_type": "fragment"
    }
   },
   "outputs": [
    {
     "data": {
      "text/plain": [
       "True"
      ]
     },
     "execution_count": 400,
     "metadata": {},
     "output_type": "execute_result"
    }
   ],
   "source": [
    "{1,2} < {1,2,3} # subconjunto próprio"
   ]
  },
  {
   "cell_type": "code",
   "execution_count": 401,
   "id": "94e53a8e-da8c-44e3-a328-5f3eb5c4f353",
   "metadata": {
    "slideshow": {
     "slide_type": "fragment"
    }
   },
   "outputs": [
    {
     "data": {
      "text/plain": [
       "True"
      ]
     },
     "execution_count": 401,
     "metadata": {},
     "output_type": "execute_result"
    }
   ],
   "source": [
    "{1,2,3} > {1,2}"
   ]
  },
  {
   "cell_type": "code",
   "execution_count": 402,
   "id": "60d19a5e-a84d-48d1-88c1-f863d54f5826",
   "metadata": {
    "slideshow": {
     "slide_type": "fragment"
    }
   },
   "outputs": [
    {
     "data": {
      "text/plain": [
       "False"
      ]
     },
     "execution_count": 402,
     "metadata": {},
     "output_type": "execute_result"
    }
   ],
   "source": [
    "{1,2} >= {1,2,3}"
   ]
  },
  {
   "cell_type": "markdown",
   "id": "4b143631-6cf5-4399-9778-30674bdaa7aa",
   "metadata": {
    "slideshow": {
     "slide_type": "subslide"
    }
   },
   "source": [
    "#### Disjunção\n",
    "\n",
    "Dois conjuntos são disjuntos se sua interseção é vazia. Podemos verificar a disjunção com `isdisjoint`"
   ]
  },
  {
   "cell_type": "code",
   "execution_count": 403,
   "id": "83994e19-a429-42ab-b180-ec7329938ec5",
   "metadata": {
    "slideshow": {
     "slide_type": "fragment"
    }
   },
   "outputs": [
    {
     "data": {
      "text/plain": [
       "{1, 2, 3, 5}"
      ]
     },
     "execution_count": 403,
     "metadata": {},
     "output_type": "execute_result"
    }
   ],
   "source": [
    "E"
   ]
  },
  {
   "cell_type": "code",
   "execution_count": 404,
   "id": "0221a371-7b03-443c-8b1a-9d35b2b6ae5a",
   "metadata": {
    "slideshow": {
     "slide_type": "fragment"
    }
   },
   "outputs": [
    {
     "data": {
      "text/plain": [
       "{1, 2, 3, 4}"
      ]
     },
     "execution_count": 404,
     "metadata": {},
     "output_type": "execute_result"
    }
   ],
   "source": [
    "G = {1,2,3,4}\n",
    "G"
   ]
  },
  {
   "cell_type": "code",
   "execution_count": 405,
   "id": "8f168e7b-782c-4824-8c9c-d49952769334",
   "metadata": {
    "slideshow": {
     "slide_type": "fragment"
    }
   },
   "outputs": [
    {
     "data": {
      "text/plain": [
       "False"
      ]
     },
     "execution_count": 405,
     "metadata": {},
     "output_type": "execute_result"
    }
   ],
   "source": [
    "E.isdisjoint(G) # 1,2,3 são comuns"
   ]
  },
  {
   "cell_type": "markdown",
   "id": "083e4ceb-8fbc-4de8-b574-a59585e77c1d",
   "metadata": {
    "slideshow": {
     "slide_type": "subslide"
    }
   },
   "source": [
    "#### Igualdade entre conjuntos\n",
    "\n",
    "Dois conjuntos são iguais se contém os mesmos elementos."
   ]
  },
  {
   "cell_type": "code",
   "execution_count": 406,
   "id": "ea72f9e0-05b9-4fed-904c-2844fdf30754",
   "metadata": {
    "slideshow": {
     "slide_type": "fragment"
    }
   },
   "outputs": [],
   "source": [
    "H = {3,'a', 2}\n",
    "I = {'a',2, 3}\n",
    "J = {1,'a'}"
   ]
  },
  {
   "cell_type": "code",
   "execution_count": 407,
   "id": "24750163-5a17-456b-9991-dfb11fe2f613",
   "metadata": {
    "slideshow": {
     "slide_type": "fragment"
    }
   },
   "outputs": [
    {
     "data": {
      "text/plain": [
       "True"
      ]
     },
     "execution_count": 407,
     "metadata": {},
     "output_type": "execute_result"
    }
   ],
   "source": [
    "H == I"
   ]
  },
  {
   "cell_type": "code",
   "execution_count": 408,
   "id": "43d6778e-b433-40b8-a942-6c782f324f8f",
   "metadata": {
    "slideshow": {
     "slide_type": "fragment"
    }
   },
   "outputs": [
    {
     "data": {
      "text/plain": [
       "False"
      ]
     },
     "execution_count": 408,
     "metadata": {},
     "output_type": "execute_result"
    }
   ],
   "source": [
    "H == J"
   ]
  },
  {
   "cell_type": "code",
   "execution_count": 410,
   "id": "9c7b740c-3f40-4f89-9c32-be8a632c2bc8",
   "metadata": {
    "slideshow": {
     "slide_type": "fragment"
    }
   },
   "outputs": [
    {
     "data": {
      "text/plain": [
       "True"
      ]
     },
     "execution_count": 410,
     "metadata": {},
     "output_type": "execute_result"
    }
   ],
   "source": [
    "{1,2,2,3} == {3,3,3,2,1} # lembre-se da unicidade"
   ]
  },
  {
   "cell_type": "markdown",
   "id": "7414944e-c7aa-421e-8b3f-328259c99e7e",
   "metadata": {
    "slideshow": {
     "slide_type": "slide"
    }
   },
   "source": [
    "## Compreensões de lista (_listcomps_)"
   ]
  },
  {
   "cell_type": "markdown",
   "id": "f39efce2-006f-4edb-ad3e-38c68f09f72b",
   "metadata": {
    "slideshow": {
     "slide_type": "subslide"
    }
   },
   "source": [
    "**Exemplo:** Construa uma lista dos códigos _Unicode_ correspondentes dos caracteres de uma _string_."
   ]
  },
  {
   "cell_type": "code",
   "execution_count": 172,
   "id": "10234a22-f5d1-4a81-b286-a239b01ebdb7",
   "metadata": {
    "slideshow": {
     "slide_type": "fragment"
    }
   },
   "outputs": [
    {
     "data": {
      "text/plain": [
       "[33, 64, 35, 36, 37]"
      ]
     },
     "execution_count": 172,
     "metadata": {},
     "output_type": "execute_result"
    }
   ],
   "source": [
    "palavra = '!@#$%'\n",
    "cods = []\n",
    "for c in palavra:\n",
    "    cods.append(ord(c))\n",
    "cods    "
   ]
  },
  {
   "cell_type": "markdown",
   "id": "e0a21e5a-e019-4f0a-9e22-736f4b6e3725",
   "metadata": {
    "slideshow": {
     "slide_type": "subslide"
    }
   },
   "source": [
    "Discussão:\n",
    "\n",
    "- `ord` produz o número ordinal correspondente de um caracter segundo o padrão Unicode. Para saber o código hexadecimal correspondente, pode-se fazer `hex(ord(c))`."
   ]
  },
  {
   "cell_type": "markdown",
   "id": "97ba370d-5ccb-4ade-9fee-0a4655770e00",
   "metadata": {
    "slideshow": {
     "slide_type": "subslide"
    }
   },
   "source": [
    "**Exemplo:** Construa uma _listcomp_ correspondente."
   ]
  },
  {
   "cell_type": "code",
   "execution_count": 414,
   "id": "d23921fc-1d5a-4f37-843a-884ac3c083cb",
   "metadata": {
    "slideshow": {
     "slide_type": "fragment"
    }
   },
   "outputs": [
    {
     "data": {
      "text/plain": [
       "[33, 64, 35, 36, 37]"
      ]
     },
     "execution_count": 414,
     "metadata": {},
     "output_type": "execute_result"
    }
   ],
   "source": [
    "palavra = '!@#$%'\n",
    "cods = [ord(c) for c in palavra]\n",
    "cods"
   ]
  },
  {
   "cell_type": "code",
   "execution_count": 416,
   "id": "bb4e590e-5e26-478a-b827-a65f8ff3eee9",
   "metadata": {
    "slideshow": {
     "slide_type": "fragment"
    }
   },
   "outputs": [
    {
     "data": {
      "text/plain": [
       "[33, 64, 35, 36, 37]"
      ]
     },
     "execution_count": 416,
     "metadata": {},
     "output_type": "execute_result"
    }
   ],
   "source": [
    "# listcomp com quebra de linha sem `\\`\n",
    "[ord(c) \n",
    " for c \n",
    " in palavra]"
   ]
  },
  {
   "cell_type": "markdown",
   "id": "e4f7234e-0f2a-4eb9-aa95-63ca7384e12d",
   "metadata": {
    "slideshow": {
     "slide_type": "subslide"
    }
   },
   "source": [
    "**Exemplo:** Construa um produto cartesiano de pares $(a,b)$, onde $a$ é um tipo de sangue de acordo com o sistema ABO e $b$ é o Fator Rh."
   ]
  },
  {
   "cell_type": "code",
   "execution_count": 417,
   "id": "999af27d-710a-4596-878a-f2fd6bf8c4ab",
   "metadata": {
    "slideshow": {
     "slide_type": "fragment"
    }
   },
   "outputs": [
    {
     "data": {
      "text/plain": [
       "[('A', '+'),\n",
       " ('A', '-'),\n",
       " ('B', '+'),\n",
       " ('B', '-'),\n",
       " ('O', '+'),\n",
       " ('O', '-'),\n",
       " ('AB', '+'),\n",
       " ('AB', '-')]"
      ]
     },
     "execution_count": 417,
     "metadata": {},
     "output_type": "execute_result"
    }
   ],
   "source": [
    "A = ['A','B','O','AB']\n",
    "Rh = ['+','-']\n",
    "sangue = [(a,b) for a in A for b in Rh]\n",
    "sangue"
   ]
  },
  {
   "cell_type": "markdown",
   "id": "1546149d-e4ff-404f-89e6-5685103c3f64",
   "metadata": {
    "slideshow": {
     "slide_type": "subslide"
    }
   },
   "source": [
    "**Exemplo:** Construa um produto cartesiano de pares $(a,b)$, onde $a$ é o FatorRh e $b$ é um tipo de sangue de acordo com o sistema ABO."
   ]
  },
  {
   "cell_type": "code",
   "execution_count": 418,
   "id": "2b024180-634a-4863-9fbe-30ac95427708",
   "metadata": {
    "slideshow": {
     "slide_type": "fragment"
    }
   },
   "outputs": [
    {
     "data": {
      "text/plain": [
       "[('+', 'A'),\n",
       " ('-', 'A'),\n",
       " ('+', 'B'),\n",
       " ('-', 'B'),\n",
       " ('+', 'O'),\n",
       " ('-', 'O'),\n",
       " ('+', 'AB'),\n",
       " ('-', 'AB')]"
      ]
     },
     "execution_count": 418,
     "metadata": {},
     "output_type": "execute_result"
    }
   ],
   "source": [
    "[(b,a) for a in A for b in Rh]"
   ]
  },
  {
   "cell_type": "markdown",
   "id": "3fc9c2d5-75e0-4c1c-9dfd-c289d708641f",
   "metadata": {
    "slideshow": {
     "slide_type": "subslide"
    }
   },
   "source": [
    "**Exemplo:** Use _listcomps_ com condicionais para criar filtros."
   ]
  },
  {
   "cell_type": "code",
   "execution_count": 419,
   "id": "157ead58-0469-45e3-9246-de3dc575368e",
   "metadata": {
    "slideshow": {
     "slide_type": "fragment"
    }
   },
   "outputs": [
    {
     "data": {
      "text/plain": [
       "['ALPHATAURI', 'ASTON MARTIN', 'ALPINE', 'ALFA ROMEO RACING']"
      ]
     },
     "execution_count": 419,
     "metadata": {},
     "output_type": "execute_result"
    }
   ],
   "source": [
    "# equipes da fórmula 1\n",
    "f1 = ['Red Bull Racing','Mercedes',\n",
    " 'McLaren','Ferrari','AlphaTauri',\n",
    " 'Aston Martin','Alpine','Alfa Romeo Racing',\n",
    " 'Williams','Haas F1 Team']\n",
    "\n",
    "# equipes que começam com A, em maiúsculas\n",
    "[team.upper() for team in f1 if team[0] == 'A']"
   ]
  },
  {
   "cell_type": "code",
   "execution_count": 420,
   "id": "d2f24716-dc4e-461f-b67d-b90e527945c2",
   "metadata": {
    "slideshow": {
     "slide_type": "fragment"
    }
   },
   "outputs": [
    {
     "data": {
      "text/plain": [
       "['Mercedes', 'McLaren', 'Ferrari', 'Williams']"
      ]
     },
     "execution_count": 420,
     "metadata": {},
     "output_type": "execute_result"
    }
   ],
   "source": [
    "# equipes cujo nome não inicia com A e tem menos do que 10 caracteres\n",
    "[team for team in f1 \n",
    " if team[0] != 'A' and len(team) < 10]"
   ]
  },
  {
   "cell_type": "markdown",
   "id": "dad4e715-9109-4265-9a62-31672b3ffcf5",
   "metadata": {
    "slideshow": {
     "slide_type": "slide"
    }
   },
   "source": [
    "## Compreensões de conjuntos\n",
    "\n",
    "Semelhantemente a _listcomps_, podemos realizar \"_setcomps_\"."
   ]
  },
  {
   "cell_type": "code",
   "execution_count": 424,
   "id": "c22291d8-a32e-4c03-9f0a-363ddc2e81bf",
   "metadata": {
    "slideshow": {
     "slide_type": "subslide"
    }
   },
   "outputs": [
    {
     "data": {
      "text/plain": [
       "{6, 7, 8, 10, 12, 15, 17}"
      ]
     },
     "execution_count": 424,
     "metadata": {},
     "output_type": "execute_result"
    }
   ],
   "source": [
    "# comprimentos de nomes de equipes (únicos)\n",
    "{len(team) for team in f1}"
   ]
  },
  {
   "cell_type": "code",
   "execution_count": 430,
   "id": "0f7fd1b6-5f35-4052-a6da-6c9747ba2ab6",
   "metadata": {
    "slideshow": {
     "slide_type": "fragment"
    }
   },
   "outputs": [
    {
     "data": {
      "text/plain": [
       "[15, 8, 7, 7, 10, 12, 6, 17, 8, 12]"
      ]
     },
     "execution_count": 430,
     "metadata": {},
     "output_type": "execute_result"
    }
   ],
   "source": [
    "[len(team) for team in f1]"
   ]
  },
  {
   "cell_type": "code",
   "execution_count": 432,
   "id": "2675bbdb-f148-4d59-b662-37af02201c30",
   "metadata": {
    "slideshow": {
     "slide_type": "fragment"
    }
   },
   "outputs": [
    {
     "data": {
      "text/plain": [
       "{15, 17}"
      ]
     },
     "execution_count": 432,
     "metadata": {},
     "output_type": "execute_result"
    }
   ],
   "source": [
    "# comprimento de nomes de equipes que terminam com \"ing\"\n",
    "{len(team) for team in f1 if team.endswith('ing')}"
   ]
  },
  {
   "cell_type": "markdown",
   "id": "84f15bd8-f59e-4a9d-beaf-2d876bb2b4cf",
   "metadata": {
    "slideshow": {
     "slide_type": "slide"
    }
   },
   "source": [
    "## Compreensões de dicionários\n",
    "\n",
    "Compreensões de dicionários, ou \"_dictcomps_\", possuem resultados similares às anteriores e são convenientes para criar _dicts_."
   ]
  },
  {
   "cell_type": "code",
   "execution_count": 434,
   "id": "b28764c9-7c4a-4c94-af8d-f39e544d0528",
   "metadata": {
    "slideshow": {
     "slide_type": "subslide"
    }
   },
   "outputs": [
    {
     "data": {
      "text/plain": [
       "{0: 'Red Bull Racing',\n",
       " 1: 'Mercedes',\n",
       " 2: 'McLaren',\n",
       " 3: 'Ferrari',\n",
       " 4: 'AlphaTauri',\n",
       " 5: 'Aston Martin',\n",
       " 6: 'Alpine',\n",
       " 7: 'Alfa Romeo Racing',\n",
       " 8: 'Williams',\n",
       " 9: 'Haas F1 Team'}"
      ]
     },
     "execution_count": 434,
     "metadata": {},
     "output_type": "execute_result"
    }
   ],
   "source": [
    "{k:v for k,v in enumerate(f1)}"
   ]
  },
  {
   "cell_type": "code",
   "execution_count": 435,
   "id": "b67f640c-d342-47ae-8a99-4b988506203f",
   "metadata": {
    "slideshow": {
     "slide_type": "subslide"
    }
   },
   "outputs": [
    {
     "data": {
      "text/plain": [
       "{7: 'Red Bull Racing',\n",
       " 8: 'Mercedes',\n",
       " 9: 'McLaren',\n",
       " 10: 'Ferrari',\n",
       " 11: 'AlphaTauri',\n",
       " 12: 'Aston Martin',\n",
       " 13: 'Alpine',\n",
       " 14: 'Alfa Romeo Racing',\n",
       " 15: 'Williams',\n",
       " 16: 'Haas F1 Team'}"
      ]
     },
     "execution_count": 435,
     "metadata": {},
     "output_type": "execute_result"
    }
   ],
   "source": [
    "# enumera a partir do índice 7, mas percorre toda a lista\n",
    "{k:v for k,v in enumerate(f1,7)}"
   ]
  },
  {
   "cell_type": "markdown",
   "id": "161f8811-b8e4-42de-bca6-8040c46c7b8a",
   "metadata": {
    "slideshow": {
     "slide_type": "slide"
    }
   },
   "source": [
    "## _Sorted_ \n",
    "\n",
    "- Listas em Python possuem um método chamado `sort` com o qual podemos realizar uma ordenação _in-place_ de uma lista. \n",
    "\n",
    "- A função `sorted` permite que façamos o mesmo criando uma nova lista e, dessa maneira, não alterando a lista original."
   ]
  },
  {
   "cell_type": "code",
   "execution_count": 444,
   "id": "f3549576-c7a1-44ae-8db7-49dc1ea36850",
   "metadata": {
    "slideshow": {
     "slide_type": "subslide"
    }
   },
   "outputs": [
    {
     "data": {
      "text/plain": [
       "['Red Bull Racing',\n",
       " 'Mercedes',\n",
       " 'McLaren',\n",
       " 'Ferrari',\n",
       " 'AlphaTauri',\n",
       " 'Aston Martin',\n",
       " 'Alpine',\n",
       " 'Alfa Romeo Racing',\n",
       " 'Williams',\n",
       " 'Haas F1 Team']"
      ]
     },
     "execution_count": 444,
     "metadata": {},
     "output_type": "execute_result"
    }
   ],
   "source": [
    "# copia lista f1\n",
    "f1c = f1.copy()\n",
    "f1c"
   ]
  },
  {
   "cell_type": "code",
   "execution_count": 445,
   "id": "cca30c2f-ddfe-413e-8183-3e189b6ab451",
   "metadata": {
    "slideshow": {
     "slide_type": "subslide"
    }
   },
   "outputs": [
    {
     "data": {
      "text/plain": [
       "['Alfa Romeo Racing',\n",
       " 'AlphaTauri',\n",
       " 'Alpine',\n",
       " 'Aston Martin',\n",
       " 'Ferrari',\n",
       " 'Haas F1 Team',\n",
       " 'McLaren',\n",
       " 'Mercedes',\n",
       " 'Red Bull Racing',\n",
       " 'Williams']"
      ]
     },
     "execution_count": 445,
     "metadata": {},
     "output_type": "execute_result"
    }
   ],
   "source": [
    "# lista ordenada\n",
    "f1c.sort()\n",
    "f1c"
   ]
  },
  {
   "cell_type": "code",
   "execution_count": 446,
   "id": "b302e034-6667-416b-8b10-614f597b9702",
   "metadata": {
    "slideshow": {
     "slide_type": "subslide"
    }
   },
   "outputs": [
    {
     "data": {
      "text/plain": [
       "['Alfa Romeo Racing',\n",
       " 'AlphaTauri',\n",
       " 'Alpine',\n",
       " 'Aston Martin',\n",
       " 'Ferrari',\n",
       " 'Haas F1 Team',\n",
       " 'McLaren',\n",
       " 'Mercedes',\n",
       " 'Red Bull Racing',\n",
       " 'Williams']"
      ]
     },
     "execution_count": 446,
     "metadata": {},
     "output_type": "execute_result"
    }
   ],
   "source": [
    "# lista f1 ordenada\n",
    "f1c2 = sorted(f1)\n",
    "f1c2"
   ]
  },
  {
   "cell_type": "code",
   "execution_count": 447,
   "id": "0a55790c-1c4d-434f-ad7f-bf9fb56f386f",
   "metadata": {
    "slideshow": {
     "slide_type": "subslide"
    }
   },
   "outputs": [
    {
     "data": {
      "text/plain": [
       "['Red Bull Racing',\n",
       " 'Mercedes',\n",
       " 'McLaren',\n",
       " 'Ferrari',\n",
       " 'AlphaTauri',\n",
       " 'Aston Martin',\n",
       " 'Alpine',\n",
       " 'Alfa Romeo Racing',\n",
       " 'Williams',\n",
       " 'Haas F1 Team']"
      ]
     },
     "execution_count": 447,
     "metadata": {},
     "output_type": "execute_result"
    }
   ],
   "source": [
    "# lista original intacta\n",
    "f1"
   ]
  },
  {
   "cell_type": "code",
   "execution_count": 448,
   "id": "0d053034-ca49-4888-ae5b-4cbee98933ef",
   "metadata": {
    "slideshow": {
     "slide_type": "subslide"
    }
   },
   "outputs": [
    {
     "data": {
      "text/plain": [
       "['Williams',\n",
       " 'Red Bull Racing',\n",
       " 'Mercedes',\n",
       " 'McLaren',\n",
       " 'Haas F1 Team',\n",
       " 'Ferrari',\n",
       " 'Aston Martin',\n",
       " 'Alpine',\n",
       " 'AlphaTauri',\n",
       " 'Alfa Romeo Racing']"
      ]
     },
     "execution_count": 448,
     "metadata": {},
     "output_type": "execute_result"
    }
   ],
   "source": [
    "# ordenação re\n",
    "sorted(f1,reverse=True)"
   ]
  },
  {
   "cell_type": "markdown",
   "id": "305846d7-38e5-4bdc-87cf-8e8f79146ef6",
   "metadata": {
    "slideshow": {
     "slide_type": "slide"
    }
   },
   "source": [
    "## Aleatoriedade\n",
    "\n",
    "- Números aleatórios, ou também chamados de randômicos, são úteis para fabricar experimentos estatísticos, realizar amostragem e desenvolver uma série de estudos envolvendo probabilidade.  \n",
    "\n",
    "- Em Python, podemos usar o módulo `random` para atingir uma diversidade de propósitos em ciência de dados. Vamos explorar algumas funções para geração aleatória: `choice`, `random`, `randint`, `shuffle` e `sample`."
   ]
  },
  {
   "cell_type": "code",
   "execution_count": 189,
   "id": "1c617e2b-c99a-4c7b-9fc8-6fdcd2cd1389",
   "metadata": {
    "slideshow": {
     "slide_type": "subslide"
    }
   },
   "outputs": [],
   "source": [
    "import random"
   ]
  },
  {
   "cell_type": "markdown",
   "id": "b6b51062-0b36-4a8a-a3c6-603511d0b145",
   "metadata": {
    "slideshow": {
     "slide_type": "fragment"
    }
   },
   "source": [
    "**Exemplo:** Crie um experimento de lançamento de dados e realize uma escolha aleatória em $n$ lançamentos."
   ]
  },
  {
   "cell_type": "code",
   "execution_count": 190,
   "id": "9c012294-5a24-4730-92f7-793445c3f491",
   "metadata": {
    "slideshow": {
     "slide_type": "fragment"
    }
   },
   "outputs": [
    {
     "name": "stdout",
     "output_type": "stream",
     "text": [
      "4\n",
      "1\n",
      "2\n",
      "1\n"
     ]
    }
   ],
   "source": [
    "dado = list(range(1,7))\n",
    "\n",
    "n = 4\n",
    "for _ in range(n):\n",
    "    print(random.choice(dado))"
   ]
  },
  {
   "cell_type": "markdown",
   "id": "06ded275-28ed-4c6c-b64c-4ab40b803718",
   "metadata": {
    "slideshow": {
     "slide_type": "subslide"
    }
   },
   "source": [
    "Comentários:\n",
    "\n",
    "- O _loop_ será repetido $n$ vezes.\n",
    "- O método `choice` escolhe um valor ao acaso entre os disponíveis na lista. "
   ]
  },
  {
   "cell_type": "markdown",
   "id": "e7b1bfcc-a218-47f2-823e-2b332c0421b6",
   "metadata": {
    "slideshow": {
     "slide_type": "subslide"
    }
   },
   "source": [
    "**Exemplo:** Crie um experimento de probabilidade aleatório que determine a salinidade presente em 1 litro de água marinha (3 - 5%). "
   ]
  },
  {
   "cell_type": "code",
   "execution_count": 191,
   "id": "b075a1ea-424a-4e07-9670-de2c95cd7296",
   "metadata": {
    "slideshow": {
     "slide_type": "fragment"
    }
   },
   "outputs": [
    {
     "data": {
      "text/plain": [
       "[0.0305926166842815,\n",
       " 0.048945321318505396,\n",
       " 0.047421318696230105,\n",
       " 0.03159297358232361,\n",
       " 0.03967769053476741]"
      ]
     },
     "execution_count": 191,
     "metadata": {},
     "output_type": "execute_result"
    }
   ],
   "source": [
    "na = 5\n",
    "saly = []\n",
    "for _ in range(na):\n",
    "    saly.append(0.03 + (0.05-0.03)*random.random())\n",
    "saly    "
   ]
  },
  {
   "cell_type": "markdown",
   "id": "1ad61b8a-984e-4e5f-b7e6-d09a0dcfa3b5",
   "metadata": {
    "slideshow": {
     "slide_type": "fragment"
    }
   },
   "source": [
    "Comentários: \n",
    "\n",
    "- Este experimento equivale a coletar 5 amostras de água marinha com salinidade variável entre 3 e 5%.\n",
    "- O método `random` determina um número aleatório no intervalo [0,1)."
   ]
  },
  {
   "cell_type": "markdown",
   "id": "37e22065-6c13-47e8-b48b-fd1721fb0e4e",
   "metadata": {
    "slideshow": {
     "slide_type": "subslide"
    }
   },
   "source": [
    "**Exemplo:** Crie um experimento que ordena 15 arremessadores para cestas de 3 pontos durante um treinamento do time do Los Angeles Lakers (0 a 99) excluindo a lista de números reservados. Considere que se o número sorteado não estiver atribuído a nenhum jogador atual ou se já tiver sido sorteado, o técnico escolherá o próximo da lista.\n",
    "\n",
    "Lista de números reservados: 8,13,17,19,22,24,25,32,33,34,42,44,52,99."
   ]
  },
  {
   "cell_type": "code",
   "execution_count": 192,
   "id": "9399df99-8f81-493f-a542-a93723a77cb7",
   "metadata": {
    "slideshow": {
     "slide_type": "subslide"
    }
   },
   "outputs": [
    {
     "name": "stdout",
     "output_type": "stream",
     "text": [
      "Los Angeles Lakers :: 3-point shooters (Training Schedule):\n",
      "79\n",
      "63\n",
      "81\n",
      "9\n",
      "30\n",
      "15\n",
      "18\n",
      "90\n",
      "59\n",
      "50\n",
      "7\n",
      "89\n",
      "11\n",
      "98\n",
      "1\n"
     ]
    }
   ],
   "source": [
    "reservados = [8,13,17,19,22,24,25,32,33,34,42,44,52,99]\n",
    "\n",
    "shooter = []\n",
    "while len(shooter) != 15:\n",
    "    x = random.randint(0,99)\n",
    "    if x not in reservados and x not in shooter:\n",
    "        shooter.append(x)    \n",
    "\n",
    "print('Los Angeles Lakers :: 3-point shooters (Training Schedule):')\n",
    "for s in shooter:\n",
    "    print(s)\n",
    "        "
   ]
  },
  {
   "cell_type": "markdown",
   "id": "6989b584-6df3-4e90-92ff-07ede83cb986",
   "metadata": {
    "slideshow": {
     "slide_type": "subslide"
    }
   },
   "source": [
    "Comentários: \n",
    "\n",
    "- O _loop_ _while_ encerrará quando uma lista com 15 arremessadores estiver completa.\n",
    "- A estrutura condicional previne que números já sorteados entrem na lista.\n",
    "- O método `randint` escolhe um número inteiro aleatório entre 0 e 99."
   ]
  },
  {
   "cell_type": "markdown",
   "id": "2f0e5f00-884e-4965-ae13-6b5c7a332d80",
   "metadata": {
    "slideshow": {
     "slide_type": "subslide"
    }
   },
   "source": [
    "**Exemplo:** Crie uma alteração no schedule de treinamento anterior a partir da última lista disponível."
   ]
  },
  {
   "cell_type": "code",
   "execution_count": 193,
   "id": "bcead399-6262-435b-a0d5-2eee6cf6a566",
   "metadata": {
    "slideshow": {
     "slide_type": "fragment"
    }
   },
   "outputs": [
    {
     "name": "stdout",
     "output_type": "stream",
     "text": [
      "None\n"
     ]
    },
    {
     "data": {
      "text/plain": [
       "[15, 59, 7, 63, 18, 89, 9, 30, 1, 98, 50, 79, 81, 90, 11]"
      ]
     },
     "execution_count": 193,
     "metadata": {},
     "output_type": "execute_result"
    }
   ],
   "source": [
    "print(random.shuffle(shooter))\n",
    "shooter"
   ]
  },
  {
   "cell_type": "markdown",
   "id": "0a346466-9a87-4bae-bae8-36ec19ca815e",
   "metadata": {
    "slideshow": {
     "slide_type": "fragment"
    }
   },
   "source": [
    "Comentário: \n",
    "\n",
    "- O método `shuffle` reordena a lista `shooter` randomicamente e produz um valor `None` como saída. Dessa forma, geramos uma nova lista com os mesmos arremessadores pré-selecionados, mas em ordem distinta."
   ]
  },
  {
   "cell_type": "markdown",
   "id": "b2efad83-8221-4db4-9819-597996838306",
   "metadata": {
    "slideshow": {
     "slide_type": "subslide"
    }
   },
   "source": [
    "**Exemplo:** Construa uma tabela aleatória de 3 jogos de beisebol entre times da MLB."
   ]
  },
  {
   "cell_type": "code",
   "execution_count": 194,
   "id": "1fb7b1d0-a7c8-4f07-be62-d655f03bf729",
   "metadata": {
    "slideshow": {
     "slide_type": "fragment"
    }
   },
   "outputs": [
    {
     "name": "stdout",
     "output_type": "stream",
     "text": [
      "Game 1: Washington Nationals x St. Louis Cardinals\n",
      "Game 2: Seattle Mariners x Houston Astros\n",
      "Game 3: Atlanta Braves x St. Louis Cardinals\n"
     ]
    }
   ],
   "source": [
    "# lê arquivo com nome de times da MLB\n",
    "with open('../database/mlb-teams.csv') as f:\n",
    "    mlb = f.read().splitlines()\n",
    "    \n",
    "for _ in range(3):\n",
    "    a,b = random.sample(mlb,2)\n",
    "    print(f'Game {_+1}: {a} x {b}')        "
   ]
  },
  {
   "cell_type": "markdown",
   "id": "6a130811-0839-4d4e-897c-acd5ab232e4b",
   "metadata": {
    "slideshow": {
     "slide_type": "fragment"
    }
   },
   "source": [
    "Comentários: \n",
    "\n",
    "- O método `sample` realiza uma amostragem de $k$ valores disponíveis na lista. Aqui, escolhemos $k=2$, de modo que 2 times são escolhidos ao acaso para comporem 3 jogos."
   ]
  },
  {
   "cell_type": "markdown",
   "id": "3346d072-de58-45ba-8acf-dc2545a81478",
   "metadata": {
    "slideshow": {
     "slide_type": "slide"
    }
   },
   "source": [
    "## Expressões regulares\n",
    "\n",
    "Expressões regulares (_regular expressions_), também conhecidas como _RE_, _regexes_, ou _regex pattern_ são regras estabelecidas para localizar padrões desejados em strings. REs, na verdade, formam uma pequena linguagem de programação dentro de uma linguagem maior. "
   ]
  },
  {
   "cell_type": "markdown",
   "id": "64c674a5-b46a-432a-8218-fdd0268a2af2",
   "metadata": {
    "slideshow": {
     "slide_type": "subslide"
    }
   },
   "source": [
    "### Padrões simples, caracterese ordinários e metacaracteres\n",
    "\n",
    "- A tarefa mais simples que podemos executar com REs é combinar caracteres.\n",
    "\n",
    "_Caracteres ordinários_ são basicamente todos os caracteres ASCII alfanuméricos, tais como `'b'`,  `'B'` e `'1'`.\n",
    "\n",
    "_Caracteres especiais_ são todos os metacaracteres. A lista dos metacaracteres é a seguinte: \n",
    "\n",
    "```\n",
    ". ^ $ * + ? { } [ ] \\ | ( )\n",
    "``` "
   ]
  },
  {
   "cell_type": "code",
   "execution_count": 195,
   "id": "cfde4f6f-2a60-473a-bf9e-a12d077f02b7",
   "metadata": {
    "slideshow": {
     "slide_type": "subslide"
    }
   },
   "outputs": [
    {
     "name": "stdout",
     "output_type": "stream",
     "text": [
      "! \" # $ % & ' ( ) * + , - . / 0 1 2 3 4 5 6 7 8 9 : ; < = > ? @ A B C D E F G H I J K L M N O P Q R S T U V W X Y Z [ \\ ] ^ _ ` a b c d e f g h i j k l m n o p q r s t u v w x y z { | } ~ "
     ]
    }
   ],
   "source": [
    "# imprime caracteres ASCII mais comuns \n",
    "# end = ' ' altera a terminação padrão '\\n'\n",
    "for i in range(33,127):\n",
    "    print(chr(i), end = ' ')"
   ]
  },
  {
   "cell_type": "markdown",
   "id": "29525868-b959-45d6-93a8-197551a1f05d",
   "metadata": {
    "slideshow": {
     "slide_type": "slide"
    }
   },
   "source": [
    "### O módulo `re`\n",
    "\n",
    "- Em Python, temos à disposição o módulo `re` para trabalhar com REs. \n",
    "\n",
    "- Vamos ler o arquivo bras-cubas.txt e salvar o texto em uma _string_."
   ]
  },
  {
   "cell_type": "code",
   "execution_count": 196,
   "id": "cffd528c-1b37-4cf1-96c4-e16904b855de",
   "metadata": {
    "slideshow": {
     "slide_type": "slide"
    }
   },
   "outputs": [
    {
     "data": {
      "text/plain": [
       "'Não durou muito a evocação; a realidade dominou logo; o presente expeliu o passado. Talvez eu exponha ao leitor, em algum canto deste livro, a minha teoria das edições humanas. O que por agora importa saber é que Virgília — chamava-se Virgília — entrou na alcova, firme, com a gravidade que lhe davam as roupas e os anos, e veio até o meu leito. O estranho levantou-se e saiu. Era um sujeito, que me visitava todos os dias para falar do câmbio, da colonização e da necessidade de desenvolver a viação férrea; nada mais interessante para um moribundo. Saiu; Virgília deixou-se estar de pé; durante algum tempo ficamos a olhar um para o outro, sem articular palavra. Quem diria? De dois grandes namorados, de duas paixões sem freio, nada mais havia ali, vinte anos depois; havia apenas dois corações murchos, devastados pela vida e saciados dela, não sei se em igual dose, mas enfim saciados. Virgília tinha agora a beleza da velhice, um ar austero e maternal; estava menos magra do que quando a vi, pela última vez, numa festa de São João, na Tijuca; e porque era das que resistem muito, só agora começavam os cabelos escuros a intercalar-se com alguns fios de prata.'"
      ]
     },
     "execution_count": 196,
     "metadata": {},
     "output_type": "execute_result"
    }
   ],
   "source": [
    "with open('../database/bras-cubas.txt', 'r') as f:\n",
    "    cubas = f.read()\n",
    "cubas    "
   ]
  },
  {
   "cell_type": "code",
   "execution_count": 197,
   "id": "741448d0-a5e8-4207-b447-96f85ce7e1f7",
   "metadata": {
    "slideshow": {
     "slide_type": "subslide"
    }
   },
   "outputs": [],
   "source": [
    "# importa o módulo\n",
    "import re"
   ]
  },
  {
   "cell_type": "markdown",
   "id": "9ec083fa-db27-49c0-9bbe-70991600c811",
   "metadata": {
    "slideshow": {
     "slide_type": "fragment"
    }
   },
   "source": [
    "As principais funções do módulo `re` podem ser resumidas ao seguinte modelo:\n",
    "\n",
    "```python\n",
    "re.f(pattern,string)\n",
    "```\n",
    "onde _f_ é o nome da função, _pattern_ é o padrão, isto é, a _regex_, e _string_ é a string na qual o padrão é procurado. Exploraremos algumas delas a seguir compreendendo, simultaneamente, o papel desempenhado pelos metacaracteres. "
   ]
  },
  {
   "cell_type": "markdown",
   "id": "e33d7372-a0eb-4ed9-882a-d42b35aca65a",
   "metadata": {
    "slideshow": {
     "slide_type": "subslide"
    }
   },
   "source": [
    "**Exemplo:** Procure pelo padrão \"que\" no texto-base e conte quantas vezes ele aparece."
   ]
  },
  {
   "cell_type": "code",
   "execution_count": 198,
   "id": "4b596313-617d-4e68-9227-edef5a548af1",
   "metadata": {
    "slideshow": {
     "slide_type": "subslide"
    }
   },
   "outputs": [
    {
     "name": "stdout",
     "output_type": "stream",
     "text": [
      "['que', 'que', 'que', 'que', 'que', 'que', 'que']\n",
      "7\n"
     ]
    }
   ],
   "source": [
    "# busca todas as combinações\n",
    "que = re.findall('que',cubas)\n",
    "print(que)\n",
    "print(len(que))"
   ]
  },
  {
   "cell_type": "code",
   "execution_count": 199,
   "id": "4ad844b9-b776-48b9-804f-69cefde85093",
   "metadata": {
    "slideshow": {
     "slide_type": "subslide"
    }
   },
   "outputs": [
    {
     "data": {
      "text/plain": [
       "['xou']"
      ]
     },
     "execution_count": 199,
     "metadata": {},
     "output_type": "execute_result"
    }
   ],
   "source": [
    "# padrão presente, mas não é palavra inteligível\n",
    "re.findall('xou',cubas)"
   ]
  },
  {
   "cell_type": "markdown",
   "id": "74094831-c39c-4244-ab2c-b365debf63b1",
   "metadata": {
    "slideshow": {
     "slide_type": "subslide"
    }
   },
   "source": [
    "Buscas por caracteres ordinários são sempre exatas, no sentido de que o caracter é combinado como ele é. Vejamos um exemplo que conta as vogais que aparecem no texto."
   ]
  },
  {
   "cell_type": "code",
   "execution_count": 200,
   "id": "2d1b03dc-7c13-4c7c-a678-2afb0fd3ee0a",
   "metadata": {
    "slideshow": {
     "slide_type": "fragment"
    }
   },
   "outputs": [
    {
     "name": "stdout",
     "output_type": "stream",
     "text": [
      "A vogal 'a' foi localizada 143 vezes no texto.\n",
      "A vogal 'e' foi localizada 104 vezes no texto.\n",
      "A vogal 'i' foi localizada 65 vezes no texto.\n",
      "A vogal 'o' foi localizada 83 vezes no texto.\n",
      "A vogal 'u' foi localizada 43 vezes no texto.\n"
     ]
    }
   ],
   "source": [
    "for vogal in ['a','e','i','o','u']:    \n",
    "    print(f'A vogal \\'{vogal}\\' foi \\\n",
    "localizada {len(re.findall(vogal,cubas))} vezes no texto.')"
   ]
  },
  {
   "cell_type": "markdown",
   "id": "c394cae2-2930-482d-ae97-12789697bbff",
   "metadata": {
    "slideshow": {
     "slide_type": "subslide"
    }
   },
   "source": [
    "**Exemplo:** Busque pelo padrão \"Tijuca\" no texto e determine suas posições de início e término."
   ]
  },
  {
   "cell_type": "code",
   "execution_count": 201,
   "id": "198d2603-0084-4e27-b13c-c574e44a5583",
   "metadata": {
    "slideshow": {
     "slide_type": "fragment"
    }
   },
   "outputs": [
    {
     "data": {
      "text/plain": [
       "(1042, 1048, 'Tijuca')"
      ]
     },
     "execution_count": 201,
     "metadata": {},
     "output_type": "execute_result"
    }
   ],
   "source": [
    "# busca por combinação retornado posição\n",
    "p = re.search('Tijuca',cubas)\n",
    "p.start(), p.end(), p.group()"
   ]
  },
  {
   "cell_type": "markdown",
   "id": "e68ea9fe-149b-479f-9e11-43bd1f825dd2",
   "metadata": {
    "slideshow": {
     "slide_type": "subslide"
    }
   },
   "source": [
    "Discussão: \n",
    "\n",
    "- O método `search` procura pelo padrão `'Tijuca'` em `cubas` e retorna três informações:\n",
    "    - `start`: a posição inicial do padrão\n",
    "    - `end`: a posição final do padrão\n",
    "    - `group`: o padrão localizado\n",
    "- O padrão aparece apenas uma vez no texto na fatia `cubas[1042:1048]`."
   ]
  },
  {
   "cell_type": "markdown",
   "id": "7b1acc71-997b-4800-901f-32085bb3f0cd",
   "metadata": {
    "slideshow": {
     "slide_type": "subslide"
    }
   },
   "source": [
    "Comentários: \n",
    "\n",
    "- Caso houvesse repetição do padrão, apenas os índices da primeira aparição seriam retornados. Vejamos: "
   ]
  },
  {
   "cell_type": "code",
   "execution_count": 202,
   "id": "47c09a77-85f7-44f8-b739-3f9779aacc33",
   "metadata": {
    "slideshow": {
     "slide_type": "subslide"
    }
   },
   "outputs": [
    {
     "data": {
      "text/plain": [
       "(179, 182, 'que')"
      ]
     },
     "execution_count": 202,
     "metadata": {},
     "output_type": "execute_result"
    }
   ],
   "source": [
    "p2 = re.search('que',cubas)\n",
    "p2.start(), p2.end(), p2.group()"
   ]
  },
  {
   "cell_type": "markdown",
   "id": "6002fc87-898f-47e6-93e5-ed7af9a8650a",
   "metadata": {
    "slideshow": {
     "slide_type": "subslide"
    }
   },
   "source": [
    "Vimos anteriormente que há 7 aparições do padrão \"que\" no texto-base. Porém, apenas a primeira é retornada por `search`. Vejamos:"
   ]
  },
  {
   "cell_type": "code",
   "execution_count": 203,
   "id": "ffcb2f23-03a6-4ae4-add4-bad590149b5b",
   "metadata": {
    "slideshow": {
     "slide_type": "fragment"
    }
   },
   "outputs": [
    {
     "data": {
      "text/plain": [
       "{'que'}"
      ]
     },
     "execution_count": 203,
     "metadata": {},
     "output_type": "execute_result"
    }
   ],
   "source": [
    "# uma maneira de mostrar que há apenas\n",
    "# um 'que' até o caracter 182 de 'cubas'\n",
    "# por meio de split e interseção de conjuntos\n",
    "set(cubas[0:182].split(' ')).intersection({'que'})"
   ]
  },
  {
   "cell_type": "markdown",
   "id": "939c8ed3-5880-4458-8a23-3609a74f0527",
   "metadata": {
    "slideshow": {
     "slide_type": "fragment"
    }
   },
   "source": [
    "Como este conjunto é unitário, há apenas um padrão 'que' até a posição 182 de `cubas`."
   ]
  },
  {
   "cell_type": "markdown",
   "id": "349d02e8-13a3-4c43-8f73-97579ae77349",
   "metadata": {
    "slideshow": {
     "slide_type": "subslide"
    }
   },
   "source": [
    "**Exemplo:** Busque pelo padrão \"Não\" no texto e verifique se ele aparece no início da string."
   ]
  },
  {
   "cell_type": "code",
   "execution_count": 204,
   "id": "968ab72e-e381-47fc-885b-beada5567566",
   "metadata": {
    "slideshow": {
     "slide_type": "fragment"
    }
   },
   "outputs": [
    {
     "data": {
      "text/plain": [
       "0"
      ]
     },
     "execution_count": 204,
     "metadata": {},
     "output_type": "execute_result"
    }
   ],
   "source": [
    "p3 = re.match('Não',cubas)\n",
    "p3.start()"
   ]
  },
  {
   "cell_type": "markdown",
   "id": "a0d9e019-0933-4eed-aff3-b4cfa2285575",
   "metadata": {
    "slideshow": {
     "slide_type": "subslide"
    }
   },
   "source": [
    "**Exemplo:** Substitua o padrão \"Virgília\" por \"Ofélia\" em toda a string do texto."
   ]
  },
  {
   "cell_type": "code",
   "execution_count": 205,
   "id": "1c538a51-9b74-437f-80da-f89b6b744f32",
   "metadata": {
    "slideshow": {
     "slide_type": "subslide"
    }
   },
   "outputs": [
    {
     "data": {
      "text/plain": [
       "'Não durou muito a evocação; a realidade dominou logo; o presente expeliu o passado. Talvez eu exponha ao leitor, em algum canto deste livro, a minha teoria das edições humanas. O que por agora importa saber é que Ofélia — chamava-se Ofélia — entrou na alcova, firme, com a gravidade que lhe davam as roupas e os anos, e veio até o meu leito. O estranho levantou-se e saiu. Era um sujeito, que me visitava todos os dias para falar do câmbio, da colonização e da necessidade de desenvolver a viação férrea; nada mais interessante para um moribundo. Saiu; Ofélia deixou-se estar de pé; durante algum tempo ficamos a olhar um para o outro, sem articular palavra. Quem diria? De dois grandes namorados, de duas paixões sem freio, nada mais havia ali, vinte anos depois; havia apenas dois corações murchos, devastados pela vida e saciados dela, não sei se em igual dose, mas enfim saciados. Ofélia tinha agora a beleza da velhice, um ar austero e maternal; estava menos magra do que quando a vi, pela última vez, numa festa de São João, na Tijuca; e porque era das que resistem muito, só agora começavam os cabelos escuros a intercalar-se com alguns fios de prata.'"
      ]
     },
     "execution_count": 205,
     "metadata": {},
     "output_type": "execute_result"
    }
   ],
   "source": [
    "cubas_novo = re.sub('Virgília','Ofélia',cubas)\n",
    "cubas_novo"
   ]
  },
  {
   "cell_type": "markdown",
   "id": "1864d07a-bb15-43fb-9071-95a2a1638029",
   "metadata": {
    "slideshow": {
     "slide_type": "subslide"
    }
   },
   "source": [
    "**Exemplo:** Substitua o padrão \"Virgília\" por \"Ofélia\" apenas nas duas primeiras aparições"
   ]
  },
  {
   "cell_type": "code",
   "execution_count": 206,
   "id": "6d5de795-c04d-4c98-bde2-ed7029270030",
   "metadata": {
    "slideshow": {
     "slide_type": "fragment"
    }
   },
   "outputs": [
    {
     "data": {
      "text/plain": [
       "'Não durou muito a evocação; a realidade dominou logo; o presente expeliu o passado. Talvez eu exponha ao leitor, em algum canto deste livro, a minha teoria das edições humanas. O que por agora importa saber é que Ofélia — chamava-se Ofélia — entrou na alcova, firme, com a gravidade que lhe davam as roupas e os anos, e veio até o meu leito. O estranho levantou-se e saiu. Era um sujeito, que me visitava todos os dias para falar do câmbio, da colonização e da necessidade de desenvolver a viação férrea; nada mais interessante para um moribundo. Saiu; Virgília deixou-se estar de pé; durante algum tempo ficamos a olhar um para o outro, sem articular palavra. Quem diria? De dois grandes namorados, de duas paixões sem freio, nada mais havia ali, vinte anos depois; havia apenas dois corações murchos, devastados pela vida e saciados dela, não sei se em igual dose, mas enfim saciados. Virgília tinha agora a beleza da velhice, um ar austero e maternal; estava menos magra do que quando a vi, pela última vez, numa festa de São João, na Tijuca; e porque era das que resistem muito, só agora começavam os cabelos escuros a intercalar-se com alguns fios de prata.'"
      ]
     },
     "execution_count": 206,
     "metadata": {},
     "output_type": "execute_result"
    }
   ],
   "source": [
    "cubas_novo2 = re.sub('Virgília','Ofélia',cubas,count=2)\n",
    "cubas_novo2"
   ]
  },
  {
   "cell_type": "code",
   "execution_count": 207,
   "id": "00c2cd3b-f9ac-46b5-9688-367bcf6ca2db",
   "metadata": {
    "slideshow": {
     "slide_type": "subslide"
    }
   },
   "outputs": [
    {
     "name": "stdout",
     "output_type": "stream",
     "text": [
      "4\n",
      "0\n",
      "2\n"
     ]
    }
   ],
   "source": [
    "# original\n",
    "print(len(re.findall('Virgília',cubas)))\n",
    "\n",
    "# \"Virgília\" -> \"Ofélia\" integralmente\n",
    "print(len(re.findall('Virgília',cubas_novo)))\n",
    "\n",
    "# \"Virgília\" -> \"Ofélia\" em 2 ocorrências apenas\n",
    "print(len(re.findall('Virgília',cubas_novo2)))"
   ]
  },
  {
   "cell_type": "markdown",
   "id": "4dcd7c40-db66-48bd-8fde-23219b708149",
   "metadata": {
    "slideshow": {
     "slide_type": "subslide"
    }
   },
   "source": [
    "**Exemplo:** Seccione o texto em várias substrings usando a vírgula (\",\") como ponto de quebra:"
   ]
  },
  {
   "cell_type": "code",
   "execution_count": 208,
   "id": "0ad5057b-c105-4952-bb95-f57230f07931",
   "metadata": {
    "slideshow": {
     "slide_type": "fragment"
    }
   },
   "outputs": [
    {
     "data": {
      "text/plain": [
       "['Não durou muito a evocação; a realidade dominou logo; o presente expeliu o passado. Talvez eu exponha ao leitor',\n",
       " ' em algum canto deste livro',\n",
       " ' a minha teoria das edições humanas. O que por agora importa saber é que Virgília — chamava-se Virgília — entrou na alcova',\n",
       " ' firme',\n",
       " ' com a gravidade que lhe davam as roupas e os anos',\n",
       " ' e veio até o meu leito. O estranho levantou-se e saiu. Era um sujeito',\n",
       " ' que me visitava todos os dias para falar do câmbio',\n",
       " ' da colonização e da necessidade de desenvolver a viação férrea; nada mais interessante para um moribundo. Saiu; Virgília deixou-se estar de pé; durante algum tempo ficamos a olhar um para o outro',\n",
       " ' sem articular palavra. Quem diria? De dois grandes namorados',\n",
       " ' de duas paixões sem freio',\n",
       " ' nada mais havia ali',\n",
       " ' vinte anos depois; havia apenas dois corações murchos',\n",
       " ' devastados pela vida e saciados dela',\n",
       " ' não sei se em igual dose',\n",
       " ' mas enfim saciados. Virgília tinha agora a beleza da velhice',\n",
       " ' um ar austero e maternal; estava menos magra do que quando a vi',\n",
       " ' pela última vez',\n",
       " ' numa festa de São João',\n",
       " ' na Tijuca; e porque era das que resistem muito',\n",
       " ' só agora começavam os cabelos escuros a intercalar-se com alguns fios de prata.']"
      ]
     },
     "execution_count": 208,
     "metadata": {},
     "output_type": "execute_result"
    }
   ],
   "source": [
    "cubas_sep = re.split(',',cubas)\n",
    "cubas_sep"
   ]
  },
  {
   "cell_type": "markdown",
   "id": "0a690bce-82d3-412a-8b34-3e2561e96763",
   "metadata": {
    "slideshow": {
     "slide_type": "subslide"
    }
   },
   "source": [
    "**Exemplo:** Separe a string do texto em no máximo 3 substrings usando o padrão \"ão\" como ponto de quebra. "
   ]
  },
  {
   "cell_type": "code",
   "execution_count": 209,
   "id": "d50ce257-622e-43a7-a820-6d12f008453d",
   "metadata": {
    "slideshow": {
     "slide_type": "fragment"
    }
   },
   "outputs": [
    {
     "data": {
      "text/plain": [
       "['N',\n",
       " ' durou muito a evocaç',\n",
       " '; a realidade dominou logo; o presente expeliu o passado. Talvez eu exponha ao leitor, em algum canto deste livro, a minha teoria das edições humanas. O que por agora importa saber é que Virgília — chamava-se Virgília — entrou na alcova, firme, com a gravidade que lhe davam as roupas e os anos, e veio até o meu leito. O estranho levantou-se e saiu. Era um sujeito, que me visitava todos os dias para falar do câmbio, da colonização e da necessidade de desenvolver a viação férrea; nada mais interessante para um moribundo. Saiu; Virgília deixou-se estar de pé; durante algum tempo ficamos a olhar um para o outro, sem articular palavra. Quem diria? De dois grandes namorados, de duas paixões sem freio, nada mais havia ali, vinte anos depois; havia apenas dois corações murchos, devastados pela vida e saciados dela, não sei se em igual dose, mas enfim saciados. Virgília tinha agora a beleza da velhice, um ar austero e maternal; estava menos magra do que quando a vi, pela última vez, numa festa de São João, na Tijuca; e porque era das que resistem muito, só agora começavam os cabelos escuros a intercalar-se com alguns fios de prata.']"
      ]
     },
     "execution_count": 209,
     "metadata": {},
     "output_type": "execute_result"
    }
   ],
   "source": [
    "# maxsplit = n; logo, n + 1 substrings\n",
    "cubas_sep3 = re.split(\"ão\",cubas,maxsplit=2)\n",
    "cubas_sep3"
   ]
  },
  {
   "cell_type": "markdown",
   "id": "7b05a912-d665-45d4-aad1-008152e661d8",
   "metadata": {
    "slideshow": {
     "slide_type": "subslide"
    }
   },
   "source": [
    "### Sintaxes especiais\n",
    "\n",
    "Os metacaracteres podem ser usados para criar REs das formas mais variadas (e criativas) possíveis. Vejamos exemplos."
   ]
  },
  {
   "cell_type": "markdown",
   "id": "86a8e1d4-c504-4543-9c03-6223cd7b9076",
   "metadata": {
    "slideshow": {
     "slide_type": "subslide"
    }
   },
   "source": [
    "#### Metacaracter `.`\n",
    "\n",
    "Serve para combinar qualquer caracter, exceto o _newline_ (`\\n`), se usado no modo padrão. Em uso não padrão, pode também combinar-se com `\\n`."
   ]
  },
  {
   "cell_type": "markdown",
   "id": "71467648-e13a-43a9-b38c-b1b0658d6495",
   "metadata": {
    "slideshow": {
     "slide_type": "subslide"
    }
   },
   "source": [
    "**Exemplo:** Localize padrões com 5 caracteres contendo \"lh\" na 3a. e 4a. posições."
   ]
  },
  {
   "cell_type": "code",
   "execution_count": 210,
   "id": "79fa7280-3f6c-4749-b545-3f9003073196",
   "metadata": {
    "slideshow": {
     "slide_type": "fragment"
    }
   },
   "outputs": [
    {
     "data": {
      "text/plain": [
       "['e lhe', ' olha', 'velhi']"
      ]
     },
     "execution_count": 210,
     "metadata": {},
     "output_type": "execute_result"
    }
   ],
   "source": [
    "re.findall('..lh.',cubas)"
   ]
  },
  {
   "cell_type": "markdown",
   "id": "21d0c96b-645a-4cb0-8b56-4057c20f4633",
   "metadata": {
    "slideshow": {
     "slide_type": "subslide"
    }
   },
   "source": [
    "**Exemplo:** Localize padrões iniciando com a letra T maiúscula e contendo, ao todo, 3 caracteres."
   ]
  },
  {
   "cell_type": "code",
   "execution_count": 211,
   "id": "77c5c165-1ab5-4d8e-9067-88e9d5393be3",
   "metadata": {
    "slideshow": {
     "slide_type": "fragment"
    }
   },
   "outputs": [
    {
     "data": {
      "text/plain": [
       "['Talv', 'Tiju']"
      ]
     },
     "execution_count": 211,
     "metadata": {},
     "output_type": "execute_result"
    }
   ],
   "source": [
    "re.findall('T...',cubas)"
   ]
  },
  {
   "cell_type": "markdown",
   "id": "da02b9c9-6d48-455b-bc0b-21c9f1b4640e",
   "metadata": {
    "slideshow": {
     "slide_type": "subslide"
    }
   },
   "source": [
    "#### Metacaracter `\\`\n",
    "\n",
    "Serve para criar escapes de caracteres especiais ou sinalizar uma sequência especial."
   ]
  },
  {
   "cell_type": "markdown",
   "id": "81bea7af-e85b-4736-9455-8431ba7586f2",
   "metadata": {
    "slideshow": {
     "slide_type": "subslide"
    }
   },
   "source": [
    "**Exemplo:** Quebre a string usando o ponto final (\".\") como ponto de quebra."
   ]
  },
  {
   "cell_type": "code",
   "execution_count": 212,
   "id": "b5038665-17a7-4efa-adbd-f60db754ee41",
   "metadata": {
    "slideshow": {
     "slide_type": "fragment"
    }
   },
   "outputs": [
    {
     "data": {
      "text/plain": [
       "['Não durou muito a evocação; a realidade dominou logo; o presente expeliu o passado',\n",
       " ' Talvez eu exponha ao leitor, em algum canto deste livro, a minha teoria das edições humanas',\n",
       " ' O que por agora importa saber é que Virgília — chamava-se Virgília — entrou na alcova, firme, com a gravidade que lhe davam as roupas e os anos, e veio até o meu leito',\n",
       " ' O estranho levantou-se e saiu',\n",
       " ' Era um sujeito, que me visitava todos os dias para falar do câmbio, da colonização e da necessidade de desenvolver a viação férrea; nada mais interessante para um moribundo',\n",
       " ' Saiu; Virgília deixou-se estar de pé; durante algum tempo ficamos a olhar um para o outro, sem articular palavra',\n",
       " ' Quem diria? De dois grandes namorados, de duas paixões sem freio, nada mais havia ali, vinte anos depois; havia apenas dois corações murchos, devastados pela vida e saciados dela, não sei se em igual dose, mas enfim saciados',\n",
       " ' Virgília tinha agora a beleza da velhice, um ar austero e maternal; estava menos magra do que quando a vi, pela última vez, numa festa de São João, na Tijuca; e porque era das que resistem muito, só agora começavam os cabelos escuros a intercalar-se com alguns fios de prata',\n",
       " '']"
      ]
     },
     "execution_count": 212,
     "metadata": {},
     "output_type": "execute_result"
    }
   ],
   "source": [
    "# escape do metacaracter '.'\n",
    "mt1 = re.split('\\.',cubas)\n",
    "mt1"
   ]
  },
  {
   "cell_type": "code",
   "execution_count": 213,
   "id": "c73aa93a-637a-48e2-8659-b064343aabaa",
   "metadata": {},
   "outputs": [
    {
     "data": {
      "text/plain": [
       "['Não durou muito a evocação; a realidade dominou logo; o presente expeliu o passado',\n",
       " 'Talvez eu exponha ao leitor, em algum canto deste livro, a minha teoria das edições humanas',\n",
       " 'O que por agora importa saber é que Virgília — chamava-se Virgília — entrou na alcova, firme, com a gravidade que lhe davam as roupas e os anos, e veio até o meu leito',\n",
       " 'O estranho levantou-se e saiu',\n",
       " 'Era um sujeito, que me visitava todos os dias para falar do câmbio, da colonização e da necessidade de desenvolver a viação férrea; nada mais interessante para um moribundo',\n",
       " 'Saiu; Virgília deixou-se estar de pé; durante algum tempo ficamos a olhar um para o outro, sem articular palavra',\n",
       " 'Quem diria? De dois grandes namorados, de duas paixões sem freio, nada mais havia ali, vinte anos depois; havia apenas dois corações murchos, devastados pela vida e saciados dela, não sei se em igual dose, mas enfim saciados',\n",
       " 'Virgília tinha agora a beleza da velhice, um ar austero e maternal; estava menos magra do que quando a vi, pela última vez, numa festa de São João, na Tijuca; e porque era das que resistem muito, só agora começavam os cabelos escuros a intercalar-se com alguns fios de prata.']"
      ]
     },
     "execution_count": 213,
     "metadata": {},
     "output_type": "execute_result"
    }
   ],
   "source": [
    "# considera um espaço no padrão\n",
    "mt2 = re.split('\\. ',cubas)\n",
    "mt2"
   ]
  },
  {
   "cell_type": "markdown",
   "id": "f10d252d-6fe0-4503-ba2e-5354663ac217",
   "metadata": {
    "slideshow": {
     "slide_type": "subslide"
    }
   },
   "source": [
    "#### Metacaracter `^`\n",
    "\n",
    "Também chamado _caret_, serve para buscar padrões no início de uma string. "
   ]
  },
  {
   "cell_type": "markdown",
   "id": "8f2526ec-7020-4e1c-8d25-9478f09798c2",
   "metadata": {
    "slideshow": {
     "slide_type": "fragment"
    }
   },
   "source": [
    "**Exemplo:** Use as substrings do exemplo anterior para buscar quais delas iniciam-se por `'T'`."
   ]
  },
  {
   "cell_type": "code",
   "execution_count": 214,
   "id": "58acbd80-a056-491a-baf6-8164a0992a5d",
   "metadata": {
    "slideshow": {
     "slide_type": "fragment"
    }
   },
   "outputs": [
    {
     "name": "stdout",
     "output_type": "stream",
     "text": [
      "---> Padrão detectado na substring 1:\n",
      "\"Talvez eu exponha ao leitor, em algum canto deste livro, a minha teoria das edições humanas\"\n"
     ]
    }
   ],
   "source": [
    "for k,s in enumerate(mt2):\n",
    "    aux = re.match('^T',s)\n",
    "    if aux: # se lista não for vazia\n",
    "        print(f'---> Padrão detectado na \\\n",
    "substring {k}:\\n\\\"{s}\\\"')"
   ]
  },
  {
   "cell_type": "markdown",
   "id": "59e3d106-2752-420b-a43d-e0745b0508f0",
   "metadata": {
    "slideshow": {
     "slide_type": "subslide"
    }
   },
   "source": [
    "#### Metacaracter `$`\n",
    "\n",
    "Visto em sentido oposto a `^`, `$` serve para buscar padrões no final de uma string, ou logo antes de um caracter _newline_."
   ]
  },
  {
   "cell_type": "markdown",
   "id": "8b1d1687-194b-4893-8c09-89155edf8d9e",
   "metadata": {
    "slideshow": {
     "slide_type": "subslide"
    }
   },
   "source": [
    "**Exemplo:** Use as substrings do exemplo anterior para buscar quais delas terminam por `'o'`."
   ]
  },
  {
   "cell_type": "code",
   "execution_count": 215,
   "id": "36644987-99f9-40ef-9ca6-fc3f70085f76",
   "metadata": {
    "slideshow": {
     "slide_type": "fragment"
    }
   },
   "outputs": [
    {
     "name": "stdout",
     "output_type": "stream",
     "text": [
      "---> Padrão detectado na substring 0:\n",
      "\"Não durou muito a evocação; a realidade dominou logo; o presente expeliu o passado\"\n",
      "---> Padrão detectado na substring 2:\n",
      "\"O que por agora importa saber é que Virgília — chamava-se Virgília — entrou na alcova, firme, com a gravidade que lhe davam as roupas e os anos, e veio até o meu leito\"\n",
      "---> Padrão detectado na substring 4:\n",
      "\"Era um sujeito, que me visitava todos os dias para falar do câmbio, da colonização e da necessidade de desenvolver a viação férrea; nada mais interessante para um moribundo\"\n"
     ]
    }
   ],
   "source": [
    "for k,s in enumerate(mt2):\n",
    "    aux = re.findall('o$',s)\n",
    "    if aux: # se lista não for vazia\n",
    "        print(f'---> Padrão detectado na \\\n",
    "substring {k}:\\n\\\"{s}\\\"')"
   ]
  },
  {
   "cell_type": "code",
   "execution_count": 216,
   "id": "b545b2bd-c190-40d3-a386-c03ba64007c7",
   "metadata": {
    "slideshow": {
     "slide_type": "subslide"
    }
   },
   "outputs": [
    {
     "name": "stdout",
     "output_type": "stream",
     "text": [
      "---> Padrão detectado na substring 4:\n",
      "\"Era um sujeito, que me visitava todos os dias para falar do câmbio, da colonização e da necessidade de desenvolver a viação férrea; nada mais interessante para um moribundo\"\n"
     ]
    }
   ],
   "source": [
    "# busca substring terminando com 'undo'\n",
    "for k,s in enumerate(mt2):\n",
    "    aux = re.findall('undo$',s)\n",
    "    if aux: # se lista não for vazia\n",
    "        print(f'---> Padrão detectado na \\\n",
    "substring {k}:\\n\\\"{s}\\\"')"
   ]
  },
  {
   "cell_type": "markdown",
   "id": "1adca21c-04b8-43ed-a2f5-30eecc26df72",
   "metadata": {
    "slideshow": {
     "slide_type": "subslide"
    }
   },
   "source": [
    "Comentário:\n",
    "\n",
    "- Note que para buscar o caracter literal '$' em uma string devemos usar o caracter de escape. Vejamos o próximo exemplo."
   ]
  },
  {
   "cell_type": "code",
   "execution_count": 217,
   "id": "02645cea-f084-47ea-b530-a468a352c1bf",
   "metadata": {
    "slideshow": {
     "slide_type": "fragment"
    }
   },
   "outputs": [
    {
     "name": "stdout",
     "output_type": "stream",
     "text": [
      "Caracter $ identificado na posição 15.\n"
     ]
    }
   ],
   "source": [
    "real = 'João me pagou R$ 150,00.'\n",
    "v = re.search('\\$',real)\n",
    "print(f'Caracter $ identificado na posição {v.start()}.')"
   ]
  },
  {
   "cell_type": "markdown",
   "id": "8380316c-9821-450f-8a54-5f9d2086e461",
   "metadata": {
    "slideshow": {
     "slide_type": "subslide"
    }
   },
   "source": [
    "#### Metacaracter `*`\n",
    "\n",
    "Serve para buscar 0 ou mais repetições de um caracter precedente. Este caracter especial é de _repetição_."
   ]
  },
  {
   "cell_type": "markdown",
   "id": "15fc43d4-a024-4234-9c8b-bc135b9e16f1",
   "metadata": {
    "slideshow": {
     "slide_type": "subslide"
    }
   },
   "source": [
    "**Exemplo:**"
   ]
  },
  {
   "cell_type": "code",
   "execution_count": 218,
   "id": "edd09fac-5103-439c-b282-a09ae69240db",
   "metadata": {
    "slideshow": {
     "slide_type": "fragment"
    }
   },
   "outputs": [
    {
     "data": {
      "text/plain": [
       "['ha ', 'ha ', 'ham', 'har', 'havi', 'havi', 'ha ']"
      ]
     },
     "execution_count": 218,
     "metadata": {},
     "output_type": "execute_result"
    }
   ],
   "source": [
    "re.findall('hav*.',cubas)"
   ]
  },
  {
   "cell_type": "markdown",
   "id": "0bb54b61-9451-4e07-a2ca-50c3e0202dc8",
   "metadata": {
    "slideshow": {
     "slide_type": "fragment"
    }
   },
   "source": [
    "Discussão: \n",
    "\n",
    "- A RE `'hav*.'` procura por padrões que atendem às seguintes restrições: \n",
    "    - o caracter 'v' aparece 0 ou mais vezes após 'ha'.\n",
    "    - quando não houver 'v', o terceiro caracter passa a ser qualquer um que vier na sequência por causa do metacaracter '.'. \n",
    "    - quando houver um 'v', o quarto caracter é qualquer um\n",
    "    - quando houver n repetições de 'v' após 'a', todos os n são considerados, e o n+1-ésimo caracter é qualquer um."
   ]
  },
  {
   "cell_type": "markdown",
   "id": "f6cfa112-d732-4dc0-82e3-e6a2eb351481",
   "metadata": {
    "slideshow": {
     "slide_type": "subslide"
    }
   },
   "source": [
    "Comentários: \n",
    "\n",
    "- Descrever em palavras o que a expressão regular faz exatamente não é sempre muito fácil. Vejamos mais um exemplo.\n",
    "    "
   ]
  },
  {
   "cell_type": "code",
   "execution_count": 219,
   "id": "c4a3c202-4707-4ae5-8801-288cca06106e",
   "metadata": {
    "slideshow": {
     "slide_type": "fragment"
    }
   },
   "outputs": [
    {
     "data": {
      "text/plain": [
       "['ha ', 'hah', 'hav ', 'havv ', 'havva', 'havvva', 'hai', 'havi']"
      ]
     },
     "execution_count": 219,
     "metadata": {},
     "output_type": "execute_result"
    }
   ],
   "source": [
    "c = 'ha hahaa hav havv havva-havvva; haiiaa havia'\n",
    "\n",
    "re.findall('hav*.',c)"
   ]
  },
  {
   "cell_type": "markdown",
   "id": "520f2a51-01f3-4cc2-8d31-59754f874edb",
   "metadata": {
    "slideshow": {
     "slide_type": "subslide"
    }
   },
   "source": [
    "#### Metacaracter `+`\n",
    "\n",
    "Serve para buscar 1 ou mais repetições de um caracter precedente. Assim como `*`, `+` também é um caracter especial de _repetição_."
   ]
  },
  {
   "cell_type": "markdown",
   "id": "8ba56bf8-4880-4ee6-b209-cc7f61a227a3",
   "metadata": {
    "slideshow": {
     "slide_type": "fragment"
    }
   },
   "source": [
    "**Exemplo:**"
   ]
  },
  {
   "cell_type": "code",
   "execution_count": 220,
   "id": "802dc438-f30d-4fe3-a9d6-6dceaf5666b7",
   "metadata": {
    "slideshow": {
     "slide_type": "fragment"
    }
   },
   "outputs": [
    {
     "data": {
      "text/plain": [
       "['havi', 'havi']"
      ]
     },
     "execution_count": 220,
     "metadata": {},
     "output_type": "execute_result"
    }
   ],
   "source": [
    "re.findall('hav+.',cubas)"
   ]
  },
  {
   "cell_type": "markdown",
   "id": "9e42cc43-0a45-41e7-85ad-e32fb14a9e7f",
   "metadata": {
    "slideshow": {
     "slide_type": "subslide"
    }
   },
   "source": [
    "Discussão: \n",
    "\n",
    "- A RE `'hav+.'` é similar à anterior. Porém, pelo fato de ser obrigatória a ocorrência de pelo menos 1 caracter 'v' após 'a', os padrões 'ha ', 'ham' e 'har' são excluídos.\n",
    "- Se encontradas n ocorrências de 'v', o padrão será encerrado pelo n+1-ésimo caracter arbitrário\n",
    "- Como no texto existe tal padrão com apenas uma ocorrência de 'v', o quarto caracter, sendo arbitrário, é encontrado como 'i'.\n",
    "- O padrão 'havia', que forma uma palavra compreensível em Português, é ignorado por conter 5 caracteres."
   ]
  },
  {
   "cell_type": "markdown",
   "id": "609f35f9-bc5c-4746-a8f9-4fde6f351334",
   "metadata": {
    "slideshow": {
     "slide_type": "subslide"
    }
   },
   "source": [
    "#### Metacaracter `?`\n",
    "\n",
    "Serve para buscar 0 ou 1 repetição de um caracter precedente. Assim como `*`, `+` também é um caracter especial de _repetição_."
   ]
  },
  {
   "cell_type": "markdown",
   "id": "a35debaa-88af-4397-b1aa-75f0f99b3244",
   "metadata": {
    "slideshow": {
     "slide_type": "fragment"
    }
   },
   "source": [
    "**Exemplo:**"
   ]
  },
  {
   "cell_type": "code",
   "execution_count": 221,
   "id": "5653d416-00de-40a7-949a-4e50c30ff537",
   "metadata": {
    "slideshow": {
     "slide_type": "fragment"
    }
   },
   "outputs": [
    {
     "data": {
      "text/plain": [
       "['ant', 'ana', 'ano', 'anh', 'ant', 'sant', 'ant', 'and', 'ano', 'and']"
      ]
     },
     "execution_count": 221,
     "metadata": {},
     "output_type": "execute_result"
    }
   ],
   "source": [
    "re.findall('s?an.',cubas)"
   ]
  },
  {
   "cell_type": "markdown",
   "id": "91ecd61c-e99e-4356-8d79-62afdbb3c8bd",
   "metadata": {
    "slideshow": {
     "slide_type": "subslide"
    }
   },
   "source": [
    "Comentários: \n",
    "\n",
    "- Esta RE procurará por 0 ou 1 repetição de 's' seguida por 'an' e qualquer outro caracter. \n",
    "\n",
    "- Neste caso, a substring 'ssan', por exemplo, existente na palavra 'interessante' não seria coberta por `?`."
   ]
  },
  {
   "cell_type": "markdown",
   "id": "5c5dabfa-064a-4e9b-9804-7c57a68ccdef",
   "metadata": {
    "slideshow": {
     "slide_type": "subslide"
    }
   },
   "source": [
    "#### Metacaracteres `[]`\n",
    "\n",
    "Os colchetes devem ser usados, juntos, em par, para indicar um conjunto de caracteres sobre os quais a expressão regular deve operar. Em geral, usa-se o par `[]` para os seguintes propósitos: "
   ]
  },
  {
   "cell_type": "markdown",
   "id": "9f0cb10b-8a60-4ac3-b91a-8526be565bf1",
   "metadata": {
    "slideshow": {
     "slide_type": "fragment"
    }
   },
   "source": [
    "- Listar caracteres individualmente\n",
    "\n",
    "A RE `[vnd]` combinará os caracteres `'v'`, `'n'` ou `'d'`."
   ]
  },
  {
   "cell_type": "markdown",
   "id": "f8410be8-502f-465c-a695-d51a9d97c36a",
   "metadata": {
    "slideshow": {
     "slide_type": "subslide"
    }
   },
   "source": [
    "**Exemplo:**"
   ]
  },
  {
   "cell_type": "code",
   "execution_count": 222,
   "id": "e44f7a14-1f51-4994-a275-337b2b31cd7f",
   "metadata": {
    "slideshow": {
     "slide_type": "fragment"
    }
   },
   "outputs": [
    {
     "name": "stdout",
     "output_type": "stream",
     "text": [
      "['d', 'v', 'd', 'd', 'd', 'n', 'n', 'd', 'v', 'n', 'n', 'd', 'v', 'n', 'd', 'd', 'n', 'v', 'n', 'n', 'v', 'v', 'd', 'd', 'd', 'v', 'n', 'v', 'n', 'v', 'n', 'v', 'v', 'd', 'd', 'd', 'd', 'n', 'd', 'n', 'd', 'd', 'd', 'd', 'n', 'v', 'v', 'v', 'n', 'd', 'n', 'n', 'n', 'd', 'd', 'd', 'd', 'n', 'v', 'd', 'd', 'n', 'd', 'n', 'd', 'd', 'd', 'n', 'd', 'v', 'v', 'n', 'n', 'd', 'v', 'n', 'd', 'd', 'v', 'd', 'v', 'd', 'd', 'd', 'n', 'd', 'n', 'd', 'n', 'd', 'v', 'n', 'v', 'n', 'd', 'n', 'd', 'v', 'v', 'n', 'd', 'n', 'd', 'v', 'n', 'n', 'd']\n"
     ]
    }
   ],
   "source": [
    "# localiza todas as ocorrências \n",
    "# de 'v', 'n', ou 'd'\n",
    "print(re.findall('[vnd]',cubas))"
   ]
  },
  {
   "cell_type": "markdown",
   "id": "451c3870-0faa-400f-baef-e63a5dd893cd",
   "metadata": {
    "slideshow": {
     "slide_type": "subslide"
    }
   },
   "source": [
    "- Localizar um intervalo de caracteres\n",
    "\n",
    "Uma RE do tipo `[a-d]` combinará os caracteres de `'a'` a `'d'`, ao passo que `[a-z]` combinará todas as letras minúsculas da tabela ASCII (e não Unicode!), ou seja, de `'a'` a `'z'`.\n",
    "\n",
    "Do mesmo modo, `[0-4]` combinará os dígitos de 0 a 4, e `[0-9]` todos os dígitos decimais. Por outro lado, a expressão `[0-3][3-8]` combinará todos os números de dois dígitos de 03 a 38.\n",
    "\n",
    "Se o símbolo `-` for escapado (p.ex. `[a\\-d]`), ou se for colocado como primeiro ou último caracter (p.ex. `[-b]` ou `[b-]`), ele significará o hífen literal ('-')."
   ]
  },
  {
   "cell_type": "markdown",
   "id": "431dfefa-2d66-4873-9595-50bf4abbb2f8",
   "metadata": {
    "slideshow": {
     "slide_type": "subslide"
    }
   },
   "source": [
    "**Exemplo:**"
   ]
  },
  {
   "cell_type": "code",
   "execution_count": 223,
   "id": "e6eb3022-1233-4b7b-8ec3-30dfe137317a",
   "metadata": {
    "slideshow": {
     "slide_type": "fragment"
    }
   },
   "outputs": [
    {
     "data": {
      "text/plain": [
       "['gum', 'hum', 'gum', 'num']"
      ]
     },
     "execution_count": 223,
     "metadata": {},
     "output_type": "execute_result"
    }
   ],
   "source": [
    "re.findall('[a-z]um',cubas)"
   ]
  },
  {
   "cell_type": "markdown",
   "id": "c6c52482-2f06-452e-89a2-725a904598ee",
   "metadata": {
    "slideshow": {
     "slide_type": "fragment"
    }
   },
   "source": [
    "Discussão: \n",
    "\n",
    "- Esta RE procurará todos os padrões que iniciam por qualquer letra minúscula (de 'a' a 'z') seguidas por 'um'."
   ]
  },
  {
   "cell_type": "markdown",
   "id": "f3dfef0a-95c4-40a1-92d6-d6b61f8fdbc7",
   "metadata": {
    "slideshow": {
     "slide_type": "subslide"
    }
   },
   "source": [
    "**Exemplo:**"
   ]
  },
  {
   "cell_type": "code",
   "execution_count": 224,
   "id": "0a3e2888-81d1-45db-b357-6bd91bbb54ad",
   "metadata": {
    "slideshow": {
     "slide_type": "fragment"
    }
   },
   "outputs": [
    {
     "data": {
      "text/plain": [
       "['va-', 'va,', 'vam', 'van', 'va ', 'zaç', 'vas', 'za ', 'va ', 'vam']"
      ]
     },
     "execution_count": 224,
     "metadata": {},
     "output_type": "execute_result"
    }
   ],
   "source": [
    "re.findall('[v-z][a-].',cubas)"
   ]
  },
  {
   "cell_type": "markdown",
   "id": "9156abc2-2a71-43e8-b3b0-54bf779e8c60",
   "metadata": {
    "slideshow": {
     "slide_type": "fragment"
    }
   },
   "source": [
    "Discussão: \n",
    "\n",
    "- Esta RE procurará todos os padrões que iniciam por uma letra minúscula entre 'v' e 'z' seguidas por 'a', '-', ou 'a-' e um caracter qualquer adicional."
   ]
  },
  {
   "cell_type": "markdown",
   "id": "769e8ee0-ec81-46a6-99f1-6fb12c7682f2",
   "metadata": {
    "slideshow": {
     "slide_type": "subslide"
    }
   },
   "source": [
    "**Exemplo:**"
   ]
  },
  {
   "cell_type": "code",
   "execution_count": 225,
   "id": "974b182b-bcf6-4766-8252-0112b54feffe",
   "metadata": {
    "slideshow": {
     "slide_type": "fragment"
    }
   },
   "outputs": [
    {
     "data": {
      "text/plain": [
       "['va-', 'va,', 'vam', 'van', 'va ', 'zaç', 'vas', 'za ', 'va ', 'vam']"
      ]
     },
     "execution_count": 225,
     "metadata": {},
     "output_type": "execute_result"
    }
   ],
   "source": [
    "# mesmo efeito que anterior\n",
    "re.findall('[v-z][-a].',cubas)"
   ]
  },
  {
   "cell_type": "markdown",
   "id": "c6c2f485-28f5-44c8-b613-7b470aac7f06",
   "metadata": {
    "slideshow": {
     "slide_type": "subslide"
    }
   },
   "source": [
    "- Localizar caracteres especiais como literais\n",
    "\n",
    "Os caracteres especiais perdem seu status quando aparecem entre colchetes. Por exemplo, a RE `[(+*)]` procurará por qualquer um dos literais `(`, `+`, `*` ou `)`."
   ]
  },
  {
   "cell_type": "code",
   "execution_count": 226,
   "id": "432d18c9-4726-4cc1-adb0-4d3e9ab3b64a",
   "metadata": {
    "slideshow": {
     "slide_type": "fragment"
    }
   },
   "outputs": [
    {
     "data": {
      "text/plain": [
       "['3)', '6*']"
      ]
     },
     "execution_count": 226,
     "metadata": {},
     "output_type": "execute_result"
    }
   ],
   "source": [
    "ex = 'Quanto é (22 + 3)*1 - 6*1?'\n",
    "re.findall('[0-9][)*]',ex)"
   ]
  },
  {
   "cell_type": "markdown",
   "id": "fbf37e9c-b16a-40ef-a1da-6897315b05cc",
   "metadata": {
    "slideshow": {
     "slide_type": "fragment"
    }
   },
   "source": [
    "Discussão:\n",
    "\n",
    "- Esta RE busca padrões em que um dígito de 0 a 9 precede um ')' ou '*' literalmente."
   ]
  },
  {
   "cell_type": "code",
   "execution_count": 227,
   "id": "0d5a48bf-b5e0-4a45-a107-ec1babbde291",
   "metadata": {
    "slideshow": {
     "slide_type": "subslide"
    }
   },
   "outputs": [
    {
     "data": {
      "text/plain": [
       "['1?']"
      ]
     },
     "execution_count": 227,
     "metadata": {},
     "output_type": "execute_result"
    }
   ],
   "source": [
    "re.findall('[0-9][?]',ex)"
   ]
  },
  {
   "cell_type": "markdown",
   "id": "8f475a3e-c840-464d-ba81-4219cb04f8a1",
   "metadata": {
    "slideshow": {
     "slide_type": "fragment"
    }
   },
   "source": [
    "Discussão:\n",
    "\n",
    "- Esta RE busca padrões em que um dígito de 0 a 9 precede um '?' literal."
   ]
  },
  {
   "cell_type": "markdown",
   "id": "e865630c-2edd-46dc-a965-6c1413b5e9d5",
   "metadata": {
    "slideshow": {
     "slide_type": "subslide"
    }
   },
   "source": [
    "#### Metacaracteres `{}`\n",
    "\n",
    "As chaves, assim como os colchetes, devem ser usadas juntas, em par, para localizar cópias ou repetições de uma expressão regular. Em geral, ela é usada para os seguintes objetivos:"
   ]
  },
  {
   "cell_type": "markdown",
   "id": "bc7d704e-c8d2-46ea-a7be-8dbdda7f8447",
   "metadata": {
    "slideshow": {
     "slide_type": "fragment"
    }
   },
   "source": [
    "- Localizar exatamente _m_ cópias de uma RE anterior"
   ]
  },
  {
   "cell_type": "markdown",
   "id": "668617d4-7787-4c56-b312-71c8d52fce95",
   "metadata": {
    "slideshow": {
     "slide_type": "subslide"
    }
   },
   "source": [
    "**Exemplo:**"
   ]
  },
  {
   "cell_type": "code",
   "execution_count": 228,
   "id": "d9b23006-0f6d-495c-8fa2-a277bc46bdff",
   "metadata": {
    "slideshow": {
     "slide_type": "fragment"
    }
   },
   "outputs": [
    {
     "data": {
      "text/plain": [
       "'rr'"
      ]
     },
     "execution_count": 228,
     "metadata": {},
     "output_type": "execute_result"
    }
   ],
   "source": [
    "# busca pelo padrão 'rr'\n",
    "re.search('r{2}',cubas).group()"
   ]
  },
  {
   "cell_type": "markdown",
   "id": "76d2688a-56c0-4082-a850-1da81fd51827",
   "metadata": {
    "slideshow": {
     "slide_type": "subslide"
    }
   },
   "source": [
    "**Exemplo:**"
   ]
  },
  {
   "cell_type": "code",
   "execution_count": 229,
   "id": "8382ab9e-e19c-45c2-89ef-bb763608f898",
   "metadata": {
    "slideshow": {
     "slide_type": "fragment"
    }
   },
   "outputs": [
    {
     "data": {
      "text/plain": [
       "['00', '00', '00', '00', '00', '00']"
      ]
     },
     "execution_count": 229,
     "metadata": {},
     "output_type": "execute_result"
    }
   ],
   "source": [
    "ex2 = '0110011000110011001010110100110111111000'\n",
    "re.findall('0{2}',ex2)"
   ]
  },
  {
   "cell_type": "code",
   "execution_count": 230,
   "id": "f50a94c7-1948-46da-b3ae-8449453a8049",
   "metadata": {
    "slideshow": {
     "slide_type": "fragment"
    }
   },
   "outputs": [
    {
     "data": {
      "text/plain": [
       "['111', '111']"
      ]
     },
     "execution_count": 230,
     "metadata": {},
     "output_type": "execute_result"
    }
   ],
   "source": [
    "re.findall('1{3}',ex2)"
   ]
  },
  {
   "cell_type": "code",
   "execution_count": 231,
   "id": "820b7882-81d8-4800-8f5b-06eef4363dd5",
   "metadata": {
    "slideshow": {
     "slide_type": "fragment"
    }
   },
   "outputs": [
    {
     "data": {
      "text/plain": [
       "['011001', '100011', '001100', '101011', '010011', '011111']"
      ]
     },
     "execution_count": 231,
     "metadata": {},
     "output_type": "execute_result"
    }
   ],
   "source": [
    "# busca 000000 - 111111\n",
    "# com variações de 0,1 intermediárias\n",
    "re.findall('[0-1]{6}',ex2)"
   ]
  },
  {
   "cell_type": "markdown",
   "id": "0ebd08df-a862-43f7-8192-386e0715cf03",
   "metadata": {
    "slideshow": {
     "slide_type": "fragment"
    }
   },
   "source": [
    "- Localizar entre _m_ e _n_ repetições de uma RE anterior"
   ]
  },
  {
   "cell_type": "markdown",
   "id": "4d3f8a42-6fc4-466a-a903-e54ff332334f",
   "metadata": {
    "slideshow": {
     "slide_type": "subslide"
    }
   },
   "source": [
    "**Exemplos:**"
   ]
  },
  {
   "cell_type": "code",
   "execution_count": 232,
   "id": "5501d95e-a93b-4053-93a5-dc38ce5bf51d",
   "metadata": {
    "slideshow": {
     "slide_type": "fragment"
    }
   },
   "outputs": [
    {
     "data": {
      "text/plain": [
       "{'100', '1000'}"
      ]
     },
     "execution_count": 232,
     "metadata": {},
     "output_type": "execute_result"
    }
   ],
   "source": [
    "set(re.findall('10{2,3}',ex2))"
   ]
  },
  {
   "cell_type": "code",
   "execution_count": 233,
   "id": "06110f51-dd18-4d01-9ec9-c1040d948031",
   "metadata": {
    "slideshow": {
     "slide_type": "fragment"
    }
   },
   "outputs": [
    {
     "data": {
      "text/plain": [
       "{'011', '0111'}"
      ]
     },
     "execution_count": 233,
     "metadata": {},
     "output_type": "execute_result"
    }
   ],
   "source": [
    "set(re.findall('01{2,3}',ex2))"
   ]
  },
  {
   "cell_type": "code",
   "execution_count": 234,
   "id": "a0911813-7d87-4493-8d72-95c8a2cf3f02",
   "metadata": {
    "slideshow": {
     "slide_type": "fragment"
    }
   },
   "outputs": [
    {
     "data": {
      "text/plain": [
       "{'001', '010', '011', '100', '101', '111'}"
      ]
     },
     "execution_count": 234,
     "metadata": {},
     "output_type": "execute_result"
    }
   ],
   "source": [
    "set(re.findall('[0-1]{2,3}',ex2))"
   ]
  },
  {
   "cell_type": "markdown",
   "id": "ca05e224-22e2-4619-b913-711582dfdf9c",
   "metadata": {
    "slideshow": {
     "slide_type": "subslide"
    }
   },
   "source": [
    "#### Metacaracter `|`\n",
    "\n",
    "Usamos o _pipe_ para significar \"ou\" com o objetivo de localizar mais de uma RE. Por exemplo, `A|B` buscará padrões determinados pela RE `A` **ou** por `B`. _Pipes_ adicionais constroem sintaxes conjuntivas. Ou seja, `A|B|C|D...|Z` significaria \"A ou B ou C ou ... D\"."
   ]
  },
  {
   "cell_type": "markdown",
   "id": "636f47b5-5468-480a-872a-f7971d5c4848",
   "metadata": {
    "slideshow": {
     "slide_type": "subslide"
    }
   },
   "source": [
    "**Exemplos:**"
   ]
  },
  {
   "cell_type": "code",
   "execution_count": 235,
   "id": "c0168ddd-0ce6-4e58-81f4-9c8fed74641b",
   "metadata": {
    "slideshow": {
     "slide_type": "fragment"
    }
   },
   "outputs": [
    {
     "data": {
      "text/plain": [
       "['ssa', 'rre', 'ssa']"
      ]
     },
     "execution_count": 235,
     "metadata": {},
     "output_type": "execute_result"
    }
   ],
   "source": [
    "# busca por 'rre' ou 'ssa'\n",
    "re.findall('r{2}e|s{2}a',cubas)"
   ]
  },
  {
   "cell_type": "code",
   "execution_count": 236,
   "id": "9b55fc5f-4167-4eda-ac72-bafc3e2865c4",
   "metadata": {
    "slideshow": {
     "slide_type": "fragment"
    }
   },
   "outputs": [
    {
     "data": {
      "text/plain": [
       "['pre', 'cha', 'lha', 'cho', 'lhi', 'pra']"
      ]
     },
     "execution_count": 236,
     "metadata": {},
     "output_type": "execute_result"
    }
   ],
   "source": [
    "# busca por 'cha', 'cho' ou\n",
    "# 'lha', 'lhi' ou \n",
    "# 'pra', 'pre', 'pri', 'pro', 'pru'\n",
    "re.findall('ch[ao]|lh[ai]|pr[aeiou]',cubas)"
   ]
  },
  {
   "cell_type": "markdown",
   "id": "8744e2aa-15a1-4a06-a78a-9f406329f77d",
   "metadata": {
    "slideshow": {
     "slide_type": "subslide"
    }
   },
   "source": [
    "#### Metacaracteres `()`\n",
    "\n",
    "Servem para criar _grupos de captura_. Um grupo de captura é formado por uma RE confinada entre parênteses. Grupos de captura podem ser aplicados para extrair padrões que possuam uma certa estrutura. "
   ]
  },
  {
   "cell_type": "markdown",
   "id": "90532f34-da33-4746-a498-4bf3db64be9c",
   "metadata": {
    "slideshow": {
     "slide_type": "subslide"
    }
   },
   "source": [
    "**Exemplo**:"
   ]
  },
  {
   "cell_type": "code",
   "execution_count": 237,
   "id": "b23758f6-e7d0-49a7-b498-293cc6e08626",
   "metadata": {
    "slideshow": {
     "slide_type": "fragment"
    }
   },
   "outputs": [
    {
     "name": "stdout",
     "output_type": "stream",
     "text": [
      "('alfa00', 'LAX')\n",
      "('beta22', 'PET')\n",
      "('zeta92', 'XIR')\n"
     ]
    }
   ],
   "source": [
    "table = ['alfa00-LAX','beta22-PET', 'zeta92-XIR']\n",
    "\n",
    "for t in table:\n",
    "    pat = re.match(\"([a-z][a-z][a-z][a-z][0-9][0-9])-([A-Z]{3})\", t)\n",
    "    if pat:\n",
    "        print(pat.groups())"
   ]
  },
  {
   "cell_type": "markdown",
   "id": "c4131e9e-8594-4e7a-8353-0e02e3157651",
   "metadata": {
    "slideshow": {
     "slide_type": "subslide"
    }
   },
   "source": [
    "Discussão: \n",
    "\n",
    "- A RE acima é composta de dois grupos de captura que são separados pelo `-` literal. \n",
    "\n",
    "- O primeiro grupo de captura é `([a-z][a-z][a-z][a-z][0-9][0-9])`\n",
    "\n",
    "- O segundo grupo de captura é `([A-Z]{3})`\n",
    "\n",
    "- Tuplas com dois elementos são impressas com `groups()`."
   ]
  },
  {
   "cell_type": "markdown",
   "id": "dc996a4b-3b10-4ad5-bf59-750681441982",
   "metadata": {
    "slideshow": {
     "slide_type": "subslide"
    }
   },
   "source": [
    "Comentários: \n",
    "\n",
    "- Como se vê, os grupos de captura permitiram que identificássemos padrões separados em uma lista de strings que continha uma estrutura predefinida. \n",
    "\n",
    "- Entretanto, as REs anteriores criadas como grupos de captura poderiam ser definidas de uma forma muito mais concisa através de _identificadores_."
   ]
  },
  {
   "cell_type": "markdown",
   "id": "756aa4ee-1695-4357-be07-0d5dc7ca5330",
   "metadata": {
    "slideshow": {
     "slide_type": "subslide"
    }
   },
   "source": [
    "#### Identificadores e _tokens_ gerais\n",
    "\n",
    "Ao trabalhar com REs, podemos utilizar identificadores e _tokens_ diversos para significar padrões de maneira concisa. \n",
    "\n",
    "O exemplo anterior sobre grupos de captura, por exemplo, poderia ser escrito de outra forma:"
   ]
  },
  {
   "cell_type": "code",
   "execution_count": 238,
   "id": "1a1d619a-edfb-43b0-8753-9968c8ae65ca",
   "metadata": {
    "slideshow": {
     "slide_type": "fragment"
    }
   },
   "outputs": [
    {
     "name": "stdout",
     "output_type": "stream",
     "text": [
      "('alfa00', 'LAX')\n",
      "('beta22', 'PET')\n",
      "('zeta92', 'XIR')\n"
     ]
    }
   ],
   "source": [
    "for t in table:\n",
    "    pat = re.match(\"(\\w+)\\W(\\w+)\", t)\n",
    "    if pat:\n",
    "        print(pat.groups())"
   ]
  },
  {
   "cell_type": "markdown",
   "id": "aaef0614-e9f8-483d-81df-67dda87dbb31",
   "metadata": {
    "slideshow": {
     "slide_type": "fragment"
    }
   },
   "source": [
    "Neste caso, `\\w` e  `\\W` são chamados _identificadores_."
   ]
  },
  {
   "cell_type": "markdown",
   "id": "a3b077e4",
   "metadata": {
    "slideshow": {
     "slide_type": "subslide"
    }
   },
   "source": [
    "A tabela a seguir resume os principais identificadores e seu significado.\n",
    "\n",
    "|Identificador|Significado|\n",
    "|---|---|\n",
    "|`\\d`|qualquer caracter que é um dígito decimal. Equivalente a `[0-9]`|\n",
    "|`\\D`|qualquer caracter exceto dígido (não-dígito). Equivalente a `[^0-9]`|\n",
    "|`\\w`|qualquer caracter Unicode. Se a flag `ASCII` for utilizada, equivale ao conjunto `[a-zA-Z0-9_]`|\n",
    "|`\\W`|o oposto de `\\w`. Se a flag `ASCII` for utilizada, equivale ao conjunto `[^a-zA-Z0-9_]`|\n",
    "|`\\s`|qualquer caracter que é um espaço.|\n",
    "|`\\S`|qualquer caracter que não seja espaço.|"
   ]
  },
  {
   "cell_type": "markdown",
   "id": "21a2d481-0a5f-49b8-a81c-62102bbd1d03",
   "metadata": {
    "slideshow": {
     "slide_type": "subslide"
    }
   },
   "source": [
    "A tabela a seguir resume _tokens_ gerais e seu significado.\n",
    "\n",
    "|_Token_|Significado|\n",
    "|---|---|\n",
    "|`\\n`|quebra de linha. _Newline_.|\n",
    "|`\\r`|_carriage return_|\n",
    "|`\\t`|TAB|\n",
    "|`\\0`|caracter nulo|"
   ]
  },
  {
   "cell_type": "markdown",
   "id": "3fc7bf60-3d6d-4f83-9754-e5ce206ab0d2",
   "metadata": {
    "slideshow": {
     "slide_type": "subslide"
    }
   },
   "source": [
    "**Exemplo:** Identificando padrões de data e hora. "
   ]
  },
  {
   "cell_type": "code",
   "execution_count": 239,
   "id": "4d6ecd68-17d5-44e5-bb6e-53500dde6e73",
   "metadata": {
    "slideshow": {
     "slide_type": "fragment"
    }
   },
   "outputs": [
    {
     "name": "stdout",
     "output_type": "stream",
     "text": [
      "('2021', '04', '06', '10', '32', '00')\n",
      "('2020', '12', '03', '01', '12', '58')\n"
     ]
    }
   ],
   "source": [
    "dt = ['2021-04-06 10:32:00', '2020-12-03 01:12:58'] \n",
    "for m in dt:\n",
    "    pat = re.match('(\\d+)-(\\d+)-(\\d+)\\s(\\d+):(\\d+):(\\d+)',m)\n",
    "    if pat:\n",
    "        print(pat.groups())"
   ]
  },
  {
   "cell_type": "markdown",
   "id": "1d571cd2-4c98-4121-b1a1-a758ff5470af",
   "metadata": {
    "slideshow": {
     "slide_type": "subslide"
    }
   },
   "source": [
    "**Exemplo:** Identificando cores em padrão hexadecimal."
   ]
  },
  {
   "cell_type": "code",
   "execution_count": 240,
   "id": "0816446d-bad9-4408-ab6a-fd7355054cfd",
   "metadata": {
    "slideshow": {
     "slide_type": "fragment"
    }
   },
   "outputs": [
    {
     "name": "stdout",
     "output_type": "stream",
     "text": [
      "#3ed4f4\n",
      "#ffcc00\n",
      "#9999ff\n"
     ]
    }
   ],
   "source": [
    "cores = ['(1,23,43)','#3ed4f4', '#ffcc00','(C,M,Y,K)','#9999ff'] \n",
    "\n",
    "for c in cores:\n",
    "    ok = re.match('#[a-fA-F0-9]{6}',c)\n",
    "    if ok:\n",
    "        print(ok.group())"
   ]
  },
  {
   "cell_type": "markdown",
   "id": "5fa99dc0-2fd5-4ea3-b101-c40ff797247a",
   "metadata": {
    "slideshow": {
     "slide_type": "subslide"
    }
   },
   "source": [
    "**Exemplo:** Identificando URLs no domínio Wikipedia Português."
   ]
  },
  {
   "cell_type": "code",
   "execution_count": 241,
   "id": "56e74e82-35de-46ba-8ab6-67f082be2b59",
   "metadata": {
    "slideshow": {
     "slide_type": "fragment"
    }
   },
   "outputs": [
    {
     "name": "stdout",
     "output_type": "stream",
     "text": [
      "http://pt.wikipedia.org/wiki/Bras\n",
      "https://pt.wikipedia.org/wiki/Bras\n",
      "https://pt.wikipedia.org/wiki/Cubas\n"
     ]
    }
   ],
   "source": [
    "urls = ['http://pt.wikipedia.org/wiki/Bras',\n",
    "       'http://wikipedia.org/wiki/Bras',\n",
    "       'https://pt.wikipedia.org/wiki/Bras',\n",
    "       'http://pt.wikipedia.org/wik/Bras',\n",
    "       'https://pt.wikipedia.org/wiki/Cubas']\n",
    "\n",
    "for u in urls:\n",
    "    ok = re.match('((http|https)://)?(pt.wikipedia.org/wiki/).+',u)\n",
    "    if ok:\n",
    "        print(ok.group())"
   ]
  },
  {
   "cell_type": "markdown",
   "id": "66d6c4e9-aee8-495b-a014-9f89c1667604",
   "metadata": {
    "slideshow": {
     "slide_type": "subslide"
    }
   },
   "source": [
    "#### Compilação e literais\n",
    "\n",
    "Até agora abordamos REs de uma maneira direta, mostrando como podemos localizar padrões pela utilização de alguns métodos. Vale comentar que REs podem ser compiladas como objetos mais abstratos. \n",
    "\n",
    "Para compilar expressões, podemos utilizar o método `compile`, no qual REs são manipuladas como strings. "
   ]
  },
  {
   "cell_type": "markdown",
   "id": "839e13fb-8a19-4df3-a463-05ef57f0b7e3",
   "metadata": {
    "slideshow": {
     "slide_type": "subslide"
    }
   },
   "source": [
    "**Exemplo:**"
   ]
  },
  {
   "cell_type": "code",
   "execution_count": 242,
   "id": "65084e02-b032-4f2b-b17f-ff9f1e502a9e",
   "metadata": {
    "slideshow": {
     "slide_type": "fragment"
    }
   },
   "outputs": [
    {
     "data": {
      "text/plain": [
       "['sad', 'sab', 'rad', 'tad', 'sac', 'sac']"
      ]
     },
     "execution_count": 242,
     "metadata": {},
     "output_type": "execute_result"
    }
   ],
   "source": [
    "rex = re.compile('[p-t]a[b-d]a?')\n",
    "rex.findall(cubas)"
   ]
  },
  {
   "cell_type": "markdown",
   "id": "2559376a-a237-421d-b2a9-b32b785add3f",
   "metadata": {
    "slideshow": {
     "slide_type": "fragment"
    }
   },
   "source": [
    "Aqui, `rex` é um objeto abstrato."
   ]
  },
  {
   "cell_type": "code",
   "execution_count": 243,
   "id": "5390a6fa-e0d9-4a31-8bca-797eb3779557",
   "metadata": {
    "slideshow": {
     "slide_type": "fragment"
    }
   },
   "outputs": [
    {
     "name": "stdout",
     "output_type": "stream",
     "text": [
      "<class 're.Pattern'>\n"
     ]
    }
   ],
   "source": [
    "print(type(rex))"
   ]
  },
  {
   "cell_type": "markdown",
   "id": "388ea609-d5cb-4d70-a212-a6dd7a43fe40",
   "metadata": {
    "slideshow": {
     "slide_type": "subslide"
    }
   },
   "source": [
    "Se imprimirmos `rex`, veremos o seguinte:"
   ]
  },
  {
   "cell_type": "code",
   "execution_count": 244,
   "id": "c24dfaf5-2a98-4cb8-b90e-99188a880033",
   "metadata": {
    "slideshow": {
     "slide_type": "fragment"
    }
   },
   "outputs": [
    {
     "data": {
      "text/plain": [
       "re.compile(r'[p-t]a[b-d]a?', re.UNICODE)"
      ]
     },
     "execution_count": 244,
     "metadata": {},
     "output_type": "execute_result"
    }
   ],
   "source": [
    "rex"
   ]
  },
  {
   "cell_type": "markdown",
   "id": "cd306123-3c2a-4a5d-a345-d8c634176a3e",
   "metadata": {
    "slideshow": {
     "slide_type": "fragment"
    }
   },
   "source": [
    "O prefixo `r` torna a string literal e serve para tratar problemas com escape. Todavia, deixaremos esta discussão para um momento posterior. Para saber mais, leia sobre a [Praga do Backspace](https://docs.python.org/3/howto/regex.html#the-backslash-plague)."
   ]
  },
  {
   "cell_type": "markdown",
   "id": "37891e4c-7d98-478d-86b2-9a1903fd0fdc",
   "metadata": {
    "slideshow": {
     "slide_type": "subslide"
    }
   },
   "source": [
    "#### Recursos de aprendizagem\n",
    "\n",
    "Para aprofundar seu entendimento sobre expressões regulares, recomendamos os seguintes sites: \n",
    "\n",
    "- [regex101.com](https://regex101.com)\n",
    "- [regexr.com](https://regexr.com)\n",
    "- [Regular Expression HOWTO](https://docs.python.org/3/howto/regex.html)\n",
    "- [Documentação do módulo `re`](https://docs.python.org/3/library/re.html)"
   ]
  }
 ],
 "metadata": {
  "celltoolbar": "Slideshow",
  "kernelspec": {
   "display_name": "Python 3",
   "language": "python",
   "name": "python3"
  },
  "language_info": {
   "codemirror_mode": {
    "name": "ipython",
    "version": 3
   },
   "file_extension": ".py",
   "mimetype": "text/x-python",
   "name": "python",
   "nbconvert_exporter": "python",
   "pygments_lexer": "ipython3",
   "version": "3.9.4"
  },
  "rise": {
   "enable_chalkboard": true,
   "footer": "ICD",
   "header": "Prof. Gustavo Oliveira | UFPB",
   "theme": "black"
  }
 },
 "nbformat": 4,
 "nbformat_minor": 5
}
