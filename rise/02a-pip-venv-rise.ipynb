{
 "cells": [
  {
   "cell_type": "markdown",
   "id": "057f5180-07a1-44d3-802d-d57b052addb1",
   "metadata": {
    "slideshow": {
     "slide_type": "slide"
    }
   },
   "source": [
    "# Pacotes e ambientes virtuais com _pip_ e _venv_"
   ]
  },
  {
   "cell_type": "markdown",
   "id": "351c1e9a-01aa-4e42-91a1-b73d55f606c6",
   "metadata": {
    "slideshow": {
     "slide_type": "slide"
    }
   },
   "source": [
    "## Objetivos\n",
    "\n",
    "- Dar visão geral sobre gerenciadores de pacote e ambientes virtuais\n",
    "- Aprender a utilizar o _pip_ e o _venv_ para gerenciar a instalação de pacotes, dependências e ambientes\n",
    "- Compreender comandos do _pip_ e do _venv_, e praticá-los em terminal"
   ]
  },
  {
   "cell_type": "markdown",
   "id": "4c0c1484-874e-4d52-9724-bd59a4419e89",
   "metadata": {
    "slideshow": {
     "slide_type": "slide"
    }
   },
   "source": [
    "## Ambientes virtuais\n",
    "\n",
    "> Locais isolados do resto do sistema operacional (daí o nome \"virtual\") onde podemos instalar pacotes sem que estes interfiram nos demais pacotes configurados globalmente."
   ]
  },
  {
   "cell_type": "markdown",
   "id": "0d99bcfd-4be1-4678-a1f4-32d399993256",
   "metadata": {
    "slideshow": {
     "slide_type": "subslide"
    }
   },
   "source": [
    "### Vantagens\n",
    "\n",
    "Algumas vantagens de se trabalhar com ambientes virtuais são: \n",
    "\n",
    "- Impedir conflitos de versão\n",
    "- Facilidade para reprodução e instalação\n",
    "- Execução independente de acesso privilegiado"
   ]
  },
  {
   "cell_type": "markdown",
   "id": "80c14415-7d34-44ed-a9d6-243ac1fb1c4b",
   "metadata": {
    "slideshow": {
     "slide_type": "subslide"
    }
   },
   "source": [
    "## Gerenciamento de pacotes e ambientes\n",
    "\n",
    "- **Boa prática:** instalar \"pacotes\" em ambientes virtuais. \n",
    "- Pacotes como \"habilidades\" e \"especializações\" a um programa. \n",
    "- Falaremos um pouco sobre o _pip_ e o _venv_."
   ]
  },
  {
   "cell_type": "markdown",
   "id": "8d3cc0b3-2155-413f-ad32-683239c17f6e",
   "metadata": {
    "slideshow": {
     "slide_type": "subslide"
    }
   },
   "source": [
    "### _pip_ \n",
    "\n",
    "- Infinidade de pacotes no [PyPi](https://pypi.org) - _Python Package Index_\n",
    "- Uma das maneiras mais fáceis de instalar pacotes PyPi é usar o gerenciador de pacotes _pip_.\n",
    "\n",
    "> Precisa de uma especialidade? Confira se já não existe no PyPi. Não reinvente a roda!"
   ]
  },
  {
   "cell_type": "markdown",
   "id": "e8ff999f-e04c-4130-b6d6-06acdec0e7c4",
   "metadata": {
    "slideshow": {
     "slide_type": "subslide"
    }
   },
   "source": [
    "- Verificar instalação"
   ]
  },
  {
   "cell_type": "code",
   "execution_count": 2,
   "id": "96eadcde-7d6b-4c34-9e0d-fc5dfb6d79cf",
   "metadata": {
    "slideshow": {
     "slide_type": "fragment"
    }
   },
   "outputs": [
    {
     "name": "stdout",
     "output_type": "stream",
     "text": [
      "pip 21.1.1 from /Users/gustavo/opt/anaconda3/lib/python3.8/site-packages/pip (python 3.8)\n"
     ]
    }
   ],
   "source": [
    "# no sistema operacional, remover o !\n",
    "!pip --version "
   ]
  },
  {
   "cell_type": "markdown",
   "id": "16390f44-7d7a-4cfd-9be0-202d141e47f1",
   "metadata": {
    "slideshow": {
     "slide_type": "subslide"
    }
   },
   "source": [
    "- Verificar lista de pacotes instalados"
   ]
  },
  {
   "cell_type": "code",
   "execution_count": 10,
   "id": "cfb98156-8da1-43c6-9565-ff2b1ed4da7a",
   "metadata": {
    "slideshow": {
     "slide_type": "fragment"
    }
   },
   "outputs": [
    {
     "name": "stdout",
     "output_type": "stream",
     "text": [
      "Package                            Version\n",
      "---------------------------------- -------------------\n",
      "alabaster                          0.7.12\n",
      "anaconda-client                    1.7.2\n",
      "anaconda-navigator                 2.0.3\n",
      "anaconda-project                   0.10.0\n",
      "anyio                              3.0.1\n",
      "appdirs                            1.4.4\n",
      "applaunchservices                  0.2.1\n",
      "appnope                            0.1.2\n",
      "appscript                          1.1.2\n",
      "argh                               0.26.2\n",
      "argon2-cffi                        20.1.0\n",
      "arrow                              0.13.1\n",
      "asn1crypto                         1.4.0\n",
      "astroid                            2.5\n",
      "astropy                            4.2.1\n",
      "async-generator                    1.10\n",
      "atomicwrites                       1.4.0\n",
      "attrs                              21.2.0\n",
      "autopep8                           1.5.6\n",
      "Babel                              2.9.1\n",
      "backcall                           0.2.0\n",
      "backports.functools-lru-cache      1.6.4\n",
      "backports.shutil-get-terminal-size 1.0.0\n",
      "backports.tempfile                 1.0\n",
      "backports.weakref                  1.0.post1\n",
      "beautifulsoup4                     4.9.3\n",
      "binaryornot                        0.4.4\n",
      "bitarray                           2.1.0\n",
      "bkcharts                           0.2\n",
      "black                              19.10b0\n",
      "bleach                             3.3.0\n",
      "bokeh                              2.3.2\n",
      "boto                               2.49.0\n",
      "Bottleneck                         1.3.2\n",
      "brotlipy                           0.7.0\n",
      "certifi                            2020.12.5\n",
      "cffi                               1.14.5\n",
      "chardet                            4.0.0\n",
      "click                              8.0.1\n",
      "cloudpickle                        1.6.0\n",
      "clyent                             1.2.2\n",
      "colorama                           0.4.4\n",
      "conda                              4.10.1\n",
      "conda-build                        3.21.4\n",
      "conda-content-trust                0+unknown\n",
      "conda-pack                         0.6.0\n",
      "conda-package-handling             1.7.3\n",
      "conda-repo-cli                     1.0.4\n",
      "conda-token                        0.3.0\n",
      "conda-verify                       3.4.2\n",
      "contextlib2                        0.6.0.post1\n",
      "cookiecutter                       1.7.2\n",
      "cryptography                       3.4.7\n",
      "cycler                             0.10.0\n",
      "Cython                             0.29.23\n",
      "cytoolz                            0.11.0\n",
      "dask                               2021.4.0\n",
      "decorator                          5.0.9\n",
      "defusedxml                         0.7.1\n",
      "diff-match-patch                   20200713\n",
      "distributed                        2021.5.0\n",
      "docutils                           0.17.1\n",
      "entrypoints                        0.3\n",
      "et-xmlfile                         1.1.0\n",
      "fastcache                          1.1.0\n",
      "filelock                           3.0.12\n",
      "flake8                             3.9.0\n",
      "Flask                              1.1.2\n",
      "fsspec                             0.9.0\n",
      "future                             0.18.2\n",
      "gevent                             21.1.2\n",
      "ghp-import                         1.1.0\n",
      "gitdb                              4.0.7\n",
      "GitPython                          3.1.14\n",
      "glob2                              0.7\n",
      "gmpy2                              2.0.8\n",
      "gmsh                               4.8.4\n",
      "greenlet                           1.1.0\n",
      "h5py                               2.10.0\n",
      "HeapDict                           1.0.1\n",
      "html5lib                           1.1\n",
      "idna                               2.10\n",
      "imageio                            2.9.0\n",
      "imagesize                          1.2.0\n",
      "importlib-metadata                 3.10.0\n",
      "inflection                         0.5.1\n",
      "iniconfig                          1.1.1\n",
      "intervaltree                       3.1.0\n",
      "ipykernel                          5.3.4\n",
      "ipython                            7.22.0\n",
      "ipython-genutils                   0.2.0\n",
      "ipywidgets                         7.6.3\n",
      "isort                              5.8.0\n",
      "itsdangerous                       2.0.1\n",
      "jdcal                              1.4.1\n",
      "jedi                               0.17.2\n",
      "Jinja2                             2.11.3\n",
      "jinja2-time                        0.2.0\n",
      "joblib                             1.0.1\n",
      "json5                              0.9.5\n",
      "jsonschema                         3.2.0\n",
      "jupyter                            1.0.0\n",
      "jupyter-book                       0.10.2\n",
      "jupyter-cache                      0.4.2\n",
      "jupyter-client                     6.1.12\n",
      "jupyter-console                    6.4.0\n",
      "jupyter-core                       4.7.1\n",
      "jupyter-packaging                  0.7.12\n",
      "jupyter-server                     1.7.0\n",
      "jupyter-server-mathjax             0.2.2\n",
      "jupyter-sphinx                     0.3.2\n",
      "jupyterbook-latex                  0.2.0\n",
      "jupyterlab                         3.0.14\n",
      "jupyterlab-pygments                0.1.2\n",
      "jupyterlab-server                  2.4.0\n",
      "jupyterlab-widgets                 1.0.0\n",
      "jupytext                           1.10.3\n",
      "keyring                            23.0.1\n",
      "kiwisolver                         1.3.1\n",
      "latexcodec                         2.0.1\n",
      "lazy-object-proxy                  1.6.0\n",
      "libarchive-c                       2.9\n",
      "linkify-it-py                      1.0.1\n",
      "llvmlite                           0.36.0\n",
      "locket                             0.2.1\n",
      "lxml                               4.6.3\n",
      "markdown-it-py                     0.6.2\n",
      "MarkupSafe                         1.1.1\n",
      "matplotlib                         3.3.4\n",
      "mccabe                             0.6.1\n",
      "mdit-py-plugins                    0.2.8\n",
      "meshio                             4.4.3\n",
      "mistune                            0.8.4\n",
      "mkl-fft                            1.3.0\n",
      "mkl-random                         1.2.1\n",
      "mkl-service                        2.3.0\n",
      "mock                               4.0.3\n",
      "more-itertools                     8.7.0\n",
      "mpmath                             1.2.1\n",
      "msgpack                            1.0.2\n",
      "multipledispatch                   0.6.0\n",
      "mypy-extensions                    0.4.3\n",
      "myst-nb                            0.12.3\n",
      "myst-parser                        0.13.7\n",
      "navigator-updater                  0.2.1\n",
      "nbclassic                          0.2.6\n",
      "nbclient                           0.5.3\n",
      "nbconvert                          6.0.7\n",
      "nbdime                             3.0.0\n",
      "nbformat                           5.1.3\n",
      "nest-asyncio                       1.5.1\n",
      "nested-lookup                      0.2.22\n",
      "networkx                           2.5\n",
      "nltk                               3.6.2\n",
      "nose                               1.3.7\n",
      "notebook                           6.4.0\n",
      "numba                              0.53.1\n",
      "numexpr                            2.7.3\n",
      "numpy                              1.20.2\n",
      "numpydoc                           1.1.0\n",
      "olefile                            0.46\n",
      "openpyxl                           3.0.7\n",
      "packaging                          20.9\n",
      "pandas                             1.2.4\n",
      "pandocfilters                      1.4.3\n",
      "parso                              0.7.0\n",
      "partd                              1.2.0\n",
      "path                               15.1.2\n",
      "pathlib2                           2.3.5\n",
      "pathspec                           0.7.0\n",
      "pathtools                          0.1.2\n",
      "patsy                              0.5.1\n",
      "pep8                               1.7.1\n",
      "pexpect                            4.8.0\n",
      "pickleshare                        0.7.5\n",
      "Pillow                             8.2.0\n",
      "pip                                21.1.1\n",
      "pkginfo                            1.7.0\n",
      "pluggy                             0.13.1\n",
      "ply                                3.11\n",
      "poyo                               0.5.0\n",
      "prometheus-client                  0.10.1\n",
      "prompt-toolkit                     3.0.17\n",
      "psutil                             5.8.0\n",
      "ptyprocess                         0.7.0\n",
      "py                                 1.10.0\n",
      "pybtex                             0.24.0\n",
      "pybtex-docutils                    1.0.0\n",
      "pycodestyle                        2.6.0\n",
      "pycosat                            0.6.3\n",
      "pycparser                          2.20\n",
      "pycurl                             7.43.0.6\n",
      "pydata-sphinx-theme                0.6.3\n",
      "pydocstyle                         6.1.1\n",
      "pyerfa                             2.0.0\n",
      "pyflakes                           2.2.0\n",
      "Pygments                           2.9.0\n",
      "pygmsh                             7.1.9\n",
      "pylint                             2.7.4\n",
      "pyls-black                         0.4.6\n",
      "pyls-spyder                        0.3.2\n",
      "pyodbc                             4.0.0-unsupported\n",
      "pyOpenSSL                          20.0.1\n",
      "pyparsing                          2.4.7\n",
      "pyrsistent                         0.17.3\n",
      "PySocks                            1.7.1\n",
      "pytest                             6.2.3\n",
      "python-dateutil                    2.8.1\n",
      "python-jsonrpc-server              0.4.0\n",
      "python-language-server             0.36.2\n",
      "python-slugify                     5.0.2\n",
      "pytz                               2021.1\n",
      "PyWavelets                         1.1.1\n",
      "PyYAML                             5.4.1\n",
      "pyzmq                              20.0.0\n",
      "QDarkStyle                         3.0.2\n",
      "qstylizer                          0.1.10\n",
      "QtAwesome                          1.0.2\n",
      "qtconsole                          5.0.3\n",
      "QtPy                               1.9.0\n",
      "regex                              2021.4.4\n",
      "requests                           2.25.1\n",
      "rope                               0.18.0\n",
      "Rtree                              0.9.7\n",
      "ruamel-yaml-conda                  0.15.100\n",
      "scikit-image                       0.16.2\n",
      "scikit-learn                       0.24.2\n",
      "scipy                              1.6.2\n",
      "seaborn                            0.11.1\n",
      "Send2Trash                         1.5.0\n",
      "setuptools                         52.0.0.post20210125\n",
      "simplegeneric                      0.8.1\n",
      "singledispatch                     0.0.0\n",
      "six                                1.15.0\n",
      "smmap                              4.0.0\n",
      "sniffio                            1.2.0\n",
      "snowballstemmer                    2.1.0\n",
      "sortedcollections                  2.1.0\n",
      "sortedcontainers                   2.3.0\n",
      "soupsieve                          2.2.1\n",
      "Sphinx                             4.0.1\n",
      "sphinx-book-theme                  0.1.0\n",
      "sphinx-comments                    0.0.3\n",
      "sphinx-copybutton                  0.3.1\n",
      "sphinx-panels                      0.5.2\n",
      "sphinx-thebe                       0.0.8\n",
      "sphinx-togglebutton                0.2.3\n",
      "sphinxcontrib-applehelp            1.0.2\n",
      "sphinxcontrib-bibtex               2.1.4\n",
      "sphinxcontrib-devhelp              1.0.2\n",
      "sphinxcontrib-htmlhelp             1.0.3\n",
      "sphinxcontrib-jsmath               1.0.1\n",
      "sphinxcontrib-qthelp               1.0.3\n",
      "sphinxcontrib-serializinghtml      1.1.4\n",
      "sphinxcontrib-websupport           1.2.4\n",
      "spyder                             5.0.0\n",
      "spyder-kernels                     2.0.1\n",
      "SQLAlchemy                         1.4.15\n",
      "statsmodels                        0.12.2\n",
      "sympy                              1.8\n",
      "tables                             3.6.1\n",
      "tblib                              1.7.0\n",
      "terminado                          0.9.4\n",
      "testpath                           0.4.4\n",
      "text-unidecode                     1.3\n",
      "textdistance                       4.2.1\n",
      "threadpoolctl                      2.1.0\n",
      "three-merge                        0.1.1\n",
      "tinycss                            0.4\n",
      "toml                               0.10.2\n",
      "toolz                              0.11.1\n",
      "tornado                            6.1\n",
      "tqdm                               4.59.0\n",
      "traitlets                          5.0.5\n",
      "typed-ast                          1.4.2\n",
      "typing-extensions                  3.7.4.3\n",
      "uc-micro-py                        1.0.1\n",
      "ujson                              4.0.2\n",
      "unicodecsv                         0.14.1\n",
      "Unidecode                          1.2.0\n",
      "urllib3                            1.26.4\n",
      "watchdog                           1.0.2\n",
      "wcwidth                            0.2.5\n",
      "webencodings                       0.5.1\n",
      "websocket-client                   0.59.0\n",
      "Werkzeug                           1.0.1\n",
      "wheel                              0.36.2\n",
      "whichcraft                         0.6.1\n",
      "widgetsnbextension                 3.5.1\n",
      "wrapt                              1.12.1\n",
      "wurlitzer                          2.1.0\n",
      "xlrd                               2.0.1\n",
      "XlsxWriter                         1.3.8\n",
      "xlwings                            0.23.0\n",
      "xlwt                               1.3.0\n",
      "xmltodict                          0.12.0\n",
      "yapf                               0.31.0\n",
      "zict                               2.0.0\n",
      "zipp                               3.4.1\n",
      "zope.event                         4.5.0\n",
      "zope.interface                     5.3.0\n"
     ]
    }
   ],
   "source": [
    "!pip list "
   ]
  },
  {
   "cell_type": "markdown",
   "id": "61cd2664-e335-427a-93f3-3722d35951b6",
   "metadata": {
    "slideshow": {
     "slide_type": "subslide"
    }
   },
   "source": [
    "- Imprimir informações sobre um pacote listado"
   ]
  },
  {
   "cell_type": "code",
   "execution_count": 12,
   "id": "e1ea6404-0a11-4a3c-b845-2c75eb6f37a6",
   "metadata": {
    "slideshow": {
     "slide_type": "fragment"
    }
   },
   "outputs": [
    {
     "name": "stdout",
     "output_type": "stream",
     "text": [
      "Name: alabaster\n",
      "Version: 0.7.12\n",
      "Summary: A configurable sidebar-enabled Sphinx theme\n",
      "Home-page: https://alabaster.readthedocs.io\n",
      "Author: Jeff Forcier\n",
      "Author-email: jeff@bitprophet.org\n",
      "License: UNKNOWN\n",
      "Location: /Users/gustavo/opt/anaconda3/lib/python3.8/site-packages\n",
      "Requires: \n",
      "Required-by: Sphinx\n"
     ]
    }
   ],
   "source": [
    "!pip show alabaster"
   ]
  },
  {
   "cell_type": "markdown",
   "id": "e7218a25-9a19-48a5-a87b-684fb1ff19bb",
   "metadata": {
    "slideshow": {
     "slide_type": "subslide"
    }
   },
   "source": [
    "- Para atualizar o _pip_ para uma versão mais nova\n",
    "\n",
    "```python\n",
    "python -m pip install --upgrade pip\n",
    "```"
   ]
  },
  {
   "cell_type": "markdown",
   "id": "a4a468c1-7fd2-4200-b803-1bfbc59757cb",
   "metadata": {
    "slideshow": {
     "slide_type": "fragment"
    }
   },
   "source": [
    "- Para ajuda do _pip_\n",
    "\n",
    "```python\n",
    "pip -h\n",
    "```"
   ]
  },
  {
   "cell_type": "markdown",
   "id": "72202260",
   "metadata": {
    "slideshow": {
     "slide_type": "subslide"
    }
   },
   "source": [
    "- Comandos de interesse: _install_, _uninstall_, _search_. \n",
    "\n",
    "- Exemplo:\n",
    "```python\n",
    "pip install lxml\n",
    "```\n",
    "Instala a biblioteca _lxml_, globalmente! \n",
    "\n",
    "> Todavia, isso pode ser uma má escolha se você trabalhar com múltiplos projetos e versões como explicado anteriormente. "
   ]
  },
  {
   "cell_type": "markdown",
   "id": "9aed1cdf-f9c2-4723-bed7-7e242a652739",
   "metadata": {
    "slideshow": {
     "slide_type": "subslide"
    }
   },
   "source": [
    "Como evitar potenciais conflitos de versão e imcompatibilidades? \n",
    "    \n",
    "**Ambientes virtuais!**"
   ]
  },
  {
   "cell_type": "markdown",
   "id": "e9ef3043",
   "metadata": {
    "slideshow": {
     "slide_type": "subslide"
    }
   },
   "source": [
    "### _venv_\n",
    "\n",
    "- Integrado na versão Python 3.3 [PEP 405](https://www.python.org/dev/peps/pep-0405/)\n",
    "- Melhoria do [_virtualenv_](https://virtualenv.pypa.io/en/stable/) para Python 2"
   ]
  },
  {
   "cell_type": "markdown",
   "id": "d3538288-cd67-4906-ab95-202717744415",
   "metadata": {
    "slideshow": {
     "slide_type": "subslide"
    }
   },
   "source": [
    "Nesta seção: \n",
    "\n",
    "- Etapas essenciais do trabalho com _venv_ através da linha de comando:\n",
    "    - Criação e configuração do ambiente virtual\n",
    "    - Instalação e gestão de pacotes no ambiente virtual\n",
    "    - Salvamento e replicação do ambiente virtual"
   ]
  },
  {
   "cell_type": "markdown",
   "id": "90ab4990-6387-478d-8b5b-dad3daf3404d",
   "metadata": {
    "slideshow": {
     "slide_type": "subslide"
    }
   },
   "source": [
    "#### Criação e configuração do ambiente virtual\n",
    "\n",
    "Vamos supor que o nosso ambiente virtual seja chamado de `icd`. Para criá-lo, fazemos o seguinte:"
   ]
  },
  {
   "cell_type": "code",
   "execution_count": 18,
   "id": "24ef4596-3a04-420d-bab4-a4634ed1b27f",
   "metadata": {
    "slideshow": {
     "slide_type": "subslide"
    }
   },
   "outputs": [],
   "source": [
    "!python3 -m venv icd"
   ]
  },
  {
   "cell_type": "markdown",
   "id": "5520b630-9392-4d4d-afe9-e340274be5f5",
   "metadata": {
    "slideshow": {
     "slide_type": "subslide"
    }
   },
   "source": [
    "Um diretório _icd_ é criado no diretório a partir do qual o comando foi executado contendo outros diretórios."
   ]
  },
  {
   "cell_type": "code",
   "execution_count": 19,
   "id": "60a02eb1-ed99-44f8-b569-dfa5a1203f1b",
   "metadata": {
    "slideshow": {
     "slide_type": "fragment"
    }
   },
   "outputs": [
    {
     "name": "stdout",
     "output_type": "stream",
     "text": [
      "total 8\n",
      "drwxr-xr-x@ 13 gustavo  staff  416 Jul  7 22:54 \u001b[34mbin\u001b[39;49m\u001b[0m\n",
      "drwxr-xr-x@  2 gustavo  staff   64 Jul  7 22:54 \u001b[34minclude\u001b[39;49m\u001b[0m\n",
      "drwxr-xr-x@  3 gustavo  staff   96 Jul  7 22:54 \u001b[34mlib\u001b[39;49m\u001b[0m\n",
      "-rw-r--r--@  1 gustavo  staff  104 Jul  7 22:54 pyvenv.cfg\n"
     ]
    }
   ],
   "source": [
    "!ls -l icd"
   ]
  },
  {
   "cell_type": "markdown",
   "id": "6366e00d-99ac-4452-889c-c628d3f3d5cc",
   "metadata": {
    "slideshow": {
     "slide_type": "fragment"
    }
   },
   "source": [
    "- _lib_: diretório de pacotes independentes\n",
    "- _bin_: diretório com ferramentas de inicialização e interrupção do ambiente"
   ]
  },
  {
   "cell_type": "markdown",
   "id": "0cc09a95-c544-4375-a3f6-312f8ec98745",
   "metadata": {
    "slideshow": {
     "slide_type": "subslide"
    }
   },
   "source": [
    "Para ativar o ambiente, fazemos:"
   ]
  },
  {
   "cell_type": "raw",
   "id": "5bd44e23-c15e-4248-a180-f794b3be6368",
   "metadata": {
    "slideshow": {
     "slide_type": "fragment"
    }
   },
   "source": [
    "source icd/bin/activate"
   ]
  },
  {
   "cell_type": "markdown",
   "id": "4ad0b820-41fd-496f-b7ab-df659d366ef0",
   "metadata": {
    "slideshow": {
     "slide_type": "subslide"
    }
   },
   "source": [
    "A ativação do ambiente produzirá uma mudança no terminal, tal como: "
   ]
  },
  {
   "cell_type": "raw",
   "id": "75c2fe81-0d07-4e73-917b-390ae8c2efe8",
   "metadata": {
    "slideshow": {
     "slide_type": "fragment"
    }
   },
   "source": [
    "# note o prefixo icd\n",
    "(icd) (base) gustavo@GloryCrown"
   ]
  },
  {
   "cell_type": "markdown",
   "id": "d092240c-8a03-4d95-88f8-94f8d25f5180",
   "metadata": {
    "slideshow": {
     "slide_type": "subslide"
    }
   },
   "source": [
    "#### Instalação e gestão de pacotes no ambiente virtual\n",
    "\n",
    "- Uma vez ativado o ambiente, você está isolado do sistema global\n",
    "- Vamos instalar os seguintes pacotes para o curso:\n",
    "    - _numpy_\n",
    "    - _scipy_\n",
    "    - _sympy_\n",
    "    - _matplotlib_\n",
    "    - _pandas_\n",
    "    - _seaborn_"
   ]
  },
  {
   "cell_type": "markdown",
   "id": "39396cf6-b464-4019-86b6-7a7493693da6",
   "metadata": {
    "slideshow": {
     "slide_type": "subslide"
    }
   },
   "source": [
    "Antes de prosseguir, vamos verificar o que há no ambiente."
   ]
  },
  {
   "cell_type": "raw",
   "id": "97130f7e-64f1-4b24-aeaa-1ef87da26200",
   "metadata": {
    "slideshow": {
     "slide_type": "fragment"
    }
   },
   "source": [
    "# lista os pacotes no ambiente puro\n",
    "pip list"
   ]
  },
  {
   "cell_type": "raw",
   "id": "f269e6e7-a600-4d87-9ee5-5eb36f041487",
   "metadata": {
    "slideshow": {
     "slide_type": "fragment"
    }
   },
   "source": [
    "(icd) (base) gustavo@GloryCrown ipynb % pip list\n",
    "Package    Version\n",
    "---------- -------\n",
    "pip        19.2.3\n",
    "setuptools 41.2.0"
   ]
  },
  {
   "cell_type": "markdown",
   "id": "96fd3fdc-66d6-407c-850b-1a18b67cc807",
   "metadata": {
    "slideshow": {
     "slide_type": "subslide"
    }
   },
   "source": [
    "Como vemos, há apenas dois pacotes no ambiente. Agora, podemos proceder à instalação dos pacotes requisitados.\n",
    "\n",
    "```{warning}\n",
    "Se necessário, atualize o _pip_ com `pip install --upgrade pip`.\n",
    "```"
   ]
  },
  {
   "cell_type": "raw",
   "id": "22d740ee-a072-4542-a267-d84eca16950a",
   "metadata": {
    "slideshow": {
     "slide_type": "fragment"
    }
   },
   "source": [
    "# instala pacotes com pip\n",
    "pip install numpy scipy sympy matplotlib pandas seaborn"
   ]
  },
  {
   "cell_type": "markdown",
   "id": "292729f3-bab3-4b9f-9fac-7c057306843b",
   "metadata": {
    "slideshow": {
     "slide_type": "subslide"
    }
   },
   "source": [
    "Para verificar se todos os pacotes foram instalados, fazemos:"
   ]
  },
  {
   "cell_type": "raw",
   "id": "a0ad51b8-1637-4a14-bf7d-094e43283a6c",
   "metadata": {
    "slideshow": {
     "slide_type": "fragment"
    }
   },
   "source": [
    "# lista pacotes após instalação\n",
    "pip list"
   ]
  },
  {
   "cell_type": "raw",
   "id": "75a548e0-3bd2-41d9-bf84-4c5d68ecc286",
   "metadata": {
    "slideshow": {
     "slide_type": "subslide"
    }
   },
   "source": [
    "(icd) (base) gustavo@GloryCrown ipynb % pip list\n",
    "Package         Version\n",
    "--------------- -------\n",
    "cycler          0.10.0\n",
    "kiwisolver      1.3.1\n",
    "matplotlib      3.4.2\n",
    "mpmath          1.2.1\n",
    "numpy           1.21.0\n",
    "pandas          1.3.0\n",
    "Pillow          8.3.1\n",
    "pip             21.1.3\n",
    "pyparsing       2.4.7\n",
    "python-dateutil 2.8.1\n",
    "pytz            2021.1\n",
    "scipy           1.7.0\n",
    "seaborn         0.11.1\n",
    "setuptools      41.2.0\n",
    "six             1.16.0\n",
    "sympy           1.8"
   ]
  },
  {
   "cell_type": "markdown",
   "id": "918d523b-1650-48a0-b343-67c33f1d55d0",
   "metadata": {
    "slideshow": {
     "slide_type": "subslide"
    }
   },
   "source": [
    "#### Salvamento e replicação do ambiente virtual\n",
    "\n",
    "- Interesse em manter o AV? \n",
    "- Natural \"salvar\" o seu estado para replicá-lo em outro lugar (ex. outro usuário)\n",
    "- Como fazer? \n",
    "    - Usar _freeze_ e redirecionar os pacotes para um arquivo de requisitos: `requirements.txt`."
   ]
  },
  {
   "cell_type": "raw",
   "id": "9ca02c78-922e-46ce-8fd7-44f46d7f0daf",
   "metadata": {
    "slideshow": {
     "slide_type": "subslide"
    }
   },
   "source": [
    "# salva a configuração do ambiente em 'requirements.txt'\n",
    "pip freeze > requirements.txt"
   ]
  },
  {
   "cell_type": "markdown",
   "id": "21527fe5-200b-4026-8485-ee6a9ab22d38",
   "metadata": {
    "slideshow": {
     "slide_type": "subslide"
    }
   },
   "source": [
    "Se analisarmos o conteúdo do arquivo `requirements.txt`, veremos algo como:"
   ]
  },
  {
   "cell_type": "raw",
   "id": "c2b1fa81-9698-4ec5-afa7-29ada017a7a5",
   "metadata": {
    "slideshow": {
     "slide_type": "fragment"
    }
   },
   "source": [
    "(icd) (base) gustavo@GloryCrown ipynb % cat requirements.txt\n",
    "cycler==0.10.0\n",
    "kiwisolver==1.3.1\n",
    "matplotlib==3.4.2\n",
    "mpmath==1.2.1\n",
    "numpy==1.21.0\n",
    "pandas==1.3.0\n",
    "Pillow==8.3.1\n",
    "pyparsing==2.4.7\n",
    "python-dateutil==2.8.1\n",
    "pytz==2021.1\n",
    "scipy==1.7.0\n",
    "seaborn==0.11.1\n",
    "six==1.16.0\n",
    "sympy==1.8"
   ]
  },
  {
   "cell_type": "markdown",
   "id": "112ab9e9-0b83-49e9-b138-5b2f40be95a6",
   "metadata": {
    "slideshow": {
     "slide_type": "subslide"
    }
   },
   "source": [
    "A replicação do nosso ambiente _icd_ em outro computador, por exemplo, pode então ser feita da seguinte forma:"
   ]
  },
  {
   "cell_type": "raw",
   "id": "89a8e21f-3dd3-4059-96e3-10ee3e353838",
   "metadata": {
    "slideshow": {
     "slide_type": "fragment"
    }
   },
   "source": [
    "# instala pacotes a partir de arquivo de requisitos em ambiente pré-ativado\n",
    "pip install -r requirements.txt"
   ]
  },
  {
   "cell_type": "markdown",
   "id": "48fbfcc3-6fa5-4e81-8981-c2c5b8cf3e77",
   "metadata": {
    "slideshow": {
     "slide_type": "subslide"
    }
   },
   "source": [
    "Se quisermos desinstalar todos os pacotes de uma só vez, podemos fazer algo como:"
   ]
  },
  {
   "cell_type": "raw",
   "id": "49faea9b-1fbb-42ae-be1c-8278a6bdabaf",
   "metadata": {
    "slideshow": {
     "slide_type": "fragment"
    }
   },
   "source": [
    "# desinstala pacotes no ambiente a partir de arquivo de requisitos com confirmação\n",
    "pip uninstall -r requirements.txt -y"
   ]
  },
  {
   "cell_type": "markdown",
   "id": "6088ed10-df63-4610-a025-78f8e1c2d5af",
   "metadata": {
    "slideshow": {
     "slide_type": "subslide"
    }
   },
   "source": [
    "Uma vez desinstalados, se listarmos novamente os pacotes no ambiente, veríamos exatamente o que tínhamos no início:"
   ]
  },
  {
   "cell_type": "raw",
   "id": "d4055ba0-780e-4fba-8a9b-f33e6967cb74",
   "metadata": {
    "slideshow": {
     "slide_type": "fragment"
    }
   },
   "source": [
    "(icd) (base) gustavo@GloryCrown ipynb % pip list\n",
    "Package    Version\n",
    "---------- -------\n",
    "pip        21.1.3\n",
    "setuptools 41.2.0"
   ]
  },
  {
   "cell_type": "markdown",
   "id": "df5aa515-2898-43aa-aff6-3b82cf0dd019",
   "metadata": {
    "slideshow": {
     "slide_type": "subslide"
    }
   },
   "source": [
    "O arquivo de requisitos permite:\n",
    "\n",
    "- Indicar restrição para versões dos pacotes\n",
    "    - Exemplo: `_numpy>=1.14.1_`\n",
    "- _upgrade_ total de uma só vez para todos os pacotes\n",
    "    - Exemplo: `pip install --upgrade -r requirements.txt`"
   ]
  },
  {
   "cell_type": "markdown",
   "id": "9c179622-3233-4837-b480-e1347f6943eb",
   "metadata": {
    "slideshow": {
     "slide_type": "subslide"
    }
   },
   "source": [
    "Finalmente, para excluir o ambiente, basta desativá-lo e posteriormente deletar o seu conteúdo."
   ]
  },
  {
   "cell_type": "markdown",
   "id": "0e0a0590-8286-43e9-a8a7-280c64a1dbf4",
   "metadata": {
    "slideshow": {
     "slide_type": "slide"
    }
   },
   "source": [
    "## Outras opções para  \"separação\" virtual de ambientes\n",
    "\n",
    "- Contêinerização com _Docker_ ou _Kubernetes_\n",
    "- Máquinas virtuais (_virtual machines_)\n",
    "- Gerenciamento de ambientes com _conda_, _miniconda_, _pipenv_, "
   ]
  }
 ],
 "metadata": {
  "celltoolbar": "Slideshow",
  "kernelspec": {
   "display_name": "Python 3",
   "language": "python",
   "name": "python3"
  },
  "language_info": {
   "codemirror_mode": {
    "name": "ipython",
    "version": 3
   },
   "file_extension": ".py",
   "mimetype": "text/x-python",
   "name": "python",
   "nbconvert_exporter": "python",
   "pygments_lexer": "ipython3",
   "version": "3.9.4"
  },
  "rise": {
   "enable_chalkboard": true,
   "footer": "ICD",
   "header": "Prof. Gustavo Oliveira | UFPB",
   "theme": "black"
  }
 },
 "nbformat": 4,
 "nbformat_minor": 5
}
