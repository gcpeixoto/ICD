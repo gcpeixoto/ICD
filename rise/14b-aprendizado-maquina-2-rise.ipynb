{
 "cells": [
  {
   "cell_type": "markdown",
   "id": "96b2f034-fdcf-4756-80aa-da7f6a797d02",
   "metadata": {
    "slideshow": {
     "slide_type": "slide"
    }
   },
   "source": [
    "# Aprendizado de máquina - II"
   ]
  },
  {
   "cell_type": "markdown",
   "id": "f5e89e0a-4463-4970-b2fa-f0f36d4377db",
   "metadata": {
    "slideshow": {
     "slide_type": "slide"
    }
   },
   "source": [
    "## Resumo\n",
    "\n",
    "- Na aula anterior... problema de classificação (aprendizado de máquina supervisionado)\n",
    "- Nesta aula, resolveremos um problema de _clusterização_ (**aprendizado de máquina não supervisionado**) \n",
    "- Aprendizado supervisionado: possível medir erros entre os valores esperados e os previstos\n",
    "- Aprendizado não supervisionado: algoritmos categorizam _features_ através de critérios de similaridade, estatísticos ou geométricos."
   ]
  },
  {
   "cell_type": "markdown",
   "id": "2efa25b1-eb47-4eed-b142-a5bfc9585b01",
   "metadata": {
    "slideshow": {
     "slide_type": "slide"
    }
   },
   "source": [
    "## Breves comentários sobre aprendizagem\n",
    "\n",
    "- _Aprendizagem_: conceito quantificável por meio de erros. \n",
    "- Durante treinamento do algoritmo, dois erros são estimados. "
   ]
  },
  {
   "cell_type": "markdown",
   "id": "90c344a0",
   "metadata": {
    "slideshow": {
     "slide_type": "slide"
    }
   },
   "source": [
    "### Erro de treinamento\n",
    "\n",
    "- Mede a discrepância entre as amostras observadas e as amostras apenas do conjunto de treinamento.\n",
    "- Erro por amostras (ex. classificação):\n",
    "$$e_i = e(x_i,y_i) =\n",
    "\\begin{cases}\n",
    "1, \\ \\ \\text{se} \\ \\ h(x_i) = y_i \\\\\n",
    "0, \\ \\ \\text{caso contrário}\n",
    "\\end{cases}$$\n",
    "\n",
    "- Define-se o erro de treinamento por:\n",
    "$$E_{tr} = \\frac{ \\sum_{i=1}^n e_i }{n},$$"
   ]
  },
  {
   "cell_type": "markdown",
   "id": "6b42868d",
   "metadata": {
    "slideshow": {
     "slide_type": "slide"
    }
   },
   "source": [
    "### Erro de generalização \n",
    "\n",
    "- Erro médio calculado sobre os dados não vistos ($E_gen$)\n",
    "- Em geral, $E_{gen} \\geq E_{tr}$ e a _aprendizagem_ é atingida quando $E_{gen}$ é o menor possível. \n",
    "- Assim, **a aprendizagem é o resultado de $E_{tr} \\to 0$, ou $E_{gen} \\approx E_{tr}$**. \n",
    "- Um excelente treinamento deve conduzir a um modelo de aprendizagem robusto."
   ]
  },
  {
   "cell_type": "markdown",
   "id": "46044c50-9d59-430c-836f-e8797fa74ca5",
   "metadata": {},
   "source": [
    "### Curvas de aprendizagem, _overfitting_ e _underfitting_\n",
    "\n",
    "- A aprendizagem é medida por meio de _curvas de aprendizagem_, que possuem aparência assintótica. \n",
    "- Modelos com alto desempenho durante a etapa de treinamento que generalizam mal tendem a sofrer um _superajustamento_ (_overfitting_). \n",
    "- Modelos com baixo desempenho já durante a etapa de treinamento tendem a sofrer um _subajustamento_ (_underfitting_). \n",
    "- Ambos os comportamentos são percebidos nas curvas de aprendizagem. \n",
    "- A correção de _overfitting_ ou _underfitting_ pode ser feita com várias técnicas, tais como _regularização_."
   ]
  },
  {
   "cell_type": "markdown",
   "id": "2680c4d4-ac1e-46a8-a7c2-feb7cc62b588",
   "metadata": {
    "slideshow": {
     "slide_type": "slide"
    }
   },
   "source": [
    "## Treinamento, validação e generalização\n",
    "\n",
    "- _treinamento_: etapa em que se verifica o desempenho de um modelo a partir de uma classe de modelos.\n",
    "- _validação_: etapa em que se selecionam os melhores hiperparâmetros do modelo tendo por base estimativas do erro de generalização. \n",
    "- _generalização (ou teste)_: etapa exclusiva em que se avalia o desempenho final do modelo sobre um conjunto de dados que nunca deve ser usado nas etapas de treinamento ou validação. "
   ]
  },
  {
   "cell_type": "markdown",
   "id": "999d3e5f",
   "metadata": {
    "slideshow": {
     "slide_type": "slide"
    }
   },
   "source": [
    "## Estudo de caso: clusterização de dados aleatórios"
   ]
  },
  {
   "cell_type": "markdown",
   "id": "7bfc60fb-fe35-42dc-bd4b-d153237471f2",
   "metadata": {
    "slideshow": {
     "slide_type": "subslide"
    }
   },
   "source": [
    "### O que é clusterização? \n",
    "\n",
    "Particionamento de dados em subconjuntos disjuntos chamados _clusters_, de forma que os elementos de um cluster sejam altamente similares (alta _similaridade intra-classe_) e os elementos de clusters distintos possuam baixa similaridade com os os demais clusters (baixa _similaridade inter-classe_ )."
   ]
  },
  {
   "cell_type": "markdown",
   "id": "03e2759f",
   "metadata": {
    "slideshow": {
     "slide_type": "subslide"
    }
   },
   "source": [
    "### Similaridade e distância\n",
    "\n",
    "- Estabelecer \"similaridade\" entre instâncias pode ser um pouco difícil. \n",
    "- Em problemas de clusterização, usam-se distâncias. "
   ]
  },
  {
   "cell_type": "markdown",
   "id": "ccaede03-592a-4b0d-aba3-73f1769ef425",
   "metadata": {
    "slideshow": {
     "slide_type": "subslide"
    }
   },
   "source": [
    "### Distância de Minkowski\n",
    "\n",
    "$$d({\\bf x},{\\bf y}) = \\left( \\sum_{i=1}^d | x_i - y_i |^p \\right)^{1/p},$$\n",
    "\n",
    "com ${\\bf x}$ e ${\\bf y}$ vetores do espaço $\\mathbb{R}^n$ e $p \\in \\mathbb{R}$ é um parâmetro. Dependendo do valor de $p$, a fórmula se reduz a outras distâncias conhecidas:\n",
    "\n",
    "- Se $p = 2$, temos a _distância Euclidiana_;\n",
    "- Se $p = 1$, temos a _distância de Manhattan_ (ou _distância do taxista_);\n",
    "- Se $p = \\infty$, temos a _distância de Chebyshev_ (ou _distância do máximo_), definida por $\\max \\{ | x_i - y_i | \\}$, isto é, a componente com o maior módulo."
   ]
  },
  {
   "cell_type": "markdown",
   "id": "d209286b-9eb5-4020-b0cc-c856fee096b1",
   "metadata": {
    "slideshow": {
     "slide_type": "subslide"
    }
   },
   "source": [
    "### O algoritmo _k-means_\n",
    "\n",
    "_k-means_ é um algoritmo classificado como de _partição rígida_ que atribui cada elemento no espaço de _features_ a um único cluster. Os passos do algoritmo são: \n",
    "\n",
    "1. Inicialize o valor _k_ de clusters desejados;\n",
    "2. Inicialize os centroides dos _k clusters_;\n",
    "3. Atribua cada uma das _n_ amostras de dados ao cluster cujo centroide está mais próximo da amostra;\n",
    "4. Redefina os _k_ centroides iterativamente assumindo que estejam corretos;\n",
    "5. Se nenhuma amostra migrar de um cluster para outro na última iteração, pare. Caso contrário, retorne ao passo 3."
   ]
  },
  {
   "cell_type": "code",
   "execution_count": 24,
   "id": "89734e9e-2b42-417a-b45a-d05bf1dd2f5a",
   "metadata": {
    "slideshow": {
     "slide_type": "subslide"
    }
   },
   "outputs": [],
   "source": [
    "import numpy as np\n",
    "import matplotlib.pylab as plt"
   ]
  },
  {
   "cell_type": "code",
   "execution_count": 26,
   "id": "73173e81-9193-4f8d-8c01-eac22ad14a6f",
   "metadata": {
    "slideshow": {
     "slide_type": "fragment"
    }
   },
   "outputs": [
    {
     "data": {
      "text/plain": [
       "(120, 2)"
      ]
     },
     "execution_count": 26,
     "metadata": {},
     "output_type": "execute_result"
    }
   ],
   "source": [
    "# cria dados aleatórios\n",
    "N = 40\n",
    "\n",
    "X1 = 1.25*np.random.randn(N,2)\n",
    "X2 = 5 + 1.5*np.random.randn(N,2)\n",
    "X3 = [8,3] + 1.2*np.random.randn(N,2)\n",
    "\n",
    "X = np.concatenate([X1,X2,X3])\n",
    "\n",
    "X.shape"
   ]
  },
  {
   "cell_type": "markdown",
   "id": "502e5120-996c-4b42-b0aa-7c75bb509a89",
   "metadata": {
    "slideshow": {
     "slide_type": "subslide"
    }
   },
   "source": [
    "Vamos criar rótulos para os 3 grupos e mostrar a clusterização segundo o que nós pré-determinamos e o que, de fato, é passado como entrada para o algoritmo."
   ]
  },
  {
   "cell_type": "code",
   "execution_count": 28,
   "id": "5c08a321-503f-4444-a489-3c008d0b94b2",
   "metadata": {
    "slideshow": {
     "slide_type": "subslide"
    }
   },
   "outputs": [
    {
     "data": {
      "image/png": "[encoded data removed]",
      "text/plain": [
       "<Figure size 720x288 with 2 Axes>"
      ]
     },
     "metadata": {
      "needs_background": "light"
     },
     "output_type": "display_data"
    }
   ],
   "source": [
    "# cria labels\n",
    "c = np.concatenate([np.full(N,1), np.full(N,2), np.full(N,3)])\n",
    "\n",
    "plt.figure(figsize=(10,4))\n",
    "plt.subplot(1,2,1)\n",
    "plt.scatter(X1[:,0],X1[:,1],color='r')\n",
    "plt.scatter(X2[:,0],X2[:,1],color='g')\n",
    "plt.scatter(X3[:,0],X3[:,1],color='b')\n",
    "plt.title('Dados rotulados')\n",
    "\n",
    "plt.subplot(1,2,2)\n",
    "plt.scatter(X[:,0],X[:,1],color='k')\n",
    "plt.title('Dados \"vistos\" pelo algoritmo');"
   ]
  },
  {
   "cell_type": "markdown",
   "id": "01a51b4d-f248-47fc-9511-d2000a636eeb",
   "metadata": {
    "slideshow": {
     "slide_type": "subslide"
    }
   },
   "source": [
    "Usa _k-means_ com inicialização de 3 clusters."
   ]
  },
  {
   "cell_type": "code",
   "execution_count": 30,
   "id": "44146141-5b05-481e-8fb2-c52fd11aa7e0",
   "metadata": {
    "slideshow": {
     "slide_type": "fragment"
    }
   },
   "outputs": [
    {
     "data": {
      "text/plain": [
       "KMeans(init='random', n_clusters=3)"
      ]
     },
     "execution_count": 30,
     "metadata": {},
     "output_type": "execute_result"
    }
   ],
   "source": [
    "from sklearn import cluster\n",
    "\n",
    "# no. de clusters\n",
    "k = 3\n",
    "\n",
    "# ajusta parâmetros de aprendizagem\n",
    "cfit = cluster.KMeans(init='random',n_clusters=k)\n",
    "cfit.fit(X)"
   ]
  },
  {
   "cell_type": "code",
   "execution_count": 32,
   "id": "cff58040-a128-4003-9133-798a09fe4ce8",
   "metadata": {
    "slideshow": {
     "slide_type": "fragment"
    }
   },
   "outputs": [
    {
     "name": "stdout",
     "output_type": "stream",
     "text": [
      "[2 2 2 2 2 2 2 2 2 2 2 2 2 2 2 2 2 2 2 2 2 2 2 2 2 2 2 2 2 2 2 2 2 2 2 2 2\n",
      " 2 2 2 0 0 0 0 1 0 0 1 1 1 1 0 0 1 0 0 1 1 0 0 0 0 1 0 0 0 0 0 0 0 1 1 0 0\n",
      " 0 0 0 0 1 0 1 1 1 1 1 1 1 1 1 1 1 1 1 1 1 1 1 1 1 1 1 0 1 1 1 1 1 1 1 1 1\n",
      " 1 1 1 1 1 1 1 1 1]\n"
     ]
    }
   ],
   "source": [
    "# labels do ajuste\n",
    "print(cfit.labels_)"
   ]
  },
  {
   "cell_type": "code",
   "execution_count": 35,
   "id": "2ec21e6e-65c8-4bf8-9fbf-e75d041300e4",
   "metadata": {
    "slideshow": {
     "slide_type": "subslide"
    }
   },
   "outputs": [
    {
     "data": {
      "image/png": "[encoded data removed]",
      "text/plain": [
       "<Figure size 432x288 with 1 Axes>"
      ]
     },
     "metadata": {
      "needs_background": "light"
     },
     "output_type": "display_data"
    }
   ],
   "source": [
    "# plota comparativo de labels (original x ajuste)\n",
    "cl = cfit.labels_ + 1\n",
    "\n",
    "plt.scatter(X[cl==1,0], X[cl==1,1],color='r')\n",
    "plt.scatter(X1[:,0],X1[:,1],color='gray',edgecolor='k',alpha=0.4)\n",
    "\n",
    "plt.scatter(X[cl==2,0], X[cl==2,1],color='g')\n",
    "plt.scatter(X2[:,0],X2[:,1],color='gray',edgecolor='c',alpha=0.4)\n",
    "\n",
    "plt.scatter(X[cl==3,0], X[cl==3,1],color='b')\n",
    "plt.scatter(X3[:,0],X3[:,1],color='gray',edgecolor='m',alpha=0.4);\n",
    "\n",
    "plt.title('Rótulos originais x rótulos do ajuste');"
   ]
  },
  {
   "cell_type": "markdown",
   "id": "96688e03-64c1-48d3-b1f4-483afaecd9e3",
   "metadata": {
    "slideshow": {
     "slide_type": "subslide"
    }
   },
   "source": [
    "Criando pontos novos no espaço que cobre os dados originais. "
   ]
  },
  {
   "cell_type": "code",
   "execution_count": 53,
   "id": "1d8bb141-05ca-49d3-a82c-79c95faf8d9d",
   "metadata": {
    "slideshow": {
     "slide_type": "fragment"
    }
   },
   "outputs": [],
   "source": [
    "# gera \"grade\" 2D de pontos \n",
    "# em [-5,15] x [-5,15]\n",
    "x = np.linspace(-5,15,200)\n",
    "XX,YY = np.meshgrid(x,x)\n",
    "sz = XX.shape\n",
    "\n",
    "# concatena\n",
    "data = np.c_[XX.flatten(), YY.flatten()]\n",
    "\n",
    "# predição\n",
    "Z = cfit.predict(data)"
   ]
  },
  {
   "cell_type": "markdown",
   "id": "d8b4b598-d7e7-4742-a86d-a75e73ea119d",
   "metadata": {
    "slideshow": {
     "slide_type": "subslide"
    }
   },
   "source": [
    "Verificando partição do espaço determinado pelo algoritmo x dados originais."
   ]
  },
  {
   "cell_type": "code",
   "execution_count": 56,
   "id": "2d71ad21-cc62-4501-b9aa-9c007d6dff24",
   "metadata": {
    "slideshow": {
     "slide_type": "fragment"
    }
   },
   "outputs": [
    {
     "data": {
      "image/png": "[encoded data removed]",
      "text/plain": [
       "<Figure size 432x288 with 1 Axes>"
      ]
     },
     "metadata": {
      "needs_background": "light"
     },
     "output_type": "display_data"
    }
   ],
   "source": [
    "# partições do espaço\n",
    "plt.imshow(Z.reshape(sz), interpolation='bilinear', \n",
    "           origin='lower', extent=(-5,15,-5,15), \n",
    "           alpha=0.3,vmin=0,vmax=k-1)\n",
    "plt.scatter(X[c==1,0], X[c==1,1],color='r')\n",
    "plt.scatter(X[c==2,0], X[c==2,1],color='g')\n",
    "plt.scatter(X[c==3,0], X[c==3,1],color='b')\n",
    "plt.title('Partições do espaço');"
   ]
  },
  {
   "cell_type": "markdown",
   "id": "a6fe754a-c839-49c3-aa53-02896e154ec4",
   "metadata": {
    "slideshow": {
     "slide_type": "subslide"
    }
   },
   "source": [
    "Então, comparamos o resultado da clusterização em comparação com os dados originais."
   ]
  },
  {
   "cell_type": "code",
   "execution_count": 62,
   "id": "a29ced11-ccdf-4768-ba89-e0de45a4839b",
   "metadata": {
    "slideshow": {
     "slide_type": "fragment"
    }
   },
   "outputs": [
    {
     "data": {
      "image/png": "[encoded data removed]",
      "text/plain": [
       "<Figure size 720x288 with 2 Axes>"
      ]
     },
     "metadata": {
      "needs_background": "light"
     },
     "output_type": "display_data"
    }
   ],
   "source": [
    "plt.figure(figsize=(10,4))\n",
    "plt.subplot(1,2,1)\n",
    "# overlay\n",
    "plt.imshow(Z.reshape(sz), interpolation='bilinear', \n",
    "           origin='lower', extent=(-5,15,-5,15), \n",
    "           alpha=0.3,vmin=0,vmax=k-1)\n",
    "# original\n",
    "plt.title('Rótulos originais')\n",
    "plt.scatter(X[c==1,0], X[c==1,1],color='r')\n",
    "plt.scatter(X[c==2,0], X[c==2,1],color='g')\n",
    "plt.scatter(X[c==3,0], X[c==3,1],color='b')\n",
    "plt.subplot(1,2,2)\n",
    "# overlay\n",
    "plt.imshow(Z.reshape(sz), interpolation='bilinear', \n",
    "           origin='lower', extent=(-5,15,-5,15), \n",
    "           alpha=0.3,vmin=0,vmax=k-1)\n",
    "# clusterização\n",
    "plt.title('Rótulos da clusterização')\n",
    "plt.scatter(X[cl==1,0], X[cl==1,1],color='r')\n",
    "plt.scatter(X[cl==2,0], X[cl==2,1],color='g')\n",
    "plt.scatter(X[cl==3,0], X[cl==3,1],color='b');"
   ]
  },
  {
   "cell_type": "markdown",
   "id": "9988728c-9781-4734-a57f-03ff39b7dd6c",
   "metadata": {
    "slideshow": {
     "slide_type": "slide"
    }
   },
   "source": [
    "## Métricas de qualidade para clusterização"
   ]
  },
  {
   "cell_type": "markdown",
   "id": "ff1caa1c",
   "metadata": {
    "slideshow": {
     "slide_type": "subslide"
    }
   },
   "source": [
    "### Coeficiente de Silhueta\n",
    "\n",
    "- Valor atribuído a cada ponto de um cluster para medir a \"silhueta\" de seu cluster\n",
    "\n",
    "$$s(i) = \\frac{b(i) - a(i)}{\\max \\{a(i),b(i)\\}},$$\n",
    "\n",
    "- $a(i)$ é a distância média intra-cluster da amostra $i$, isto é, a distância média da amostra $i$ a todos as suas \"irmãs\", percententes ao seu mesmo _cluster_. Este valor mede a dissimilaridade de $i$ em relação às suas amostras \"irmãs\".\n",
    "\n",
    "- $b(i)$ é a distância média inter-cluster da amostra $i$, considerando o cluster _A_ ao qual ela pertence e o _cluster_ _B_ mais próximo de _A_. Este valor mede a dissimilaridade de $i$ em relação a todas as amostras em _B_."
   ]
  },
  {
   "cell_type": "markdown",
   "id": "506e50d7-b253-4f03-88b7-d34ff5ab5d4a",
   "metadata": {
    "slideshow": {
     "slide_type": "subslide"
    }
   },
   "source": [
    "### Interpretação\n",
    "\n",
    "O valor de $s$ varia no intervalo [-1,1]\n",
    "\n",
    "- Quando $s=-1$, a clusterização é considerada incorreta\n",
    "- Quando $s=1$, a clusterização está muito densa. \n",
    "- Quando $s \\approx 0$, há _clusters_ que sobrepõem."
   ]
  },
  {
   "cell_type": "markdown",
   "id": "e4b23527-00b7-405b-a4f0-b70259ed904c",
   "metadata": {
    "slideshow": {
     "slide_type": "subslide"
    }
   },
   "source": [
    "Vamos calcular $s$ para o nosso exemplo."
   ]
  },
  {
   "cell_type": "code",
   "execution_count": 66,
   "id": "7097ca58-bdad-4011-b0ba-2d28ad7aeb08",
   "metadata": {
    "slideshow": {
     "slide_type": "fragment"
    }
   },
   "outputs": [],
   "source": [
    "from sklearn import metrics\n",
    "ss = metrics.silhouette_samples(X,cl,metric='euclidean')\n",
    "ssm = metrics.silhouette_score(X,cl,metric='euclidean')"
   ]
  },
  {
   "cell_type": "code",
   "execution_count": 69,
   "id": "5f7d294b-d720-49ae-b21f-6a34a7a32324",
   "metadata": {
    "slideshow": {
     "slide_type": "subslide"
    }
   },
   "outputs": [
    {
     "data": {
      "image/png": "[encoded data removed]",
      "text/plain": [
       "<Figure size 432x288 with 1 Axes>"
      ]
     },
     "metadata": {
      "needs_background": "light"
     },
     "output_type": "display_data"
    }
   ],
   "source": [
    "plt.title('Coeficiente de silhueta por amostra')\n",
    "plt.plot(ss,'+');\n",
    "plt.plot(np.arange(len(ss)),np.full(np.shape(ss),ssm),':',label='s médio');\n",
    "plt.legend();"
   ]
  },
  {
   "cell_type": "markdown",
   "id": "4f28b701-4239-46da-8f83-f83bb6227415",
   "metadata": {
    "slideshow": {
     "slide_type": "subslide"
    }
   },
   "source": [
    "### Análise de silhueta\n",
    "\n",
    "Usada para escolher um valor ótimo para o número de clusters a serem determinados."
   ]
  },
  {
   "cell_type": "code",
   "execution_count": 71,
   "id": "46346bf9-3485-4287-a0f5-d31c3f004279",
   "metadata": {
    "slideshow": {
     "slide_type": "subslide"
    }
   },
   "outputs": [
    {
     "data": {
      "image/png": "[encoded data removed]",
      "text/plain": [
       "<Figure size 576x288 with 2 Axes>"
      ]
     },
     "metadata": {
      "needs_background": "light"
     },
     "output_type": "display_data"
    }
   ],
   "source": [
    "import matplotlib.cm as cm\n",
    "\n",
    "fig, (ax1,ax2) = plt.subplots(1,2)\n",
    "fig.set_size_inches(8, 4)\n",
    "\n",
    "ax1.set_xlim([-0.2,1])\n",
    "ax1.set_ylim([0, len(X) + (k + 1) * 10])\n",
    "\n",
    "\n",
    "y_lower = 10\n",
    "for i in range(1,k+1):\n",
    "    ssi = ss[cl == i] # i-th cluster s\n",
    "    ssi.sort()\n",
    "    sizei = ssi.shape[0]\n",
    "    y_upper = y_lower + sizei\n",
    "    \n",
    "    color = cm.nipy_spectral(float(i) / k)\n",
    "    ax1.fill_betweenx(np.arange(y_lower, y_upper),0,\n",
    "                      ssi,facecolor=color, edgecolor=color,\n",
    "                      alpha=0.7)\n",
    "    ax1.text(-0.05, y_lower + 0.5 * sizei, str(i))\n",
    "    y_lower = y_upper + 10\n",
    "    \n",
    "ax1.set_title(f'Plot de silhueta: {k} clusters')\n",
    "ax1.set_xlabel(\"s\")\n",
    "ax1.set_ylabel(\"Rótulos dos clusters\")    \n",
    "    \n",
    "ax1.axvline(x=ssm, color=\"red\", linestyle=\"--\")\n",
    "    \n",
    "colors = cm.nipy_spectral(cl.astype(float)/k)\n",
    "ax2.scatter(X[:, 0],X[:, 1],marker='o', s=30, lw=0, alpha=1.0,\n",
    "            c=colors, edgecolor='k')    \n",
    "centroides = cfit.cluster_centers_\n",
    "ax2.scatter(centroides[:, 0], centroides[:, 1], marker='o',\n",
    "            c=\"white\", alpha=1, s=200, edgecolor='k')\n",
    "\n",
    "for i, c in enumerate(centroides):\n",
    "    \n",
    "    ax2.scatter(c[0], c[1], marker=f'$%d$' % (i+1), alpha=1,\n",
    "                s=50, edgecolor='k')\n",
    "    \n",
    "ax2.set_title(\"Clusters\") \n",
    "ax2.set_xlabel(\"Feature #1\")\n",
    "ax2.set_ylabel(\"Feature #2\")\n",
    "plt.suptitle((\"Análise de silhueta por k-means: %d clusters\" % k),\n",
    "                 fontsize=12, fontweight='bold');"
   ]
  },
  {
   "cell_type": "markdown",
   "id": "89b0f179-5a86-4d3e-8559-ec422368140b",
   "metadata": {
    "slideshow": {
     "slide_type": "subslide"
    }
   },
   "source": [
    "## Conclusão\n",
    "\n",
    "A análise de silhueta mostra que 3 clusters é um número adequado porque em todos eles há amostras com valor de $s$ acima da média. A espessura das silhuetas também ajuda a ter uma ideia do \"tamanho\" dos _clusters_."
   ]
  }
 ],
 "metadata": {
  "celltoolbar": "Slideshow",
  "kernelspec": {
   "display_name": "Python 3",
   "language": "python",
   "name": "python3"
  },
  "language_info": {
   "codemirror_mode": {
    "name": "ipython",
    "version": 3
   },
   "file_extension": ".py",
   "mimetype": "text/x-python",
   "name": "python",
   "nbconvert_exporter": "python",
   "pygments_lexer": "ipython3",
   "version": "3.9.4"
  },
  "rise": {
   "enable_chalkboard": true,
   "footer": "ICD",
   "header": "Prof. Gustavo Oliveira | UFPB",
   "theme": "black"
  }
 },
 "nbformat": 4,
 "nbformat_minor": 5
}
