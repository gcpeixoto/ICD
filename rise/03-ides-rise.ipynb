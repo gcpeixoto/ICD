{
 "cells": [
  {
   "cell_type": "markdown",
   "id": "a5661409-50cd-44b2-b82d-b04da4b33da2",
   "metadata": {
    "slideshow": {
     "slide_type": "slide"
    }
   },
   "source": [
    "# Ambientes de desenvolvimento e computação interativa"
   ]
  },
  {
   "cell_type": "markdown",
   "id": "ac49176b",
   "metadata": {
    "slideshow": {
     "slide_type": "slide"
    }
   },
   "source": [
    "## IDEs para ciência de dados\n",
    "\n",
    "Um IDE (_Integrated Development Environment_) é um software que facilita programadores para o desenvolvimento de softwares. \n",
    "\n",
    "Funcionalidades básicas de um IDE: \n",
    "\n",
    "1. edição de texto\n",
    "2. interpretação/compilação automatizada\n",
    "3. depuração"
   ]
  },
  {
   "cell_type": "markdown",
   "id": "31b4eb82-778d-42d2-8408-225eb7d00cf7",
   "metadata": {
    "slideshow": {
     "slide_type": "subslide"
    }
   },
   "source": [
    "### Alguns IDEs comumente usados\n",
    "\n",
    "- [Sublime](https://www.sublimetext.com)\n",
    "- [Spyder](https://www.spyder-ide.org)\n",
    "- [Atom](https://atom.io/packages/data-atom)\n",
    "- [Visual Studio](https://code.visualstudio.com)\n",
    "- [PyCharm](https://www.jetbrains.com/pycharm/)\n",
    "- [Jupyter Notebooks](https://jupyter.org)\n",
    "- [Jupyter Lab](http://jupyterlab.io)\n",
    "- [Wing](https://wingware.com)"
   ]
  },
  {
   "cell_type": "markdown",
   "id": "bc0b464e",
   "metadata": {
    "slideshow": {
     "slide_type": "subslide"
    }
   },
   "source": [
    "### Exemplo de uso: Spyder 5.0\n",
    "\n",
    "<img src=\"../figs/03/spyder-screenshot.png\" width=\"700px\">"
   ]
  },
  {
   "cell_type": "markdown",
   "id": "ef5181b6",
   "metadata": {
    "slideshow": {
     "slide_type": "subslide"
    }
   },
   "source": [
    "> Não existe \"o melhor IDE\". A escolha depende do gosto pessoal, da necessidade e dos objetivos. Qualquer que seja a sua opção, algum tempo deve ser gasto no entendimento das funcionalidades de cada um e na organização do _workflow_ individual.  \n"
   ]
  },
  {
   "cell_type": "markdown",
   "id": "83a34562-44b4-493d-92de-dbffcf5d5b3e",
   "metadata": {
    "slideshow": {
     "slide_type": "subslide"
    }
   },
   "source": [
    "### Completação de código inteligente\n",
    "\n",
    "- Ferramentas ajudam a aumentar a produtividade\n",
    "- A maioria dos IDEs acima possuem completação de código \n",
    "- Este nicho tem se tornado bem específico\n",
    "- Exemplos de ferramentas para completação de código:\n",
    "    - [Kite](https://www.kite.com)\n",
    "    - [Codota](https://www.codota.com)\n",
    "    - [Jedi](https://jedi.readthedocs.io/en/latest/docs/features.html#type-hinting)\n",
    "    - [Finisher](https://github.com/slobdell/Finisher)"
   ]
  },
  {
   "cell_type": "markdown",
   "id": "dea91a43",
   "metadata": {
    "slideshow": {
     "slide_type": "slide"
    }
   },
   "source": [
    "## Cadernos interativos\n",
    "\n",
    "- A computação interativa torna a interação entre pessoas e máquinas mais dialógica e fácil\n",
    "\n",
    "- Hoje, _cadernos interativos_ são quase indispensáveis para um cientista de dados"
   ]
  },
  {
   "cell_type": "markdown",
   "id": "c78ac872-efdd-4f33-9cab-b44275751478",
   "metadata": {
    "slideshow": {
     "slide_type": "subslide"
    }
   },
   "source": [
    "###  O Projeto [[Jupyter]](http://jupyter.org)\n",
    "\n",
    "- Iniciado em 2014, lançou a proposta dos chamados _notebooks_:\n",
    "\n",
    "- Permite que textos, códigos e elementos gráficos sejam integrados em uma espécie de caderno \"vivo\". \n",
    "\n",
    "- _Jupyter notebooks_ são interfaces baseadas em _web_ onde podemos executar códigos \n",
    "\n",
    "- Diferentes linguagens possíveis desde que alteremos os _kernels_. \n",
    "\n",
    "- Para Python, ele dispõe do tradicional _kernel_ _IPython_."
   ]
  },
  {
   "cell_type": "markdown",
   "id": "3214bd67",
   "metadata": {
    "slideshow": {
     "slide_type": "subslide"
    }
   },
   "source": [
    "### JupyterLab\n",
    "\n",
    "- Interface de nova geração para o _Jupyter_\n",
    "- Capacidade para:\n",
    "    - editar texto\n",
    "    - avaliar código\n",
    "    - pré-visualização de gráficos, figuras, tabelas e muito mais\n",
    "- Depuração ou funcionalidades específicas alcançadas por meio de _extensões_"
   ]
  },
  {
   "cell_type": "markdown",
   "id": "7cc8b3ea-feab-4f2e-ae8f-4e50cc231673",
   "metadata": {
    "slideshow": {
     "slide_type": "subslide"
    }
   },
   "source": [
    "#### Instalação\n",
    "\n",
    "Usando `conda`, o _JupyterLab_ pode ser instalado pelo comando:\n",
    "\n",
    "```bash\n",
    "conda install -c conda-forge jupyterlab\n",
    "```"
   ]
  },
  {
   "cell_type": "markdown",
   "id": "3da36507-e535-4c7c-85ad-06b4f3690190",
   "metadata": {
    "slideshow": {
     "slide_type": "subslide"
    }
   },
   "source": [
    "#### Inicialização \n",
    "\n",
    "Inicialize pelo _Anaconda Navigator_ ou pela linha de comando usando:\n",
    "\n",
    "```\n",
    "jupyter-lab\n",
    "```\n",
    "\n",
    "O ambiente será aberto em seu navegador _web_ padrão em um endereço similar a:\n",
    "\n",
    "```\n",
    "http(s)://<server:port>/<lab-location>/lab\n",
    "\n",
    "```\n",
    "\n",
    "Para lançar o Jupyter Notebook padrão, use menu _Help > Launch Classic Notebook_."
   ]
  },
  {
   "cell_type": "markdown",
   "id": "8d067976-e86a-4bc5-bb33-29fa06e58afa",
   "metadata": {
    "slideshow": {
     "slide_type": "subslide"
    }
   },
   "source": [
    "#### Elementos da interface\n",
    "\n",
    "- Área de trabalho principal\n",
    "- Barra lateral esquerda\n",
    "    - Navegador de arquivos\n",
    "    - Lista de kernels em execução\n",
    "    - Paleta de comandos\n",
    "    - Inspetor\n",
    "    - Lista de abas\n",
    "- Barra de menus"
   ]
  },
  {
   "cell_type": "markdown",
   "id": "61e22b6f-1ab3-4146-b7ec-96c3f77d6fb7",
   "metadata": {
    "slideshow": {
     "slide_type": "subslide"
    }
   },
   "source": [
    "#### Workspace\n",
    "\n",
    "Cada sessão do _JupyterLab_ reside em um _workspace_, cujas variáveis podem ser dinamicamente alteradas. "
   ]
  },
  {
   "cell_type": "markdown",
   "id": "f06ad12e-6704-4d69-a196-176c6ffa6a0b",
   "metadata": {
    "slideshow": {
     "slide_type": "subslide"
    }
   },
   "source": [
    "#### Funções de URL úteis\n",
    "\n",
    "- Reset do workspace: adicione `?reset` na URL. \n",
    "\n",
    "Exemplo:\n",
    "```\n",
    "http://127.0.0.1:8889/lab/tree/ICD/teste.ipynb?reset\n",
    "```\n",
    "\n",
    "- Clonar o workspace atual para outro chamado _copia_: adicione `?clone=copia`\n",
    "```\n",
    "http://127.0.0.1:8889/lab/tree/ICD/teste.ipynb?clone=copia\n",
    "```"
   ]
  },
  {
   "cell_type": "markdown",
   "id": "93e25ab1-2a8a-4baf-9bcf-a72057aa908f",
   "metadata": {
    "slideshow": {
     "slide_type": "subslide"
    }
   },
   "source": [
    "#### Estrutura de um arquivo _.ipynb_\n",
    "\n",
    "O formato oficial de um _Jupyter Notebook_, com extensão _.ipynb_ é construído sobre uma estrutura JSON.\n",
    "\n",
    "\n",
    "[[JSON]](https://www.json.org/json-en.html) - JavaScript Object Notation, é um formato de intercâmbio de dados baseado em um subconjunto da linguagem JavaScript."
   ]
  },
  {
   "cell_type": "markdown",
   "id": "ecd294bc",
   "metadata": {
    "slideshow": {
     "slide_type": "subslide"
    }
   },
   "source": [
    "Em seu maior nível, o arquivo é um dicionário que contém algumas chaves, tais como: \n",
    "\n",
    "- `metadata` (dict)\n",
    "- `nbformat` (int)\n",
    "- `nbformat_minor` (int)\n",
    "- `cells` (list)"
   ]
  },
  {
   "cell_type": "markdown",
   "id": "2954ef44-f950-414e-8d83-ce79629418d2",
   "metadata": {
    "slideshow": {
     "slide_type": "subslide"
    }
   },
   "source": [
    "Abaixo, temos um exemplo da estrutura JSON de um arquivo _.ipynb_.\n",
    "\n",
    "```json\n",
    "{\n",
    " \"metadata\": {\n",
    "  \"kernelspec\": {\n",
    "   \"display_name\": \"Python 3\",\n",
    "   \"language\": \"python\",\n",
    "   \"name\": \"python3\"\n",
    "  },\n",
    "  \"language_info\": {\n",
    "   \"codemirror_mode\": {\n",
    "    \"name\": \"ipython\",\n",
    "    \"version\": 3\n",
    "   },\n",
    "   \"file_extension\": \".py\",\n",
    "   \"mimetype\": \"text/x-python\",\n",
    "   \"name\": \"python\",\n",
    "   \"nbconvert_exporter\": \"python\",\n",
    "   \"pygments_lexer\": \"ipython3\",\n",
    "   \"version\": \"3.8.8\"\n",
    "  }\n",
    " },\n",
    " \"nbformat\": 4,\n",
    " \"nbformat_minor\": 5\n",
    "}\n",
    "```"
   ]
  },
  {
   "cell_type": "markdown",
   "id": "2214545d",
   "metadata": {
    "slideshow": {
     "slide_type": "subslide"
    }
   },
   "source": [
    "Uma célula de texto deste material por exemplo é, no formato JSON, exibida como: \n",
    "\n",
    "```json\n",
    " {\n",
    "   \"cell_type\": \"markdown\",\n",
    "   \"id\": \"93e25ab1-2a8a-4baf-9bcf-a72057aa908f\",\n",
    "   \"metadata\": {},\n",
    "   \"source\": [\n",
    "    \"### Estrutura de um arquivo `.ipynb`\\n\",\n",
    "    \"\\n\",\n",
    "    \"O formato oficial de um _Jupyter Notebook_, com extensão `.ipynb` é construído sobre uma estrutura JSON.\\n\",\n",
    "    \"\\n\",\n",
    "    \"```{note}\\n\",\n",
    "    \"[[JSON]](https://www.json.org/json-en.html) - JavaScript Object Notation, é um formato de intercâmbio de dado baseado em um subconjunto da linguagem JavaScript.\\n\",\n",
    "    \"```\"\n",
    "   ]\n",
    "  }\n",
    "```"
   ]
  },
  {
   "cell_type": "markdown",
   "id": "9cb3d927-faac-4c83-9a26-37beebedc87d",
   "metadata": {
    "slideshow": {
     "slide_type": "subslide"
    }
   },
   "source": [
    "Os principais elementos são:\n",
    "\n",
    "- `cell_type`: tipo de célula.\n",
    "- `id`: identificador (único) de uma célula. É um objeto `str` de comprimento 1-64.\n",
    "- `metadata`: opções que controlam o comportamento da célula.\n",
    "- `source`: conteúdo da célula."
   ]
  },
  {
   "cell_type": "markdown",
   "id": "ada8afc7-8225-4d89-b9bd-dfacbdcd08e0",
   "metadata": {
    "slideshow": {
     "slide_type": "subslide"
    }
   },
   "source": [
    "Entretanto, outros elementos podem estar presentes. Um exemplo de célula de código que retorna um erro é dado a seguir: \n",
    "\n",
    "```json\n",
    " {\n",
    "   \"cell_type\": \"code\",\n",
    "   \"execution_count\": 5,\n",
    "   \"metadata\": {},\n",
    "   \"outputs\": [\n",
    "    {\n",
    "     \"ename\": \"SyntaxError\",\n",
    "     \"evalue\": \"unexpected EOF while parsing (<ipython-input-5-ef2d20508391>, line 1)\",\n",
    "     \"output_type\": \"error\",\n",
    "     \"traceback\": [\n",
    "      \"\\u001b[0;36m  File \\u001b[0;32m\\\"<ipython-input-5-ef2d20508391>\\\"\\u001b[0;36m, line \\u001b[0;32m1\\u001b[0m\\n\\u001b[0;31m    2 - 98*( 7/3\\u001b[0m\\n\\u001b[0m                ^\\u001b[0m\\n\\u001b[0;31mSyntaxError\\u001b[0m\\u001b[0;31m:\\u001b[0m unexpected EOF while parsing\\n\"\n",
    "     ]\n",
    "    }\n",
    "   ],\n",
    "   \"source\": [\n",
    "    \"2 - 98*( 7/3\"\n",
    "   ]\n",
    "  },\n",
    "```"
   ]
  },
  {
   "cell_type": "markdown",
   "id": "d238f08b-8813-4d36-8a7a-63d354134e84",
   "metadata": {
    "slideshow": {
     "slide_type": "subslide"
    }
   },
   "source": [
    "#### Formatos de saída de células \n",
    "\n",
    "Diferentes tipos de arquivo podem ter uma saída renderizada de modo enriquecido. \n",
    "\n",
    "Por exemplo:"
   ]
  },
  {
   "cell_type": "markdown",
   "id": "813ba486-dfc0-4ebc-be5e-0eed5de3afb6",
   "metadata": {
    "slideshow": {
     "slide_type": "subslide"
    }
   },
   "source": [
    "- Visualizando código HTML"
   ]
  },
  {
   "cell_type": "code",
   "execution_count": 17,
   "id": "a6a1b5cd-9561-43dd-84ae-87e249e9d0ff",
   "metadata": {
    "slideshow": {
     "slide_type": "fragment"
    }
   },
   "outputs": [
    {
     "data": {
      "text/html": [
       "<h>Isto é um título</h2> <hr> é <sup>H</sup>ML</h1>"
      ],
      "text/plain": [
       "<IPython.core.display.HTML object>"
      ]
     },
     "metadata": {},
     "output_type": "display_data"
    }
   ],
   "source": [
    "import IPython.display as dpl\n",
    "\n",
    "dpl.display(dpl.HTML('<h>Isto é um título</h2> <hr> é <sup>H</sup>ML</h1>'))"
   ]
  },
  {
   "cell_type": "markdown",
   "id": "28e3bcc5-e4b5-4fa1-95dc-6bdf37c1bd34",
   "metadata": {
    "slideshow": {
     "slide_type": "subslide"
    }
   },
   "source": [
    "- Visualizando código JSON"
   ]
  },
  {
   "cell_type": "code",
   "execution_count": 18,
   "id": "64911641-039e-4c21-84de-714ab7ac28b4",
   "metadata": {
    "slideshow": {
     "slide_type": "subslide"
    }
   },
   "outputs": [
    {
     "data": {
      "application/json": {
       "a": "b",
       "meta": [
        1,
        2
       ]
      },
      "text/plain": [
       "<IPython.core.display.JSON object>"
      ]
     },
     "metadata": {
      "application/json": {
       "expanded": false,
       "root": "root"
      }
     },
     "output_type": "display_data"
    }
   ],
   "source": [
    "dpl.display(dpl.JSON({\"a\":'b',\"meta\":[1,2]}))"
   ]
  },
  {
   "cell_type": "markdown",
   "id": "acacca37-5f5e-4ebf-a25c-71d2c464ff09",
   "metadata": {
    "slideshow": {
     "slide_type": "subslide"
    }
   },
   "source": [
    "- Visualizando vídeo do YouTube"
   ]
  },
  {
   "cell_type": "code",
   "execution_count": 21,
   "id": "0155c7f2-abfa-40bb-bdbf-c2868feb502e",
   "metadata": {
    "slideshow": {
     "slide_type": "fragment"
    }
   },
   "outputs": [
    {
     "data": {
      "image/jpeg": "[encoded data removed]",
      "text/html": [
       "\n",
       "        <iframe\n",
       "            width=\"500\"\n",
       "            height=\"400\"\n",
       "            src=\"https://www.youtube.com/embed/fn3KWM1kuAw\"\n",
       "            frameborder=\"0\"\n",
       "            allowfullscreen\n",
       "        ></iframe>\n",
       "        "
      ],
      "text/plain": [
       "<IPython.lib.display.YouTubeVideo at 0x1046b1310>"
      ]
     },
     "metadata": {},
     "output_type": "display_data"
    }
   ],
   "source": [
    "dpl.display(dpl.YouTubeVideo(\"fn3KWM1kuAw\",width=500,height=400))   "
   ]
  },
  {
   "cell_type": "markdown",
   "id": "f3788d3c-9fb6-4303-a24f-a696073040b2",
   "metadata": {
    "slideshow": {
     "slide_type": "subslide"
    }
   },
   "source": [
    "- Visualizando áudio "
   ]
  },
  {
   "cell_type": "code",
   "execution_count": 25,
   "id": "1983247e-982e-492f-9591-4940a009edbd",
   "metadata": {
    "slideshow": {
     "slide_type": "fragment"
    }
   },
   "outputs": [],
   "source": [
    "# teste descomentando\n",
    "#dpl.Audio(url=\"https://www.bands.army.mil/music/play.asp?TheArmySong2013_BandAndChorus.mp3\",autoplay=False)"
   ]
  },
  {
   "cell_type": "markdown",
   "id": "951266aa-ebe8-47d5-aeb8-5f03afbc22da",
   "metadata": {
    "slideshow": {
     "slide_type": "subslide"
    }
   },
   "source": [
    "- Visualizando imagem"
   ]
  },
  {
   "cell_type": "code",
   "execution_count": 26,
   "id": "ea2d5238-ac51-4686-bba7-a1861d7ad8c0",
   "metadata": {
    "slideshow": {
     "slide_type": "fragment"
    }
   },
   "outputs": [
    {
     "data": {
      "image/png": "[encoded data removed]",
      "text/plain": [
       "<IPython.core.display.Image object>"
      ]
     },
     "execution_count": 26,
     "metadata": {},
     "output_type": "execute_result"
    }
   ],
   "source": [
    "dpl.Image('http://www.google.fr/images/srpr/logo3w.png') "
   ]
  },
  {
   "cell_type": "markdown",
   "id": "7bae611f",
   "metadata": {
    "slideshow": {
     "slide_type": "subslide"
    }
   },
   "source": [
    "#### Depuração\n",
    "\n",
    "- _JupyterLab_ > 3.0 vem munido de depurador, mas é necessário _kernel_ que o suporte. \n",
    "\n",
    "- Alguns conhecidos são: \n",
    "    - [xeus-python](https://github.com/jupyter-xeus/xeus-python)\n",
    "    - [xeus-robot](https://github.com/jupyter-xeus/xeus-robot)"
   ]
  },
  {
   "cell_type": "markdown",
   "id": "85a75601-3b4b-4c23-ac77-fec524c5b620",
   "metadata": {
    "slideshow": {
     "slide_type": "subslide"
    }
   },
   "source": [
    "- Melhor maneira de ter suporte à depuração:\n",
    "    - Criar um ambiente novo, chamado, digamos `jb`, contendo JupyterLab 3.0 e um desses _kernels_\n",
    "\n",
    "- Exemplo:\n",
    "```bash\n",
    "conda create -n jd -c conda-forge jupyterlab=3 xeus-python\n",
    "conda activate jd\n",
    "```\n",
    "- O _kernel_ pode ser habilitado via navegador ou seletor de núcleo. "
   ]
  },
  {
   "cell_type": "markdown",
   "id": "0b07e838",
   "metadata": {
    "slideshow": {
     "slide_type": "subslide"
    }
   },
   "source": [
    "- Experimente um ambiente com depuração [aqui](https://mybinder.org/v2/gh/blink1073/jupyter-ide-demo/stable?urlpath=/lab/tree/index.ipynb)"
   ]
  },
  {
   "cell_type": "markdown",
   "id": "0bc90824-10e5-46bf-b617-91cbe7ffda02",
   "metadata": {
    "slideshow": {
     "slide_type": "subslide"
    }
   },
   "source": [
    "#### Extensões\n",
    "\n",
    "- O _JupyterLab_ é um ambiente extensível \n",
    "- Pode ser customizado ou melhorado\n",
    "- Extensões incluem:\n",
    "    - temas\n",
    "    - visualizadores\n",
    "    - editores\n",
    "    - renderizadores. \n",
    "    \n",
    "- Adicionam itens ao menu, à paleta de comandos ou configurações"
   ]
  },
  {
   "cell_type": "markdown",
   "id": "1d5cc241-4c02-4158-b518-621e8d08f0ff",
   "metadata": {
    "slideshow": {
     "slide_type": "subslide"
    }
   },
   "source": [
    "#### Instalação de extensões\n",
    "\n",
    "- Podem ser de dois tipos: originais e pré-construídas. \n",
    "- Extensões pré-construídas são mais fáceis de gerenciar\n",
    "    - Instaláveis usando o gerenciador de extensões: `jupyter-labextension install`\n",
    "\n",
    "> Verifique requisito de instalação: `node-js` > 12.0.0\n",
    "\n",
    "```\n",
    "conda install nodejs -c conda-forge --repodata-fn=repodata.json\n",
    "```\n",
    "\n",
    "Adicionalmente, elas podem ser instaladas usando o painel lateral esquerdo. "
   ]
  },
  {
   "cell_type": "markdown",
   "id": "1ce90d0c-0610-4c99-bf0f-6febe79ab4f7",
   "metadata": {
    "slideshow": {
     "slide_type": "subslide"
    }
   },
   "source": [
    "### Extensões recomendadas para cientistas de dados\n",
    "\n",
    "- JupyterLab drawio: `jupyterlab-drawio`\n",
    "- JupyterLab plotly: `@jupyterlab/plotly-extension`\n",
    "- JupyterLab Github: `@jupyterlab/github`\n",
    "- JupyterLab bokeh: `jupyterlab_bokeh`\n",
    "- JupyterLab chart editor: `jupyterlab-chart-editor`\n",
    "\n",
    "Para instalar use: `jupyter-labextension install EXT`, substituindo _EXT_ por um dos nomes acima."
   ]
  },
  {
   "cell_type": "markdown",
   "id": "de7f4e8d-0141-4168-b3ab-a72d90c62af9",
   "metadata": {
    "slideshow": {
     "slide_type": "subslide"
    }
   },
   "source": [
    "### Exercício recomendado\n",
    "\n",
    "- Configure seu ambiente de trabalho com IDE ou Jupyter Notebook, com seus temas e extensões de preferência."
   ]
  }
 ],
 "metadata": {
  "celltoolbar": "Slideshow",
  "kernelspec": {
   "display_name": "Python 3",
   "language": "python",
   "name": "python3"
  },
  "language_info": {
   "codemirror_mode": {
    "name": "ipython",
    "version": 3
   },
   "file_extension": ".py",
   "mimetype": "text/x-python",
   "name": "python",
   "nbconvert_exporter": "python",
   "pygments_lexer": "ipython3",
   "version": "3.9.4"
  },
  "rise": {
   "enable_chalkboard": true,
   "footer": "ICD",
   "header": "Prof. Gustavo Oliveira | UFPB",
   "theme": "black"
  }
 },
 "nbformat": 4,
 "nbformat_minor": 5
}
