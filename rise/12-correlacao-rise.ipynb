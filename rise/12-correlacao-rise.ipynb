{
 "cells": [
  {
   "cell_type": "markdown",
   "id": "1610e77d-98dc-4559-ae67-f5a136c70335",
   "metadata": {
    "slideshow": {
     "slide_type": "slide"
    }
   },
   "source": [
    "# Correlação\n",
    "\n",
    "Correlação é qualquer associação estatística entre um par de variáveis. Quanto mais correlacionadas estão duas variáveis, mais \"alinhamento\" há entre elas. Isto é, uma análise de correlação fornece um número que resume o grau de relacionamento linear entre duas variáveis. Introduziremos este assunto com alguns conceitos fundamentais."
   ]
  },
  {
   "cell_type": "markdown",
   "id": "b3672a2e",
   "metadata": {
    "slideshow": {
     "slide_type": "slide"
    }
   },
   "source": [
    "## Associação entre variáveis e causalidade\n",
    "\n",
    "A associação entre duas variáveis pode ocorrer de duas formas: \n",
    "\n",
    "- _correlacional_: neste caso, não há interferência alguma sobre as variáveis observadas. As variáveis são _aleatórias_ e seus comportamentos ocorrem conforme a \"natureza\" determina. Por exemplo, o exercício físico e a queima calórica possuem correlação positiva, pois quanto mais intensamente nos exercitamos, mais queimamos caloria. "
   ]
  },
  {
   "cell_type": "markdown",
   "id": "b87e0ef5",
   "metadata": {
    "slideshow": {
     "slide_type": "slide"
    }
   },
   "source": [
    "- _experimental_: neste caso, uma das variáveis é controlada e esta interfere sobre a outra. Isto é, uma variável A é a _causa_ (variável independente) e a outra, B, o _efeito_ (variável independente). Uma sentença lógica do tipo \"se A, então B\" estabelece a idéia de _causalidade_. Por exemplo: quando cientistas estudam a administração de fármacos em um organismo, eles analisam os efeitos dessa droga naquele organismo. Logo, a droga é a causa; a resposta orgânica, o efeito. "
   ]
  },
  {
   "cell_type": "markdown",
   "id": "8e07b24a-719c-4623-ab56-5cb78dd02f55",
   "metadata": {
    "slideshow": {
     "slide_type": "slide"
    }
   },
   "source": [
    "### Correlação e dependência linear\n",
    "\n",
    "Podemos interpretar a _correlação_ também pelo ponto de vista de \"dependência linear\". Duas variáveis perfeitamente correlacionadas são similares a dois vetores paralelos, ou seja, linearmente dependentes. Por outro lado, duas variáveis totalmente não correlacionadas são similares a dois vetores perpendiculares, ou seja, linearmente independentes."
   ]
  },
  {
   "cell_type": "markdown",
   "id": "f9cf1a98",
   "metadata": {
    "slideshow": {
     "slide_type": "subslide"
    }
   },
   "source": [
    "## Escore padronizado\n",
    "\n",
    "- Quando as variáveis que queremos comparar não estão expressas na mesma unidade (Ex. correlacionar alturas em cm e pesos em kg).\n",
    "\n",
    "As duas soluções comuns para lidar com esses problemas são:\n",
    "\n",
    "1. Transformar todos os valores para um _escore padronizado_. \n",
    "2. Transformar todos os valores para ranques baseados em percentis."
   ]
  },
  {
   "cell_type": "markdown",
   "id": "aa8fddde-6985-4b69-9c4f-df1b686072fc",
   "metadata": {
    "slideshow": {
     "slide_type": "subslide"
    }
   },
   "source": [
    "Para converter uma série $X$ de valores $x_i$ em uma escala padronizada de escores, subtraímos a média dos dados e dividimos esta diferença pelo desvio padrão. Isto é: \n",
    "\n",
    "$$z_i = \\dfrac{x_i - \\mu}{\\sigma},$$\n",
    "\n",
    "onde $\\mu$ é a média e $\\sigma$ o desvio padrão. \n",
    "\n",
    "Ao dividir os desvios (numerador) pelo desvio padrão, na verdade, estamos _normalizando_ o desvio, de modo que os valores $z_i$ da nova série $Z$ são adimensionais (não possuem unidades), possuam média 0 e variância 1. A série $Z$ herda a \"forma\" de $X$."
   ]
  },
  {
   "cell_type": "code",
   "execution_count": 1,
   "id": "50cd3b2a-b0e2-441a-8c77-04a81c348990",
   "metadata": {
    "slideshow": {
     "slide_type": "subslide"
    }
   },
   "outputs": [
    {
     "ename": "ModuleNotFoundError",
     "evalue": "No module named 'scipy'",
     "output_type": "error",
     "traceback": [
      "\u001b[0;31m---------------------------------------------------------------------------\u001b[0m",
      "\u001b[0;31mModuleNotFoundError\u001b[0m                       Traceback (most recent call last)",
      "\u001b[0;32m<ipython-input-1-e735aafa49a3>\u001b[0m in \u001b[0;36m<module>\u001b[0;34m\u001b[0m\n\u001b[1;32m      2\u001b[0m \u001b[0;32mimport\u001b[0m \u001b[0mnumpy\u001b[0m \u001b[0;32mas\u001b[0m \u001b[0mnp\u001b[0m\u001b[0;34m\u001b[0m\u001b[0;34m\u001b[0m\u001b[0m\n\u001b[1;32m      3\u001b[0m \u001b[0;32mimport\u001b[0m \u001b[0mmatplotlib\u001b[0m\u001b[0;34m.\u001b[0m\u001b[0mpyplot\u001b[0m \u001b[0;32mas\u001b[0m \u001b[0mplt\u001b[0m\u001b[0;34m\u001b[0m\u001b[0;34m\u001b[0m\u001b[0m\n\u001b[0;32m----> 4\u001b[0;31m \u001b[0;32mimport\u001b[0m \u001b[0mscipy\u001b[0m\u001b[0;34m.\u001b[0m\u001b[0mstats\u001b[0m \u001b[0;32mas\u001b[0m \u001b[0msts\u001b[0m\u001b[0;34m\u001b[0m\u001b[0;34m\u001b[0m\u001b[0m\n\u001b[0m",
      "\u001b[0;31mModuleNotFoundError\u001b[0m: No module named 'scipy'"
     ]
    }
   ],
   "source": [
    "import pandas as pd\n",
    "import numpy as np\n",
    "import matplotlib.pyplot as plt\n",
    "import scipy.stats as sts"
   ]
  },
  {
   "cell_type": "markdown",
   "id": "1275e084-2b07-408f-9e21-683d995e1b82",
   "metadata": {
    "slideshow": {
     "slide_type": "subslide"
    }
   },
   "source": [
    "Vejamos exemplos:"
   ]
  },
  {
   "cell_type": "code",
   "execution_count": null,
   "id": "7879a72e-4b67-4c0d-b68f-8d90da439056",
   "metadata": {
    "slideshow": {
     "slide_type": "fragment"
    }
   },
   "outputs": [],
   "source": [
    "# dataframe\n",
    "dfp = pd.DataFrame({'Idade': np.array([20,19,21,22,20]),\n",
    "       'Peso': np.array([55,80,62,67,73]),\n",
    "       'Altura': np.array([162,178,162,165,171]),\n",
    "       'IMC':np.array([20.96, 25.25, 23.62, 24.61, 24.96])},\n",
    "        index=['Ana','João','Maria','Pedro','Túlio'])\n",
    "dfp"
   ]
  },
  {
   "cell_type": "markdown",
   "id": "442dd2fc-4f83-472f-9a98-27818884fe40",
   "metadata": {
    "slideshow": {
     "slide_type": "subslide"
    }
   },
   "source": [
    "Vamos calcular o _z-score_ para todas as _Series_ do _DataFrame_."
   ]
  },
  {
   "cell_type": "code",
   "execution_count": null,
   "id": "f98d3044-6216-4fce-8219-adebb375a8a3",
   "metadata": {
    "slideshow": {
     "slide_type": "fragment"
    }
   },
   "outputs": [],
   "source": [
    "def zScore(df,colname):\n",
    "    s = df[colname]\n",
    "    return (s - s.mean())/s.std(ddof=0) # ddof = 0 para dividir por N"
   ]
  },
  {
   "cell_type": "code",
   "execution_count": null,
   "id": "5c21a4f5-444b-40bc-bd64-730fe49da805",
   "metadata": {
    "slideshow": {
     "slide_type": "fragment"
    }
   },
   "outputs": [],
   "source": [
    "# cria novo dataframe de z-scores\n",
    "\n",
    "Z = {}\n",
    "\n",
    "for c in dfp.columns:    \n",
    "    Z[c + ':Z-score'] = zScore(dfp,c)\n",
    "\n",
    "dfpz = pd.DataFrame(Z)\n",
    "dfpz"
   ]
  },
  {
   "cell_type": "markdown",
   "id": "848b6894-c92a-44f7-942a-d366648eca8b",
   "metadata": {
    "slideshow": {
     "slide_type": "subslide"
    }
   },
   "source": [
    "Comentários: \n",
    "\n",
    "- Os _z-score_ ajudam a entender se uma observação específica é comum ou excepcional: \n",
    "    - _z-score_ < 0 representam valores abaixo da média;\n",
    "    - _z-score_ > 0 representam valores acima da média;\n",
    "    - _z-score_ da média é 0, uma vez que ela é ponto médio;\n",
    "    - A soma dos _z-score_ = 0;\n",
    "    - _z-scores_ com valores positivos extremamente altos indicam uma distribuição com _assimetria à direita_ (mais sobre isso adiante);\n",
    "    - _z-scores_ com valores negativos extremamente altos indicam uma distribuição com _assimetria à esquerda_ (mais sobre isso adiante);\n",
    "    - se |_z-score_| > 2, a distribuição é incomum ou excepcional."
   ]
  },
  {
   "cell_type": "code",
   "execution_count": null,
   "id": "589d312d-1226-464a-a272-aaebc2a3f904",
   "metadata": {
    "slideshow": {
     "slide_type": "subslide"
    }
   },
   "outputs": [],
   "source": [
    "# Z-Score das séries têm soma nula\n",
    "dfpz.sum(axis=0)"
   ]
  },
  {
   "cell_type": "markdown",
   "id": "036f9f11-43c0-4316-9c71-50f5a1978856",
   "metadata": {
    "slideshow": {
     "slide_type": "subslide"
    }
   },
   "source": [
    "Calculando o z-score por função predefinida."
   ]
  },
  {
   "cell_type": "code",
   "execution_count": null,
   "id": "fe36def3-5dab-4cbf-bb18-496a041566cf",
   "metadata": {
    "slideshow": {
     "slide_type": "fragment"
    }
   },
   "outputs": [],
   "source": [
    "Z2 = {}\n",
    "\n",
    "for c in dfp.columns:    \n",
    "    Z2[c + ':Z-score'] = sts.zscore(dfp[c])\n",
    "\n",
    "dfpz2 = pd.DataFrame(Z2,index=dfp.index)\n",
    "dfpz2"
   ]
  },
  {
   "cell_type": "code",
   "execution_count": null,
   "id": "c1b783b0-ec1e-4408-8e5e-b36f4b05aa96",
   "metadata": {
    "slideshow": {
     "slide_type": "subslide"
    }
   },
   "outputs": [],
   "source": [
    "# ambos os métodos dão resultados idênticos\n",
    "(dfpz == dfpz2).all()"
   ]
  },
  {
   "cell_type": "markdown",
   "id": "b95ac749-f99d-4f6a-bae1-4dedaa240fcd",
   "metadata": {
    "slideshow": {
     "slide_type": "subslide"
    }
   },
   "source": [
    "### Plot de _z-scores_\n",
    "\n",
    "A plotagem dos _z-scores_ pode ser feita diretamente com `plot` a partir da _Series_ $Z$ de interesse."
   ]
  },
  {
   "cell_type": "code",
   "execution_count": null,
   "id": "8bf80ecd-b7f2-4c61-b880-6be9a2ddd2bd",
   "metadata": {
    "slideshow": {
     "slide_type": "fragment"
    }
   },
   "outputs": [],
   "source": [
    "dfpz['Peso:Z-score'].plot(marker='o',ls='');"
   ]
  },
  {
   "cell_type": "code",
   "execution_count": null,
   "id": "7141f2f9-e4b0-4ca3-be90-3b5757963dab",
   "metadata": {
    "slideshow": {
     "slide_type": "subslide"
    }
   },
   "outputs": [],
   "source": [
    "dfpz['IMC:Z-score'].plot(marker='o',ls='',color='g');"
   ]
  },
  {
   "cell_type": "markdown",
   "id": "150bafef-787e-4b60-9439-8dc8d4837915",
   "metadata": {
    "slideshow": {
     "slide_type": "fragment"
    }
   },
   "source": [
    "Comentários: \n",
    "\n",
    "- A partir desses plots, vemos claramente qual discente está \"acima da\", \"abaixo da\" ou \"na\" média perante a variável escolhida."
   ]
  },
  {
   "cell_type": "markdown",
   "id": "b7ab8da1-7b78-4a1f-9ed4-0a9a9d7ad030",
   "metadata": {
    "slideshow": {
     "slide_type": "slide"
    }
   },
   "source": [
    "## Covariância\n",
    "\n",
    "Quando queremos compreender como duas variáveis variam juntas, aplicamos o conceito de _covariância_. Se $X$ e $Y$ são duas _Series_, a covariância entre ambas é dada por \n",
    "\n",
    "$$\\textrm{cov}(X,Y) = \\frac{1}{n}\\sum_{i=1}^n(x_i - \\mu_X)(y_i - \\mu_Y),$$\n",
    "\n",
    "onde $n$ é o número de elementos na série (igual em ambas) e $\\mu_X$ ($\\mu_Y$) é a média de $X$($Y$). \n",
    "\n",
    "Notemos que a covariância é uma \"média\" do produto dos desvios."
   ]
  },
  {
   "cell_type": "markdown",
   "id": "48c67bdb-ccb6-4d43-b880-e55b982503de",
   "metadata": {
    "slideshow": {
     "slide_type": "subslide"
    }
   },
   "source": [
    "**Exemplo:** vamos criar uma função para o cálculo da variância."
   ]
  },
  {
   "cell_type": "code",
   "execution_count": null,
   "id": "4386e91d-44e7-47f3-ad2b-7be5aae9a13d",
   "metadata": {
    "slideshow": {
     "slide_type": "fragment"
    }
   },
   "outputs": [],
   "source": [
    "# covariância\n",
    "def cov(df,colname1,colname2):\n",
    "    s1,s2 = df[colname1],df[colname2]\n",
    "    return np.dot( s1 - s1.mean(), s2 - s2.mean() )/(len(s1)-1)"
   ]
  },
  {
   "cell_type": "markdown",
   "id": "f3513846-2217-4664-a7fd-985929f68b99",
   "metadata": {
    "slideshow": {
     "slide_type": "subslide"
    }
   },
   "source": [
    "Testemos a covariância entre as variáveis de nosso _DataFrame_ de estudo."
   ]
  },
  {
   "cell_type": "code",
   "execution_count": null,
   "id": "f02c2fd3-1da0-4238-8f5f-b55873296ccf",
   "metadata": {
    "slideshow": {
     "slide_type": "fragment"
    }
   },
   "outputs": [],
   "source": [
    "cov(dfp,'Altura','Peso'), cov(dfp,'Idade','Peso'), cov(dfp,'Idade','Altura')"
   ]
  },
  {
   "cell_type": "markdown",
   "id": "0a7d0163-c41e-4360-8044-8df8206161f4",
   "metadata": {
    "slideshow": {
     "slide_type": "subslide"
    }
   },
   "source": [
    "Comentários:\n",
    "- Esses cálculos mostram que variações de _altura_ e _peso_ interferem consideravelmente uma na outra \"na mesma direção\".\n",
    "- Porém, não notamos o mesmo comportamento para _idade_ e _peso_ ou para _idade_ e _altura_."
   ]
  },
  {
   "cell_type": "markdown",
   "id": "de4bb374-454d-4c2a-92c8-953e0be4625c",
   "metadata": {
    "slideshow": {
     "slide_type": "subslide"
    }
   },
   "source": [
    "Podemos checar o cálculo de nossa função com a função `var` do _pandas_, sabendo que $\\text{cov}(X,X) = \\text{var}(X) = S^2(X), \\, \\forall X$."
   ]
  },
  {
   "cell_type": "code",
   "execution_count": null,
   "id": "12faa032-d226-4b3a-93b4-78e5650c2367",
   "metadata": {
    "slideshow": {
     "slide_type": "fragment"
    }
   },
   "outputs": [],
   "source": [
    "cov(dfp,'Altura','Altura'), dfp['Altura'].var()"
   ]
  },
  {
   "cell_type": "markdown",
   "id": "b07038db-264f-4ee7-b0d9-6859ad8cb9fa",
   "metadata": {
    "slideshow": {
     "slide_type": "subslide"
    }
   },
   "source": [
    "Outra forma de calcular a covariância é usar o método `cov` de uma `pandas.Series`."
   ]
  },
  {
   "cell_type": "code",
   "execution_count": null,
   "id": "80e52a90-09ca-448a-a3ef-ce9541658393",
   "metadata": {
    "slideshow": {
     "slide_type": "fragment"
    }
   },
   "outputs": [],
   "source": [
    "dfp['Altura'].cov(dfp['Peso'])"
   ]
  },
  {
   "cell_type": "markdown",
   "id": "dd394a21-eb60-46d0-b97b-61e412882a7c",
   "metadata": {
    "slideshow": {
     "slide_type": "subslide"
    }
   },
   "source": [
    "### Matriz de covariâncias\n",
    "\n",
    "Podemos usar a função `numpy.cov()` para computar a covariância entre duas _Series_ $X$ e $Y$. Para tanto, devemos passar a matriz $[X \\ \\ Y]$ como parâmetro para a função. \n",
    "\n",
    "A resposta é uma _matriz de covariâncias_ 2x2 cujas entradas são: \n",
    "\n",
    "$$\\begin{bmatrix}\n",
    "\\text{cov}(X,X) & \\text{cov}(X,Y) \\\\\n",
    "\\text{cov}(Y,X) & \\text{cov}(Y,Y)\n",
    "\\end{bmatrix}$$"
   ]
  },
  {
   "cell_type": "code",
   "execution_count": null,
   "id": "1a52ba29-af77-43b2-abbe-4c14af1c3570",
   "metadata": {
    "slideshow": {
     "slide_type": "fragment"
    }
   },
   "outputs": [],
   "source": [
    "X, Y = dfp['Altura'], dfp['Peso']\n",
    "np.cov(np.array([X,Y]))"
   ]
  },
  {
   "cell_type": "markdown",
   "id": "a227e249",
   "metadata": {
    "slideshow": {
     "slide_type": "slide"
    }
   },
   "source": [
    "## Correlação\n",
    "\n",
    "Uma das dificuldades conhecidas da covariância é a sua interpretação. Uma vez que ela é dada pelo produto das unidades de suas entradas, muito frequentemente será inviável atribuir significado ao número. Por exemplo, se a unidade de $X$ for quilogramas e $Y$ for anos, a unidade da covariância seria quilogramas vezes anos. Um meio de solucionar este problema é dividir o produto da covariância pelo desvio padrão de cada série de dados, assim formando o conceito de _correlação_, dado por: \n",
    "\n",
    "$$\\rho(X,Y) = \\frac{1}{n}\\sum_{i=1}^n\\frac{(x_i - \\mu_X)}{\\sigma_X}\\frac{(y_i - \\mu_Y)}{\\sigma_Y}.$$\n",
    "\n",
    "Em outras palavras, a correlação é a soma do produto de escores padronizados. "
   ]
  },
  {
   "cell_type": "markdown",
   "id": "d638ee43-ac7c-44f0-897e-ed7ce4afd81a",
   "metadata": {
    "slideshow": {
     "slide_type": "subslide"
    }
   },
   "source": [
    "### Coeficiente de correlação de Pearson\n",
    "\n",
    "Se os desvios forem retirados da somatória, a expressão torna-se: \n",
    "\n",
    "$$\\rho(X,Y) = \\frac{1}{\\sigma_X \\sigma_Y}\\frac{1}{n}\\sum_{i=1}^n(x_i - \\mu_X)(y_i - \\mu_Y) = \\frac{\\textrm{cov}(X,Y)}{{\\sigma_X \\sigma_Y}}.$$\n",
    "\n",
    "O número $\\rho$ é chamado de _coeficiente de correlação de Pearson_, ou simplesmente _correlação de Pearson_, e vale que $-1 \\leq \\rho \\leq 1$. A magnitude de $\\rho$ determina a _força de correlação_ entre as variáveis. Em geral, a seguinte interpretação é utilizada: \n",
    "\n",
    "- $\\rho = 1$: as variáveis são perfeitamente correlacionadas.\n",
    "- $\\rho = 0$: as variáveis são correlacionadas de alguma forma, mas **não** linearmente. Neste sentido, $\\rho$ subestimará a força da dependência linear.\n",
    "- $\\rho = -1$: idem, porém negativamente."
   ]
  },
  {
   "cell_type": "markdown",
   "id": "43f2ee9e-ec2a-4721-8da2-8785fd6cba38",
   "metadata": {
    "slideshow": {
     "slide_type": "subslide"
    }
   },
   "source": [
    "**Exemplo:** A tabela a seguir contém dados coletados na administração de um zoológico para alguns dias do mês de abril de 2021. Nesta ordem, a tabela mostra o número de visitantes no zoológico, o número de tickets de estacionamento adquiridos e a temperatura média contabilizados por dia.\n",
    "\n",
    "|   Visitantes |   Tickets         |   Temperatura     |\n",
    "|-------------:|------------------:|------------------:|\n",
    "|         1580 |                 8 |                35 |\n",
    "|         1230 |                 6 |                38 |\n",
    "|         1950 |                 9 |                32 |\n",
    "|          890 |                 4 |                26 |\n",
    "|         1140 |                 6 |                31 |\n",
    "|         1760 |                 9 |                36 |\n",
    "|         1650 |                10 |                38 |\n",
    "|         1470 |                 3 |                30 |\n",
    "|          390 |                 1 |                21 |\n",
    "|         1460 |                 9 |                34 |\n",
    "|         1000 |                 7 |                36 |\n",
    "|         1030 |                 6 |                32 |\n",
    "|          740 |                 2 |                25 |\n",
    "|         1340 |                 6 |                37 |\n",
    "|         1150 |                 7 |                34 |\n",
    "\n",
    "O arquivo com os dados está disponível [aqui]('../database/visitantes-zoo.csv'). Vamos buscar correlações nos dados."
   ]
  },
  {
   "cell_type": "markdown",
   "id": "7d9716b3-346f-43de-bb0a-d70349a4f414",
   "metadata": {
    "slideshow": {
     "slide_type": "subslide"
    }
   },
   "source": [
    "Carregando o arquivo:"
   ]
  },
  {
   "cell_type": "code",
   "execution_count": null,
   "id": "8292d83c-7624-43e5-a9f7-bbb343cc28df",
   "metadata": {
    "slideshow": {
     "slide_type": "fragment"
    }
   },
   "outputs": [],
   "source": [
    "zoo = pd.read_csv('../database/visitantes-zoo.csv'); zoo"
   ]
  },
  {
   "cell_type": "markdown",
   "id": "68ccd505-0571-4fa8-80eb-28342caccfe7",
   "metadata": {
    "slideshow": {
     "slide_type": "subslide"
    }
   },
   "source": [
    "Para calcular a correlação de Pearson entre duas séries, podemos usar a função `pearsonr()` do módulo `scipy.stats`."
   ]
  },
  {
   "cell_type": "code",
   "execution_count": null,
   "id": "8252e922-ff2d-4515-b9d5-30e714d8479c",
   "metadata": {
    "slideshow": {
     "slide_type": "fragment"
    }
   },
   "outputs": [],
   "source": [
    "corr1,_ = sts.pearsonr(zoo['Visitantes'],zoo['Tickets:Parking']); \n",
    "corr2,_ = sts.pearsonr(zoo['Visitantes'],zoo['Temperatura (C)']);\n",
    "\n",
    "corr1,corr2"
   ]
  },
  {
   "cell_type": "markdown",
   "id": "af6db7af-a630-43dc-9a2d-6d5bf2bdb125",
   "metadata": {
    "slideshow": {
     "slide_type": "subslide"
    }
   },
   "source": [
    "Comentários: \n",
    "\n",
    "- O coeficiente de Pearson mostra que há uma \"força\" de correlação não desprezível entre o número de visitantes e tickets vendidos.\n",
    "- Esta correlação é menor para a faixa de temperaturas médias."
   ]
  },
  {
   "cell_type": "markdown",
   "id": "30c5bd2e-8915-49f0-8008-8d5cc79a2ef1",
   "metadata": {
    "slideshow": {
     "slide_type": "subslide"
    }
   },
   "source": [
    "A correlação pode também ser calculada através do método `corr` de uma _Series_ do pandas."
   ]
  },
  {
   "cell_type": "code",
   "execution_count": null,
   "id": "8c9232f2-ff9c-448c-adf1-f1966630fd46",
   "metadata": {
    "slideshow": {
     "slide_type": "fragment"
    }
   },
   "outputs": [],
   "source": [
    "zoo['Visitantes'].corr(zoo['Tickets:Parking'])"
   ]
  },
  {
   "cell_type": "code",
   "execution_count": null,
   "id": "ee422713-0099-4e1b-a066-e61428f0b3ea",
   "metadata": {
    "slideshow": {
     "slide_type": "fragment"
    }
   },
   "outputs": [],
   "source": [
    "zoo['Visitantes'].corr(zoo['Temperatura (C)'])"
   ]
  },
  {
   "cell_type": "markdown",
   "id": "1fa13b49-1ba8-45ba-b802-24e37ff10f70",
   "metadata": {
    "slideshow": {
     "slide_type": "subslide"
    }
   },
   "source": [
    "#### Correlações pareadas\n",
    "\n",
    "Usando o método `pandas.DataFrame.corrwith()` é possível calcular correlações pareadas entre colunas de um _DataFrame_ ou linhas de outra _Series_ ou _DataFrame_.\n",
    "\n",
    "No exemplo abaixo, passamos uma _Series_ como argumento. A resposta são os mesmos valores obtidos anteriormente, porém na forma de uma _Series_. O valor unitário é devido à correlação da variável com ela própria."
   ]
  },
  {
   "cell_type": "code",
   "execution_count": null,
   "id": "1d1e8f0f-4c50-4b03-a3d6-506f50a596b0",
   "metadata": {
    "slideshow": {
     "slide_type": "fragment"
    }
   },
   "outputs": [],
   "source": [
    "zoo.corrwith(zoo['Visitantes'])"
   ]
  },
  {
   "cell_type": "markdown",
   "id": "dec0a407-f807-4a97-a391-d8f9f3e9c5a4",
   "metadata": {
    "slideshow": {
     "slide_type": "subslide"
    }
   },
   "source": [
    "### Gráfico de dispersão\n",
    "\n",
    "Antes de calcular cegamente o valor de $\\rho$ para séries de dados, é interessante fazer um gráfico de _dispersão_ (_scatter plot_) entre as variáveis. Podemos fazer isto com o `matplotlib.pyplot.plot()` e tipo de marcador `o` ou com `matplotlib.pyplot.scatter()`."
   ]
  },
  {
   "cell_type": "code",
   "execution_count": null,
   "id": "47d9d852-2886-458e-911b-088ae750ecbb",
   "metadata": {
    "slideshow": {
     "slide_type": "subslide"
    }
   },
   "outputs": [],
   "source": [
    "fig,ax = plt.subplots(1,2,figsize=(10,3))\n",
    "# plot 1\n",
    "ax[0].plot(zoo['Visitantes'],zoo['Tickets:Parking'],'o',label=f'corr={round(corr1,2)}')\n",
    "ax[0].set_xlabel('No. visitantes'); \n",
    "ax[0].set_ylabel('Tickets de estacionamento'); \n",
    "ax[0].legend()\n",
    "# plot 2\n",
    "ax[1].plot(zoo['Visitantes'],zoo['Temperatura (C)'],'or',label=f'corr={round(corr2,2)}')\n",
    "ax[1].set_xlabel('No. visitantes'); \n",
    "ax[1].set_ylabel('Temperatura (C)'); \n",
    "ax[1].legend();\n"
   ]
  },
  {
   "cell_type": "markdown",
   "id": "d31276bd-ec8a-4b46-8117-452a90f8166b",
   "metadata": {
    "slideshow": {
     "slide_type": "subslide"
    }
   },
   "source": [
    "Reproduzindo com `plt.scatter`:"
   ]
  },
  {
   "cell_type": "code",
   "execution_count": null,
   "id": "ceae34be-f6c5-4d00-b637-1b192e45daef",
   "metadata": {
    "slideshow": {
     "slide_type": "fragment"
    }
   },
   "outputs": [],
   "source": [
    "plt.scatter(zoo['Visitantes'],zoo['Tickets:Parking']);"
   ]
  },
  {
   "cell_type": "markdown",
   "id": "12b7e97d-b8aa-41b5-bdf6-ad22ffa9043b",
   "metadata": {
    "slideshow": {
     "slide_type": "subslide"
    }
   },
   "source": [
    "## Leituras recomendadas \n",
    "\n",
    "- [Paradoxo de Simpson](https://pt.wikipedia.org/wiki/Paradoxo_de_Simpson)\n",
    "- [statsmodels](https://www.statsmodels.org/stable/index.html)\n",
    "- [Outliers, o que são e como tratá-los em uma análise de dados?](https://www.aquare.la/o-que-sao-outliers-e-como-trata-los-em-uma-analise-de-dados/)"
   ]
  }
 ],
 "metadata": {
  "celltoolbar": "Slideshow",
  "kernelspec": {
   "display_name": "Python 3",
   "language": "python",
   "name": "python3"
  },
  "language_info": {
   "codemirror_mode": {
    "name": "ipython",
    "version": 3
   },
   "file_extension": ".py",
   "mimetype": "text/x-python",
   "name": "python",
   "nbconvert_exporter": "python",
   "pygments_lexer": "ipython3",
   "version": "3.9.4"
  },
  "rise": {
   "enable_chalkboard": true,
   "footer": "ICD",
   "header": "Prof. Gustavo Oliveira | UFPB",
   "theme": "black"
  }
 },
 "nbformat": 4,
 "nbformat_minor": 5
}
