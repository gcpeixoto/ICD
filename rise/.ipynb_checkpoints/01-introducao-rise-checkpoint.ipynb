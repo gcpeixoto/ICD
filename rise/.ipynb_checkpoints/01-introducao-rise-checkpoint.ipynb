{
 "cells": [
  {
   "cell_type": "markdown",
   "metadata": {
    "slideshow": {
     "slide_type": "slide"
    }
   },
   "source": [
    "# Aula 1A - Introdução à Ciência de Dados"
   ]
  },
  {
   "cell_type": "markdown",
   "metadata": {
    "slideshow": {
     "slide_type": "slide"
    }
   },
   "source": [
    "## Indústria 4.0 / Sociedade 5.0\n",
    "\n",
    "<!-- Figura -->\n",
    "<center>\n",
    "    <img src='../figs/01/society-5-industry-4.png' width=900px> </img>\n",
    "</center>\n",
    "\n",
    "[Fonte](https://www.sphinx-it.eu/from-the-agenda-of-the-world-economic-forum-2019-society-5-0/)"
   ]
  },
  {
   "cell_type": "markdown",
   "metadata": {
    "slideshow": {
     "slide_type": "slide"
    }
   },
   "source": [
    "## Ciência de Dados no Século XXI \n",
    "\n",
    "- Dados como matéria-prima: pessoas, empresas, governos, ciência\n",
    "- *Big Data*, *business intelligence*, *data analytics*,...\n",
    "\n",
    "<!-- Figura -->\n",
    "<center>\n",
    "    <img src='../figs/01/11-pillars.png' width=600px> </img>\n",
    "</center>\n",
    "\n",
    "[Fonte](https://knowledgecom.my/ir4.html)"
   ]
  },
  {
   "cell_type": "markdown",
   "metadata": {
    "slideshow": {
     "slide_type": "slide"
    }
   },
   "source": [
    "- *Ciência de dados*: nome razoável para denotar o aspecto científico dos dados\n",
    "- Contexto acadêmico: intersecta áreas, processos e pensamento científico\n",
    "- Modelo holístico não unificado \n",
    "- Ciência de dados tem alta capilaridade e multidisciplinaridade"
   ]
  },
  {
   "cell_type": "markdown",
   "metadata": {
    "slideshow": {
     "slide_type": "slide"
    }
   },
   "source": [
    "## Modelo em camadas\n",
    "\n",
    "<!-- Figura -->\n",
    "<center>\n",
    "    <img src='../figs/01/cycle-ds.png' width=400px> </img>\n",
    "</center>"
   ]
  },
  {
   "cell_type": "markdown",
   "metadata": {
    "slideshow": {
     "slide_type": "slide"
    }
   },
   "source": [
    "## Camada interna: interseção de áreas tradicionais \n",
    "\n",
    "- **Matemática/Estatística**: \n",
    " - modelos matemáticos\n",
    " - análise e inferência de dados\n",
    " - aprendizagem de máquina\n",
    "\n",
    "- **Ciência da Computação/Engenharia de Software** \n",
    " - hardware/software\n",
    " - projeto, armazenamento e segurança de dados\n",
    "\n",
    "- **Conhecimento do Domínio/Expertise** \n",
    " - ramo de aplicação do conhecimento \n",
    " - *data reporting* e inteligência de negócios\n",
    " - *marketing* e comunicação de dados"
   ]
  },
  {
   "cell_type": "markdown",
   "metadata": {
    "slideshow": {
     "slide_type": "slide"
    }
   },
   "source": [
    "## Camada intermediária: processos da cadeia de dados\n",
    "\n",
    "- Governança, curadoria\n",
    "- Armazenamento, reuso\n",
    "- Preservação, manutenção\n",
    "- Destruição, compartilhamento"
   ]
  },
  {
   "cell_type": "markdown",
   "metadata": {
    "slideshow": {
     "slide_type": "slide"
    }
   },
   "source": [
    "## Camada externa: método científico\n",
    "*Soluções dirigidas por dados* (*data-driven solutions*) \n",
    "\n",
    "1. **Definição do problema**: a \"grande pergunta\" \n",
    "\n",
    "2. **Aquisição de dados**: coleta de toda informação disponível sobre o problema\n",
    "\n",
    "3. **Processamento de dados**, tratamento dos dados (limpeza, formatação e organização)"
   ]
  },
  {
   "cell_type": "markdown",
   "metadata": {
    "slideshow": {
     "slide_type": "slide"
    }
   },
   "source": [
    "4. **Análise de dados**, mineração, agrupamento, clusterização, testes de hipótese e inferência\n",
    "\n",
    "5. **Descoberta de dados**, correlações, comportamentos distintivos, tendências claras, geração de conhecimento\n",
    "\n",
    "6. **Solução**, conversibilidade em produtos e ativos de valor agregado"
   ]
  },
  {
   "cell_type": "markdown",
   "metadata": {
    "slideshow": {
     "slide_type": "slide"
    }
   },
   "source": [
    "### Exemplo: o caso da COVID-19\n",
    "\n",
    "- Uma pergunta:\n",
    "> _A taxa de contágio do vírus em pessoas vivendo próximas de um centro comercial localizado em uma zona rural é menor do do que em pessoas vivendo próximas de um centro comercial localizado em uma zona urbana?_ \n",
    "- Como delimitar a zona urbana? "
   ]
  },
  {
   "cell_type": "markdown",
   "metadata": {
    "slideshow": {
     "slide_type": "slide"
    }
   },
   "source": [
    "- Centro comercial: \n",
    " - Conjunto de lojas de pequeno porte? \n",
    " - Feiras? \n",
    " - Circulação de 100 pessoas/h? \n",
    " \n",
    "- Bancos de dados: IBGE? DATASUS?"
   ]
  },
  {
   "cell_type": "markdown",
   "metadata": {
    "slideshow": {
     "slide_type": "slide"
    }
   },
   "source": [
    "### Projetos de CD para a COVID-19\n",
    "\n",
    "Mundo: \n",
    "- *Coronavirus Resource Center*, John Hopkins University [[CRC-JHU]](https://coronavirus.jhu.edu/map.html)\n",
    "\n",
    "Brasil: \n",
    "- Observatório Covid-19 BR [[COVID19BR]](https://covid19br.github.io/index.html)\n",
    "- Observatório Covid-19 Fiocruz [[FIOCRUZ]](https://portal.fiocruz.br/observatorio-covid-19)\n",
    "- CoronaVIS-UFRGS [[CoronaVIS-UFRGS]](https://covid19.ufrgs.dev/dashboard/#/dashboard)\n",
    "- CovidBR-UFCG [[CovidBR-UFCG]](http://covid.lsi.ufcg.edu.br) \n",
    "- [[LEAPIG-UFPB]](http://www.de.ufpb.br/~leapig/projetos/covid_19.html#PB)"
   ]
  },
  {
   "cell_type": "markdown",
   "metadata": {
    "slideshow": {
     "slide_type": "slide"
    }
   },
   "source": [
    "## Cientista de dados x analista de dados x engenheiro de dados"
   ]
  },
  {
   "cell_type": "markdown",
   "metadata": {
    "slideshow": {
     "slide_type": "slide"
    }
   },
   "source": [
    "### Cientista de dados\n",
    "\n",
    "> _\"**Cientista de dados** é um profissional que tem conhecimentos suficientes sobre necessidades de negócio, domínio do conhecimento, além de possuir habilidades analíticas, de software e de engenharia de sistemas para gerir, de ponta a ponta, os processos envolvidos no ciclo de vida dos dados.\"_\n",
    "\n",
    "[[NIST 1500-1 (2015)]](https://bigdatawg.nist.gov/_uploadfiles/NIST.SP.1500-1.pdf)"
   ]
  },
  {
   "cell_type": "markdown",
   "metadata": {
    "slideshow": {
     "slide_type": "slide"
    }
   },
   "source": [
    "### Ciência de dados\n",
    "\n",
    "> _\"**Ciência de dados** é a extração do conhecimento útil diretamente a partir de dados através de um processo de descoberta ou de formulação e teste de hipóteses.\"_ \n",
    "\n",
    "#### Informação não é sinônimo de conhecimento!\n",
    "\n",
    "- Exemplo: de toda a informação circulante no seu Whatsapp por dia, que fração seria considerada útil e aproveitável? A resposta talvez seja um incrível \"nada\"... \n",
    "\n",
    "Portanto, ter bastante informação à disposição não significa, necessariamente, possuir conhecimento."
   ]
  },
  {
   "cell_type": "markdown",
   "metadata": {
    "slideshow": {
     "slide_type": "slide"
    }
   },
   "source": [
    "### Analista de dados\n",
    "\n",
    "- _Analytics_ pode ser traduzido literalmente como \"análise\"\n",
    "- Segundo o documento NIST 1500-1, é definido como o \"processo de sintetizar conhecimento a partir da informação\". \n",
    "\n",
    "> _\"**Analista de dados** é o profissional capaz de sintetizar conhecimento a partir da informação e convertê-lo em ativos exploráveis.\"_"
   ]
  },
  {
   "cell_type": "markdown",
   "metadata": {
    "slideshow": {
     "slide_type": "slide"
    }
   },
   "source": [
    "### Engenheiro de dados\n",
    "\n",
    "> _\"**Engenheiro(a) de dados** é o(a) profissional que explora recursos independentes para construir sistemas escaláveis capazes de armazenar, manipular e analisar dados com eficiência e e desenvolver novas arquiteturas sempre que a natureza do banco de dados exigi-las.\"_"
   ]
  },
  {
   "cell_type": "markdown",
   "metadata": {
    "slideshow": {
     "slide_type": "slide"
    }
   },
   "source": [
    "Embora essas três especializações possuam características distintivas, elas são tratadas como partes de um corpo maior, que é a Ciência de Dados\n",
    "\n",
    "- Ver [PROJETO EDISON](https://edison-project.eu), Universidade de Amsterdã, Holanda \n",
    "- EDISON Data Science Framework [[EDSF]](https://edison-project.eu/sites/edison-project.eu/files/attached_files/node-5/edison2017poster02-dsp-profiles-v03.pdf)"
   ]
  },
  {
   "cell_type": "markdown",
   "metadata": {
    "slideshow": {
     "slide_type": "slide"
    }
   },
   "source": [
    "#### Quem faz o quê? \n",
    "\n",
    "Resumimos a seguir as principais tarefas atribuídas a cientistas, analistas e engenheiros(as) de dados com base em artigos de canais especializados:\n",
    "- [[DataQuest]](https://www.dataquest.io/blog/data-analyst-data-scientist-data-engineer/)\n",
    "- [[NCube]](https://ncube.com/blog/data-engineer-data-scientist-data-analyst-what-is-the-difference)\n",
    "- [[Medium]](https://medium.com/@gdesantis7/decoding-the-data-scientist-51b353a01443)\n",
    "- [[Data Science Academy]](http://datascienceacademy.com.br/blog/qual-a-diferenca-entre-cientista-de-dados-e-engenheiro-de-machine-learning/)\n",
    "- [[Data Flair]](https://data-flair.training/blogs/data-scientist-vs-data-engineer-vs-data-analyst/). "
   ]
  },
  {
   "cell_type": "markdown",
   "metadata": {
    "slideshow": {
     "slide_type": "slide"
    }
   },
   "source": [
    "##### Cientista de dados\n",
    "- Realiza o pré-processamento, a transformação e a limpeza dos dados;\n",
    "- Usa ferramentas de aprendizagem de máquina para descobrir padrões nos dados;\n",
    "- Aperfeiçoa e otimiza algoritmos de aprendizagem de máquina;\n",
    "- Formula questões de pesquisa com base em requisitos do domínio do conhecimento;\n",
    "   "
   ]
  },
  {
   "cell_type": "markdown",
   "metadata": {
    "slideshow": {
     "slide_type": "slide"
    }
   },
   "source": [
    "##### Analista de dados\n",
    "- Analisa dados por meio de estatística descritiva;\n",
    "- Usa linguagens de consulta a banco de dados para recuperar e manipular a informação;\n",
    "- Confecciona relatórios usando visualização de dados; \n",
    "- Participa do processo de entendimento de negócios;"
   ]
  },
  {
   "cell_type": "markdown",
   "metadata": {
    "slideshow": {
     "slide_type": "slide"
    }
   },
   "source": [
    "##### Engenheiro(a) de dados\n",
    "- Desenvolve, constroi e mantém arquiteturas de dados;\n",
    "- Realiza testes de larga escala em plataformas de dados;\n",
    "- Manipula dados brutos e não estruturados;\n",
    "- Desenvolve _pipelines_ para modelagem, mineração e produção de dados\n",
    "- Cuida do suporte a cientistas e analistas de dados;"
   ]
  },
  {
   "cell_type": "markdown",
   "metadata": {
    "slideshow": {
     "slide_type": "slide"
    }
   },
   "source": [
    "#### Que ferramentas são usadas?\n",
    "\n",
    "As ferramentas usadas por cada um desses profissionais são variadas e evoluem constantemente. Na lista a seguir, citamos algumas."
   ]
  },
  {
   "cell_type": "markdown",
   "metadata": {
    "slideshow": {
     "slide_type": "slide"
    }
   },
   "source": [
    "##### Cientista de dados\n",
    "- R, Python, Hadoop, Ferramentas SQL (Oracle, PostgreSQL, MySQL etc.)\n",
    "- Álgebra, Estatística, Aprendizagem de Máquina\n",
    "- Ferramentas de visualização de dados\n",
    "   "
   ]
  },
  {
   "cell_type": "markdown",
   "metadata": {
    "slideshow": {
     "slide_type": "slide"
    }
   },
   "source": [
    "##### Analista de dados\n",
    "- R, Python, \n",
    "- Excel, Pandas\n",
    "- Ferramentas de visualização de dados (Tableau, Infogram, PowerBi etc.)\n",
    "- Ferramentas para relatoria e comunicação "
   ]
  },
  {
   "cell_type": "markdown",
   "metadata": {
    "slideshow": {
     "slide_type": "slide"
    }
   },
   "source": [
    "##### Engenheiro(a) de dados\n",
    "- Ferramentas SQL e noSQL (Oracle NoSQL, MongoDB, Cassandra etc.)\n",
    "- Soluções ETL - Extract/Transform/Load (AWS Glue, xPlenty, Stitch etc.)\n",
    "- Python, Scala, Java etc.\n",
    "- Spark, Hadoop etc."
   ]
  },
  {
   "cell_type": "markdown",
   "metadata": {
    "slideshow": {
     "slide_type": "slide"
    }
   },
   "source": [
    "### A Matemática por trás dos dados"
   ]
  },
  {
   "cell_type": "markdown",
   "metadata": {
    "slideshow": {
     "slide_type": "slide"
    }
   },
   "source": [
    "#### *Bits*\n",
    "\n",
    "Linguagem _binária_ (sequencias dos dígitos 0 e 1). Em termos de *bits*, a frase \"Ciência de dados é legal!\", por exemplo, é escrita como\n",
    "\n",
    "`1000011110100111101010110111011000111101001110000110000011001001100101\n",
    "1000001100100110000111001001101111111001110000011101001100000110110011001\n",
    "01110011111000011101100100001`. "
   ]
  },
  {
   "cell_type": "markdown",
   "metadata": {
    "slideshow": {
     "slide_type": "slide"
    }
   },
   "source": [
    "#### Dados 1D, 2D e 3D \n",
    "\n",
    "- Texto, som, imagem, áudio, vídeo...\n",
    "\n",
    "- *Arrays*, vetores de dados e listas\n",
    "- *Dataframes* e planilhas\n",
    "- Matrizes (pixels, canais de cor)\n",
    "- Matrizes 3D (filmes, animações, FPS)"
   ]
  },
  {
   "cell_type": "markdown",
   "metadata": {
    "slideshow": {
     "slide_type": "slide"
    }
   },
   "source": [
    "## Ferramentas computacionais do curso\n",
    "\n",
    "- Python 3.x (onde x é um número de versão) como linguagem de programação. \n",
    "- Linguagem interpretada\n",
    "- Alto nível"
   ]
  },
  {
   "cell_type": "markdown",
   "metadata": {
    "slideshow": {
     "slide_type": "slide"
    }
   },
   "source": [
    "### _iPython_ e _Jupyter Notebook_ \n",
    "\n",
    "- [[iPython]](http://ipython.org): iniciado em 2001; interpretador Python para melhorar a interatividade com a linguagem. \n",
    "- Integrado como um _kernel_ (núcleo) no projeto [[Jupyter]](http://jupyter.org), desenvolvido em 2014, permitindo textos, códigos e elementos gráficos sejam integrados em cadernos interativos. \n",
    "- _Jupyter notebooks_ são interfaces onde podemos executar códigos em diferentes linguagens\n",
    "- _Jupyter_ é uma aglutinação de _Julia_, _Python_ e _R_, linguagens usuais para ciência de dados"
   ]
  },
  {
   "cell_type": "markdown",
   "metadata": {
    "slideshow": {
     "slide_type": "slide"
    }
   },
   "source": [
    "### *Anaconda* \n",
    "\n",
    "- O [[Anaconda]](https://www.anaconda.com) foi iniciado em 2012 para fornecer uma ferramenta completa para o trabalho com Python. \n",
    "- Em 2020, a [[Individual Edition]](https://www.anaconda.com/products/individual) é a mais popular no mundo com mais de 20 milhões de usuários. \n",
    "- Leia o tutorial de instalação!"
   ]
  },
  {
   "cell_type": "markdown",
   "metadata": {
    "slideshow": {
     "slide_type": "slide"
    }
   },
   "source": [
    "### *Jupyter Lab*\n",
    "\n",
    "- Ferramenta que melhorou a interatividade do Jupyter\n",
    "- Este [[artigo]](https://blog.jupyter.org/jupyterlab-is-ready-for-users-5a6f039b8906) discute as características do Jupyter Lab"
   ]
  },
  {
   "cell_type": "markdown",
   "metadata": {
    "slideshow": {
     "slide_type": "slide"
    }
   },
   "source": [
    "### *Binder* \n",
    "\n",
    "- O projeto [[Binder]](https://mybinder.org) funciona como um servidor online baseada na tecnologia *Jupyter Hub* para servir cadernos interativos online.\n",
    "- Execução de códigos \"na nuvem\" sem a necessidade de instalações\n",
    "- Sessões temporárias"
   ]
  },
  {
   "cell_type": "markdown",
   "metadata": {
    "slideshow": {
     "slide_type": "slide"
    }
   },
   "source": [
    "### *Google Colab* \n",
    "\n",
    "- O [[Google Colab]](http://colab.research.google.com) é um \"misto\" do _Jupyter notebook_ e _Binder_, \n",
    "- Permite que o usuário use a infra-estrutura de computação de alto desempenho (GPUs e TPUS) da Google\n",
    "- Sincronização de arquivos com o Google Drive. "
   ]
  },
  {
   "cell_type": "markdown",
   "metadata": {
    "slideshow": {
     "slide_type": "slide"
    }
   },
   "source": [
    "### Ecossistema de módulos\n",
    "\n",
    "- *numpy* (*NUMeric PYthon*): o *numpy* serve para o trabalho de computação numérica, operando fundamentalmente com vetores, matrizes e ágebra linear.\n",
    "\n",
    "- *pandas* (*Python for Data Analysis*): é a biblioteca para análise de dados de Python, que opera *dataframes* com eficiência."
   ]
  },
  {
   "cell_type": "markdown",
   "metadata": {
    "slideshow": {
     "slide_type": "slide"
    }
   },
   "source": [
    "- *sympy* (*SYMbolic PYthon*): é um módulo para trabalhar com matemática simbólica e cumpre o papel de um verdadeiro sistema algébrico computacional.\n",
    "\n",
    "- *matplotlib*: voltado para plotagem e visualização de dados, foi um dos primeiros módulos Python para este fim."
   ]
  },
  {
   "cell_type": "markdown",
   "metadata": {
    "slideshow": {
     "slide_type": "slide"
    }
   },
   "source": [
    "- *scipy* (*SCIentific PYthon*): o *scipy* pode ser visto, na verdade, como um módulo mais amplo que integra os módulos anteriores. Em particular, ele é utilizado para cálculos de integração numérica, interpolação, otimização  e estatística.\n",
    "\n",
    "- *seaborn*: é um módulo para visualização de dados baseado no *matplotlib*, porém com capacidades visuais melhores. "
   ]
  }
 ],
 "metadata": {
  "celltoolbar": "Slideshow",
  "kernelspec": {
   "display_name": "Python 3",
   "language": "python",
   "name": "python3"
  },
  "language_info": {
   "codemirror_mode": {
    "name": "ipython",
    "version": 3
   },
   "file_extension": ".py",
   "mimetype": "text/x-python",
   "name": "python",
   "nbconvert_exporter": "python",
   "pygments_lexer": "ipython3",
   "version": "3.7.3"
  },
  "rise": {
   "enable_chalkboard": true,
   "footer": "UFPB - CI - DCC",
   "header": "Gustavo Oliveira / Andrea Rocha",
   "theme": "sky"
  }
 },
 "nbformat": 4,
 "nbformat_minor": 4
}
