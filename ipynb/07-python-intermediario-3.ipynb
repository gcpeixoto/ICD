{
 "cells": [
  {
   "cell_type": "markdown",
   "id": "c9c5b8ab-7842-4fed-a803-5e18b4b35873",
   "metadata": {},
   "source": [
    "# Python intermediário - III"
   ]
  },
  {
   "cell_type": "markdown",
   "id": "68c637d7-b5cf-48a7-b387-f2f747f47a26",
   "metadata": {},
   "source": [
    "## Entrada e saída de dados \n",
    "\n",
    "O fluxo de informações que ocorre entre o disco rígido de nosso computador e o que vemos impresso na tela, ou entre um ponto de comunicação remoto e o nosso computador local é geralmente realizado por meio de _objetos-tipo arquivo_ (_file objects_). A esses objetos dá-se também o nome de _input/output stream_, de onde segue o termo _I/O stream_. \n",
    "\n",
    "### Tipos de arquivo\n",
    "\n",
    "Para entendimento prático, _streams_ são os tradicionais \"arquivos\" que transitam em nossas máquinas. Os dois tipos principais de arquivo são: \n",
    "\n",
    "- _Texto formatado_ (_Text file_). Arquivos de texto recebem e produzem objetos _str_. Isto significa que um processo de codificação/decodificação dos dados ocorre durante o fluxo. \n",
    "- _Binário_ (_Binary file_). Arquivos binários lidam com a objetos na forma de _bytes_. Isto significa que nenhum processo de codificação/decodificação dos dados ocorre durante o fluxo e que o texto é _não formatado_."
   ]
  },
  {
   "cell_type": "markdown",
   "id": "ca21f901-48cd-4ec7-977d-3e25fe016370",
   "metadata": {},
   "source": [
    "## Operações com arquivos\n",
    "\n",
    "Podemos realizar diversas operações com arquivos, tais como _modo de apenas leitura_ (_read-only_), _modo de escrita_ (_write_) e modo de escrita e leitura (_read-write_). Neste capítulo, aprenderemos a manipular o fluxo de entrada e saída de diversos tipos de arquivo. A forma mais fácil de criar uma _stream_ é usando a função predefinida `open`."
   ]
  },
  {
   "cell_type": "markdown",
   "id": "29dd428a-3a77-4d48-91d5-40ded0b2f708",
   "metadata": {},
   "source": [
    "**Exemplo:** ler arquivo de texto."
   ]
  },
  {
   "cell_type": "code",
   "execution_count": 1,
   "id": "3c712679-0637-47cb-a292-bc1a52a2b8ac",
   "metadata": {},
   "outputs": [
    {
     "data": {
      "text/plain": [
       "<_io.TextIOWrapper name='../etc/icd.yml' mode='r' encoding='UTF-8'>"
      ]
     },
     "execution_count": 1,
     "metadata": {},
     "output_type": "execute_result"
    }
   ],
   "source": [
    "f = open('../etc/icd.yml')\n",
    "f"
   ]
  },
  {
   "cell_type": "markdown",
   "id": "183c5f42-ecff-48d0-a51e-4dd8c8bb70cd",
   "metadata": {},
   "source": [
    "Comentários:\n",
    "- Por padrão, `open` abre um arquivo em modo de leitura.\n",
    "- O arquivo é especificado pelo seu caminho no disco.\n",
    "- `f` é um objeto abstrato como se vê, que mostra o esquema de codificação usado para decodificar arquivo. Quando não especificado, o `encoding` padrão do sistema é utilizado.\n",
    "- Percebe-se que o encoding padrão do sistema é `UTF-8`."
   ]
  },
  {
   "cell_type": "markdown",
   "id": "f3b9a252-cb00-478e-b35c-b179a3fb5d11",
   "metadata": {},
   "source": [
    "**Exemplo:** ler arquivo de texto com especificação de modo."
   ]
  },
  {
   "cell_type": "code",
   "execution_count": 2,
   "id": "a87354b2-409c-46e3-b569-89062b4bb736",
   "metadata": {},
   "outputs": [
    {
     "data": {
      "text/plain": [
       "<_io.TextIOWrapper name='../database/eyes/SyntEyeKTC-106_a-net.png' mode='r' encoding='UTF-8'>"
      ]
     },
     "execution_count": 2,
     "metadata": {},
     "output_type": "execute_result"
    }
   ],
   "source": [
    "# o arquivo aqui é uma imagem PNG\n",
    "o = open('../database/eyes/SyntEyeKTC-106_a-net.png',mode='r')\n",
    "o"
   ]
  },
  {
   "cell_type": "markdown",
   "id": "f6172b73-0a0e-41d8-9769-a8602ff56d72",
   "metadata": {},
   "source": [
    "Comentários:\n",
    "\n",
    "- O segundo argumento de `open` é `mode`, no qual especificamos o modo com que o arquivo será tratado.\n",
    "- Para modo de leitura, usamos `'r'`; para modo de escrita, usamos `'w'`; para modo de apensamento, usamos `'a'`, e para modo binário, usamos `'b'`. A seguir, veremos mais exemplos.\n",
    "- É importante notar que tanto `f` quanto `o` estão \"abertos\" e devem ser fechadas imediatamente após o uso para evitar consumo de memória e outros problemas."
   ]
  },
  {
   "cell_type": "code",
   "execution_count": 3,
   "id": "2ea5c837-b884-4b55-94f7-f4689f23dfbd",
   "metadata": {},
   "outputs": [
    {
     "data": {
      "text/plain": [
       "(False, False)"
      ]
     },
     "execution_count": 3,
     "metadata": {},
     "output_type": "execute_result"
    }
   ],
   "source": [
    "# as streams 'f' e 'o' estão abertas \n",
    "f.closed,o.closed"
   ]
  },
  {
   "cell_type": "code",
   "execution_count": 4,
   "id": "13f42a74-97a6-4a6d-b4b8-ea7e995896ff",
   "metadata": {},
   "outputs": [
    {
     "data": {
      "text/plain": [
       "(True, True)"
      ]
     },
     "execution_count": 4,
     "metadata": {},
     "output_type": "execute_result"
    }
   ],
   "source": [
    "# fechando streams\n",
    "f.close(), o.close()\n",
    "\n",
    "# verifica novamente que foram fechadas\n",
    "f.closed,o.closed"
   ]
  },
  {
   "cell_type": "markdown",
   "id": "9bb2c7b9-644c-4b62-9dd5-8c7825704eb7",
   "metadata": {},
   "source": [
    "**Exemplo:** Ler arquivo e armazenar conteúdo."
   ]
  },
  {
   "cell_type": "code",
   "execution_count": 5,
   "id": "728a7109-b43a-4e3c-a15f-49d83b7ba618",
   "metadata": {},
   "outputs": [
    {
     "name": "stdout",
     "output_type": "stream",
     "text": [
      "# Arquivo YAML para construir o ambiente 'icd'\n",
      "\n",
      "name: icd # nome do ambiente\n",
      "channels: # lista de canais a utilizar\n",
      "  - defaults # canais padrão\n",
      "  - conda-forge\n",
      "dependencies: # pacotes dependentes\n",
      "  - numpy\n",
      "  - scipy\n",
      "  - sympy\n",
      "  - matplotlib\n",
      "  - pandas\n",
      "  - seaborn  \n"
     ]
    }
   ],
   "source": [
    "with open('../etc/icd.yml') as f:\n",
    "    content = f.read()\n",
    "\n",
    "# imprime conteúdo do arquivo\n",
    "print(content)"
   ]
  },
  {
   "cell_type": "code",
   "execution_count": 6,
   "id": "5226632b-3e4b-4b09-ae11-46fe9b9dcfa7",
   "metadata": {},
   "outputs": [
    {
     "data": {
      "text/plain": [
       "True"
      ]
     },
     "execution_count": 6,
     "metadata": {},
     "output_type": "execute_result"
    }
   ],
   "source": [
    "# não é necessário fechar!\n",
    "f.closed"
   ]
  },
  {
   "cell_type": "markdown",
   "id": "0605109f-e64d-43f2-a6a8-2a5ace7f4d41",
   "metadata": {},
   "source": [
    "Comentários:\n",
    "\n",
    "- A _keyword_ `with` possibilita que o fluxo de arquivos seja facilitado.\n",
    "- Com a _keyword_ `with`, o arquivo é automaticamente fechado.\n",
    "- É possível gerir a abertura de mais de um arquivo com apenas uma chamada de `with` com \n",
    "\n",
    "```python\n",
    "with A() as a, B() as b:\n",
    "```\n",
    "\n",
    "```{note}\n",
    "Para saber mais acerca de `with`, consulte o [PEP 343](https://www.python.org/dev/peps/pep-0343/#motivation-and-summary).\n",
    "```"
   ]
  },
  {
   "cell_type": "code",
   "execution_count": 7,
   "id": "30a30a0d-5886-4198-a6a9-5ba70e2da416",
   "metadata": {},
   "outputs": [
    {
     "data": {
      "text/plain": [
       "(266, str)"
      ]
     },
     "execution_count": 7,
     "metadata": {},
     "output_type": "execute_result"
    }
   ],
   "source": [
    "with open('../etc/icd.yml','r') as f, open('../database/bras-cubas.txt') as g:\n",
    "    content_f = f.read()\n",
    "    content_g = g.read()\n",
    "\n",
    "# opera sobre conteúdos\n",
    "len(content_f),type(content_g)    "
   ]
  },
  {
   "cell_type": "markdown",
   "id": "f0d66fc3-781e-48d1-9f9b-d784ffe65d7c",
   "metadata": {},
   "source": [
    "#### Modos de arquivos \n",
    "\n",
    "Antes de prosseguirmos, vamos resumir os principais modos com os quais um arquivo é operado em Python. \n",
    "\n",
    "|Caracter|Significado|\n",
    "|---|---|\n",
    "|`'r'`| abre para leitura (padrão)|\n",
    "|`'w'`| abre para escrita, truncando o arquivo|\n",
    "|`'x'`| cria um novo arquivo e o abre para escrita|\n",
    "|`'a'`| abre para escrita apensando conteúdo no fim do arquivo|\n",
    "|`'b'`| abre em modo binário|\n",
    "|`'t'`| abre em modo texto (padrão)|\n",
    "\n",
    "Para uma discussão mais ampla sobre todas as possabilidades, consulte este [post](https://tutorial.eyehunts.com/python/python-file-modes-open-write-append-r-r-w-w-x-etc/) e [este](https://riptutorial.com/python/example/978/file-modes).\n"
   ]
  },
  {
   "cell_type": "markdown",
   "id": "afb86e89-99a6-4f5c-b3a4-776a94d4f6d4",
   "metadata": {},
   "source": [
    "**Exemplo:** Ler arquivo linha por linha."
   ]
  },
  {
   "cell_type": "code",
   "execution_count": 8,
   "id": "c9e7372b-17dc-47e4-b9b4-e33483acfd79",
   "metadata": {},
   "outputs": [
    {
     "name": "stdout",
     "output_type": "stream",
     "text": [
      "não durou muito a evocação; a realidade dominou logo; o presente expeliu o passado. talvez eu exponha ao leitor, em algum canto deste livro, a minha teoria das edições humanas. o que por agora importa saber é que virgília — chamava-se virgília — entrou na alcova, firme, com a gravidade que lhe davam as roupas e os anos, e veio até o meu leito. o estranho levantou-se e saiu. era um sujeito, que me visitava todos os dias para falar do câmbio, da colonização e da necessidade de desenvolver a viação férrea; nada mais interessante para um moribundo. saiu; virgília deixou-se estar de pé; durante algum tempo ficamos a olhar um para o outro, sem articular palavra. quem diria? de dois grandes namorados, de duas paixões sem freio, nada mais havia ali, vinte anos depois; havia apenas dois corações murchos, devastados pela vida e saciados dela, não sei se em igual dose, mas enfim saciados. virgília tinha agora a beleza da velhice, um ar austero e maternal; estava menos magra do que quando a vi, pela última vez, numa festa de são joão, na tijuca; e porque era das que resistem muito, só agora começavam os cabelos escuros a intercalar-se com alguns fios de prata.\n"
     ]
    }
   ],
   "source": [
    "with open('../database/bras-cubas.txt','rt',encoding='utf-8') as f:\n",
    "    for linha in f:\n",
    "        print(linha.lower())"
   ]
  },
  {
   "cell_type": "markdown",
   "id": "c7280f60-f8ab-49f4-9781-56aba95313d7",
   "metadata": {},
   "source": [
    "Discussão:\n",
    "- Note que especifica o modo `'rt'` é totalmente decorativo, já que são as opções padrão.\n",
    "- O parâmetro `encoding` indica a codificação na qual o texto deve ser lido. `UTF-8` é o padrão. Entretanto, veremos adiante algumas especifidades com relação a _encoding_ de caracteres."
   ]
  },
  {
   "cell_type": "markdown",
   "id": "fef361e7-924b-4b9d-ab1d-17a0263f5bf2",
   "metadata": {},
   "source": [
    "### Escrita de arquivos de texto\n",
    "\n",
    "Escrever conteúdo para arquivos é uma das tarefas mais frequentes do processamento de dados. Para escrever conteúdo em um arquivo, devemos assumir ou que ele é inexistente e precisa ser criado, ou que ele existe e queremos adicionar informações nele.\n",
    "\n",
    "**Exemplo:** escrever um simulacro de \"jogo da velha\" com caracteres em um arquivo `.txt`."
   ]
  },
  {
   "cell_type": "code",
   "execution_count": 9,
   "id": "29898070-84e9-4eed-a73c-e38dc1de9ce4",
   "metadata": {},
   "outputs": [],
   "source": [
    "def velha(n):\n",
    "    '''Simula um jogo da velha fictício.'''\n",
    "    \n",
    "    from random import sample\n",
    "    \n",
    "    c = ['o','x']            \n",
    "    l = f'  -   -   -  \\n'\n",
    "    ll = l\n",
    "    \n",
    "    for _ in range(3):\n",
    "        l += f'| {sample(c,1)[0]} | {sample(c,1)[0]} | {sample(c,1)[0]} |\\n'\n",
    "    l += ll # sobrecarga de +\n",
    "    \n",
    "    l = f'Game: #{n}\\n' + l + '\\n' \n",
    "    \n",
    "    return l\n",
    "\n",
    "\n",
    "# cria log de n partidas\n",
    "def n_games_log(n):\n",
    "    \n",
    "    with open('../etc/velha-log.txt','w') as v:\n",
    "        for i in range(1,n+1):\n",
    "            v.write(velha(i)) # escreve em arquivo\n",
    "            \n",
    "# executa função para 4 partidas            \n",
    "n_games_log(4)            "
   ]
  },
  {
   "cell_type": "markdown",
   "id": "a9cf2666-9d78-483c-9764-2c7996840554",
   "metadata": {},
   "source": [
    "Para visualizarmos o conteúdo do arquivo podemos usar a função `cat` via terminal ou abrir uma nova _stream_ de leitura (exercício): "
   ]
  },
  {
   "cell_type": "code",
   "execution_count": 10,
   "id": "5c10cafa-21dc-4b1b-8d7c-f48687237b36",
   "metadata": {},
   "outputs": [
    {
     "name": "stdout",
     "output_type": "stream",
     "text": [
      "Game: #1\n",
      "  -   -   -  \n",
      "| x | o | o |\n",
      "| x | x | o |\n",
      "| o | o | o |\n",
      "  -   -   -  \n",
      "\n",
      "Game: #2\n",
      "  -   -   -  \n",
      "| x | x | o |\n",
      "| x | o | x |\n",
      "| o | o | x |\n",
      "  -   -   -  \n",
      "\n",
      "Game: #3\n",
      "  -   -   -  \n",
      "| o | o | x |\n",
      "| x | x | x |\n",
      "| o | o | x |\n",
      "  -   -   -  \n",
      "\n",
      "Game: #4\n",
      "  -   -   -  \n",
      "| o | o | x |\n",
      "| o | x | o |\n",
      "| x | o | o |\n",
      "  -   -   -  \n",
      "\n"
     ]
    }
   ],
   "source": [
    "!cat '../etc/velha-log.txt'"
   ]
  },
  {
   "cell_type": "markdown",
   "id": "684b21e1-f2f5-41ca-9d00-7a82b1daf735",
   "metadata": {},
   "source": [
    "**Exemplo:** escrever arquivo e apensar dados."
   ]
  },
  {
   "cell_type": "code",
   "execution_count": 11,
   "id": "0dc5308c-3e73-4e91-aeb2-4672dca197f9",
   "metadata": {},
   "outputs": [
    {
     "name": "stdout",
     "output_type": "stream",
     "text": [
      "0, 1, 2, 3, 4"
     ]
    }
   ],
   "source": [
    "# escreve\n",
    "with open('../etc/lista.txt','w') as f:\n",
    "    f.write( str(list(range(5))).strip('[]')) # escreve str e purga '[' e ']'\n",
    "\n",
    "!cat ../etc/lista.txt"
   ]
  },
  {
   "cell_type": "code",
   "execution_count": 12,
   "id": "4513c0ff-3260-4f7f-a269-c4f933b11667",
   "metadata": {},
   "outputs": [
    {
     "name": "stdout",
     "output_type": "stream",
     "text": [
      "0, 1, 2, 3, 4, 5, 6, 7, 8, 9, 10"
     ]
    }
   ],
   "source": [
    "# abre para apensar\n",
    "with open('../etc/lista.txt','a') as f:\n",
    "    f.write(', ') # o que temos sem isto?\n",
    "    f.write(str(list(range(5,11))).strip('[]'))\n",
    "\n",
    "!cat ../etc/lista.txt    "
   ]
  },
  {
   "cell_type": "markdown",
   "id": "7eab9389-8cf2-46c8-918b-2395a9cb57e1",
   "metadata": {},
   "source": [
    "Comentários:\n",
    "\n",
    "- No modo de apensamento, o arquivo original não é sobrescrito, mas alterado em seu final.\n",
    "- No exemplo anterior, incluímos a complementaridade da sequência de inteiros de 5 a 10 que não estava no arquivo anterior."
   ]
  },
  {
   "cell_type": "markdown",
   "id": "e9f71e5f-a028-4537-9132-cec304afa830",
   "metadata": {},
   "source": [
    "**Exemplo:** apensar em arquivo redirecionando a saída de `print`."
   ]
  },
  {
   "cell_type": "code",
   "execution_count": 13,
   "id": "ac151125-c18f-49e7-9cba-d8008e68fc81",
   "metadata": {},
   "outputs": [
    {
     "name": "stdout",
     "output_type": "stream",
     "text": [
      "0, 1, 2, 3, 4, 5, 6, 7, 8, 9, 10!!!\n"
     ]
    }
   ],
   "source": [
    "with open('../etc/lista.txt','a') as f:\n",
    "    print('!!!',file=f) # mesmo objeto f\n",
    "\n",
    "!cat ../etc/lista.txt "
   ]
  },
  {
   "cell_type": "markdown",
   "id": "9b64ee47-48be-4560-a0ec-d9b4a6d0a71a",
   "metadata": {},
   "source": [
    "Comentário:\n",
    "- Neste exemplo, a string `'!!!'`, que seria impressa na tela por `print` é apensada no arquivo `lista.txt` via _redirecionamento_. \n",
    "\n",
    "```{hint}\n",
    "Em ambiente UNIX, o redirecionamento pode ser feito via Terminal com o operador `>`, e o apensamento com `>>`. Por exemplo, o comando `cat > lista.txt` cria um arquivo vazio e redireciona as linhas digitáveis em tela para o arquivo. O comando `cat >> lista.txt`, por outro lado, permite que mais linhas digitáveis  em tela sejam adicionadas ao arquivo. Veja um exemplo [aqui](https://www.gotothings.com/unix/unix-redirection-and-pipes.htm).\n",
    "```"
   ]
  },
  {
   "cell_type": "markdown",
   "id": "10933533-86e7-435e-aaad-9488de796c8a",
   "metadata": {},
   "source": [
    "**Exemplo:** escrever para arquivo com redirecionamento, _star expression_ e sem `with`."
   ]
  },
  {
   "cell_type": "code",
   "execution_count": 14,
   "id": "0ab3cac4-1e8f-4c04-804b-23d3e49d2992",
   "metadata": {},
   "outputs": [
    {
     "name": "stdout",
     "output_type": "stream",
     "text": [
      "graus C,16,22.5\n"
     ]
    }
   ],
   "source": [
    "dado = ('graus C',16,22.5) # tupla com diferentes dados\n",
    "\n",
    "f = open('../etc/lista-2.txt','w')\n",
    "print(*dado,sep=',',file=f) \n",
    "f.close() # sem 'with', é necessário fechar a stream \n",
    "\n",
    "!cat ../etc/lista-2.txt"
   ]
  },
  {
   "cell_type": "markdown",
   "id": "82b43119-e88b-403b-a17c-fd399734c5a0",
   "metadata": {},
   "source": [
    "Discussão:\n",
    "- Neste exemplo, `*dado` desempacota a tupla – que tem tipos de dado diferentes –, separa os elementos por `,`, imprime na tela e redireciona para o arquivo de texto `lista-2.txt`.\n",
    "- Observe que arquivo é aberto em modo de escrita."
   ]
  },
  {
   "cell_type": "markdown",
   "id": "572817dc-110c-4f75-8ff7-336aa2b2759d",
   "metadata": {},
   "source": [
    "### Escrita de arquivos binários"
   ]
  },
  {
   "cell_type": "markdown",
   "id": "16bc6346-f304-4cd0-bab9-92bcec53e110",
   "metadata": {},
   "source": [
    "**Exemplo:** pré-visualizar um arquivo PDF no _Jupyter Notebook_."
   ]
  },
  {
   "cell_type": "code",
   "execution_count": 15,
   "id": "8d76f721-b077-423a-8675-4507444af1b2",
   "metadata": {},
   "outputs": [
    {
     "data": {
      "text/html": [
       "\n",
       "        <iframe\n",
       "            width=\"500\"\n",
       "            height=\"500\"\n",
       "            src=\"../etc/logo-icd.pdf\"\n",
       "            frameborder=\"0\"\n",
       "            allowfullscreen\n",
       "        ></iframe>\n",
       "        "
      ],
      "text/plain": [
       "<IPython.lib.display.IFrame at 0x7ff7128f7ac0>"
      ]
     },
     "execution_count": 15,
     "metadata": {},
     "output_type": "execute_result"
    }
   ],
   "source": [
    "from IPython.display import IFrame\n",
    "IFrame('../etc/logo-icd.pdf',width=500,height=500)"
   ]
  },
  {
   "cell_type": "markdown",
   "id": "99a16b4e-0c25-4449-97c0-17c0f261d344",
   "metadata": {},
   "source": [
    "Comentários:\n",
    "- Arquivos _PDF_, assim como áudios, imagens e executáveis, possuem conteúdo em formato binário. O que visualizamos acima é compreensível por humanos. \n",
    "- O exemplo a seguir mostra o real conteúdo do arquivo _PDF_ em termos de bytes.\n",
    "\n",
    "\n",
    "```{warning}\n",
    "Tente reproduzir este exemplo com o Jupyter Notebook executando localmente em sua máquina. Em alguns navegadores, o livro online pode não reproduzir esta pré-visualização.\n",
    "```"
   ]
  },
  {
   "cell_type": "markdown",
   "id": "9d227d69-de9a-4903-bd86-7d3c3c4106a7",
   "metadata": {},
   "source": [
    "**Exemplo:** ler arquivo binário e imprimir seu conteúdo."
   ]
  },
  {
   "cell_type": "code",
   "execution_count": 16,
   "id": "c6784cad-9ee2-4c67-8a44-74f5f5242d8c",
   "metadata": {},
   "outputs": [
    {
     "data": {
      "text/plain": [
       "b'%PDF-1.3\\n%\\xc4\\xe5\\xf2\\xe5\\xeb\\xa7\\xf3\\xa0\\xd0\\xc4\\xc6\\n3 0 obj\\n<< /Filter /FlateDecode /Length 87 >>\\nstream\\nx\\x01+T\\x08T(T0\\x00BSKS\\x05\\x0b\\x13#\\x85\\xa2T\\x85p\\x85<\\x05\\xfd\\x80\\xd4\\xa2\\xe4\\xd4\\x82\\x92\\xd2\\xc4\\x1c\\x85\\xa2L\\xa0\\x1acCc=S\\xb0Jc\\x03K=sS\\x05C\\x13\\x03\\x10edf\\xa6ghd\\xca\\x95\\x9c\\xab\\xa0\\xef\\x99k\\xa8\\xe0\\x92\\x0f42\\x10\\x00\\xc7\\xbe\\x15)\\nendstream\\nendobj\\n1 0 obj\\n<< /Type /Pa'"
      ]
     },
     "execution_count": 16,
     "metadata": {},
     "output_type": "execute_result"
    }
   ],
   "source": [
    "# modo 'rb'\n",
    "with open('../etc/logo-icd.pdf','rb') as f:\n",
    "    pdf = f.read()\n",
    "\n",
    "# 200 primeiros caracteres\n",
    "pdf[:200]"
   ]
  },
  {
   "cell_type": "code",
   "execution_count": 17,
   "id": "92fe4f1e-10f0-4695-8f22-d4d3fbbfb904",
   "metadata": {},
   "outputs": [
    {
     "data": {
      "text/plain": [
       "bytes"
      ]
     },
     "execution_count": 17,
     "metadata": {},
     "output_type": "execute_result"
    }
   ],
   "source": [
    "# verifica tipo da variável\n",
    "type(pdf)"
   ]
  },
  {
   "cell_type": "markdown",
   "id": "ecf0034b-2bcf-4048-b276-0a8e97d21124",
   "metadata": {},
   "source": [
    "Comentários:\n",
    "- A variável `pdf` guarda dados em formato **binário**.\n",
    "- O prefixo `'b'` sugere que o tipo de dado é binário e está \"codificado\" em linguagem de \"bytes\".\n",
    "- Perceba que nós humanos enxergamos caracteres, mas **o computador enxerga apenas _bytes_**."
   ]
  },
  {
   "cell_type": "markdown",
   "id": "ee24e6e3-605a-472c-a829-5da498426a0c",
   "metadata": {},
   "source": [
    "**Exemplo:** escrever arquivo binário."
   ]
  },
  {
   "cell_type": "code",
   "execution_count": 18,
   "id": "f076867a-deb7-4419-9d22-18e9a691f832",
   "metadata": {},
   "outputs": [],
   "source": [
    "# modo 'wb'\n",
    "with open('../etc/logo-icd-part.pdf','wb') as f:\n",
    "    f.write(pdf[:200])    "
   ]
  },
  {
   "cell_type": "code",
   "execution_count": 19,
   "id": "1bd4ab3d-706a-473a-8bda-0eb7f1814f76",
   "metadata": {},
   "outputs": [
    {
     "data": {
      "text/html": [
       "\n",
       "        <iframe\n",
       "            width=\"500\"\n",
       "            height=\"500\"\n",
       "            src=\"../etc/logo-icd-part.pdf\"\n",
       "            frameborder=\"0\"\n",
       "            allowfullscreen\n",
       "        ></iframe>\n",
       "        "
      ],
      "text/plain": [
       "<IPython.lib.display.IFrame at 0x7ff712901310>"
      ]
     },
     "execution_count": 19,
     "metadata": {},
     "output_type": "execute_result"
    }
   ],
   "source": [
    "from IPython.display import IFrame\n",
    "IFrame('../etc/logo-icd-part.pdf',width=500,height=500)"
   ]
  },
  {
   "cell_type": "markdown",
   "id": "d3c179c7-2b82-4ffd-b214-9de9f5f9f559",
   "metadata": {},
   "source": [
    "Discussão:\n",
    "- O conteúdo parcial tomado da string de _bytes_ `'pdf'` é escrito em um segundo arquivo.\n",
    "- Ao ler o conteúdo e tentar visualizá-lo, um erro será lançado. Isto é naturalmente esperado, visto que a sequência de bytes está danificada.\n",
    "\n",
    "\n",
    "```{warning}\n",
    "Tente reproduzir este exemplo com o Jupyter Notebook executando localmente em sua máquina. Em alguns navegadores, o livro online pode não reproduzir esta pré-visualização.\n",
    "```"
   ]
  },
  {
   "cell_type": "markdown",
   "id": "f55981d6-b3ad-41e6-abb3-1f78be856c1d",
   "metadata": {},
   "source": [
    "### Como evitar sobrescrição acidental \n",
    "\n",
    "Quando temos um arquivo existente no disco e operamos com escrita de arquivos com nomes similares, é altamente provável que sobrescrevamos o conteúdo daquele arquivo acidentalmente. Para evitar este problema, podemos usar o modo `'x'`, que garante a \"exclusividade\" do arquivo existente."
   ]
  },
  {
   "cell_type": "markdown",
   "id": "84b1f0d6-a13e-46ad-a8f2-518138c499a2",
   "metadata": {},
   "source": [
    "**Exemplo:** escrever arquivo em modo de \"exclusividade\"."
   ]
  },
  {
   "cell_type": "code",
   "execution_count": 20,
   "id": "cfdc1f20-ace1-44b2-9869-3bacf15b442b",
   "metadata": {},
   "outputs": [
    {
     "ename": "FileExistsError",
     "evalue": "[Errno 17] File exists: '../etc/lista.txt'",
     "output_type": "error",
     "traceback": [
      "\u001b[0;31m---------------------------------------------------------------------------\u001b[0m",
      "\u001b[0;31mFileExistsError\u001b[0m                           Traceback (most recent call last)",
      "\u001b[0;32m<ipython-input-20-692bb94f1e63>\u001b[0m in \u001b[0;36m<module>\u001b[0;34m\u001b[0m\n\u001b[0;32m----> 1\u001b[0;31m \u001b[0;32mwith\u001b[0m \u001b[0mopen\u001b[0m\u001b[0;34m(\u001b[0m\u001b[0;34m'../etc/lista.txt'\u001b[0m\u001b[0;34m,\u001b[0m\u001b[0;34m'x'\u001b[0m\u001b[0;34m)\u001b[0m \u001b[0;32mas\u001b[0m \u001b[0mf\u001b[0m\u001b[0;34m:\u001b[0m\u001b[0;34m\u001b[0m\u001b[0;34m\u001b[0m\u001b[0m\n\u001b[0m\u001b[1;32m      2\u001b[0m     \u001b[0mprint\u001b[0m\u001b[0;34m(\u001b[0m\u001b[0;34m'???'\u001b[0m\u001b[0;34m,\u001b[0m\u001b[0mfile\u001b[0m\u001b[0;34m=\u001b[0m\u001b[0mf\u001b[0m\u001b[0;34m)\u001b[0m \u001b[0;31m# mesmo objeto f\u001b[0m\u001b[0;34m\u001b[0m\u001b[0;34m\u001b[0m\u001b[0m\n",
      "\u001b[0;31mFileExistsError\u001b[0m: [Errno 17] File exists: '../etc/lista.txt'"
     ]
    }
   ],
   "source": [
    "with open('../etc/lista.txt','x') as f:\n",
    "    print('???',file=f) # mesmo objeto f"
   ]
  },
  {
   "cell_type": "markdown",
   "id": "e4c5ab6d-4c5d-411d-b9d8-223e1e11b20a",
   "metadata": {},
   "source": [
    "Discussão:\n",
    "- Tentamos escrever outro conteúdo para o arquivo `lista.txt`, o que geraria uma sobrescrição de seu conteúdo original. \n",
    "- Utilizando o modo `'x'`, o interpretador se encarrega de verificar se o arquivo existe e só permite que a operação seja concluída em caso negativo.\n",
    "- Como o arquivo existe no disco, um erro de `FileExistsError` é lançado.\n",
    "- O próximo exemplo é bem-sucedido, visto que `lista-3.txt` não existe ainda no disco."
   ]
  },
  {
   "cell_type": "code",
   "execution_count": 21,
   "id": "53a13289-2eed-4f97-a428-e582e3b3ee6d",
   "metadata": {},
   "outputs": [
    {
     "name": "stdout",
     "output_type": "stream",
     "text": [
      "OK!\n"
     ]
    }
   ],
   "source": [
    "with open('../etc/lista-3.txt','x') as f:\n",
    "    print('OK!',file=f) # mesmo objeto f\n",
    "    \n",
    "!cat ../etc/lista-3.txt    "
   ]
  },
  {
   "cell_type": "code",
   "execution_count": 22,
   "id": "5b450791-eaad-4f1b-a8e0-7e6b83b5b717",
   "metadata": {},
   "outputs": [],
   "source": [
    "# remove o arquivo para reproduzir teste\n",
    "!rm ../etc/lista-3.txt"
   ]
  },
  {
   "cell_type": "code",
   "execution_count": 23,
   "id": "5ce87c42-68f7-41b2-80e2-40a1e5e6281a",
   "metadata": {},
   "outputs": [
    {
     "name": "stdout",
     "output_type": "stream",
     "text": [
      "cat: ../etc/lista-3.txt: No such file or directory\n"
     ]
    }
   ],
   "source": [
    "# verifica remoção\n",
    "!cat ../etc/lista-3.txt   "
   ]
  },
  {
   "cell_type": "markdown",
   "id": "299bd3bd-d223-4d89-a0d1-f1968be7fc60",
   "metadata": {},
   "source": [
    "#### Testando a existência de arquivos\n",
    "\n",
    "Uma forma de verificar a existência de arquivos no disco é valer-se do módulo `os` – discutiremos um pouco sobre este módulo à frente –. O exemplo a seguir praticamente alcança o mesmo objetivo que o modo `'x'` ao checar a pré-existência de arquivos."
   ]
  },
  {
   "cell_type": "code",
   "execution_count": 24,
   "id": "67909759-a887-4ba1-a38d-3a1af7daa60e",
   "metadata": {},
   "outputs": [
    {
     "name": "stdout",
     "output_type": "stream",
     "text": [
      "O arquivo não existe! Pé na tábua! 8) \n"
     ]
    }
   ],
   "source": [
    "from os.path import exists\n",
    "\n",
    "if exists('../etc/lista-3.txt'):\n",
    "    print('O arquivo existe... Pé no freio... :( ')\n",
    "else:\n",
    "    print('O arquivo não existe! Pé na tábua! 8) ')"
   ]
  },
  {
   "cell_type": "markdown",
   "id": "452005d0-ada4-4936-9b0e-abac79f88e26",
   "metadata": {},
   "source": [
    "```{note}\n",
    "O módulo [`os`](https://docs.python.org/3/library/os.html?highlight=os%20module#module-os) fornece meios poderosos para navegar pelo sistema operacional e é bastante útil na leitura e escrita de arquivos.\n",
    "```"
   ]
  },
  {
   "cell_type": "markdown",
   "id": "bebbd950-c66b-4aa6-b587-efb469a48ae7",
   "metadata": {},
   "source": [
    "### Leitura e escrita de arquivos comprimidos\n",
    "\n",
    "A [compressão de dados](https://en.wikipedia.org/wiki/Data_compression) baseia-se em reduzir a quantidade de _bits_ utilizadas para armazenar os dados, mas assegurar a sua integridade genuína. \n",
    "\n",
    "Em Python, temos à disposição, por exemplo, os módulos [`bz2`](https://docs.python.org/3/library/bz2.html) e [`gzip`](https://docs.python.org/3/library/gzip.html) para operar com arquivos comprimidos. Ambos são baseados na biblioteca [zlib](https://www.zlib.net). A seguir, veremos exemplos de como podemos manipular arquivos comprimidos."
   ]
  },
  {
   "cell_type": "markdown",
   "id": "0ae94dce-1d03-4005-8da5-5951079a7887",
   "metadata": {},
   "source": [
    "**Exemplo:** escrever arquivos comprimidos."
   ]
  },
  {
   "cell_type": "code",
   "execution_count": 25,
   "id": "03474de6-63bd-4402-b91b-a9e029ab9025",
   "metadata": {},
   "outputs": [],
   "source": [
    "# sem compressão\n",
    "with open('../etc/texto.txt','w') as f:\n",
    "    f.write('[]'*500000)\n",
    "\n",
    "# compressão com bz2\n",
    "import bz2\n",
    "with bz2.open('../etc/texto.bz2','w') as f:\n",
    "    f.write(b'[]'*500000) # deve ser string de bytes\n",
    "    \n",
    "# compressão com gzip\n",
    "import gzip\n",
    "with bz2.open('../etc/texto.gz','w') as f:\n",
    "    f.write(b'[]'*500000) # deve ser string de bytes      "
   ]
  },
  {
   "cell_type": "code",
   "execution_count": 26,
   "id": "dee00d63-7dc9-4edb-9cff-e51f2430529c",
   "metadata": {},
   "outputs": [
    {
     "name": "stdout",
     "output_type": "stream",
     "text": [
      "-rw-r--r--@ 1 gustavo  staff       73 Aug 30 23:07 ../etc/texto.bz2\n",
      "-rw-r--r--@ 1 gustavo  staff       73 Aug 30 23:07 ../etc/texto.gz\n",
      "-rw-r--r--@ 1 gustavo  staff  1000000 Aug 30 23:07 ../etc/texto.txt\n"
     ]
    }
   ],
   "source": [
    "! ls -l ../etc/texto.*"
   ]
  },
  {
   "cell_type": "markdown",
   "id": "8cb149f4-7dab-4896-9eda-189dd68d0ff1",
   "metadata": {},
   "source": [
    "Comentários:\n",
    "- Note a diferença no tamanho dos arquivos. A taxa de compressão é gigantesca! Os arquivos comprimidos possuem 73 _bytes_ de tamanho, ao passo que o não comprimido possui 1.000.000 de _bytes_ (1 MB) de tamanho.\n",
    "- Para realizarmos a leitura dos arquivos, basta alterar o modo de `'w'` para `'r'`."
   ]
  },
  {
   "cell_type": "markdown",
   "id": "f7e64dbd-a7ea-4114-8244-a432eed060e3",
   "metadata": {},
   "source": [
    "## O módulo `os`\n",
    "\n",
    "Ao trabalharmos com leitura e escrita de arquivos, é importante saber navegar pelo sistema operacional, ou listando diretórios, ou criando arquivos em lote, ou buscando por extensões específicas. Com o módulo [`os`](https://docs.python.org/3/library/os.html?highlight=os%20module#module-os), podemos realizar uma série de operações para manipular caminhos de arquivos. Nosso propósito não é abranger todas as funções do módulo, mas introduzir você ao assunto. "
   ]
  },
  {
   "cell_type": "markdown",
   "id": "8bd39120-de2e-49dc-8be2-7a290c049468",
   "metadata": {},
   "source": [
    "**Exemplo:** manipular caminhos para coletar informações de diretórios."
   ]
  },
  {
   "cell_type": "code",
   "execution_count": 27,
   "id": "4696091d-06ed-4ae4-a419-608fe21833e5",
   "metadata": {},
   "outputs": [],
   "source": [
    "import os\n",
    "\n",
    "arq = '../database/bras-cubas.txt'"
   ]
  },
  {
   "cell_type": "code",
   "execution_count": 28,
   "id": "364ad870-f70a-4240-b55b-1f16f9c420cc",
   "metadata": {},
   "outputs": [
    {
     "data": {
      "text/plain": [
       "'bras-cubas.txt'"
      ]
     },
     "execution_count": 28,
     "metadata": {},
     "output_type": "execute_result"
    }
   ],
   "source": [
    "# última parte do caminho\n",
    "os.path.basename(arq)"
   ]
  },
  {
   "cell_type": "code",
   "execution_count": 29,
   "id": "18d521a4-f470-45ca-a9ef-34c442c66dc7",
   "metadata": {},
   "outputs": [
    {
     "data": {
      "text/plain": [
       "'../database'"
      ]
     },
     "execution_count": 29,
     "metadata": {},
     "output_type": "execute_result"
    }
   ],
   "source": [
    "# diretório\n",
    "os.path.dirname(arq)"
   ]
  },
  {
   "cell_type": "code",
   "execution_count": 30,
   "id": "94f1616e-ccc2-41a3-bc11-96676a609318",
   "metadata": {},
   "outputs": [
    {
     "data": {
      "text/plain": [
       "'pasta/subpasta/bras-cubas.txt'"
      ]
     },
     "execution_count": 30,
     "metadata": {},
     "output_type": "execute_result"
    }
   ],
   "source": [
    "# cria caminho unindo partes\n",
    "os.path.join('pasta','subpasta',os.path.basename(arq))"
   ]
  },
  {
   "cell_type": "code",
   "execution_count": 31,
   "id": "916474d2-e34e-44de-9699-daadee9f4d3f",
   "metadata": {},
   "outputs": [
    {
     "data": {
      "text/plain": [
       "('../database/bras-cubas', '.txt')"
      ]
     },
     "execution_count": 31,
     "metadata": {},
     "output_type": "execute_result"
    }
   ],
   "source": [
    "# separa basename e extensão\n",
    "os.path.splitext(arq)"
   ]
  },
  {
   "cell_type": "code",
   "execution_count": 32,
   "id": "b51d844b-8ad7-4030-8422-3cdbcf758b05",
   "metadata": {},
   "outputs": [
    {
     "data": {
      "text/plain": [
       "('../database', 'bras-cubas.txt')"
      ]
     },
     "execution_count": 32,
     "metadata": {},
     "output_type": "execute_result"
    }
   ],
   "source": [
    "# separa pasta e nome\n",
    "os.path.split(arq)"
   ]
  },
  {
   "cell_type": "markdown",
   "id": "1df35f8e-38a2-4f6b-9293-0bfb655f045f",
   "metadata": {},
   "source": [
    "**Exemplo:** realizar testes para verificar tipos de arquivo."
   ]
  },
  {
   "cell_type": "code",
   "execution_count": 33,
   "id": "cb130aba-3d1f-4e89-87d5-08654c2bba12",
   "metadata": {},
   "outputs": [
    {
     "data": {
      "text/plain": [
       "True"
      ]
     },
     "execution_count": 33,
     "metadata": {},
     "output_type": "execute_result"
    }
   ],
   "source": [
    "# testa se é arquivo\n",
    "os.path.isfile('../etc/velha-log.txt')"
   ]
  },
  {
   "cell_type": "code",
   "execution_count": 34,
   "id": "e3b2e122-c2d0-437f-97bb-8e9e51c06a03",
   "metadata": {},
   "outputs": [
    {
     "data": {
      "text/plain": [
       "False"
      ]
     },
     "execution_count": 34,
     "metadata": {},
     "output_type": "execute_result"
    }
   ],
   "source": [
    "# testa se é diretório\n",
    "os.path.isdir('../etc/icd.yml')"
   ]
  },
  {
   "cell_type": "markdown",
   "id": "8074c282-e8ff-40c6-827c-6a1c5a7088f1",
   "metadata": {},
   "source": [
    "Comentários:\n",
    "- Com o submódulo `os.path`, podemos acessar praticamente toda a hierarquia de arquivos e diretórios no sistema operacional."
   ]
  },
  {
   "cell_type": "markdown",
   "id": "88e9f51b-ac42-4b3f-9bd9-81d3a3277379",
   "metadata": {},
   "source": [
    "#### Coletando metadados de arquivos\n",
    "\n",
    "Metadados dos arquivos, tais como tamanho e data de modificação, podem ser obtidos por meio do módulo `os` também."
   ]
  },
  {
   "cell_type": "markdown",
   "id": "37c02dbd-e0b7-4b6d-9b1b-aa686ea4a9db",
   "metadata": {},
   "source": [
    "**Exemplo:** obtendo tamanho do arquivo."
   ]
  },
  {
   "cell_type": "code",
   "execution_count": 35,
   "id": "b24e4fc7-17fb-4df3-bf55-e27164fd92c7",
   "metadata": {},
   "outputs": [
    {
     "data": {
      "text/plain": [
       "23496"
      ]
     },
     "execution_count": 35,
     "metadata": {},
     "output_type": "execute_result"
    }
   ],
   "source": [
    "# no. de bytes\n",
    "os.path.getsize('../etc/logo-icd.pdf') "
   ]
  },
  {
   "cell_type": "code",
   "execution_count": 36,
   "id": "dcd92752-0c57-4d72-8109-f4da371dfa3b",
   "metadata": {},
   "outputs": [
    {
     "data": {
      "text/plain": [
       "'Fri Aug 27 23:26:13 2021'"
      ]
     },
     "execution_count": 36,
     "metadata": {},
     "output_type": "execute_result"
    }
   ],
   "source": [
    "import time\n",
    "time.ctime(os.path.getmtime('../etc/logo-icd.pdf'))"
   ]
  },
  {
   "cell_type": "markdown",
   "id": "d10c7722-bd44-476b-bfd6-770052728f4a",
   "metadata": {},
   "source": [
    "Discussão:\n",
    "- A função `getmtime` retorna a informação temporal da última modificação do arquivo especificado. \n",
    "- O módulo `time` fornece funções para manipular quantidades em unidade de tempo.\n",
    "- A função `ctime` converte uma medida de tempo em segundos para uma _string_ de data/hora de acordo com as configurações locais da máquina. "
   ]
  },
  {
   "cell_type": "markdown",
   "id": "217c2040-9d75-4192-8f76-988ff016e89a",
   "metadata": {},
   "source": [
    "**Exemplo:** listar diretórios."
   ]
  },
  {
   "cell_type": "code",
   "execution_count": 37,
   "id": "5f3a3efc-d6ce-488f-80de-8a0c90e0b366",
   "metadata": {},
   "outputs": [
    {
     "data": {
      "text/plain": [
       "['velha-log.txt',\n",
       " 'texto.bz2',\n",
       " 'texto.txt',\n",
       " 'icd.yml',\n",
       " 'texto.gz',\n",
       " 'logo-icd-part.pdf',\n",
       " '.ipynb_checkpoints',\n",
       " 'lista-2.txt',\n",
       " 'lista.txt',\n",
       " 'logo-icd.pdf']"
      ]
     },
     "execution_count": 37,
     "metadata": {},
     "output_type": "execute_result"
    }
   ],
   "source": [
    "os.listdir('../etc/')"
   ]
  },
  {
   "cell_type": "markdown",
   "id": "e94786d0-f093-4802-be08-96cdb8e74f7c",
   "metadata": {
    "tags": []
   },
   "source": [
    "**Exemplo:** buscar por todos os arquivos comuns em um diretório."
   ]
  },
  {
   "cell_type": "code",
   "execution_count": 38,
   "id": "9b9d9c62-19ff-48bf-bccd-69f1864fcc10",
   "metadata": {
    "tags": []
   },
   "outputs": [
    {
     "data": {
      "text/plain": [
       "['velha-log.txt',\n",
       " 'texto.bz2',\n",
       " 'texto.txt',\n",
       " 'icd.yml',\n",
       " 'texto.gz',\n",
       " 'logo-icd-part.pdf',\n",
       " 'lista-2.txt',\n",
       " 'lista.txt',\n",
       " 'logo-icd.pdf']"
      ]
     },
     "execution_count": 38,
     "metadata": {},
     "output_type": "execute_result"
    }
   ],
   "source": [
    "pasta = '../etc/'\n",
    "arqs = [a for a in os.listdir(pasta)\n",
    "       if os.path.isfile(os.path.join(pasta,a))]\n",
    "arqs"
   ]
  },
  {
   "cell_type": "markdown",
   "id": "b440b346-03cc-4289-af62-0e69a9c05449",
   "metadata": {},
   "source": [
    "**Exemplo:** buscar por todos os diretórios."
   ]
  },
  {
   "cell_type": "code",
   "execution_count": 39,
   "id": "6848e080-308a-47cd-be97-5d6dc978a03d",
   "metadata": {},
   "outputs": [
    {
     "data": {
      "text/plain": [
       "['database',\n",
       " 'papers',\n",
       " 'figs',\n",
       " 'etc',\n",
       " 'ipynb',\n",
       " 'todo',\n",
       " '_build',\n",
       " '.ipynb_checkpoints',\n",
       " '.git',\n",
       " 'rise']"
      ]
     },
     "execution_count": 39,
     "metadata": {},
     "output_type": "execute_result"
    }
   ],
   "source": [
    "pasta = '../'\n",
    "dirs = [a for a in os.listdir(pasta)\n",
    "       if os.path.isdir(os.path.join(pasta,a))]\n",
    "dirs"
   ]
  },
  {
   "cell_type": "markdown",
   "id": "10ef10c1-f0cc-49f2-bb43-0d4009e66062",
   "metadata": {},
   "source": [
    "**Exemplo:** buscar por todos os arquivos de uma dada extensão."
   ]
  },
  {
   "cell_type": "code",
   "execution_count": 40,
   "id": "71edbc3b-649b-4bdd-93aa-92e2271d14a9",
   "metadata": {},
   "outputs": [
    {
     "data": {
      "text/plain": [
       "['velha-log.txt', 'texto.txt', 'lista-2.txt', 'lista.txt']"
      ]
     },
     "execution_count": 40,
     "metadata": {},
     "output_type": "execute_result"
    }
   ],
   "source": [
    "# lista apenas .txt\n",
    "txts = [a for a in os.listdir('../etc/')\n",
    "       if a.endswith('.txt')]\n",
    "txts"
   ]
  },
  {
   "cell_type": "markdown",
   "id": "f2adcc48-44f0-4a60-8b48-2e6603a661ea",
   "metadata": {},
   "source": [
    "## Codificação e decodificação de caracteres"
   ]
  },
  {
   "cell_type": "markdown",
   "id": "632aa14b-8441-493c-bb71-28ccb8bf0c7d",
   "metadata": {},
   "source": [
    "Os caracteres que vemos impressos na tela de um dispositivo digital são apenas símbolos renderizados, isto é \"marcas\". Como sabemos, um computador entende apenas uma linguagem binária. Isto significa que antes de um caracter ser mostrado exatamente como esperamos, digamos, em uma \"tela\", é necessário que ele seja processado, grosso modo, por duas \"camadas abstratas\". A camada de armazenamento, que associa um número binário ao caracter e a camada textual, que usa _pontos de código_.\n",
    "\n",
    "Existem vários sistemas de codificação de caracteres. Alguns bem conhecidos são: ASCII, ISO-8859, CP-1252 e UTF-8. Entretanto, atualmente, o sistema UTF-8 se destaca. No passado, devido à diferença de sistemas de codificação, o número que representava um caracter em um sistema não era o mesmo em outro sistema. Por isso, o padrão [[Unicode]](https://home.unicode.org) foi proposto para definir um único número para cada caracter independentemente de plataforma, programa ou linguagem. Portanto, hoje em dia, a melhor definição de caracter que existe é a de um _caracter Unicode_.\n",
    "\n",
    "A identidade de um caracter Unicode é o seu _ponto de código_ (_code point_), um número de 0 a 1.114.111 (em base 10) mostrado no padrão Unicode. O padrão Unicode é formado por 4 a 6 dígitos hexadecimais seguidos do prefixo \"U+\". A tabela abaixo mostra alguns exemplos de caracteres, seu ponto de código e nome no padrão Unicode.\n",
    "\n",
    "|Caracter|Ponto de código|Nome Unicode|\n",
    "|---|---|---|\n",
    "|â|U+00E2|LATIN SMALL LETTER A WITH CIRCUMFLEX|\n",
    "|ݔ|U+0754|ARABIC LETTER BEH WITH TWO DOTS BELOW AND DOT ABOVE|\n",
    "|😛|U+1F61B|FACE WITH STUCK-OUT TONGUE|\n",
    "|ぎ|U+304E|HIRAGANA LETTER GI|\n",
    "\n",
    "Para imprimir em tela caracteres Unicode como os da tabela acima, temos duas maneiras:\n",
    "\n",
    "- usando uma _string Unicode_ hexadecimal de 32-bits, em cujo caso escrevemos uma string iniciada por `\\U` acompanhada de 8 caracteres. Os últimos caracteres correspondem ao ponto de código e as posições anteriores são preenchidas com 0. Neste caso, os caracteres acima poderiam ser impressos com:\n",
    "\n",
    "```python\n",
    "'\\U000000E2','\\U00000754','\\U0001f61b','\\U0000304e'\n",
    "```\n",
    "\n",
    "- usando o nome Unicode do caracter, em cujo caso escrevemos uma string iniciada por `\\N` e acompanhada do nome exato encontrada nas tabelas Unicode confinado entre chaves. Neste caso, os caracteres acima poderiam ser impressos com:\n",
    "\n",
    "```python\n",
    "'\\N{LATIN SMALL LETTER A WITH CIRCUMFLEX}',\n",
    "'\\N{ARABIC LETTER BEH WITH TWO DOTS BELOW AND DOT ABOVE}',\n",
    "'\\N{FACE WITH STUCK-OUT TONGUE}',\n",
    "'\\N{HIRAGANA LETTER GI}'\n",
    "```\n",
    "\n",
    "Todos os caracteres Unicode são encontrados em tabelas, as chamadas [[_Code Charts_]](https://www.unicode.org/charts/).\n"
   ]
  },
  {
   "cell_type": "markdown",
   "id": "b837b893-0522-4d5b-b070-91e06e81d649",
   "metadata": {},
   "source": [
    "### _bytes_ x texto\n",
    "\n",
    "A conversão de pontos de código em _bytes_ é chamada de _codificação_, ou _encoding_, ao passo que  a conversão de _bytes_ em pontos de código é chamada de _decodificação_, ou _decoding_."
   ]
  },
  {
   "cell_type": "markdown",
   "id": "0206311d-1e7f-4eb9-80ee-627d1ad9c53f",
   "metadata": {},
   "source": [
    "**Exemplo:** codificação e decodificação."
   ]
  },
  {
   "cell_type": "code",
   "execution_count": 41,
   "id": "5ad75b2b-c74c-4c72-a691-0b99d04ee940",
   "metadata": {},
   "outputs": [
    {
     "data": {
      "text/plain": [
       "4"
      ]
     },
     "execution_count": 41,
     "metadata": {},
     "output_type": "execute_result"
    }
   ],
   "source": [
    "s = 'balé'\n",
    "len(s)"
   ]
  },
  {
   "cell_type": "code",
   "execution_count": 42,
   "id": "94386966-f4e9-436b-8278-23a7735d52f4",
   "metadata": {},
   "outputs": [
    {
     "data": {
      "text/plain": [
       "b'bal\\xc3\\xa9'"
      ]
     },
     "execution_count": 42,
     "metadata": {},
     "output_type": "execute_result"
    }
   ],
   "source": [
    "b = s.encode('utf8')\n",
    "b"
   ]
  },
  {
   "cell_type": "code",
   "execution_count": 43,
   "id": "46dd0669-9801-4d88-97a4-ba922e2300cb",
   "metadata": {},
   "outputs": [
    {
     "data": {
      "text/plain": [
       "5"
      ]
     },
     "execution_count": 43,
     "metadata": {},
     "output_type": "execute_result"
    }
   ],
   "source": [
    "# caracter 'é' representado por dois bytes\n",
    "# \\xc3 e \\xa9\n",
    "len(b)"
   ]
  },
  {
   "cell_type": "code",
   "execution_count": 44,
   "id": "1a2ad457-003b-4b31-8d4d-8e431fd83db4",
   "metadata": {},
   "outputs": [
    {
     "data": {
      "text/plain": [
       "'balé'"
      ]
     },
     "execution_count": 44,
     "metadata": {},
     "output_type": "execute_result"
    }
   ],
   "source": [
    "b.decode('utf8')"
   ]
  },
  {
   "cell_type": "markdown",
   "id": "a9cff024-426f-424e-8e63-00e5c5ef08bf",
   "metadata": {},
   "source": [
    "Discussão:\n",
    "\n",
    "- `encode` leva o texto para _bytes_.\n",
    "- `b'` é uma string literal de _bytes_.\n",
    "- `bal` está no intervalo ASCII imprimível, enquanto que `\\xc3` e `\\xa9` não.\n",
    "- `decode` leva de _bytes_ para texto."
   ]
  },
  {
   "cell_type": "markdown",
   "id": "beef209a-a47f-4112-bae4-86c8db4ee308",
   "metadata": {},
   "source": [
    "Comentários:\n",
    "\n",
    "- O próprio caracter ASCII é usado para _bytes_ no intevalo imprimível.\n",
    "- Para _bytes_ correspndendo ao TAB, _newline_, _carriage return_ e '\\', as sequências de escape `\\t`, `\\n`, `\\r` e `\\\\` são usadas.\n",
    "- Para qualquer outro _byte_, usa-se uma sequência de escape hexadecimal."
   ]
  },
  {
   "cell_type": "markdown",
   "id": "c2cbb33a-1545-4de9-8858-5e595aba5d8a",
   "metadata": {},
   "source": [
    "**Exemplo**: decodificação para outros sistemas."
   ]
  },
  {
   "cell_type": "code",
   "execution_count": 45,
   "id": "15182515-6b6b-4abe-bb61-b19151749314",
   "metadata": {},
   "outputs": [
    {
     "ename": "UnicodeDecodeError",
     "evalue": "'ascii' codec can't decode byte 0xc3 in position 3: ordinal not in range(128)",
     "output_type": "error",
     "traceback": [
      "\u001b[0;31m---------------------------------------------------------------------------\u001b[0m",
      "\u001b[0;31mUnicodeDecodeError\u001b[0m                        Traceback (most recent call last)",
      "\u001b[0;32m<ipython-input-45-036775282faf>\u001b[0m in \u001b[0;36m<module>\u001b[0;34m\u001b[0m\n\u001b[1;32m      1\u001b[0m \u001b[0;31m# erro!\u001b[0m\u001b[0;34m\u001b[0m\u001b[0;34m\u001b[0m\u001b[0;34m\u001b[0m\u001b[0m\n\u001b[1;32m      2\u001b[0m \u001b[0;31m# 'é' não é ASCII\u001b[0m\u001b[0;34m\u001b[0m\u001b[0;34m\u001b[0m\u001b[0;34m\u001b[0m\u001b[0m\n\u001b[0;32m----> 3\u001b[0;31m \u001b[0ms\u001b[0m\u001b[0;34m.\u001b[0m\u001b[0mencode\u001b[0m\u001b[0;34m(\u001b[0m\u001b[0;34m)\u001b[0m\u001b[0;34m.\u001b[0m\u001b[0mdecode\u001b[0m\u001b[0;34m(\u001b[0m\u001b[0;34m'ascii'\u001b[0m\u001b[0;34m)\u001b[0m\u001b[0;34m\u001b[0m\u001b[0;34m\u001b[0m\u001b[0m\n\u001b[0m",
      "\u001b[0;31mUnicodeDecodeError\u001b[0m: 'ascii' codec can't decode byte 0xc3 in position 3: ordinal not in range(128)"
     ]
    }
   ],
   "source": [
    "# erro! \n",
    "# 'é' não é ASCII\n",
    "s.encode().decode('ascii')"
   ]
  },
  {
   "cell_type": "code",
   "execution_count": 46,
   "id": "33c434d7-224d-49eb-98c8-7ae15db836cb",
   "metadata": {},
   "outputs": [
    {
     "data": {
      "text/plain": [
       "'balÃ©'"
      ]
     },
     "execution_count": 46,
     "metadata": {},
     "output_type": "execute_result"
    }
   ],
   "source": [
    "s.encode().decode('iso8859')"
   ]
  },
  {
   "cell_type": "code",
   "execution_count": 47,
   "id": "b8fda0ed-97ed-4a0d-a950-4b6e1ad9311c",
   "metadata": {},
   "outputs": [
    {
     "data": {
      "text/plain": [
       "'balÃ©'"
      ]
     },
     "execution_count": 47,
     "metadata": {},
     "output_type": "execute_result"
    }
   ],
   "source": [
    "s.encode().decode('cp1252')"
   ]
  },
  {
   "cell_type": "markdown",
   "id": "4d5e1746-c851-4770-b6c7-a411a565abd5",
   "metadata": {},
   "source": [
    "## Referências complementares\n",
    "\n",
    "- [Módulo `os`](https://docs.python.org/3/library/os.html?highlight=os%20module#module-os)\n",
    "- [Unicode HOWTO](https://docs.python.org/3/howto/unicode.html)\n",
    "- [Nam & Fischer, Character Encoding & Unicode - How to (╯°□°）╯︵ ┻━┻ with dignity](https://www.slideshare.net/fischertrav/character-encoding-unicode-how-to-with-dignity-33352863)"
   ]
  }
 ],
 "metadata": {
  "kernelspec": {
   "display_name": "Python 3",
   "language": "python",
   "name": "python3"
  },
  "language_info": {
   "codemirror_mode": {
    "name": "ipython",
    "version": 3
   },
   "file_extension": ".py",
   "mimetype": "text/x-python",
   "name": "python",
   "nbconvert_exporter": "python",
   "pygments_lexer": "ipython3",
   "version": "3.8.8"
  }
 },
 "nbformat": 4,
 "nbformat_minor": 5
}
