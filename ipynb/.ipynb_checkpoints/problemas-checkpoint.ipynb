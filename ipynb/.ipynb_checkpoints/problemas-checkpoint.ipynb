{
 "cells": [
  {
   "cell_type": "markdown",
   "id": "fbaca92d-f4b2-4efe-81ea-b233d39ab92a",
   "metadata": {},
   "source": [
    "# Problemas propostos"
   ]
  },
  {
   "cell_type": "markdown",
   "id": "b405bdf2-6d90-42fd-b28d-f1cb72a32f29",
   "metadata": {},
   "source": [
    "## Gematria \n",
    "\n",
    "Converta os caracteres hebraicos de uma string em seus valores numéricos correspondentes e busque por padrões na sequência."
   ]
  },
  {
   "cell_type": "code",
   "execution_count": 24,
   "id": "33d3a6b8-356b-4b60-aa3c-31ad79d3d588",
   "metadata": {},
   "outputs": [],
   "source": [
    "# integer range from Unicode\n",
    "a,b = map(lambda x: int(x,16),('0x05d0','0x05eb'))\n",
    "\n",
    "# hex\n",
    "hexi = [hex(i) for i in range(a,b)]\n",
    "\n",
    "# unicode\n",
    "char = [chr(i) for i in range(a,b)]\n",
    "\n",
    "# gematry number\n",
    "numb = list(range(1,10)) + list(range(10,100,10)) + list(range(100,1000,100))\n",
    "\n",
    "# letter name\n",
    "name = [\n",
    "    'Alef',\n",
    "    'Bet',\n",
    "    'Gimel',\n",
    "    'Dalet',\n",
    "    'He',\n",
    "    'Vav',\n",
    "    'Zayin',\n",
    "    'Het',\n",
    "    'Tet',\n",
    "    'Yod',\n",
    "    'Final Kaf',\n",
    "    'Kaf',\n",
    "    'Lamed',\n",
    "    'Final Mem',\n",
    "    'Mem',\n",
    "    'Final Nun',\n",
    "    'Nun',\n",
    "    'Samekh',\n",
    "    'Ayin',\n",
    "    'Final Pe',\n",
    "    'Pe',\n",
    "    'Final Tsadi',\n",
    "    'Tsadi',\n",
    "    'Qof',\n",
    "    'Resh',\n",
    "    'Shin',\n",
    "    'Tav',]\n",
    "\n",
    "cn = list(zip(name,numb,char))\n",
    "\n",
    "# Hebrew dictionary \n",
    "# key as hex\n",
    "dheb_hex = dict(zip(hexi,cn))\n",
    "\n",
    "cn = list(zip(hexi,numb,char))\n",
    "\n",
    "# key as name\n",
    "dheb = dict(zip(name,cn))\n"
   ]
  },
  {
   "cell_type": "code",
   "execution_count": 79,
   "id": "00dee878-eee4-4803-9a9b-3e1209ad61a8",
   "metadata": {},
   "outputs": [],
   "source": [
    "# \"to make many books, there is no limit\"\n",
    "phrase = 'עשות ספרים הרבה אין קץ'\n",
    "\n",
    "# convert from byte mode to hex\n",
    "hext = [p.encode().hex() for p in phrase]\n",
    "\n",
    "# filter to purge whitespace \n",
    "hextf = list(filter(lambda x: x != '20',hext))\n",
    "\n",
    "# não é o mesmo hex!!!\n",
    "hextf = ['0x' + h for h in hextf]"
   ]
  },
  {
   "cell_type": "markdown",
   "id": "d6773cbd-d763-4d59-a074-c4775f7b34fa",
   "metadata": {},
   "source": [
    "## Imagens oftalmológicas\n",
    "\n",
    "Buscando pigmentações predominantes em imagens de ceratometria"
   ]
  },
  {
   "cell_type": "code",
   "execution_count": 87,
   "id": "44162b64-6a00-44dc-a3bd-51fdd17a6346",
   "metadata": {},
   "outputs": [
    {
     "data": {
      "text/plain": [
       "numpy.ndarray"
      ]
     },
     "execution_count": 87,
     "metadata": {},
     "output_type": "execute_result"
    }
   ],
   "source": [
    "import skimage as ski\n",
    "import skimage.io as skio\n",
    "\n",
    "img = skio.imread('../database/eyes/SyntEyeKTC-106_a-net.png')"
   ]
  },
  {
   "cell_type": "code",
   "execution_count": 122,
   "id": "3ee9a2f0-aa86-44d6-9d00-b31f626f420c",
   "metadata": {},
   "outputs": [],
   "source": [
    "import numpy as np\n",
    "\n",
    "A = np.zeros((np.shape(img)[0]*np.shape(img)[1],3))\n",
    "\n",
    "for i in [0,1,2]:\n",
    "    A[:,i] = img[:,:,i].flatten()\n",
    "    \n",
    "A = A/255"
   ]
  },
  {
   "cell_type": "code",
   "execution_count": null,
   "id": "12592cd6-927a-4248-86b4-f06a76e1b0fc",
   "metadata": {},
   "outputs": [],
   "source": []
  }
 ],
 "metadata": {
  "kernelspec": {
   "display_name": "Python 3",
   "language": "python",
   "name": "python3"
  },
  "language_info": {
   "codemirror_mode": {
    "name": "ipython",
    "version": 3
   },
   "file_extension": ".py",
   "mimetype": "text/x-python",
   "name": "python",
   "nbconvert_exporter": "python",
   "pygments_lexer": "ipython3",
   "version": "3.8.8"
  }
 },
 "nbformat": 4,
 "nbformat_minor": 5
}
