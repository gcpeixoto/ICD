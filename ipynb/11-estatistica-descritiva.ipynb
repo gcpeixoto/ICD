{
 "cells": [
  {
   "cell_type": "markdown",
   "id": "9ca0c8a6-f2bf-4a18-8ba6-0f1e13ff563d",
   "metadata": {},
   "source": [
    "# Estatística Descritiva\n",
    "\n",
    "Estatística é um domínio do conhecimento que se preocupar em compreender dados. Ela se ampara solidamente em métodos matemáticos e pode ser dividida em dois ramos: i) _estatística inferencial_, que se preocupa em tirar conclusões dos dados analisados, e ii) _estatística descritiva_, que procura apenas descrever dados quantitativamente valendo-se de conceitos como \"amostra\" e \"população\" e apresentado os dados de modo gerenciável. \n",
    "\n",
    "## População e amostra\n",
    "\n",
    "Uma _população_ é uma coleção de objetos, ou unidades, sobre a qual a informação é procurada. Uma _amostra_ é uma parte da população observada.\n",
    "\n",
    "## Análise de dados exploratória\n",
    "\n",
    "Dados extraídos a partir de medições realizadas em amostras representativas constituem o que chamamos de _observações_. Medições e categorias representam uma _distribuição amostral_ de uma certa variável, as quais podem ser usadas para representar aproximadamente a _distribuição populacional_ dessa variável. O papel da análise de dados exploratória é dar subsídios para visualizar e resumir distribuições amostrais de modo que possamos levantar hipóteses sobre a população envolvida."
   ]
  },
  {
   "cell_type": "markdown",
   "id": "a4b3dee3-54e6-477e-a2fb-0913fb183026",
   "metadata": {},
   "source": [
    "## Descrição de dados"
   ]
  },
  {
   "cell_type": "markdown",
   "id": "0e19a1fd-07a6-4bfc-9a75-a33481dd9715",
   "metadata": {},
   "source": [
    "Neste capítulo, apresentaremos vários métodos desenvolvidos para *Series* e *DataFrames* relacionados à Estatística Descritiva. Começaremos importando as bibliotecas *pandas* e *numpy*."
   ]
  },
  {
   "cell_type": "code",
   "execution_count": 1,
   "id": "b390ebb5-6c07-447e-8399-4ee72441de1d",
   "metadata": {},
   "outputs": [],
   "source": [
    "import numpy as np\n",
    "import pandas as pd"
   ]
  },
  {
   "cell_type": "markdown",
   "id": "c25b44c4-de1e-4771-a74a-8a0de7144e1a",
   "metadata": {
    "slideshow": {
     "slide_type": "slide"
    }
   },
   "source": [
    "### Distribuição de frequência\n",
    "\n",
    "Uma distribuição de frequência é uma tabela que contém um resumo das observações. A distribuição é organizada em uma tabela que contém   _intervalos de classe (grupos)_ e _frequências_ correspondentes.\n",
    "\n",
    "```{note}\n",
    "Intervalos de classe são formados por um limite inferior L e um superior S. Eles costumam ser expressos por um \"T\" horizontal, em que $L \\vdash S$ indica o intervalo $[L,S)$.\n",
    "```"
   ]
  },
  {
   "cell_type": "markdown",
   "id": "1ad7d109-66a1-43fe-8788-7a02f0dd448c",
   "metadata": {
    "slideshow": {
     "slide_type": "slide"
    }
   },
   "source": [
    "Abaixo vemos um exemplo simplificado de tabela de distribuição de frequência (número de alunos) e intervalos de classe de alturas para uma amostra de alunos.\n",
    "\n",
    "| Altura (m) | No. de alunos | \n",
    "| :-------------: |:-------------:| \n",
    "|1,50 $|-$ 1,60   | 5 | \n",
    "| 1,60 $|-$ 1,70   | 15     |   \n",
    "| 1,70 $|-$ 1,80   | 17      |   \n",
    "| 1,80 $|-$ 1,90    | 3      |   \n",
    "| Total    | 40      |"
   ]
  },
  {
   "cell_type": "markdown",
   "id": "243e18db-c864-4f06-9613-863f44ec93a7",
   "metadata": {
    "slideshow": {
     "slide_type": "slide"
    }
   },
   "source": [
    "#### Construção de uma distribuição de frequência\n",
    "\n",
    "Para ilustrar como se constrói uma distribuição de frequência, vamos considerar um exemplo específico. Suponha que uma pesquisa foi feita e o seguinte conjunto de dados foi obtido:\n",
    "\n",
    "**Dados Brutos**: 24-23-22-28-35-21-23-33-34-24-21-25-36-26-22-30-32-25-26-33-34-21-31-25-31-26-25-35-33-31."
   ]
  },
  {
   "cell_type": "code",
   "execution_count": 2,
   "id": "4cee5e5e-34c5-40e6-a853-6d9bd7e24846",
   "metadata": {},
   "outputs": [],
   "source": [
    "dados = [24,23,22,28,35,21,23,33,34,24,21,25,36,26,22,30,32,25,26,33,34,21,31,25,31,26,25,35,33,31]"
   ]
  },
  {
   "cell_type": "markdown",
   "id": "4eb889f6-bb07-4084-9655-1ceea591d3b4",
   "metadata": {
    "slideshow": {
     "slide_type": "slide"
    }
   },
   "source": [
    "#### Rol de dados\n",
    "\n",
    "A primeira coisa a fazer é ordenar os dados do menor para o maior, formando o *rol de dados*:\n",
    "\n",
    "**Rol de dados**: 21-21-21-22-22-23-23-24-25-25-25-25-26-26-26-28-30-31-31-31-32-33-33-33-34-34-34-35-35-36."
   ]
  },
  {
   "cell_type": "code",
   "execution_count": 3,
   "id": "a36fec8e-cfb2-4bd5-99b1-44b49a6304e1",
   "metadata": {},
   "outputs": [
    {
     "data": {
      "text/plain": [
       "array([21, 21, 21, 22, 22, 23, 23, 24, 24, 25, 25, 25, 25, 26, 26, 26, 28,\n",
       "       30, 31, 31, 31, 32, 33, 33, 33, 34, 34, 35, 35, 36])"
      ]
     },
     "execution_count": 3,
     "metadata": {},
     "output_type": "execute_result"
    }
   ],
   "source": [
    "np.sort(dados)"
   ]
  },
  {
   "cell_type": "markdown",
   "id": "5816c0a8-4bb2-4126-9c35-3de9072a92f8",
   "metadata": {
    "slideshow": {
     "slide_type": "slide"
    }
   },
   "source": [
    "#### Amplitude total\n",
    "\n",
    "Em seguida, calculamos a *amplitude total* $R$ pela diferença entre o maior $M$ e menor $m$ valores obtidos na amostra.\n",
    "\n",
    "$$R = M - m$$\n",
    "\n",
    "Para o caso acima, $R = 36-21 = 15$."
   ]
  },
  {
   "cell_type": "code",
   "execution_count": 4,
   "id": "fd9abb56-95f0-49e0-b0a3-cfb121a941c9",
   "metadata": {},
   "outputs": [
    {
     "data": {
      "text/plain": [
       "15"
      ]
     },
     "execution_count": 4,
     "metadata": {},
     "output_type": "execute_result"
    }
   ],
   "source": [
    "R = np.max(dados) - np.min(dados); R"
   ]
  },
  {
   "cell_type": "markdown",
   "id": "addf0e1c-bc74-46c6-ab17-f8da9f4a8385",
   "metadata": {
    "slideshow": {
     "slide_type": "slide"
    }
   },
   "source": [
    "#### Tamanho Amostral\n",
    "\n",
    "Vamos calcular agora o tamanho amostral, ou seja, o número de observações obtidas na amostra."
   ]
  },
  {
   "cell_type": "code",
   "execution_count": 5,
   "id": "b82a93ca-27db-47b5-b9bb-bbabae2623ad",
   "metadata": {},
   "outputs": [
    {
     "data": {
      "text/plain": [
       "30"
      ]
     },
     "execution_count": 5,
     "metadata": {},
     "output_type": "execute_result"
    }
   ],
   "source": [
    "n = len(dados); n"
   ]
  },
  {
   "cell_type": "markdown",
   "id": "5a8fc673-1224-47de-98ff-f0dc18b7261c",
   "metadata": {},
   "source": [
    "Para *Series* e *DataFrames*, podemos usar o método `count()` para retornar o tamanho amostral."
   ]
  },
  {
   "cell_type": "code",
   "execution_count": 6,
   "id": "a4ef0ba6-3306-47a0-afc1-747920fd918e",
   "metadata": {},
   "outputs": [
    {
     "data": {
      "text/plain": [
       "30"
      ]
     },
     "execution_count": 6,
     "metadata": {},
     "output_type": "execute_result"
    }
   ],
   "source": [
    "n = pd.Series(dados).count(); n"
   ]
  },
  {
   "cell_type": "markdown",
   "id": "eed12f0e-afe3-4fd8-b38f-38a65099fec3",
   "metadata": {},
   "source": [
    "#### Distribuições e histogramas \n",
    "\n",
    "Para ter uma visão ampla sobre a distribuição de frequências para o nosso conjunto de dados, podemos plotar o histograma com `plot.hist` diretamente a partir da _Series_ de dados. "
   ]
  },
  {
   "cell_type": "code",
   "execution_count": 7,
   "id": "1e346509-1d57-49be-9bb4-5040956037e0",
   "metadata": {},
   "outputs": [
    {
     "data": {
      "image/png": "[encoded data removed]",
      "text/plain": [
       "<Figure size 432x288 with 1 Axes>"
      ]
     },
     "metadata": {
      "needs_background": "light"
     },
     "output_type": "display_data"
    }
   ],
   "source": [
    "d = pd.Series(dados);\n",
    "d.plot.hist(color='#1b3ac9',alpha=0.8);"
   ]
  },
  {
   "cell_type": "markdown",
   "id": "55eafdbe-fd7e-4a21-b9e3-95b6430e2532",
   "metadata": {},
   "source": [
    "#### Número de classes e _binning_ \n",
    "\n",
    "A divisão das amostras em intervalos de classe pode ser chamada de _binning_. _Bin_ é o termo utilizado para uma barra vertical no histograma. Por padrão, `plot.hist` usa 10 bins.\n",
    "\n",
    "Há mais de uma forma de definir o *número de (intervalos) de classe* $K$. A seguir, temos duas regras práticas de decisão:\n",
    "\n",
    "- Regra 1: $K=5$, para $n\\leq 25$ e $K \\approx \\sqrt{n}$, para $n>25$. \n",
    "- Regra 2 (Fórmula de Sturges): $K\\approx 1 + 3,22\\log n$. \n",
    "\n",
    "Vamos aplicá-las aos nossos dados:"
   ]
  },
  {
   "cell_type": "code",
   "execution_count": 8,
   "id": "254576d4-7f1b-4965-bd28-89cfb1a180a6",
   "metadata": {
    "slideshow": {
     "slide_type": "slide"
    }
   },
   "outputs": [],
   "source": [
    "# binning usando np.ceil\n",
    "def binning(d,rule='standard'):       \n",
    "    \n",
    "    if isinstance(d,list): d = np.array(d)\n",
    "    n = len(d)            \n",
    "    \n",
    "    if rule == 'standard':\n",
    "        if n <= 25: K = 5\n",
    "        else: K = int(np.ceil(np.sqrt(n)))\n",
    "            \n",
    "    if rule == 'sturges': \n",
    "        K = int(np.ceil(1 + 3.22*np.log10(n)))\n",
    "\n",
    "    return K"
   ]
  },
  {
   "cell_type": "code",
   "execution_count": 9,
   "id": "aad5f089-bf20-40b9-9f7a-dbe1b3c87664",
   "metadata": {},
   "outputs": [
    {
     "data": {
      "text/plain": [
       "(6, 6)"
      ]
     },
     "execution_count": 9,
     "metadata": {},
     "output_type": "execute_result"
    }
   ],
   "source": [
    "K1,K2 = binning(dados,rule='standard'), binning(dados,rule='sturges'); \n",
    "K1,K2"
   ]
  },
  {
   "cell_type": "markdown",
   "id": "a902b9cd-b5fc-4235-867e-beb541d6572c",
   "metadata": {},
   "source": [
    "Uma vez que ambos os valores são iguais, podemos tomar $K = K_1 = K_2 = 6$ e plotar o histograma especificando `bins`."
   ]
  },
  {
   "cell_type": "code",
   "execution_count": 54,
   "id": "e6436212-1533-4dcd-af11-b7c53e14bb47",
   "metadata": {},
   "outputs": [
    {
     "data": {
      "image/png": "[encoded data removed]",
      "text/plain": [
       "<Figure size 432x288 with 1 Axes>"
      ]
     },
     "metadata": {
      "needs_background": "light"
     },
     "output_type": "display_data"
    }
   ],
   "source": [
    "K = K1\n",
    "d.plot.hist(bins=K,color='#1b3ac9',alpha=0.8,edgecolor='w');"
   ]
  },
  {
   "cell_type": "markdown",
   "id": "7ad32857-c350-40db-bc49-92c599d4980e",
   "metadata": {
    "slideshow": {
     "slide_type": "slide"
    }
   },
   "source": [
    "#### Amplitude das classes\n",
    "\n",
    "Para determinar o comprimento de cada intervalo, ou seja, a amplitude de cada classe $h$, podemos adotar uma divisão uniforme, de modo que:\n",
    "\n",
    "$$h=\\frac{R}{K}$$"
   ]
  },
  {
   "cell_type": "code",
   "execution_count": 11,
   "id": "9eddfeaf-9ba3-41fa-85b3-82676481751d",
   "metadata": {},
   "outputs": [
    {
     "data": {
      "text/plain": [
       "3.0"
      ]
     },
     "execution_count": 11,
     "metadata": {},
     "output_type": "execute_result"
    }
   ],
   "source": [
    "h = np.ceil(R/K); h"
   ]
  },
  {
   "cell_type": "markdown",
   "id": "b59692be-24a1-4c8a-90a7-998dbd827307",
   "metadata": {
    "slideshow": {
     "slide_type": "slide"
    }
   },
   "source": [
    "#### Limites das classes\n",
    "\n",
    "Os *limites das classes* são estabelecidos da seguinte forma. Começando a partir do menor valor obtido da amostra, ou equivalentemente, o primeiro valor do *rol de dados*, somamos a amplitude de maneira progressiva. Dessa maneira, as seguintes classes serão obtidas.\n",
    "    \n",
    "| Classes |    \n",
    "| :-------------:\n",
    "| 21 $|-$ 24 |\n",
    "| 24 $|-$ 27 |  \n",
    "| 27 $|-$ 30 |  \n",
    "| 30 $|-$ 33 | \n",
    "| 33 $|-$ 36 |  \n",
    "| 36 $|-$ 39 | "
   ]
  },
  {
   "cell_type": "code",
   "execution_count": 12,
   "id": "77e18927-6528-4328-b9be-0ac25e6e89f5",
   "metadata": {},
   "outputs": [
    {
     "data": {
      "text/plain": [
       "[21, 24, 27, 30, 33, 36, 39]"
      ]
     },
     "execution_count": 12,
     "metadata": {},
     "output_type": "execute_result"
    }
   ],
   "source": [
    "bin_ = [np.min(dados) + i*h.astype('int') for i in range(K+1)]; \n",
    "bin_"
   ]
  },
  {
   "cell_type": "markdown",
   "id": "cd2add8c-33c3-4a24-8e4b-9d8b06c7954f",
   "metadata": {
    "slideshow": {
     "slide_type": "slide"
    }
   },
   "source": [
    "#### Frequência dos dados\n",
    "\n",
    "Ao calcular a frequência de cada intervalo, a chamada _frequência absoluta_, montamos a seguinte tabela de _distribuição de frequências_ será obtida. \n",
    "\n",
    "| Classes |   Frequência |\n",
    "| :-------------:| :-------------:|\n",
    "| 21 $|\\!-$ 24 | 7 |\n",
    "| 24 $|\\!-$ 27 | 9 |  \n",
    "| 27 $|\\!-$ 30 | 1 |  \n",
    "| 30 $|\\!-$ 33 | 5 | \n",
    "| 33 $|\\!-$ 36 | 7 | \n",
    "| 36 $|\\!-$ 39 | 1 | \n",
    "\n",
    "No *pandas*, a função `cut` cria classes a partir dos dados e o método `value_counts()` cria uma tabela de frequências."
   ]
  },
  {
   "cell_type": "code",
   "execution_count": 13,
   "id": "71a5324c-a9e7-4fd2-bff0-85d1a41f769e",
   "metadata": {},
   "outputs": [
    {
     "data": {
      "text/plain": [
       "[[24, 27), [21, 24), [21, 24), [27, 30), [33, 36), ..., [24, 27), [24, 27), [33, 36), [33, 36), [30, 33)]\n",
       "Length: 30\n",
       "Categories (6, interval[int64]): [[21, 24) < [24, 27) < [27, 30) < [30, 33) < [33, 36) < [36, 39)]"
      ]
     },
     "execution_count": 13,
     "metadata": {},
     "output_type": "execute_result"
    }
   ],
   "source": [
    "T = pd.cut(dados, bins=bin_, right=False)\n",
    "T"
   ]
  },
  {
   "cell_type": "code",
   "execution_count": 14,
   "id": "d64b09e7-f090-456b-9418-ecda64216de9",
   "metadata": {},
   "outputs": [
    {
     "data": {
      "text/plain": [
       "array([1, 0, 0, 2, 4, 0, 0, 4, 4, 1, 0, 1, 5, 1, 0, 3, 3, 1, 1, 4, 4, 0,\n",
       "       3, 1, 3, 1, 1, 4, 4, 3], dtype=int8)"
      ]
     },
     "execution_count": 14,
     "metadata": {},
     "output_type": "execute_result"
    }
   ],
   "source": [
    "# labels\n",
    "T.codes"
   ]
  },
  {
   "cell_type": "code",
   "execution_count": 15,
   "id": "bf6d1e1a-f372-492f-b5b5-01fc79de1d3b",
   "metadata": {},
   "outputs": [
    {
     "data": {
      "text/plain": [
       "IntervalIndex([[21, 24), [24, 27), [27, 30), [30, 33), [33, 36), [36, 39)],\n",
       "              closed='left',\n",
       "              dtype='interval[int64]')"
      ]
     },
     "execution_count": 15,
     "metadata": {},
     "output_type": "execute_result"
    }
   ],
   "source": [
    "# categorias\n",
    "T.categories"
   ]
  },
  {
   "cell_type": "code",
   "execution_count": 16,
   "id": "4c834dfa-fcff-43c1-854e-9d19455adc33",
   "metadata": {},
   "outputs": [
    {
     "data": {
      "text/plain": [
       "[21, 24)    7\n",
       "[24, 27)    9\n",
       "[27, 30)    1\n",
       "[30, 33)    5\n",
       "[33, 36)    7\n",
       "[36, 39)    1\n",
       "dtype: int64"
      ]
     },
     "execution_count": 16,
     "metadata": {},
     "output_type": "execute_result"
    }
   ],
   "source": [
    "# tabela de frequências\n",
    "T.value_counts() "
   ]
  },
  {
   "cell_type": "markdown",
   "id": "b30d6f3c-6dfd-4d56-b2ed-3ed637352dd7",
   "metadata": {},
   "source": [
    "### Aplicações a testes aleatórios"
   ]
  },
  {
   "cell_type": "code",
   "execution_count": 17,
   "id": "27cbfb99-9eba-41b5-96af-f4868145df5f",
   "metadata": {},
   "outputs": [],
   "source": [
    "# função genérica\n",
    "def random_test(ns, dist='rand',binMethod='standard'):        \n",
    "    if isinstance(ns,int): vals = '(' + str(ns) + ')'\n",
    "    elif isinstance(ns,tuple): vals = str(ns)\n",
    "    \n",
    "    z = eval('np.random.' + dist + vals)    \n",
    "    T = pd.cut(z,bins=binning(z,binMethod), right=False)\n",
    "    return pd.Series(z), T.value_counts()"
   ]
  },
  {
   "cell_type": "markdown",
   "id": "5df7bcb9-bbd9-4b76-b2ae-097717d72157",
   "metadata": {},
   "source": [
    "- Números randômicos"
   ]
  },
  {
   "cell_type": "code",
   "execution_count": 18,
   "id": "8874781f-9077-4f5a-8f36-8f532cbd5c96",
   "metadata": {},
   "outputs": [
    {
     "data": {
      "text/plain": [
       "[0.00406, 0.103)    10\n",
       "[0.103, 0.201)      10\n",
       "[0.201, 0.3)        10\n",
       "[0.3, 0.399)         8\n",
       "[0.399, 0.498)       9\n",
       "[0.498, 0.596)      15\n",
       "[0.596, 0.695)       7\n",
       "[0.695, 0.794)      12\n",
       "[0.794, 0.892)      12\n",
       "[0.892, 0.992)       7\n",
       "dtype: int64"
      ]
     },
     "execution_count": 18,
     "metadata": {},
     "output_type": "execute_result"
    },
    {
     "data": {
      "image/png": "[encoded data removed]",
      "text/plain": [
       "<Figure size 432x288 with 1 Axes>"
      ]
     },
     "metadata": {
      "needs_background": "light"
     },
     "output_type": "display_data"
    }
   ],
   "source": [
    "z1,T1 = random_test(100, dist='rand',binMethod='standard')\n",
    "z1.plot.hist(); T1"
   ]
  },
  {
   "cell_type": "code",
   "execution_count": 19,
   "id": "3860e7f1-a3e2-46d2-8417-7220811c43fc",
   "metadata": {},
   "outputs": [
    {
     "data": {
      "text/plain": [
       "[0.00687, 0.124)    18\n",
       "[0.124, 0.241)       5\n",
       "[0.241, 0.358)      13\n",
       "[0.358, 0.475)      15\n",
       "[0.475, 0.592)      11\n",
       "[0.592, 0.709)      13\n",
       "[0.709, 0.826)      11\n",
       "[0.826, 0.944)      14\n",
       "dtype: int64"
      ]
     },
     "execution_count": 19,
     "metadata": {},
     "output_type": "execute_result"
    },
    {
     "data": {
      "image/png": "[encoded data removed]",
      "text/plain": [
       "<Figure size 432x288 with 1 Axes>"
      ]
     },
     "metadata": {
      "needs_background": "light"
     },
     "output_type": "display_data"
    }
   ],
   "source": [
    "z2,T2 = random_test(100, dist='rand',binMethod='sturges')\n",
    "z2.plot.hist(); T2"
   ]
  },
  {
   "cell_type": "markdown",
   "id": "8485794c-dc89-4e74-97f5-08ba814bd787",
   "metadata": {},
   "source": [
    "- Distribuição normal"
   ]
  },
  {
   "cell_type": "code",
   "execution_count": 20,
   "id": "6d2d6e57-d2d4-4ab1-83d9-3929235e06cd",
   "metadata": {},
   "outputs": [
    {
     "data": {
      "text/plain": [
       "[-2.281, -1.696)     4\n",
       "[-1.696, -1.111)    10\n",
       "[-1.111, -0.525)    10\n",
       "[-0.525, 0.0598)    21\n",
       "[0.0598, 0.645)     25\n",
       "[0.645, 1.23)       16\n",
       "[1.23, 1.816)        9\n",
       "[1.816, 2.401)       4\n",
       "[2.401, 2.986)       0\n",
       "[2.986, 3.577)       1\n",
       "dtype: int64"
      ]
     },
     "execution_count": 20,
     "metadata": {},
     "output_type": "execute_result"
    },
    {
     "data": {
      "image/png": "[encoded data removed]",
      "text/plain": [
       "<Figure size 432x288 with 1 Axes>"
      ]
     },
     "metadata": {
      "needs_background": "light"
     },
     "output_type": "display_data"
    }
   ],
   "source": [
    "z3,T3 = random_test((0,1,100), dist='normal',binMethod='standard')\n",
    "z3.plot.hist(); T3"
   ]
  },
  {
   "cell_type": "code",
   "execution_count": 21,
   "id": "07176cc8-fac7-42c3-97e7-56700ddeca58",
   "metadata": {},
   "outputs": [
    {
     "data": {
      "text/plain": [
       "[-2.391, -1.724)     1\n",
       "[-1.724, -1.057)    12\n",
       "[-1.057, -0.391)    18\n",
       "[-0.391, 0.276)     24\n",
       "[0.276, 0.943)      24\n",
       "[0.943, 1.61)       13\n",
       "[1.61, 2.277)        7\n",
       "[2.277, 2.949)       1\n",
       "dtype: int64"
      ]
     },
     "execution_count": 21,
     "metadata": {},
     "output_type": "execute_result"
    },
    {
     "data": {
      "image/png": "[encoded data removed]",
      "text/plain": [
       "<Figure size 432x288 with 1 Axes>"
      ]
     },
     "metadata": {
      "needs_background": "light"
     },
     "output_type": "display_data"
    }
   ],
   "source": [
    "z4,T4 = random_test((0,1,100), dist='normal',binMethod='sturges')\n",
    "z4.plot.hist(); T4"
   ]
  },
  {
   "cell_type": "markdown",
   "id": "45d96c0a-2562-48f3-9b01-dd257be0cdb6",
   "metadata": {
    "slideshow": {
     "slide_type": "slide"
    }
   },
   "source": [
    "## Medidas de Tendência Central\n",
    "\n",
    "As _medidas de tendência central_ (ou de centralidade) são as mais importantes de uma classe maior chamada de _medidas de posição_. Elas representam a tendência de concentração dos dados observados. A seguir, exploraremos algumas medidas de tendência central."
   ]
  },
  {
   "cell_type": "markdown",
   "id": "c5a97e52-1fc1-4334-8614-01bf2f15fbff",
   "metadata": {
    "slideshow": {
     "slide_type": "slide"
    }
   },
   "source": [
    "### Média\n",
    "\n",
    "Quantidade que tem por característica dar um \"resumo\" para o conjunto de dados. A média $\\overline{X}$ é obtida a partir de todos os elementos da distribuição e do tamanho da amostra. \n",
    "\n",
    "Calculamos a média aritmética pela fórmula:\n",
    "\n",
    "$$\\overline{X}=\\sum_{i=1}^{n}\\frac{X_i}{n}.$$"
   ]
  },
  {
   "cell_type": "markdown",
   "id": "c663a24c-af6a-4852-9994-a7ebc77e3239",
   "metadata": {
    "slideshow": {
     "slide_type": "slide"
    }
   },
   "source": [
    "\n",
    "Para *Series* e *DataFrames* o método `mean()` retorna a média dos valores."
   ]
  },
  {
   "cell_type": "code",
   "execution_count": 22,
   "id": "710be7ea-261c-4fc8-9754-b0dd7428263a",
   "metadata": {},
   "outputs": [
    {
     "data": {
      "text/plain": [
       "27.833333333333332"
      ]
     },
     "execution_count": 22,
     "metadata": {},
     "output_type": "execute_result"
    }
   ],
   "source": [
    "pd.Series(dados).mean()"
   ]
  },
  {
   "cell_type": "markdown",
   "id": "25dc9004-9222-43a6-8574-56cc618bb4ca",
   "metadata": {
    "slideshow": {
     "slide_type": "slide"
    }
   },
   "source": [
    "### Moda\n",
    "\n",
    "Definimos a moda $Mo$ de um conjunto de dados como o valor mais frequente deste conjunto. \n",
    "\n",
    "Exemplos:\n",
    "\n",
    "* $\\{1, 2, 4, 5, 8\\}$. Não há moda (amodal).\n",
    "* $\\{2, 2, 3, 7, 8\\}$. Para esta amostra, $Mo$ = 2 (unimodal).\n",
    "* $\\{1, 1, 10, 5, 5, 8, 7, 2\\}$. Para esta amostra, $Mo$ = 1 e $Mo=$5 (bimodal). \n",
    "\n",
    "Para _Series_ e _DataFrames_, o método `mode()` retorna a moda dos valores."
   ]
  },
  {
   "cell_type": "code",
   "execution_count": 23,
   "id": "6866e0a1-a912-40f6-80db-6c9ccd344235",
   "metadata": {
    "slideshow": {
     "slide_type": "slide"
    }
   },
   "outputs": [
    {
     "data": {
      "text/plain": [
       "0    25\n",
       "dtype: int64"
      ]
     },
     "execution_count": 23,
     "metadata": {},
     "output_type": "execute_result"
    }
   ],
   "source": [
    "pd.Series(dados).mode()"
   ]
  },
  {
   "cell_type": "code",
   "execution_count": 24,
   "id": "8a26d2c9-2c50-4c56-ba34-4c2e77162d39",
   "metadata": {},
   "outputs": [
    {
     "data": {
      "text/plain": [
       "0    2\n",
       "1    4\n",
       "dtype: int64"
      ]
     },
     "execution_count": 24,
     "metadata": {},
     "output_type": "execute_result"
    }
   ],
   "source": [
    "pd.Series([1,2,2,2,3,4,4,4,5]).mode()"
   ]
  },
  {
   "cell_type": "code",
   "execution_count": 25,
   "id": "850991dc-83ce-47f8-91be-4fac6beae64f",
   "metadata": {},
   "outputs": [
    {
     "data": {
      "text/plain": [
       "0    -2.391123\n",
       "1    -1.698127\n",
       "2    -1.671712\n",
       "3    -1.669090\n",
       "4    -1.480987\n",
       "        ...   \n",
       "95    1.957551\n",
       "96    1.959265\n",
       "97    2.039529\n",
       "98    2.056235\n",
       "99    2.943437\n",
       "Length: 100, dtype: float64"
      ]
     },
     "execution_count": 25,
     "metadata": {},
     "output_type": "execute_result"
    }
   ],
   "source": [
    "z4.mode()"
   ]
  },
  {
   "cell_type": "markdown",
   "id": "c5197049-7a51-4004-a06e-a80f3562e878",
   "metadata": {
    "slideshow": {
     "slide_type": "slide"
    }
   },
   "source": [
    "### Mediana\n",
    "\n",
    "A mediana $Md$ é o valor que divide o *rol de dados* em duas partes com a mesma quantidade de dados. O *elemento mediano*, $E_{Md}$, é a posição no *rol de dados* onde a mediana está localizada.  \n",
    "\n",
    "Se o tamanho amostral $n$ é ímpar, temos que $E_{Md} = \\frac{(n+1)}{2}$; se par, dois valores são possíveis, $\\frac{n}{2}$ e $\\frac{n}{2}+1$. No último caso, a mediana será a média dos valores assumidos nestas posições."
   ]
  },
  {
   "cell_type": "markdown",
   "id": "8709ac48-3f91-4645-a6e3-3e688458e0c4",
   "metadata": {
    "slideshow": {
     "slide_type": "slide"
    }
   },
   "source": [
    "Exemplos:\n",
    "\n",
    "- $\\{1, 2, 4, 5, 8\\}$. Como $n$ é ímpar, $E_{Md} = 3$, e $Md = 4$.\n",
    "\n",
    "- $\\{2, 2, 4, 7, 8, 10\\}$. Aqui, $n$ é par. Assim, $E_{\\rm  Md,1} = \\frac{6}{2} = 3$ e $E_{\\rm Md,2} = \\frac{6}{2}+1 = 4$. Daí ${ Md} = \\frac{4+7}{2} = 5,5$.\n",
    "    \n",
    "* Para Series e DataFrames o método `median()` retorna a mediana dos valores."
   ]
  },
  {
   "cell_type": "code",
   "execution_count": 26,
   "id": "e964a8e0-26f1-4df3-aba5-078ee9a91deb",
   "metadata": {},
   "outputs": [
    {
     "data": {
      "text/plain": [
       "26.0"
      ]
     },
     "execution_count": 26,
     "metadata": {},
     "output_type": "execute_result"
    }
   ],
   "source": [
    "pd.Series(dados).median()"
   ]
  },
  {
   "cell_type": "code",
   "execution_count": 27,
   "id": "7fb23462-424e-45b8-97cf-f40c4fab7ea8",
   "metadata": {},
   "outputs": [
    {
     "data": {
      "text/plain": [
       "0.45838862597368923"
      ]
     },
     "execution_count": 27,
     "metadata": {},
     "output_type": "execute_result"
    }
   ],
   "source": [
    "z2.median()"
   ]
  },
  {
   "cell_type": "markdown",
   "id": "3490ceac-04ca-4117-8d31-b0e79afd8f2d",
   "metadata": {},
   "source": [
    "## Quantis e percentis\n",
    "\n",
    "Quantis e percentis são utilizados para compreender os dados sob a perspectiva de \"partes\". Por exemplo, dado o rol de dados $ d = \\{x_i\\}$ com $n$ valores, procuramos pelo valor $x_p$ que divide o rol em partes regulares. O valor $x_p$ é o $p$-ésimo _quantil_, ou o $100 \\times p$-ésimo percentil. Em particular, $x_p = d[I_p]$, onde $I_p$ é o índice (número inteiro) para o quantil no rol de dados.\n",
    "\n",
    "Os seguintes nomes são usados na prática: \n",
    "\n",
    "- _Percentis_ variam no intervalo 0 a 100.\n",
    "- _Quartis_ variam no intervalo 0 a 4.\n",
    "- _Quantis_ variam de qualquer valor para outro. \n",
    "\n",
    "Entretanto, outras definições existem: os 3-quantis são chamados de _tercis_, os 5-quantis são chamados de _quintis_, os 12-quantis são chamados de _duo-deciles_, e assim por diante.\n",
    "\n",
    "Uma tabela de correspondência útil para compreensão é a seguinte: \n",
    "\n",
    "- 0-percentil = 0-quartil = menor valor do rol de dados\n",
    "- 25-percentil = 1-quartil\n",
    "- 50-percentil = 2-quartil = mediana\n",
    "- 75-percentil = 3-quartil\n",
    "- 100-percentil = 4-quartil = máximo valor do rol de dados \n",
    "\n",
    "Como se vê, a mediana é o 50-percentil. Isto significa que ela representa o valor que está abaixo de 50% dos valores no rol de dados. Quantis, por sua vez, são uma generalização da mediana. \n",
    "\n",
    "O código abaixo retorna o $p$-percentil de um rol de dados. "
   ]
  },
  {
   "cell_type": "code",
   "execution_count": 28,
   "id": "27d5076a-b83a-44f0-bd2a-f21d62570ae9",
   "metadata": {},
   "outputs": [],
   "source": [
    "# 0 < p < 1\n",
    "def quantil(d,p):\n",
    "    I_p = int(p*len(d))\n",
    "    return sorted(d)[I_p]"
   ]
  },
  {
   "cell_type": "markdown",
   "id": "e4e5c5a9-3d7e-42a7-99f3-abeb3e534bda",
   "metadata": {},
   "source": [
    "Por exemplo, para o nosso conjunto:"
   ]
  },
  {
   "cell_type": "code",
   "execution_count": 29,
   "id": "8c195ad7-7618-462a-8c7f-9d065f7c2898",
   "metadata": {},
   "outputs": [
    {
     "name": "stdout",
     "output_type": "stream",
     "text": [
      "[21, 21, 21, 22, 22, 23, 23, 24, 24, 25, 25, 25, 25, 26, 26, 26, 28, 30, 31, 31, 31, 32, 33, 33, 33, 34, 34, 35, 35, 36]\n"
     ]
    }
   ],
   "source": [
    "print(sorted(d),sep=',')"
   ]
  },
  {
   "cell_type": "code",
   "execution_count": 30,
   "id": "013b8a0a-0a78-4529-bac0-cbd95f112774",
   "metadata": {},
   "outputs": [
    {
     "data": {
      "text/plain": [
       "(21, 24, 26, 33, 35)"
      ]
     },
     "execution_count": 30,
     "metadata": {},
     "output_type": "execute_result"
    }
   ],
   "source": [
    "quantil(d,0.0),quantil(d,0.25),quantil(d,0.5),quantil(d,0.75),quantil(d,0.9)"
   ]
  },
  {
   "cell_type": "markdown",
   "id": "e272c5f1-9615-4784-a979-6063eca22d05",
   "metadata": {},
   "source": [
    "Comentário: \n",
    "\n",
    "- A mediana é o valor $x_{1/2} = 26$. Ou seja, $p= 1/2 = 0.5$. Isto equivale a dizer que a mediana é o $1/2$-quantil ou $100 \\times 1/2 = 50$-percentil.  \n",
    "- Para $p=1/4$, temos o $1/4$-quantil ou $100 \\times 1/4 = 25$-percentil. Este valor equivale a $x_{1/4} = 24$.\n",
    "- 24 é o primeiro quartil do rol, ou seja, 25% dos valores do rol são menores do que 24.\n",
    "- 33 é o terceiro quartil do rol, ou seja, 75% dos valores do rol são menores do que 33.\n",
    "\n",
    "```{note}\n",
    "Para saber mais sobre a terminologia estatística \"x-is\", veja a tabela do Apêndice A deste artigo de [[Nicholas J. Cox]](https://www.doi.org/10.1177/1536867X1601600413).\n",
    "```\n",
    "\n",
    "O _pandas_ possui a função `quantile` para calcular os quantis que desejarmos."
   ]
  },
  {
   "cell_type": "code",
   "execution_count": 31,
   "id": "14a68b81-139a-416c-a083-8c5a4bf62eb6",
   "metadata": {},
   "outputs": [
    {
     "data": {
      "text/plain": [
       "0.21890696593274928"
      ]
     },
     "execution_count": 31,
     "metadata": {},
     "output_type": "execute_result"
    }
   ],
   "source": [
    "z1.quantile(0.22)"
   ]
  },
  {
   "cell_type": "code",
   "execution_count": 32,
   "id": "56114dcb-1679-4f43-859a-624e5adb5c6f",
   "metadata": {},
   "outputs": [
    {
     "data": {
      "text/plain": [
       "0.25   -0.600232\n",
       "0.50    0.208658\n",
       "0.75    0.808281\n",
       "dtype: float64"
      ]
     },
     "execution_count": 32,
     "metadata": {},
     "output_type": "execute_result"
    }
   ],
   "source": [
    "# 1-, 2-, e 3-quartis\n",
    "z4.quantile([0.25,0.5,0.75])"
   ]
  },
  {
   "cell_type": "code",
   "execution_count": 33,
   "id": "7b308d38-b6d6-4b89-b6c7-324c18bbb475",
   "metadata": {},
   "outputs": [
    {
     "data": {
      "text/plain": [
       "0.33    0.306155\n",
       "0.66    0.620944\n",
       "dtype: float64"
      ]
     },
     "execution_count": 33,
     "metadata": {},
     "output_type": "execute_result"
    }
   ],
   "source": [
    "# 1-, 2- tercis\n",
    "z2.quantile([0.33,0.66])"
   ]
  },
  {
   "cell_type": "markdown",
   "id": "9c7dfef8-c701-4589-8b62-8b3340c4a4bc",
   "metadata": {
    "slideshow": {
     "slide_type": "slide"
    }
   },
   "source": [
    "## Medidas de Dispersão\n",
    "\n",
    "\n",
    "As medidas de dispersão medem o grau de variabilidade dos elementos de uma distribuição. O valor zero indica ausência de dispersão. As principais medidas de dispersão incluem: *amplitude*, *desvio médio*, *variância* e *desvio padrão*."
   ]
  },
  {
   "cell_type": "markdown",
   "id": "8a6630e8-ccff-4e3b-b851-0a1697fdf108",
   "metadata": {
    "slideshow": {
     "slide_type": "slide"
    }
   },
   "source": [
    "Como uma motivação para estudar as medidas de dispersão, consideremos a seguinte distribuição de notas é médias em uma classe.\n",
    "\n",
    "|Discente||| Notas||| Média|\n",
    "|:--:|:--:|:--:|:--:|:--:|:--:|:--:|\n",
    "|Antônio|5|5|5|5|5|5|\n",
    "|João |6|4|5|4|6|5|\n",
    "|José |10|5|5|5|0|5|\n",
    "|Pedro |10|10|5|0|0|5|\n",
    "\n",
    "Observa-se que:\n",
    "\n",
    "- as notas de Antônio não variaram;\n",
    "\n",
    "- as notas de João variaram menos do que as notas de José;\n",
    "\n",
    "- as notas de Pedro variaram mais do que as notas dos demais;"
   ]
  },
  {
   "cell_type": "markdown",
   "id": "2e94eb31-458e-4dcf-a7c2-55dae9986253",
   "metadata": {
    "slideshow": {
     "slide_type": "slide"
    }
   },
   "source": [
    "### Amplitude\n",
    "\n",
    "A amplitude $R$ fornece a maior variação possível dos dados. Ela é dada pela fórmula:\n",
    "$$R = X_{\\max} -  X_{\\min},$$\n",
    "onde $X_{\\max}$ é o valor máximo $X_{\\min}$ o mínimo entre os dados.\n",
    "\n",
    "Para *Series* e *DataFrames* os métodos `max()` e `min()` retornam respectivamente o máximo e o mínimo."
   ]
  },
  {
   "cell_type": "code",
   "execution_count": 34,
   "id": "eeaffed6-4f47-4b11-a9b2-b98c47f35631",
   "metadata": {},
   "outputs": [
    {
     "data": {
      "text/plain": [
       "15"
      ]
     },
     "execution_count": 34,
     "metadata": {},
     "output_type": "execute_result"
    }
   ],
   "source": [
    "R = pd.Series(dados).max()-pd.Series(dados).min(); R"
   ]
  },
  {
   "cell_type": "markdown",
   "id": "6e31c775-4fa5-422d-856c-6fbe57cc3f23",
   "metadata": {
    "slideshow": {
     "slide_type": "slide"
    }
   },
   "source": [
    "### Desvio Médio\n",
    "\n",
    "Para medir a dispersão dos dados em relação à média, é interessante analisar os desvios em torno da média, isto é, fazer a análise dos desvios:\n",
    "\n",
    "$$\n",
    "d_i=(X_i-\\overline{X}).\n",
    "$$\n",
    "\n",
    "Porém, a soma de todos os desvios é igual a zero, como podemos verificar com\n",
    "$$\n",
    "\\sum_{i=1}^{n} d_i= \\sum_{i=1}^{n} (X_i-\\overline{X})= \\sum_{i=1}^{n}X_i-\\sum_{i=1}^{n}\\overline{X}=\\sum_{i=1}^{n}X_i-{n}\\overline{X}=\n",
    "$$\n",
    "\n",
    "$$\n",
    "=\\sum_{i=1}^{n}X_i-n\\frac{\\sum_{i=1}^{n}X_i}{n}= \\sum_{i=1}^{n}X_i-\\sum_{i=1}^{n}X_i=0.\n",
    "$$"
   ]
  },
  {
   "cell_type": "markdown",
   "id": "787cde9d-2bc1-49d8-ba3e-49233fbe68c2",
   "metadata": {
    "slideshow": {
     "slide_type": "slide"
    }
   },
   "source": [
    "Logo, será preciso encontrar uma maneira de se trabalhar com os desvios sem que a soma dê zero. Dessa forma, define-se o *desvio médio* $DM$ pela fórmula:\n",
    "$$\n",
    "DM=\\sum_{i=1}^{n} \\frac{|d_i|}{n}= \\sum_{i=1}^{n} \\frac{|X_i-\\overline{X}|}{n}.\n",
    "$$\n",
    "\n",
    "Para *Series* e *DataFrames* o método `mad()` retorna a *desvio médio* dos valores."
   ]
  },
  {
   "cell_type": "code",
   "execution_count": 35,
   "id": "ed038f2d-58a2-41e1-b367-bdeaacd035b4",
   "metadata": {},
   "outputs": [
    {
     "data": {
      "text/plain": [
       "4.422222222222222"
      ]
     },
     "execution_count": 35,
     "metadata": {},
     "output_type": "execute_result"
    }
   ],
   "source": [
    "pd.Series(dados).mad()"
   ]
  },
  {
   "cell_type": "code",
   "execution_count": 36,
   "id": "489d3221-41d3-4f93-b07a-bfd171263335",
   "metadata": {},
   "outputs": [
    {
     "data": {
      "text/plain": [
       "0.807488319270341"
      ]
     },
     "execution_count": 36,
     "metadata": {},
     "output_type": "execute_result"
    }
   ],
   "source": [
    "pd.Series(z3).mad()"
   ]
  },
  {
   "cell_type": "markdown",
   "id": "e2b9b24e-b711-4247-b302-e3678aec87ee",
   "metadata": {
    "slideshow": {
     "slide_type": "slide"
    }
   },
   "source": [
    "**Observações**:\n",
    "\n",
    "* A *amplitude* não mede bem a dispersão dos dados porque usam-se apenas os valores extremos em vez de todos os elementos da distribuição. \n",
    "\n",
    "* O *desvio médio* é mais vantajoso do que a *amplitude*, visto que leva em consideração todos os valores da distribuição e é menos sensível a *outliers*.\n",
    "\n",
    "* No entanto, o *desvio médio* não é tão frequentemente empregado no ajuste de modelos, pois não apresenta propriedades matemáticas interessantes. Porém é bastante utilizado na validação e comparação de modelos.\n",
    "\n",
    "```{note} \n",
    "“Um _outlier_ é uma observação que se diferencia tanto das demais observações que levanta suspeitas de que aquela observação foi gerada por um mecanismo distinto” (Wikipedia, apud: Hawkins, 1980). Outlier é um dado que se distancia demasiadamente de todos os outros. Literalmente, o \"ponto fora da curva\".\n",
    "```"
   ]
  },
  {
   "cell_type": "markdown",
   "id": "24e0f4fa-4d25-4c06-951e-559e230dbedd",
   "metadata": {
    "slideshow": {
     "slide_type": "slide"
    }
   },
   "source": [
    "### Variância\n",
    "\n",
    "A *variância* $\\sigma^2$ é a medida de dispersão mais utilizada. Ela é dada pelo quociente entre a soma dos quadrados dos desvios e o número de elementos, cuja fórmula é dada por:\n",
    "$$\n",
    "\\sigma^2=\\sum_{i=1}^{N} \\frac{d_i^2}{N}= \\sum_{i=1}^{N} \\frac{(X_i-\\overline{X})^2}{N},\n",
    "$$\n",
    "\n",
    "onde $\\sigma^2$ indica a variância populacional (lê-se \"sigma ao quadrado\" ou \"sigma dois\"). Neste caso, $\\overline{X}$ e $N$ na formúla representam a média populacional e o tamanho populacional, respectivamente."
   ]
  },
  {
   "cell_type": "markdown",
   "id": "831fc800-db65-461e-9142-3773bd988f5d",
   "metadata": {
    "slideshow": {
     "slide_type": "slide"
    }
   },
   "source": [
    "### Variância Amostral\n",
    "\n",
    "Temos a seguinte definição de *variância amostral*:\n",
    "\n",
    "$$\n",
    "S^2=\\sum_{i=1}^{n} \\frac{d_i^2}{n-1}= \\sum_{i=1}^{n} \\frac{(X_i-\\overline{X})^2}{n-1}.\n",
    "$$\n",
    "\n",
    "Para *Series* e *DataFrames* o método `var()` retorna a *variância amostral* dos valores. "
   ]
  },
  {
   "cell_type": "code",
   "execution_count": 37,
   "id": "d59e2e33-85b1-4c10-8861-5ee13a70a10a",
   "metadata": {},
   "outputs": [
    {
     "data": {
      "text/plain": [
       "24.281609195402304"
      ]
     },
     "execution_count": 37,
     "metadata": {},
     "output_type": "execute_result"
    }
   ],
   "source": [
    "pd.Series(dados).var()"
   ]
  },
  {
   "cell_type": "code",
   "execution_count": 38,
   "id": "51f02d92-8cd9-4024-b55e-67cb202d3fb3",
   "metadata": {},
   "outputs": [
    {
     "data": {
      "text/plain": [
       "1.080578663807713"
      ]
     },
     "execution_count": 38,
     "metadata": {},
     "output_type": "execute_result"
    }
   ],
   "source": [
    "pd.Series(z3).var()"
   ]
  },
  {
   "cell_type": "markdown",
   "id": "a60d5a55-b114-4ddf-b3ca-7d5bc969e387",
   "metadata": {
    "slideshow": {
     "slide_type": "slide"
    }
   },
   "source": [
    "### Desvio Padrão\n",
    "\n",
    "Temos também outra medida de dispersão, que é a raiz quadrada da variância, chamada de *desvio padrão*. Assim,\n",
    "\n",
    "$$\\sigma = \\sqrt{\\sigma^2}$$\n",
    "\n",
    "é o desvio desvio padrão populacional, e\n",
    "\n",
    "$$S = \\sqrt{S^2}$$\n",
    "\n",
    "é o desvio desvio padrão amostral.\n",
    "\n",
    "Para o cálculo do *desvio padrão*, deve-se, primeiramente, determinar o valor da variância e, em seguida, extrair a raiz quadrada desse resultado.\n",
    "\n",
    "Para *Series* e *DataFrames* o método `std()` retorna o *desvio padrão* dos valores. "
   ]
  },
  {
   "cell_type": "code",
   "execution_count": 39,
   "id": "70130b32-f450-4912-8750-8167a16399bb",
   "metadata": {
    "slideshow": {
     "slide_type": "slide"
    }
   },
   "outputs": [
    {
     "data": {
      "text/plain": [
       "4.9276372832628725"
      ]
     },
     "execution_count": 39,
     "metadata": {},
     "output_type": "execute_result"
    }
   ],
   "source": [
    "pd.Series(dados).std()"
   ]
  },
  {
   "cell_type": "code",
   "execution_count": 40,
   "id": "e20d4788-9cdd-4728-b80c-4adef1365497",
   "metadata": {},
   "outputs": [
    {
     "data": {
      "text/plain": [
       "4.9276372832628725"
      ]
     },
     "execution_count": 40,
     "metadata": {},
     "output_type": "execute_result"
    }
   ],
   "source": [
    "np.sqrt(pd.Series(dados).var())"
   ]
  },
  {
   "cell_type": "code",
   "execution_count": 41,
   "id": "333f24f9-57d5-4640-9049-0aa2fab06721",
   "metadata": {
    "slideshow": {
     "slide_type": "-"
    }
   },
   "outputs": [
    {
     "data": {
      "text/plain": [
       "1.039508857012634"
      ]
     },
     "execution_count": 41,
     "metadata": {},
     "output_type": "execute_result"
    }
   ],
   "source": [
    "pd.Series(z3).std()"
   ]
  },
  {
   "cell_type": "code",
   "execution_count": 42,
   "id": "19c302c5-688b-4cc9-b7cc-fd9e1157a18e",
   "metadata": {
    "slideshow": {
     "slide_type": "-"
    }
   },
   "outputs": [
    {
     "data": {
      "text/plain": [
       "1.039508857012634"
      ]
     },
     "execution_count": 42,
     "metadata": {},
     "output_type": "execute_result"
    }
   ],
   "source": [
    "np.sqrt(pd.Series(z3).var())"
   ]
  },
  {
   "cell_type": "markdown",
   "id": "32306919-a74c-4c9f-8549-81ae7c933e2e",
   "metadata": {
    "slideshow": {
     "slide_type": "slide"
    }
   },
   "source": [
    "## Resumo Estatístico de uma *Series* ou *DataFrame*\n",
    "\n",
    "Para obtermos um resumo estatístico de uma *Series* ou *DataFrame* do *pandas*, utilizamos o método `describe`. O método `describe` exclui observações ausentes por padrão."
   ]
  },
  {
   "cell_type": "markdown",
   "id": "a1c6d963-19bb-439a-a8cb-8b7392b1f7b2",
   "metadata": {
    "slideshow": {
     "slide_type": "slide"
    }
   },
   "source": [
    "Exemplos:"
   ]
  },
  {
   "cell_type": "code",
   "execution_count": 43,
   "id": "be5184cf-48fb-40b1-bcae-2c7c0a6097b1",
   "metadata": {
    "slideshow": {
     "slide_type": "-"
    }
   },
   "outputs": [
    {
     "data": {
      "text/plain": [
       "count    30.000000\n",
       "mean     27.833333\n",
       "std       4.927637\n",
       "min      21.000000\n",
       "25%      24.000000\n",
       "50%      26.000000\n",
       "75%      32.750000\n",
       "max      36.000000\n",
       "dtype: float64"
      ]
     },
     "execution_count": 43,
     "metadata": {},
     "output_type": "execute_result"
    }
   ],
   "source": [
    "pd.Series(dados).describe()"
   ]
  },
  {
   "cell_type": "code",
   "execution_count": 44,
   "id": "f5559823-eaaa-4cbe-8bc9-89878f57718f",
   "metadata": {
    "slideshow": {
     "slide_type": "-"
    }
   },
   "outputs": [
    {
     "data": {
      "text/html": [
       "<div>\n",
       "<style scoped>\n",
       "    .dataframe tbody tr th:only-of-type {\n",
       "        vertical-align: middle;\n",
       "    }\n",
       "\n",
       "    .dataframe tbody tr th {\n",
       "        vertical-align: top;\n",
       "    }\n",
       "\n",
       "    .dataframe thead th {\n",
       "        text-align: right;\n",
       "    }\n",
       "</style>\n",
       "<table border=\"1\" class=\"dataframe\">\n",
       "  <thead>\n",
       "    <tr style=\"text-align: right;\">\n",
       "      <th></th>\n",
       "      <th>0</th>\n",
       "    </tr>\n",
       "  </thead>\n",
       "  <tbody>\n",
       "    <tr>\n",
       "      <th>count</th>\n",
       "      <td>100.000000</td>\n",
       "    </tr>\n",
       "    <tr>\n",
       "      <th>mean</th>\n",
       "      <td>0.473328</td>\n",
       "    </tr>\n",
       "    <tr>\n",
       "      <th>std</th>\n",
       "      <td>0.280552</td>\n",
       "    </tr>\n",
       "    <tr>\n",
       "      <th>min</th>\n",
       "      <td>0.006874</td>\n",
       "    </tr>\n",
       "    <tr>\n",
       "      <th>25%</th>\n",
       "      <td>0.251347</td>\n",
       "    </tr>\n",
       "    <tr>\n",
       "      <th>50%</th>\n",
       "      <td>0.458389</td>\n",
       "    </tr>\n",
       "    <tr>\n",
       "      <th>75%</th>\n",
       "      <td>0.705439</td>\n",
       "    </tr>\n",
       "    <tr>\n",
       "      <th>max</th>\n",
       "      <td>0.943035</td>\n",
       "    </tr>\n",
       "  </tbody>\n",
       "</table>\n",
       "</div>"
      ],
      "text/plain": [
       "                0\n",
       "count  100.000000\n",
       "mean     0.473328\n",
       "std      0.280552\n",
       "min      0.006874\n",
       "25%      0.251347\n",
       "50%      0.458389\n",
       "75%      0.705439\n",
       "max      0.943035"
      ]
     },
     "execution_count": 44,
     "metadata": {},
     "output_type": "execute_result"
    }
   ],
   "source": [
    "pd.DataFrame(z2).describe()"
   ]
  },
  {
   "cell_type": "markdown",
   "id": "b70bb50f-71a9-4d76-9d55-de3336c393d6",
   "metadata": {
    "slideshow": {
     "slide_type": "slide"
    }
   },
   "source": [
    "**Observações**\n",
    "\n",
    "* Se as entradas da *Series* não forem numéricas, o método `describe` retornará uma tabela contendo as quantidades de valores únicos, o valor mais frequente e a quantidade de elementos do valor mais frequente.\n",
    "\n",
    "* No caso de um *DataFrame* que contenha colunas numéricas e colunas não-numéricas, o método `describe` irá considerar apenas as colunas numéricas."
   ]
  },
  {
   "cell_type": "markdown",
   "id": "822491ad-4c29-422c-bdba-a1d760fea6d4",
   "metadata": {
    "slideshow": {
     "slide_type": "slide"
    }
   },
   "source": [
    "Exemplos:"
   ]
  },
  {
   "cell_type": "code",
   "execution_count": 45,
   "id": "fc448213-f49a-4864-a3c3-ebd562bf9447",
   "metadata": {
    "slideshow": {
     "slide_type": "-"
    }
   },
   "outputs": [],
   "source": [
    "serie_ex1 = pd.Series(['a','b','c','d','e','f','g','h','i','j'])\n",
    "serie_ex2 = pd.Series(range(10))"
   ]
  },
  {
   "cell_type": "code",
   "execution_count": 46,
   "id": "c2b2b09f-7be8-4511-b78e-53b75e630ec3",
   "metadata": {},
   "outputs": [
    {
     "data": {
      "text/plain": [
       "count     10\n",
       "unique    10\n",
       "top        h\n",
       "freq       1\n",
       "dtype: object"
      ]
     },
     "execution_count": 46,
     "metadata": {},
     "output_type": "execute_result"
    }
   ],
   "source": [
    "serie_ex1.describe()"
   ]
  },
  {
   "cell_type": "code",
   "execution_count": 47,
   "id": "b7d2b135-8e9a-4539-8b86-eba91d5e2765",
   "metadata": {},
   "outputs": [
    {
     "data": {
      "text/plain": [
       "count    10.00000\n",
       "mean      4.50000\n",
       "std       3.02765\n",
       "min       0.00000\n",
       "25%       2.25000\n",
       "50%       4.50000\n",
       "75%       6.75000\n",
       "max       9.00000\n",
       "dtype: float64"
      ]
     },
     "execution_count": 47,
     "metadata": {},
     "output_type": "execute_result"
    }
   ],
   "source": [
    "serie_ex2.describe()"
   ]
  },
  {
   "cell_type": "markdown",
   "id": "5a554a45-b44f-4d24-a1ea-dea7c6f1543a",
   "metadata": {
    "slideshow": {
     "slide_type": "slide"
    }
   },
   "source": [
    "Exemplo:"
   ]
  },
  {
   "cell_type": "code",
   "execution_count": 48,
   "id": "bccb8d74-99a1-420c-b05e-51284998bb5f",
   "metadata": {},
   "outputs": [],
   "source": [
    "df_exemplo = pd.concat([serie_ex1, serie_ex2], axis=1)"
   ]
  },
  {
   "cell_type": "code",
   "execution_count": 49,
   "id": "c1d7a8cb-0592-4d61-bcba-0ad01f08bbb7",
   "metadata": {
    "slideshow": {
     "slide_type": "-"
    }
   },
   "outputs": [
    {
     "data": {
      "text/html": [
       "<div>\n",
       "<style scoped>\n",
       "    .dataframe tbody tr th:only-of-type {\n",
       "        vertical-align: middle;\n",
       "    }\n",
       "\n",
       "    .dataframe tbody tr th {\n",
       "        vertical-align: top;\n",
       "    }\n",
       "\n",
       "    .dataframe thead th {\n",
       "        text-align: right;\n",
       "    }\n",
       "</style>\n",
       "<table border=\"1\" class=\"dataframe\">\n",
       "  <thead>\n",
       "    <tr style=\"text-align: right;\">\n",
       "      <th></th>\n",
       "      <th>0</th>\n",
       "      <th>1</th>\n",
       "    </tr>\n",
       "  </thead>\n",
       "  <tbody>\n",
       "    <tr>\n",
       "      <th>0</th>\n",
       "      <td>a</td>\n",
       "      <td>0</td>\n",
       "    </tr>\n",
       "    <tr>\n",
       "      <th>1</th>\n",
       "      <td>b</td>\n",
       "      <td>1</td>\n",
       "    </tr>\n",
       "    <tr>\n",
       "      <th>2</th>\n",
       "      <td>c</td>\n",
       "      <td>2</td>\n",
       "    </tr>\n",
       "    <tr>\n",
       "      <th>3</th>\n",
       "      <td>d</td>\n",
       "      <td>3</td>\n",
       "    </tr>\n",
       "    <tr>\n",
       "      <th>4</th>\n",
       "      <td>e</td>\n",
       "      <td>4</td>\n",
       "    </tr>\n",
       "    <tr>\n",
       "      <th>5</th>\n",
       "      <td>f</td>\n",
       "      <td>5</td>\n",
       "    </tr>\n",
       "    <tr>\n",
       "      <th>6</th>\n",
       "      <td>g</td>\n",
       "      <td>6</td>\n",
       "    </tr>\n",
       "    <tr>\n",
       "      <th>7</th>\n",
       "      <td>h</td>\n",
       "      <td>7</td>\n",
       "    </tr>\n",
       "    <tr>\n",
       "      <th>8</th>\n",
       "      <td>i</td>\n",
       "      <td>8</td>\n",
       "    </tr>\n",
       "    <tr>\n",
       "      <th>9</th>\n",
       "      <td>j</td>\n",
       "      <td>9</td>\n",
       "    </tr>\n",
       "  </tbody>\n",
       "</table>\n",
       "</div>"
      ],
      "text/plain": [
       "   0  1\n",
       "0  a  0\n",
       "1  b  1\n",
       "2  c  2\n",
       "3  d  3\n",
       "4  e  4\n",
       "5  f  5\n",
       "6  g  6\n",
       "7  h  7\n",
       "8  i  8\n",
       "9  j  9"
      ]
     },
     "execution_count": 49,
     "metadata": {},
     "output_type": "execute_result"
    }
   ],
   "source": [
    "df_exemplo"
   ]
  },
  {
   "cell_type": "markdown",
   "id": "8738bfb6-f59f-44f4-9738-b681f50629c9",
   "metadata": {
    "slideshow": {
     "slide_type": "slide"
    }
   },
   "source": [
    "Exemplo:"
   ]
  },
  {
   "cell_type": "code",
   "execution_count": 50,
   "id": "6da2c9a2-63ca-4b1f-bdf5-10bead2b44f2",
   "metadata": {},
   "outputs": [
    {
     "data": {
      "text/html": [
       "<div>\n",
       "<style scoped>\n",
       "    .dataframe tbody tr th:only-of-type {\n",
       "        vertical-align: middle;\n",
       "    }\n",
       "\n",
       "    .dataframe tbody tr th {\n",
       "        vertical-align: top;\n",
       "    }\n",
       "\n",
       "    .dataframe thead th {\n",
       "        text-align: right;\n",
       "    }\n",
       "</style>\n",
       "<table border=\"1\" class=\"dataframe\">\n",
       "  <thead>\n",
       "    <tr style=\"text-align: right;\">\n",
       "      <th></th>\n",
       "      <th>1</th>\n",
       "    </tr>\n",
       "  </thead>\n",
       "  <tbody>\n",
       "    <tr>\n",
       "      <th>count</th>\n",
       "      <td>10.00000</td>\n",
       "    </tr>\n",
       "    <tr>\n",
       "      <th>mean</th>\n",
       "      <td>4.50000</td>\n",
       "    </tr>\n",
       "    <tr>\n",
       "      <th>std</th>\n",
       "      <td>3.02765</td>\n",
       "    </tr>\n",
       "    <tr>\n",
       "      <th>min</th>\n",
       "      <td>0.00000</td>\n",
       "    </tr>\n",
       "    <tr>\n",
       "      <th>25%</th>\n",
       "      <td>2.25000</td>\n",
       "    </tr>\n",
       "    <tr>\n",
       "      <th>50%</th>\n",
       "      <td>4.50000</td>\n",
       "    </tr>\n",
       "    <tr>\n",
       "      <th>75%</th>\n",
       "      <td>6.75000</td>\n",
       "    </tr>\n",
       "    <tr>\n",
       "      <th>max</th>\n",
       "      <td>9.00000</td>\n",
       "    </tr>\n",
       "  </tbody>\n",
       "</table>\n",
       "</div>"
      ],
      "text/plain": [
       "              1\n",
       "count  10.00000\n",
       "mean    4.50000\n",
       "std     3.02765\n",
       "min     0.00000\n",
       "25%     2.25000\n",
       "50%     4.50000\n",
       "75%     6.75000\n",
       "max     9.00000"
      ]
     },
     "execution_count": 50,
     "metadata": {},
     "output_type": "execute_result"
    }
   ],
   "source": [
    "df_exemplo.describe()"
   ]
  },
  {
   "cell_type": "markdown",
   "id": "94afd6f5-b170-462c-bf1a-f375c1d7dfd9",
   "metadata": {
    "slideshow": {
     "slide_type": "slide"
    }
   },
   "source": [
    "```{hint}\n",
    "É possível controlar o que será considerado em `describe` utilizando os argumentos `include` ou `exclude`. No caso, devemos passar uma lista contendo os parâmetros a serem incluídos ou excluídos como argumento. Para uma lista dos parâmetros disponíveis, consulte a documentação da função `select_dtypes()`.\n",
    "```"
   ]
  },
  {
   "cell_type": "markdown",
   "id": "2cb94bb6-bcd2-4325-84cb-319508ae5e51",
   "metadata": {
    "slideshow": {
     "slide_type": "slide"
    }
   },
   "source": [
    "Exemplos:"
   ]
  },
  {
   "cell_type": "code",
   "execution_count": 51,
   "id": "05c9261e-c22b-4b59-bf28-843df4d064f4",
   "metadata": {
    "slideshow": {
     "slide_type": "-"
    }
   },
   "outputs": [
    {
     "data": {
      "text/html": [
       "<div>\n",
       "<style scoped>\n",
       "    .dataframe tbody tr th:only-of-type {\n",
       "        vertical-align: middle;\n",
       "    }\n",
       "\n",
       "    .dataframe tbody tr th {\n",
       "        vertical-align: top;\n",
       "    }\n",
       "\n",
       "    .dataframe thead th {\n",
       "        text-align: right;\n",
       "    }\n",
       "</style>\n",
       "<table border=\"1\" class=\"dataframe\">\n",
       "  <thead>\n",
       "    <tr style=\"text-align: right;\">\n",
       "      <th></th>\n",
       "      <th>0</th>\n",
       "    </tr>\n",
       "  </thead>\n",
       "  <tbody>\n",
       "    <tr>\n",
       "      <th>count</th>\n",
       "      <td>10</td>\n",
       "    </tr>\n",
       "    <tr>\n",
       "      <th>unique</th>\n",
       "      <td>10</td>\n",
       "    </tr>\n",
       "    <tr>\n",
       "      <th>top</th>\n",
       "      <td>h</td>\n",
       "    </tr>\n",
       "    <tr>\n",
       "      <th>freq</th>\n",
       "      <td>1</td>\n",
       "    </tr>\n",
       "  </tbody>\n",
       "</table>\n",
       "</div>"
      ],
      "text/plain": [
       "         0\n",
       "count   10\n",
       "unique  10\n",
       "top      h\n",
       "freq     1"
      ]
     },
     "execution_count": 51,
     "metadata": {},
     "output_type": "execute_result"
    }
   ],
   "source": [
    "df_exemplo.describe(exclude='number')"
   ]
  },
  {
   "cell_type": "code",
   "execution_count": 52,
   "id": "a5d42102-14eb-490a-9947-cea703fd5cfd",
   "metadata": {},
   "outputs": [
    {
     "data": {
      "text/html": [
       "<div>\n",
       "<style scoped>\n",
       "    .dataframe tbody tr th:only-of-type {\n",
       "        vertical-align: middle;\n",
       "    }\n",
       "\n",
       "    .dataframe tbody tr th {\n",
       "        vertical-align: top;\n",
       "    }\n",
       "\n",
       "    .dataframe thead th {\n",
       "        text-align: right;\n",
       "    }\n",
       "</style>\n",
       "<table border=\"1\" class=\"dataframe\">\n",
       "  <thead>\n",
       "    <tr style=\"text-align: right;\">\n",
       "      <th></th>\n",
       "      <th>0</th>\n",
       "    </tr>\n",
       "  </thead>\n",
       "  <tbody>\n",
       "    <tr>\n",
       "      <th>count</th>\n",
       "      <td>10</td>\n",
       "    </tr>\n",
       "    <tr>\n",
       "      <th>unique</th>\n",
       "      <td>10</td>\n",
       "    </tr>\n",
       "    <tr>\n",
       "      <th>top</th>\n",
       "      <td>h</td>\n",
       "    </tr>\n",
       "    <tr>\n",
       "      <th>freq</th>\n",
       "      <td>1</td>\n",
       "    </tr>\n",
       "  </tbody>\n",
       "</table>\n",
       "</div>"
      ],
      "text/plain": [
       "         0\n",
       "count   10\n",
       "unique  10\n",
       "top      h\n",
       "freq     1"
      ]
     },
     "execution_count": 52,
     "metadata": {},
     "output_type": "execute_result"
    }
   ],
   "source": [
    "df_exemplo.describe(include='object')"
   ]
  },
  {
   "cell_type": "markdown",
   "id": "aa453f4d-3a27-49e0-b408-f8f910fc3e75",
   "metadata": {
    "slideshow": {
     "slide_type": "slide"
    }
   },
   "source": [
    "Exemplo:"
   ]
  },
  {
   "cell_type": "code",
   "execution_count": 53,
   "id": "4ecbdfc1-d9c7-4baf-8c3d-609ef0823f91",
   "metadata": {
    "slideshow": {
     "slide_type": "-"
    }
   },
   "outputs": [
    {
     "data": {
      "text/html": [
       "<div>\n",
       "<style scoped>\n",
       "    .dataframe tbody tr th:only-of-type {\n",
       "        vertical-align: middle;\n",
       "    }\n",
       "\n",
       "    .dataframe tbody tr th {\n",
       "        vertical-align: top;\n",
       "    }\n",
       "\n",
       "    .dataframe thead th {\n",
       "        text-align: right;\n",
       "    }\n",
       "</style>\n",
       "<table border=\"1\" class=\"dataframe\">\n",
       "  <thead>\n",
       "    <tr style=\"text-align: right;\">\n",
       "      <th></th>\n",
       "      <th>0</th>\n",
       "      <th>1</th>\n",
       "    </tr>\n",
       "  </thead>\n",
       "  <tbody>\n",
       "    <tr>\n",
       "      <th>count</th>\n",
       "      <td>10</td>\n",
       "      <td>10.00000</td>\n",
       "    </tr>\n",
       "    <tr>\n",
       "      <th>unique</th>\n",
       "      <td>10</td>\n",
       "      <td>NaN</td>\n",
       "    </tr>\n",
       "    <tr>\n",
       "      <th>top</th>\n",
       "      <td>h</td>\n",
       "      <td>NaN</td>\n",
       "    </tr>\n",
       "    <tr>\n",
       "      <th>freq</th>\n",
       "      <td>1</td>\n",
       "      <td>NaN</td>\n",
       "    </tr>\n",
       "    <tr>\n",
       "      <th>mean</th>\n",
       "      <td>NaN</td>\n",
       "      <td>4.50000</td>\n",
       "    </tr>\n",
       "    <tr>\n",
       "      <th>std</th>\n",
       "      <td>NaN</td>\n",
       "      <td>3.02765</td>\n",
       "    </tr>\n",
       "    <tr>\n",
       "      <th>min</th>\n",
       "      <td>NaN</td>\n",
       "      <td>0.00000</td>\n",
       "    </tr>\n",
       "    <tr>\n",
       "      <th>25%</th>\n",
       "      <td>NaN</td>\n",
       "      <td>2.25000</td>\n",
       "    </tr>\n",
       "    <tr>\n",
       "      <th>50%</th>\n",
       "      <td>NaN</td>\n",
       "      <td>4.50000</td>\n",
       "    </tr>\n",
       "    <tr>\n",
       "      <th>75%</th>\n",
       "      <td>NaN</td>\n",
       "      <td>6.75000</td>\n",
       "    </tr>\n",
       "    <tr>\n",
       "      <th>max</th>\n",
       "      <td>NaN</td>\n",
       "      <td>9.00000</td>\n",
       "    </tr>\n",
       "  </tbody>\n",
       "</table>\n",
       "</div>"
      ],
      "text/plain": [
       "          0         1\n",
       "count    10  10.00000\n",
       "unique   10       NaN\n",
       "top       h       NaN\n",
       "freq      1       NaN\n",
       "mean    NaN   4.50000\n",
       "std     NaN   3.02765\n",
       "min     NaN   0.00000\n",
       "25%     NaN   2.25000\n",
       "50%     NaN   4.50000\n",
       "75%     NaN   6.75000\n",
       "max     NaN   9.00000"
      ]
     },
     "execution_count": 53,
     "metadata": {},
     "output_type": "execute_result"
    }
   ],
   "source": [
    "df_exemplo.describe(include='all')"
   ]
  }
 ],
 "metadata": {
  "kernelspec": {
   "display_name": "Python 3",
   "language": "python",
   "name": "python3"
  },
  "language_info": {
   "codemirror_mode": {
    "name": "ipython",
    "version": 3
   },
   "file_extension": ".py",
   "mimetype": "text/x-python",
   "name": "python",
   "nbconvert_exporter": "python",
   "pygments_lexer": "ipython3",
   "version": "3.8.8"
  }
 },
 "nbformat": 4,
 "nbformat_minor": 5
}
