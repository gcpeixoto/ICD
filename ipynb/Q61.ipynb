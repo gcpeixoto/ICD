{
 "cells": [
  {
   "cell_type": "markdown",
   "id": "9c028aaa",
   "metadata": {},
   "source": [
    "## Questionário 61 (Q61)"
   ]
  },
  {
   "cell_type": "markdown",
   "id": "0932fad3",
   "metadata": {},
   "source": [
    "\n",
    "\n",
    "Orientações: \n",
    "\n",
    "- Registre suas respostas no questionário de mesmo nome no SIGAA.\n",
    "- O tempo de registro das respostas no questionário será de 10 minutos. Portanto, resolva primeiro as questões e depois registre-as.\n",
    "- Haverá apenas 1 (uma) tentativa de resposta.\n",
    "- Submeta seu arquivo-fonte (utilizado para resolver as questões) em formato _.ipynb_ pelo SIGAA anexando-o à Tarefa denominada \"Envio de arquivo\" correspondente ao questionário.\n",
    "\n",
    "*Nota:* o arquivo-fonte será utilizado apenas como prova de execução da tarefa. Nenhuma avaliação será feita quanto ao estilo de programação.\n",
    "\n",
    "<hr>"
   ]
  },
  {
   "cell_type": "markdown",
   "id": "ee30f903",
   "metadata": {},
   "source": [
    "**Questão 1.** Observe os gráficos abaixo e julgue os itens a seguir.\n",
    "\n",
    "```{figure} ../figs/q/q61.png\n",
    "---\n",
    "width: 600px\n",
    "name: convex\n",
    "---\n",
    "```\n",
    "\n",
    "i) existe uma função convexa entre as quatro plotadas.\n",
    "\n",
    "ii) uma entre as funções plotadas possui convexidade parcial.\n",
    "\n",
    "iii) duas entre as funções plotadas não são convexas.\n",
    "\n",
    "Assinale a alternativa correta:\n",
    "\n",
    "A. São corretos i) e ii), apenas.\n",
    "\n",
    "B. Apenas i) é correto.\n",
    "\n",
    "C. São corretos i) e iii), apenas.\n",
    "\n",
    "D. n.d.a."
   ]
  },
  {
   "cell_type": "markdown",
   "id": "ab24149b",
   "metadata": {},
   "source": [
    "**Questão 2.** A função a seguir simula a curva do _potencial de ação_ de uma membrana:\n",
    "\n",
    "$$P(x) = \\dfrac{1.0}{(x - 0.5)^2 + 0.01} - \\dfrac{1.0}{(x - 0.8)^2 + 0.04} - 70.$$\n",
    "\n",
    "Use computação simbólica para calcular uma aproximação para $P'(x=0)$ e assinale a alternativa correta.\n",
    "\n",
    "A. -67.62\n",
    "\n",
    "\n",
    "B. 0.25\n",
    "\n",
    "\n",
    "C. 11.33\n",
    "\n",
    "\n",
    "D. 0.00\n",
    "\n",
    "Nota: Use `sympy.subs(x,x0)`."
   ]
  },
  {
   "cell_type": "markdown",
   "id": "b8ae46de",
   "metadata": {},
   "source": [
    "**Questão 3.** Considere a função\n",
    "\n",
    "$$f(x) =  - \\dfrac{1}{e^x \\text{sen}(6x)},$$\n",
    "\n",
    "definida no domínio $[-0.5,-0.1]$. Assinale a alternativa correta:\n",
    "\n",
    "A. $f(x)$ não é convexa e $f'(x) = -\\frac{e^{x}}{\\text{sen}{\\left(6 x \\right)}} + \\frac{6 e^{- x} \\cos{\\left(6 x \\right)}}{\\text{sen}^{2}{\\left(6 x \\right)}}$\n",
    "\n",
    "B. $f(x)$ é convexa e $f'(x) = \\frac{e^{- x}}{\\text{sen}{\\left(6 x \\right)}} + \\frac{6 e^{- x} \\cos{\\left(6 x \\right)}}{\\text{sen}^{2}{\\left(6 x \\right)}}$\n",
    "\n",
    "C. $f(x)$ não é convexa e $f'(x) = \\frac{e^{x}}{\\text{sen}{\\left(6 x \\right)}} + \\frac{6 e^{- x} \\cos{\\left(6 x \\right)}}{\\text{sen}^{2}{\\left(6 x \\right)}}$\n",
    "\n",
    "D. $f(x)$ é convexa e $f'(x) = -\\frac{e^{- x}}{\\text{sen}{\\left(6 x \\right)}} + \\frac{6 e^{- x} \\cos{\\left(6 x \\right)}}{\\text{sen}^{2}{\\left(6 x \\right)}}$"
   ]
  }
 ],
 "metadata": {
  "kernelspec": {
   "display_name": "Python 3",
   "language": "python",
   "name": "python3"
  },
  "language_info": {
   "codemirror_mode": {
    "name": "ipython",
    "version": 3
   },
   "file_extension": ".py",
   "mimetype": "text/x-python",
   "name": "python",
   "nbconvert_exporter": "python",
   "pygments_lexer": "ipython3",
   "version": "3.8.8"
  }
 },
 "nbformat": 4,
 "nbformat_minor": 5
}
