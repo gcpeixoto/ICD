{
 "cells": [
  {
   "cell_type": "markdown",
   "id": "edfc2eb1",
   "metadata": {},
   "source": [
    "## Questionário 44 (Q44)"
   ]
  },
  {
   "cell_type": "markdown",
   "id": "850415d9",
   "metadata": {},
   "source": [
    "Orientações: \n",
    "\n",
    "- Registre suas respostas no questionário de mesmo nome no SIGAA.\n",
    "- O tempo de registro das respostas no questionário será de 10 minutos. Portanto, resolva primeiro as questões e depois registre-as.\n",
    "- Haverá apenas 1 (uma) tentativa de resposta.\n",
    "- Submeta seu arquivo-fonte (utilizado para resolver as questões) em formato _.ipynb_ pelo SIGAA anexando-a à Tarefa denominada \"Envio de arquivo\" correspondente ao questionário.\n",
    "\n",
    "*Nota:* o arquivo-fonte será utilizado apenas como prova de execução da tarefa. Nenhuma avaliação será feita quanto ao estilo de programação.\n",
    "\n",
    "<hr>"
   ]
  },
  {
   "cell_type": "markdown",
   "id": "41f1a425",
   "metadata": {},
   "source": [
    "**Questão 1.** O _dataset_ [covid19-weekly-trends-in-europe](https://github.com/gcpeixoto/ICD/blob/main/database/covid19-weekly-trends-in-europe.csv) contém tendências semanais de casos de Covid-19 em diferentes países da Europa com referência ao dia 8 de novembro de 2021. Separe a série correspondente ao número de casos nos últimos 7 dias (_Cases in the last 7 days_) entre países pertencentes à União Europeia (_UE_) e não pertencentes à UE (_non-UE_). Assinale a alternativa que associa corretamente o grupo de países ao valor do coeficiente de Pearson e cuja distribuição desse grupo é a mais assimétrica.\n",
    "\n",
    "A. _non-UE_: 620983827.08\n",
    "\n",
    "B. _UE_: 620983827.08\n",
    "\n",
    "C. _UE_: 750983827.02\n",
    "\n",
    "D. _non-UE_: 8290903184.71"
   ]
  },
  {
   "cell_type": "markdown",
   "id": "192fb6e9",
   "metadata": {},
   "source": [
    "<hr>\n",
    "\n",
    "**Questão 2.** Analise as seguintes distribuições normais aleatórias:\n",
    "\n",
    "```{figure} ../figs/q/q44-1.png\n",
    "---\n",
    "width: 600px\n",
    "name: q44-1\n",
    "---\n",
    "```\n",
    "\n",
    "Assinale a alternativa em que as curvas aparecem em ordem crescente de desvio padrão.\n",
    "\n",
    "A. (A, B, C, D)\n",
    "\n",
    "B. (B, A, D, C)\n",
    "\n",
    "C. (B, A, C, D)\n",
    "\n",
    "D. (A, B, D, C)"
   ]
  },
  {
   "cell_type": "markdown",
   "id": "f183b0ba",
   "metadata": {},
   "source": [
    "<hr>\n",
    "\n",
    "**Questão 3.** O código\n",
    "\n",
    "```python\n",
    "import numpy as np, from scipy.stats import norm\n",
    "N, band = 100, 0.5\n",
    "\n",
    "np.random.seed(2)\n",
    "X = np.concatenate(\n",
    "    (np.random.normal(0, 1, int(0.3 * N)),\n",
    "     np.random.normal(5, 1, int(0.7 * N))))[:, np.newaxis]\n",
    "Xp = np.linspace(-5, 10, 1000)[:, np.newaxis]\n",
    "\n",
    "dens = 0.3*norm(0,1).pdf(Xp[:, 0]) + 0.7*norm(5,1).pdf(Xp[:, 0])\n",
    "```\n",
    "gera a distribuição sombreada `dens` apresentada nas figuras de (a) a (d) abaixo. \n",
    "\n",
    "```{figure} ../figs/q/q44-2.png\n",
    "---\n",
    "width: 600px\n",
    "name: q44-2\n",
    "---\n",
    "```\n",
    "Com base nos _kernels_ disponíveis na classe `KernelDensity`\n",
    "do módulo _scikit-learn_, assinale a alternativa que melhor preeche as lacunas na sentença:\n",
    "\n",
    "*\"O kernel ______ aproxima a distribuição em ______, ao passo que o kernel ______ aproxima a distribuição mostrada em ______.\"*\n",
    "\n",
    "\n",
    "A. _'linear'_ / (a) / _'gaussian'_ / (d)\n",
    "\n",
    "B. _'linear'_ / (b) / _'tophat'_ / (a)\n",
    "\n",
    "C. _'epanechnikov'_ / \\(c\\) / _'linear'_ / (d)\n",
    "\n",
    "D. _'gaussian'_ / (b) / _'epanechnikov'_ / \\(c\\)"
   ]
  }
 ],
 "metadata": {
  "kernelspec": {
   "display_name": "Python 3",
   "language": "python",
   "name": "python3"
  },
  "language_info": {
   "codemirror_mode": {
    "name": "ipython",
    "version": 3
   },
   "file_extension": ".py",
   "mimetype": "text/x-python",
   "name": "python",
   "nbconvert_exporter": "python",
   "pygments_lexer": "ipython3",
   "version": "3.8.8"
  }
 },
 "nbformat": 4,
 "nbformat_minor": 5
}
